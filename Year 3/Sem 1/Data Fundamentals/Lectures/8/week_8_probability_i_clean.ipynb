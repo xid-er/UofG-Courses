{
 "cells": [
  {
   "cell_type": "markdown",
   "metadata": {},
   "source": [
    "\n",
    "# Week 8: Probability: Part I\n",
    "## Data Fundamentals (H)\n",
    "##  Probability theory, Bayes' Rule, discrete and continuous random variables\n",
    "----\n",
    " ##### DF(H) - University of Glasgow - John H. Williamson - 2020/2021"
   ]
  },
  {
   "cell_type": "markdown",
   "metadata": {},
   "source": [
    "# Summary\n",
    "By the end of this unit you should know:\n",
    "* what probability is, and different philosophical interpretations of it\n",
    "* what inverse and forward probability are\n",
    "* what a random variable, distribution, probability mass/density function are\n",
    "* what the empirical distribution is and how it is computed from data\n",
    "* what expectation/expected value is\n",
    "* the axioms of probability theory\n",
    "* conditional, marginal and joint distribution\n",
    "* what entropy is and how it can be computed\n",
    "* Bayes' rule and how to apply it problems\n",
    "* what bigrams are and how they can be used\n",
    "* representation of probability as odds, log-odds and log-probabilities and the numerical effects of these representations\n"
   ]
  },
  {
   "cell_type": "code",
   "execution_count": 1,
   "metadata": {},
   "outputs": [
    {
     "data": {
      "text/html": [
       "\n",
       "<script>\n",
       "  function code_toggle() {\n",
       "    if (code_shown){\n",
       "      $('div.input').hide('500');\n",
       "      $('#toggleButton').val('Show Code')\n",
       "    } else {\n",
       "      $('div.input').show('500');\n",
       "      $('#toggleButton').val('Hide Code')\n",
       "    }\n",
       "    code_shown = !code_shown\n",
       "  }\n",
       "\n",
       "  $( document ).ready(function(){\n",
       "    code_shown=false;\n",
       "    $('div.input').hide()\n",
       "  });\n",
       "</script>\n",
       "<form action=\"javascript:code_toggle()\"><input type=\"submit\" id=\"toggleButton\" value=\"Show Code\"></form>"
      ],
      "text/plain": [
       "<IPython.core.display.HTML object>"
      ]
     },
     "execution_count": 1,
     "metadata": {},
     "output_type": "execute_result"
    }
   ],
   "source": [
    "import IPython.display\n",
    "IPython.display.HTML(\"\"\"\n",
    "<script>\n",
    "  function code_toggle() {\n",
    "    if (code_shown){\n",
    "      $('div.input').hide('500');\n",
    "      $('#toggleButton').val('Show Code')\n",
    "    } else {\n",
    "      $('div.input').show('500');\n",
    "      $('#toggleButton').val('Hide Code')\n",
    "    }\n",
    "    code_shown = !code_shown\n",
    "  }\n",
    "\n",
    "  $( document ).ready(function(){\n",
    "    code_shown=false;\n",
    "    $('div.input').hide()\n",
    "  });\n",
    "</script>\n",
    "<form action=\"javascript:code_toggle()\"><input type=\"submit\" id=\"toggleButton\" value=\"Show Code\"></form>\"\"\")"
   ]
  },
  {
   "cell_type": "code",
   "execution_count": null,
   "metadata": {
    "ExecuteTime": {
     "end_time": "2020-11-09T14:09:57.071502Z",
     "start_time": "2020-11-09T14:09:55.240112Z"
    }
   },
   "outputs": [],
   "source": [
    "import numpy as np\n",
    "import matplotlib as mpl\n",
    "import matplotlib.pyplot as plt\n",
    "from jhwutils.float_inspector import print_shape_html, print_float, print_float_html\n",
    "from jhwutils.matrices import show_boxed_tensor_latex, print_matrix\n",
    "import jhwutils.image_audio as ia\n",
    "import numpy as np\n",
    "%matplotlib inline\n",
    "plt.rc('figure', figsize=(8.0, 4.0), dpi=140)"
   ]
  },
  {
   "cell_type": "markdown",
   "metadata": {},
   "source": [
    "$$\\newcommand{\\vec}[1]{{\\bf #1} } \n",
    "\\newenvironment{examinable}{}{{\\ \\ [\\spadesuit]}}\n",
    "\\newcommand{\\real}{\\mathbb{R}}\n",
    "\\newcommand{\\expect}[1]{\\mathbb{E}[#1]}\n",
    "\\DeclareMathOperator*{\\argmin}{arg\\,min}\n",
    "\\begin{examinable}\n",
    "\\vec{x}\n",
    "\\real\n",
    "\\end{examinable}\n",
    "$$\n"
   ]
  },
  {
   "cell_type": "markdown",
   "metadata": {},
   "source": [
    "# Example: the lost submarine\n",
    "\n",
    "The *USS Scorpion* was a nuclear armed submarine that disappeared on 30th June 1968 somewhere in the Atlantic.  [This was a year in which *four* submarines were inexplicably lost at sea -- **the 1968 submarine mystery**.]\n",
    "\n",
    "<img src=\"imgs/scorpion.jpg\">\n",
    "\n",
    "*Image: USS Scorpion at sea. Credit: US Navy, public domain*\n",
    "\n",
    "The search for the submarine was one of the first times **probabilistic methods** were used for searching. The US Navy needed to find the submarine and recover it as fast as possible. Probabilistic methods allow us to reason *precisely* about things we are uncertain about -- like where the submarine is. Probability gives a concrete, computable representations for an uncertain world.\n",
    "\n",
    "Imagine dividing the possible search areas into grid squares. Then, for example, it makes sense to ask *what is the probability that the submarine lies within a specific square?*. A map like this might be produced, where squares are colored according to their probability:\n",
    "\n",
    "<img src=\"imgs/sea_grid.png\">\n",
    "\n",
    "## But what happened to the Scorpion?\n",
    "\n",
    "\n"
   ]
  },
  {
   "cell_type": "markdown",
   "metadata": {},
   "source": [
    "# Probability\n",
    "This section of the course is concerned with **stochastic elements**; the role of uncertainty, randomness and statistics in computation. The fundamental mathematical principles are drawn from **probability theory**, which gives us simple and powerful ways of manipulating uncertain values, and lets us do useful operations like inferring the most likely hypotheses given some observations. Probability theory is a simple, consistent, and effective way to manipulate uncertainty."
   ]
  },
  {
   "cell_type": "markdown",
   "metadata": {},
   "source": [
    "## What is probability?\n",
    "\n",
    "[The following definitions are directly adapted from Peter Norvig's Probability notebook: http://nbviewer.jupyter.org/url/norvig.com/ipython/Probability.ipynb]\n",
    "\n",
    "* **Experiment** (or **trial**) An occurrence with an uncertain outcome.\n",
    "    * For example, losing a submarine -- the location of the submarine is now unknown.\n",
    "* **Outcome** The result of an experiment; one particular state of the world. \n",
    "    * For example: the submarine is in ocean grid square [2,3].\n",
    "* **Sample Space** The set of *all possible* outcomes for an experiment. \n",
    "    * For example, ocean grid squares {[0,0], [0,1], [0,2], [0,3], ..., [8,7], [8,8], [8,9], [9,9]}.\n",
    "* **Event** A *subset* of possible outcomes with some common property. \n",
    "    * For example, the grid squares which are south of the Equator.\n",
    "* **Probability** The probability of an event *with respect to a sample space* is the number of outcomes from the sample space that are in the event, divided by the total number of outcomes in the sample space. Since it is a ratio, probability will always be a real number between 0 (representing an impossible event) and 1 (representing a certain event).  \n",
    "    * For example, the probability of the submarine being below the equator, or the probability of the submarine being in grid square [0,0] (in this case the event is just a single outcome).\n",
    "* **Probability distribution** A mapping of outcomes to probabilities that sum to 1. This is because an outcome must happen from a trial (with probability 1) so the sum of all possible outcomes together will be 1. A random variable has a probability distribution which maps each outcome to a probability.\n",
    "    * For example $P(X=x)$, the probability that the submarine is in a specific grid square $\\vec{x}$.\n",
    "* **Random variable** A variable representing an unknown value, whose probability distribution we *do* know. The variable is associated outcomes of a trial    \n",
    "    * For example, $X$ is a random variable representing the location of the submarine. \n",
    "* **Probability density/mass function** A function that *defines* a probability distribution by mapping each outcome to a probability $f_X(x), x \\rightarrow \\real$. This could be a continuous function over $x$ (density) or discrete function over $x$ (mass).\n",
    "    * For example $f_X(x)$ would be a probability mass function for the submarine, which maps each grid square to real number representing its probability.\n",
    "* **Observation** An outcome that we have directly observed; i.e. data.\n",
    "    * For example, a submarine was found in grid square [0,5]\n",
    "* **Sample** An outcome that we have simulated according a probability distribution. We say we have **drawn** a sample from a distribution.\n",
    "    * For example, if we believe that the submarine was distributed according to some pattern, generate possible concrete grid positions that follow this pattern.\n",
    "* **Expectation/expected value** The \"average\" value of a random variable.\n",
    "    * The submarine was on average in grid square [3.46, 2.19]\n",
    "    "
   ]
  },
  {
   "cell_type": "markdown",
   "metadata": {},
   "source": [
    "## In prose\n",
    "A random variable $X$ *has* a probability distribution $P(X)$ which *assigns* probabilities $0 \\leq P(X=x)  \\leq1$ to *outcomes* $x$ which *belong* to a sample space $\\mathbb{x}$. That probability distribution is *defined* by a probability density/mass function $f_X(x)$ which assigns probabilities to outcomes such that the sum of probabilities over all outcomes is 1, $\\sum_{x\\in \\mathbb{x}} f_X(x)=1$. We can *observe* specific outcomes $x_i$ drawn from a distribution as a result of *trials*. We can *sample* (simulate) new outcomes $x'_j$ given a distribution P(X). Assuming outcomes have values we can *evaluate* the average expected value $\\expect{X}$ across infinitely many trials."
   ]
  },
  {
   "cell_type": "markdown",
   "metadata": {},
   "source": [
    "# Philosophy of probability\n",
    "There are two schools of thought regarding probability and its uses. We will be (largely) following the **Bayesian interpretation**, but its worth understanding what that entails.\n",
    "\n",
    "## Bayesian/Laplacian view on probability\n",
    "**Bayesians** treat probability as a **calculus of belief**; in this model of thought, probabilities are measures of *degrees of belief*. $P(A)=0$ means a belief that event $A$ cannot be true and $P(A)=1$ is a belief that event $A$ is absolutely certain. In the Bayesian perspective, it makes sense to say \"the probability it is raining outside is 0.3\" (the probability quantifies our belief about the weather given the information we have). **Note that is not a statement that we believe that the weather is 0.3 rainy (whatever that means)**\n",
    "\n",
    "![](imgs/bayes.gif)\n",
    "\n",
    "*Image: A portrait of a man who isn't Thomas Bayes,  who didn't propose Bayesian probability theory.*"
   ]
  },
  {
   "cell_type": "markdown",
   "metadata": {},
   "source": [
    "**Bayesians** allow for belief in states to be combined and manipulated via the rules of probability. The key process in Bayesian logic is *updating of beliefs*. Given some:\n",
    "* **prior** belief (it's Glasgow, it's not likely to be sunny) and some\n",
    "* new **evidence** (there seems to be a bright reflection inside) we can \n",
    "* update our belief to calculate the **posterior** -- our new probability that it is sunny outside. \n",
    "\n",
    "Bayesian inference requires that we accept priors over events, i.e. that we must explicitly quantify our assumptions with probability distributions.  It is an extension of logic to uncertain information.\n",
    "\n",
    "### USS Scorpion\n",
    "For example, in the submarine search, the prior might be that the submarine is probably in the south Atlantic (given the last radio broadcast received). Evidence might be the result of sonar surveys from search ships. After each survey, the posterior probability of the submarine being in the survey area could be updated. This represents our belief about where the vessel might be.\n",
    "\n",
    "## Frequentist view of probability\n",
    "There is an alternative school of thought that considers probabilities to *only* be the long-term behaviour of repeated events (e.g. the probability of a coin coming up heads in 0.5 because over the long term this will be the average proportion of times this occurs). \n",
    "\n",
    "A **frequentist** does not accept phrases like \"what is the probability it is sunny just now?\" as there is no long term behaviour involved (it is only \"now\" once). It does not make sense in this world view to talk about the probability of events that can only happen once. It *does* make sense in a frequentist view to ask things like \"what is the probability it will be sunny on any given day?\" since we can measure this event (sunny or not) for many different days. For example, frequentists would not assign a probability to the USS Scorpion being in a specific grid square; this is not an experiment that can be repeated.\n",
    "\n",
    "\n"
   ]
  },
  {
   "cell_type": "markdown",
   "metadata": {},
   "source": [
    "### Objectivity and subjectivity\n",
    "Frequentist versus Bayesian debates quickly enter philosophical territory. The diversity of viewpoints and depth of arguments cannot be done justice here. \n",
    "\n",
    "Very briefly, Bayesian probability theory is sometimes said to be **subjective** because it requires the specification of prior belief, whereas frequentist models of probability do not admit the concept of priors and thus is  **objective**. \n",
    "\n",
    "An alternative view is that the Bayesian model explicitly encodes uncertain knowledge and states universal formal rules for manipulating that knowledge, as formal logic does for definite knowledge. Frequentist methods are objective in the sense that they make statements about universal truths (e.g. asymptotic behaviour), but they do not form a calculus of belief, and thus can't answer many questions of importance directly.\n"
   ]
  },
  {
   "cell_type": "markdown",
   "metadata": {},
   "source": [
    "#### Bayesian\n",
    "* Includes **priors**\n",
    "* Probability is a **degree of belief**\n",
    "* (Parameters of population considered to be random variables, data to be known)\n",
    "\n",
    "#### Frequentist\n",
    "* No **priors**\n",
    "* Probability is the *long-term frequency of events*\n",
    "* (Parameters of population assumed to be fixed, data to be random)"
   ]
  },
  {
   "cell_type": "markdown",
   "metadata": {},
   "source": [
    "## Superiority of probabilistic models\n",
    "Regardless of the philosophical model you subscribe to, there is one thing you can be sure of: *probability is the best*. \n",
    "\n",
    "There are other models of uncertainty than probability theory that are sometimes used. However, all other representations of uncertainty are *strictly inferior* to probabilistic methods *in the sense that* a person, agent, computer placing \"bets\" on future events using probabilistic models has the best possible return out of all decision systems when there is uncertainty. \n",
    "\n",
    "> *Any theory with as good a gambling outcome as would be achieved using probability theory is equivalent to probability theory.*\n",
    "\n",
    "----\n",
    "\n",
    "## Generative models: forward and inverse probability\n",
    "A key idea in probabilistic models is that of a **generative process**; the idea that there is some unknown process going on, the results of which can be observed. The process itself is governed by unobserved variables that we do not know but which we can **infer**.\n",
    "\n",
    "<img src=\"imgs/urn.png\">\n",
    "\n",
    "The classic example is an **urn problem**. Consider an urn, into which a number of balls have been poured (by some mysterious entity, say). Each ball can be either black or white. \n",
    "\n",
    "You pull out four random balls from the urn and observe their colour. You get four white balls. \n",
    "\n",
    "There are lots of questions you can ask now:\n",
    "\n",
    "* What is the probability that the next ball that is drawn will be white? \n",
    "    * This is a **forward probability** question. It asks questions related to the distribution of the observations.\n",
    "* What is the distribution of white and black balls in the urn? \n",
    "    * This is an **inverse probability** question. It asks questions related to unobserved variables that govern the process that generated the observations.\n",
    "* Who is the mysterious entity?\n",
    "    * This is an unknowable question. The observations we make cannot resolve this question.\n",
    "    \n",
    "There are a huge number of processes that can be framed as urn problems (urns where balls are replaced, problems where there are multiple urns and you don't know which urn the balls came from, problems where balls can move between urns, and so on). \n",
    "\n",
    "\n",
    "\n"
   ]
  },
  {
   "cell_type": "markdown",
   "metadata": {},
   "source": [
    "----------"
   ]
  },
  {
   "cell_type": "markdown",
   "metadata": {},
   "source": [
    "# A formal basis for probability theory\n",
    "## Axioms of probability\n",
    "\n"
   ]
  },
  {
   "cell_type": "markdown",
   "metadata": {},
   "source": [
    "There are only a few basic axioms of probability, from which everything else can be derived. Writing $P(A)$ to mean the probability of event $A$ (NOTE: these apply to **events** (sets of outcomes), not just outcomes!):\n",
    "<div class=\"alert alert-success alert-box\">\n",
    "    \n",
    "* **Boundedness**\n",
    "$$0 \\leq P(A) \\leq 1\n",
    "$$ all possible events $A$ -- probabilities are 0, or positive and less than 1.\n",
    "* **Unitarity**\n",
    "$$\n",
    "\\sum_A P(A)=1\n",
    "$$ for the complete set of possible **outcomes** (not events!) $A \\in \\sigma$ in a sample space $\\sigma$ -- something always happens.\n",
    "* **Sum rule**\n",
    "$$\n",
    "P(A \\lor B) = P(A) + P(B) - P(A \\land B),\n",
    "$$ i.e. the probability of either event $A$ or $B$ happening is the sum of the independent probabilities minus the probability of both happening.\n",
    " (notation note: $\\lor$ means \"or\" and $\\land$ means \"and\")\n",
    "* **Conditional probability**\n",
    "The conditional probability $P(A|B)$ is defined to be the probability that event $A$ will happen *given that we already know $B$ to have happened*.\n",
    "$$P(A|B) = \\frac{P(A \\land B)}{ P(B)}$$\n",
    "</div>\n",
    "\n"
   ]
  },
  {
   "cell_type": "markdown",
   "metadata": {},
   "source": [
    "# Random variables and distributions\n",
    "A **random variable** is a variable that can take on different values, but we do not know what value it has; i.e. one that is \"unassigned\". However, we have some knowledge which captures the possible states the variable could take on, and their corresponding probabilities. Probability theory allows us to manipulate random variables without having to assign them a specific value.\n",
    "\n",
    "A random variable is written with a capital letter, like $X$.\n",
    "\n",
    "A random variable might represent:\n",
    "\n",
    "* the outcome of dice throw (discrete); \n",
    "* whether or not it is raining outside (discrete: binary); \n",
    "* the latitude of the USS Scorpion (continuous); \n",
    "* the height of person we haven't met yet (continuous). \n",
    "\n",
    "In the next unit, we will see how random variables can be implemented as first-class values in programming languages, just like floats or integers."
   ]
  },
  {
   "cell_type": "markdown",
   "metadata": {},
   "source": [
    "## Distributions\n",
    "A **probability distribution** defines how likely different states of a random variable are. \n",
    "\n",
    "We can see $X$ as the the *experiment* and $x$ as the *outcome*, with a function mapping every possible outcome to a probability. We write $P(X=x)$ (note the case!), and use the shorthand notations:\n",
    "\n",
    "$$P(X=x),\\  \\text{the probability of random variable X taking on value x}\\\\\n",
    "P(X),\\  \\text{shorthand for probability of X=x }\\\\\n",
    "P(x),\\  \\text{shorthand for probability of specific value X=x }\\\\\n",
    "$$\n",
    "\n",
    "We can see an outcome as a random variable taking on a specific value i.e. $P(X=x)$. Note that by convention we use $P(A)$ to mean the probability of **event** $A$, not a random variable $A$ (an **event** is a *set* of **outcomes**; **random variables** only assign probabilities to **outcomes**).\n",
    "\n",
    "### Discrete and continuous\n",
    "Random variables can be continuous (e.g. the height of a person) or discrete (the value showing on the face of a dice). \n",
    "\n",
    "* **Discrete variables** The distribution of a discrete random variable is described with a **probability mass function** (PMF) which gives each outcome a specific value; imagine a Python dictionary mapping outcomes to probabilities. The PMF is usually written $f_X(x)$, where $P(X=x) = f_X(x)$.\n",
    "\n",
    "* **Continuous variables** A continuous variable has a **probability density function** (PDF) which specifies the spread of the probability over outcomes as a *continuous function* $f_X(x)$. It is **not** the case that $P(X=x) = f_X(x)$ for PDFs."
   ]
  },
  {
   "cell_type": "markdown",
   "metadata": {},
   "source": [
    "#### Integration to unity\n",
    "A probability mass function or probability density function *must* sum/integrate to exactly 1, as the random variable under consideration must take on *some* value; this is a consequence of unitarity. Every repetition of an experiment has exactly one outcome.\n",
    "\n",
    "$$\\sum_i f_X(x_i) = 1\\quad \\text{for PMFs of discrete RVs}$$\n",
    "$$\\int_x f_X(x)\\ dx = 1\\quad \\text{for PDFs of continuous RVs}$$\n",
    "\n"
   ]
  },
  {
   "cell_type": "markdown",
   "metadata": {},
   "source": [
    "## PMF example: sum of dice rolls\n",
    "A very simple discrete PMF is the expected value of the sum of two six-faced dice. $P(X=x) = f_X(x)$ takes on values for each possible outcome $x \\in \\{2,3,4,5,6,7,8,9,10,11,12\\}$"
   ]
  },
  {
   "cell_type": "code",
   "execution_count": 17,
   "metadata": {
    "ExecuteTime": {
     "end_time": "2020-11-12T11:43:26.279676Z",
     "start_time": "2020-11-12T11:43:26.272844Z"
    }
   },
   "outputs": [],
   "source": [
    "# the PMF of the sum of two dice rolls\n",
    "from IPython.display import display, Latex\n",
    "\n",
    "def two_dice():\n",
    "    # form the sum of the cross product of these possibilities\n",
    "    roll_two = [i+j for i in range(1,7) for j in range(1,7)]\n",
    "    \n",
    "    \n",
    "    # now plot the histogram\n",
    "    fig = plt.figure()\n",
    "    ax = fig.add_subplot(1,1,1)\n",
    "    \n",
    "    pmf, edges, patches = ax.hist(roll_two, density=True, bins=range(1,14))\n",
    "    \n",
    "    for k, v in zip(edges[1:], pmf[1:]):\n",
    "        display(Latex(f\"$P(X={k}) = {v:.2f}$\"))\n",
    "        \n",
    "    print(\"Sum of PMF = %.2f\" % np.sum(pmf)) # sum of probability should be *exactly* 1.0\n",
    "    ax.set_title(\"PMF of sum of 2d6 dice\")\n",
    "    ax.set_xlabel(\"Sum of rolls x\")\n",
    "    ax.set_frame_on(False)\n",
    "    ax.set_ylabel(\"P(X=x)\")"
   ]
  },
  {
   "cell_type": "code",
   "execution_count": 18,
   "metadata": {
    "ExecuteTime": {
     "end_time": "2020-11-12T11:43:29.103742Z",
     "start_time": "2020-11-12T11:43:28.924058Z"
    },
    "lines_to_next_cell": 2
   },
   "outputs": [
    {
     "data": {
      "text/latex": [
       "$P(X=2) = 0.03$"
      ],
      "text/plain": [
       "<IPython.core.display.Latex object>"
      ]
     },
     "metadata": {},
     "output_type": "display_data"
    },
    {
     "data": {
      "text/latex": [
       "$P(X=3) = 0.06$"
      ],
      "text/plain": [
       "<IPython.core.display.Latex object>"
      ]
     },
     "metadata": {},
     "output_type": "display_data"
    },
    {
     "data": {
      "text/latex": [
       "$P(X=4) = 0.08$"
      ],
      "text/plain": [
       "<IPython.core.display.Latex object>"
      ]
     },
     "metadata": {},
     "output_type": "display_data"
    },
    {
     "data": {
      "text/latex": [
       "$P(X=5) = 0.11$"
      ],
      "text/plain": [
       "<IPython.core.display.Latex object>"
      ]
     },
     "metadata": {},
     "output_type": "display_data"
    },
    {
     "data": {
      "text/latex": [
       "$P(X=6) = 0.14$"
      ],
      "text/plain": [
       "<IPython.core.display.Latex object>"
      ]
     },
     "metadata": {},
     "output_type": "display_data"
    },
    {
     "data": {
      "text/latex": [
       "$P(X=7) = 0.17$"
      ],
      "text/plain": [
       "<IPython.core.display.Latex object>"
      ]
     },
     "metadata": {},
     "output_type": "display_data"
    },
    {
     "data": {
      "text/latex": [
       "$P(X=8) = 0.14$"
      ],
      "text/plain": [
       "<IPython.core.display.Latex object>"
      ]
     },
     "metadata": {},
     "output_type": "display_data"
    },
    {
     "data": {
      "text/latex": [
       "$P(X=9) = 0.11$"
      ],
      "text/plain": [
       "<IPython.core.display.Latex object>"
      ]
     },
     "metadata": {},
     "output_type": "display_data"
    },
    {
     "data": {
      "text/latex": [
       "$P(X=10) = 0.08$"
      ],
      "text/plain": [
       "<IPython.core.display.Latex object>"
      ]
     },
     "metadata": {},
     "output_type": "display_data"
    },
    {
     "data": {
      "text/latex": [
       "$P(X=11) = 0.06$"
      ],
      "text/plain": [
       "<IPython.core.display.Latex object>"
      ]
     },
     "metadata": {},
     "output_type": "display_data"
    },
    {
     "data": {
      "text/latex": [
       "$P(X=12) = 0.03$"
      ],
      "text/plain": [
       "<IPython.core.display.Latex object>"
      ]
     },
     "metadata": {},
     "output_type": "display_data"
    },
    {
     "name": "stdout",
     "output_type": "stream",
     "text": [
      "Sum of PMF = 1.00\n"
     ]
    },
    {
     "data": {
      "image/png": "[encoded data removed]",
      "text/plain": [
       "<Figure size 1120x560 with 1 Axes>"
      ]
     },
     "metadata": {
      "needs_background": "light"
     },
     "output_type": "display_data"
    }
   ],
   "source": [
    "two_dice()"
   ]
  },
  {
   "cell_type": "markdown",
   "metadata": {},
   "source": [
    "# Expectation\n",
    "<div class=\"alert alert-success alert-box\">\n",
    "    \n",
    "If a random variable takes on numerical values, then we can define the **expectation** or **expected value** of a random variable $\\expect{X}$ as:\n",
    "\n",
    "$$ \\expect{X} = \\int_x x\\ f_X(x) dx $$\n",
    "\n",
    "For a discrete random variable with probability mass function $P(X=x) = f_X(x)$, we would write this as a summation:\n",
    "\n",
    "$$ \\expect{X} = \\sum_x  f_X(x) x $$\n",
    "\n",
    "\n",
    "\n",
    "If there are only a finite number of possibilities, then this is: $$\\expect{X} = P(X=x_1) x_1 + P(X=x_2) x_2 + \\dots + P(X=x_n) x_n$$ \n",
    "</div>\n",
    "\n",
    "The expectation is the \"average\" of a random variable. Informally, it represents what we'd \"expect to happen\"; the most likely overall \"score\". It can be thought of as a *weighted sum* of all the possible outcomes of an experiment, where each outcome is weighted by the probability of that outcome occurring.  \n",
    "\n",
    "<img src=\"imgs/dice.jpg\" width=\"50%\">\n",
    "\n",
    "For example, in the \"pair of dice\" scenario, we can compute the expected value of the number of \"dots\" showing in total after a roll. We compute the probability of each number of dots showing and multiply by that number of dots, and summing the result. This is the expected number of dots showing, on average, or the expectation."
   ]
  },
  {
   "cell_type": "code",
   "execution_count": 19,
   "metadata": {
    "ExecuteTime": {
     "end_time": "2020-11-12T11:45:45.939443Z",
     "start_time": "2020-11-12T11:45:45.933585Z"
    }
   },
   "outputs": [
    {
     "name": "stdout",
     "output_type": "stream",
     "text": [
      "PMF of two dice: [0.02777778 0.05555556 0.08333333 0.11111111 0.13888889 0.16666667\n",
      " 0.13888889 0.11111111 0.08333333 0.05555556 0.02777778]\n",
      "Face value of two dice: [ 2  3  4  5  6  7  8  9 10 11 12]\n",
      "Expected value of sum of two dice: 7.00\n"
     ]
    }
   ],
   "source": [
    "from collections import Counter\n",
    "dice_values =  [i+j for i in range(1,7) for j in range(1,7)]\n",
    "\n",
    "# count the occurence of each possible value\n",
    "counts = Counter(dice_values)\n",
    "total_possibilities = len(dice_values)\n",
    "\n",
    "pmf = np.array([counts[i]/total_possibilities for i in counts])\n",
    "print(\"PMF of two dice:\", pmf)\n",
    "values = np.array([i for i in counts])\n",
    "print(\"Face value of two dice:\", values)\n",
    "\n",
    "# expectation is each value weighted by probability.\n",
    "expected_value = np.sum(pmf * values)\n",
    "print(\"Expected value of sum of two dice: %.2f\" % expected_value)"
   ]
  },
  {
   "cell_type": "markdown",
   "metadata": {},
   "source": [
    "This is an intuitive property. \n",
    "\n",
    "> Imagine you meet a street hustler, who asks you to play the two dice game. He offers you a chance to buy in for £8; you win as many pounds as the show on the top faces of the dice after throwing them. Is this a fair game?\n",
    "\n",
    "No. The expected return is only £7, and you have to put in £8 to play, so the expected result is a £1 loss (sometimes stated as \"negative expected value\" or -ve EV). If it was £7 to buy in, the game would be fair, in the sense that you and the hustler would not transfer money on average."
   ]
  },
  {
   "cell_type": "markdown",
   "metadata": {},
   "source": [
    "## Expectation and means\n",
    "Expectation corresponds to the idea of a **mean** or **average** result. The expected value of a random variable is the **true average** of the value of all outcomes that would be observed if we ran the experiment an infinite number of times. This is the **population mean** -- the mean of the whole, possibly infinite, population of a random variable.\n",
    "\n",
    "Many important properties of random variables can be defined in terms of expectation. \n",
    "\n",
    "* The mean of a random variable $X$ is just $\\expect{X}$. It is a measure of **central tendency**.\n",
    "* The variance of a random variable $X$ is $\\text{var}(X) = \\expect{(X - \\expect{X})^2}$. It is a measure of **spread**.\n",
    "\n",
    "### Expectations of functions of X\n",
    "We can apply functions to random variables, for example, the square of a random variable.\n",
    "<div class=\"alert alert-box alert-success\">\n",
    "\n",
    " The expectation of any function $g(X)$ of a continuous random variable $X$ is defined as:\n",
    "$$\\expect{g(X)} = \\int_x f_X(x) g(x) dx$$\n",
    "or\n",
    "\n",
    "$$\\expect{g(X)} = \\sum_x f_X(x) g(x) dx$$\n",
    "for a discrete random variable.\n",
    "</div>\n",
    "\n",
    "For example, we can compute simple expectations like these:\n",
    "\n",
    "$$\\expect{2X^2} = \\sum_x f_X(x) 2x^2 dx$$\n",
    "\n",
    "or \n",
    "\n",
    "$$\\expect{\\sin(X)} = \\sum_x f_X(x) \\sin(x) dx$$\n",
    "\n",
    "That is, we just take the sum/integral of each outcome, passed through the function $g(x)$, weighted by the probability of the outcome $x$. $g(x)$ could be thought of a \"scoring\" function, which assigns a real number to every outcome of $X$. Note that $g(x)$ has no effect on the probability density/mass function $f_X(x)$. It doesn't affect the probability of the outcomes, just the *value assigned to those outcomes*. For example, if we played the a dice game where the score of a throw was the *square* of the number of dots showing, (so 2 showing would be worth 4 points, 8 showing would be worth 64 points, etc.) we would compute $\\expect{X^2}$ as:\n"
   ]
  },
  {
   "cell_type": "code",
   "execution_count": 20,
   "metadata": {
    "ExecuteTime": {
     "end_time": "2020-11-12T11:49:35.989540Z",
     "start_time": "2020-11-12T11:49:35.985636Z"
    }
   },
   "outputs": [
    {
     "name": "stdout",
     "output_type": "stream",
     "text": [
      "Expected value of square of sum of two dice: 54.83\n"
     ]
    }
   ],
   "source": [
    "sqr_expected_value = np.sum(pmf * (np.arange(2,13))**2)\n",
    "print(\"Expected value of square of sum of two dice: %.2f\" % sqr_expected_value)"
   ]
  },
  {
   "cell_type": "markdown",
   "metadata": {},
   "source": [
    "<div class=\"alert alert-danger\">\n",
    "\n",
    "Be very careful:\n",
    "    \n",
    "$$E[f(X)] \\neq f(E[X])$$\n",
    "    \n",
    "</div>    \n",
    "\n",
    "To compute the expectation of a function, we need to compute the function of each outcome and sum weighted by the probability of that outcome. We cannot apply the function to the result of the expectation and get the same result!"
   ]
  },
  {
   "cell_type": "code",
   "execution_count": 21,
   "metadata": {
    "ExecuteTime": {
     "end_time": "2020-11-12T11:50:17.583582Z",
     "start_time": "2020-11-12T11:50:17.579591Z"
    }
   },
   "outputs": [
    {
     "name": "stdout",
     "output_type": "stream",
     "text": [
      "Square of the expected value of two dice: 49.00\n"
     ]
    }
   ],
   "source": [
    "## NOT THE SAME!\n",
    "expected_value_sqr = np.sum(pmf * (np.arange(2,13)))**2\n",
    "print(\"Square of the expected value of two dice: %.2f\" % expected_value_sqr)"
   ]
  },
  {
   "cell_type": "markdown",
   "metadata": {},
   "source": [
    "Or we could compute the expectation of a two-dice game where you get ten points for any pair of identical rolls, and zero otherwise (\"pairs or nothing\"). I'll write this out as a matrix (of roll 1 and roll 2) for easy viewing. This doesn't change the computation."
   ]
  },
  {
   "cell_type": "code",
   "execution_count": 22,
   "metadata": {
    "ExecuteTime": {
     "end_time": "2020-11-12T11:50:46.484045Z",
     "start_time": "2020-11-12T11:50:46.475260Z"
    }
   },
   "outputs": [
    {
     "data": {
      "text/latex": [
       "$f_X(d_1, d_2) = \\left[\\begin{matrix}0.03 & 0.03 & 0.03 & 0.03 & 0.03 & 0.03\\\\0.03 & 0.03 & 0.03 & 0.03 & 0.03 & 0.03\\\\0.03 & 0.03 & 0.03 & 0.03 & 0.03 & 0.03\\\\0.03 & 0.03 & 0.03 & 0.03 & 0.03 & 0.03\\\\0.03 & 0.03 & 0.03 & 0.03 & 0.03 & 0.03\\\\0.03 & 0.03 & 0.03 & 0.03 & 0.03 & 0.03\\end{matrix}\\right]$"
      ],
      "text/plain": [
       "<IPython.core.display.Latex object>"
      ]
     },
     "metadata": {},
     "output_type": "display_data"
    },
    {
     "data": {
      "text/latex": [
       "$g(d_1, d_2) = \\left[\\begin{matrix}10 & 0 & 0 & 0 & 0 & 0\\\\0 & 10 & 0 & 0 & 0 & 0\\\\0 & 0 & 10 & 0 & 0 & 0\\\\0 & 0 & 0 & 10 & 0 & 0\\\\0 & 0 & 0 & 0 & 10 & 0\\\\0 & 0 & 0 & 0 & 0 & 10\\end{matrix}\\right]$"
      ],
      "text/plain": [
       "<IPython.core.display.Latex object>"
      ]
     },
     "metadata": {},
     "output_type": "display_data"
    },
    {
     "name": "stdout",
     "output_type": "stream",
     "text": [
      "Expected value of 'pairs or nothing' dice game 1.6666666666666665\n"
     ]
    }
   ],
   "source": [
    "\n",
    "# 6x6 matrix of outcomes\n",
    "from jhwutils.matrices import print_matrix\n",
    "p_faces = np.ones((6,6))/36.0\n",
    "values = np.diag(np.full(6,10))\n",
    "\n",
    "print_matrix(\"f_X(d_1, d_2)\", p_faces)\n",
    "print_matrix(\"g(d_1, d_2)\", values)\n",
    "# expected value of playing this game\n",
    "print(\"Expected value of 'pairs or nothing' dice game\", np.sum(p_faces*values))\n",
    "\n"
   ]
  },
  {
   "cell_type": "markdown",
   "metadata": {},
   "source": [
    "Expected values are essential in making **rational decisions**, the central problem of **decision theory**. They combine scores (or **utility**) with uncertainty (**probability**).\n",
    "\n",
    "The expected value gives us a way of deciding, for example, how much it would be worth paying to play a dice game. If the units were pounds, we'd break even if we paid £2.33 to play the game, and make a profit (on average) if we paid £2.00 to play the game. The expected average profit is just the stake we pay to play each game minus the expected value of one round of the game: $\\mathbb{E}[\\text{game}] = \\text{stake} - \\mathbb{E}[X]$\n",
    "\n"
   ]
  },
  {
   "cell_type": "markdown",
   "metadata": {},
   "source": [
    "---"
   ]
  },
  {
   "cell_type": "markdown",
   "metadata": {},
   "source": [
    "## Samples and sampling\n",
    "**Samples** are observed outcomes of an experiment; we will use the term **observations** synonymously, though samples usually refer to simulations and observations to concrete real data. \n",
    "\n",
    "We can **sample** from a distribution; this means simulating outcomes according to the probability distribution of those variables. We can also **observe** data which comes from an external source, that might believe is generated by some probability distribution.\n",
    "For example, we can sample from the sum of dice PMF by rolling two dice and summing the result. This is a *sample* or a *draw* from this distribution. For discrete random variables, this is easy: we simply produce samples by drawing each outcome according to its probability. We will discuss sampling strategies in the next unit."
   ]
  },
  {
   "cell_type": "markdown",
   "metadata": {},
   "source": [
    "## The empirical distribution\n",
    "\n",
    "For discrete data, we can estimate the probability mass function that might be generating **observations** by \n",
    "counting each outcome seen divided by the total number of trials. This is called the **empirical distribution**.\n",
    "\n",
    "This can be thought of as the **normalized histogram** of counts of occurrences of outcomes."
   ]
  },
  {
   "cell_type": "code",
   "execution_count": 26,
   "metadata": {
    "ExecuteTime": {
     "end_time": "2020-11-12T12:08:59.540093Z",
     "start_time": "2020-11-12T12:08:59.330077Z"
    }
   },
   "outputs": [
    {
     "data": {
      "text/plain": [
       "Text(0, 0.5, 'P(X)')"
      ]
     },
     "execution_count": 26,
     "metadata": {},
     "output_type": "execute_result"
    },
    {
     "data": {
      "image/png": "[encoded data removed]",
      "text/plain": [
       "<Figure size 1120x560 with 1 Axes>"
      ]
     },
     "metadata": {
      "needs_background": "light"
     },
     "output_type": "display_data"
    }
   ],
   "source": [
    "from collections import Counter\n",
    "\n",
    "## PMF for dice rolls here\n",
    "## simulate dice rolls\n",
    "def simulate_two_dice(n):\n",
    "    d1 = np.random.randint(1,7,n)\n",
    "    d2 = np.random.randint(1,7,n)    \n",
    "    return d1+d2\n",
    "\n",
    "### Run some random sampling trials, plotting the empirical PMF\n",
    "### and the true PMF (that generated those samples)\n",
    "n_samples = 100 # number of samples in one repetition\n",
    "trials = 1  # number of times to repeat\n",
    "\n",
    "dice_values =  [i+j for i in range(1,7) for j in range(1,7)]\n",
    "\n",
    "# compute the PMF (again)\n",
    "counts = Counter(dice_values)\n",
    "total_possibilities = len(dice_values)\n",
    "pmf = np.array([0]+[counts[i]/total_possibilities for i in counts]+[0])\n",
    "\n",
    "### Plot the figure\n",
    "fig = plt.figure()\n",
    "ax = fig.add_subplot(1,1,1)\n",
    "ax.step(np.arange(2,15), pmf, label=\"True PMF\")\n",
    "\n",
    "for j in range(trials):\n",
    "    # simulate a bunch of pairs of dice throws\n",
    "    two_dice_samples = simulate_two_dice(n_samples)    \n",
    "    label = \"Empirical PMF\" if j==0 else None\n",
    "    # compute the normalized histogram (empirical PMF)\n",
    "    ax.hist(two_dice_samples, bins = np.arange(0,15), density=True, label=label, alpha=1.0/trials, color='C1')\n",
    "    \n",
    "ax.legend()\n",
    "ax.set_frame_on(False)\n",
    "ax.set_title(\"Two dice empirical PMF, $N={n}$\".format(n=n_samples))\n",
    "ax.set_xlabel(\"Dice value\")\n",
    "ax.set_ylabel(\"P(X)\")\n"
   ]
  },
  {
   "cell_type": "markdown",
   "metadata": {},
   "source": [
    "### Computing the empirical distribution \n",
    "For discrete random variables, we can always compute the empirical distribution from a series of observations; for example from the counts of a specific word  in a *corpus* of text (e.g. in every newspaper article printed in 1994). We just count the number of times each word is seen and divide by the total number of words.\n",
    "<div class=\"alert alert-box alert-success\">\n",
    "    \n",
    "$$P(X=x) = \\frac{n_x}{N}, $$\n",
    "\n",
    "where $n_x$ is the number of time outcome $x$ was observed, and $N$ is the total number of trials.\n",
    "</div>\n",
    "\n",
    "Note that the empirical distribution is a distribution which *approximates* an unknown true distribution. For very large samples of discrete variables, the empirical distribution will increasingly closely approximate the **true PMF**, assuming the samples we see are drawn in an unbiased way. However, this approach does not work usefully for continuous random variables, since we will only ever see each observed value once (think about why!)."
   ]
  },
  {
   "cell_type": "markdown",
   "metadata": {},
   "source": [
    "## Random sampling procedures\n",
    "\n",
    "### Uniform sampling\n",
    "There are algorithms which can generate continuous random numbers which are **uniformly distributed** in an interval, such as from 0.0 to 1.0. These are actually **pseudo-random numbers** in practice, since computers are (hopefully) deterministic. They designed to approximate the statistical properties of true random sequences. Inherently, all such generators generate sequences of discrete symbols (bits or integers) which are then mapped to floating point numbers in a specific range; this is quite tricky to get right.\n",
    "\n",
    "> We must be careful: computers generate **pseudo-random floating-point numbers**; and not **true random real numbers**. While this makes little difference much of the time, they are quite different things.\n",
    "\n",
    "A **uniformly distributed** number has equal probability of taking on any value in its interval, and zero probability every where else. Although this is sampling from a continuous PDF, it is the key building block in sampling from arbitrary PMFs. A uniform distribution is notated $X \\sim U(a,b)$, meaning $X$ is random variable which may take on values between $a$ and $b$, with equal possibility of any number in that interval. The symbol $\\sim$ is read \"distributed as\", i.e. \"X is distributed as a uniform distribution in the interval [a,b]\".\n",
    "\n",
    "> Note that in practice these are not uniform across the reals in a given interval if we are using floating point, because we can only ever sample valid floating point values. While floats are non-uniformly distributed, the difference isn't important for most applications.\n",
    "\n",
    "For example, we know that the NumPy function `np.random.uniform(a,b,[shape])` fills an array with \"continuous\" random numbers between `a` and `b` "
   ]
  },
  {
   "cell_type": "code",
   "execution_count": 27,
   "metadata": {
    "ExecuteTime": {
     "end_time": "2020-11-12T12:11:17.260081Z",
     "start_time": "2020-11-12T12:11:17.252273Z"
    }
   },
   "outputs": [
    {
     "name": "stdout",
     "output_type": "stream",
     "text": [
      "0.27170083784270016\n",
      "[ 2.0084157   0.7554908   2.20713232  0.73503217  0.36069913  2.78258201\n",
      " -2.70361935  1.04083876 -1.90569077 -0.89205536]\n",
      "[[95.90172199 82.08918099]\n",
      " [61.68685683 78.82272733]]\n"
     ]
    }
   ],
   "source": [
    "print(np.random.uniform(0,1)) # 0.0 - 1.0\n",
    "print(np.random.uniform(-np.pi, np.pi, (10,))) # -pi to pi, 10 elements\n",
    "print(np.random.uniform(1,100, (2,2))) # 1 to 100, 2x2 matrix"
   ]
  },
  {
   "cell_type": "markdown",
   "metadata": {},
   "source": [
    "### Discrete sampling\n",
    "For a discrete probability mass function, we can sample outcomes according to *any arbitrary PMF* by partitioning the unit interval. This is like sticking posters on a wall with an area proportional to the probability of each outcome, and then throwing darts at the wall.\n",
    "\n",
    "Algorithm:\n",
    "\n",
    "* choose any arbitrary ordering for the outcomes $x_1, x_2, \\dots$\n",
    "* assign each outcome a \"bin\" which is a portion of the interval [0,1] equal to its probability, so that the interval is divided into consecutive non-overlapping regions $[P(x_1) \\rightarrow P(x_1)+P(x_2), P(x_1)+P(x_2)\\rightarrow P(x_1)+P(x_2)+P(x_3), \\dots]$\n",
    "* draw a uniform sample in the range [0,1]\n",
    "* whichever \"outcome bin\" it lands in is the sample to draw\n",
    "\n",
    "By the definition of a PMF, the sum of all the probabilities will be 1.0, so it will fill the interval [0,1] perfectly with no gaps."
   ]
  },
  {
   "cell_type": "code",
   "execution_count": 28,
   "metadata": {
    "ExecuteTime": {
     "end_time": "2020-11-12T12:13:16.915160Z",
     "start_time": "2020-11-12T12:13:16.902943Z"
    }
   },
   "outputs": [],
   "source": [
    "from matplotlib.collections import PatchCollection\n",
    "from matplotlib.patches import Rectangle\n",
    "import numpy as np\n",
    "import matplotlib.pyplot as plt\n",
    "%matplotlib inline\n",
    "\n",
    "def discrete_sample(pmf, n):\n",
    "    keys = list(pmf.keys())    \n",
    "    # cumulative mass function\n",
    "    cmf = np.cumsum(list(pmf.values()))\n",
    "    \n",
    "    # generate n random values, between 0 and 1\n",
    "    samples = np.random.uniform(0, 1, n)\n",
    "\n",
    "    # code the values according to the bins\n",
    "    return [keys[i] for i in np.digitize(samples, cmf)]"
   ]
  },
  {
   "cell_type": "code",
   "execution_count": 30,
   "metadata": {
    "ExecuteTime": {
     "end_time": "2020-11-12T12:13:41.700163Z",
     "start_time": "2020-11-12T12:13:41.696259Z"
    }
   },
   "outputs": [
    {
     "name": "stdout",
     "output_type": "stream",
     "text": [
      "['cat', 'sheep', 'cat', 'cat', 'dog', 'dog', 'dog', 'sheep', 'cat', 'dog', 'dog', 'dog', 'sheep', 'dog', 'dog', 'cat', 'sheep', 'dog', 'cat', 'sheep', 'cat', 'dog', 'dog', 'dog', 'cat', 'dog', 'sheep', 'sheep', 'sheep', 'dog', 'dog', 'dog', 'dog', 'dog', 'dog', 'dog', 'dog', 'cat', 'dog', 'cat', 'dog', 'dog', 'dog', 'cat', 'cat', 'dog', 'dog', 'dragon', 'dog', 'sheep']\n"
     ]
    }
   ],
   "source": [
    "\n",
    "# our PMF\n",
    "pmf = {'cat': 0.28, 'dog': 0.5, \n",
    "       'sheep': 0.2, 'dragon': 0.02}\n",
    "\n",
    "print(discrete_sample(pmf, 50))"
   ]
  },
  {
   "cell_type": "code",
   "execution_count": 31,
   "metadata": {
    "ExecuteTime": {
     "end_time": "2020-11-12T12:13:48.397168Z",
     "start_time": "2020-11-12T12:13:48.389360Z"
    }
   },
   "outputs": [],
   "source": [
    "def plot_discrete_sample(pmf, n):\n",
    "    keys = list(pmf.keys())\n",
    "    values = list(pmf.values())\n",
    "    cmf = [0] + list(np.cumsum(values))\n",
    "    \n",
    "    \n",
    "    samples = np.random.uniform(0,1,n)\n",
    "    # this bit of the code just renders an image. It doesn't do\n",
    "    # any sampling\n",
    "\n",
    "    fig = plt.figure()\n",
    "    ax = fig.add_subplot(1, 1, 1)\n",
    "\n",
    "    # draw the bins, so we can see them\n",
    "    for i, p, c in zip(range(len(values)), values, cmf):\n",
    "        rect = Rectangle(\n",
    "            (c, 0), p, 1, edgecolor=\"k\", facecolor=(0.2, 0.4, 0.9, 0.2))\n",
    "        ax.text(c + p / 2, 0.75, keys[i])\n",
    "        ax.add_patch(rect)\n",
    "\n",
    "    # draw the samples on the graph\n",
    "    ax.scatter(samples, np.ones_like(samples) * 0.5, marker='|', s=200)\n",
    "    ax.set_title(\"Discrete sampling from a PMF\")\n"
   ]
  },
  {
   "cell_type": "code",
   "execution_count": 32,
   "metadata": {
    "ExecuteTime": {
     "end_time": "2020-11-12T12:13:51.298954Z",
     "start_time": "2020-11-12T12:13:50.858890Z"
    }
   },
   "outputs": [
    {
     "data": {
      "image/png": "[encoded data removed]",
      "text/plain": [
       "<Figure size 432x288 with 1 Axes>"
      ]
     },
     "metadata": {
      "needs_background": "light"
     },
     "output_type": "display_data"
    },
    {
     "data": {
      "image/png": "[encoded data removed]",
      "text/plain": [
       "<Figure size 432x288 with 1 Axes>"
      ]
     },
     "metadata": {
      "needs_background": "light"
     },
     "output_type": "display_data"
    },
    {
     "data": {
      "image/png": "[encoded data removed]",
      "text/plain": [
       "<Figure size 432x288 with 1 Axes>"
      ]
     },
     "metadata": {
      "needs_background": "light"
     },
     "output_type": "display_data"
    },
    {
     "data": {
      "image/png": "[encoded data removed]",
      "text/plain": [
       "<Figure size 432x288 with 1 Axes>"
      ]
     },
     "metadata": {
      "needs_background": "light"
     },
     "output_type": "display_data"
    }
   ],
   "source": [
    "\n",
    "def string_histogram(mapping, samples):\n",
    "    fig = plt.figure()\n",
    "    ax = fig.add_subplot(1, 1, 1)\n",
    "\n",
    "    # convert the strings back to indices \n",
    "    keys = list(mapping.keys())\n",
    "    indices = [keys.index(s) for s in samples]\n",
    "    \n",
    "    # plot histogram of the counts, normalized\n",
    "    ax.hist(indices, bins=np.arange(len(keys)+1), density=True, \n",
    "            label=\"Sample proportion\")\n",
    "    ax.set_xticks(np.arange(len(keys))+0.5)\n",
    "    ax.set_xticklabels(keys)\n",
    "    ax.set_xlabel(\"Outcome\")\n",
    "    ax.set_ylabel(\"Proportion/probability\")\n",
    "    \n",
    "    xs, ys = [0], [0]\n",
    "    for i, k in enumerate(keys):\n",
    "        ys.append(mapping[k])\n",
    "        xs.append(i+1)\n",
    "        \n",
    "    ax.fill_between(xs, ys, alpha=0.35, \n",
    "                    color='C1', step='pre', \n",
    "                    zorder=10, label=\"True PMF\")\n",
    "    plt.legend()\n",
    "\n",
    "for N in [10, 100, 1000, 10000]:\n",
    "    # draw N samples\n",
    "    samples = discrete_sample(pmf, N)\n",
    "    string_histogram(pmf, samples)\n",
    "    plt.gca().set_title(\"N={N}\".format(N=N))"
   ]
  },
  {
   "cell_type": "markdown",
   "metadata": {},
   "source": [
    "## A more interesting PMF\n",
    "The following code loads a text file (in this case, *Romeo and Juliet*), and converts into a vector of numerical codes. It keeps only letters and space, and converts everything to lowercase.\n",
    "\n",
    "> Rom.  Give me a torch. I am not for this ambling.  \n",
    "        Being but heavy, I will bear the light.  \n",
    ">     \n",
    "> Mer. Nay, gentle Romeo, we must have you dance.  \n",
    ">  \n",
    "> Rom.  Not I, believe me. You have dancing shoes  \n",
    "        With nimble soles; I have a soul of lead  \n",
    "        So stakes me to the ground I cannot move.  \n",
    ">            \n",
    "   "
   ]
  },
  {
   "cell_type": "code",
   "execution_count": 33,
   "metadata": {
    "ExecuteTime": {
     "end_time": "2020-11-12T12:15:12.422840Z",
     "start_time": "2020-11-12T12:15:12.417961Z"
    }
   },
   "outputs": [],
   "source": [
    "alphabet = 'abcdefghijklmnopqrstuvwxyz'\n",
    "#alphabet = ' eaoiutnshrdlcmfwypvbgkjqxz'\n",
    "\n",
    "def numerify(fname):    \n",
    "    with open(fname) as f:        \n",
    "        return np.array([alphabet.index(c) for c in f.read().lower() if c in alphabet])    "
   ]
  },
  {
   "cell_type": "markdown",
   "metadata": {},
   "source": [
    "We can compute the empirical distribution of letters in Romeo and Juliet. Its probability mass function is just given by the normalised count of each character."
   ]
  },
  {
   "cell_type": "code",
   "execution_count": 34,
   "metadata": {
    "ExecuteTime": {
     "end_time": "2020-11-12T12:15:14.313235Z",
     "start_time": "2020-11-12T12:15:14.308355Z"
    }
   },
   "outputs": [],
   "source": [
    "def empirical_pmf_plot(vector, alphabet, title):\n",
    "    fig = plt.figure()\n",
    "    ax = fig.add_subplot(1,1,1)\n",
    "    probs,_,_ = ax.hist(vector, bins=np.arange(len(alphabet)+1), density=True)\n",
    "    \n",
    "    ax.set_xticks(np.arange(len(alphabet)+1)+0.5)\n",
    "    ax.set_xticklabels(alphabet)\n",
    "    ax.set_xlabel(\"Character $x$\")\n",
    "    ax.set_ylabel(\"Empirical probability $P(X=x)$\")\n",
    "    ax.set_title(\"Empirical PMF of {0}\".format(title))\n",
    "    return probs"
   ]
  },
  {
   "cell_type": "code",
   "execution_count": 35,
   "metadata": {
    "ExecuteTime": {
     "end_time": "2020-11-12T12:15:16.331847Z",
     "start_time": "2020-11-12T12:15:15.944063Z"
    }
   },
   "outputs": [
    {
     "data": {
      "image/png": "[encoded data removed]",
      "text/plain": [
       "<Figure size 432x288 with 1 Axes>"
      ]
     },
     "metadata": {
      "needs_background": "light"
     },
     "output_type": "display_data"
    }
   ],
   "source": [
    "rj_chars = numerify(\"data/romeo_juliet.txt\")\n",
    "rj_pmf = empirical_pmf_plot(rj_chars, alphabet, \"Romeo and Juliet\")    "
   ]
  },
  {
   "cell_type": "markdown",
   "metadata": {},
   "source": [
    "### Kafka\n",
    "We can repeat the process with Kafka's *Metamorphosis*; an English text, but one with a different writing style.\n",
    "\n",
    "> \"What's happened to me?\" he thought.  It wasn't a dream.  His room, a proper human room although a little too small, lay peacefully between its four familiar walls.  A collection of textile samples lay spread out on the table - Samsa was a travelling salesman - and above it there hung a picture that he had recently cut out of an illustrated magazine and housed in a nice, gilded frame.  It showed a lady fitted out with a fur hat and fur boa who sat upright, raising a heavy fur muff that covered the whole of her lower arm towards the viewer."
   ]
  },
  {
   "cell_type": "code",
   "execution_count": 36,
   "metadata": {
    "ExecuteTime": {
     "end_time": "2020-11-12T12:16:04.787178Z",
     "start_time": "2020-11-12T12:16:04.572745Z"
    }
   },
   "outputs": [
    {
     "data": {
      "image/png": "[encoded data removed]",
      "text/plain": [
       "<Figure size 432x288 with 1 Axes>"
      ]
     },
     "metadata": {
      "needs_background": "light"
     },
     "output_type": "display_data"
    }
   ],
   "source": [
    "metamorphosis = numerify(\"data/metamorphosis.txt\")\n",
    "metamorphosis_pmf = empirical_pmf_plot(metamorphosis, alphabet, \"Metamorphosis\")    "
   ]
  },
  {
   "cell_type": "markdown",
   "metadata": {},
   "source": [
    "The results are similar (both are English texts), but there are some subtle differences; there slightly more `q` characters in Kafka compared to Shakespeare; the frequencies of `h` and `i` are reversed.\n",
    "\n"
   ]
  },
  {
   "cell_type": "markdown",
   "metadata": {},
   "source": [
    "As always, given a PMF, we can draw samples from it with our standard procedure, though the results aren't very exciting:"
   ]
  },
  {
   "cell_type": "code",
   "execution_count": 39,
   "metadata": {
    "ExecuteTime": {
     "end_time": "2020-11-12T12:17:03.191125Z",
     "start_time": "2020-11-12T12:17:03.186245Z"
    }
   },
   "outputs": [
    {
     "data": {
      "text/plain": [
       "'spnhilotmaeieetfbaiutrtnnlwbeeabjpwnsbmfoshsentedneimeoasctnymutbosakotduehtspprtohcsgosegtieftsamitatdnyahunbleermrouugnbrsuawalandhrdcbdpi'"
      ]
     },
     "execution_count": 39,
     "metadata": {},
     "output_type": "execute_result"
    }
   ],
   "source": [
    "dict_pmf = {outcome:p for outcome,p in zip(alphabet, rj_pmf)}\n",
    "\"\".join(discrete_sample(dict_pmf, 140))"
   ]
  },
  {
   "cell_type": "markdown",
   "metadata": {},
   "source": [
    "### Joint, conditional, marginal\n",
    "\n",
    "The **joint probability** of two random variables is written $$P(X,Y)$$ and gives the probability that $X$ and $Y$ take the specific values *simultaneously* (i.e. $P(X=x) \\land P(Y=y)$). "
   ]
  },
  {
   "cell_type": "markdown",
   "metadata": {},
   "source": [
    "The **marginal probability** is the derivation of $P(X)$ from $P(X,Y)$ by integrating (summing) over all the possible outcomes of $Y$:\n",
    "<div class=\"alert alert-box alert-success\">\n",
    "$$P(X) = \\int_y P(X,Y) dy\\  \\text{for a PDF.}$$\n",
    "$$P(X) = \\sum_y P(X,Y)\\  \\text{for a PMF.}$$\n",
    "    </div>\n",
    "\n",
    "This allows us to compute a distribution over one random variable from a joint distribution by summing over all the possible outcomes of the other variable involved."
   ]
  },
  {
   "cell_type": "markdown",
   "metadata": {},
   "source": [
    "**Marginalisation** just means integration over one or more variables from a joint distribution: it *removes* those variables from the distribution.\n",
    "\n",
    "Two random variables are **independent** if the they do not have any dependence on each other. If this is the case then the joint distribution is just the product of the individual distributions: $P(X,Y) = P(X)P(Y).$ This is **not true in the general case where the variables have dependence**.\n",
    "\n",
    "The **conditional probability** of a random variable $X$ *given* a random variable $Y$ is written as $$P(X|Y)$$ and can be computed as\n",
    "<div class=\"alert alert-box alert-success\"> \n",
    "\n",
    "$$P(X|Y) = \\frac{P(X,Y)}{P(Y)}. $$ </div>\n",
    "\n",
    "This tells us how likely the outcomes of $X$ are *if we already know* (or fix) the outcomes of $Y$. Read as \"probability of X taking on the value x given that Y has taken on the value y\". The conditional probability is $P(X|Y)=P(X)$ and $P(Y|X)=P(Y)$ if $X$ and $Y$ are independent."
   ]
  },
  {
   "cell_type": "markdown",
   "metadata": {},
   "source": [
    "## Bigrams\n",
    "We can look at these in the case of the character model of text we saw earlier. From the vector of character codes that make up \"Metamorphosis\" we can take every *pair of characters*, in order that they appear. That is, we consider two characters $c_{i-1}$ and $c_i$ at some index $i$. This is called a **bigram** model, and there are unigram, trigram, n-gram generalisations of the idea. A \"gram\" refers to a unit like a character or word, and we are discussing a character **bigram model**."
   ]
  },
  {
   "cell_type": "markdown",
   "metadata": {},
   "source": [
    "\n",
    "* The joint distribution of bigrams $P(C_i=c_i, C_{i-1}=c_{i-1})$ is given by the normalized count of each character pair.\n",
    "\n",
    "* The marginal distribution $P(C_i=c_i)$ can be computed from $P(C_i=c_i, C_{i-1}=c_{i-1})$ by summing over every possible character $c_{i-1}$, and likewise to marginalise to find $P(C_{i-1}=c_{i-1})$\n",
    "\n",
    "* The conditional distribution $P(C_i=c_i|C_{i-1}=c_{i-1})$ is given by the joint distribution, divided by the counts of $P(C_{i-1}=c_{i-1})$. It tells us how likely we are to observe a specific character $c_i$ *given* that we have observed a character $c_{i-1}$ just beforehand.\n",
    "\n"
   ]
  },
  {
   "cell_type": "code",
   "execution_count": 40,
   "metadata": {
    "ExecuteTime": {
     "end_time": "2020-11-12T12:21:59.624015Z",
     "start_time": "2020-11-12T12:21:59.262588Z"
    }
   },
   "outputs": [
    {
     "data": {
      "image/png": "[encoded data removed]",
      "text/plain": [
       "<Figure size 432x288 with 2 Axes>"
      ]
     },
     "metadata": {
      "needs_background": "light"
     },
     "output_type": "display_data"
    }
   ],
   "source": [
    "meta_joint = np.zeros([len(alphabet), len(alphabet)])\n",
    "for c_1, c_2 in zip(metamorphosis[1:], metamorphosis[:-1]):\n",
    "    meta_joint[c_2, c_1] += 1\n",
    "\n",
    "# normalise by total number of pairs\n",
    "meta_joint = meta_joint / np.sum(meta_joint)   \n",
    "\n",
    "def show_2d_histogram(hist):\n",
    "    fig = plt.figure()\n",
    "    ax = fig.add_subplot(1,1,1)\n",
    "    img = ax.imshow(hist)\n",
    "    fig.colorbar(img)\n",
    "    ax.set_xticks(np.arange(len(alphabet)+1))\n",
    "    ax.set_xticklabels(alphabet)\n",
    "    ax.set_yticks(np.arange(len(alphabet)+1))\n",
    "    ax.set_yticklabels(alphabet)\n",
    "    ax.set_title(\"Joint probability $P(c_{i},c_{i-1})$\")\n",
    "\n",
    "# rows = c_i-1, columns = c_i    \n",
    "show_2d_histogram(meta_joint)\n"
   ]
  },
  {
   "cell_type": "markdown",
   "metadata": {},
   "source": [
    "This tells us how likely each possible **pair** of characters is. Some combinations are much more likely than others."
   ]
  },
  {
   "cell_type": "code",
   "execution_count": 41,
   "metadata": {
    "ExecuteTime": {
     "end_time": "2020-11-12T12:22:39.766838Z",
     "start_time": "2020-11-12T12:22:39.762934Z"
    }
   },
   "outputs": [],
   "source": [
    "# compute the marginial probabilities, by summing over the relevant axes\n",
    "# it's this easy!\n",
    "meta_c1 = np.sum(meta_joint, axis=0)\n",
    "meta_c2 = np.sum(meta_joint, axis=1)"
   ]
  },
  {
   "cell_type": "code",
   "execution_count": 42,
   "metadata": {
    "ExecuteTime": {
     "end_time": "2020-11-12T12:22:42.825215Z",
     "start_time": "2020-11-12T12:22:42.483792Z"
    }
   },
   "outputs": [
    {
     "data": {
      "image/png": "[encoded data removed]",
      "text/plain": [
       "<Figure size 432x288 with 2 Axes>"
      ]
     },
     "metadata": {
      "needs_background": "light"
     },
     "output_type": "display_data"
    }
   ],
   "source": [
    "# plot them\n",
    "fig = plt.figure()\n",
    "\n",
    "def show_1d_histogram(hist):\n",
    "    ax.bar(np.arange(len(alphabet)), hist)\n",
    "    ax.set_xticks(np.arange(len(alphabet)+1))\n",
    "    ax.set_xticklabels(alphabet)\n",
    "    ax.set_ylabel(\"$P(c)$\")\n",
    "    ax.set_xlabel(\"Character $c$\")\n",
    "\n",
    "ax = fig.add_subplot(2,1,1)\n",
    "show_1d_histogram(meta_c1)\n",
    "ax.set_title(\"Marginal probability $P(c_{i-1})$\")\n",
    "\n",
    "ax = fig.add_subplot(2,1,2)\n",
    "show_1d_histogram(meta_c2)\n",
    "ax.set_title(\"Marginal probability $P(c_{i})$\")\n",
    "plt.tight_layout()"
   ]
  },
  {
   "cell_type": "code",
   "execution_count": 43,
   "metadata": {
    "ExecuteTime": {
     "end_time": "2020-11-12T12:23:13.581797Z",
     "start_time": "2020-11-12T12:23:13.307753Z"
    }
   },
   "outputs": [
    {
     "data": {
      "text/plain": [
       "Text(0.5, 1.0, 'Conditional probability $P(c_i|c_{i-1})$')"
      ]
     },
     "execution_count": 43,
     "metadata": {},
     "output_type": "execute_result"
    },
    {
     "data": {
      "image/png": "[encoded data removed]",
      "text/plain": [
       "<Figure size 432x288 with 2 Axes>"
      ]
     },
     "metadata": {
      "needs_background": "light"
     },
     "output_type": "display_data"
    }
   ],
   "source": [
    "# p(c2|c1) = p(c1,x2) / p(c1)\n",
    "# have to transpose to normalise across columns, instead of rows\n",
    "meta_conditional = (meta_joint.T / meta_c1).T\n",
    "\n",
    "# plot it\n",
    "show_2d_histogram(meta_conditional)\n",
    "plt.gca().set_title(\"Conditional probability $P(c_i|c_{i-1})$\")"
   ]
  },
  {
   "cell_type": "markdown",
   "metadata": {},
   "source": [
    "This tells us what character to expect, *given the character we know we saw before*. It lets us *predict* the next character. We can look along the rows to do this look up: each row sums to 1.0. For example, look at row \"q\": the probability is concentrated on the entry in column \"u\" -- \"u\" always follows \"q\" in English."
   ]
  },
  {
   "cell_type": "markdown",
   "metadata": {},
   "source": [
    "----"
   ]
  },
  {
   "cell_type": "markdown",
   "metadata": {},
   "source": []
  },
  {
   "cell_type": "markdown",
   "metadata": {},
   "source": [
    "# Writing and manipulation of probabilities \n",
    "\n",
    "Probabilities can be used to represent belief. But the raw numbers (e.g. $P(X=x) = 0.9999$) are not always a useful to make judgments, communicate results, or in some cases, even to do computations. \n",
    "\n",
    "The graph below shows the probability that a sample of people imagined, given specific verbal cues.  The results are very interesting, but notice that the graph has almost no points close 0.0 or 1.0 -- what about 1 in a million events? What about the probability of the sun rising tomorrow?\n",
    "\n",
    "<img src=\"imgs/joy1.png\">\n",
    "\n",
    "*Image credit: Graph by Zonination, from https://github.com/zonination/perceptions, license [MIT](https://github.com/zonination/perceptions/blob/master/LICENSE)*\n",
    "\n",
    "One of the problems is that even if people had responded accurately, the linear visualisation from 0% to 100% makes it very hard to see extreme values."
   ]
  },
  {
   "cell_type": "markdown",
   "metadata": {},
   "source": [
    "### Odds, log odds\n",
    "The **odds** of an event with probability $p$ is defined by:\n",
    "<div class=\"alert alert-box alert-success\">\n",
    "    \n",
    "$$\\text{odds} =  \\frac{1-p}{p}$$\n",
    "</div>\n",
    "\n",
    "The odds are a more useful unit for discussing unlikely scenarios (odds of 999:1 is easier to understand than $p=0.001$)."
   ]
  },
  {
   "cell_type": "code",
   "execution_count": 46,
   "metadata": {
    "ExecuteTime": {
     "end_time": "2020-11-12T13:05:13.795306Z",
     "start_time": "2020-11-12T13:05:13.790426Z"
    }
   },
   "outputs": [
    {
     "name": "stdout",
     "output_type": "stream",
     "text": [
      "p 0.1800 => odds 4.56:1\n"
     ]
    }
   ],
   "source": [
    "p = 0.18\n",
    "\n",
    "def odds(p):\n",
    "     return (1-p) / (p)\n",
    "    \n",
    "print(\"p %.4f => odds %.2f:1\" %(p,odds(p)))"
   ]
  },
  {
   "cell_type": "markdown",
   "metadata": {},
   "source": [
    "**Log-odds** or **logit** are particularly useful for very unlikely scenarios:\n",
    "\n",
    "<div class=\"alert alert-box alert-success\">\n",
    "$$\n",
    "\\text{logit}(p) = \\log \\left(\\frac{p}{1-p}\\right)\n",
    "$$   \n",
    "</div>\n",
    "\n",
    "The logit scales proportionally to the number of zeros in the numerator of the odds."
   ]
  },
  {
   "cell_type": "code",
   "execution_count": 47,
   "metadata": {
    "ExecuteTime": {
     "end_time": "2020-11-12T13:05:50.511402Z",
     "start_time": "2020-11-12T13:05:50.504571Z"
    }
   },
   "outputs": [
    {
     "name": "stdout",
     "output_type": "stream",
     "text": [
      "p   0.10000000 odds          9.0   log odds      -2.1972\n",
      "p   0.01000000 odds         99.0   log odds      -4.5951\n",
      "p   0.00100000 odds        999.0   log odds      -6.9068\n",
      "p   0.00000003 odds   33333332.3   log odds     -17.3221\n"
     ]
    }
   ],
   "source": [
    "\n",
    "def logit(p):\n",
    "    return np.log((p)/(1-p))  \n",
    "\n",
    "def print_logit(p):\n",
    "    print(\"p {p: 12.8f} odds {odds: 12.1f}   log odds {log_odds:12.4f}\".format(p=p, odds=odds(p), log_odds=logit(p)))\n",
    "    \n",
    "print_logit(0.1)\n",
    "print_logit(0.01)\n",
    "print_logit(0.001)\n",
    "print_logit(0.00000003)\n",
    "\n"
   ]
  },
  {
   "cell_type": "markdown",
   "metadata": {},
   "source": [
    "Both of these are typically used to *display* results, rather than to do computations. But **log-probabilities** are widely used for computation as well as display. They help solve *numerical problems* in probability calculations."
   ]
  },
  {
   "cell_type": "markdown",
   "metadata": {},
   "source": [
    "### Log probabilities\n",
    "\n",
    "The probability of multiple *independent* random variables taking on a set of values can be computed from the product:\n",
    "$$P(X,Y,Z) = P(X)P(Y)P(Z)$$\n",
    "and in general\n",
    "<div class=\"alert alert-box alert-success\">\n",
    "    \n",
    "$$P(X_1=x_i, \\dots, X_n=x_n) = \\prod_{i=1}^{n} P(X_i=x_i)$$\n",
    "</div>\n",
    "\n",
    "We often have to have to compute such products, but to multiply lots of values $<1$ leads to numerical issues: we will get floating point underflow. Instead, it is numerically more reliable to manipulate **log probabilities**, which can be summed instead of multiplied:\n",
    "<div class=\"alert alert-box alert-success\">\n",
    "    \n",
    "$$\\log P(x_1, \\dots, x_n) = \\sum_{i=1}^{n} \\log P(x_i)$$\n",
    "</div>\n",
    "\n",
    "This uses the identity $\\log(AB) = \\log(A) + \\log(B)$\n",
    "\n",
    "This is simply a numerical convenience which avoids underflow. The **log-likelihood** is just $\\log P(B|A)$, and is often more convenient to work with than the raw likelihood."
   ]
  },
  {
   "cell_type": "markdown",
   "metadata": {},
   "source": [
    "When talking about **likelihood**, we often write $\\mathcal{L}(x_i)$ to mean the likelihood of $x_i$. The likelihood is not a probability. It is a function of data, and $\\mathcal{L}(x_i) = f_X(x_i)$\n",
    "\n",
    "For example, consider the empirical PMF of Romeo and Juliet. This gives the probability of seeing any given character. The likelihood of seeing all of the characters, given our per-character probability model, is:\n",
    "\n",
    "$$\\mathcal{L}(c_1, c_2, \\dots\\ c_n) = \\prod_i P(c_i)$$"
   ]
  },
  {
   "cell_type": "markdown",
   "metadata": {},
   "source": [
    "This is the likelihood of the text."
   ]
  },
  {
   "cell_type": "code",
   "execution_count": 48,
   "metadata": {
    "ExecuteTime": {
     "end_time": "2020-11-12T13:09:56.756233Z",
     "start_time": "2020-11-12T13:09:56.751353Z"
    }
   },
   "outputs": [],
   "source": [
    "def likelihood(sequence, p):\n",
    "    \n",
    "    result = 1.0\n",
    "    for char in sequence:\n",
    "        # this is bad: multiplying lots of small numbers\n",
    "        # will underflow very quickly\n",
    "        result = result * p[char]\n",
    "    return result\n",
    "    "
   ]
  },
  {
   "cell_type": "code",
   "execution_count": 49,
   "metadata": {
    "ExecuteTime": {
     "end_time": "2020-11-12T13:09:58.738679Z",
     "start_time": "2020-11-12T13:09:58.694759Z"
    }
   },
   "outputs": [
    {
     "name": "stdout",
     "output_type": "stream",
     "text": [
      "0.0\n"
     ]
    }
   ],
   "source": [
    "print(likelihood(rj_chars, rj_pmf)) # huh?"
   ]
  },
  {
   "cell_type": "markdown",
   "metadata": {},
   "source": [
    "The log-likelihood does not have this problem with underflow:\n",
    "    \n",
    "$$\\log \\mathcal{L}(c_1, c_2, \\dots\\ c_n) = \\sum_i \\log P(c_i)$$\n"
   ]
  },
  {
   "cell_type": "code",
   "execution_count": 50,
   "metadata": {
    "ExecuteTime": {
     "end_time": "2020-11-12T13:10:29.354271Z",
     "start_time": "2020-11-12T13:10:29.350368Z"
    }
   },
   "outputs": [],
   "source": [
    "def log_likelihood(sequence, p):\n",
    "    result = 0.0\n",
    "    for char in sequence:\n",
    "        ## summing logs is stable numerically\n",
    "        result = result + np.log(p[char])\n",
    "    return result\n"
   ]
  },
  {
   "cell_type": "code",
   "execution_count": 51,
   "metadata": {
    "ExecuteTime": {
     "end_time": "2020-11-12T13:10:33.020575Z",
     "start_time": "2020-11-12T13:10:32.823388Z"
    }
   },
   "outputs": [
    {
     "name": "stdout",
     "output_type": "stream",
     "text": [
      "-344778.03999527503\n"
     ]
    }
   ],
   "source": [
    "# \n",
    "print(log_likelihood(rj_chars, rj_pmf))"
   ]
  },
  {
   "cell_type": "markdown",
   "metadata": {},
   "source": [
    "### Comparing log-likelihoods\n",
    "We could imagine that writing plays and novels is an activity that mysterious entities do by generating random characters according to a PMF. Under this (very simplified!) assumption, we could now take an \"unknown\" text (in this case *Macbeth*) and then look at how likely it would have been to have been generated under two models:\n",
    "* *A* It was generated by a mysterious entity using the PMF for *Romeo and Juliet*\n",
    "* *B* It was generated by a mysterious entity using the PMF for *Metamorphosis*\n",
    "\n",
    "Neither of these will be exactly true, but we can precisely quantify to what extent *Macbeth* appears to have been generated by a similar process to these two reference texts.\n",
    "\n",
    "This is a very rough proxy for whether or not they were generated by the same mysterious entity -- i.e. author. Our model is just the distribution of characters, so is a fairly weak model of different styles. However, it is sufficient to do the comparison here."
   ]
  },
  {
   "cell_type": "code",
   "execution_count": 52,
   "metadata": {
    "ExecuteTime": {
     "end_time": "2020-11-12T13:12:04.120782Z",
     "start_time": "2020-11-12T13:12:03.836713Z"
    }
   },
   "outputs": [
    {
     "name": "stdout",
     "output_type": "stream",
     "text": [
      "113.97323849247186\n"
     ]
    }
   ],
   "source": [
    "macbeth_chars = numerify(\"data/macbeth.txt\")\n",
    "\n",
    "## A positive value indicates more likely to be \"like\" \n",
    "# Romeo and Juliet; negative is evidence\n",
    "## in favour of Metamorphosis (i.e. written by Kafka)\n",
    "print(log_likelihood(macbeth_chars, rj_pmf)-\n",
    "      log_likelihood(macbeth_chars, metamorphosis_pmf))"
   ]
  },
  {
   "cell_type": "code",
   "execution_count": 53,
   "metadata": {
    "ExecuteTime": {
     "end_time": "2020-11-12T13:12:51.439395Z",
     "start_time": "2020-11-12T13:12:50.267591Z"
    },
    "scrolled": true
   },
   "outputs": [
    {
     "name": "stdout",
     "output_type": "stream",
     "text": [
      "-928.3458629352972\n"
     ]
    }
   ],
   "source": [
    "## We could repeat this with another text, in this case\n",
    "## \"The Trial\", by Kafka\n",
    "trial_chars = numerify(\"data/the_trial.txt\")\n",
    "\n",
    "## A positive value indicates more likely to be \"like\" Romeo and Juliet\n",
    "print(log_likelihood(trial_chars , rj_pmf)-\n",
    "      log_likelihood(trial_chars, metamorphosis_pmf))"
   ]
  },
  {
   "cell_type": "markdown",
   "metadata": {},
   "source": [
    "## ☣ Plague ☣\n",
    "\n",
    "* A new test is developed that can detect *Plague X* with 95% accuracy. \n",
    "* We'll assume that 95% accuracy means:\n",
    "    * a 5% **false positive rate**, i.e. 5% of the time people who don't have the disease test positive\n",
    "    * a 5% **false negative rate**, i.e. 5% of the time people have the disease test negative\n",
    "* One in one hundred thousand (1:100000) people are known to have *Plague X*\n",
    "    * we might know this because it's universally fatal within one year, and one in a hundred thousand people died of it last year, for example.\n",
    "* You go for the test, and it comes back *positive* for *Plague X*.\n",
    "* How likely are you to have *Plague X*?\n",
    "\n",
    "### Options\n",
    "* A: about 95 in 100\n",
    "* B: about  5 in 100\n",
    "* C: about 1 in 100\n",
    "* D: about 1 in 5000\n",
    "* E: about 1 in 10000                              \n",
    "        "
   ]
  },
  {
   "cell_type": "markdown",
   "metadata": {},
   "source": [
    "# Bayes' Rule"
   ]
  },
  {
   "cell_type": "markdown",
   "metadata": {},
   "source": [
    "## Prior, likelihood, posterior\n",
    "\n",
    "### Inverting conditional distributions\n",
    "We often want to know the probability of a some event $A$ given some other event $B$; that is $P(A|B)$. But we are often in the situation that we can only compute $P(B|A)$. \n",
    "\n",
    "This case is usually:\n",
    "* we know how the mysterious entity behaves $P(B|A)$;\n",
    "* we know what data we saw $P(B)$;\n",
    "* we know what the mysterious entity is likely to be up to in general;\n",
    "* and we want to work out what the mysterious entity is doing $P(A|B)$.\n",
    "\n",
    "In general $P(A|B) \\neq P(B|A);$ and the two expressions can be completely different. \n",
    "\n",
    "Typically, this type of problem occurs where we:\n",
    "* want to know the probability of some event given some *evidence* (*how likely is it that I have a disease given that my blood test came back positive?*) \n",
    "* but we only know the probability of observing evidence given the event (*if you have this disease, the blood test will come back positive 95% of the time*).\n",
    "\n",
    "**Bayes' rule** gives the correct way to invert the probability distribution:\n",
    "<div class=\"alert alert-box alert-success\">\n",
    "    \n",
    "$$ P(A|B) = \\frac{P(B|A) P(A)}{P(B)} $$\n",
    "</div>\n",
    "\n",
    "This follows directly from the axioms of probability. Bayes' Rule is a very important rule, and has some surprising consequences. \n",
    "\n",
    "### Nomenclature\n",
    "* $P(A|B)$ is called the **posterior** -- what we want to know, or will know after the computation\n",
    "* $P(B|A)$ is called the **likelihood** -- how likely the event $A$ is to produce the evidence we see\n",
    "* $P(A)$ is the **prior**  -- how likely the event $A$ is regardless of evidence\n",
    "* $P(B)$ is the **evidence** -- how likely the evidence $B$ is regardless of the event.\n",
    "\n",
    "Bayes' rule gives a consistent rule to take some prior belief and combine it with observed data to estimate a new distribution which combines them.\n",
    "\n",
    "We often phrase this as some **hypothesis** $H$ we want to know, given some **data** $D$ we observe, and we write Bayes' Rule as:\n",
    "<div class=\"alert alert-box alert-success\">\n",
    "    \n",
    "$$ P(H|D) = \\frac{P(D|H) P(H)}{P(D)} $$\n",
    "</div>\n",
    "\n",
    "$H$ and $D$ are random variables in this expression.\n",
    "\n",
    "(the probability of the hypothesis given the data) is equal to (the probability of the data given the hypothesis) times (the probability of the hypothesis) divided by (the probability of the data). In other words, if we want to work out how likely a hypothesis is to be true given observations, but we only know how likely we are to have seen those observations if that hypothesis *was* true, we can use Bayes' rule to solve the problem."
   ]
  },
  {
   "cell_type": "markdown",
   "metadata": {},
   "source": [
    "## Integration over the evidence\n",
    "We can say that the posterior probability is *proportional* to the product of the prior and the likelihood. But to evaluate its value, we need to compute $P(D)$, **the evidence**. \n",
    "\n",
    "It is difficult to see what this represents at first. But one way to think of it is as the result of marginalising the $P(D)$ from the joint distribution $P(H,D)$; that is integrating $P(H,D)$ over every possible outcome of $H$, for each possible $D$. \n",
    "\n",
    "<div class=\"alert alert-box alert-success\">\n",
    "Because probabilities must add up to 1, we can write $P(B)$ as:\n",
    "$$P(D)  = \\sum_{i} P(D|H_i) P(H_i) $$ \n",
    "for a set of discrete outcomes  $A_i$ or\n",
    "$$ P(D) = \\int_{A} P(D|H) P(H) dA $$ for a continuous distribution of outcomes.\n",
    "</div>\n",
    "\n",
    "<font color=\"green\"> This trick is essential in understanding Bayes Rule! </font>\n",
    "\n",
    "In general this can be difficult to compute. For binary simple cases where there are only two possible outcomes ($H$ can only be 0 or 1), Bayes' rule can be written as:\n",
    "\n",
    "$$P(H=1|D) = \\frac{P(D|H=1)P(H=1)}{P(D|H=1)P(H=1) + P(D|H=0) D(H=0)}, $$\n",
    "    \n",
    "    \n",
    "    "
   ]
  },
  {
   "cell_type": "markdown",
   "metadata": {},
   "source": [
    "Bayes Rule for *Plague X*\n",
    "\n",
    "        P(Plague|Test) = [P(Test|Plague) P(Plague)] / P(Test)\n",
    "\n",
    "        # integrate over the two possible \n",
    "        #states of Plague\n",
    "        P(Test) =  [P(Test|not Plague)P(not Plague) +\n",
    "                    P(Test|Plague)P(Plague)]\n",
    "        "
   ]
  },
  {
   "cell_type": "code",
   "execution_count": 54,
   "metadata": {
    "ExecuteTime": {
     "end_time": "2020-11-12T14:22:18.540297Z",
     "start_time": "2020-11-12T14:22:18.531513Z"
    }
   },
   "outputs": [
    {
     "name": "stdout",
     "output_type": "stream",
     "text": [
      "After testing positive, you have a 1:5263 chance of having the plague\n"
     ]
    }
   ],
   "source": [
    "# one in a ten thousand have the plague\n",
    "P_Plague = 1.0 / 100000    \n",
    "\n",
    "# if you have the plague, test is positive with 5% error\n",
    "P_Test_Plague = 1-0.05            \n",
    "# If you don't have the plague, the test is positive 5% of the time\n",
    "P_Test_not_Plague = 0.05        \n",
    "\n",
    "# chance you don't have the plague, before we see the test\n",
    "P_not_Plague = 1-P_Plague         \n",
    "\n",
    "# integrate over evidence; only two possibilities here\n",
    "P_Test = (P_Test_Plague * P_Plague +  \n",
    "            P_Test_not_Plague * P_not_Plague)\n",
    "\n",
    "# what is the probability you have the plague, \n",
    "# given this 95% accurate test?\n",
    "# (hint: it is not 95%!)\n",
    "P_Plague_Test = P_Test_Plague * P_Plague / P_Test\n",
    "\n",
    "print(\"After testing positive, you have a 1:%.0f chance of having the plague\" % ((1-P_Plague_Test)/P_Plague_Test))"
   ]
  },
  {
   "cell_type": "markdown",
   "metadata": {},
   "source": [
    "## Natural frequency\n",
    "There is an approach to explaining problems like this which makes it much less likely to make poor judgements. **Natural frequency** explanations involve imagining concrete populations of a fixed size (10000 people in a room, for example), and considering the proportions of the populations as *counts* (how many people in the room have the plague?).\n",
    "\n",
    "We can use this to visualise the problem above and explain the apparent paradox. The graph below shows the case $P(\\text{plague})=0.005$ (1 in 200), again with a 5% accurate test.\n",
    "\n",
    "<img src=\"imgs/plague.png\">\n",
    "\n"
   ]
  },
  {
   "cell_type": "markdown",
   "metadata": {},
   "source": [
    "## Bayes' rule for combining evidence\n",
    "Bayes' rule is the correct way to combine prior belief and observation to update beliefs. We always transform from one probability distribution (prior) to a new belief (posterior) using some observed evidence. This can be used to \"learn\", where \"learning\" means updating a probability distribution based on observations. It has enormous applications anywhere uncertain information must be fused together, whether from multiple sources (e.g. sensor fusion) or over time (e.g. probabilistic filtering). \n"
   ]
  },
  {
   "cell_type": "markdown",
   "metadata": {},
   "source": [
    "# Entropy\n",
    "A key property of a probability distribution is the **entropy**. Intuitively, this is a measure of the \"surprise\" an observer would have when observing draws from the distribution, or alternatively, the (log) measure of a number of distinct \"states\" a distribution could represent. A flat, uniform distribution is very \"surprising\" because the values are very hard to predict; a narrow, peaked distribution is unsurprising because the values are always very similar. \n",
    "\n",
    "This is a precise quantification -- it gives the *information* in a distribution. The units of information are normally bits; where 1 bit of information tells you the answer to exactly one yes or no question. The entropy tells you exactly how many of bits are needed (at minimum) to communicate a value from a distribution to an observer *who knows the distribution already*. Alternatively, you can see the number of distinct states the distribution describes as $p = 2^{H(X)}$ -- this value is called the **perplexity**, and it can be fractional."
   ]
  },
  {
   "cell_type": "markdown",
   "metadata": {},
   "source": [
    "## Entropy is just the expectation of log-probability\n",
    "The entropy of a (discrete) distribution of a random variable $X$ can be computed as:\n",
    "<div class=\"alert alert-box alert-success\">\n",
    "    \n",
    "$$\\begin{equation}H(X) = \\sum_{x} -P(X=x) \\log_2(P(X=x))\\end{equation}$$\n",
    "</div>\n",
    "\n",
    "This is just the expected value of the log-probability of a random variable (the \"average\" log-probability).\n",
    "\n",
    "### Tossing coins\n",
    "Consider a coin toss: this is sampling from a discrete random variable that can take on two states, heads and tails. \n",
    "\n",
    "If we call our two possible states 0 (heads) and 1 (tails), we can characterise this with a single parameter $q$, where $P(X=0)=q$ and $P(X=1)=(1-q)$ (this follows from the fact that as $P(X=0)+P(X=1)$ *must* equal 1 -- the coin must land on one side or the other. We ignore edge landings!).\n",
    "\n",
    "If this process is very biased and heads are much more likely than tails ($q<<0.5$), an observer will be unsurprised most of the time because predicting heads will be a good bet. If the process is unbiased ($q=0.5$), an observer will have no way to predict if a head or tail is more likely. We can write the entropy of this distribution:\n",
    "$$H(X) = P(X=0) \\log_2 P(X=0) + P(X=1) \\log_2 P(X=1)$$\n",
    "$$ = -q \\log_2 q - (1-q) \\log_2 P(1-q)$$\n"
   ]
  },
  {
   "cell_type": "code",
   "execution_count": 55,
   "metadata": {
    "ExecuteTime": {
     "end_time": "2020-11-12T14:27:49.185671Z",
     "start_time": "2020-11-12T14:27:48.807924Z"
    }
   },
   "outputs": [
    {
     "name": "stderr",
     "output_type": "stream",
     "text": [
      "c:\\local\\anaconda3\\lib\\site-packages\\ipykernel_launcher.py:2: RuntimeWarning: divide by zero encountered in log\n",
      "  \n",
      "c:\\local\\anaconda3\\lib\\site-packages\\ipykernel_launcher.py:2: RuntimeWarning: invalid value encountered in multiply\n",
      "  \n"
     ]
    },
    {
     "data": {
      "image/png": "[encoded data removed]",
      "text/plain": [
       "<Figure size 432x288 with 1 Axes>"
      ]
     },
     "metadata": {
      "needs_background": "light"
     },
     "output_type": "display_data"
    }
   ],
   "source": [
    "def binary_entropy(q):\n",
    "    return -q * np.log(q)/np.log(2) - (1-q) * np.log(1-q)/np.log(2)\n",
    "\n",
    "def plot_binary_entropy():\n",
    "    x = np.linspace(0,1,100)\n",
    "    fig = plt.figure()\n",
    "    ax = fig.add_subplot(1,1,1)\n",
    "    ax.plot(x, binary_entropy(x), label=\"Entropy H(X)\")\n",
    "    ax.axvline(0.5, ls=':', label='Maximum surprise')\n",
    "    ax.legend()\n",
    "    ax.set_xlabel('$q=P(X=0)$')\n",
    "    ax.set_ylabel('$H(X)$ (bits)')\n",
    "    ax.set_title(\"Entropy of a coin toss versus probability of heads\")\n",
    "    \n",
    "plot_binary_entropy()"
   ]
  },
  {
   "cell_type": "markdown",
   "metadata": {},
   "source": [
    "This corresponds with our intuition -- an unbiased coin toss is the most surprising distribution. Entropy is a critically important concept in **information theory** which relates probability to the problems of communication. We can measure how well Bayesian updating is going by measuring the drop in entropy of the posterior belief; as we add evidence, we should become less surprised about the possible outcomes.\n"
   ]
  },
  {
   "cell_type": "markdown",
   "metadata": {},
   "source": [
    "In our letter-based bigram example, we can compute the entropy of each conditional distribution $P(c_i|c_{i-1})$. This will tell us how surprised we will be by the characters that might follow a character $c_i$."
   ]
  },
  {
   "cell_type": "code",
   "execution_count": 56,
   "metadata": {
    "ExecuteTime": {
     "end_time": "2020-11-12T14:28:58.193011Z",
     "start_time": "2020-11-12T14:28:57.985594Z"
    }
   },
   "outputs": [
    {
     "data": {
      "text/plain": [
       "Text(0.5, 1.0, 'Entropy of conditional distribution $H(c_i|c_{i-1})$')"
      ]
     },
     "execution_count": 56,
     "metadata": {},
     "output_type": "execute_result"
    },
    {
     "data": {
      "image/png": "[encoded data removed]",
      "text/plain": [
       "<Figure size 432x288 with 1 Axes>"
      ]
     },
     "metadata": {
      "needs_background": "light"
     },
     "output_type": "display_data"
    }
   ],
   "source": [
    "h_meta_conditional = np.sum(-np.log2(meta_conditional+1e-7) * meta_conditional, axis=1)\n",
    "\n",
    "# plot the entropy of the conditional\n",
    "fig = plt.figure() \n",
    "ax = fig.add_subplot(1,1,1)\n",
    "plt.bar(np.arange(len(alphabet)), h_meta_conditional)\n",
    "ax.set_xticks(np.arange(len(alphabet)+1))\n",
    "ax.set_xticklabels(alphabet)\n",
    "ax.set_ylabel(\"$H(c_i|c_{i-1})$\")\n",
    "ax.set_xlabel(\"Character $c_i$\")\n",
    "ax.set_title(\"Entropy of conditional distribution $H(c_i|c_{i-1})$\")\n"
   ]
  },
  {
   "cell_type": "markdown",
   "metadata": {},
   "source": [
    "#### Interpreting entropy\n",
    "We can see that observing a \"q\" means the next character isn't surprising at all: we know for *sure* that it will be a \"u\", and thus the entropy is 0.  There is only one configuration of the world for the next character (under this model) if we have just seen a \"u\".\n",
    "\n",
    "Likewise, seeing a space character gives us very little information, and the next character could be anything: the character after a space will surprise us -- there are lots of configurations of the world that might follow a space. That surprise is as much surprise as we would get by tossing about 4 coins, or an entropy of about 4 bits."
   ]
  },
  {
   "cell_type": "markdown",
   "metadata": {},
   "source": [
    "---"
   ]
  },
  {
   "cell_type": "markdown",
   "metadata": {},
   "source": [
    "\n",
    "\n"
   ]
  },
  {
   "cell_type": "markdown",
   "metadata": {},
   "source": [
    "## Resources\n",
    "### Recommended\n",
    "\n",
    "* **Probability** by Peter Norvig http://nbviewer.jupyter.org/url/norvig.com/ipython/Probability.ipynb"
   ]
  },
  {
   "cell_type": "markdown",
   "metadata": {},
   "source": [
    "* **Chapters 2 and 3 of Information Theory, Inference, and Learning Algorithms** by David Mackay (freely available online)\n",
    "    * http://www.inference.org.uk/mackay/itprnn/ps/22.40.pdf \n",
    "    * http://www.inference.org.uk/mackay/itprnn/ps/47.59.pdf\n",
    "    \n",
    "---\n",
    "### Other useful resources\n",
    "* **Veritasium explains Bayes' Theorem** https://www.youtube.com/watch?v=R13BD8qKeTg    \n",
    "\n",
    "* **Think Bayes** by Allen Downey  http://greenteapress.com/wp/think-bayes/ (a freely available book on Bayesian probability theory)\n",
    "    * **Video by same author** https://www.youtube.com/watch?v=TpgiFIGXcT4 \n",
    "    \n",
    "* **A collection of very readable articles by Count Bayesie** https://www.countbayesie.com/blog/2016/5/1/a-guide-to-bayesian-statistics \n",
    "\n",
    "* **Khan Academy materials on probability** https://www.khanacademy.org/math/statistics-probability/probability-library (more in depth than we cover, but high quality stuff)\n",
    "\n",
    "## Beyond this course\n",
    "* [**The Probability and Statistics Cookbook**](http://pages.cs.wisc.edu/~tdw/files/cookbook-en.pdf) which covers most of probability and statistics in 28 incredibly dense pages.\n",
    "\n",
    "* **Probability Theory: The Logic of Science 1st Edition** *by E. T. Jaynes* (this is an *excellent* but hardcore book; also it is very heavily biased to Bayesian interpretations of probability!)\n",
    "\n",
    "* **A First Course in Probability ** *by Sheldon Ross* (standard textbook on probability)\n",
    "\n",
    "* [**Introduction to statistical learning**](http://www-bcf.usc.edu/~gareth/ISL/) (outstanding introduction to statistical learning, including a book, video and course notes)"
   ]
  }
 ],
 "metadata": {
  "jupytext": {
   "text_representation": {
    "format_version": "1.0"
   }
  },
  "kernelspec": {
   "display_name": "Python 3",
   "language": "python",
   "name": "python3"
  },
  "language_info": {
   "codemirror_mode": {
    "name": "ipython",
    "version": 3
   },
   "file_extension": ".py",
   "mimetype": "text/x-python",
   "name": "python",
   "nbconvert_exporter": "python",
   "pygments_lexer": "ipython3",
   "version": "3.8.8"
  },
  "toc": {
   "base_numbering": 1,
   "nav_menu": {},
   "number_sections": true,
   "sideBar": true,
   "skip_h1_title": false,
   "title_cell": "Table of Contents",
   "title_sidebar": "Contents",
   "toc_cell": false,
   "toc_position": {
    "height": "907px",
    "left": "0px",
    "right": "1548px",
    "top": "93px",
    "width": "212px"
   },
   "toc_section_display": "block",
   "toc_window_display": false
  },
  "varInspector": {
   "cols": {
    "lenName": 16,
    "lenType": 16,
    "lenVar": 40
   },
   "kernels_config": {
    "python": {
     "delete_cmd_postfix": "",
     "delete_cmd_prefix": "del ",
     "library": "var_list.py",
     "varRefreshCmd": "print(var_dic_list())"
    },
    "r": {
     "delete_cmd_postfix": ") ",
     "delete_cmd_prefix": "rm(",
     "library": "var_list.r",
     "varRefreshCmd": "cat(var_dic_list()) "
    }
   },
   "types_to_exclude": [
    "module",
    "function",
    "builtin_function_or_method",
    "instance",
    "_Feature"
   ],
   "window_display": false
  }
 },
 "nbformat": 4,
 "nbformat_minor": 2
}
