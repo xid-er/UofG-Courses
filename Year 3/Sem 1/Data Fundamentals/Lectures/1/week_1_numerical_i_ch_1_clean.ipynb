{
 "cells": [
  {
   "cell_type": "markdown",
   "metadata": {},
   "source": [
    "## Data Fundamentals (H)\n",
    "# Week 1: Numerical Basics\n",
    "## Why use arrays?\n",
    "----\n",
    " ##### DF(H) - University of Glasgow - John Williamson - 2018\n",
    " $$\\newcommand{\\vec}[1]{{\\bf #1}} \n",
    "\\newcommand{\\real}{\\mathbb{R}}\n",
    "\\newcommand{\\expect}[1]{\\mathbb{E}[#1]}\n",
    "\\DeclareMathOperator*{\\argmin}{arg\\,min}\n",
    "\\vec{x}\n",
    "\\real\n",
    "$$\n"
   ]
  },
  {
   "cell_type": "code",
   "execution_count": 1,
   "metadata": {},
   "outputs": [
    {
     "data": {
      "text/html": [
       "\n",
       "<script>\n",
       "  function code_toggle() {\n",
       "    if (code_shown){\n",
       "      $('div.input').hide('500');\n",
       "      $('#toggleButton').val('Show Code')\n",
       "    } else {\n",
       "      $('div.input').show('500');\n",
       "      $('#toggleButton').val('Hide Code')\n",
       "    }\n",
       "    code_shown = !code_shown\n",
       "  }\n",
       "\n",
       "  $( document ).ready(function(){\n",
       "    code_shown=false;\n",
       "    $('div.input').hide()\n",
       "  });\n",
       "</script>\n",
       "<form action=\"javascript:code_toggle()\"><input type=\"submit\" id=\"toggleButton\" value=\"Show Code\"></form>"
      ],
      "text/plain": [
       "<IPython.core.display.HTML object>"
      ]
     },
     "execution_count": 1,
     "metadata": {},
     "output_type": "execute_result"
    }
   ],
   "source": [
    "import IPython.display\n",
    "IPython.display.HTML(\"\"\"\n",
    "<script>\n",
    "  function code_toggle() {\n",
    "    if (code_shown){\n",
    "      $('div.input').hide('500');\n",
    "      $('#toggleButton').val('Show Code')\n",
    "    } else {\n",
    "      $('div.input').show('500');\n",
    "      $('#toggleButton').val('Hide Code')\n",
    "    }\n",
    "    code_shown = !code_shown\n",
    "  }\n",
    "\n",
    "  $( document ).ready(function(){\n",
    "    code_shown=false;\n",
    "    $('div.input').hide()\n",
    "  });\n",
    "</script>\n",
    "<form action=\"javascript:code_toggle()\"><input type=\"submit\" id=\"toggleButton\" value=\"Show Code\"></form>\"\"\")"
   ]
  },
  {
   "cell_type": "markdown",
   "metadata": {},
   "source": [
    "# ndarray\n",
    "## Our basic datatype\n",
    "There are several basic data types you will have encountered in CS so far, including:\n",
    "\n",
    "* lists (sequence types)\n",
    "* strings (character sequences)\n",
    "* dictionaries/hash tables (maps)\n",
    "* classes/structures (record types)\n",
    "* trees \n",
    "\n",
    "Many languages focus on a central data type, for example:\n",
    "(very roughly -- this is *not* definitive!)\n",
    "\n",
    "* Lisp, Scheme -> **lists**\n",
    "* Java, C++, Smalltalk, Objective-C -> **classes**\n",
    "* Assembly -> **integers**\n",
    "* C -> **pointers, structs**\n",
    "* Lua -> **tables**\n",
    "* Javascript -> **objects**\n",
    "* Perl -> **strings**\n",
    "* Haskell -> **mixed immutable (lists, ADTs, etc.)**\n",
    "* Python, Ruby -> **mixed**\n",
    "* APL, J, K, GLSL, HLSL -> **arrays**\n",
    "\n",
    "## ndarrays\n",
    "The fundamental data type for this course is the **multidimensional numerical array**. This is a very powerful data type, although simple in structure, there are great many operations that can be done elegantly with an array.\n",
    "\n",
    "We will call these arrays **ndarrays** (for *n-dimensional arrays*) or sometimes **tensors** (in reference to the mathematical object which generalises vectors and matrices to higher orders), which some people use. \n",
    "\n",
    "\n",
    "----\n",
    "    \n"
   ]
  },
  {
   "cell_type": "markdown",
   "metadata": {},
   "source": [
    "\n",
    "# Why use arrays?\n",
    "### Images, sounds, videos\n",
    "Numerical arrays sound boring. But they are arguably the most \"fun\" data structure. Images, sounds, videos are all most easily worked with as arrays of numbers. \n",
    "* An *image* is a 2D array of brightness values;\n",
    "* a *sound* is a 1D array of sound pressure levels; \n",
    "* a *video* is a 3D array of brightness values (x, y, and \n",
    "time).\n",
    "\n",
    "And the manipulations that we might want to apply to these kinds of data (e.g. brightening a video, mixing together two sounds, cropping a video, rotating a 3D model) are very straightforward to express in terms of array operations. This leads to compact, elegant code that can be astonishingly efficient.\n",
    "\n",
    "\n",
    "### Scientific data\n",
    "Scientific data (e.g. from physics experiments, weather models, even models of how people choose search terms on Google) can often be most conveniently represented as numerical arrays. The kind of operations we want to do to scientific data (e.g. find the weather most similar today in the historical record) are easily expressed as array operations.\n",
    "\n",
    "\n",
    "### 3D graphics\n",
    "3D computer graphics, as you would encounter in a game or VR, usually involves manipulating **geometry**. Geometry is typically specified as simple geometric shapes, like triangles. These shapes are made up of points -- **vertices** -- typically with an $[x,y,z]$ location. Operations like moving, rotating, scaling of objects are operations on big arrays of these vertices:"
   ]
  },
  {
   "cell_type": "markdown",
   "metadata": {},
   "source": [
    "    vec3 player = [\n",
    "            [x,y,z]\n",
    "            [x,y,z]\n",
    "            [x,y,z]\n",
    "            [x,y,z]\n",
    "            ...\n",
    "        ]\n",
    "    \n",
    "<img src=\"imgs/low_poly.jpg\">  "
   ]
  },
  {
   "cell_type": "markdown",
   "metadata": {},
   "source": [
    "Being able to manipulate positions in space efficiently and cleanly is an important tool in making computer graphics programming work.\n",
    "\n",
    "### Abstraction and elegance\n",
    "By representing data as a numerical array, we can extend the operations we apply to single numbers (like integers or floating points) to entire arrays of numbers. For example, if we have an array of 100 3D positions `pos`, it would be very nice if we could scale all of the points by a factor of 2 (double in size) and move the whole array 100 units right like this:\n",
    "\n",
    "    pos = pos * 2 + [100,0,0]\n",
    "    \n",
    "This very clearly expresses the operation to be performed. Applying an identical operation to many elements of an array simultaneously is a very useful operation. Code which can express this type of operation without explicit loops is a easier to read and write. Consider the alternative:\n",
    "    \n",
    "    new_pos = []\n",
    "    for x,y,z in pos:\n",
    "        new_pos.append((2*x+100, 2*y+0, 2*z+0))\n",
    "    pos = new_pos\n",
    "\n",
    "\n"
   ]
  },
  {
   "cell_type": "markdown",
   "metadata": {},
   "source": [
    "### Mathematical power\n",
    "There is a rich set of mathematical abstractions that work on spaces defined over array-valued elements. For example, **linear algebra** provides tools to work with 1D arrays (*vectors*) and 2D arrays (*matrices*) and can be used to solve many difficult problems. Having these types represented as basic types in a programming language makes working with linear algebraic problems vastly easier."
   ]
  },
  {
   "cell_type": "markdown",
   "metadata": {},
   "source": [
    "### Efficiency\n",
    "Numerical arrays are both **compact** (they store data in a very memory efficient way) and **computationally efficient** (it is possible to write code that manipulates arrays extremely quickly).\n",
    "\n",
    "<video src=\"imgs/noaa.mp4\" autoplay loop controls>\n",
    "\n",
    "*[Image credit: NOAA, Public domain]*\n",
    "\n",
    "For big, number-focused problems like:\n",
    "* weather simulation\n",
    "* image processing\n",
    "* speech recognition\n",
    "* machine learning\n",
    "\n",
    "arrays are the best way we have of solving these problems. \n",
    "\n",
    "In big, text-heavy problems with irregular structure, databases are a more natural structure to store and work with data."
   ]
  },
  {
   "cell_type": "markdown",
   "metadata": {},
   "source": [
    "#### Deep learning\n",
    "Some of you may have seen recent advances in *machine learning* involving \"deep learning\". This has had some major impact in the last five years:\n",
    "\n",
    "* Redefined state of the art in speech recognition.\n",
    "* Cutting edge speech synthesis: wavenet\n",
    "* State of the art image recognition: inceptionnet\n",
    "* Auto captioning images: image-from-text\n",
    "* Recognising sentiment from words: word2vec\n",
    "* Synthesizing images: stackgan\n",
    "\n",
    "The key to deep learning is to be able to represent data as arrays of numbers and to do **all** computations as array operations. That is we perform operations that act on all elements of an array simultaneously.\n",
    "\n",
    "### Vectorisation: one operation, many data\n",
    "The practice of writing code which acts on arrays of values simultaneously is called **vectorised computation**. It is a special case of **parallel** computing, where we restrict ourselves to numerical operations on fixed size arrays. Modern CPUs have numerous **vectorised** instructions to perform the same operation on many numbers at once (e.g. MMX, SSE, SSE2, SSE3 on x86, NEON on ARM, etc.). This is called **Single Instruction Multiple Data**.\n",
    "\n",
    "\n",
    "#### GPUs\n",
    "The major importance of vectorised computation is that **graphics processor units** (GPUs) are by far the most powerful computational units in any modern computer or phone; they are essentially supercomputers on a card. They can perform calculation  much more quickly the central processing unit (CPU). \n",
    "<img src=\"imgs/gtx-1070.jpg\">\n",
    "\n",
    "#### GPUs are array processors\n",
    "**But** they are effectively big groups of very simple processors, which are able to deal very well with data in numerical arrays, but are very slow when working with other data structures. Anything that can be written as an operation on numerical arrays can be done at lightning speed on a GPU. \n",
    "\n",
    "In fact, GPUs are basically devices that can do computations on numerical arrays, **and that's it**. To write (efficient) GPU code, you need to write code in terms of numerical arrays.\n",
    "\n",
    "#### Spreadsheet-like computation"
   ]
  },
  {
   "cell_type": "markdown",
   "metadata": {},
   "source": [
    "<img src=\"imgs/spread.png\">\n",
    "\n",
    "Array types are much like entire *spreadsheets in a single variable*, which you can perform standard spreadsheet operations on, like: \n",
    "\n",
    "* tallying up columns \n",
    "* selecting values which have a certain range\n",
    "* plotting charts\n",
    "* joining together several sheets \n",
    "\n",
    "The abstraction of array types makes it easy to do what are complex operations with a standard spreadsheet. And they work on data beyond just 2D tables."
   ]
  }
 ],
 "metadata": {
  "kernelspec": {
   "display_name": "Python 3",
   "language": "python",
   "name": "python3"
  },
  "language_info": {
   "codemirror_mode": {
    "name": "ipython",
    "version": 3
   },
   "file_extension": ".py",
   "mimetype": "text/x-python",
   "name": "python",
   "nbconvert_exporter": "python",
   "pygments_lexer": "ipython3",
   "version": "3.6.6"
  }
 },
 "nbformat": 4,
 "nbformat_minor": 1
}
