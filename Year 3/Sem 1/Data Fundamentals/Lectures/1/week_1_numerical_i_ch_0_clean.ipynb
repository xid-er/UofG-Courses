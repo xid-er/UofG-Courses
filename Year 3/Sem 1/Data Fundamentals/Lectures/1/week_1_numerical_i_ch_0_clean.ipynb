{
 "cells": [
  {
   "cell_type": "markdown",
   "metadata": {},
   "source": [
    "## Data Fundamentals (H)\n",
    "# Week 1: Numerical Basics\n",
    "## Numerical arrays and vectorized computation\n",
    "----\n",
    " ##### DF(H) - University of Glasgow - John Williamson - 2018\n",
    "  $$\\newcommand{\\vec}[1]{{\\bf #1}} \n",
    "\\newcommand{\\real}{\\mathbb{R}}\n",
    "\\newcommand{\\expect}[1]{\\mathbb{E}[#1]}\n",
    "\\DeclareMathOperator*{\\argmin}{arg\\,min}\n",
    "\\vec{x}\n",
    "\\real\n",
    "$$\n"
   ]
  },
  {
   "cell_type": "markdown",
   "metadata": {},
   "source": [
    "# Summary\n",
    "By the end of this unit you should know:\n",
    "\n",
    "## [1: Why use arrays](week_1_numerical_i_ch_1.ipynb)\n",
    "* what vectorized computation is\n",
    "* what numerical arrays are and what they are useful for\n",
    "* the general categories of array operations\n",
    "* how images and sounds map onto arrays\n",
    "\n",
    "## [2: Typing and shapes of arrays](week_1_numerical_i_ch_2.ipynb)\n",
    "* the naming of different types of arrays (vector, matrix, tensor)\n",
    "* what shape and dtype are\n",
    "* what axes of an array are and how they are named (row, column, etc.)\n",
    "\n",
    "## [3: Creating, indexing, slicing, joining and rotating](week_1_numeric_ii_ch_3.ipynb)\n",
    "* creating new arrays\n",
    "* slicing and indexing operations and their syntax\n",
    "* how to rotate, flip and transpose arrays\n",
    "* how to split and join arrays and the rules governing this\n",
    "* boolean arrays and fancy indexing\n",
    "\n",
    "## [4: Arithmetic, broadcasting and aggregation](week_1_numeric_ii_ch_4.ipynb)\n",
    "* scalar and elementwise arithmetic on arrays\n",
    "* broadcasting rules\n",
    "* basic aggregation operations like summation, mean, cumulative sum\n",
    "* sorting and selection like argmax, argsort, find\n",
    "\n"
   ]
  },
  {
   "cell_type": "markdown",
   "metadata": {},
   "source": []
  },
  {
   "cell_type": "code",
   "execution_count": null,
   "metadata": {},
   "outputs": [],
   "source": [
    "import IPython.display\n",
    "IPython.display.HTML(\"\"\"\n",
    "<script>\n",
    "  function code_toggle() {\n",
    "    if (code_shown){\n",
    "      $('div.input').hide('500');\n",
    "      $('#toggleButton').val('Show Code')\n",
    "    } else {\n",
    "      $('div.input').show('500');\n",
    "      $('#toggleButton').val('Hide Code')\n",
    "    }\n",
    "    code_shown = !code_shown\n",
    "  }\n",
    "\n",
    "  $( document ).ready(function(){\n",
    "    code_shown=false;\n",
    "    $('div.input').hide()\n",
    "  });\n",
    "</script>\n",
    "<form action=\"javascript:code_toggle()\"><input type=\"submit\" id=\"toggleButton\" value=\"Show Code\"></form>\"\"\")"
   ]
  },
  {
   "cell_type": "markdown",
   "metadata": {},
   "source": [
    "### Extra resources for this lecture\n",
    "* [From Python to Numpy](http://www.labri.fr/perso/nrougier/from-python-to-numpy/) \n",
    "* [100 numpy exercises](http://www.labri.fr/perso/nrougier/teaching/numpy.100/index.html)\n",
    "* [NumPy tutorial](http://scipy.github.io/old-wiki/pages/Tentative_NumPy_Tutorial)\n",
    "* [Introduction to NumPy](https://jakevdp.github.io/PythonDataScienceHandbook/02.00-introduction-to-numpy.html)\n",
    "* [Linear algebra cheat sheet](https://medium.com/towards-data-science/linear-algebra-cheat-sheet-for-deep-learning-cd67aba4526c#.739w4i3m1)   *not actually linear algebra!*"
   ]
  },
  {
   "cell_type": "code",
   "execution_count": null,
   "metadata": {},
   "outputs": [],
   "source": [
    "# various imports we will need\n",
    "import numpy as np\n",
    "import matplotlib as mpl\n",
    "import matplotlib.pyplot as plt\n",
    "\n",
    "import utils.image_audio as image_audio\n",
    "\n",
    "%matplotlib inline\n",
    "plt.rc('figure', figsize=(14.0, 7.0))"
   ]
  },
  {
   "cell_type": "markdown",
   "metadata": {},
   "source": [
    "# Example: retro graphics\n",
    "You have a screenshot of a retro game you've just built:\n",
    "<img src=\"imgs/dungeon_0.gif\">\n",
    "*[[Image](https://opengameart.org/content/dawnlike-16x16-universal-rogue-like-tileset-v181) by DragonDePlatino, [CC-BY-SA 3.0](http://creativecommons.org/licenses/by-sa/3.0/)]*\n",
    "\n",
    "\n",
    "But it looks too sharp and clean. You want to give it a *retro* look and feel, like it's being played on an old-school monochrome CRT. There are obviously ways of doing this with image editors like Photoshop or GIMP. But how would you do this programmatically? How are effects like these even implemented?\n",
    "\n",
    "A small number of primitive operations on  **arrays** let us do sophisticated operations in a just few lines of code."
   ]
  },
  {
   "cell_type": "code",
   "execution_count": null,
   "metadata": {},
   "outputs": [],
   "source": [
    "# load, repeat reduce resolution\n",
    "img = image_audio.load_image_colour(\"imgs/Dungeon_0.gif\")\n",
    "img = np.tile(img[:, ::2, ::2, :], (8,1,1,1))\n",
    "img += (np.random.normal(0,1.0, img.shape).T * np.linspace(0.5,0,img.shape[0]).T).T \n",
    "# project colours to monchrome green\n",
    "img = np.dot(img, np.outer([0.2, 0.8, 0.1], [0.4, 1, 0.3]))\n",
    "# apply bleed and inter-frame smear\n",
    "for i in range(4):\n",
    "    img[:, :, 1:, :] += img[:, :, :-1, :] * 0.4\n",
    "    img[:, 1:, :, :] += img[:, :-1, :, :] * 0.4\n",
    "    img[::2] += 0.05 * img[1::2]\n",
    "# apply scanline effect, and reduce brightness\n",
    "img *= 0.15\n",
    "img[:, ::2, :, :] *= 0.25\n",
    "# apply screen vignette mask\n",
    "rows, cols = np.linspace(-1, 1, img.shape[1]),  np.linspace(-1, 1, img.shape[2])\n",
    "mask = 1 - (np.outer(np.abs(rows), np.abs(cols))**2)\n",
    "\n",
    "img = (img.swapaxes(0,-1) * np.tile(mask[:, :, None]**3, (3, 1, 1, 1))).swapaxes(0,-1) \n",
    "\n",
    "# show the resulting animation\n",
    "image_audio.show_gif(img, width=\"70%\")"
   ]
  },
  {
   "cell_type": "markdown",
   "metadata": {},
   "source": [
    "[admittedly this effect might be a little over the top!]"
   ]
  }
 ],
 "metadata": {
  "kernelspec": {
   "display_name": "Python 3",
   "language": "python",
   "name": "python3"
  },
  "language_info": {
   "codemirror_mode": {
    "name": "ipython",
    "version": 3
   },
   "file_extension": ".py",
   "mimetype": "text/x-python",
   "name": "python",
   "nbconvert_exporter": "python",
   "pygments_lexer": "ipython3",
   "version": "3.6.6"
  }
 },
 "nbformat": 4,
 "nbformat_minor": 1
}
