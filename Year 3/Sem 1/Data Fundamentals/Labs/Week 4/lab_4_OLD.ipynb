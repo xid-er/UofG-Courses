{
 "cells": [
  {
   "cell_type": "markdown",
   "metadata": {
    "deletable": false,
    "editable": false,
    "nbgrader": {
     "cell_type": "markdown",
     "checksum": "efa1d0edd9b011326ce9cab965aa312c",
     "grade": false,
     "grade_id": "cell-513963dffd022dec",
     "locked": true,
     "schema_version": 3,
     "solution": false
    }
   },
   "source": [
    "# Data Fundamentals (H)\n",
    "John H. Williamson -- Session 2020/2021\n",
    "\n",
    "----\n",
    "\n",
    "**This submission must be your own work; you will have to make a Declaration of Originality on submission.**\n",
    "\n"
   ]
  },
  {
   "cell_type": "markdown",
   "metadata": {},
   "source": [
    "---"
   ]
  },
  {
   "cell_type": "markdown",
   "metadata": {
    "nbgrader": {
     "checksum": "4f07f49574a8963c9b87cf8947d7fb36",
     "grade": false,
     "grade_id": "cell-513963dffd022dec",
     "locked": false,
     "schema_version": 3,
     "solution": false
    }
   },
   "source": [
    "# Data Fundamentals (H)\n",
    "John H. Williamson   -- Session 2021/2022"
   ]
  },
  {
   "cell_type": "markdown",
   "metadata": {
    "deletable": false,
    "editable": false,
    "nbgrader": {
     "cell_type": "markdown",
     "checksum": "c211a53dbd2e7657c88680f5597542ba",
     "grade": false,
     "grade_id": "cell-577b2e64f3b88486",
     "locked": true,
     "schema_version": 3,
     "solution": false
    }
   },
   "source": [
    "## Lab 4: Assessed\n",
    "# Vector spaces and linear transforms"
   ]
  },
  {
   "cell_type": "markdown",
   "metadata": {
    "deletable": false,
    "editable": false,
    "nbgrader": {
     "cell_type": "markdown",
     "checksum": "62bad80f950435596e0383f036f8f765",
     "grade": false,
     "grade_id": "cell-6d4ac0751e6e6cc7",
     "locked": true,
     "schema_version": 3,
     "solution": false
    }
   },
   "source": [
    "## Purpose of this lab\n",
    "This lab should help you:\n",
    "* understand how data can be represented as points in vector space\n",
    "* understand the effect of different vector norms\n",
    "* apply linear transforms to vectors\n",
    "* apply principal component analysis using eigendecompositions\n",
    "\n",
    "## Guidance\n",
    "You will need to understand the following functions well to complete this lab:\n",
    "* [`np.argmin()`](https://docs.scipy.org/doc/numpy-1.13.0/reference/generated/numpy.argmin.html) [Unit 1]\n",
    "* [`np.argsort()`](https://docs.scipy.org/doc/numpy-1.13.0/reference/generated/numpy.argsort.html) [Unit 1]\n",
    "* [`np.linalg.norm()`](https://docs.scipy.org/doc/numpy-1.13.0/reference/generated/numpy.linalg.norm.html) [Unit 4]\n",
    "* [`np.linalg.svd()`](https://docs.scipy.org/doc/numpy-1.13.0/reference/generated/numpy.linalg.svd.html) [Unit 5]\n",
    "* [`np.linalg.eig()`](https://docs.scipy.org/doc/numpy-1.13.0/reference/generated/numpy.linalg.eig.html) [Unit 5]\n",
    "* [`np.cov()`](https://docs.scipy.org/doc/numpy-1.13.0/reference/generated/numpy.cov.html) [Unit 4]\n"
   ]
  },
  {
   "cell_type": "code",
   "execution_count": null,
   "metadata": {
    "ExecuteTime": {
     "end_time": "2021-10-18T16:43:00.935880Z",
     "start_time": "2021-10-18T16:43:00.932952Z"
    }
   },
   "outputs": [],
   "source": [
    "# you can optionally install this module to clean up the plots in the later part of the lab\n",
    "# it doesn't affect anything if you don't do so\n",
    "# %pip install --user --no-cache adjustText"
   ]
  },
  {
   "cell_type": "code",
   "execution_count": 1,
   "metadata": {
    "ExecuteTime": {
     "end_time": "2021-10-18T16:43:01.238006Z",
     "start_time": "2021-10-18T16:43:01.229221Z"
    },
    "deletable": false,
    "editable": false,
    "nbgrader": {
     "cell_type": "code",
     "checksum": "1dde635bef12501d2c1721fa2795ca46",
     "grade": false,
     "grade_id": "cell-a8cbeef7e82dada5",
     "locked": true,
     "schema_version": 3,
     "solution": false
    }
   },
   "outputs": [
    {
     "name": "stdout",
     "output_type": "stream",
     "text": [
      "Everything imported OK\n"
     ]
    },
    {
     "name": "stderr",
     "output_type": "stream",
     "text": [
      "C:\\ProgramData\\Anaconda3\\lib\\site-packages\\IPython\\kernel\\__init__.py:12: ShimWarning: The `IPython.kernel` package has been deprecated since IPython 4.0.You should import from ipykernel or jupyter_client instead.\n",
      "  warn(\"The `IPython.kernel` package has been deprecated since IPython 4.0.\"\n"
     ]
    }
   ],
   "source": [
    "# Standard imports\n",
    "# Make sure you run this cell!\n",
    "# NumPy\n",
    "import numpy as np  \n",
    "import binascii\n",
    "\n",
    "# do nothing if not installed\n",
    "try:\n",
    "    from adjustText import adjust_text    \n",
    "except:\n",
    "    adjust_text = lambda *args, **kwargs: None\n",
    "    \n",
    "# Set up Matplotlib\n",
    "import matplotlib as mpl   \n",
    "import matplotlib.pyplot as plt\n",
    "%matplotlib inline\n",
    "plt.rc('figure', figsize=(8.0, 4.0), dpi=140)\n",
    "\n",
    "# custom utils  \n",
    "from jhwutils.checkarr import array_hash, check_hash\n",
    "import jhwutils.image_audio as ia\n",
    "import jhwutils.tick as tick\n",
    "\n",
    "def case_crc(s):\n",
    "    h_crc =  binascii.crc32(bytes(s.lower(), 'ascii'))\n",
    "    print(h_crc)\n",
    "    return h_crc\n",
    "\n",
    "# ignore any warnings below, they don't affect the results\n",
    "print(\"Everything imported OK\")"
   ]
  },
  {
   "cell_type": "markdown",
   "metadata": {
    "deletable": false,
    "editable": false,
    "nbgrader": {
     "cell_type": "markdown",
     "checksum": "5ad9741b89bd8df78d930aaa421d8325",
     "grade": false,
     "grade_id": "cell-e1bb0c4cf149f419",
     "locked": true,
     "schema_version": 3,
     "solution": false
    }
   },
   "source": [
    "## Whisky: Representing and comparing vectors"
   ]
  },
  {
   "cell_type": "markdown",
   "metadata": {
    "nbgrader": {
     "grade": false,
     "grade_id": "cell-0b856451f2bdefb0",
     "locked": false,
     "schema_version": 3,
     "solution": false
    }
   },
   "source": [
    "Whisky distillation is a major industry in Scotland. \n",
    "\n",
    "<img src=\"imgs/stills.jpg\"> <br><br>*.[Image](https://flickr.com/photos/sashafatcat/518104633 \"stills\") by [sashafatcat](https://flickr.com/people/sashafatcat) shared [CC BY](https://creativecommons.org/licenses/by/2.0/)*\n",
    "\n",
    "The dataset in `data/whisky.csv` is data from a number of whisky distilleries. For each distillery, there is a set of subjective judgements about the flavour characteristics of their product. The data comes from [this Strathclyde University research project](https://www.mathstat.strath.ac.uk/outreach/nessie/nessie_whisky.html).\n",
    "\n",
    "Each distillery has been judged on twelve flavour indicators (like \"smokiness\" or \"sweetness\"), and they have been assigned values from 0-5, indicating the strength of that category as judged by an expert whisky drinker. These can be seen as 12D vectors, one vector per distillery. **Every distillery is represented as a point in twelve dimensional vector space.**\n",
    "\n",
    "We also have an array of the geographical locations of each distillery as 2D points on a map. The code below loads the data.\n",
    "\n",
    "## Loading the data"
   ]
  },
  {
   "cell_type": "code",
   "execution_count": 2,
   "metadata": {
    "ExecuteTime": {
     "end_time": "2021-10-18T16:43:31.660839Z",
     "start_time": "2021-10-18T16:43:31.647647Z"
    },
    "nbgrader": {
     "checksum": "1f50436283b5701f1a1560849047fa6e",
     "grade": false,
     "grade_id": "cell-82f12755a1eac3be",
     "locked": false,
     "schema_version": 3,
     "solution": false
    }
   },
   "outputs": [],
   "source": [
    "## It is not necessary to understand this code to complete\n",
    "# the exercise. We don't cover pandas in DF(H)\n",
    "import pandas as pd\n",
    "\n",
    "whisky_df = pd.read_csv(\"data/whiskies.txt\")\n",
    "whisky_df = whisky_df.sort_values(by=\"Distillery\")\n",
    "# extract the column and row names\n",
    "distilleries = np.array(whisky_df[\"Distillery\"])\n",
    "\n",
    "columns = {name.lower(): index for index, name in enumerate(whisky_df.columns[2:-3])}\n",
    "column_indices = {index:name.lower() for index, name in enumerate(whisky_df.columns[2:-3])}\n",
    "\n",
    "# split apart the data frame and form numpy arrays\n",
    "locations = np.array(whisky_df.iloc[:, -2:])\n",
    "whisky = np.array(whisky_df.iloc[:, 2:-3])\n",
    "np.set_printoptions(suppress=True)\n",
    "# fix wine column which is misnamed\n",
    "columns[\"wine\"] = columns[\"winey\"]\n",
    "del columns[\"winey\"]\n",
    "# force tie breaks\n",
    "np.random.seed(2018)\n",
    "whisky = whisky + np.random.uniform(0, 1.0, whisky.shape)"
   ]
  },
  {
   "cell_type": "markdown",
   "metadata": {},
   "source": [
    "## Viewing the data\n",
    "We can see this whole dataset as a heatmap:"
   ]
  },
  {
   "cell_type": "code",
   "execution_count": 3,
   "metadata": {
    "ExecuteTime": {
     "end_time": "2021-10-18T16:43:51.082594Z",
     "start_time": "2021-10-18T16:43:49.762243Z"
    }
   },
   "outputs": [
    {
     "data": {
      "image/png": "[encoded data removed]",
      "text/plain": [
       "<Figure size 1400x3500 with 2 Axes>"
      ]
     },
     "metadata": {
      "needs_background": "light"
     },
     "output_type": "display_data"
    }
   ],
   "source": [
    "# show a plot of the whisky data\n",
    "fig = plt.figure(figsize=(10,25))\n",
    "ax = fig.add_subplot(1,1,1)\n",
    "\n",
    "# image plot\n",
    "img = ax.imshow(whisky)\n",
    "ax.set_yticks(np.arange(len(distilleries)))\n",
    "ax.set_yticklabels(distilleries, rotation=\"horizontal\", fontsize=12)\n",
    "\n",
    "# put the x axis at the top\n",
    "ax.xaxis.tick_top()\n",
    "ax.set_xticks(np.arange(len(columns)))\n",
    "ax.set_xticklabels(columns, rotation=\"vertical\", fontsize=12)\n",
    "\n",
    "# some horrific colorbar hackery to put in the right place\n",
    "# don't worry about this bit!\n",
    "cbaxes = fig.add_axes([0.37, 0.93, 0.28, 0.01])  \n",
    "fig.colorbar(img, orientation='horizontal',  cax=cbaxes, ticks=np.arange(5))\n",
    "cbaxes.xaxis.tick_top()"
   ]
  },
  {
   "cell_type": "markdown",
   "metadata": {
    "deletable": false,
    "editable": false,
    "nbgrader": {
     "cell_type": "markdown",
     "checksum": "583f0d22060973b3a392fc1ff05c06a2",
     "grade": false,
     "grade_id": "cell-0047215db37d3bd5",
     "locked": true,
     "schema_version": 3,
     "solution": false
    }
   },
   "source": [
    "### Available data\n",
    "You now have these variables:\n",
    "\n",
    "* `whisky` an  86x12 array of taste judgements, one row for each of the 86 distilleries. Each whisky has a rating 0-5 for each of the 12 flavour categories.\n",
    "* `locations` is an 86x2 matrix of positions of each distillery in [OS grid reference format](https://www.gridreferencefinder.com/) in the same order as `whisky`\n",
    "* `distilleries` is a list of 86 distillery names\n",
    "* `columns` is a mapping of feature names to column indices.\n",
    "* `column_indices` maps indices to column (feature) names\n",
    "\n",
    "For example:"
   ]
  },
  {
   "cell_type": "code",
   "execution_count": 10,
   "metadata": {
    "ExecuteTime": {
     "end_time": "2021-10-14T10:13:24.711394Z",
     "start_time": "2021-10-14T10:13:24.706394Z"
    }
   },
   "outputs": [
    {
     "name": "stdout",
     "output_type": "stream",
     "text": [
      "1.0897226718562112\n"
     ]
    }
   ],
   "source": [
    "print(whisky[distilleries.searchsorted('Glenfiddich'), \n",
    "             columns['smoky']])"
   ]
  },
  {
   "cell_type": "markdown",
   "metadata": {
    "deletable": false,
    "editable": false,
    "nbgrader": {
     "cell_type": "markdown",
     "checksum": "459b0732b5b6b241117c82f16e8400b5",
     "grade": false,
     "grade_id": "cell-626072c14ad3a1ff",
     "locked": true,
     "schema_version": 3,
     "solution": false
    }
   },
   "source": [
    "will tell you how \"smoky\" Glenfiddich was rated."
   ]
  },
  {
   "cell_type": "code",
   "execution_count": 11,
   "metadata": {
    "ExecuteTime": {
     "end_time": "2021-10-14T10:13:28.309934Z",
     "start_time": "2021-10-14T10:13:28.304934Z"
    }
   },
   "outputs": [
    {
     "name": "stdout",
     "output_type": "stream",
     "text": [
      "2 tobacco\n"
     ]
    }
   ],
   "source": [
    "print(columns[\"smoky\"], column_indices[4])"
   ]
  },
  {
   "cell_type": "markdown",
   "metadata": {
    "ExecuteTime": {
     "end_time": "2021-10-13T15:59:45.126743Z",
     "start_time": "2021-10-13T15:59:45.121925Z"
    }
   },
   "source": [
    "will tell you the column index of `smoky` and the name of column `4`"
   ]
  },
  {
   "cell_type": "code",
   "execution_count": 12,
   "metadata": {
    "ExecuteTime": {
     "end_time": "2021-10-14T10:13:32.589811Z",
     "start_time": "2021-10-14T10:13:32.577812Z"
    }
   },
   "outputs": [
    {
     "name": "stdout",
     "output_type": "stream",
     "text": [
      "[1.32664113 3.42010124 1.08972267 0.80801688 0.26109704 0.43601682\n",
      " 0.6115702  0.42135283 0.92576906 2.80226673 2.29784509 2.16788936]\n"
     ]
    }
   ],
   "source": [
    "print(whisky[distilleries.searchsorted('Glenfiddich')])"
   ]
  },
  {
   "cell_type": "markdown",
   "metadata": {},
   "source": [
    "will print the whole set of flavour profiles for Glenfiddich."
   ]
  },
  {
   "cell_type": "code",
   "execution_count": 13,
   "metadata": {
    "ExecuteTime": {
     "end_time": "2021-10-14T10:13:36.225534Z",
     "start_time": "2021-10-14T10:13:36.209535Z"
    }
   },
   "outputs": [
    {
     "name": "stdout",
     "output_type": "stream",
     "text": [
      "Aultmore\n"
     ]
    }
   ],
   "source": [
    "print(distilleries[8]) # distilleries is just a list of names"
   ]
  },
  {
   "cell_type": "markdown",
   "metadata": {},
   "source": [
    "will tell you the 9th distillery in the dataset is `Aultmore`."
   ]
  },
  {
   "cell_type": "code",
   "execution_count": 14,
   "metadata": {
    "ExecuteTime": {
     "end_time": "2021-10-14T10:13:38.073979Z",
     "start_time": "2021-10-14T10:13:38.057979Z"
    }
   },
   "outputs": [
    {
     "name": "stdout",
     "output_type": "stream",
     "text": [
      "[252810 682750]\n"
     ]
    }
   ],
   "source": [
    "print(locations[distilleries.searchsorted('Glengoyne')])"
   ]
  },
  {
   "cell_type": "markdown",
   "metadata": {},
   "source": [
    "will tell you where to find the Glengoyne distillery in UK OS grid units."
   ]
  },
  {
   "cell_type": "markdown",
   "metadata": {},
   "source": [
    "## A: Norms, interpolation and statistics\n",
    "We will see some simple things we can do with this dataset. \n"
   ]
  },
  {
   "cell_type": "markdown",
   "metadata": {},
   "source": [
    "We can compute distances in **flavour space** between distilleries.\n",
    "\n",
    "For example, we can compute the distance between the `Glenlivet` distillery and every other distillery *in terms of flavour, not physical distance*. The result will be a 1D array of 86 distances. \n",
    "\n",
    "Remember: distance between $\\vec{x}$ and $\\vec{y}$ is the norm of their difference: $\\|\\vec{x}-\\vec{y}\\|$\n",
    "\n",
    "We can compute this for several different norms (e.g. $L_1, L_2$, and $L_\\infty$)\n",
    "\n",
    "We start by subtracting the flavour vector for `Glenlivet` from all the other flavour vectors in the `whisky` matrix.\n",
    "\n",
    "We then use `np.linalg.norm` to compute the norm of every row vector in the resulting matrix. We set `axis=1` to ensure that norms are calculated \"across columns\", i.e. the norm of each row vector is calculated. We also specify which norm we want to calculate (`1` for $L_1$, `2` for $L_2$ or `np.inf` for $L_\\infty$). The result is a 1D array of 86 distances in **flavour space**."
   ]
  },
  {
   "cell_type": "code",
   "execution_count": 15,
   "metadata": {
    "ExecuteTime": {
     "end_time": "2021-10-18T16:54:04.689780Z",
     "start_time": "2021-10-18T16:54:04.684900Z"
    }
   },
   "outputs": [
    {
     "name": "stdout",
     "output_type": "stream",
     "text": [
      "[2.62286833 3.54181922 1.07385158 0.78503541 0.02922946 2.14009029\n",
      " 2.51030532 2.98123896 1.85897206 2.64742671 2.72418747 3.44808261]\n"
     ]
    }
   ],
   "source": [
    "# Get the flavour vector for Glenlivet\n",
    "glenlivet = whisky[distilleries.searchsorted(\"Glenlivet\")]\n",
    "print(glenlivet) # 12 numbers, in the range 0-5"
   ]
  },
  {
   "cell_type": "code",
   "execution_count": 16,
   "metadata": {
    "ExecuteTime": {
     "end_time": "2021-10-18T16:54:10.191698Z",
     "start_time": "2021-10-18T16:54:10.188770Z"
    }
   },
   "outputs": [],
   "source": [
    "## Compute distances\n",
    "# must use axis=1 to get the right result, otherwise the matrix norm will be used\n",
    "# (the matrix norm is calculated across the whole matrix, rather than across each row vector!)\n",
    "glenlivet_2 = np.linalg.norm(whisky - glenlivet, 2, axis=1)  # L_2 norm\n"
   ]
  },
  {
   "cell_type": "markdown",
   "metadata": {},
   "source": [
    "### Visualising these distances\n",
    "We can visualise these distances. This lets us see which distilleries produce whisky most similar to Glenlivet and which of them are most dissimilar. Note that we can use `argsort` to order a list of distances. Below, we plot each distillery's flavour distance to `Glenlivet` as a rank bar plot (see Unit 3). The labels are a bit small, but the graph is a useful summary of the distances in this abstract 12 dimensional space."
   ]
  },
  {
   "cell_type": "code",
   "execution_count": 17,
   "metadata": {
    "ExecuteTime": {
     "end_time": "2021-10-18T16:54:34.187727Z",
     "start_time": "2021-10-18T16:54:32.891781Z"
    }
   },
   "outputs": [
    {
     "data": {
      "image/png": "[encoded data removed]",
      "text/plain": [
       "<Figure size 2100x3150 with 1 Axes>"
      ]
     },
     "metadata": {
      "needs_background": "light"
     },
     "output_type": "display_data"
    }
   ],
   "source": [
    "fig = plt.figure(figsize=(15, 22.5))\n",
    "\n",
    "# you can use this utility function to\n",
    "# help you get the xticklabels in order\n",
    "def list_in_order(alist, order):\n",
    "    \"\"\"Given a list 'alist' and a list of indices 'order'\n",
    "    returns the list in the order given by the indices\"\"\"\n",
    "    return [alist[i] for i in order]\n",
    "\n",
    "\n",
    "def rank_plot(distances):\n",
    "    # find the ordering of the distances\n",
    "    order = np.argsort(distances)\n",
    "    # bar plot them\n",
    "    ax.bar(np.arange(len(distances)), distances[order])\n",
    "    ax.set_xlabel(\"Distillery\", fontsize=12)\n",
    "    ax.set_ylabel(\"Distance to Glenlivet (in flavour space)\", fontsize=12)\n",
    "    ax.set_xticks(np.arange(86))\n",
    "    ax.set_frame_on(False)\n",
    "    # make sure the same order is used for the labels!\n",
    "    ax.set_xticklabels(\n",
    "        list_in_order(distilleries, order), rotation=\"vertical\", fontsize=8\n",
    "    )\n",
    "\n",
    "\n",
    "# make the plot\n",
    "ax = fig.add_subplot(3, 1, 1)\n",
    "ax.set_title(\"$L_2$ norm\", fontsize=16)\n",
    "rank_plot(glenlivet_2)\n",
    "\n",
    "# removes ugly overlapping\n",
    "plt.tight_layout()"
   ]
  },
  {
   "cell_type": "markdown",
   "metadata": {},
   "source": [
    "## Tasks"
   ]
  },
  {
   "cell_type": "markdown",
   "metadata": {},
   "source": [
    "**Task A.1** \n",
    "\n",
    "Compute the $L_1$ distance between Tomintoul and Mortlach's flavour profiles, and store it in the variable $d_1$."
   ]
  },
  {
   "cell_type": "code",
   "execution_count": 4,
   "metadata": {
    "ExecuteTime": {
     "end_time": "2021-10-18T16:54:47.246902Z",
     "start_time": "2021-10-18T16:54:47.242997Z"
    },
    "deletable": false,
    "nbgrader": {
     "cell_type": "code",
     "checksum": "1ddb29fc1f1cfae27d2f10357f90bb8f",
     "grade": false,
     "grade_id": "cell-1acc60e9ed7c8c42",
     "locked": false,
     "schema_version": 3,
     "solution": true
    }
   },
   "outputs": [],
   "source": [
    "# YOUR CODE HERE\n",
    "tomintoul = distilleries.searchsorted(\"Tomintoul\")\n",
    "mortlach = distilleries.searchsorted(\"Mortlach\")\n",
    "d_1 = np.linalg.norm(whisky[tomintoul] - whisky[mortlach], ord=1)"
   ]
  },
  {
   "cell_type": "code",
   "execution_count": 5,
   "metadata": {
    "ExecuteTime": {
     "end_time": "2021-10-18T16:54:47.595142Z",
     "start_time": "2021-10-18T16:54:47.589755Z"
    },
    "deletable": false,
    "editable": false,
    "nbgrader": {
     "cell_type": "code",
     "checksum": "4b1b02effe995c82567b4cd73772434f",
     "grade": true,
     "grade_id": "cell-d202f70c3dedec37",
     "locked": false,
     "points": 4,
     "schema_version": 3,
     "solution": false
    }
   },
   "outputs": [
    {
     "data": {
      "text/html": [
       "\n",
       "        <div class=\"alert alert-box alert-success\">\n",
       "        <h1> <!--{id:\"CORRECTMARK\", marks:\"4\"}--> \n",
       "         ✓ [4 marks] \n",
       "         </h1> </div>"
      ],
      "text/plain": [
       "<IPython.core.display.HTML object>"
      ]
     },
     "metadata": {},
     "output_type": "display_data"
    }
   ],
   "source": [
    "with tick.marks(4):        \n",
    "    assert(check_hash(d_1, ((), 55.35505212431931)))"
   ]
  },
  {
   "cell_type": "markdown",
   "metadata": {},
   "source": [
    "**Task A.2** \n",
    "Which distillery is least like `Scapa`'s flavour profile in the $L_2$ norm? Store the distillery **name** in the variable in `unlike_scapa`. Note: compute this - do not hardcode it.\n"
   ]
  },
  {
   "cell_type": "code",
   "execution_count": 18,
   "metadata": {
    "ExecuteTime": {
     "end_time": "2021-10-18T16:54:55.307858Z",
     "start_time": "2021-10-18T16:54:55.302979Z"
    },
    "deletable": false,
    "nbgrader": {
     "cell_type": "code",
     "checksum": "45d881ab359c8de4405a4ae73a9a16d9",
     "grade": false,
     "grade_id": "cell-307265343109c4f2",
     "locked": false,
     "schema_version": 3,
     "solution": true
    }
   },
   "outputs": [],
   "source": [
    "# YOUR CODE HERE\n",
    "scapa = whisky[distilleries.searchsorted(\"Scapa\")]\n",
    "unlike_scapa = distilleries[np.linalg.norm(whisky - scapa, 2, axis=1).argmax()]"
   ]
  },
  {
   "cell_type": "code",
   "execution_count": 19,
   "metadata": {
    "ExecuteTime": {
     "end_time": "2021-10-18T16:54:55.653175Z",
     "start_time": "2021-10-18T16:54:55.650708Z"
    }
   },
   "outputs": [
    {
     "name": "stdout",
     "output_type": "stream",
     "text": [
      "The distillery most unlike Scapa (according to the L_2 norm) is Laphroig.\n"
     ]
    }
   ],
   "source": [
    "print(f\"The distillery most unlike Scapa (according to the L_2 norm) is {unlike_scapa}.\")"
   ]
  },
  {
   "cell_type": "code",
   "execution_count": 20,
   "metadata": {
    "ExecuteTime": {
     "end_time": "2021-10-18T16:54:56.120550Z",
     "start_time": "2021-10-18T16:54:56.115671Z"
    },
    "deletable": false,
    "editable": false,
    "nbgrader": {
     "cell_type": "code",
     "checksum": "d90db011ea2710c70097efe6aeb1482e",
     "grade": true,
     "grade_id": "cell-a0ae85732a13f420",
     "locked": false,
     "points": 2,
     "schema_version": 3,
     "solution": false
    }
   },
   "outputs": [
    {
     "name": "stdout",
     "output_type": "stream",
     "text": [
      "2291391646\n"
     ]
    },
    {
     "data": {
      "text/html": [
       "\n",
       "        <div class=\"alert alert-box alert-success\">\n",
       "        <h1> <!--{id:\"CORRECTMARK\", marks:\"2\"}--> \n",
       "         ✓ [2 marks] \n",
       "         </h1> </div>"
      ],
      "text/plain": [
       "<IPython.core.display.HTML object>"
      ]
     },
     "metadata": {},
     "output_type": "display_data"
    }
   ],
   "source": [
    "with tick.marks(2):        \n",
    "    assert(case_crc(unlike_scapa)==2291391646)"
   ]
  },
  {
   "cell_type": "markdown",
   "metadata": {
    "ExecuteTime": {
     "end_time": "2020-10-15T13:24:34.313152Z",
     "start_time": "2020-10-15T13:24:34.308273Z"
    }
   },
   "source": [
    "Which distillery is *geographically closest to* Lagavulin (using L_2 norm)? (i.e. in map units, not whisky space)"
   ]
  },
  {
   "cell_type": "code",
   "execution_count": 31,
   "metadata": {
    "ExecuteTime": {
     "end_time": "2021-10-18T16:54:58.023881Z",
     "start_time": "2021-10-18T16:54:58.019979Z"
    },
    "deletable": false,
    "nbgrader": {
     "cell_type": "code",
     "checksum": "a82a09781361128089222b770484db02",
     "grade": false,
     "grade_id": "cell-19128796b20d1001",
     "locked": false,
     "schema_version": 3,
     "solution": true,
     "task": false
    }
   },
   "outputs": [
    {
     "name": "stdout",
     "output_type": "stream",
     "text": [
      "[140430 645730]\n",
      "Ardbeg\n"
     ]
    }
   ],
   "source": [
    "# YOUR CODE HERE\n",
    "lagavulin_loc = locations[distilleries.searchsorted('Lagavulin')]\n",
    "print(lagavulin_loc)\n",
    "# Choose next one after Lagavulin\n",
    "nearest_lagavulin = distilleries[np.linalg.norm(locations - lagavulin_loc, ord=2, axis=1).argsort()[1]]\n",
    "print(nearest_lagavulin)"
   ]
  },
  {
   "cell_type": "code",
   "execution_count": 32,
   "metadata": {
    "ExecuteTime": {
     "end_time": "2021-10-18T16:55:00.460817Z",
     "start_time": "2021-10-18T16:55:00.455937Z"
    },
    "deletable": false,
    "editable": false,
    "nbgrader": {
     "cell_type": "code",
     "checksum": "26579958fc0a8dc9708ca1b6cc955272",
     "grade": true,
     "grade_id": "cell-6d46877260b5ef06",
     "locked": true,
     "points": 2,
     "schema_version": 3,
     "solution": false,
     "task": false
    }
   },
   "outputs": [
    {
     "name": "stdout",
     "output_type": "stream",
     "text": [
      "3308509936\n"
     ]
    },
    {
     "data": {
      "text/html": [
       "\n",
       "        <div class=\"alert alert-box alert-success\">\n",
       "        <h1> <!--{id:\"CORRECTMARK\", marks:\"2\"}--> \n",
       "         ✓ [2 marks] \n",
       "         </h1> </div>"
      ],
      "text/plain": [
       "<IPython.core.display.HTML object>"
      ]
     },
     "metadata": {},
     "output_type": "display_data"
    }
   ],
   "source": [
    "with tick.marks(2):        \n",
    "    assert(case_crc(nearest_lagavulin)==3308509936)"
   ]
  },
  {
   "cell_type": "markdown",
   "metadata": {},
   "source": [
    "Which distillery is *closest to* the flavour midway point between Ardbeg and Scapa (using L_2 norm)?"
   ]
  },
  {
   "cell_type": "code",
   "execution_count": 33,
   "metadata": {
    "ExecuteTime": {
     "end_time": "2021-10-18T16:55:04.554934Z",
     "start_time": "2021-10-18T16:55:04.550054Z"
    }
   },
   "outputs": [
    {
     "name": "stdout",
     "output_type": "stream",
     "text": [
      "OldPulteney\n"
     ]
    }
   ],
   "source": [
    "midway = (whisky[distilleries.searchsorted('Ardbeg')] + whisky[distilleries.searchsorted('Scapa')])/2\n",
    "midway_ardbeg_scapa = distilleries[\n",
    "    np.argsort(np.linalg.norm(midway-whisky, ord=2, axis=1))[1]]\n",
    "print(midway_ardbeg_scapa)"
   ]
  },
  {
   "cell_type": "code",
   "execution_count": 34,
   "metadata": {
    "ExecuteTime": {
     "end_time": "2021-10-18T16:55:05.593739Z",
     "start_time": "2021-10-18T16:55:05.588859Z"
    },
    "deletable": false,
    "editable": false,
    "nbgrader": {
     "cell_type": "code",
     "checksum": "fb943c1c957a1effe932edb7e34295a1",
     "grade": true,
     "grade_id": "cell-e04028f660410b85",
     "locked": true,
     "points": 2,
     "schema_version": 3,
     "solution": false,
     "task": false
    }
   },
   "outputs": [
    {
     "name": "stdout",
     "output_type": "stream",
     "text": [
      "2088351511\n"
     ]
    },
    {
     "data": {
      "text/html": [
       "\n",
       "        <div class=\"alert alert-box alert-success\">\n",
       "        <h1> <!--{id:\"CORRECTMARK\", marks:\"2\"}--> \n",
       "         ✓ [2 marks] \n",
       "         </h1> </div>"
      ],
      "text/plain": [
       "<IPython.core.display.HTML object>"
      ]
     },
     "metadata": {},
     "output_type": "display_data"
    }
   ],
   "source": [
    "with tick.marks(2):        \n",
    "    assert(case_crc(midway_ardbeg_scapa)==2088351511)"
   ]
  },
  {
   "cell_type": "markdown",
   "metadata": {
    "nbgrader": {
     "checksum": "95171daaa5784a624eea7fd2d2db689a",
     "grade": false,
     "grade_id": "cell-bb107ebb050bd270",
     "locked": false,
     "schema_version": 3,
     "solution": false
    }
   },
   "source": [
    "**Note** from now on, use the $L_2$ norm if you need to compute any norms.\n",
    "\n",
    "\n",
    "### Vector arithmetic\n",
    "A client says to you:\n",
    "    \n",
    ">    I'd like something a bit more \"lively\" than Tobermory, in the same way that Craigellachie is more \"lively\" than Auchentoshan.\n",
    "\n",
    "Which whisky should you recommend? \n",
    "\n",
    "<div class=\"alert alert-info\">\n",
    "\n",
    "**Note**\n",
    "* What does more \"lively\" mean? We don't have a \"lively\" column.\n",
    "    * But we do have a reference point: Auchentoshan -> Craigellachie is somehow \"lively\"\n",
    "    * This \"direction\" between these flavour vectors is *also* a vector\n",
    "</div>\n",
    "\n",
    "**Task A.3** Compute:\n",
    "\n",
    "* `lively` A vector representing what \"lively\" is.\n",
    "* `hypothetical_flavour` A vector representing a hypothetical flavour that would be a more lively version of Tobermory.\n",
    "* `recommendation` the name of a specific distillery that we might recommend, as a string.\n",
    "* `mild_recommendation` the name of a distillery that is a version of Tobermory that is half as \"lively\" as Craigellachie->Auchentoshan.\n",
    "\n",
    "**Note: this question is not subjective, nor does it require any trial-and-error or knowledge about whisky. Answer it directly using vector arithmetic.**"
   ]
  },
  {
   "cell_type": "code",
   "execution_count": 46,
   "metadata": {
    "ExecuteTime": {
     "end_time": "2021-10-18T16:55:10.781616Z",
     "start_time": "2021-10-18T16:55:10.775761Z"
    },
    "deletable": false,
    "nbgrader": {
     "cell_type": "code",
     "checksum": "8d3290029e862c33d2c07ca6be1f6ec8",
     "grade": false,
     "grade_id": "cell-ec141fe141891e1e",
     "locked": false,
     "schema_version": 3,
     "solution": true
    }
   },
   "outputs": [],
   "source": [
    "# YOUR CODE HERE\n",
    "craigellachie = distilleries.searchsorted(\"Craigellachie\")\n",
    "auchentoshan = distilleries.searchsorted(\"Auchentoshan\")\n",
    "lively = whisky[craigellachie] - whisky[auchentoshan]\n",
    "tobermory = distilleries.searchsorted(\"Tobermony\")\n",
    "hypothetical_flavour = whisky[tobermory] + lively\n",
    "recommendation = distilleries[np.linalg.norm(whisky - hypothetical_flavour, ord=2, axis=1).argmin()]\n",
    "mild_flavour = whisky[tobermory] + lively/2\n",
    "recommendation_mild = distilleries[np.linalg.norm(whisky - mild_flavour, ord=2, axis=1).argmin()]"
   ]
  },
  {
   "cell_type": "code",
   "execution_count": 42,
   "metadata": {
    "ExecuteTime": {
     "end_time": "2021-10-18T16:55:10.937917Z",
     "start_time": "2021-10-18T16:55:10.934989Z"
    }
   },
   "outputs": [
    {
     "name": "stdout",
     "output_type": "stream",
     "text": [
      "I would recommend Dailuaine as a more 'lively' version of Tobermory.\n"
     ]
    }
   ],
   "source": [
    "print(\"I would recommend {distillery} as a more 'lively' version of Tobermory.\".format(distillery=recommendation))"
   ]
  },
  {
   "cell_type": "code",
   "execution_count": 9,
   "metadata": {
    "ExecuteTime": {
     "end_time": "2021-10-18T16:55:11.072715Z",
     "start_time": "2021-10-18T16:55:11.067834Z"
    },
    "deletable": false,
    "editable": false,
    "nbgrader": {
     "cell_type": "code",
     "checksum": "ab45b9a6314b83067d60e32056b3d9f7",
     "grade": true,
     "grade_id": "cell-25e7b70be3c60dc4",
     "locked": false,
     "points": 2,
     "schema_version": 3,
     "solution": false
    }
   },
   "outputs": [
    {
     "data": {
      "text/html": [
       "\n",
       "        <div class=\"alert alert-box alert-success\">\n",
       "        <h1> <!--{id:\"CORRECTMARK\", marks:\"2\"}--> \n",
       "         ✓ [2 marks] \n",
       "         </h1> </div>"
      ],
      "text/plain": [
       "<IPython.core.display.HTML object>"
      ]
     },
     "metadata": {},
     "output_type": "display_data"
    }
   ],
   "source": [
    "with tick.marks(2):\n",
    "    assert(check_hash(lively, ((12,), -2.4067078581354258 )))"
   ]
  },
  {
   "cell_type": "code",
   "execution_count": 40,
   "metadata": {
    "ExecuteTime": {
     "end_time": "2021-10-18T16:55:11.206061Z",
     "start_time": "2021-10-18T16:55:11.200674Z"
    },
    "deletable": false,
    "editable": false,
    "nbgrader": {
     "cell_type": "code",
     "checksum": "4ebbe7afe2492e3f9eab49b6504fdad6",
     "grade": true,
     "grade_id": "cell-ba243540c5e942e7",
     "locked": false,
     "points": 2,
     "schema_version": 3,
     "solution": false
    }
   },
   "outputs": [
    {
     "data": {
      "text/html": [
       "\n",
       "        <div class=\"alert alert-box alert-success\">\n",
       "        <h1> <!--{id:\"CORRECTMARK\", marks:\"2\"}--> \n",
       "         ✓ [2 marks] \n",
       "         </h1> </div>"
      ],
      "text/plain": [
       "<IPython.core.display.HTML object>"
      ]
     },
     "metadata": {},
     "output_type": "display_data"
    }
   ],
   "source": [
    "with tick.marks(2):\n",
    "    assert(check_hash(hypothetical_flavour,((12,), 132.25871909606641)))"
   ]
  },
  {
   "cell_type": "code",
   "execution_count": 43,
   "metadata": {
    "ExecuteTime": {
     "end_time": "2021-10-18T16:55:11.349637Z",
     "start_time": "2021-10-18T16:55:11.345734Z"
    },
    "deletable": false,
    "editable": false,
    "nbgrader": {
     "cell_type": "code",
     "checksum": "ed73a4b2b7aa417546bb1b1c65f0784e",
     "grade": true,
     "grade_id": "cell-78eb86cda8526382",
     "locked": false,
     "points": 1,
     "schema_version": 3,
     "solution": false
    }
   },
   "outputs": [
    {
     "name": "stdout",
     "output_type": "stream",
     "text": [
      "2849472188\n"
     ]
    },
    {
     "data": {
      "text/html": [
       "\n",
       "        <div class=\"alert alert-box alert-success\">\n",
       "        <h1> <!--{id:\"CORRECTMARK\", marks:\"1\"}--> \n",
       "         ✓ [1 marks] \n",
       "         </h1> </div>"
      ],
      "text/plain": [
       "<IPython.core.display.HTML object>"
      ]
     },
     "metadata": {},
     "output_type": "display_data"
    }
   ],
   "source": [
    "with tick.marks(1):\n",
    "    assert(case_crc(recommendation)==2849472188)"
   ]
  },
  {
   "cell_type": "code",
   "execution_count": 47,
   "metadata": {
    "ExecuteTime": {
     "end_time": "2021-10-18T16:55:11.497156Z",
     "start_time": "2021-10-18T16:55:11.492746Z"
    },
    "deletable": false,
    "editable": false,
    "nbgrader": {
     "cell_type": "code",
     "checksum": "56f5edfae6ae56ecce7622e54dbaef38",
     "grade": true,
     "grade_id": "cell-efdc4f1951bc6587",
     "locked": true,
     "points": 1,
     "schema_version": 3,
     "solution": false,
     "task": false
    }
   },
   "outputs": [
    {
     "name": "stdout",
     "output_type": "stream",
     "text": [
      "I would recommend Speyside as a slightly less 'lively' version of Tobermory.\n",
      "95109583\n"
     ]
    },
    {
     "data": {
      "text/html": [
       "\n",
       "        <div class=\"alert alert-box alert-success\">\n",
       "        <h1> <!--{id:\"CORRECTMARK\", marks:\"1\"}--> \n",
       "         ✓ [1 marks] \n",
       "         </h1> </div>"
      ],
      "text/plain": [
       "<IPython.core.display.HTML object>"
      ]
     },
     "metadata": {},
     "output_type": "display_data"
    }
   ],
   "source": [
    "print(\"I would recommend {distillery} as a slightly less 'lively' version of Tobermory.\".format(distillery=recommendation_mild))\n",
    "with tick.marks(1):\n",
    "    assert(case_crc(recommendation_mild)==95109583)"
   ]
  },
  {
   "cell_type": "markdown",
   "metadata": {},
   "source": [
    "**Task A.4** A client wishes to taste whiskies that are new to her. You have been told:\n",
    "\n",
    "* The client has visited Scotland and tasted `Lagavulin`, `Laphroig`, and `Ardbeg`.\n",
    "* She hated them.\n",
    "* Find the five distilleries which are as distant as possible from the average flavour profile that the client has already experienced. \n",
    "* The client is currently visiting `Glenlivet` and wishes to have an efficient tour of Scotland, so order the distilleries to visit in order of geographical distance to Glenlivet, closest first.\n",
    "\n",
    "Store the list of names in `new_experiences`. This should begin `Tomintoul`.\n"
   ]
  },
  {
   "cell_type": "code",
   "execution_count": 63,
   "metadata": {
    "ExecuteTime": {
     "end_time": "2021-10-18T16:55:20.652630Z",
     "start_time": "2021-10-18T16:55:20.646774Z"
    },
    "deletable": false,
    "nbgrader": {
     "cell_type": "code",
     "checksum": "1d60c8e520d13ed297022c165ecc1421",
     "grade": false,
     "grade_id": "cell-94848d23478c59fa",
     "locked": false,
     "schema_version": 3,
     "solution": true
    }
   },
   "outputs": [
    {
     "name": "stdout",
     "output_type": "stream",
     "text": [
      "[3.99463288 2.17570117 3.99833513 3.43638385 1.18150635 0.90759943\n",
      " 0.98340442 1.81739786 1.62825207 2.4769014  0.91584533 0.57651744]\n",
      "[83 25  1 37  6]\n"
     ]
    }
   ],
   "source": [
    "# YOUR CODE HERE\n",
    "lagavulin = whisky[distilleries.searchsorted(\"Lagavulin\")]\n",
    "laphroig = whisky[distilleries.searchsorted(\"Laphroig\")]\n",
    "ardberg = whisky[distilleries.searchsorted(\"Ardberg\")]\n",
    "hated_whiskies = [lagavulin, laphroig, ardberg]\n",
    "\n",
    "avg_flavour = np.mean(hated_whiskies, axis=0)\n",
    "print(avg_flavour)\n",
    "furthest_whiskies = np.linalg.norm(whisky - avg_flavour, ord=2, axis=1).argsort()[-5:]\n",
    "print(furthest_whiskies)\n",
    "\n",
    "new_experiences = distilleries[np.linalg.norm(locations - lagavulin_loc, ord=2, axis=1).argsort()[1]]"
   ]
  },
  {
   "cell_type": "code",
   "execution_count": null,
   "metadata": {
    "ExecuteTime": {
     "end_time": "2021-10-18T16:55:22.064135Z",
     "start_time": "2021-10-18T16:55:22.060699Z"
    }
   },
   "outputs": [],
   "source": [
    "print(\"The recommended new experiences are:\")\n",
    "\n",
    "for distillery in new_experiences:\n",
    "    print(\"\\t\", distillery)\n"
   ]
  },
  {
   "cell_type": "code",
   "execution_count": null,
   "metadata": {
    "ExecuteTime": {
     "end_time": "2021-10-18T16:55:25.797010Z",
     "start_time": "2021-10-18T16:55:25.791624Z"
    },
    "deletable": false,
    "editable": false,
    "nbgrader": {
     "cell_type": "code",
     "checksum": "e7b5eb3e37e2a55350b9e60717164c4c",
     "grade": true,
     "grade_id": "cell-c674606591b6562a",
     "locked": false,
     "points": 4,
     "schema_version": 3,
     "solution": false
    }
   },
   "outputs": [],
   "source": [
    "with tick.marks(4):\n",
    "    assert(case_crc(new_experiences[0])==277845485)\n",
    "    assert(case_crc(new_experiences[1])==1616467651)\n",
    "    assert(case_crc(new_experiences[2])==1754616754)\n",
    "    assert(case_crc(new_experiences[3])==2995927990)\n",
    "    assert(case_crc(new_experiences[4])==3150786825)"
   ]
  },
  {
   "cell_type": "markdown",
   "metadata": {},
   "source": [
    "## Region flavours\n",
    "\n",
    "We could say that the \"representative\" element of a collection of vectors was the one closest to the centroid. This is given by the **mean vector** of a data set.\n",
    "\n",
    "**Task A.5** Compute the mean vector of all of the flavour vectors. Use it to find the names of three distilleries:\n",
    "* `most_representative` The distillery with the **most** representative flavour profile\n",
    "* `least_representative` The distillery with the **least** representative flavour profile"
   ]
  },
  {
   "cell_type": "code",
   "execution_count": null,
   "metadata": {
    "ExecuteTime": {
     "end_time": "2021-10-18T16:55:48.058840Z",
     "start_time": "2021-10-18T16:55:48.053960Z"
    },
    "deletable": false,
    "nbgrader": {
     "cell_type": "code",
     "checksum": "1d92cac3ba4ac38fd853b2c6dad3a494",
     "grade": false,
     "grade_id": "cell-3242a48a43975acc",
     "locked": false,
     "schema_version": 3,
     "solution": true
    }
   },
   "outputs": [],
   "source": [
    "# YOUR CODE HERE"
   ]
  },
  {
   "cell_type": "code",
   "execution_count": null,
   "metadata": {
    "ExecuteTime": {
     "end_time": "2021-10-18T16:55:48.533112Z",
     "start_time": "2021-10-18T16:55:48.529663Z"
    }
   },
   "outputs": [],
   "source": [
    "print(\"The most representative whisky distillery is {most}, and the most unusual is {least}.\".format(most=most_representative,\n",
    "                                                                                           least=least_representative))"
   ]
  },
  {
   "cell_type": "code",
   "execution_count": null,
   "metadata": {
    "ExecuteTime": {
     "end_time": "2021-10-18T16:55:49.038667Z",
     "start_time": "2021-10-18T16:55:49.033787Z"
    },
    "deletable": false,
    "editable": false,
    "nbgrader": {
     "cell_type": "code",
     "checksum": "28b90097502c89bb7ac011f7638208bf",
     "grade": true,
     "grade_id": "cell-4b32d3ff9b60718d",
     "locked": false,
     "points": 4,
     "schema_version": 3,
     "solution": false
    }
   },
   "outputs": [],
   "source": [
    "with tick.marks(4):\n",
    "    assert(case_crc(most_representative)==1877523766)\n",
    "    assert(case_crc(least_representative)==2291391646)"
   ]
  },
  {
   "cell_type": "markdown",
   "metadata": {},
   "source": [
    "**Task A.6** Find six distilleries as evenly spaced in *geographical location* as possible, in a straight line from `Mortlach` to `Glengoyne`. Store this sequence of names in `tour`, which should begin `Mortlach` and end `Glengoyne`.\n"
   ]
  },
  {
   "cell_type": "code",
   "execution_count": null,
   "metadata": {
    "ExecuteTime": {
     "end_time": "2021-10-18T16:56:01.224927Z",
     "start_time": "2021-10-18T16:56:01.220047Z"
    },
    "deletable": false,
    "nbgrader": {
     "cell_type": "code",
     "checksum": "aa12d38c1bfea826b97ce5b332585e66",
     "grade": false,
     "grade_id": "cell-04acb7723b060347",
     "locked": false,
     "schema_version": 3,
     "solution": true,
     "task": false
    }
   },
   "outputs": [],
   "source": [
    "# YOUR CODE HERE"
   ]
  },
  {
   "cell_type": "code",
   "execution_count": null,
   "metadata": {
    "ExecuteTime": {
     "end_time": "2021-10-18T16:56:02.289642Z",
     "start_time": "2021-10-18T16:56:02.283786Z"
    }
   },
   "outputs": [],
   "source": [
    "print(tour)\n",
    "with tick.marks(4):\n",
    "    assert(case_crc(tour[0])==752256104)\n",
    "    assert(case_crc(tour[1])==3620979414)\n",
    "    assert(case_crc(tour[2])==2078579357)\n",
    "    assert(case_crc(tour[3])==3551803812)\n",
    "    assert(case_crc(tour[4])==1874522992)\n",
    "    assert(case_crc(tour[5])==1743686774)"
   ]
  },
  {
   "cell_type": "markdown",
   "metadata": {},
   "source": [
    "\n",
    "### A map\n",
    "The code below will show a map of Scotland, with the distilleries in their correct positions. Different geographic regions have different characteristic flavour profiles.\n",
    "\n",
    "Two very distinctive regions are the **island** region and the **Speyside** region. These are bounded roughly by the boxes\n",
    "\n",
    "* [x1, y1] -> [x2, y2]\n",
    "* **Island** 95000, 625000 -> 183000, 860000\n",
    "* **Speyside** 263000, 785000 -> 343000,880000\n",
    "    \n",
    "in the same OS grid units used in the `locations` array. This is highlighted on the map below.\n"
   ]
  },
  {
   "cell_type": "code",
   "execution_count": null,
   "metadata": {
    "ExecuteTime": {
     "end_time": "2021-10-18T16:57:33.371101Z",
     "start_time": "2021-10-18T16:57:32.876822Z"
    }
   },
   "outputs": [],
   "source": [
    "from whisky_map import draw_map, map_box\n",
    "\n",
    "# draw each distillery label at the locations given.\n",
    "ax = draw_map(locations, distilleries)\n",
    "\n",
    "# show the island region\n",
    "# draw a box in OS grid units\n",
    "map_box(ax, 95000, 625000, 183000, 860000)\n",
    "map_box(ax, 263000, 785000, 343000,880000 )"
   ]
  },
  {
   "cell_type": "markdown",
   "metadata": {},
   "source": [
    "**Task A.6**\n",
    "* Find all distilleries in `island` and in `Speyside` and store their names in `island_distilleries` and `speyside_distilleries`. \n",
    "\n",
    "To help check your results, note that there are 10 island distilleries and `Ardbeg` is one; there are 60 Speyside distilleries and `Aberlour` is one."
   ]
  },
  {
   "cell_type": "code",
   "execution_count": null,
   "metadata": {
    "ExecuteTime": {
     "end_time": "2021-10-18T16:57:36.384039Z",
     "start_time": "2021-10-18T16:57:36.378183Z"
    },
    "deletable": false,
    "nbgrader": {
     "cell_type": "code",
     "checksum": "eb74a7ca14853a54851a2dcd234d2d83",
     "grade": false,
     "grade_id": "cell-9f1b08b11035c769",
     "locked": false,
     "schema_version": 3,
     "solution": true,
     "task": false
    }
   },
   "outputs": [],
   "source": [
    "# YOUR CODE HERE"
   ]
  },
  {
   "cell_type": "code",
   "execution_count": null,
   "metadata": {
    "ExecuteTime": {
     "end_time": "2021-10-18T16:57:36.700041Z",
     "start_time": "2021-10-18T16:57:36.694184Z"
    },
    "deletable": false,
    "editable": false,
    "nbgrader": {
     "cell_type": "code",
     "checksum": "ac0e68ebcd83689ac2e8885a92c20fec",
     "grade": true,
     "grade_id": "cell-eb952c05d2eb20d1",
     "locked": true,
     "points": 4,
     "schema_version": 3,
     "solution": false,
     "task": false
    }
   },
   "outputs": [],
   "source": [
    "with tick.marks(4):\n",
    "    assert len(island_distilleries)==10\n",
    "    assert len(speyside_distilleries)==60\n",
    "    assert case_crc(\" \".join(sorted(island_distilleries)))==687563559\n",
    "    assert case_crc(\" \".join(sorted(speyside_distilleries)))==424347645"
   ]
  },
  {
   "cell_type": "markdown",
   "metadata": {},
   "source": [
    "Compute the following:\n",
    "\n",
    "* `island_flavour`: Compute the most typical whisky flavour profile for island whiskies. (i.e. a 12 element vector).\n",
    "* `most_typical_speyside`: The specific name of the distillery from Speyside that is most typical of that region;\n",
    "* `most_atypical_island`: The specific name of the distillery *from the islands* that is most atypical of that region (i.e. furthest from the typical island flavour);\n",
    "* `most_typical_outside`: The specific name of the distillery from **outside** both Speyside and the islands that is most typical of the flavour outside those regions;\n",
    "* `most_like_island`: The specific name of the distillery from **outside** the islands that is most like a typical island distillery.\n",
    "\n",
    "**Note:** do not do any of this by hand. Write code.\n",
    "Hint: Boolean arrays."
   ]
  },
  {
   "cell_type": "code",
   "execution_count": null,
   "metadata": {
    "ExecuteTime": {
     "end_time": "2021-10-18T16:58:09.047824Z",
     "start_time": "2021-10-18T16:58:08.962834Z"
    },
    "deletable": false,
    "nbgrader": {
     "cell_type": "code",
     "checksum": "e5f6022dcc8f7aa63445fd2eefe508ee",
     "grade": false,
     "grade_id": "cell-da4e4c13160bcd2c",
     "locked": false,
     "schema_version": 3,
     "solution": true
    }
   },
   "outputs": [],
   "source": [
    "# YOUR CODE HERE"
   ]
  },
  {
   "cell_type": "code",
   "execution_count": null,
   "metadata": {
    "ExecuteTime": {
     "end_time": "2021-10-18T16:58:09.449751Z",
     "start_time": "2021-10-18T16:58:09.444871Z"
    },
    "deletable": false,
    "editable": false,
    "nbgrader": {
     "cell_type": "code",
     "checksum": "7cc77e3e5dfb0fa23c1ac768d94acd52",
     "grade": true,
     "grade_id": "cell-e68f0048ec3c2544",
     "locked": false,
     "points": 2,
     "schema_version": 3,
     "solution": false
    }
   },
   "outputs": [],
   "source": [
    "with tick.marks(2):\n",
    "    assert(check_hash(island_flavour, ((12,), 145.92133250662795 )))"
   ]
  },
  {
   "cell_type": "code",
   "execution_count": null,
   "metadata": {
    "ExecuteTime": {
     "end_time": "2021-10-18T16:58:10.054935Z",
     "start_time": "2021-10-18T16:58:10.050054Z"
    }
   },
   "outputs": [],
   "source": [
    "print(\"The most typical whisky of the Speyside region is {most}.\".format(most=most_typical_speyside))\n",
    "print(\"The most atypical whisky of the island region is {most}.\".format(most=most_atypical_island))\n",
    "print(\"The most typical non-island/non-Speyside whisky is {most}.\".format(most=most_typical_outside))\n",
    "print(\"The non-island whisky most like island whiskies is {nonisland}.\".format(nonisland=most_like_island))       "
   ]
  },
  {
   "cell_type": "code",
   "execution_count": null,
   "metadata": {
    "ExecuteTime": {
     "end_time": "2021-10-18T16:58:10.701086Z",
     "start_time": "2021-10-18T16:58:10.696206Z"
    },
    "deletable": false,
    "editable": false,
    "nbgrader": {
     "cell_type": "code",
     "checksum": "6d8f7cda71fb47bb0532134a417d4c9e",
     "grade": true,
     "grade_id": "cell-3d6bf063f0e5a993",
     "locked": false,
     "points": 2,
     "schema_version": 3,
     "solution": false
    }
   },
   "outputs": [],
   "source": [
    "with tick.marks(2):\n",
    "    assert(case_crc(most_typical_speyside)==125187962)"
   ]
  },
  {
   "cell_type": "code",
   "execution_count": null,
   "metadata": {
    "ExecuteTime": {
     "end_time": "2021-10-18T16:58:18.764824Z",
     "start_time": "2021-10-18T16:58:18.759944Z"
    },
    "deletable": false,
    "editable": false,
    "nbgrader": {
     "cell_type": "code",
     "checksum": "8105191d07eeaebfd0d4da1ef5d2b2d1",
     "grade": true,
     "grade_id": "cell-9542548c0936467b",
     "locked": true,
     "points": 2,
     "schema_version": 3,
     "solution": false
    }
   },
   "outputs": [],
   "source": [
    "with tick.marks(2):\n",
    "    assert(case_crc(most_atypical_island)==999830981)"
   ]
  },
  {
   "cell_type": "code",
   "execution_count": null,
   "metadata": {
    "ExecuteTime": {
     "end_time": "2021-10-18T16:58:18.924054Z",
     "start_time": "2021-10-18T16:58:18.919642Z"
    },
    "deletable": false,
    "editable": false,
    "nbgrader": {
     "cell_type": "code",
     "checksum": "e6bf43627dcac7b52fd57a8457abdb58",
     "grade": true,
     "grade_id": "cell-3d6bf063f0e5a993e",
     "locked": false,
     "points": 2,
     "schema_version": 3,
     "solution": false
    }
   },
   "outputs": [],
   "source": [
    "with tick.marks(2):    \n",
    "    assert(case_crc(most_typical_outside)==224181440)"
   ]
  },
  {
   "cell_type": "code",
   "execution_count": null,
   "metadata": {
    "ExecuteTime": {
     "end_time": "2021-10-18T16:58:19.378860Z",
     "start_time": "2021-10-18T16:58:19.373980Z"
    },
    "deletable": false,
    "editable": false,
    "nbgrader": {
     "cell_type": "code",
     "checksum": "3e1c5b3d891889f596811adb2b67075d",
     "grade": true,
     "grade_id": "cell-3d6bf063f0e5a993f",
     "locked": false,
     "points": 3,
     "schema_version": 3,
     "solution": false
    }
   },
   "outputs": [],
   "source": [
    "with tick.marks(3):    \n",
    "    assert(case_crc(most_like_island)==2088351511)"
   ]
  },
  {
   "cell_type": "markdown",
   "metadata": {},
   "source": [
    "## Task A.7 \n",
    "\n",
    "Find the following quantities:\n",
    "    \n",
    "* `island_speyside`, the flavour vector that goes from the average Speyside to the average island whisky\n",
    "* `most_distinct` the name of the element of the flavour vector that is largest in magnitude in `island_speyside`, i.e. the most relevant column name that distinguishes Speyside and island whiskies\n",
    "* `midway` The name of the distillery that is closest to halfway between the *flavour profiles* of the island and Speyside regions"
   ]
  },
  {
   "cell_type": "code",
   "execution_count": null,
   "metadata": {
    "ExecuteTime": {
     "end_time": "2021-10-18T16:58:45.798194Z",
     "start_time": "2021-10-18T16:58:45.794290Z"
    },
    "deletable": false,
    "nbgrader": {
     "cell_type": "code",
     "checksum": "578bbf6f4c91719f4b7fdecb2a63e31d",
     "grade": false,
     "grade_id": "cell-e9e42a9c3c4b3d98",
     "locked": false,
     "schema_version": 3,
     "solution": true,
     "task": false
    }
   },
   "outputs": [],
   "source": [
    "# YOUR CODE HERE"
   ]
  },
  {
   "cell_type": "code",
   "execution_count": null,
   "metadata": {
    "ExecuteTime": {
     "end_time": "2021-10-18T16:58:46.040920Z",
     "start_time": "2021-10-18T16:58:46.036040Z"
    },
    "deletable": false,
    "editable": false,
    "nbgrader": {
     "cell_type": "code",
     "checksum": "2ee66b6c79e4cf79b7357479020fcc55",
     "grade": true,
     "grade_id": "cell-795aa44c084bfaa7",
     "locked": true,
     "points": 2,
     "schema_version": 3,
     "solution": false,
     "task": false
    }
   },
   "outputs": [],
   "source": [
    "with tick.marks(2):\n",
    "    assert(check_hash(island_speyside, ((12,), -14.971010372737357)))"
   ]
  },
  {
   "cell_type": "code",
   "execution_count": null,
   "metadata": {
    "ExecuteTime": {
     "end_time": "2021-10-18T16:58:46.394554Z",
     "start_time": "2021-10-18T16:58:46.389634Z"
    },
    "deletable": false,
    "editable": false,
    "nbgrader": {
     "cell_type": "code",
     "checksum": "5b64897a5f01c98bd984f7736bdfc40e",
     "grade": true,
     "grade_id": "cell-d21a057fc001137e",
     "locked": true,
     "points": 2,
     "schema_version": 3,
     "solution": false,
     "task": false
    }
   },
   "outputs": [],
   "source": [
    "print(most_distinct)\n",
    "with tick.marks(2):    \n",
    "    assert(case_crc(most_distinct)==1631309389)"
   ]
  },
  {
   "cell_type": "code",
   "execution_count": null,
   "metadata": {
    "ExecuteTime": {
     "end_time": "2021-10-18T16:58:47.058796Z",
     "start_time": "2021-10-18T16:58:47.053916Z"
    }
   },
   "outputs": [],
   "source": [
    "print(midway)\n",
    "with tick.marks(2):        \n",
    "    assert(case_crc(most_distinct)==1631309389)"
   ]
  },
  {
   "cell_type": "markdown",
   "metadata": {},
   "source": [
    "\n",
    "# B: Eigendecompositions and whitening\n",
    "This part uses ideas from Unit 5 of the course. You may wish to wait until after the Unit 5 lecture to attempt this section. \n",
    "\n",
    "You are welcome to attempt it in advance, but you will have to do your own research.\n",
    "\n"
   ]
  },
  {
   "cell_type": "markdown",
   "metadata": {},
   "source": [
    "## Focusing data\n",
    "<img src=\"imgs/drop.jpg\" width=\"40%\"> <br><br>*~[Image](https://flickr.com/photos/predi/236902022 \"just a droplet, but upside down\") by [Predi](https://flickr.com/people/predi) shared [CC BY-ND](https://creativecommons.org/licenses/by-nd/2.0/)*\n",
    "\n",
    "This part will use  matrix decompositions to form abstract \"lenses\" that let us see data from different perspectives. This will let us pull out hidden structure and translate among representations."
   ]
  },
  {
   "cell_type": "markdown",
   "metadata": {},
   "source": [
    "## B.1 Demeaning\n",
    "The dataset that we have is unnormalised. It is a set of ratings, 0-5, and many of the attributes rated are very correlated (e.g. `smoky` and `medicinal`). Many of the ratings are also on quite different scales, with `tobacco` being much less likely to be rated 4 than `floral`.\n",
    "\n",
    "It is easier to work with normalised data. \n",
    "\n",
    "**Task B.1**\n",
    "Compute:\n",
    "* `mean_vector` the average flavour profile (you should have this from part A already)\n",
    "* `demeaned_whisky` that has the mean flavour vector removed. \n",
    "\n"
   ]
  },
  {
   "cell_type": "code",
   "execution_count": null,
   "metadata": {
    "ExecuteTime": {
     "end_time": "2021-10-18T16:59:01.826799Z",
     "start_time": "2021-10-18T16:59:01.823871Z"
    },
    "deletable": false,
    "nbgrader": {
     "cell_type": "code",
     "checksum": "3d59a84de47f6c34356967ba86e8da0e",
     "grade": false,
     "grade_id": "cell-2c070dfbb4f2d130",
     "locked": false,
     "schema_version": 3,
     "solution": true
    }
   },
   "outputs": [],
   "source": [
    "# YOUR CODE HERE"
   ]
  },
  {
   "cell_type": "code",
   "execution_count": null,
   "metadata": {
    "ExecuteTime": {
     "end_time": "2021-10-18T16:59:02.325925Z",
     "start_time": "2021-10-18T16:59:02.086149Z"
    },
    "deletable": false,
    "editable": false,
    "nbgrader": {
     "cell_type": "code",
     "checksum": "5a5618aab9c5a3b574d87d5eefb4678a",
     "grade": true,
     "grade_id": "cell-4e083075b593aab1",
     "locked": false,
     "points": 2,
     "schema_version": 3,
     "solution": false
    }
   },
   "outputs": [],
   "source": [
    "## Show the mean vector as an image strip\n",
    "## Remember: this represents a point in space\n",
    "fig = plt.figure(figsize=(15, 4))\n",
    "ax = fig.add_subplot(1,1,1)\n",
    "img = ax.imshow(mean_vector[None,:], cmap='viridis', vmin=0, vmax=4)\n",
    "ax.set_xticklabels(columns)\n",
    "ax.set_xticks(np.arange(len(columns)))\n",
    "ax.set_yticks([])\n",
    "ax.set_title(\"Mean vector of flavour profile\")\n",
    "fig.colorbar(img, orientation='horizontal')\n",
    "\n",
    "with tick.marks(2):\n",
    "    assert(check_hash(demeaned_whisky, ((86, 12), -12953.907125105236)))"
   ]
  },
  {
   "cell_type": "markdown",
   "metadata": {},
   "source": [
    "## B.2 Covariances"
   ]
  },
  {
   "cell_type": "markdown",
   "metadata": {},
   "source": [
    "**Task B.2** Compute the **covariance matrix** of the *demeaned* data. Call this `whisky_cov`. \n",
    "\n",
    "The code below will show you this matrix as an image. **Note**: this should be a 12x12 matrix!\n",
    "\n",
    "The covariance matrix tells us how different columns of the dataset are correlated (co-vary) with each other."
   ]
  },
  {
   "cell_type": "code",
   "execution_count": null,
   "metadata": {
    "ExecuteTime": {
     "end_time": "2021-10-18T16:59:04.481792Z",
     "start_time": "2021-10-18T16:59:04.477888Z"
    },
    "deletable": false,
    "nbgrader": {
     "cell_type": "code",
     "checksum": "8dd748b63be3cd28f4bc9079cdc39f1f",
     "grade": false,
     "grade_id": "cell-644f04478c589c86",
     "locked": false,
     "schema_version": 3,
     "solution": true
    }
   },
   "outputs": [],
   "source": [
    "# YOUR CODE HERE"
   ]
  },
  {
   "cell_type": "code",
   "execution_count": null,
   "metadata": {
    "ExecuteTime": {
     "end_time": "2021-10-18T16:59:05.012676Z",
     "start_time": "2021-10-18T16:59:04.788997Z"
    },
    "deletable": false,
    "editable": false,
    "nbgrader": {
     "cell_type": "code",
     "checksum": "9fd5cae51ca3385d2ad69a8e60e8a181",
     "grade": true,
     "grade_id": "cell-5be7cc63bab4969a",
     "locked": true,
     "points": 2,
     "schema_version": 3,
     "solution": false
    }
   },
   "outputs": [],
   "source": [
    "fig = plt.figure()\n",
    "ax = fig.add_subplot(1,1,1)\n",
    "img = ax.imshow(whisky_cov, cmap='seismic', vmin=-1.5, vmax=1.5)\n",
    "ax.set_xticks(np.arange(12))\n",
    "ax.set_yticks(np.arange(12))\n",
    "ax.set_yticklabels(columns)\n",
    "ax.set_xticklabels(columns, rotation='vertical')\n",
    "ax.set_title(\"Covariance matrix\")\n",
    "fig.colorbar(img)\n",
    "\n",
    "with tick.marks(2):\n",
    "    assert(check_hash(whisky_cov, ((12, 12), 630.4802156765314)))"
   ]
  },
  {
   "cell_type": "markdown",
   "metadata": {
    "deletable": false,
    "editable": false,
    "nbgrader": {
     "cell_type": "markdown",
     "checksum": "8a169939dd46cd35c9c20e91b243d929",
     "grade": false,
     "grade_id": "cell-90d2d4bed2070e69",
     "locked": true,
     "schema_version": 3,
     "solution": false
    }
   },
   "source": [
    "From the image of the covariance matrix we can see several interesting things:\n",
    "* having `body` is negatively correlated with the `wine` flavour\n",
    "* being `smoky` is negatively correlated with having `sweetness`\n",
    "* `nutty` is positively correlated with `body`\n",
    "\n",
    "Although the raters have provided 12 different categories, it seems these are not fully independent of each other."
   ]
  },
  {
   "cell_type": "markdown",
   "metadata": {
    "deletable": false,
    "editable": false,
    "nbgrader": {
     "cell_type": "markdown",
     "checksum": "4de210aacebe24b30b361d337ff7b62e",
     "grade": false,
     "grade_id": "cell-f1f349363cc10a1d",
     "locked": true,
     "schema_version": 3,
     "solution": false
    }
   },
   "source": [
    "## B.3 Eigendecomposition of the covariance matrix\n",
    "\n",
    "We would like to create some new flavour categories that are independent of each other (so that we don't have categories like smoky and medicinal that are given similar numbers by the tasters). We can do this by combining the existing flavour categories.\n",
    "\n",
    "By looking at the covariance matrix, we can get an idea of which flavours are most correlated or most independent. Let's analyse this in more detail. Recall that the covariance matrix can be represented by an ellipse whose primary axes are the **eigenvectors** of the covariance matrix. The eigenvectors are a set of *independent* directions in which the dataset varies. \n",
    "\n",
    "These are the **principal components** of the dataset. We can compute these from the covariance matrix by taking the eigendecomposition. Each eigenvector of the covariance matrix is a **principal component** and its importance is given by the square root of the absolute value of its corresponding eigenvalue.\n",
    "\n",
    "\n",
    "**Task B.3**\n",
    "* Compute all 12 of the eigenvectors of the covariance matrix, in order, with the *largest* corresponding eigenvalue first. Store these as a matrix of column vectors in `whisky_pc`. These eigenvectors are the principal components of the whisky data set.\n",
    "* Compute the square root of every eigenvalue (we can think of these as lengths of the prinicipal components) and store them in `whisky_pc_len`. Make sure they are in descending order from largest to smallest."
   ]
  },
  {
   "cell_type": "code",
   "execution_count": null,
   "metadata": {
    "ExecuteTime": {
     "end_time": "2021-10-18T16:59:21.783105Z",
     "start_time": "2021-10-18T16:59:21.322041Z"
    },
    "deletable": false,
    "nbgrader": {
     "cell_type": "code",
     "checksum": "242d2bdecd100c538721f6ef34be0ca5",
     "grade": false,
     "grade_id": "cell-c4b2a9f544ea407b",
     "locked": false,
     "schema_version": 3,
     "solution": true
    }
   },
   "outputs": [],
   "source": [
    "# YOUR CODE HERE"
   ]
  },
  {
   "cell_type": "code",
   "execution_count": null,
   "metadata": {
    "ExecuteTime": {
     "end_time": "2021-10-18T16:59:28.396799Z",
     "start_time": "2021-10-18T16:59:28.033923Z"
    },
    "deletable": false,
    "editable": false,
    "nbgrader": {
     "cell_type": "code",
     "checksum": "5168a8e2b481efe6b9473a75b110d222",
     "grade": false,
     "grade_id": "cell-7df4274eb1cf3401",
     "locked": true,
     "schema_version": 3,
     "solution": false
    }
   },
   "outputs": [],
   "source": [
    "## We can show the principal components as an image\n",
    "## Each row is a principal component and shows a vector\n",
    "## which represents the direction of variation. The first\n",
    "## vector represents the largest component.\n",
    "fig = plt.figure(figsize=(15, 6))\n",
    "ax = fig.add_subplot(1,1,1)\n",
    "# space out the principal components and scale them by the length of the components\n",
    "img = ax.imshow(np.concatenate([(whisky_pc * whisky_pc_len), \n",
    "                                np.zeros_like(whisky_pc)], axis=0).T.reshape(24, -1).T, \n",
    "                cmap='seismic',         \n",
    "                vmin=-2, vmax=2)\n",
    "\n",
    "ax.set_yticks(np.arange(12))\n",
    "ax.set_xticks(np.arange(0,24,2))\n",
    "ax.set_xticklabels([\"PC{i}\".format(i=i) for i in np.arange(12)])\n",
    "ax.set_yticklabels(columns)\n",
    "ax.set_title(\"Principal components\")\n",
    "ax.set_frame_on(False)\n",
    "fig.colorbar(img);"
   ]
  },
  {
   "cell_type": "code",
   "execution_count": null,
   "metadata": {
    "ExecuteTime": {
     "end_time": "2021-10-18T15:29:59.558925Z",
     "start_time": "2021-10-18T15:29:59.192856Z"
    },
    "deletable": false,
    "editable": false,
    "nbgrader": {
     "cell_type": "code",
     "checksum": "1e8bca17c61d2e381dff2841f38fb186",
     "grade": false,
     "grade_id": "cell-4d43cb908414ab41",
     "locked": true,
     "schema_version": 3,
     "solution": false
    }
   },
   "outputs": [],
   "source": [
    "## Show the principal component lengths of this dataset\n",
    "## This shows how much of the variation in the dataset\n",
    "## is \"explained\" by the variation along the corresponding direction.\n",
    "## In this case, we can see that the first and second components are the largest.\n",
    "## PC1 is mainly a combination of \"smoky\", \"medicinal\" and \"body\",\n",
    "## whereas PC2 is mainly a combination of \"honey\", \"nutty\", \"malty\" and \"body\".\n",
    "## Further down the list, PC4 is strongly \"floral\"\n",
    "fig = plt.figure(figsize=(12, 6))\n",
    "ax = fig.add_subplot(1, 1, 1)\n",
    "ax.bar(np.arange(len(whisky_pc_len)), whisky_pc_len)\n",
    "ax.set_xticks(np.arange(12))\n",
    "ax.set_xticklabels([\"PC{i}\".format(i=i) for i in np.arange(12)])\n",
    "ax.set_ylabel(\"$\\sqrt{\\lambda}$\")\n",
    "ax.set_frame_on(False)\n",
    "ax.set_title(\"Component importances\")"
   ]
  },
  {
   "cell_type": "code",
   "execution_count": null,
   "metadata": {
    "ExecuteTime": {
     "end_time": "2021-10-18T16:59:30.173175Z",
     "start_time": "2021-10-18T16:59:30.166802Z"
    },
    "deletable": false,
    "editable": false,
    "nbgrader": {
     "cell_type": "code",
     "checksum": "13d04a3f5df8d65e75d1ca7b70919710",
     "grade": true,
     "grade_id": "cell-78b1369da93742d0",
     "locked": true,
     "points": 4,
     "schema_version": 3,
     "solution": false
    }
   },
   "outputs": [],
   "source": [
    "with tick.marks(4):\n",
    "    assert(check_hash(whisky_pc, ((12, 12), 70.4669011739489)))\n",
    "    assert(check_hash(whisky_pc_len, ((12,), 53.30359494142106)))"
   ]
  },
  {
   "cell_type": "markdown",
   "metadata": {},
   "source": [
    "## B.4 Projecting onto the principal components\n",
    "\n",
    "This is interesting, but quite hard to interpret. One very useful technique is to project data onto a small number of principal components, to visualise the data. This forms a simplified version of the data, where the use of principal components means we can map the directions in the data which are most important to our visual axes. For example, we might map the first two principal components to a 2D $x,y$ plot.\n",
    "\n",
    "This is a key technique in exploratory data analysis: **principal component analysis**. All it involves is using the principal components to find a simplified mapping onto a lower-dimensional space.\n",
    "\n",
    "We can compute a projection of a dataset onto an arbitrary set of vectors by forming a matrix product:\n",
    "$$P = XV,$$\n",
    "\n",
    "Where $P$ is an $N\\times k$ matrix that is the result of the projection, $X$ is the $N \\times D$ original data set and $V$ is an $D \\times k$ matrix, each of whose *columns* is a vector that we want to project onto. We can find V by choosing the top $k$ principal components.\n",
    "\n",
    "**Task B.4**\n",
    "Use this information to project the distillery data onto the first two principal components, and store the result in `whisky_projected_2d`. If you do this correctly, the plot below should show a 2D mapping of whisky flavours, where more distant distilleries in the map represent more distinct flavour styles.\n",
    "\n",
    "\n"
   ]
  },
  {
   "cell_type": "code",
   "execution_count": null,
   "metadata": {
    "ExecuteTime": {
     "end_time": "2021-10-18T17:00:26.828061Z",
     "start_time": "2021-10-18T17:00:26.825134Z"
    },
    "deletable": false,
    "nbgrader": {
     "cell_type": "code",
     "checksum": "9bf3263e217a54cbcb3716ead410889a",
     "grade": false,
     "grade_id": "cell-2c69b850765b1921",
     "locked": false,
     "schema_version": 3,
     "solution": true
    }
   },
   "outputs": [],
   "source": [
    "# YOUR CODE HERE"
   ]
  },
  {
   "cell_type": "code",
   "execution_count": null,
   "metadata": {
    "ExecuteTime": {
     "end_time": "2021-10-18T17:00:43.577307Z",
     "start_time": "2021-10-18T17:00:28.477945Z"
    },
    "deletable": false,
    "editable": false,
    "nbgrader": {
     "cell_type": "code",
     "checksum": "5874945982ad9b5d0f6eecf1dc4065f0",
     "grade": false,
     "grade_id": "cell-8c2778e9baaf5634",
     "locked": true,
     "schema_version": 3,
     "solution": false
    }
   },
   "outputs": [],
   "source": [
    "## Show the whisky distilleries laid out\n",
    "## on the two first principal components,\n",
    "## colouring the points according to the level of smokiness \n",
    "## (just to see that similar whiskies are indeed clustered together)\n",
    "fig = plt.figure(figsize=(15,15))\n",
    "ax = fig.add_subplot(1,1,1)\n",
    "#ax.set_frame_on(False)\n",
    "ax.set_xlabel(\"Principal component 1\", fontsize=14)\n",
    "ax.set_ylabel(\"Principal component 2\", fontsize=14)\n",
    "ax.set_title(\"Principal component analysis of whisky distillery flavour profiles\", fontsize=16)\n",
    "ax.scatter(whisky_projected_2d[:,0], whisky_projected_2d[:,1], c=whisky[:,columns['smoky']], s=40)\n",
    "#ax.scatter(whisky_projected_2d[:,0], whisky_projected_2d[:,1], c=whisky[:,columns['nutty']], s=40)\n",
    "texts = []\n",
    "for i,name in enumerate(distilleries):\n",
    "    texts.append(ax.text(whisky_projected_2d[i,0], whisky_projected_2d[i,1], name, fontdict={'size':10}))\n",
    "    \n",
    "adjust_text(texts, arrowprops=dict(arrowstyle='-', color='black'))"
   ]
  },
  {
   "cell_type": "code",
   "execution_count": null,
   "metadata": {
    "ExecuteTime": {
     "end_time": "2021-10-18T15:16:39.203984Z",
     "start_time": "2021-10-18T15:16:39.199103Z"
    },
    "deletable": false,
    "editable": false,
    "nbgrader": {
     "cell_type": "code",
     "checksum": "e99719c14259d1c9fc55da3e3f2d93b6",
     "grade": true,
     "grade_id": "cell-5fc17d87b1090488",
     "locked": false,
     "points": 4,
     "schema_version": 3,
     "solution": false
    }
   },
   "outputs": [],
   "source": [
    "with tick.marks(2):\n",
    "    assert(check_hash(whisky_projected_2d, ((86, 2), -30653.656579960003)))"
   ]
  },
  {
   "cell_type": "markdown",
   "metadata": {},
   "source": [
    "## B.5 Recommendations and plots\n",
    "There is a data file `whisky_preferences.csv` that lists a few whiskies that individual tasters preferred. The data is a formatted as name, and a list of preferred distilleries, in no particular order, like below\n",
    "\n",
    "    Barry:\tGlenfiddich\tTobermory\tAuchentoshan\t…\n",
    "    Susan:\tClynelish\tCaol Ila\tTalisker\t…\n",
    "    Amelie:\tCraigallechie\tArdmore\tTomatin\t…\n",
    "    Frederick:\tSpringbank\tHighland Park\tTalisker\t…\n",
    "    Andreas:\tAberlour\tMacallan\tMortlach\t…\n",
    "    ...\n",
    "\n",
    "The code below loads this data file:\n"
   ]
  },
  {
   "cell_type": "code",
   "execution_count": null,
   "metadata": {
    "ExecuteTime": {
     "end_time": "2021-10-18T17:00:43.590500Z",
     "start_time": "2021-10-18T17:00:43.578283Z"
    }
   },
   "outputs": [],
   "source": [
    "## Load in the recommendation data\n",
    "# format:\n",
    "# name,whisky1,whisky2,...\n",
    "data = pd.read_csv(\"data/whisky_preferences.csv\")\n",
    "\n",
    "# convert it to a dictionary mapping people's names to a list of distillery names\n",
    "preferences = {row.iloc[0]:list(row.iloc[1:]) for ix,row in data.iterrows()}\n",
    "# check all the distilleries exist\n",
    "for name,dists in preferences.items():    \n",
    "    for dist in dists:        \n",
    "        assert dist in distilleries\n"
   ]
  },
  {
   "cell_type": "markdown",
   "metadata": {
    "ExecuteTime": {
     "end_time": "2021-10-18T14:35:27.170584Z",
     "start_time": "2021-10-18T14:35:27.159847Z"
    }
   },
   "source": [
    "### Task B.5\n",
    "We want to plot on the PCA map where each individual's flavour preferences lie. \n",
    "\n",
    "Compute the mean and covariance matrix for *each* individuals set of distillery vectors *after projecting each vector to the two leading principal components*, and store it in a dictionary `preference_map`, mapping the name of the individual to a pair `(mean_vec, cov_matrix)` . The code below will plot these means and covariances on the 2D scatterplot if you have done this correctly.\n",
    "\n",
    "This could be used to make recommendations -- e.g. you might like whiskies inside or nearby the ellipse representing your flavour profile."
   ]
  },
  {
   "cell_type": "code",
   "execution_count": null,
   "metadata": {
    "ExecuteTime": {
     "end_time": "2021-10-18T17:00:43.606152Z",
     "start_time": "2021-10-18T17:00:43.591475Z"
    },
    "deletable": false,
    "nbgrader": {
     "cell_type": "code",
     "checksum": "7c5a46c1d9302a3e3f89f71f53e561b3",
     "grade": false,
     "grade_id": "cell-aabafb8436ef6619",
     "locked": false,
     "schema_version": 3,
     "solution": true,
     "task": false
    }
   },
   "outputs": [],
   "source": [
    "# YOUR CODE HERE"
   ]
  },
  {
   "cell_type": "code",
   "execution_count": null,
   "metadata": {
    "ExecuteTime": {
     "end_time": "2021-10-18T16:41:09.043258Z",
     "start_time": "2021-10-18T16:41:09.030570Z"
    },
    "deletable": false,
    "editable": false,
    "nbgrader": {
     "cell_type": "code",
     "checksum": "7334fdce72c8ecb03d26589dc9e6696a",
     "grade": true,
     "grade_id": "cell-1f563442a87a5601",
     "locked": true,
     "points": 5,
     "schema_version": 3,
     "solution": false,
     "task": false
    }
   },
   "outputs": [],
   "source": [
    "with tick.marks(5):\n",
    "    print(\"Checking means...\")\n",
    "    assert(len(preference_map)==11)\n",
    "    assert(check_hash(preference_map[\"Susan\"][0], ((2,), -23.60342987515041)))\n",
    "    assert(check_hash(preference_map[\"Amelie\"][0], ((2,),  -17.3755905013609)))\n",
    "    assert(check_hash(preference_map[\"Frederick\"][0], ((2,),  -27.55778314021974)))\n",
    "    assert(check_hash(preference_map[\"Andreas\"][0], ((2,),  -20.386372436917064)))\n",
    "                      \n",
    "    for name, (mean,cov) in preference_map.items():\n",
    "        assert mean.shape==(2,)\n",
    "        assert cov.shape==(2,2)\n",
    "        "
   ]
  },
  {
   "cell_type": "code",
   "execution_count": null,
   "metadata": {
    "ExecuteTime": {
     "end_time": "2021-10-18T17:00:43.622745Z",
     "start_time": "2021-10-18T17:00:43.607129Z"
    }
   },
   "outputs": [],
   "source": [
    "with tick.marks(5):\n",
    "    print(\"Checking covariances\")\n",
    "    assert check_hash(preference_map[\"Susan\"][1], ((2, 2), 7.954879107913266))\n",
    "    assert check_hash(preference_map[\"Shen\"][1], ((2, 2), 9.865962383631619))\n",
    "    assert check_hash(preference_map[\"Hannah\"][1], ((2, 2), 8.912820175846063))\n",
    "    assert check_hash(preference_map[\"Tom\"][1], ((2, 2), 4.07330390917585))\n"
   ]
  },
  {
   "cell_type": "markdown",
   "metadata": {
    "ExecuteTime": {
     "end_time": "2021-10-18T16:19:47.731553Z",
     "start_time": "2021-10-18T16:19:47.727649Z"
    }
   },
   "source": [
    "### Plot\n",
    "Finally, we can make the plot:"
   ]
  },
  {
   "cell_type": "code",
   "execution_count": null,
   "metadata": {
    "ExecuteTime": {
     "end_time": "2021-10-18T17:00:44.464933Z",
     "start_time": "2021-10-18T17:00:43.624230Z"
    }
   },
   "outputs": [],
   "source": [
    "from jhwutils.ellipse import _cov_ellipse\n",
    "\n",
    "fig = plt.figure(figsize=(15,15))\n",
    "ax = fig.add_subplot(1,1,1)\n",
    "#ax.set_frame_on(False)\n",
    "ax.set_xlabel(\"Principal component 1\", fontsize=14)\n",
    "ax.set_ylabel(\"Principal component 2\", fontsize=14)\n",
    "ax.set_title(\"Principal component analysis of whisky distillery flavour profiles\", fontsize=16)\n",
    "ax.scatter(whisky_projected_2d[:,0], whisky_projected_2d[:,1], c='k', s=40)\n",
    "\n",
    "texts = []\n",
    "for individual, (mean, cov) in preference_map.items():\n",
    "    ax.plot(mean[0], mean[1], 'or')\n",
    "    texts.append(ax.text(mean[0], mean[1], individual, c='r'))\n",
    "    _cov_ellipse(ax, mean, cov, 1, facecolor='none', edgecolor='red')\n",
    "    \n",
    "\n",
    "for i,name in enumerate(distilleries):\n",
    "    texts.append(ax.text(whisky_projected_2d[i,0], whisky_projected_2d[i,1], name, fontdict={'size':10}))\n",
    "    \n"
   ]
  },
  {
   "cell_type": "markdown",
   "metadata": {},
   "source": [
    "## B.6 Making recommendations\n",
    "\n",
    "We can use these means and covariances to compute how likely it is that a particular individual will like a given whisky. \n",
    "\n",
    "The function `scipy.stats.multivariate_normal(mean, cov, allow_singular=True).logpdf(x)` will take an array of vectors `x` and a mean and covariance, and rate each element of `x` according to how likely it is each `x` \"belongs to\" (mu, cov). It will give more negative numbers to less good fits, and numbers closer to zero for better fits.\n",
    "\n",
    "<div class=\"alert alert-info\"> \n",
    "    \n",
    "Strictly, this function computes the log-likelihood of `x` under the multivariate normal distribution defined by `mu` and `cov`, but don't worry if you don't know those terms yet -- we'll cover them later.\n",
    "</div>\n",
    "\n",
    "### Task B.6\n",
    "Use this `logpdf` function to compute the name of the top 10 distilleries that each individual might enjoy, storing the result in `personal_recommendations` as a dictionary mapping a name to a list of distillery names. Note: these may well include the distilleries they have already rated. \n",
    "\n",
    "**To do this task, recompute the mean and covariance in the original 12D space (i.e. *not* projected to the principal components)**"
   ]
  },
  {
   "cell_type": "code",
   "execution_count": null,
   "metadata": {
    "ExecuteTime": {
     "end_time": "2021-10-18T17:01:21.370924Z",
     "start_time": "2021-10-18T17:01:21.361165Z"
    },
    "deletable": false,
    "nbgrader": {
     "cell_type": "code",
     "checksum": "52d5cfa8498374789b2c4e381a08dca2",
     "grade": false,
     "grade_id": "cell-93b271edcb490a36",
     "locked": false,
     "schema_version": 3,
     "solution": true,
     "task": false
    }
   },
   "outputs": [],
   "source": [
    "# YOUR CODE HERE"
   ]
  },
  {
   "cell_type": "code",
   "execution_count": null,
   "metadata": {
    "ExecuteTime": {
     "end_time": "2021-10-18T17:01:21.790979Z",
     "start_time": "2021-10-18T17:01:21.781689Z"
    }
   },
   "outputs": [],
   "source": [
    "for name, recommendations in personal_recommendations.items():\n",
    "    print(name)\n",
    "    for distillery in recommendations:\n",
    "        print(\"   \", distillery)"
   ]
  },
  {
   "cell_type": "code",
   "execution_count": null,
   "metadata": {
    "ExecuteTime": {
     "end_time": "2021-10-18T17:01:25.590973Z",
     "start_time": "2021-10-18T17:01:25.585117Z"
    },
    "deletable": false,
    "editable": false,
    "nbgrader": {
     "cell_type": "code",
     "checksum": "7ff20926b6e2b9982a23bdd1fa7df4d8",
     "grade": true,
     "grade_id": "cell-eaf53658cca95b05",
     "locked": true,
     "points": 5,
     "schema_version": 3,
     "solution": false,
     "task": false
    }
   },
   "outputs": [],
   "source": [
    "with tick.marks(5):\n",
    "    assert case_crc(\"\".join(personal_recommendations[\"Susan\"]))==2942418642\n",
    "    assert case_crc(\"\".join(personal_recommendations[\"Andreas\"]))==1130025785\n",
    "    assert case_crc(\"\".join(personal_recommendations[\"Frederick\"]))==261341327\n",
    "    assert case_crc(\"\".join(personal_recommendations[\"Shergar\"]))==26371740\n",
    "    assert case_crc(\"\".join(personal_recommendations[\"Hannah\"]))==1690230980"
   ]
  },
  {
   "cell_type": "code",
   "execution_count": null,
   "metadata": {},
   "outputs": [],
   "source": []
  },
  {
   "cell_type": "markdown",
   "metadata": {},
   "source": [
    "-----\n",
    "\n",
    "# Submission instructions"
   ]
  },
  {
   "cell_type": "markdown",
   "metadata": {},
   "source": [
    "## Before submission\n",
    "\n",
    "* Make sure you fill in any place that says `YOUR CODE HERE` or `\"YOUR ANSWER HERE\"`.\n",
    "* SAVE THE NOTEBOOK\n",
    "\n",
    "\n",
    "\n"
   ]
  },
  {
   "cell_type": "markdown",
   "metadata": {},
   "source": [
    "<div class=\"alert alert-block alert-danger\">\n",
    "    \n",
    "### Formatting the submission\n",
    "* **WARNING**: If you do not submit the correct file, you will not get any marks.\n",
    "* Submit this file **only** on Moodle. It will be named `<xxx>.ipynb`.\n",
    "\n",
    "</div>"
   ]
  },
  {
   "cell_type": "markdown",
   "metadata": {},
   "source": [
    "\n",
    "## Penalties (only for assessed labs)\n",
    "<font color=\"red\">\n",
    "    \n",
    "**Malformatted submissions**\n",
    "</font>\n",
    "These assignments are processed with an automatic tool; failure to follow instructions *precisely* will lead to you automatically losing two bands in grade regardless of whether the work is correct (not to mention a long delay in getting your work back). **If you submit a file without your work in it, it will be marked and you will get 0 marks.**\n",
    "\n",
    "<font color=\"red\">**Late submission**</font>\n",
    "Be aware that there is a two band penalty for every *day* of late submission, starting the moment of the deadline.\n",
    "\n",
    "<font color=\"red\">\n",
    "    \n",
    "**Plagiarism**\n",
    "</font> Plagiarism will be subject to the Plagiarism Policy. The penalties are severe."
   ]
  },
  {
   "cell_type": "code",
   "execution_count": null,
   "metadata": {},
   "outputs": [],
   "source": []
  }
 ],
 "metadata": {
  "kernelspec": {
   "display_name": "Python 3",
   "language": "python",
   "name": "python3"
  },
  "language_info": {
   "codemirror_mode": {
    "name": "ipython",
    "version": 3
   },
   "file_extension": ".py",
   "mimetype": "text/x-python",
   "name": "python",
   "nbconvert_exporter": "python",
   "pygments_lexer": "ipython3",
   "version": "3.8.8"
  },
  "toc": {
   "base_numbering": 1,
   "nav_menu": {},
   "number_sections": true,
   "sideBar": true,
   "skip_h1_title": false,
   "title_cell": "Table of Contents",
   "title_sidebar": "Contents",
   "toc_cell": false,
   "toc_position": {},
   "toc_section_display": "block",
   "toc_window_display": false
  },
  "varInspector": {
   "cols": {
    "lenName": 16,
    "lenType": 16,
    "lenVar": 40
   },
   "kernels_config": {
    "python": {
     "delete_cmd_postfix": "",
     "delete_cmd_prefix": "del ",
     "library": "var_list.py",
     "varRefreshCmd": "print(var_dic_list())"
    },
    "r": {
     "delete_cmd_postfix": ") ",
     "delete_cmd_prefix": "rm(",
     "library": "var_list.r",
     "varRefreshCmd": "cat(var_dic_list()) "
    }
   },
   "types_to_exclude": [
    "module",
    "function",
    "builtin_function_or_method",
    "instance",
    "_Feature"
   ],
   "window_display": false
  }
 },
 "nbformat": 4,
 "nbformat_minor": 1
}
