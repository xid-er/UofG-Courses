{
 "cells": [
  {
   "cell_type": "markdown",
   "metadata": {
    "deletable": false,
    "editable": false,
    "nbgrader": {
     "cell_type": "markdown",
     "checksum": "d0cd9cfe5adeb77e45bd98edb2ad7859",
     "grade": false,
     "grade_id": "cell-513963dffd022dec",
     "locked": true,
     "schema_version": 3,
     "solution": false
    }
   },
   "source": [
    "# Data Fundamentals (H)\n",
    "John H. Williamson -- Session 2019/2020\n",
    "\n",
    "----\n",
    "\n",
    "Read the submission instructions **carefully** before submitting. Note that marks shown are **provisional** and could change after grading.\n",
    "\n",
    "**This submission must be your own work; you will have to make a Declaration of Originality on submission.**\n",
    "\n"
   ]
  },
  {
   "cell_type": "markdown",
   "metadata": {},
   "source": [
    "---"
   ]
  },
  {
   "cell_type": "markdown",
   "metadata": {
    "deletable": false,
    "editable": false,
    "nbgrader": {
     "cell_type": "markdown",
     "checksum": "5c665751c320e236663c3ff3f023fbc5",
     "grade": false,
     "grade_id": "cell-bddb07b313b58974",
     "locked": true,
     "schema_version": 3,
     "solution": false
    }
   },
   "source": [
    "## Lab 3: Unassessed\n",
    "# Scientific visualisation"
   ]
  },
  {
   "cell_type": "markdown",
   "metadata": {
    "deletable": false,
    "editable": false,
    "nbgrader": {
     "cell_type": "markdown",
     "checksum": "f5eb2f74838d4ee9d91cd8a2e74ce94d",
     "grade": false,
     "grade_id": "cell-94b2a422aa5250c6",
     "locked": true,
     "schema_version": 3,
     "solution": false
    }
   },
   "source": [
    "\n",
    "### Notes\n",
    "I recommend reading the lecture notes supplement *Criticising Visualisations* on Moodle as a quick reference summary. \n",
    "\n",
    "**This exercise is not assessed**. Completion may help you in the course, but you will not get a mark for this lab and this does not contibute to your grade. You can ask for feedback in labs if you wish.\n",
    "\n",
    "<div class=\"alert alert-box alert-danger\">\n",
    "    \n",
    "It is strongly recommended to at least complete the worked tutorial, so you can competently use Matplotlib.\n",
    "\n",
    "</div>\n",
    "\n",
    "### References\n",
    "If you are stuck, the following resources are very helpful:\n",
    "\n",
    "* [Introduction to Matplotlib](https://jakevdp.github.io/PythonDataScienceHandbook/04.00-introduction-to-matplotlib.html)\n",
    "* [Matplotlib command summary](https://matplotlib.org/api/pyplot_summary.html)\n",
    "\n",
    "\n"
   ]
  },
  {
   "cell_type": "code",
   "execution_count": 1,
   "metadata": {
    "ExecuteTime": {
     "end_time": "2020-10-01T09:32:38.594173Z",
     "start_time": "2020-10-01T09:32:38.584199Z"
    },
    "deletable": false,
    "editable": false,
    "nbgrader": {
     "cell_type": "code",
     "checksum": "05b729f0ced32c7775e882ef5cf0d877",
     "grade": false,
     "grade_id": "cell-6e084329b4983426",
     "locked": true,
     "schema_version": 3,
     "solution": false
    }
   },
   "outputs": [
    {
     "name": "stdout",
     "output_type": "stream",
     "text": [
      "Everything imported OK\n"
     ]
    }
   ],
   "source": [
    "# Standard imports\n",
    "# Make sure you run this cell!\n",
    "from __future__ import print_function, division\n",
    "import numpy as np  # NumPy\n",
    "\n",
    "%matplotlib notebook\n",
    "%matplotlib notebook\n",
    "\n",
    "# Set up Matplotlib\n",
    "import matplotlib as mpl   \n",
    "import matplotlib.pyplot as plt\n",
    "print(\"Everything imported OK\")\n"
   ]
  },
  {
   "cell_type": "markdown",
   "metadata": {},
   "source": [
    "## Purpose of this lab\n",
    "This lab should help you:\n",
    "* understand how to use Matplotlib for basic plotting tasks\n",
    "* create simple, clean and correct 2D plots of two variables \n",
    "* create plots with multiple conditions\n",
    "* plot basic statistics of datasets, representing uncertainty appropriately\n",
    "* explicitly criticise existing visualisations and  suggest and implement concrete suggestions to improve them\n"
   ]
  },
  {
   "cell_type": "markdown",
   "metadata": {},
   "source": [
    "# matplotlib Tutorial\n",
    "We'll go through the first example from the lecture notes. You'll need to apply these ideas yourself later, so make sure you understand what happens here. \n",
    "\n",
    "In this example, the plotting commands are split up among notebook cells so that each step can be explained. In your code, just have all of the commands in one cell, to avoid having to scroll up and down as you make changes.\n",
    "\n",
    "## Some data\n",
    "This data is synthetic. It's a simple trigonometric function; the details don't particularly matter."
   ]
  },
  {
   "cell_type": "code",
   "execution_count": 2,
   "metadata": {
    "ExecuteTime": {
     "end_time": "2020-10-01T09:32:40.689773Z",
     "start_time": "2020-10-01T09:32:40.685784Z"
    }
   },
   "outputs": [],
   "source": [
    "# a simple function, returns pulses with a shape determined by k\n",
    "def pulse(x, k):\n",
    "    return np.cos(x) * np.exp(np.cos(x) * k - k)\n",
    "\n",
    "## generate an x value to be transformed\n",
    "x = np.linspace(-3*np.pi, 3 * np.pi, 500)"
   ]
  },
  {
   "cell_type": "markdown",
   "metadata": {},
   "source": [
    "## Figures\n",
    "To begin any plotting we must create a **figure**, which is a \"blank canvas\" onto which we can add visualisations. \n",
    "<div class=\"alert alert-info\">\n",
    "    \n",
    "**Important: the visualisation will always appear in the output of whichever cell has the `plt.figure()` call.** As a consequence, all of the commands below will affect in the output of the cell below -- **you will need to scroll up to see what is going on!**\n",
    "    \n",
    "</div>\n",
    "\n",
    "When you go through the various steps below, scroll back up to this cell to see their effect. Note that usually all plotting commands go in *one* cell, so we don't end up scrolling about."
   ]
  },
  {
   "cell_type": "code",
   "execution_count": 6,
   "metadata": {
    "ExecuteTime": {
     "end_time": "2020-10-01T09:32:42.354408Z",
     "start_time": "2020-10-01T09:32:42.345432Z"
    }
   },
   "outputs": [
    {
     "data": {
      "application/javascript": [
       "/* Put everything inside the global mpl namespace */\n",
       "/* global mpl */\n",
       "window.mpl = {};\n",
       "\n",
       "mpl.get_websocket_type = function () {\n",
       "    if (typeof WebSocket !== 'undefined') {\n",
       "        return WebSocket;\n",
       "    } else if (typeof MozWebSocket !== 'undefined') {\n",
       "        return MozWebSocket;\n",
       "    } else {\n",
       "        alert(\n",
       "            'Your browser does not have WebSocket support. ' +\n",
       "                'Please try Chrome, Safari or Firefox ≥ 6. ' +\n",
       "                'Firefox 4 and 5 are also supported but you ' +\n",
       "                'have to enable WebSockets in about:config.'\n",
       "        );\n",
       "    }\n",
       "};\n",
       "\n",
       "mpl.figure = function (figure_id, websocket, ondownload, parent_element) {\n",
       "    this.id = figure_id;\n",
       "\n",
       "    this.ws = websocket;\n",
       "\n",
       "    this.supports_binary = this.ws.binaryType !== undefined;\n",
       "\n",
       "    if (!this.supports_binary) {\n",
       "        var warnings = document.getElementById('mpl-warnings');\n",
       "        if (warnings) {\n",
       "            warnings.style.display = 'block';\n",
       "            warnings.textContent =\n",
       "                'This browser does not support binary websocket messages. ' +\n",
       "                'Performance may be slow.';\n",
       "        }\n",
       "    }\n",
       "\n",
       "    this.imageObj = new Image();\n",
       "\n",
       "    this.context = undefined;\n",
       "    this.message = undefined;\n",
       "    this.canvas = undefined;\n",
       "    this.rubberband_canvas = undefined;\n",
       "    this.rubberband_context = undefined;\n",
       "    this.format_dropdown = undefined;\n",
       "\n",
       "    this.image_mode = 'full';\n",
       "\n",
       "    this.root = document.createElement('div');\n",
       "    this.root.setAttribute('style', 'display: inline-block');\n",
       "    this._root_extra_style(this.root);\n",
       "\n",
       "    parent_element.appendChild(this.root);\n",
       "\n",
       "    this._init_header(this);\n",
       "    this._init_canvas(this);\n",
       "    this._init_toolbar(this);\n",
       "\n",
       "    var fig = this;\n",
       "\n",
       "    this.waiting = false;\n",
       "\n",
       "    this.ws.onopen = function () {\n",
       "        fig.send_message('supports_binary', { value: fig.supports_binary });\n",
       "        fig.send_message('send_image_mode', {});\n",
       "        if (fig.ratio !== 1) {\n",
       "            fig.send_message('set_dpi_ratio', { dpi_ratio: fig.ratio });\n",
       "        }\n",
       "        fig.send_message('refresh', {});\n",
       "    };\n",
       "\n",
       "    this.imageObj.onload = function () {\n",
       "        if (fig.image_mode === 'full') {\n",
       "            // Full images could contain transparency (where diff images\n",
       "            // almost always do), so we need to clear the canvas so that\n",
       "            // there is no ghosting.\n",
       "            fig.context.clearRect(0, 0, fig.canvas.width, fig.canvas.height);\n",
       "        }\n",
       "        fig.context.drawImage(fig.imageObj, 0, 0);\n",
       "    };\n",
       "\n",
       "    this.imageObj.onunload = function () {\n",
       "        fig.ws.close();\n",
       "    };\n",
       "\n",
       "    this.ws.onmessage = this._make_on_message_function(this);\n",
       "\n",
       "    this.ondownload = ondownload;\n",
       "};\n",
       "\n",
       "mpl.figure.prototype._init_header = function () {\n",
       "    var titlebar = document.createElement('div');\n",
       "    titlebar.classList =\n",
       "        'ui-dialog-titlebar ui-widget-header ui-corner-all ui-helper-clearfix';\n",
       "    var titletext = document.createElement('div');\n",
       "    titletext.classList = 'ui-dialog-title';\n",
       "    titletext.setAttribute(\n",
       "        'style',\n",
       "        'width: 100%; text-align: center; padding: 3px;'\n",
       "    );\n",
       "    titlebar.appendChild(titletext);\n",
       "    this.root.appendChild(titlebar);\n",
       "    this.header = titletext;\n",
       "};\n",
       "\n",
       "mpl.figure.prototype._canvas_extra_style = function (_canvas_div) {};\n",
       "\n",
       "mpl.figure.prototype._root_extra_style = function (_canvas_div) {};\n",
       "\n",
       "mpl.figure.prototype._init_canvas = function () {\n",
       "    var fig = this;\n",
       "\n",
       "    var canvas_div = (this.canvas_div = document.createElement('div'));\n",
       "    canvas_div.setAttribute(\n",
       "        'style',\n",
       "        'border: 1px solid #ddd;' +\n",
       "            'box-sizing: content-box;' +\n",
       "            'clear: both;' +\n",
       "            'min-height: 1px;' +\n",
       "            'min-width: 1px;' +\n",
       "            'outline: 0;' +\n",
       "            'overflow: hidden;' +\n",
       "            'position: relative;' +\n",
       "            'resize: both;'\n",
       "    );\n",
       "\n",
       "    function on_keyboard_event_closure(name) {\n",
       "        return function (event) {\n",
       "            return fig.key_event(event, name);\n",
       "        };\n",
       "    }\n",
       "\n",
       "    canvas_div.addEventListener(\n",
       "        'keydown',\n",
       "        on_keyboard_event_closure('key_press')\n",
       "    );\n",
       "    canvas_div.addEventListener(\n",
       "        'keyup',\n",
       "        on_keyboard_event_closure('key_release')\n",
       "    );\n",
       "\n",
       "    this._canvas_extra_style(canvas_div);\n",
       "    this.root.appendChild(canvas_div);\n",
       "\n",
       "    var canvas = (this.canvas = document.createElement('canvas'));\n",
       "    canvas.classList.add('mpl-canvas');\n",
       "    canvas.setAttribute('style', 'box-sizing: content-box;');\n",
       "\n",
       "    this.context = canvas.getContext('2d');\n",
       "\n",
       "    var backingStore =\n",
       "        this.context.backingStorePixelRatio ||\n",
       "        this.context.webkitBackingStorePixelRatio ||\n",
       "        this.context.mozBackingStorePixelRatio ||\n",
       "        this.context.msBackingStorePixelRatio ||\n",
       "        this.context.oBackingStorePixelRatio ||\n",
       "        this.context.backingStorePixelRatio ||\n",
       "        1;\n",
       "\n",
       "    this.ratio = (window.devicePixelRatio || 1) / backingStore;\n",
       "\n",
       "    var rubberband_canvas = (this.rubberband_canvas = document.createElement(\n",
       "        'canvas'\n",
       "    ));\n",
       "    rubberband_canvas.setAttribute(\n",
       "        'style',\n",
       "        'box-sizing: content-box; position: absolute; left: 0; top: 0; z-index: 1;'\n",
       "    );\n",
       "\n",
       "    // Apply a ponyfill if ResizeObserver is not implemented by browser.\n",
       "    if (this.ResizeObserver === undefined) {\n",
       "        if (window.ResizeObserver !== undefined) {\n",
       "            this.ResizeObserver = window.ResizeObserver;\n",
       "        } else {\n",
       "            var obs = _JSXTOOLS_RESIZE_OBSERVER({});\n",
       "            this.ResizeObserver = obs.ResizeObserver;\n",
       "        }\n",
       "    }\n",
       "\n",
       "    this.resizeObserverInstance = new this.ResizeObserver(function (entries) {\n",
       "        var nentries = entries.length;\n",
       "        for (var i = 0; i < nentries; i++) {\n",
       "            var entry = entries[i];\n",
       "            var width, height;\n",
       "            if (entry.contentBoxSize) {\n",
       "                if (entry.contentBoxSize instanceof Array) {\n",
       "                    // Chrome 84 implements new version of spec.\n",
       "                    width = entry.contentBoxSize[0].inlineSize;\n",
       "                    height = entry.contentBoxSize[0].blockSize;\n",
       "                } else {\n",
       "                    // Firefox implements old version of spec.\n",
       "                    width = entry.contentBoxSize.inlineSize;\n",
       "                    height = entry.contentBoxSize.blockSize;\n",
       "                }\n",
       "            } else {\n",
       "                // Chrome <84 implements even older version of spec.\n",
       "                width = entry.contentRect.width;\n",
       "                height = entry.contentRect.height;\n",
       "            }\n",
       "\n",
       "            // Keep the size of the canvas and rubber band canvas in sync with\n",
       "            // the canvas container.\n",
       "            if (entry.devicePixelContentBoxSize) {\n",
       "                // Chrome 84 implements new version of spec.\n",
       "                canvas.setAttribute(\n",
       "                    'width',\n",
       "                    entry.devicePixelContentBoxSize[0].inlineSize\n",
       "                );\n",
       "                canvas.setAttribute(\n",
       "                    'height',\n",
       "                    entry.devicePixelContentBoxSize[0].blockSize\n",
       "                );\n",
       "            } else {\n",
       "                canvas.setAttribute('width', width * fig.ratio);\n",
       "                canvas.setAttribute('height', height * fig.ratio);\n",
       "            }\n",
       "            canvas.setAttribute(\n",
       "                'style',\n",
       "                'width: ' + width + 'px; height: ' + height + 'px;'\n",
       "            );\n",
       "\n",
       "            rubberband_canvas.setAttribute('width', width);\n",
       "            rubberband_canvas.setAttribute('height', height);\n",
       "\n",
       "            // And update the size in Python. We ignore the initial 0/0 size\n",
       "            // that occurs as the element is placed into the DOM, which should\n",
       "            // otherwise not happen due to the minimum size styling.\n",
       "            if (fig.ws.readyState == 1 && width != 0 && height != 0) {\n",
       "                fig.request_resize(width, height);\n",
       "            }\n",
       "        }\n",
       "    });\n",
       "    this.resizeObserverInstance.observe(canvas_div);\n",
       "\n",
       "    function on_mouse_event_closure(name) {\n",
       "        return function (event) {\n",
       "            return fig.mouse_event(event, name);\n",
       "        };\n",
       "    }\n",
       "\n",
       "    rubberband_canvas.addEventListener(\n",
       "        'mousedown',\n",
       "        on_mouse_event_closure('button_press')\n",
       "    );\n",
       "    rubberband_canvas.addEventListener(\n",
       "        'mouseup',\n",
       "        on_mouse_event_closure('button_release')\n",
       "    );\n",
       "    // Throttle sequential mouse events to 1 every 20ms.\n",
       "    rubberband_canvas.addEventListener(\n",
       "        'mousemove',\n",
       "        on_mouse_event_closure('motion_notify')\n",
       "    );\n",
       "\n",
       "    rubberband_canvas.addEventListener(\n",
       "        'mouseenter',\n",
       "        on_mouse_event_closure('figure_enter')\n",
       "    );\n",
       "    rubberband_canvas.addEventListener(\n",
       "        'mouseleave',\n",
       "        on_mouse_event_closure('figure_leave')\n",
       "    );\n",
       "\n",
       "    canvas_div.addEventListener('wheel', function (event) {\n",
       "        if (event.deltaY < 0) {\n",
       "            event.step = 1;\n",
       "        } else {\n",
       "            event.step = -1;\n",
       "        }\n",
       "        on_mouse_event_closure('scroll')(event);\n",
       "    });\n",
       "\n",
       "    canvas_div.appendChild(canvas);\n",
       "    canvas_div.appendChild(rubberband_canvas);\n",
       "\n",
       "    this.rubberband_context = rubberband_canvas.getContext('2d');\n",
       "    this.rubberband_context.strokeStyle = '#000000';\n",
       "\n",
       "    this._resize_canvas = function (width, height, forward) {\n",
       "        if (forward) {\n",
       "            canvas_div.style.width = width + 'px';\n",
       "            canvas_div.style.height = height + 'px';\n",
       "        }\n",
       "    };\n",
       "\n",
       "    // Disable right mouse context menu.\n",
       "    this.rubberband_canvas.addEventListener('contextmenu', function (_e) {\n",
       "        event.preventDefault();\n",
       "        return false;\n",
       "    });\n",
       "\n",
       "    function set_focus() {\n",
       "        canvas.focus();\n",
       "        canvas_div.focus();\n",
       "    }\n",
       "\n",
       "    window.setTimeout(set_focus, 100);\n",
       "};\n",
       "\n",
       "mpl.figure.prototype._init_toolbar = function () {\n",
       "    var fig = this;\n",
       "\n",
       "    var toolbar = document.createElement('div');\n",
       "    toolbar.classList = 'mpl-toolbar';\n",
       "    this.root.appendChild(toolbar);\n",
       "\n",
       "    function on_click_closure(name) {\n",
       "        return function (_event) {\n",
       "            return fig.toolbar_button_onclick(name);\n",
       "        };\n",
       "    }\n",
       "\n",
       "    function on_mouseover_closure(tooltip) {\n",
       "        return function (event) {\n",
       "            if (!event.currentTarget.disabled) {\n",
       "                return fig.toolbar_button_onmouseover(tooltip);\n",
       "            }\n",
       "        };\n",
       "    }\n",
       "\n",
       "    fig.buttons = {};\n",
       "    var buttonGroup = document.createElement('div');\n",
       "    buttonGroup.classList = 'mpl-button-group';\n",
       "    for (var toolbar_ind in mpl.toolbar_items) {\n",
       "        var name = mpl.toolbar_items[toolbar_ind][0];\n",
       "        var tooltip = mpl.toolbar_items[toolbar_ind][1];\n",
       "        var image = mpl.toolbar_items[toolbar_ind][2];\n",
       "        var method_name = mpl.toolbar_items[toolbar_ind][3];\n",
       "\n",
       "        if (!name) {\n",
       "            /* Instead of a spacer, we start a new button group. */\n",
       "            if (buttonGroup.hasChildNodes()) {\n",
       "                toolbar.appendChild(buttonGroup);\n",
       "            }\n",
       "            buttonGroup = document.createElement('div');\n",
       "            buttonGroup.classList = 'mpl-button-group';\n",
       "            continue;\n",
       "        }\n",
       "\n",
       "        var button = (fig.buttons[name] = document.createElement('button'));\n",
       "        button.classList = 'mpl-widget';\n",
       "        button.setAttribute('role', 'button');\n",
       "        button.setAttribute('aria-disabled', 'false');\n",
       "        button.addEventListener('click', on_click_closure(method_name));\n",
       "        button.addEventListener('mouseover', on_mouseover_closure(tooltip));\n",
       "\n",
       "        var icon_img = document.createElement('img');\n",
       "        icon_img.src = '_images/' + image + '.png';\n",
       "        icon_img.srcset = '_images/' + image + '_large.png 2x';\n",
       "        icon_img.alt = tooltip;\n",
       "        button.appendChild(icon_img);\n",
       "\n",
       "        buttonGroup.appendChild(button);\n",
       "    }\n",
       "\n",
       "    if (buttonGroup.hasChildNodes()) {\n",
       "        toolbar.appendChild(buttonGroup);\n",
       "    }\n",
       "\n",
       "    var fmt_picker = document.createElement('select');\n",
       "    fmt_picker.classList = 'mpl-widget';\n",
       "    toolbar.appendChild(fmt_picker);\n",
       "    this.format_dropdown = fmt_picker;\n",
       "\n",
       "    for (var ind in mpl.extensions) {\n",
       "        var fmt = mpl.extensions[ind];\n",
       "        var option = document.createElement('option');\n",
       "        option.selected = fmt === mpl.default_extension;\n",
       "        option.innerHTML = fmt;\n",
       "        fmt_picker.appendChild(option);\n",
       "    }\n",
       "\n",
       "    var status_bar = document.createElement('span');\n",
       "    status_bar.classList = 'mpl-message';\n",
       "    toolbar.appendChild(status_bar);\n",
       "    this.message = status_bar;\n",
       "};\n",
       "\n",
       "mpl.figure.prototype.request_resize = function (x_pixels, y_pixels) {\n",
       "    // Request matplotlib to resize the figure. Matplotlib will then trigger a resize in the client,\n",
       "    // which will in turn request a refresh of the image.\n",
       "    this.send_message('resize', { width: x_pixels, height: y_pixels });\n",
       "};\n",
       "\n",
       "mpl.figure.prototype.send_message = function (type, properties) {\n",
       "    properties['type'] = type;\n",
       "    properties['figure_id'] = this.id;\n",
       "    this.ws.send(JSON.stringify(properties));\n",
       "};\n",
       "\n",
       "mpl.figure.prototype.send_draw_message = function () {\n",
       "    if (!this.waiting) {\n",
       "        this.waiting = true;\n",
       "        this.ws.send(JSON.stringify({ type: 'draw', figure_id: this.id }));\n",
       "    }\n",
       "};\n",
       "\n",
       "mpl.figure.prototype.handle_save = function (fig, _msg) {\n",
       "    var format_dropdown = fig.format_dropdown;\n",
       "    var format = format_dropdown.options[format_dropdown.selectedIndex].value;\n",
       "    fig.ondownload(fig, format);\n",
       "};\n",
       "\n",
       "mpl.figure.prototype.handle_resize = function (fig, msg) {\n",
       "    var size = msg['size'];\n",
       "    if (size[0] !== fig.canvas.width || size[1] !== fig.canvas.height) {\n",
       "        fig._resize_canvas(size[0], size[1], msg['forward']);\n",
       "        fig.send_message('refresh', {});\n",
       "    }\n",
       "};\n",
       "\n",
       "mpl.figure.prototype.handle_rubberband = function (fig, msg) {\n",
       "    var x0 = msg['x0'] / fig.ratio;\n",
       "    var y0 = (fig.canvas.height - msg['y0']) / fig.ratio;\n",
       "    var x1 = msg['x1'] / fig.ratio;\n",
       "    var y1 = (fig.canvas.height - msg['y1']) / fig.ratio;\n",
       "    x0 = Math.floor(x0) + 0.5;\n",
       "    y0 = Math.floor(y0) + 0.5;\n",
       "    x1 = Math.floor(x1) + 0.5;\n",
       "    y1 = Math.floor(y1) + 0.5;\n",
       "    var min_x = Math.min(x0, x1);\n",
       "    var min_y = Math.min(y0, y1);\n",
       "    var width = Math.abs(x1 - x0);\n",
       "    var height = Math.abs(y1 - y0);\n",
       "\n",
       "    fig.rubberband_context.clearRect(\n",
       "        0,\n",
       "        0,\n",
       "        fig.canvas.width / fig.ratio,\n",
       "        fig.canvas.height / fig.ratio\n",
       "    );\n",
       "\n",
       "    fig.rubberband_context.strokeRect(min_x, min_y, width, height);\n",
       "};\n",
       "\n",
       "mpl.figure.prototype.handle_figure_label = function (fig, msg) {\n",
       "    // Updates the figure title.\n",
       "    fig.header.textContent = msg['label'];\n",
       "};\n",
       "\n",
       "mpl.figure.prototype.handle_cursor = function (fig, msg) {\n",
       "    var cursor = msg['cursor'];\n",
       "    switch (cursor) {\n",
       "        case 0:\n",
       "            cursor = 'pointer';\n",
       "            break;\n",
       "        case 1:\n",
       "            cursor = 'default';\n",
       "            break;\n",
       "        case 2:\n",
       "            cursor = 'crosshair';\n",
       "            break;\n",
       "        case 3:\n",
       "            cursor = 'move';\n",
       "            break;\n",
       "    }\n",
       "    fig.rubberband_canvas.style.cursor = cursor;\n",
       "};\n",
       "\n",
       "mpl.figure.prototype.handle_message = function (fig, msg) {\n",
       "    fig.message.textContent = msg['message'];\n",
       "};\n",
       "\n",
       "mpl.figure.prototype.handle_draw = function (fig, _msg) {\n",
       "    // Request the server to send over a new figure.\n",
       "    fig.send_draw_message();\n",
       "};\n",
       "\n",
       "mpl.figure.prototype.handle_image_mode = function (fig, msg) {\n",
       "    fig.image_mode = msg['mode'];\n",
       "};\n",
       "\n",
       "mpl.figure.prototype.handle_history_buttons = function (fig, msg) {\n",
       "    for (var key in msg) {\n",
       "        if (!(key in fig.buttons)) {\n",
       "            continue;\n",
       "        }\n",
       "        fig.buttons[key].disabled = !msg[key];\n",
       "        fig.buttons[key].setAttribute('aria-disabled', !msg[key]);\n",
       "    }\n",
       "};\n",
       "\n",
       "mpl.figure.prototype.handle_navigate_mode = function (fig, msg) {\n",
       "    if (msg['mode'] === 'PAN') {\n",
       "        fig.buttons['Pan'].classList.add('active');\n",
       "        fig.buttons['Zoom'].classList.remove('active');\n",
       "    } else if (msg['mode'] === 'ZOOM') {\n",
       "        fig.buttons['Pan'].classList.remove('active');\n",
       "        fig.buttons['Zoom'].classList.add('active');\n",
       "    } else {\n",
       "        fig.buttons['Pan'].classList.remove('active');\n",
       "        fig.buttons['Zoom'].classList.remove('active');\n",
       "    }\n",
       "};\n",
       "\n",
       "mpl.figure.prototype.updated_canvas_event = function () {\n",
       "    // Called whenever the canvas gets updated.\n",
       "    this.send_message('ack', {});\n",
       "};\n",
       "\n",
       "// A function to construct a web socket function for onmessage handling.\n",
       "// Called in the figure constructor.\n",
       "mpl.figure.prototype._make_on_message_function = function (fig) {\n",
       "    return function socket_on_message(evt) {\n",
       "        if (evt.data instanceof Blob) {\n",
       "            /* FIXME: We get \"Resource interpreted as Image but\n",
       "             * transferred with MIME type text/plain:\" errors on\n",
       "             * Chrome.  But how to set the MIME type?  It doesn't seem\n",
       "             * to be part of the websocket stream */\n",
       "            evt.data.type = 'image/png';\n",
       "\n",
       "            /* Free the memory for the previous frames */\n",
       "            if (fig.imageObj.src) {\n",
       "                (window.URL || window.webkitURL).revokeObjectURL(\n",
       "                    fig.imageObj.src\n",
       "                );\n",
       "            }\n",
       "\n",
       "            fig.imageObj.src = (window.URL || window.webkitURL).createObjectURL(\n",
       "                evt.data\n",
       "            );\n",
       "            fig.updated_canvas_event();\n",
       "            fig.waiting = false;\n",
       "            return;\n",
       "        } else if (\n",
       "            typeof evt.data === 'string' &&\n",
       "            evt.data.slice(0, 21) === 'data:image/png;base64'\n",
       "        ) {\n",
       "            fig.imageObj.src = evt.data;\n",
       "            fig.updated_canvas_event();\n",
       "            fig.waiting = false;\n",
       "            return;\n",
       "        }\n",
       "\n",
       "        var msg = JSON.parse(evt.data);\n",
       "        var msg_type = msg['type'];\n",
       "\n",
       "        // Call the  \"handle_{type}\" callback, which takes\n",
       "        // the figure and JSON message as its only arguments.\n",
       "        try {\n",
       "            var callback = fig['handle_' + msg_type];\n",
       "        } catch (e) {\n",
       "            console.log(\n",
       "                \"No handler for the '\" + msg_type + \"' message type: \",\n",
       "                msg\n",
       "            );\n",
       "            return;\n",
       "        }\n",
       "\n",
       "        if (callback) {\n",
       "            try {\n",
       "                // console.log(\"Handling '\" + msg_type + \"' message: \", msg);\n",
       "                callback(fig, msg);\n",
       "            } catch (e) {\n",
       "                console.log(\n",
       "                    \"Exception inside the 'handler_\" + msg_type + \"' callback:\",\n",
       "                    e,\n",
       "                    e.stack,\n",
       "                    msg\n",
       "                );\n",
       "            }\n",
       "        }\n",
       "    };\n",
       "};\n",
       "\n",
       "// from http://stackoverflow.com/questions/1114465/getting-mouse-location-in-canvas\n",
       "mpl.findpos = function (e) {\n",
       "    //this section is from http://www.quirksmode.org/js/events_properties.html\n",
       "    var targ;\n",
       "    if (!e) {\n",
       "        e = window.event;\n",
       "    }\n",
       "    if (e.target) {\n",
       "        targ = e.target;\n",
       "    } else if (e.srcElement) {\n",
       "        targ = e.srcElement;\n",
       "    }\n",
       "    if (targ.nodeType === 3) {\n",
       "        // defeat Safari bug\n",
       "        targ = targ.parentNode;\n",
       "    }\n",
       "\n",
       "    // pageX,Y are the mouse positions relative to the document\n",
       "    var boundingRect = targ.getBoundingClientRect();\n",
       "    var x = e.pageX - (boundingRect.left + document.body.scrollLeft);\n",
       "    var y = e.pageY - (boundingRect.top + document.body.scrollTop);\n",
       "\n",
       "    return { x: x, y: y };\n",
       "};\n",
       "\n",
       "/*\n",
       " * return a copy of an object with only non-object keys\n",
       " * we need this to avoid circular references\n",
       " * http://stackoverflow.com/a/24161582/3208463\n",
       " */\n",
       "function simpleKeys(original) {\n",
       "    return Object.keys(original).reduce(function (obj, key) {\n",
       "        if (typeof original[key] !== 'object') {\n",
       "            obj[key] = original[key];\n",
       "        }\n",
       "        return obj;\n",
       "    }, {});\n",
       "}\n",
       "\n",
       "mpl.figure.prototype.mouse_event = function (event, name) {\n",
       "    var canvas_pos = mpl.findpos(event);\n",
       "\n",
       "    if (name === 'button_press') {\n",
       "        this.canvas.focus();\n",
       "        this.canvas_div.focus();\n",
       "    }\n",
       "\n",
       "    var x = canvas_pos.x * this.ratio;\n",
       "    var y = canvas_pos.y * this.ratio;\n",
       "\n",
       "    this.send_message(name, {\n",
       "        x: x,\n",
       "        y: y,\n",
       "        button: event.button,\n",
       "        step: event.step,\n",
       "        guiEvent: simpleKeys(event),\n",
       "    });\n",
       "\n",
       "    /* This prevents the web browser from automatically changing to\n",
       "     * the text insertion cursor when the button is pressed.  We want\n",
       "     * to control all of the cursor setting manually through the\n",
       "     * 'cursor' event from matplotlib */\n",
       "    event.preventDefault();\n",
       "    return false;\n",
       "};\n",
       "\n",
       "mpl.figure.prototype._key_event_extra = function (_event, _name) {\n",
       "    // Handle any extra behaviour associated with a key event\n",
       "};\n",
       "\n",
       "mpl.figure.prototype.key_event = function (event, name) {\n",
       "    // Prevent repeat events\n",
       "    if (name === 'key_press') {\n",
       "        if (event.which === this._key) {\n",
       "            return;\n",
       "        } else {\n",
       "            this._key = event.which;\n",
       "        }\n",
       "    }\n",
       "    if (name === 'key_release') {\n",
       "        this._key = null;\n",
       "    }\n",
       "\n",
       "    var value = '';\n",
       "    if (event.ctrlKey && event.which !== 17) {\n",
       "        value += 'ctrl+';\n",
       "    }\n",
       "    if (event.altKey && event.which !== 18) {\n",
       "        value += 'alt+';\n",
       "    }\n",
       "    if (event.shiftKey && event.which !== 16) {\n",
       "        value += 'shift+';\n",
       "    }\n",
       "\n",
       "    value += 'k';\n",
       "    value += event.which.toString();\n",
       "\n",
       "    this._key_event_extra(event, name);\n",
       "\n",
       "    this.send_message(name, { key: value, guiEvent: simpleKeys(event) });\n",
       "    return false;\n",
       "};\n",
       "\n",
       "mpl.figure.prototype.toolbar_button_onclick = function (name) {\n",
       "    if (name === 'download') {\n",
       "        this.handle_save(this, null);\n",
       "    } else {\n",
       "        this.send_message('toolbar_button', { name: name });\n",
       "    }\n",
       "};\n",
       "\n",
       "mpl.figure.prototype.toolbar_button_onmouseover = function (tooltip) {\n",
       "    this.message.textContent = tooltip;\n",
       "};\n",
       "\n",
       "///////////////// REMAINING CONTENT GENERATED BY embed_js.py /////////////////\n",
       "// prettier-ignore\n",
       "var _JSXTOOLS_RESIZE_OBSERVER=function(A){var t,i=new WeakMap,n=new WeakMap,a=new WeakMap,r=new WeakMap,o=new Set;function s(e){if(!(this instanceof s))throw new TypeError(\"Constructor requires 'new' operator\");i.set(this,e)}function h(){throw new TypeError(\"Function is not a constructor\")}function c(e,t,i,n){e=0 in arguments?Number(arguments[0]):0,t=1 in arguments?Number(arguments[1]):0,i=2 in arguments?Number(arguments[2]):0,n=3 in arguments?Number(arguments[3]):0,this.right=(this.x=this.left=e)+(this.width=i),this.bottom=(this.y=this.top=t)+(this.height=n),Object.freeze(this)}function d(){t=requestAnimationFrame(d);var s=new WeakMap,p=new Set;o.forEach((function(t){r.get(t).forEach((function(i){var r=t instanceof window.SVGElement,o=a.get(t),d=r?0:parseFloat(o.paddingTop),f=r?0:parseFloat(o.paddingRight),l=r?0:parseFloat(o.paddingBottom),u=r?0:parseFloat(o.paddingLeft),g=r?0:parseFloat(o.borderTopWidth),m=r?0:parseFloat(o.borderRightWidth),w=r?0:parseFloat(o.borderBottomWidth),b=u+f,F=d+l,v=(r?0:parseFloat(o.borderLeftWidth))+m,W=g+w,y=r?0:t.offsetHeight-W-t.clientHeight,E=r?0:t.offsetWidth-v-t.clientWidth,R=b+v,z=F+W,M=r?t.width:parseFloat(o.width)-R-E,O=r?t.height:parseFloat(o.height)-z-y;if(n.has(t)){var k=n.get(t);if(k[0]===M&&k[1]===O)return}n.set(t,[M,O]);var S=Object.create(h.prototype);S.target=t,S.contentRect=new c(u,d,M,O),s.has(i)||(s.set(i,[]),p.add(i)),s.get(i).push(S)}))})),p.forEach((function(e){i.get(e).call(e,s.get(e),e)}))}return s.prototype.observe=function(i){if(i instanceof window.Element){r.has(i)||(r.set(i,new Set),o.add(i),a.set(i,window.getComputedStyle(i)));var n=r.get(i);n.has(this)||n.add(this),cancelAnimationFrame(t),t=requestAnimationFrame(d)}},s.prototype.unobserve=function(i){if(i instanceof window.Element&&r.has(i)){var n=r.get(i);n.has(this)&&(n.delete(this),n.size||(r.delete(i),o.delete(i))),n.size||r.delete(i),o.size||cancelAnimationFrame(t)}},A.DOMRectReadOnly=c,A.ResizeObserver=s,A.ResizeObserverEntry=h,A}; // eslint-disable-line\n",
       "mpl.toolbar_items = [[\"Home\", \"Reset original view\", \"fa fa-home icon-home\", \"home\"], [\"Back\", \"Back to previous view\", \"fa fa-arrow-left icon-arrow-left\", \"back\"], [\"Forward\", \"Forward to next view\", \"fa fa-arrow-right icon-arrow-right\", \"forward\"], [\"\", \"\", \"\", \"\"], [\"Pan\", \"Left button pans, Right button zooms\\nx/y fixes axis, CTRL fixes aspect\", \"fa fa-arrows icon-move\", \"pan\"], [\"Zoom\", \"Zoom to rectangle\\nx/y fixes axis, CTRL fixes aspect\", \"fa fa-square-o icon-check-empty\", \"zoom\"], [\"\", \"\", \"\", \"\"], [\"Download\", \"Download plot\", \"fa fa-floppy-o icon-save\", \"download\"]];\n",
       "\n",
       "mpl.extensions = [\"eps\", \"jpeg\", \"pdf\", \"png\", \"ps\", \"raw\", \"svg\", \"tif\"];\n",
       "\n",
       "mpl.default_extension = \"png\";/* global mpl */\n",
       "\n",
       "var comm_websocket_adapter = function (comm) {\n",
       "    // Create a \"websocket\"-like object which calls the given IPython comm\n",
       "    // object with the appropriate methods. Currently this is a non binary\n",
       "    // socket, so there is still some room for performance tuning.\n",
       "    var ws = {};\n",
       "\n",
       "    ws.close = function () {\n",
       "        comm.close();\n",
       "    };\n",
       "    ws.send = function (m) {\n",
       "        //console.log('sending', m);\n",
       "        comm.send(m);\n",
       "    };\n",
       "    // Register the callback with on_msg.\n",
       "    comm.on_msg(function (msg) {\n",
       "        //console.log('receiving', msg['content']['data'], msg);\n",
       "        // Pass the mpl event to the overridden (by mpl) onmessage function.\n",
       "        ws.onmessage(msg['content']['data']);\n",
       "    });\n",
       "    return ws;\n",
       "};\n",
       "\n",
       "mpl.mpl_figure_comm = function (comm, msg) {\n",
       "    // This is the function which gets called when the mpl process\n",
       "    // starts-up an IPython Comm through the \"matplotlib\" channel.\n",
       "\n",
       "    var id = msg.content.data.id;\n",
       "    // Get hold of the div created by the display call when the Comm\n",
       "    // socket was opened in Python.\n",
       "    var element = document.getElementById(id);\n",
       "    var ws_proxy = comm_websocket_adapter(comm);\n",
       "\n",
       "    function ondownload(figure, _format) {\n",
       "        window.open(figure.canvas.toDataURL());\n",
       "    }\n",
       "\n",
       "    var fig = new mpl.figure(id, ws_proxy, ondownload, element);\n",
       "\n",
       "    // Call onopen now - mpl needs it, as it is assuming we've passed it a real\n",
       "    // web socket which is closed, not our websocket->open comm proxy.\n",
       "    ws_proxy.onopen();\n",
       "\n",
       "    fig.parent_element = element;\n",
       "    fig.cell_info = mpl.find_output_cell(\"<div id='\" + id + \"'></div>\");\n",
       "    if (!fig.cell_info) {\n",
       "        console.error('Failed to find cell for figure', id, fig);\n",
       "        return;\n",
       "    }\n",
       "    fig.cell_info[0].output_area.element.on(\n",
       "        'cleared',\n",
       "        { fig: fig },\n",
       "        fig._remove_fig_handler\n",
       "    );\n",
       "};\n",
       "\n",
       "mpl.figure.prototype.handle_close = function (fig, msg) {\n",
       "    var width = fig.canvas.width / fig.ratio;\n",
       "    fig.cell_info[0].output_area.element.off(\n",
       "        'cleared',\n",
       "        fig._remove_fig_handler\n",
       "    );\n",
       "    fig.resizeObserverInstance.unobserve(fig.canvas_div);\n",
       "\n",
       "    // Update the output cell to use the data from the current canvas.\n",
       "    fig.push_to_output();\n",
       "    var dataURL = fig.canvas.toDataURL();\n",
       "    // Re-enable the keyboard manager in IPython - without this line, in FF,\n",
       "    // the notebook keyboard shortcuts fail.\n",
       "    IPython.keyboard_manager.enable();\n",
       "    fig.parent_element.innerHTML =\n",
       "        '<img src=\"' + dataURL + '\" width=\"' + width + '\">';\n",
       "    fig.close_ws(fig, msg);\n",
       "};\n",
       "\n",
       "mpl.figure.prototype.close_ws = function (fig, msg) {\n",
       "    fig.send_message('closing', msg);\n",
       "    // fig.ws.close()\n",
       "};\n",
       "\n",
       "mpl.figure.prototype.push_to_output = function (_remove_interactive) {\n",
       "    // Turn the data on the canvas into data in the output cell.\n",
       "    var width = this.canvas.width / this.ratio;\n",
       "    var dataURL = this.canvas.toDataURL();\n",
       "    this.cell_info[1]['text/html'] =\n",
       "        '<img src=\"' + dataURL + '\" width=\"' + width + '\">';\n",
       "};\n",
       "\n",
       "mpl.figure.prototype.updated_canvas_event = function () {\n",
       "    // Tell IPython that the notebook contents must change.\n",
       "    IPython.notebook.set_dirty(true);\n",
       "    this.send_message('ack', {});\n",
       "    var fig = this;\n",
       "    // Wait a second, then push the new image to the DOM so\n",
       "    // that it is saved nicely (might be nice to debounce this).\n",
       "    setTimeout(function () {\n",
       "        fig.push_to_output();\n",
       "    }, 1000);\n",
       "};\n",
       "\n",
       "mpl.figure.prototype._init_toolbar = function () {\n",
       "    var fig = this;\n",
       "\n",
       "    var toolbar = document.createElement('div');\n",
       "    toolbar.classList = 'btn-toolbar';\n",
       "    this.root.appendChild(toolbar);\n",
       "\n",
       "    function on_click_closure(name) {\n",
       "        return function (_event) {\n",
       "            return fig.toolbar_button_onclick(name);\n",
       "        };\n",
       "    }\n",
       "\n",
       "    function on_mouseover_closure(tooltip) {\n",
       "        return function (event) {\n",
       "            if (!event.currentTarget.disabled) {\n",
       "                return fig.toolbar_button_onmouseover(tooltip);\n",
       "            }\n",
       "        };\n",
       "    }\n",
       "\n",
       "    fig.buttons = {};\n",
       "    var buttonGroup = document.createElement('div');\n",
       "    buttonGroup.classList = 'btn-group';\n",
       "    var button;\n",
       "    for (var toolbar_ind in mpl.toolbar_items) {\n",
       "        var name = mpl.toolbar_items[toolbar_ind][0];\n",
       "        var tooltip = mpl.toolbar_items[toolbar_ind][1];\n",
       "        var image = mpl.toolbar_items[toolbar_ind][2];\n",
       "        var method_name = mpl.toolbar_items[toolbar_ind][3];\n",
       "\n",
       "        if (!name) {\n",
       "            /* Instead of a spacer, we start a new button group. */\n",
       "            if (buttonGroup.hasChildNodes()) {\n",
       "                toolbar.appendChild(buttonGroup);\n",
       "            }\n",
       "            buttonGroup = document.createElement('div');\n",
       "            buttonGroup.classList = 'btn-group';\n",
       "            continue;\n",
       "        }\n",
       "\n",
       "        button = fig.buttons[name] = document.createElement('button');\n",
       "        button.classList = 'btn btn-default';\n",
       "        button.href = '#';\n",
       "        button.title = name;\n",
       "        button.innerHTML = '<i class=\"fa ' + image + ' fa-lg\"></i>';\n",
       "        button.addEventListener('click', on_click_closure(method_name));\n",
       "        button.addEventListener('mouseover', on_mouseover_closure(tooltip));\n",
       "        buttonGroup.appendChild(button);\n",
       "    }\n",
       "\n",
       "    if (buttonGroup.hasChildNodes()) {\n",
       "        toolbar.appendChild(buttonGroup);\n",
       "    }\n",
       "\n",
       "    // Add the status bar.\n",
       "    var status_bar = document.createElement('span');\n",
       "    status_bar.classList = 'mpl-message pull-right';\n",
       "    toolbar.appendChild(status_bar);\n",
       "    this.message = status_bar;\n",
       "\n",
       "    // Add the close button to the window.\n",
       "    var buttongrp = document.createElement('div');\n",
       "    buttongrp.classList = 'btn-group inline pull-right';\n",
       "    button = document.createElement('button');\n",
       "    button.classList = 'btn btn-mini btn-primary';\n",
       "    button.href = '#';\n",
       "    button.title = 'Stop Interaction';\n",
       "    button.innerHTML = '<i class=\"fa fa-power-off icon-remove icon-large\"></i>';\n",
       "    button.addEventListener('click', function (_evt) {\n",
       "        fig.handle_close(fig, {});\n",
       "    });\n",
       "    button.addEventListener(\n",
       "        'mouseover',\n",
       "        on_mouseover_closure('Stop Interaction')\n",
       "    );\n",
       "    buttongrp.appendChild(button);\n",
       "    var titlebar = this.root.querySelector('.ui-dialog-titlebar');\n",
       "    titlebar.insertBefore(buttongrp, titlebar.firstChild);\n",
       "};\n",
       "\n",
       "mpl.figure.prototype._remove_fig_handler = function (event) {\n",
       "    var fig = event.data.fig;\n",
       "    if (event.target !== this) {\n",
       "        // Ignore bubbled events from children.\n",
       "        return;\n",
       "    }\n",
       "    fig.close_ws(fig, {});\n",
       "};\n",
       "\n",
       "mpl.figure.prototype._root_extra_style = function (el) {\n",
       "    el.style.boxSizing = 'content-box'; // override notebook setting of border-box.\n",
       "};\n",
       "\n",
       "mpl.figure.prototype._canvas_extra_style = function (el) {\n",
       "    // this is important to make the div 'focusable\n",
       "    el.setAttribute('tabindex', 0);\n",
       "    // reach out to IPython and tell the keyboard manager to turn it's self\n",
       "    // off when our div gets focus\n",
       "\n",
       "    // location in version 3\n",
       "    if (IPython.notebook.keyboard_manager) {\n",
       "        IPython.notebook.keyboard_manager.register_events(el);\n",
       "    } else {\n",
       "        // location in version 2\n",
       "        IPython.keyboard_manager.register_events(el);\n",
       "    }\n",
       "};\n",
       "\n",
       "mpl.figure.prototype._key_event_extra = function (event, _name) {\n",
       "    var manager = IPython.notebook.keyboard_manager;\n",
       "    if (!manager) {\n",
       "        manager = IPython.keyboard_manager;\n",
       "    }\n",
       "\n",
       "    // Check for shift+enter\n",
       "    if (event.shiftKey && event.which === 13) {\n",
       "        this.canvas_div.blur();\n",
       "        // select the cell after this one\n",
       "        var index = IPython.notebook.find_cell_index(this.cell_info[0]);\n",
       "        IPython.notebook.select(index + 1);\n",
       "    }\n",
       "};\n",
       "\n",
       "mpl.figure.prototype.handle_save = function (fig, _msg) {\n",
       "    fig.ondownload(fig, null);\n",
       "};\n",
       "\n",
       "mpl.find_output_cell = function (html_output) {\n",
       "    // Return the cell and output element which can be found *uniquely* in the notebook.\n",
       "    // Note - this is a bit hacky, but it is done because the \"notebook_saving.Notebook\"\n",
       "    // IPython event is triggered only after the cells have been serialised, which for\n",
       "    // our purposes (turning an active figure into a static one), is too late.\n",
       "    var cells = IPython.notebook.get_cells();\n",
       "    var ncells = cells.length;\n",
       "    for (var i = 0; i < ncells; i++) {\n",
       "        var cell = cells[i];\n",
       "        if (cell.cell_type === 'code') {\n",
       "            for (var j = 0; j < cell.output_area.outputs.length; j++) {\n",
       "                var data = cell.output_area.outputs[j];\n",
       "                if (data.data) {\n",
       "                    // IPython >= 3 moved mimebundle to data attribute of output\n",
       "                    data = data.data;\n",
       "                }\n",
       "                if (data['text/html'] === html_output) {\n",
       "                    return [cell, data, j];\n",
       "                }\n",
       "            }\n",
       "        }\n",
       "    }\n",
       "};\n",
       "\n",
       "// Register the function which deals with the matplotlib target/channel.\n",
       "// The kernel may be null if the page has been refreshed.\n",
       "if (IPython.notebook.kernel !== null) {\n",
       "    IPython.notebook.kernel.comm_manager.register_target(\n",
       "        'matplotlib',\n",
       "        mpl.mpl_figure_comm\n",
       "    );\n",
       "}\n"
      ],
      "text/plain": [
       "<IPython.core.display.Javascript object>"
      ]
     },
     "metadata": {},
     "output_type": "display_data"
    },
    {
     "data": {
      "text/html": [
       "<img src=\"data:image/png;base64,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\" width=\"640\">"
      ],
      "text/plain": [
       "<IPython.core.display.HTML object>"
      ]
     },
     "metadata": {},
     "output_type": "display_data"
    }
   ],
   "source": [
    "fig = plt.figure()  # create a new figure. It will be blank.\n",
    "\n",
    "## If you want a different size of figure, you can use:\n",
    "# fig = plt.figure(figsize=(3,3)) # quite small\n",
    "# the default size set here is good for this exercise"
   ]
  },
  {
   "cell_type": "markdown",
   "metadata": {},
   "source": [
    "## Axes\n",
    "To draw anything, we must define **axes**. Each axis is a facet of a plot. It has a coordinate system which can be used to draw data. e\n",
    "The call to create a new axis is formatted `fig.add_subplot(rows, columns, index)` which will create a subplot in a matrix of axes indexed by the index. The index increases column-wise, then row-wise, and starts from *1* (not 0!)\n",
    "\n",
    "For example, we could create a 3x2 array of plots, and select the middle-left plot\n",
    "using `plt.add_subplot(3, 2, 3)`\n",
    "\n",
    "        --------\n",
    "       | 1 | 2 |\n",
    "       | 3 | 4 |\n",
    "       | 5 | 6 |\n",
    "       ---------\n",
    "\n",
    "Most of the time, though, we just want one axes that fills the figure and `fig.add_subplot(1,1,1)` does that. The object it returns is what we use for all subsequent plotting."
   ]
  },
  {
   "cell_type": "code",
   "execution_count": 7,
   "metadata": {
    "ExecuteTime": {
     "end_time": "2020-10-01T09:32:44.701741Z",
     "start_time": "2020-10-01T09:32:44.689773Z"
    }
   },
   "outputs": [],
   "source": [
    "ax = fig.add_subplot(1, 1, 1)  \n",
    "# create a new subplot, returning a set of axes\n",
    "# look above ^ ^ at the figure. You should see the axes appear"
   ]
  },
  {
   "cell_type": "markdown",
   "metadata": {},
   "source": [
    "\n",
    "We make a line plot of `x` against `f(x, k)` for a few fixed values of `k`.\n",
    "Each subsequent plot will be a new color, and all of the plots will be overlaid on the axes\n",
    "\n",
    "`ax.plot(x,y)` is the basic line plotting command. It is called on an axes object.\n",
    "\n",
    "Note that the `label=` gives a label that the `legend` command will use to label the graph afterwards. Always label plots if you want readers to be able to distinguish them."
   ]
  },
  {
   "cell_type": "code",
   "execution_count": 8,
   "metadata": {
    "ExecuteTime": {
     "end_time": "2020-10-01T09:32:47.500020Z",
     "start_time": "2020-10-01T09:32:47.473093Z"
    }
   },
   "outputs": [
    {
     "data": {
      "text/plain": [
       "[<matplotlib.lines.Line2D at 0x2e62b36c940>]"
      ]
     },
     "execution_count": 8,
     "metadata": {},
     "output_type": "execute_result"
    }
   ],
   "source": [
    "ax.cla()  # cla means to CLear Axes. \n",
    "# it does nothing the first time we run it, but it will clear the plot and redraw if\n",
    "# you run this cell multiple times. Try commenting it out and running this cell twice!\n",
    "\n",
    "\n",
    "ax.plot(x, pulse(x,1), label='k=1')\n",
    "ax.plot(x, pulse(x, 5), label='k=5')\n",
    "ax.plot(x, pulse(x, 100), label='k=100')\n",
    "\n",
    "# you can adjust the styling of the plot manually: \n",
    "#   here the color is black (\"k\") \n",
    "#   and the linestyle is dotted (\":\")\n",
    "ax.plot(x, pulse(x, 500), label='k=500', color='k', linestyle=':')\n",
    "\n",
    "## note that there are several built-in colors called\n",
    "# C0, C1, C2, C3, C4, C5, and C6\n",
    "# they will generally look good\n",
    "# try changing the 'k' above to 'C6'"
   ]
  },
  {
   "cell_type": "markdown",
   "metadata": {},
   "source": [
    "**Look above to see the result**. Notice the different colouring. Repeated plots on one axis create new **layers** in the visualisation."
   ]
  },
  {
   "cell_type": "markdown",
   "metadata": {},
   "source": [
    "Now we can add **labels** to the plot. There should always be a label for the x-axis, y-axis and a title for the axes. We should also have a **legend** if multiple layers are used. `ax.legend()` will draw one. It can be configured in many ways, but the defaults are fine here."
   ]
  },
  {
   "cell_type": "code",
   "execution_count": 9,
   "metadata": {
    "ExecuteTime": {
     "end_time": "2020-10-01T09:32:48.602127Z",
     "start_time": "2020-10-01T09:32:48.593152Z"
    }
   },
   "outputs": [
    {
     "data": {
      "text/plain": [
       "<matplotlib.legend.Legend at 0x2e62b3eda60>"
      ]
     },
     "execution_count": 9,
     "metadata": {},
     "output_type": "execute_result"
    }
   ],
   "source": [
    "# label the plot \n",
    "ax.set_xlabel(\"Phase (radians)\")  # x-axis label\n",
    "ax.set_ylabel(\"Amplitude\")        # y-axis label\n",
    "ax.set_title(\"Pulse wave function for various $k$\")  # title of plot (appears above plot)\n",
    "\n",
    "# create a legend (key) for the plot, using the labels specified\n",
    "# in the ax.plot() calls, like ax.plot(x,y, label=\"xy\")\n",
    "ax.legend()"
   ]
  },
  {
   "cell_type": "markdown",
   "metadata": {},
   "source": [
    "By default, the scaling of the axis will be adjusted to fit the data. This isn't always a good idea, so you can adjust it manually. The axis limits are set by `ax.set_xlim(min,max)` and `ax.set_ylim(min,max)` and these adjust the scaling of the axes. This configures the **coords** used to draw data.\n",
    "\n",
    "You can try changing these to see different parts of the curve.\n",
    "\n",
    "**Note that you don't need to call the plot commands again when you update the axis limits.**"
   ]
  },
  {
   "cell_type": "code",
   "execution_count": 10,
   "metadata": {
    "ExecuteTime": {
     "end_time": "2020-10-01T09:32:50.676184Z",
     "start_time": "2020-10-01T09:32:50.670200Z"
    }
   },
   "outputs": [
    {
     "data": {
      "text/plain": [
       "(-0.25, 1.2)"
      ]
     },
     "execution_count": 10,
     "metadata": {},
     "output_type": "execute_result"
    }
   ],
   "source": [
    "## set the limits of the plot\n",
    "# (if this is omitted, sensible autoscaling will be applied)\n",
    "ax.set_xlim(np.min(x), np.max(x))\n",
    "ax.set_ylim(-0.25, 1.2)"
   ]
  },
  {
   "cell_type": "markdown",
   "metadata": {},
   "source": [
    "### Tweaking\n",
    "We can tweak the plot in many ways. Try some of the below."
   ]
  },
  {
   "cell_type": "code",
   "execution_count": 11,
   "metadata": {
    "ExecuteTime": {
     "end_time": "2020-10-01T09:32:55.292617Z",
     "start_time": "2020-10-01T09:32:55.287631Z"
    }
   },
   "outputs": [],
   "source": [
    "# grid \n",
    "ax.grid(True) # or False to turn it off"
   ]
  },
  {
   "cell_type": "code",
   "execution_count": 12,
   "metadata": {
    "ExecuteTime": {
     "end_time": "2020-10-01T09:32:55.796285Z",
     "start_time": "2020-10-01T09:32:55.792294Z"
    }
   },
   "outputs": [],
   "source": [
    "# frame\n",
    "ax.set_frame_on(False) # or True to turn it back on"
   ]
  },
  {
   "cell_type": "code",
   "execution_count": 13,
   "metadata": {
    "ExecuteTime": {
     "end_time": "2020-10-01T09:32:56.233143Z",
     "start_time": "2020-10-01T09:32:56.227159Z"
    }
   },
   "outputs": [
    {
     "data": {
      "text/plain": [
       "[<matplotlib.axis.YTick at 0x2e62b367850>,\n",
       " <matplotlib.axis.YTick at 0x2e62b367160>,\n",
       " <matplotlib.axis.YTick at 0x2e62b35acd0>]"
      ]
     },
     "execution_count": 13,
     "metadata": {},
     "output_type": "execute_result"
    }
   ],
   "source": [
    "ax.set_xticks([-10, -5, 0, 5, 10]) # Tick positions on the x axis\n",
    "ax.set_yticks([0,0.5,1.0]) # and on the y-axis"
   ]
  },
  {
   "cell_type": "code",
   "execution_count": 14,
   "metadata": {
    "ExecuteTime": {
     "end_time": "2020-10-01T09:32:57.348796Z",
     "start_time": "2020-10-01T09:32:57.342811Z"
    }
   },
   "outputs": [
    {
     "data": {
      "text/plain": [
       "[Text(-6.283185307179586, 0, '$-2\\\\pi$'),\n",
       " Text(-3.141592653589793, 0, '$-\\\\pi$'),\n",
       " Text(0.0, 0, '0'),\n",
       " Text(3.141592653589793, 0, '$\\\\pi$'),\n",
       " Text(6.283185307179586, 0, '$2\\\\pi$')]"
      ]
     },
     "execution_count": 14,
     "metadata": {},
     "output_type": "execute_result"
    }
   ],
   "source": [
    "# this is a fancier tick adjustment\n",
    "# Tick positions on the x axis\n",
    "ax.set_xticks([-2*np.pi, -np.pi, 0, np.pi, 2*np.pi]) \n",
    "\n",
    "# we can relabel the ticks using the same order. \n",
    "# LaTeX formulae work if inside $ symbols\n",
    "ax.set_xticklabels([\"$-2\\pi$\", \"$-\\pi$\", \"0\",\n",
    "                    \"$\\pi$\", \"$2\\pi$\"])"
   ]
  },
  {
   "cell_type": "code",
   "execution_count": 15,
   "metadata": {
    "ExecuteTime": {
     "end_time": "2020-10-01T09:33:33.290246Z",
     "start_time": "2020-10-01T09:33:33.284262Z"
    }
   },
   "outputs": [],
   "source": [
    "# RUN THIS to switch back to static plots, before doing the rest of this exercise\n",
    "\n",
    "%matplotlib inline\n",
    "%matplotlib inline\n",
    "import matplotlib.pyplot as plt"
   ]
  },
  {
   "cell_type": "markdown",
   "metadata": {},
   "source": [
    "# 1. Simple plots\n",
    "\n",
    "For these exercises, you need to plot graphs showing the data which is provided to you. You need to:\n",
    "    \n",
    "* choose the right kind of plot (line, scatter, bar, histogram). There may be more than one right choice.\n",
    "* plot the data correctly\n",
    "* make sure all the details are sensible (axes, labelling, etc.)\n",
    "\n",
    "You will get the name of the file with the data, along with a comment that explains the format of the data. You can use `np.loadtxt()` to load the datasets.\n",
    "\n"
   ]
  },
  {
   "cell_type": "markdown",
   "metadata": {
    "deletable": false,
    "editable": false,
    "nbgrader": {
     "cell_type": "markdown",
     "checksum": "7bae3ba7dba04322578f55354263ef78",
     "grade": false,
     "grade_id": "cell-d158ac8555d6984e",
     "locked": true,
     "schema_version": 3,
     "solution": false
    }
   },
   "source": [
    "A)\n",
    "* Data file: `data/cherry_trees.txt`\n",
    "* Description: Height and lumber volume of black cherry trees  measured in an orchard.\n",
    "* Columns:\n",
    "  \n",
    "        Height (ft)  Lumber volume (ft^3)\n",
    "\n",
    "Note: plot your graph in **metric units**. 1 ft = 0.3048m\n",
    "       \n",
    "    "
   ]
  },
  {
   "cell_type": "code",
   "execution_count": 29,
   "metadata": {
    "ExecuteTime": {
     "end_time": "2020-10-01T09:33:35.391175Z",
     "start_time": "2020-10-01T09:33:35.246562Z"
    },
    "deletable": false,
    "nbgrader": {
     "cell_type": "code",
     "checksum": "86a584a6a48a7aa6ed44e627ed7f1ef3",
     "grade": true,
     "grade_id": "cell-1ecce6dc57f38590",
     "locked": false,
     "points": 4,
     "schema_version": 3,
     "solution": true
    }
   },
   "outputs": [
    {
     "data": {
      "text/plain": [
       "Text(0.5, 1.0, 'Height and lumber volume of black cherry trees measured in an orchard')"
      ]
     },
     "execution_count": 29,
     "metadata": {},
     "output_type": "execute_result"
    },
    {
     "data": {
      "image/png": "[encoded data removed]",
      "text/plain": [
       "<Figure size 432x288 with 1 Axes>"
      ]
     },
     "metadata": {
      "needs_background": "light"
     },
     "output_type": "display_data"
    }
   ],
   "source": [
    "# YOUR CODE HERE\n",
    "\n",
    "data = np.loadtxt('data/cherry_trees.txt')\n",
    "# Convert to metric units\n",
    "data[:, 0] = data[:, 0] * 0.3048\n",
    "data[:, 1] = data[:, 1] * (0.3048 ** 3)\n",
    "# print(data.shape)\n",
    "# print(data)\n",
    "\n",
    "#Draw and populate\n",
    "fig = plt.figure()\n",
    "ax = fig.add_subplot(1, 1, 1)\n",
    "ax.bar(data[:, 0], data[:, 1])\n",
    "\n",
    "#label the plot \n",
    "ax.set_xlabel(\"Height ($m$)\")  # x-axis label\n",
    "ax.set_ylabel(\"Lumber volume ($m^3$)\")        # y-axis label\n",
    "ax.set_title(\"Height and lumber volume of black cherry trees measured in an orchard\")"
   ]
  },
  {
   "cell_type": "markdown",
   "metadata": {
    "deletable": false,
    "editable": false,
    "nbgrader": {
     "cell_type": "markdown",
     "checksum": "bfb855d24b9dddb73c542b406203f9f0",
     "grade": false,
     "grade_id": "cell-820efef58c000149",
     "locked": true,
     "schema_version": 3,
     "solution": false
    }
   },
   "source": [
    "B)\n",
    "* Data file: `data/air_passengers.txt`\n",
    "* Description: The number of international air passengers, each month, 1949 to 1960.\n",
    "* Columns:\n",
    "\n",
    "      year   passenger_count\n"
   ]
  },
  {
   "cell_type": "code",
   "execution_count": null,
   "metadata": {
    "ExecuteTime": {
     "end_time": "2020-10-01T09:33:37.224487Z",
     "start_time": "2020-10-01T09:33:36.883893Z"
    },
    "deletable": false,
    "nbgrader": {
     "cell_type": "code",
     "checksum": "43d15efbd74c1a22cd18bf2e05484e06",
     "grade": true,
     "grade_id": "cell-5601398f87919cf1",
     "locked": false,
     "points": 4,
     "schema_version": 3,
     "solution": true
    }
   },
   "outputs": [],
   "source": [
    "# YOUR CODE HERE"
   ]
  },
  {
   "cell_type": "markdown",
   "metadata": {
    "deletable": false,
    "editable": false,
    "nbgrader": {
     "cell_type": "markdown",
     "checksum": "45ba6059246ef054e902946618942fc2",
     "grade": false,
     "grade_id": "cell-40de51644c6af0df",
     "locked": true,
     "schema_version": 3,
     "solution": false
    }
   },
   "source": [
    "C) \n",
    "* Data file: `data/rivers.txt`\n",
    "* Description: Length of major rivers in the United States (miles)\n",
    "* Columns:\n",
    "   \n",
    "       river_length\n",
    "\n"
   ]
  },
  {
   "cell_type": "code",
   "execution_count": null,
   "metadata": {
    "ExecuteTime": {
     "end_time": "2020-10-01T09:33:39.553377Z",
     "start_time": "2020-10-01T09:33:39.313463Z"
    },
    "deletable": false,
    "nbgrader": {
     "cell_type": "code",
     "checksum": "063bfa2750e6a6322bfc58b46dc1e7c8",
     "grade": true,
     "grade_id": "cell-7d013905eed11ca3",
     "locked": false,
     "points": 6,
     "schema_version": 3,
     "solution": true
    }
   },
   "outputs": [],
   "source": [
    "# YOUR CODE HERE"
   ]
  },
  {
   "cell_type": "markdown",
   "metadata": {},
   "source": [
    "# 3. Some uncertainty \n",
    "\n",
    "You are provided with data on the effect of five insecticide sprays on populations of pest insects. Compare and contrast these sprays, **appropriately representing uncertainty**.\n"
   ]
  },
  {
   "cell_type": "markdown",
   "metadata": {},
   "source": [
    "* Data file: `data/insects.txt`\n",
    "* Description: The counts of insects on each leaf of a plant in agricultural experimental units treated with\n",
    "different insecticides.\n",
    "* Columns:\n",
    "\n",
    "            insect_count spray_id (0-5)\n",
    "\n",
    "\n",
    "* Plot the data, on three separate figures, using:\n",
    "    * A simple bar chart of the mean insect counts (grouped by spray).\n",
    "    * A barchart showing the mean counts (grouped), and half a standard deviation above and below the mean. Find a way to show this interval (hint: look at the [`plt.bar` documentation](https://matplotlib.org/devdocs/api/_as_gen/matplotlib.pyplot.bar.html)). The standard deviation of an array can be computed by `np.std(x, axis)`, just like `np.mean()`.\n",
    "    * A Box plot of the insect counts.\n",
    "\n",
    "* Mark the ticks on the x axis using the names of the sprays.\n",
    "\n",
    "        0 = Insecticator\n",
    "        1 = Placebo\n",
    "        2 = BuzzNoMore\n",
    "        3 = Aprotex\n",
    "        4 = DieOff\n",
    "\n",
    "* For this section, you don't need to write the caption. Assume the caption is:\n",
    "\n",
    "> Effectiveness of insecticides in a farm environment. Five different aerosol insecticides were tested.\n",
    "\n"
   ]
  },
  {
   "cell_type": "code",
   "execution_count": null,
   "metadata": {
    "ExecuteTime": {
     "end_time": "2020-10-01T09:33:41.345352Z",
     "start_time": "2020-10-01T09:33:41.338371Z"
    },
    "deletable": false,
    "nbgrader": {
     "cell_type": "code",
     "checksum": "6e06d2c00bf9e1498b694122f92935d0",
     "grade": true,
     "grade_id": "cell-9220d9b6a409c75f",
     "locked": false,
     "points": 4,
     "schema_version": 3,
     "solution": true
    }
   },
   "outputs": [],
   "source": [
    "\n",
    "# load and group the data\n",
    "# YOUR CODE HERE"
   ]
  },
  {
   "cell_type": "code",
   "execution_count": null,
   "metadata": {
    "ExecuteTime": {
     "end_time": "2020-10-01T09:33:42.341729Z",
     "start_time": "2020-10-01T09:33:42.219058Z"
    },
    "deletable": false,
    "nbgrader": {
     "cell_type": "code",
     "checksum": "56105cfd4acc07a1b3e359d35c709757",
     "grade": true,
     "grade_id": "cell-7681bc1bd616dd93",
     "locked": false,
     "points": 2,
     "schema_version": 3,
     "solution": true
    }
   },
   "outputs": [],
   "source": [
    "\n",
    "# plot the means\n",
    "# YOUR CODE HERE"
   ]
  },
  {
   "cell_type": "code",
   "execution_count": null,
   "metadata": {
    "ExecuteTime": {
     "end_time": "2020-10-01T09:33:43.732577Z",
     "start_time": "2020-10-01T09:33:43.621858Z"
    },
    "deletable": false,
    "nbgrader": {
     "cell_type": "code",
     "checksum": "dfa00f60a45300a502edd16d33e808b3",
     "grade": true,
     "grade_id": "cell-9f827dc2214b0945",
     "locked": false,
     "points": 2,
     "schema_version": 3,
     "solution": true
    }
   },
   "outputs": [],
   "source": [
    "\n",
    "# plot the means with std. devs.\n",
    "# YOUR CODE HERE"
   ]
  },
  {
   "cell_type": "code",
   "execution_count": null,
   "metadata": {
    "ExecuteTime": {
     "end_time": "2020-10-01T09:33:48.988512Z",
     "start_time": "2020-10-01T09:33:48.819459Z"
    },
    "deletable": false,
    "nbgrader": {
     "cell_type": "code",
     "checksum": "ddf5dfb1029f13c8d90044fb098deef9",
     "grade": true,
     "grade_id": "cell-b06583bc4e5ee999",
     "locked": false,
     "points": 2,
     "schema_version": 3,
     "solution": true
    }
   },
   "outputs": [],
   "source": [
    "# box plot\n",
    "# YOUR CODE HERE"
   ]
  },
  {
   "cell_type": "markdown",
   "metadata": {},
   "source": [
    "# 4. Constructively criticising visualisations \n",
    "The visualisations below are bad. Find ways to improve them so that the result is clearer.\n",
    "\n"
   ]
  },
  {
   "cell_type": "markdown",
   "metadata": {},
   "source": [
    "## A: Earthquakes in California\n",
    "\n",
    "* Dataset: Acceleration measurements at seismic stations placed around California, measuring the peak acceleration experienced during earthquakes, along with the distance of the station to the hypocenter of that earthquake.\n",
    "* File: `data/cali_earthquakes.txt`\n",
    "* Columns\n",
    "\n",
    "       earthquake_id magnitude(Richter) station_id distance_to_hypocenter(km) acceleration(g) \n",
    "\n",
    "* Caption:\n",
    "\n",
    ">    This plot shows the variation in acceleration at seismic monitoring stations as a function of distance to hypocentre of earthquakes in California. More distant stations measure smaller signals with some variation according to the strength of the originating earthquake.\n",
    "    \n"
   ]
  },
  {
   "cell_type": "code",
   "execution_count": null,
   "metadata": {
    "ExecuteTime": {
     "end_time": "2020-10-01T09:33:51.607124Z",
     "start_time": "2020-10-01T09:33:51.469491Z"
    },
    "deletable": false,
    "editable": false,
    "nbgrader": {
     "cell_type": "code",
     "checksum": "59ae981f008c040eb3f1c102687a2bbf",
     "grade": false,
     "grade_id": "cell-c130bae9f409ae24",
     "locked": true,
     "schema_version": 3,
     "solution": false
    }
   },
   "outputs": [],
   "source": [
    "earthquakes = np.loadtxt(\"data/cali_earthquakes.txt\")\n",
    "fig = plt.figure()\n",
    "ax = fig.add_subplot(1,1,1)\n",
    "# name columns\n",
    "earthquake, mag, station, distance, accel = [0,1,2,3,4]\n",
    "plt.scatter(earthquakes[:,mag], earthquakes[:, accel], c=earthquakes[:, distance], cmap='Pastel2', s=300)\n"
   ]
  },
  {
   "cell_type": "code",
   "execution_count": null,
   "metadata": {
    "ExecuteTime": {
     "end_time": "2020-10-01T09:33:53.051421Z",
     "start_time": "2020-10-01T09:33:52.669387Z"
    },
    "deletable": false,
    "nbgrader": {
     "cell_type": "code",
     "checksum": "1566a87f20b85693de5e5e81cc79ef62",
     "grade": true,
     "grade_id": "cell-55dbcba1adebda3a",
     "locked": false,
     "points": 5,
     "schema_version": 3,
     "solution": true
    }
   },
   "outputs": [],
   "source": [
    "# YOUR CODE HERE\n",
    "plt.tight_layout()"
   ]
  },
  {
   "cell_type": "markdown",
   "metadata": {
    "deletable": false,
    "editable": false,
    "nbgrader": {
     "cell_type": "markdown",
     "checksum": "e9c7f9962cce5cc53fa5594838e4fd96",
     "grade": false,
     "grade_id": "cell-2f8df1247f4c8804",
     "locked": true,
     "schema_version": 3,
     "solution": false
    }
   },
   "source": [
    "## B: Reaction times and sleep\n",
    "\n",
    "* Dataset: The average reaction time per day for subjects in a sleep deprivation study. On day 0 the subjects had their normal amount of sleep. Starting that night they were restricted to 3 hours of sleep per night. The observations represent the average reaction time on a series of tests given each day to each subject.\n",
    "\n",
    "* File `data/sleep_study.txt`\n",
    "* Columns\n",
    "\n",
    "         reaction time (ms)    sleep_deprivation (days)  subject_id (id)\n",
    "\n",
    "* Caption:\n",
    "> This plot shows how visual reaction time varies as subjects are deprived of sleep. Up to 10 days of sleep deprivation were tested.\n",
    "    \n"
   ]
  },
  {
   "cell_type": "code",
   "execution_count": null,
   "metadata": {
    "ExecuteTime": {
     "end_time": "2020-10-01T09:33:56.027176Z",
     "start_time": "2020-10-01T09:33:55.879571Z"
    },
    "deletable": false,
    "editable": false,
    "nbgrader": {
     "cell_type": "code",
     "checksum": "c293efe01de8b9873e10d27797694598",
     "grade": false,
     "grade_id": "cell-10ffa38cb01a167b",
     "locked": true,
     "schema_version": 3,
     "solution": false
    }
   },
   "outputs": [],
   "source": [
    "sleep_study = np.loadtxt(\"data/sleep_study.txt\")\n",
    "fig = plt.figure()\n",
    "ax = fig.add_subplot(1,1,1)\n",
    "reaction, sleep, subject = 0,1,2\n",
    "\n",
    "# group each day\n",
    "grouped = np.array([sleep_study[sleep_study[:,sleep]==i] for i in range(10)])\n",
    "# take mean for each day and plot it\n",
    "mean_reactions = np.mean(grouped, axis=1)[:,0] \n",
    "ax.plot(mean_reactions, np.arange(10))\n",
    "\n",
    "# adjust axes\n",
    "ax.set_xlim(0,1000)\n",
    "ax.set_ylim(-2, 15)\n",
    "\n",
    "ax.set_ylabel(\"Sleep deprivation\")\n",
    "ax.set_xlabel(\"Reaction time\")"
   ]
  },
  {
   "cell_type": "code",
   "execution_count": null,
   "metadata": {
    "ExecuteTime": {
     "end_time": "2020-10-01T09:33:57.853383Z",
     "start_time": "2020-10-01T09:33:57.598558Z"
    },
    "deletable": false,
    "nbgrader": {
     "cell_type": "code",
     "checksum": "eb58fc7f589dc87c64ad81ff97c4a8b8",
     "grade": true,
     "grade_id": "cell-256f8f245338e98wf",
     "locked": false,
     "points": 6,
     "schema_version": 3,
     "solution": true
    }
   },
   "outputs": [],
   "source": [
    "# YOUR CODE HERE"
   ]
  },
  {
   "cell_type": "code",
   "execution_count": null,
   "metadata": {
    "deletable": false,
    "nbgrader": {
     "cell_type": "code",
     "checksum": "636c5a8679b3e2509243b35cb72a2f37",
     "grade": true,
     "grade_id": "cell-256f8f245338e98f",
     "locked": false,
     "points": 6,
     "schema_version": 3,
     "solution": true
    }
   },
   "outputs": [],
   "source": [
    "# YOUR CODE HERE"
   ]
  },
  {
   "cell_type": "markdown",
   "metadata": {},
   "source": [
    "-----\n",
    "\n",
    "# Submission instructions"
   ]
  },
  {
   "cell_type": "markdown",
   "metadata": {},
   "source": [
    "## Before submission\n",
    "\n",
    "* Make sure you fill in any place that says `YOUR CODE HERE` or `\"YOUR ANSWER HERE\"`.\n",
    "* SAVE THE NOTEBOOK\n",
    "\n"
   ]
  },
  {
   "cell_type": "markdown",
   "metadata": {},
   "source": [
    "<div class=\"alert alert-block alert-danger\">\n",
    "    \n",
    "### Formatting the submission\n",
    "* **WARNING**: If you do not submit the correct file, you will not get any marks.\n",
    "* Submit this file **only** on Moodle. It will be named `<xxx>.ipynb`.\n",
    "\n",
    "</div>"
   ]
  },
  {
   "cell_type": "markdown",
   "metadata": {},
   "source": [
    "\n",
    "## Penalties (only for assessed labs)\n",
    "<font color=\"red\">\n",
    "    \n",
    "**Malformatted submissions**\n",
    "</font>\n",
    "These assignments are processed with an automatic tool; failure to follow instructions *precisely* will lead to you automatically losing two bands in grade regardless of whether the work is correct (not to mention a long delay in getting your work back). **If you submit a file without your work in it, it will be marked and you will get 0 marks.**\n",
    "\n",
    "<font color=\"red\">**Late submission**</font>\n",
    "Be aware that there is a two band penalty for every *day* of late submission, starting the moment of the deadline.\n",
    "\n",
    "<font color=\"red\">\n",
    "    \n",
    "**Plagiarism**\n",
    "</font> Any form of plagiarism will be subject to the Plagiarism Policy. The penalties are severe."
   ]
  }
 ],
 "metadata": {
  "kernelspec": {
   "display_name": "Python 3",
   "language": "python",
   "name": "python3"
  },
  "language_info": {
   "codemirror_mode": {
    "name": "ipython",
    "version": 3
   },
   "file_extension": ".py",
   "mimetype": "text/x-python",
   "name": "python",
   "nbconvert_exporter": "python",
   "pygments_lexer": "ipython3",
   "version": "3.8.8"
  },
  "toc": {
   "base_numbering": 1,
   "nav_menu": {},
   "number_sections": true,
   "sideBar": true,
   "skip_h1_title": false,
   "title_cell": "Table of Contents",
   "title_sidebar": "Contents",
   "toc_cell": false,
   "toc_position": {},
   "toc_section_display": true,
   "toc_window_display": false
  },
  "varInspector": {
   "cols": {
    "lenName": 16,
    "lenType": 16,
    "lenVar": 40
   },
   "kernels_config": {
    "python": {
     "delete_cmd_postfix": "",
     "delete_cmd_prefix": "del ",
     "library": "var_list.py",
     "varRefreshCmd": "print(var_dic_list())"
    },
    "r": {
     "delete_cmd_postfix": ") ",
     "delete_cmd_prefix": "rm(",
     "library": "var_list.r",
     "varRefreshCmd": "cat(var_dic_list()) "
    }
   },
   "types_to_exclude": [
    "module",
    "function",
    "builtin_function_or_method",
    "instance",
    "_Feature"
   ],
   "window_display": false
  }
 },
 "nbformat": 4,
 "nbformat_minor": 2
}
