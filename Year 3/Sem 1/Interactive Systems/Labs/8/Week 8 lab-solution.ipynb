{
 "cells": [
  {
   "cell_type": "markdown",
   "metadata": {},
   "source": [
    "# Lab Week 5\n",
    "This week you will work on descriptive statistics for a survey dataset and generate suitable visualisations for different question types, different categories.  This analysis is based on the openly available dataset attached to the following paper:\n",
    "\n",
    "https://dl.acm.org/citation.cfm?id=3300310\n",
    "\n",
    "The survey was looking at attitudes and acceptance of VR headset during airplane travel.  \n"
   ]
  },
  {
   "cell_type": "code",
   "execution_count": 1,
   "metadata": {},
   "outputs": [],
   "source": [
    "# Choose any visualistion tool for the charts in this notebook\n",
    "\n",
    "import pandas as pd\n",
    "import numpy as np\n",
    "import seaborn as sns\n",
    "\n",
    "sns.set_theme()\n",
    "\n"
   ]
  },
  {
   "cell_type": "code",
   "execution_count": 2,
   "metadata": {},
   "outputs": [],
   "source": [
    "# Begin by loading the dataset into Pandas\n",
    "# Familiarise yourself with the structure and basic content of the survey\n",
    "survey_data = pd.read_excel('PlaneVRSurvey.xlsx')"
   ]
  },
  {
   "cell_type": "code",
   "execution_count": 3,
   "metadata": {},
   "outputs": [
    {
     "data": {
      "text/html": [
       "<div>\n",
       "<style scoped>\n",
       "    .dataframe tbody tr th:only-of-type {\n",
       "        vertical-align: middle;\n",
       "    }\n",
       "\n",
       "    .dataframe tbody tr th {\n",
       "        vertical-align: top;\n",
       "    }\n",
       "\n",
       "    .dataframe thead th {\n",
       "        text-align: right;\n",
       "    }\n",
       "</style>\n",
       "<table border=\"1\" class=\"dataframe\">\n",
       "  <thead>\n",
       "    <tr style=\"text-align: right;\">\n",
       "      <th></th>\n",
       "      <th>Respondent ID</th>\n",
       "      <th>How old are you?</th>\n",
       "      <th>In which country do you reside?</th>\n",
       "      <th>What is your gender?</th>\n",
       "      <th>Do you consider yourself a frequent flyer?</th>\n",
       "      <th>How do you typically spend your time while travelling? Entertainment (such as videos, games, reading)</th>\n",
       "      <th>How do you typically spend your time while travelling? Productivity (including any work related activities)</th>\n",
       "      <th>How do you typically spend your time while travelling? Sleeping</th>\n",
       "      <th>How do you typically spend your time while travelling? Other</th>\n",
       "      <th>How do you typically spend your time while travelling? Other Specify</th>\n",
       "      <th>...</th>\n",
       "      <th>Seatback Middle How comfortable would you feel if you needed to get this person's attention?</th>\n",
       "      <th>Seatback Middle If you needed to get this person's attention, what would you do?</th>\n",
       "      <th>Seatback Middle Open-Ended Response</th>\n",
       "      <th>Seatback Aisle How comfortable would you feel sitting in the middle seat next to this person?</th>\n",
       "      <th>Seatback Aisle How comfortable would you feel sitting in the window seat in the same row as this person?</th>\n",
       "      <th>Seatback Aisle How acceptable do you feel it is for someone else to use the seat-back displayÂ like this when sitting in the aisle seat?</th>\n",
       "      <th>Seatback Aisle HowÂ acceptable do you feel it is for you to use a seat-back displayÂ like this when sitting in the aisle seat?</th>\n",
       "      <th>Seatback Aisle How comfortable would you feel if you needed to get this person's attention?</th>\n",
       "      <th>Seatback Aisle If you needed to get this person's attention, what would you do?</th>\n",
       "      <th>Seatback Aisle Open-Ended Response</th>\n",
       "    </tr>\n",
       "  </thead>\n",
       "  <tbody>\n",
       "    <tr>\n",
       "      <th>0</th>\n",
       "      <td>6664235505</td>\n",
       "      <td>48</td>\n",
       "      <td>United Kingdom</td>\n",
       "      <td>Male</td>\n",
       "      <td>No</td>\n",
       "      <td>Most of my time</td>\n",
       "      <td>A little of my time</td>\n",
       "      <td>Some of my time</td>\n",
       "      <td>NaN</td>\n",
       "      <td>NaN</td>\n",
       "      <td>...</td>\n",
       "      <td>1.0</td>\n",
       "      <td>Speak to them.</td>\n",
       "      <td>NaN</td>\n",
       "      <td>1.0</td>\n",
       "      <td>1.0</td>\n",
       "      <td>1.0</td>\n",
       "      <td>1.0</td>\n",
       "      <td>1.0</td>\n",
       "      <td>Say \"excuse me.\"</td>\n",
       "      <td>NaN</td>\n",
       "    </tr>\n",
       "    <tr>\n",
       "      <th>1</th>\n",
       "      <td>6657897419</td>\n",
       "      <td>32</td>\n",
       "      <td>United Kingdom</td>\n",
       "      <td>Male</td>\n",
       "      <td>Yes</td>\n",
       "      <td>Most of my time</td>\n",
       "      <td>None of my time</td>\n",
       "      <td>None of my time</td>\n",
       "      <td>Some of my time</td>\n",
       "      <td>staring at the seat in front</td>\n",
       "      <td>...</td>\n",
       "      <td>1.0</td>\n",
       "      <td>just speak to them directly</td>\n",
       "      <td>NaN</td>\n",
       "      <td>1.0</td>\n",
       "      <td>1.0</td>\n",
       "      <td>1.0</td>\n",
       "      <td>1.0</td>\n",
       "      <td>1.0</td>\n",
       "      <td>speak to them</td>\n",
       "      <td>NaN</td>\n",
       "    </tr>\n",
       "    <tr>\n",
       "      <th>2</th>\n",
       "      <td>6657834908</td>\n",
       "      <td>32</td>\n",
       "      <td>United Kingdom</td>\n",
       "      <td>Male</td>\n",
       "      <td>Yes</td>\n",
       "      <td>Most of my time</td>\n",
       "      <td>Some of my time</td>\n",
       "      <td>None of my time</td>\n",
       "      <td>Some of my time</td>\n",
       "      <td>interacting with colleagues and friends</td>\n",
       "      <td>...</td>\n",
       "      <td>1.0</td>\n",
       "      <td>speak to them</td>\n",
       "      <td>no</td>\n",
       "      <td>1.0</td>\n",
       "      <td>1.0</td>\n",
       "      <td>1.0</td>\n",
       "      <td>1.0</td>\n",
       "      <td>1.0</td>\n",
       "      <td>i would say excuse me or wave my hand for atte...</td>\n",
       "      <td>this person is sitting in an emergency door ar...</td>\n",
       "    </tr>\n",
       "    <tr>\n",
       "      <th>3</th>\n",
       "      <td>6652662003</td>\n",
       "      <td>41</td>\n",
       "      <td>United States</td>\n",
       "      <td>Male</td>\n",
       "      <td>Yes</td>\n",
       "      <td>Most of my time</td>\n",
       "      <td>Some of my time</td>\n",
       "      <td>Some of my time</td>\n",
       "      <td>NaN</td>\n",
       "      <td>NaN</td>\n",
       "      <td>...</td>\n",
       "      <td>2.0</td>\n",
       "      <td>Lean slightly into their personal space saying...</td>\n",
       "      <td>NaN</td>\n",
       "      <td>1.0</td>\n",
       "      <td>1.0</td>\n",
       "      <td>1.0</td>\n",
       "      <td>1.0</td>\n",
       "      <td>2.0</td>\n",
       "      <td>â€œExcuse meâ€, leaning in.</td>\n",
       "      <td>NaN</td>\n",
       "    </tr>\n",
       "    <tr>\n",
       "      <th>4</th>\n",
       "      <td>6645466389</td>\n",
       "      <td>47</td>\n",
       "      <td>Hungary</td>\n",
       "      <td>Male</td>\n",
       "      <td>No</td>\n",
       "      <td>Most of my time</td>\n",
       "      <td>A little of my time</td>\n",
       "      <td>A little of my time</td>\n",
       "      <td>A little of my time</td>\n",
       "      <td>Eat, talk, etc</td>\n",
       "      <td>...</td>\n",
       "      <td>1.0</td>\n",
       "      <td>talk to her</td>\n",
       "      <td>NaN</td>\n",
       "      <td>1.0</td>\n",
       "      <td>1.0</td>\n",
       "      <td>1.0</td>\n",
       "      <td>1.0</td>\n",
       "      <td>1.0</td>\n",
       "      <td>talk to her</td>\n",
       "      <td>NaN</td>\n",
       "    </tr>\n",
       "  </tbody>\n",
       "</table>\n",
       "<p>5 rows × 104 columns</p>\n",
       "</div>"
      ],
      "text/plain": [
       "   Respondent ID  How old are you? In which country do you reside?  \\\n",
       "0     6664235505                48                  United Kingdom   \n",
       "1     6657897419                32                  United Kingdom   \n",
       "2     6657834908                32                  United Kingdom   \n",
       "3     6652662003                41                   United States   \n",
       "4     6645466389                47                         Hungary   \n",
       "\n",
       "  What is your gender? Do you consider yourself a frequent flyer?  \\\n",
       "0                 Male                                         No   \n",
       "1                 Male                                        Yes   \n",
       "2                 Male                                        Yes   \n",
       "3                 Male                                        Yes   \n",
       "4                 Male                                         No   \n",
       "\n",
       "  How do you typically spend your time while travelling? Entertainment (such as videos, games, reading)  \\\n",
       "0                                    Most of my time                                                      \n",
       "1                                    Most of my time                                                      \n",
       "2                                    Most of my time                                                      \n",
       "3                                    Most of my time                                                      \n",
       "4                                    Most of my time                                                      \n",
       "\n",
       "  How do you typically spend your time while travelling? Productivity (including any work related activities)  \\\n",
       "0                                A little of my time                                                            \n",
       "1                                    None of my time                                                            \n",
       "2                                    Some of my time                                                            \n",
       "3                                    Some of my time                                                            \n",
       "4                                A little of my time                                                            \n",
       "\n",
       "  How do you typically spend your time while travelling? Sleeping  \\\n",
       "0                                    Some of my time                \n",
       "1                                    None of my time                \n",
       "2                                    None of my time                \n",
       "3                                    Some of my time                \n",
       "4                                A little of my time                \n",
       "\n",
       "  How do you typically spend your time while travelling? Other  \\\n",
       "0                                                NaN             \n",
       "1                                    Some of my time             \n",
       "2                                    Some of my time             \n",
       "3                                                NaN             \n",
       "4                                A little of my time             \n",
       "\n",
       "  How do you typically spend your time while travelling? Other Specify  ...  \\\n",
       "0                                                NaN                    ...   \n",
       "1                       staring at the seat in front                    ...   \n",
       "2            interacting with colleagues and friends                    ...   \n",
       "3                                                NaN                    ...   \n",
       "4                                     Eat, talk, etc                    ...   \n",
       "\n",
       "   Seatback Middle How comfortable would you feel if you needed to get this person's attention?  \\\n",
       "0                                                1.0                                              \n",
       "1                                                1.0                                              \n",
       "2                                                1.0                                              \n",
       "3                                                2.0                                              \n",
       "4                                                1.0                                              \n",
       "\n",
       "   Seatback Middle If you needed to get this person's attention, what would you do?  \\\n",
       "0                                     Speak to them.                                  \n",
       "1                       just speak to them directly                                   \n",
       "2                                      speak to them                                  \n",
       "3  Lean slightly into their personal space saying...                                  \n",
       "4                                        talk to her                                  \n",
       "\n",
       "   Seatback Middle Open-Ended Response  \\\n",
       "0                                  NaN   \n",
       "1                                  NaN   \n",
       "2                                   no   \n",
       "3                                  NaN   \n",
       "4                                  NaN   \n",
       "\n",
       "  Seatback Aisle How comfortable would you feel sitting in the middle seat next to this person?  \\\n",
       "0                                                1.0                                              \n",
       "1                                                1.0                                              \n",
       "2                                                1.0                                              \n",
       "3                                                1.0                                              \n",
       "4                                                1.0                                              \n",
       "\n",
       "  Seatback Aisle How comfortable would you feel sitting in the window seat in the same row as this person?  \\\n",
       "0                                                1.0                                                         \n",
       "1                                                1.0                                                         \n",
       "2                                                1.0                                                         \n",
       "3                                                1.0                                                         \n",
       "4                                                1.0                                                         \n",
       "\n",
       "  Seatback Aisle How acceptable do you feel it is for someone else to use the seat-back displayÂ like this when sitting in the aisle seat?  \\\n",
       "0                                                1.0                                                                                         \n",
       "1                                                1.0                                                                                         \n",
       "2                                                1.0                                                                                         \n",
       "3                                                1.0                                                                                         \n",
       "4                                                1.0                                                                                         \n",
       "\n",
       "  Seatback Aisle HowÂ acceptable do you feel it is for you to use a seat-back displayÂ like this when sitting in the aisle seat?  \\\n",
       "0                                                1.0                                                                               \n",
       "1                                                1.0                                                                               \n",
       "2                                                1.0                                                                               \n",
       "3                                                1.0                                                                               \n",
       "4                                                1.0                                                                               \n",
       "\n",
       "  Seatback Aisle How comfortable would you feel if you needed to get this person's attention?  \\\n",
       "0                                                1.0                                            \n",
       "1                                                1.0                                            \n",
       "2                                                1.0                                            \n",
       "3                                                2.0                                            \n",
       "4                                                1.0                                            \n",
       "\n",
       "  Seatback Aisle If you needed to get this person's attention, what would you do?  \\\n",
       "0                                   Say \"excuse me.\"                                \n",
       "1                                      speak to them                                \n",
       "2  i would say excuse me or wave my hand for atte...                                \n",
       "3                       â€œExcuse meâ€, leaning in.                                \n",
       "4                                        talk to her                                \n",
       "\n",
       "                  Seatback Aisle Open-Ended Response  \n",
       "0                                                NaN  \n",
       "1                                                NaN  \n",
       "2  this person is sitting in an emergency door ar...  \n",
       "3                                                NaN  \n",
       "4                                                NaN  \n",
       "\n",
       "[5 rows x 104 columns]"
      ]
     },
     "execution_count": 3,
     "metadata": {},
     "output_type": "execute_result"
    }
   ],
   "source": [
    "survey_data.head()"
   ]
  },
  {
   "cell_type": "markdown",
   "metadata": {},
   "source": [
    "# Participant Demographics\n",
    "\n",
    "Given the demographic information collected in the survey, calculate a set of meaningful metrics, such as breakdown of gender, physical location, and experience with VR.  If relevant, add a suitable visualisation to illustrate any demographic information."
   ]
  },
  {
   "cell_type": "code",
   "execution_count": 4,
   "metadata": {},
   "outputs": [
    {
     "data": {
      "text/plain": [
       "Male                      61\n",
       "Female                    17\n",
       "Prefer Not toÂ Respond     2\n",
       "Name: What is your gender?, dtype: int64"
      ]
     },
     "execution_count": 4,
     "metadata": {},
     "output_type": "execute_result"
    }
   ],
   "source": [
    "# Participant Demographics \n",
    "\n",
    "survey_data[\"What is your gender?\"].value_counts()"
   ]
  },
  {
   "cell_type": "code",
   "execution_count": 5,
   "metadata": {},
   "outputs": [
    {
     "data": {
      "text/plain": [
       "<AxesSubplot:xlabel='What is your gender?', ylabel='Count'>"
      ]
     },
     "execution_count": 5,
     "metadata": {},
     "output_type": "execute_result"
    },
    {
     "data": {
      "image/png": "[encoded data removed]",
      "text/plain": [
       "<Figure size 432x288 with 1 Axes>"
      ]
     },
     "metadata": {},
     "output_type": "display_data"
    }
   ],
   "source": [
    "sns.histplot(survey_data[\"What is your gender?\"])"
   ]
  },
  {
   "cell_type": "code",
   "execution_count": 6,
   "metadata": {},
   "outputs": [
    {
     "data": {
      "text/plain": [
       "United Kingdom    38\n",
       "United States     28\n",
       "Spain              2\n",
       "Australia          1\n",
       "Argentina          1\n",
       "Hungary            1\n",
       "Italy              1\n",
       "Bahamas, The       1\n",
       "Brazil             1\n",
       "Finland            1\n",
       "Taiwan             1\n",
       "Saudi Arabia       1\n",
       "Canada             1\n",
       "Name: In which country do you reside?, dtype: int64"
      ]
     },
     "execution_count": 6,
     "metadata": {},
     "output_type": "execute_result"
    }
   ],
   "source": [
    "survey_data[\"In which country do you reside?\"].value_counts()"
   ]
  },
  {
   "cell_type": "code",
   "execution_count": 21,
   "metadata": {},
   "outputs": [
    {
     "data": {
      "text/plain": [
       "<AxesSubplot:xlabel='How old are you?', ylabel='Count'>"
      ]
     },
     "execution_count": 21,
     "metadata": {},
     "output_type": "execute_result"
    },
    {
     "data": {
      "image/png": "[encoded data removed]",
      "text/plain": [
       "<Figure size 720x360 with 1 Axes>"
      ]
     },
     "metadata": {},
     "output_type": "display_data"
    }
   ],
   "source": [
    "sns.histplot(survey_data[\"How old are you?\"], bins=np.arange(10, 71, 10))\n"
   ]
  },
  {
   "cell_type": "code",
   "execution_count": null,
   "metadata": {},
   "outputs": [],
   "source": []
  },
  {
   "cell_type": "markdown",
   "metadata": {},
   "source": [
    "# High Level Overview\n",
    "\n",
    "There are multiple ways you could calculate high level results of this data.  All responses could be collapsed into groups for VR, Eyemask, and Seatback Displays. Similarly, all responses could be collapsed into categories for aisle, middle, and window seats.  Responses to a specific question, for example \"how acceptable,\" could be collapsed into groupings for device type of seat position.  Each of these different ways of \"slicing\" the data allows to you explore different aspects of the results.  Based on your own opinion of what is the key research question addressed by this survey, choose a method for slicing/collapsing the data and calculate a high level overview of a result from this dataset. "
   ]
  },
  {
   "cell_type": "code",
   "execution_count": 8,
   "metadata": {},
   "outputs": [],
   "source": [
    "# High Level Overview\n",
    "\n"
   ]
  },
  {
   "cell_type": "markdown",
   "metadata": {},
   "source": [
    "# Visualising Scale Data\n",
    "\n",
    "Scale data, like the 5 point scales used in this survey, are incredibly popular but also present some challenges.  Averaging ordinal data is typically not meaningful because ordinal scales don't have objectively measurable differences between scale items.  For example, if one respondent rates \"5\" and one rate \"1\", averaging these scores does not accurately reflect the data.  \n",
    "\n",
    "For scale data, stacked bar charts give a much more detailed view of the data. Consider the example below:\n",
    "\n",
    "![Acceptability of In-flight Devices Based on Seat](AcceptabilityBySeat.png)\n",
    "\n",
    "Reproduce this visualisation from the survey data/\n"
   ]
  },
  {
   "cell_type": "code",
   "execution_count": 9,
   "metadata": {},
   "outputs": [],
   "source": [
    "# Reproduce a stacked bar chart"
   ]
  },
  {
   "cell_type": "code",
   "execution_count": 33,
   "metadata": {},
   "outputs": [
    {
     "data": {
      "image/png": "[encoded data removed]",
      "text/plain": [
       "<Figure size 720x360 with 1 Axes>"
      ]
     },
     "metadata": {},
     "output_type": "display_data"
    }
   ],
   "source": [
    "import seaborn as sns\n",
    "import matplotlib\n",
    "import matplotlib.pyplot as plt\n",
    "\n",
    "sns.set(rc={'figure.figsize':(10,5)})\n",
    "\n",
    "answers = ['Very unacceptable','Somewhat unacceptable','Neither acceptable nor unacceptable','Somewhat acceptable','Very acceptable']\n",
    "stackOrder = [5.0,4.0,3.0,2.0,1.0]\n",
    "\n",
    "acceptable_data = survey_data[[\"Seatback Window HowÂ acceptable do you feel it is for you to use a seat-back displayÂ like this when sitting in the window seat?\", \n",
    "                               \"Seatback Middle HowÂ acceptable do you feel it is for you to use a seat-back displayÂ like this when sitting in the middle seat?\",\n",
    "                               \"Seatback Aisle HowÂ acceptable do you feel it is for you to use a seat-back displayÂ like this when sitting in the aisle seat?\",\n",
    "                               \"Eyemask Window HowÂ acceptable do you feel it is for you to wear an eye mask like this when sitting in the window seat?\",\n",
    "                               \"Eyemask Middle How acceptable do you feel it is for someone else to wear an eye maskÂ like this when sitting in the middle seat?\",\n",
    "                               \"Eyemask Aisle HowÂ acceptable do you feel it is for you to wear an eye mask like this when sitting in the aisle seat?\",\n",
    "                               \"VR Window HowÂ acceptable do you feel it is for you to wear a VR headset like this when sitting in the window seat?\",\n",
    "                               \"VR Middle How acceptable do you feel it is for you to wearÂ a VR headset like this when sitting in the middle seat?\",\n",
    "                               \"VR Aisle HowÂ acceptable do you feel it is for you to wear a VR headset like this when sitting in the aisle seat?\"]]\n",
    "\n",
    "acceptable_data.columns=['SB-Win', 'SB-Mid', 'SB-Aisle', 'EM-Win', 'EM-Mid', 'EM-Aisle', 'VR-Win', 'VR-Mid', 'VR-Aisle']\n",
    "\n",
    "acceptable_vcs = acceptable_data.apply(pd.Series.value_counts)\n",
    "\n",
    "acceptable_vcs_prop = acceptable_vcs.div(acceptable_vcs.sum())*100.0\n",
    "\n",
    "ax = acceptable_vcs_prop.reindex(index=stackOrder).T.plot.bar(stacked=True)\n",
    "ax.legend(answers)\n",
    "ax.set_xticklabels(ax.get_xticklabels(), rotation=45, horizontalalignment='right');"
   ]
  },
  {
   "cell_type": "code",
   "execution_count": null,
   "metadata": {},
   "outputs": [],
   "source": []
  },
  {
   "cell_type": "code",
   "execution_count": null,
   "metadata": {},
   "outputs": [],
   "source": []
  },
  {
   "cell_type": "code",
   "execution_count": null,
   "metadata": {},
   "outputs": [],
   "source": []
  }
 ],
 "metadata": {
  "kernelspec": {
   "display_name": "Python 3",
   "language": "python",
   "name": "python3"
  },
  "language_info": {
   "codemirror_mode": {
    "name": "ipython",
    "version": 3
   },
   "file_extension": ".py",
   "mimetype": "text/x-python",
   "name": "python",
   "nbconvert_exporter": "python",
   "pygments_lexer": "ipython3",
   "version": "3.8.8"
  }
 },
 "nbformat": 4,
 "nbformat_minor": 2
}
