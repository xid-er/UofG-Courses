{
 "cells": [
  {
   "cell_type": "markdown",
   "metadata": {},
   "source": [
    "# Assessment 2\n",
    "\n",
    "This assessment involves reproducing an experimental analysis using an openly available dataset.  The datasets and accompanying research paper can be found at: https://dl.acm.org/citation.cfm?id=3174220\n",
    "\n",
    "Please follow on below and complete all sections.\n",
    "\n",
    "See also the accompanying IS AE2 sheet on Moodle for submission details etc.\n"
   ]
  },
  {
   "cell_type": "code",
   "execution_count": 1,
   "metadata": {},
   "outputs": [
    {
     "name": "stdout",
     "output_type": "stream",
     "text": [
      "Everything imported OK\n"
     ]
    }
   ],
   "source": [
    "# You can use pandas to work with the dataset as shown in this notebook.\n",
    "import pandas as pd\n",
    "from os import listdir\n",
    "import numpy as np\n",
    "\n",
    "\n",
    "# Generate visualisations in matplotlib or seaborn\n",
    "import seaborn as sns\n",
    "import matplotlib\n",
    "import matplotlib.pyplot as plt\n",
    "%matplotlib inline\n",
    "\n",
    "# This asessment also depends on the pylev package.  Ensure you have installed this before beginning.\n",
    "\n",
    "# %pip install pylev\n",
    "import pylev\n",
    "print(\"Everything imported OK\")"
   ]
  },
  {
   "cell_type": "markdown",
   "metadata": {},
   "source": [
    "# Keystroke Dataset\n",
    "The dataset you will use for this assessment is a subset of the 136 million keystrokes analysed in the paper.  Each row in the dataset represents a single keystroke (e.g. pressing \"a\", or a modifier key like \"SHIFT\"), and contains information such as key press time, key release time (both in milliseconds), the sentence prompted, the actual input, and the key code.  \n",
    "\n",
    "Each user's data is stored in a separate txt file. Load in the data and familiarise yourself with its structure."
   ]
  },
  {
   "cell_type": "code",
   "execution_count": 2,
   "metadata": {},
   "outputs": [],
   "source": [
    "# load in the dataset provided at https://dl.acm.org/citation.cfm?id=3174220 \n",
    "\n",
    "# Shown here how to load into a single data frame \n",
    "\n",
    "user_frame = []\n",
    "\n",
    "for file in listdir('KeyStrokes-LabStudies/'):\n",
    "    if (file[-3:]) == 'txt':\n",
    "        user_frame.append(pd.read_csv('KeyStrokes-LabStudies/' + file, sep='\\t'))\n",
    "\n",
    "data_frame = pd.concat(user_frame, axis=0, ignore_index=True)\n",
    "    "
   ]
  },
  {
   "cell_type": "code",
   "execution_count": 3,
   "metadata": {},
   "outputs": [
    {
     "data": {
      "text/html": [
       "<div>\n",
       "<style scoped>\n",
       "    .dataframe tbody tr th:only-of-type {\n",
       "        vertical-align: middle;\n",
       "    }\n",
       "\n",
       "    .dataframe tbody tr th {\n",
       "        vertical-align: top;\n",
       "    }\n",
       "\n",
       "    .dataframe thead th {\n",
       "        text-align: right;\n",
       "    }\n",
       "</style>\n",
       "<table border=\"1\" class=\"dataframe\">\n",
       "  <thead>\n",
       "    <tr style=\"text-align: right;\">\n",
       "      <th></th>\n",
       "      <th>PARTICIPANT_ID</th>\n",
       "      <th>TEST_SECTION_ID</th>\n",
       "      <th>SENTENCE</th>\n",
       "      <th>USER_INPUT</th>\n",
       "      <th>KEYSTROKE_ID</th>\n",
       "      <th>PRESS_TIME</th>\n",
       "      <th>RELEASE_TIME</th>\n",
       "      <th>LETTER</th>\n",
       "      <th>KEYCODE</th>\n",
       "    </tr>\n",
       "  </thead>\n",
       "  <tbody>\n",
       "    <tr>\n",
       "      <th>0</th>\n",
       "      <td>145007</td>\n",
       "      <td>1577476</td>\n",
       "      <td>I will be out on Friday, but any other day is ...</td>\n",
       "      <td>I will be out on Frida, but any other day is f...</td>\n",
       "      <td>74993989</td>\n",
       "      <td>1473871859057</td>\n",
       "      <td>1473871859304</td>\n",
       "      <td>SHIFT</td>\n",
       "      <td>16</td>\n",
       "    </tr>\n",
       "    <tr>\n",
       "      <th>1</th>\n",
       "      <td>145007</td>\n",
       "      <td>1577476</td>\n",
       "      <td>I will be out on Friday, but any other day is ...</td>\n",
       "      <td>I will be out on Frida, but any other day is f...</td>\n",
       "      <td>74993987</td>\n",
       "      <td>1473871859201</td>\n",
       "      <td>1473871859297</td>\n",
       "      <td>I</td>\n",
       "      <td>73</td>\n",
       "    </tr>\n",
       "    <tr>\n",
       "      <th>2</th>\n",
       "      <td>145007</td>\n",
       "      <td>1577476</td>\n",
       "      <td>I will be out on Friday, but any other day is ...</td>\n",
       "      <td>I will be out on Frida, but any other day is f...</td>\n",
       "      <td>74993991</td>\n",
       "      <td>1473871859312</td>\n",
       "      <td>1473871859408</td>\n",
       "      <td></td>\n",
       "      <td>32</td>\n",
       "    </tr>\n",
       "    <tr>\n",
       "      <th>3</th>\n",
       "      <td>145007</td>\n",
       "      <td>1577476</td>\n",
       "      <td>I will be out on Friday, but any other day is ...</td>\n",
       "      <td>I will be out on Frida, but any other day is f...</td>\n",
       "      <td>74993993</td>\n",
       "      <td>1473871859424</td>\n",
       "      <td>1473871859520</td>\n",
       "      <td>w</td>\n",
       "      <td>87</td>\n",
       "    </tr>\n",
       "    <tr>\n",
       "      <th>4</th>\n",
       "      <td>145007</td>\n",
       "      <td>1577476</td>\n",
       "      <td>I will be out on Friday, but any other day is ...</td>\n",
       "      <td>I will be out on Frida, but any other day is f...</td>\n",
       "      <td>74993995</td>\n",
       "      <td>1473871859504</td>\n",
       "      <td>1473871859568</td>\n",
       "      <td>i</td>\n",
       "      <td>73</td>\n",
       "    </tr>\n",
       "  </tbody>\n",
       "</table>\n",
       "</div>"
      ],
      "text/plain": [
       "   PARTICIPANT_ID  TEST_SECTION_ID  \\\n",
       "0          145007          1577476   \n",
       "1          145007          1577476   \n",
       "2          145007          1577476   \n",
       "3          145007          1577476   \n",
       "4          145007          1577476   \n",
       "\n",
       "                                            SENTENCE  \\\n",
       "0  I will be out on Friday, but any other day is ...   \n",
       "1  I will be out on Friday, but any other day is ...   \n",
       "2  I will be out on Friday, but any other day is ...   \n",
       "3  I will be out on Friday, but any other day is ...   \n",
       "4  I will be out on Friday, but any other day is ...   \n",
       "\n",
       "                                          USER_INPUT  KEYSTROKE_ID  \\\n",
       "0  I will be out on Frida, but any other day is f...      74993989   \n",
       "1  I will be out on Frida, but any other day is f...      74993987   \n",
       "2  I will be out on Frida, but any other day is f...      74993991   \n",
       "3  I will be out on Frida, but any other day is f...      74993993   \n",
       "4  I will be out on Frida, but any other day is f...      74993995   \n",
       "\n",
       "      PRESS_TIME   RELEASE_TIME LETTER  KEYCODE  \n",
       "0  1473871859057  1473871859304  SHIFT       16  \n",
       "1  1473871859201  1473871859297      I       73  \n",
       "2  1473871859312  1473871859408              32  \n",
       "3  1473871859424  1473871859520      w       87  \n",
       "4  1473871859504  1473871859568      i       73  "
      ]
     },
     "execution_count": 3,
     "metadata": {},
     "output_type": "execute_result"
    }
   ],
   "source": [
    "# if in doubt, always check that the data appears as you expect\n",
    "\n",
    "data_frame.head()"
   ]
  },
  {
   "cell_type": "code",
   "execution_count": 4,
   "metadata": {},
   "outputs": [
    {
     "data": {
      "text/html": [
       "<div>\n",
       "<style scoped>\n",
       "    .dataframe tbody tr th:only-of-type {\n",
       "        vertical-align: middle;\n",
       "    }\n",
       "\n",
       "    .dataframe tbody tr th {\n",
       "        vertical-align: top;\n",
       "    }\n",
       "\n",
       "    .dataframe thead th {\n",
       "        text-align: right;\n",
       "    }\n",
       "</style>\n",
       "<table border=\"1\" class=\"dataframe\">\n",
       "  <thead>\n",
       "    <tr style=\"text-align: right;\">\n",
       "      <th></th>\n",
       "      <th>PARTICIPANT_ID</th>\n",
       "      <th>TEST_SECTION_ID</th>\n",
       "    </tr>\n",
       "  </thead>\n",
       "  <tbody>\n",
       "    <tr>\n",
       "      <th>0</th>\n",
       "      <td>145007</td>\n",
       "      <td>1577476</td>\n",
       "    </tr>\n",
       "    <tr>\n",
       "      <th>1</th>\n",
       "      <td>145007</td>\n",
       "      <td>1577488</td>\n",
       "    </tr>\n",
       "    <tr>\n",
       "      <th>2</th>\n",
       "      <td>145007</td>\n",
       "      <td>1577500</td>\n",
       "    </tr>\n",
       "    <tr>\n",
       "      <th>3</th>\n",
       "      <td>145007</td>\n",
       "      <td>1577508</td>\n",
       "    </tr>\n",
       "    <tr>\n",
       "      <th>4</th>\n",
       "      <td>145007</td>\n",
       "      <td>1577517</td>\n",
       "    </tr>\n",
       "  </tbody>\n",
       "</table>\n",
       "</div>"
      ],
      "text/plain": [
       "   PARTICIPANT_ID  TEST_SECTION_ID\n",
       "0          145007          1577476\n",
       "1          145007          1577488\n",
       "2          145007          1577500\n",
       "3          145007          1577508\n",
       "4          145007          1577517"
      ]
     },
     "execution_count": 4,
     "metadata": {},
     "output_type": "execute_result"
    }
   ],
   "source": [
    "# setup a new data structure to hold each of the metrics you have calculated\n",
    "\n",
    "# All metrics should be calculated on a per-sentence basis.  Store the metrics you calculate.\n",
    "\n",
    "metric_frame = data_frame[['PARTICIPANT_ID', 'TEST_SECTION_ID']].drop_duplicates().reset_index(drop=True)\n",
    "\n",
    "metric_frame.head()\n"
   ]
  },
  {
   "cell_type": "markdown",
   "metadata": {},
   "source": [
    "# 1. Performance Metrics (10 marks)\n",
    "\n",
    "Keystroke studies have a number of standard performance metrics. For this assessment, you must calculate each of the metrics below and generate an accompanying diagram/visualisation for each.  All metrics should be calculated for each test section (on a sentence by sentence basis) but visualisations can be produced using any grouping of the data. \n",
    "\n",
    "Marks will be given in each case for finding the correct result and any well-formed visualisation (correctly labelled axes etc) that illustrates some aspect of the data\n",
    "\n",
    "__For each metric below__, you can use the following pattern to implement your solution. \n",
    "* Define a function that:\n",
    " * takes in a data frame holding data for a single sentence (i.e. all data for unique TEST_SECTION_ID), where each row of the data frame is a keystroke for that sentence \n",
    " * returns the metric for that sentence\n",
    "* Call the add_column function below to add the metric to the metric_frame as a new column.  add_column takes in a data frame (to which we're adding a column), your new function to calculate the metric, and a name for the new column."
   ]
  },
  {
   "cell_type": "code",
   "execution_count": 5,
   "metadata": {},
   "outputs": [],
   "source": [
    "def add_column(frame, fn, name):\n",
    "    new_col = data_frame.groupby(['TEST_SECTION_ID', 'PARTICIPANT_ID']).apply(fn).reset_index(name=name)\n",
    "    return frame.merge(new_col)"
   ]
  },
  {
   "cell_type": "markdown",
   "metadata": {},
   "source": [
    "To illustrate the format, the first metric below is completed for you"
   ]
  },
  {
   "cell_type": "markdown",
   "metadata": {},
   "source": [
    "## a) Uncorrected Error Rate\n",
    "UER is the Levenshtein distance (use the pylev package to calculate this) from the correct string to the string entered by the user, divided by the number of characters in whichever is larger of the correct or entered string.\n",
    "\n",
    "Calculate the Levenshtein distance for each test section (sentence), print the average value across all users, and produce a visualisation of this data.\n",
    "\n",
    "__Sample solution provided__  \n",
    "\n",
    "  -- You can use the format of this sample answer to structure your solutions for the remaining metrics."
   ]
  },
  {
   "cell_type": "code",
   "execution_count": 6,
   "metadata": {},
   "outputs": [
    {
     "name": "stdout",
     "output_type": "stream",
     "text": [
      "Average Uncorrected Error Rate: 2.394441%\n"
     ]
    }
   ],
   "source": [
    "def uncorrErrRate(test_section):\n",
    "    dist = pylev.levenshtein(test_section['SENTENCE'].iloc[0], test_section['USER_INPUT'].iloc[0])\n",
    "    maxChars = max(len(test_section['SENTENCE'].iloc[0]), len(test_section['USER_INPUT'].iloc[0]))\n",
    "    return 100.0*float(dist)/float(maxChars)\n",
    "        \n",
    "metric_frame = add_column(metric_frame, uncorrErrRate, 'UER')\n",
    "\n",
    "uer_mean = metric_frame['UER'].mean()\n",
    "print(f\"Average Uncorrected Error Rate: {uer_mean:.6f}%\")"
   ]
  },
  {
   "cell_type": "code",
   "execution_count": 7,
   "metadata": {},
   "outputs": [
    {
     "data": {
      "image/png": "[encoded data removed]",
      "text/plain": [
       "<Figure size 432x288 with 1 Axes>"
      ]
     },
     "metadata": {
      "needs_background": "light"
     },
     "output_type": "display_data"
    }
   ],
   "source": [
    "#show probability\n",
    "ax = sns.histplot(data=metric_frame['UER'], kde=\"true\", stat=\"probability\")\n",
    "ax.set(xlabel=\"Uncorrected Error Rate %\", ylabel=\"Probability Density\");"
   ]
  },
  {
   "cell_type": "markdown",
   "metadata": {},
   "source": [
    "## b) Words Per Minute\n",
    "WPM is calculated by taking the word count of the typed string divided by the time in minutes from the first key press to the last key press. \n",
    "\n",
    "__NOTE__ the definition of 'word' in the paper for the purposes of these calculations: a word is considered as any 5 characters of text the user submits (including spaces, punctuation etc.). Note also that this is considering the string the user typed - not the target string.\n",
    "\n",
    "Calculate the WPM for each test section, print the average value across all users, and produce a visualisation of this data.\n",
    "\n",
    "__2 marks__"
   ]
  },
  {
   "cell_type": "code",
   "execution_count": 8,
   "metadata": {},
   "outputs": [
    {
     "name": "stdout",
     "output_type": "stream",
     "text": [
      "Average Words Per Minute: 55.145475\n"
     ]
    },
    {
     "data": {
      "image/png": "[encoded data removed]",
      "text/plain": [
       "<Figure size 432x288 with 1 Axes>"
      ]
     },
     "metadata": {
      "needs_background": "light"
     },
     "output_type": "display_data"
    }
   ],
   "source": [
    "# Words per minute\n",
    "def wpm(test_section):\n",
    "    word_len = 5 # as per paper\n",
    "    words = len(test_section['USER_INPUT'].iloc[0]) / word_len\n",
    "    # Using last press time as per question, but I would argue last release time would make more sense for complete time\n",
    "    minutes = (test_section['PRESS_TIME'].iloc[-1] - test_section['PRESS_TIME'].iloc[0]) / 60000\n",
    "    return float(words) / float(minutes)\n",
    "\n",
    "\n",
    "metric_frame = add_column(metric_frame, wpm, 'WPM')\n",
    "wpm_mean = metric_frame['WPM'].mean()\n",
    "print(f\"Average Words Per Minute: {wpm_mean:.6f}\")\n",
    "\n",
    "ax = sns.histplot(data=metric_frame['WPM'], kde=\"true\", stat=\"probability\", bins = np.arange(5, 130, 5))\n",
    "ax.set(xlabel=\"Words per Minute\", ylabel=\"Probability Density\");"
   ]
  },
  {
   "cell_type": "markdown",
   "metadata": {},
   "source": [
    "## c) Error Corrections\n",
    "We count error correcting as pressing a key associated with deleting a character (remember there are usually 2 different keys to do this on most keyboards). EC is calculated as the percentage of keypresses that are the backspace ___or___ delete key.\n",
    "\n",
    "Calculate the EC for each test section, print the average across all users, and produce a visualisation of this data.\n",
    "\n",
    "__2 marks__"
   ]
  },
  {
   "cell_type": "code",
   "execution_count": 9,
   "metadata": {},
   "outputs": [
    {
     "name": "stdout",
     "output_type": "stream",
     "text": [
      "Average Error Corrections: 3.874127%\n"
     ]
    },
    {
     "data": {
      "image/png": "[encoded data removed]",
      "text/plain": [
       "<Figure size 432x288 with 1 Axes>"
      ]
     },
     "metadata": {
      "needs_background": "light"
     },
     "output_type": "display_data"
    }
   ],
   "source": [
    "# Error corrections\n",
    "def error_corrections(test_section):\n",
    "    count = 0\n",
    "    i = 0\n",
    "    for key in test_section['LETTER']:\n",
    "        if (key == 'DELETE' or key == 'BKSP'):\n",
    "            count += 1\n",
    "        i += 1\n",
    "    total_keys = len(test_section['KEYCODE'])\n",
    "    return 100 * float(count) / float(total_keys)\n",
    "\n",
    "metric_frame = add_column(metric_frame, error_corrections, 'EC')\n",
    "ec_mean = metric_frame['EC'].mean()\n",
    "print(f\"Average Error Corrections: {ec_mean:.6f}%\")\n",
    "\n",
    "ax = sns.histplot(data=metric_frame['EC'], kde=\"true\", stat=\"probability\", bins = np.arange(0, 50, 2))\n",
    "ax.set(xlabel=\"Error Corrections, %\", ylabel=\"Probability Density\");"
   ]
  },
  {
   "cell_type": "markdown",
   "metadata": {},
   "source": [
    "## d) Keystrokes Per Character\n",
    "KPC is the number of total keystrokes divided by the number of characters in the final sentence the user produced (like WPM, note that this refers to the typed not target string). \n",
    "\n",
    "Calculate the KPC for each test section, print the average across all users, and produce a visualisation of this data.\n",
    "\n",
    "__2 marks__"
   ]
  },
  {
   "cell_type": "code",
   "execution_count": 10,
   "metadata": {},
   "outputs": [
    {
     "name": "stdout",
     "output_type": "stream",
     "text": [
      "Average Keystrokes per Character: 1.154218\n"
     ]
    },
    {
     "data": {
      "image/png": "[encoded data removed]",
      "text/plain": [
       "<Figure size 432x288 with 1 Axes>"
      ]
     },
     "metadata": {
      "needs_background": "light"
     },
     "output_type": "display_data"
    }
   ],
   "source": [
    "# Keystrokes per character\n",
    "def kpc(test_section):\n",
    "    return test_section['LETTER'].size / len(test_section['USER_INPUT'].iloc[0])\n",
    "\n",
    "\n",
    "metric_frame = add_column(metric_frame, kpc, 'KPC')\n",
    "kpc_mean = metric_frame['KPC'].mean()\n",
    "print(f\"Average Keystrokes per Character: {kpc_mean:.6f}\")\n",
    "\n",
    "ax = sns.histplot(data=metric_frame['KPC'], kde=\"true\", stat=\"probability\", bins = np.arange(0.9, 2, 0.1))\n",
    "ax.set(xlabel=\"Keystrokes per Character\", ylabel=\"Probability Density\");"
   ]
  },
  {
   "cell_type": "markdown",
   "metadata": {},
   "source": [
    "## e) Interkey Interval\n",
    "IKI is the time difference in milliseconds between two keypress events.  Remove IKI intervals of greater than 5000 milliseconds from your analysis.\n",
    "\n",
    "Calculate the average IKI for each test section, print the average across all users, and produce a visualisation of this data.\n",
    "\n",
    "__2 marks__"
   ]
  },
  {
   "cell_type": "code",
   "execution_count": 11,
   "metadata": {},
   "outputs": [
    {
     "name": "stdout",
     "output_type": "stream",
     "text": [
      "Average Interkey Interval: 242.552694 ms\n"
     ]
    },
    {
     "data": {
      "image/png": "[encoded data removed]",
      "text/plain": [
       "<Figure size 432x288 with 1 Axes>"
      ]
     },
     "metadata": {
      "needs_background": "light"
     },
     "output_type": "display_data"
    }
   ],
   "source": [
    "# Interkey Interval\n",
    "def iki(test_section):\n",
    "    total_time = 0.0\n",
    "    events = 0\n",
    "    for i in range(1, test_section['LETTER'].size):\n",
    "        time = test_section['PRESS_TIME'].iloc[i] - test_section['PRESS_TIME'].iloc[i-1]\n",
    "        if (time < 5000):\n",
    "            total_time += time\n",
    "            events += 1\n",
    "    return total_time / events\n",
    "\n",
    "metric_frame = add_column(metric_frame, iki, 'IKI')\n",
    "iki_mean = metric_frame['IKI'].mean()\n",
    "print(f\"Average Interkey Interval: {iki_mean:.6f} ms\")\n",
    "\n",
    "ax = sns.histplot(data=metric_frame['IKI'], kde=\"true\", stat=\"probability\", bins = np.arange(80, 860, 20))\n",
    "ax.set(xlabel=\"Interkey Interval, ms\", ylabel=\"Probability Density\");"
   ]
  },
  {
   "cell_type": "markdown",
   "metadata": {},
   "source": [
    "## f) Keypress Duration\n",
    "KPD is the duration in milliseconds between a keypress down and keypress up event.\n",
    "\n",
    "Calculate the average KPD for each test section, print the average across all users, and produce a visualisation of this data.\n",
    "\n",
    "__2 marks__"
   ]
  },
  {
   "cell_type": "code",
   "execution_count": 12,
   "metadata": {},
   "outputs": [
    {
     "name": "stdout",
     "output_type": "stream",
     "text": [
      "Average Keypress Duration: 127.675477 ms\n"
     ]
    },
    {
     "data": {
      "image/png": "[encoded data removed]",
      "text/plain": [
       "<Figure size 432x288 with 1 Axes>"
      ]
     },
     "metadata": {
      "needs_background": "light"
     },
     "output_type": "display_data"
    }
   ],
   "source": [
    "# Keypress Duration\n",
    "def kpd(test_section):\n",
    "    total_time = 0.0\n",
    "    n = test_section['LETTER'].size\n",
    "    for i in range(n):\n",
    "        total_time += test_section['RELEASE_TIME'].iloc[i] - test_section['PRESS_TIME'].iloc[i]\n",
    "    return total_time / n\n",
    "\n",
    "metric_frame = add_column(metric_frame, kpd, 'KPD')\n",
    "kpd_mean = metric_frame['KPD'].mean()\n",
    "print(f\"Average Keypress Duration: {kpd_mean:.6f} ms\")\n",
    "\n",
    "ax = sns.histplot(data=metric_frame['KPD'], kde=\"true\", stat=\"probability\", bins = np.arange(60, 740, 20))\n",
    "ax.set(xlabel=\"Kepress Duration, ms\", ylabel=\"Probability Density\");"
   ]
  },
  {
   "cell_type": "markdown",
   "metadata": {},
   "source": [
    "# 2. Key Grouping Analysis (10 marks)\n",
    "\n",
    "There are certain key combinations and orderings in typing behaviour that can be seen in a dataset like this.  In the paper, the authors describe some of these results such as lettering pairings \"as\" \"an\" and \"ll\" which require typing across different areas of a QWERTY keyboard.\n",
    "\n",
    "Using your knowledge of keyboard layouts and typing behaviour, complete a novel analysis of a key grouping of your choice.  You may need to be creative in exploring the data to find and analyse a typing behaviour.  \n",
    "\n",
    "Use the space below to describe what key grouping you are analysing and why (up to 200 words).  Generate suitable visualisations to illustrate your point and give a summary of your results (up to 200 words). Comment on whether your results complement or contradict any other findings or discussions in the paper or are investigating something new, and/or general implications of your findings (up to 200 words).\n",
    "\n",
    "__10 marks__"
   ]
  },
  {
   "cell_type": "markdown",
   "metadata": {},
   "source": [
    "## Part 1: Reasoning\n",
    "\n",
    "The key groupings chosen to analyse are \"SHIFT+i\" and \"CAPS_LOCK, i\" as an experiment to measure words per minute of participants using each method of capitalising the letter *i*. \n",
    "\n",
    "Firstly, the letter *i* is chosen because the capitalised form of it can often be found as a word in the middle of sentences; thus, capital *I* is found much more often than other capital letters.\n",
    "\n",
    "Secondly, these key groupings are chosen because of the following hypothesis:\n",
    "_**\"Participants using CAPS_LOCK to capitalise letters are slower typists than participants using SHIFT\"**_ and its null hypothesis (There is no difference between participants using CAPS_LOCK to capitalise letter and those using SHIFT) and the following reasons:\n",
    "* CAPS_LOCK capitalisation method requires 2 key presses to capitalise and stop capitalising, while SHIFT requires just 1 (albeit with more control to time press and release times more precisely), which might affect IKI and WPM;\n",
    "* SHIFT and CAPS_LOCK are almost equi-distant to the key *i*, reducing this potential confounding variable;\n",
    "* the differences in WPM and/or IKI might be increased by other confounding factors characterising these two types of people, e.g., experience, frequency of use, etc, which is an interesting potential aspect to analyse out of the scope of this assessed exercise."
   ]
  },
  {
   "cell_type": "markdown",
   "metadata": {},
   "source": [
    "## Part 2: Results\n",
    "### Code and raw data:"
   ]
  },
  {
   "cell_type": "code",
   "execution_count": 14,
   "metadata": {},
   "outputs": [
    {
     "name": "stdout",
     "output_type": "stream",
     "text": [
      "SHIFT min, max: 17.120437522292235 119.88398324202385\n",
      "CAPS_LOCK min, max: 10.48165710007487 45.409674234945705\n",
      "SHIFT median: 52.96319377981556\n",
      "CAPS_LOCK median: 34.558157528445946\n",
      "SHIFT standard deviation: 43.03982225622428%\n",
      "CAPS_LOCK standard deviation: 42.39245259930327%\n"
     ]
    },
    {
     "data": {
      "image/png": "[encoded data removed]",
      "text/plain": [
       "<Figure size 432x288 with 1 Axes>"
      ]
     },
     "metadata": {
      "needs_background": "light"
     },
     "output_type": "display_data"
    }
   ],
   "source": [
    "unique_sentences = []\n",
    "\n",
    "shift_participants = []\n",
    "shift_wpm = []\n",
    "shift_kpc = []\n",
    "\n",
    "caps_participants = []\n",
    "caps_wpm = []\n",
    "caps_kpc = []\n",
    "\n",
    "idgaf_participants = []\n",
    "\n",
    "i = 0\n",
    "for sentence in data_frame['SENTENCE']:\n",
    "    if (sentence not in unique_sentences):\n",
    "        unique_sentences.append(sentence)\n",
    "        if ('I' in sentence):\n",
    "            test_section = data_frame['TEST_SECTION_ID'].iloc[i]\n",
    "            participant = data_frame['PARTICIPANT_ID'].iloc[i]\n",
    "            wpm = metric_frame[(metric_frame['PARTICIPANT_ID'] == participant) & \n",
    "                               (metric_frame['TEST_SECTION_ID'] == test_section)]['WPM'].tolist()[0]\n",
    "            \n",
    "            kpc = metric_frame[(metric_frame['PARTICIPANT_ID'] == participant) & \n",
    "                               (metric_frame['TEST_SECTION_ID'] == test_section)]['KPC'].tolist()[0]\n",
    "            \n",
    "            keys = data_frame[data_frame.TEST_SECTION_ID == test_section]['LETTER']\n",
    "            if (len(keys[keys == \"SHIFT\"]) > 0):\n",
    "                shift_participants.append(participant)\n",
    "                shift_wpm.append(wpm)\n",
    "                shift_kpc.append(kpc)\n",
    "            \n",
    "            elif (len(keys[keys == \"CAPS_LOCK\"]) > 0):\n",
    "                caps_participants.append(participant)\n",
    "                caps_wpm.append(wpm)\n",
    "                caps_kpc.append(kpc)\n",
    "            \n",
    "            else:\n",
    "                idgaf_participants.append(data_frame['PARTICIPANT_ID'].iloc[i])\n",
    "    i += 1\n",
    "print(\"SHIFT min, max:\", np.min(shift_wpm), np.max(shift_wpm))\n",
    "print(\"CAPS_LOCK min, max:\",np.min(caps_wpm), np.max(caps_wpm))\n",
    "\n",
    "print(\"SHIFT median:\", np.median(shift_wpm))\n",
    "print(\"CAPS_LOCK median:\", np.median(caps_wpm))\n",
    "\n",
    "print(\"SHIFT standard deviation: \" + str(np.std(shift_wpm) / np.mean(shift_wpm) * 100) + \"%\")\n",
    "print(\"CAPS_LOCK standard deviation: \" + str(np.std(caps_wpm) / np.mean(caps_wpm) * 100) + \"%\")\n",
    "\n",
    "wpm_plot = sns.histplot(data={\"SHIFT-using participants\": shift_wpm, \"CAPS_LOCK-using participants\": caps_wpm}, \n",
    "                  kde=\"true\", stat=\"probability\", common_norm=False, bins = np.arange(10, 120, 10))\n",
    "wpm_plot.set(xlabel=\"Words per Minute\", ylabel=\"Probability Density\");"
   ]
  },
  {
   "cell_type": "code",
   "execution_count": 15,
   "metadata": {},
   "outputs": [
    {
     "name": "stdout",
     "output_type": "stream",
     "text": [
      "SHIFT min, max: 1.0 1.7647058823529411\n",
      "CAPS_LOCK min, max: 1.0434782608695652 1.6578947368421053\n",
      "SHIFT median: 1.0816666666666666\n",
      "CAPS_LOCK median: 1.2267080745341614\n",
      "SHIFT standard deviation: 12.605438027533863%\n",
      "CAPS_LOC standard deviation: 13.436811988785188%\n"
     ]
    },
    {
     "data": {
      "image/png": "[encoded data removed]",
      "text/plain": [
       "<Figure size 432x288 with 1 Axes>"
      ]
     },
     "metadata": {
      "needs_background": "light"
     },
     "output_type": "display_data"
    }
   ],
   "source": [
    "print(\"SHIFT min, max:\", np.min(shift_kpc), np.max(shift_kpc))\n",
    "print(\"CAPS_LOCK min, max:\", np.min(caps_kpc), np.max(caps_kpc))\n",
    "\n",
    "print(\"SHIFT median:\", np.median(shift_kpc))\n",
    "print(\"CAPS_LOCK median:\", np.median(caps_kpc))\n",
    "\n",
    "print(\"SHIFT standard deviation: \" + str(np.std(shift_kpc) / np.mean(shift_kpc) * 100) + \"%\")\n",
    "print(\"CAPS_LOC standard deviation: \" + str(np.std(caps_kpc) / np.mean(caps_kpc) * 100) + \"%\")\n",
    "\n",
    "iki_plot = sns.histplot(data={\"SHIFT-using participants\": shift_kpc, \"CAPS_LOCK-using participants\": caps_kpc}, \n",
    "                  kde=\"true\", stat=\"probability\", common_norm=False, bins=np.arange(1, 1.8, 0.05))\n",
    "iki_plot.set(xlabel=\"Keys per Character\", ylabel=\"Probability Density\");"
   ]
  },
  {
   "cell_type": "markdown",
   "metadata": {},
   "source": [
    "### Results\n",
    "\n",
    "There is a clear difference between the SHIFT group and the CAPS_LOCK group, both in their Words per Minute and their Keys per Character metrics, which gives the ability to reject the null hypothesis. Additionally, analysing the graphs and metrics gives some insight into the hypothesis itself.\n",
    "\n",
    "By looking at the Keys per Character aspect, the median for the CAPS_LOCK group is around 1.227 (STD: 12.6%), while for the SHIFT group - around 1.082 (STD: 13.4%), which is 0.145 less. While the standard deviations are pretty high, there seems to be an obvious correlation between the capitalisation method used and the Keys per Character metric, as described in Part 1 (SHIFT requiring 1 press, while CAPS_LOCK requiring 2)\n",
    "\n",
    "By looking at the Words per Minute aspect, the median for the CAPS_LOCK group is around 34.56 (STD: 42%), while for the SHIFT group - around 52.96 (STD: 43%), which is 18.40 words higher. While the STDs are crazy high, a relatively lower WPM metric for the CAPS_LOCK group makes sense, if at least based from the additional keys to press for each capital *I*. The difference could also be explained by confounding variables, e.g., trained or untrained typists, etc."
   ]
  },
  {
   "cell_type": "markdown",
   "metadata": {},
   "source": [
    "## Part 3: Discussion\n",
    "\n",
    "Some of the results have direct correspondence with findings in the paper, e.g., the median KPC of CAPS_LOCK-users (1.227) is very close to the KPC of slow typists reported in the paper (1.24), both of which are far from the average KPC of all typists (1.17), which makes sense because of the additional CAPS_LOCK key required for each capitalised section. Additionally, both \"SHIFT+i\" and \"CAPS_LOCK, i\" are a very similar distance to the \"ai\" bigram, which the paper categorises as a hand-alternation one. \n",
    "\n",
    "Furthermore, the median WPM of SHIFT-users (52.96) is close to the WPM of all typists in the paper (51.56), which means that SHIFT-users, the vast majority of all typists in the data, are a good representation of the average typist's WPM.\n",
    "\n",
    "However, analysing special keys with letter keys is rather different from any analysis in the paper. This difference in capitalisation methods is rather striking, not just in WPM and KPC, but also in the number of key sequences in the data using each method (SHIFT in 68 sequences, CAPS_LOCK in 10). Thus, it seems that typists could improve their WPM by just changing the method with which they capitalise letters. What it will definitely improve, however, is their KPC."
   ]
  }
 ],
 "metadata": {
  "kernelspec": {
   "display_name": "Python 3",
   "language": "python",
   "name": "python3"
  },
  "language_info": {
   "codemirror_mode": {
    "name": "ipython",
    "version": 3
   },
   "file_extension": ".py",
   "mimetype": "text/x-python",
   "name": "python",
   "nbconvert_exporter": "python",
   "pygments_lexer": "ipython3",
   "version": "3.8.8"
  }
 },
 "nbformat": 4,
 "nbformat_minor": 2
}
