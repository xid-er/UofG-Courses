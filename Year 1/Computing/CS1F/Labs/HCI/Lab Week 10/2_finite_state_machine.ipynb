{
 "cells": [
  {
   "cell_type": "markdown",
   "metadata": {},
   "source": [
    "---\n",
    "# CS1F: Assessed exercise (Part 2)\n",
    "\n",
    "This exercise is worth 8% of your mark in total for CS1F.\n",
    "It should be completed individually.\n",
    "\n",
    "This exercise has four stages, in consecutive CS1F lab sessions:\n",
    "\n",
    "1. Designing a conceptual model of an interface.\n",
    "2. Implementing a state machine.\n",
    "3. Linking states to continuous control signals.\n",
    "4. Experimental analysis of usability.\n",
    "\n",
    "**You will require your results from previous weeks in each successive exercise!**\n",
    "\n",
    "## A finite state machine\n",
    "<img src=\"imgs/flashlight_design.png\" width=\"60%\">\n",
    "\n",
    "In this lab you will have to implement, refine and adapt your initial designs from last week. \n",
    "\n",
    "This involves:\n",
    "\n",
    "* Implement the state machine in Python.\n",
    "* Test it, using a UI to simulate transitions.\n",
    "* Adapt it as you see fit to make it work better.\n",
    "\n",
    "Note that in this lab you will be testing only the state machine itself. In the following lab, you will look at how to interpret the motions from the touch slider, transforming continuous inputs into discrete state transitions. The purpose of this exercise is to explore how to analyse how an interface works *without* the specific details of how it is implemented.\n",
    "\n",
    "Much of the code will be provided as a skeleton, but you will need to define the state machine functionality.\n",
    "\n",
    "## Part 1: design\n",
    "\n",
    "* Review your state machine design and update your diagrams to reflect changes to your design from last week that you want to make.\n",
    "* **Draw the final, complete state diagram for your flashlight**. This should include all states and transitions.\n",
    "\n",
    "## Part 2: implement\n",
    "\n",
    "### Implementing the state machine\n",
    "\n",
    "We will use a simple structure to define state machines. A state machine is represented by a Python **dictionary**, which maps pairs of `(state, action) -> new_state`. States and actions are just strings. For example, the Finite State Machine drawn below would be represented as this dictionary:"
   ]
  },
  {
   "cell_type": "code",
   "execution_count": 1,
   "metadata": {},
   "outputs": [],
   "source": [
    "## IMPORTANT: you must specify the pair in the order (state, action)!\n",
    "\n",
    "\n",
    "# The reason these are \"off:off\" or \"on:on\"\n",
    "# is just that the\n",
    "# part after the colon is used to set\n",
    "# the flashlight state in the simulator.\n",
    "#\n",
    "# \"off:off\" is a state named \"off\", \n",
    "# which also turns \"off\" the flashlight when\n",
    "# entered.\n",
    "#\n",
    "# See the end for a full list of flashlight\n",
    "# states\n",
    "\n",
    "on_off_fsm = {\n",
    "        # (state, action)    -> state\n",
    "          (\"off:off\", \"turn_on\") : \"on:on\",\n",
    "          (\"on:on\",  \"turn_off\") : \"off:off\",\n",
    "    }"
   ]
  },
  {
   "cell_type": "markdown",
   "metadata": {},
   "source": [
    "## Simulating\n",
    "\n",
    "The simulator below will take such a dictionary and let you simulate transitions interactively. It will show you the current state, the actions that are available as buttons on screen.\n",
    "\n",
    "Before going further, try this. \n"
   ]
  },
  {
   "cell_type": "code",
   "execution_count": 2,
   "metadata": {},
   "outputs": [
    {
     "name": "stderr",
     "output_type": "stream",
     "text": [
      "/anaconda3/lib/python3.7/site-packages/IPython/kernel/__init__.py:13: ShimWarning: The `IPython.kernel` package has been deprecated since IPython 4.0.You should import from ipykernel or jupyter_client instead.\n",
      "  \"You should import from ipykernel or jupyter_client instead.\", ShimWarning)\n"
     ]
    }
   ],
   "source": [
    "%load_ext autoreload\n",
    "%autoreload 2\n",
    "\n",
    "from fsm_simulator import fsm_simulate\n",
    "\n",
    "# run the on off simulator specified above. \n",
    "# each state only has one action, \n",
    "# we specify the start state we will start in\n",
    "results = fsm_simulate(machine=on_off_fsm, start_state=\"off:off\")\n",
    "\n",
    "# this line just hands over control to the window\n",
    "# press ESC to exit\n",
    "%gui xtk "
   ]
  },
  {
   "cell_type": "markdown",
   "metadata": {},
   "source": [
    "### Timeouts\n",
    "If an action is a *number* instead of a *string*, this will be interpreted as specifying a *timeout*. After this many seconds, the transition will happen, regardless of input."
   ]
  },
  {
   "cell_type": "code",
   "execution_count": 3,
   "metadata": {},
   "outputs": [],
   "source": [
    "toggle_fsm = {\n",
    "        (\"off:off\", \"turn_on\") : \"on:on\",\n",
    "        # after one second, return to the off\n",
    "        # state, without any specific action required\n",
    "        (\"on:on\", 1.0) : \"off:off\"\n",
    "    }"
   ]
  },
  {
   "cell_type": "code",
   "execution_count": 4,
   "metadata": {},
   "outputs": [],
   "source": [
    " # run the toggle simulator specified above. \n",
    "results = fsm_simulate(machine=toggle_fsm, start_state=\"off:off\")\n",
    "%gui xtk "
   ]
  },
  {
   "cell_type": "markdown",
   "metadata": {},
   "source": [
    "A state can have many actions (transitions) leaving it, not just one:"
   ]
  },
  {
   "cell_type": "code",
   "execution_count": 6,
   "metadata": {},
   "outputs": [],
   "source": [
    "# this FSM has both on/off actions *and* a toggle action\n",
    "flip_off_fsm = {\n",
    "        # state, action    -> state\n",
    "        (\"off:off\", \"turn_on\") :   \"on:on\",\n",
    "        (\"off:off\", \"flip\") :      \"on:on\",\n",
    "        (\"on:on\",   \"turn_off\") :  \"off:off\",\n",
    "        (\"on:on\",   \"flip\") :      \"off:off\",\n",
    "    }"
   ]
  },
  {
   "cell_type": "code",
   "execution_count": 9,
   "metadata": {},
   "outputs": [],
   "source": [
    " # run the toggle simulator specified above. \n",
    "results = fsm_simulate(machine=flip_off_fsm, start_state=\"off:off\")\n",
    "%gui xtk "
   ]
  },
  {
   "cell_type": "markdown",
   "metadata": {},
   "source": [
    "## Results\n",
    "`fsm_simulator` returns us the *history* of states visited during a simulation. These are recorded as a list of lists:\n",
    "    \n",
    "    [\n",
    "        [time_enter, time_leave  from_state, action, to_state],\n",
    "        [time_enter, time_leave, from_state, action, to_state],\n",
    "        ...\n",
    "    ]\n",
    "    \n",
    "We will use this in the last part of this lab (Part 4) to *analyse* how people interact with an interface. Below, the code just prints out spent in each state during the simulation, and the number of times each action was taken. You can try running the simulation again and checking you get different results. "
   ]
  },
  {
   "cell_type": "code",
   "execution_count": 10,
   "metadata": {},
   "outputs": [
    {
     "name": "stdout",
     "output_type": "stream",
     "text": [
      "State dwell times\n",
      "--------------------------------------------------------------------------------\n",
      "off:off              7.8\n",
      "on:on                0.9\n",
      "\n",
      "Action counts\n",
      "--------------------------------------------------------------------------------\n",
      "START                1\n",
      "flip                 4\n",
      "\n",
      "State-action count table\n",
      "--------------------------------------------------------------------------------\n",
      "                 START      flip       \n",
      "off:off              1          2      \n",
      "on:on                0          2      \n"
     ]
    }
   ],
   "source": [
    "from fsm_report import summarise_report\n",
    "summarise_report(results)"
   ]
  },
  {
   "cell_type": "markdown",
   "metadata": {},
   "source": [
    "---\n",
    "\n",
    "### Another report\n",
    "We can try this with the on off state machine"
   ]
  },
  {
   "cell_type": "code",
   "execution_count": 11,
   "metadata": {},
   "outputs": [],
   "source": [
    "results = fsm_simulate(on_off_fsm, start_state=\"off:off\")\n",
    "%gui xtk"
   ]
  },
  {
   "cell_type": "code",
   "execution_count": 12,
   "metadata": {},
   "outputs": [
    {
     "name": "stdout",
     "output_type": "stream",
     "text": [
      "State dwell times\n",
      "--------------------------------------------------------------------------------\n",
      "off:off              4.9\n",
      "on:on                3.2\n",
      "\n",
      "Action counts\n",
      "--------------------------------------------------------------------------------\n",
      "START                1\n",
      "turn_on              2\n",
      "turn_off             2\n",
      "\n",
      "State-action count table\n",
      "--------------------------------------------------------------------------------\n",
      "                 START      turn_on    turn_off   \n",
      "off:off              1          2          0      \n",
      "on:on                0          0          2      \n"
     ]
    }
   ],
   "source": [
    "summarise_report(results)"
   ]
  },
  {
   "cell_type": "markdown",
   "metadata": {},
   "source": [
    "## Fuzzing the FSM\n",
    "If we run `fsm_simulator` with `fuzz=100` it will not ask for input and will not show a GUI. It will instead randomly choose 100 actions very quickly. This \"fuzzing\" operation lets us see where a randomly behaving user would end up -- do they get stuck? or do they move through states easily? This can be useful for debugging state machines. We can set `fuzz` to any number to run longer or shorter simulations.\n"
   ]
  },
  {
   "cell_type": "code",
   "execution_count": 13,
   "metadata": {},
   "outputs": [
    {
     "name": "stdout",
     "output_type": "stream",
     "text": [
      "State dwell times\n",
      "--------------------------------------------------------------------------------\n",
      "off:off              0.0\n",
      "on:on                0.0\n",
      "\n",
      "Action counts\n",
      "--------------------------------------------------------------------------------\n",
      "START                1\n",
      "turn_on              50\n",
      "timeout:1.0          50\n",
      "\n",
      "State-action count table\n",
      "--------------------------------------------------------------------------------\n",
      "                 START      turn_on    timeout:1. \n",
      "off:off              1          50         0      \n",
      "on:on                0          0          50     \n"
     ]
    }
   ],
   "source": [
    " # run the on-off machine, but fuzz it instead\n",
    "fuzz_results = fsm_simulate(machine=toggle_fsm, start_state=\"off:off\", fuzz=100)\n",
    "summarise_report(fuzz_results)"
   ]
  },
  {
   "cell_type": "markdown",
   "metadata": {},
   "source": [
    "In this case, we can see that the on and off states are both visited equally often -- 50 times each -- which is what we'd expect since the only thing we can do is switch between them."
   ]
  },
  {
   "cell_type": "markdown",
   "metadata": {},
   "source": [
    "# Task\n",
    "\n",
    "Implement the state machine that you designed in the last lab, with any refinements you have discussed in the cell below. Run it, both interactively *and* using the fuzzer. Print results out using `summarise_report()`. \n",
    "\n",
    "\n",
    "The flashlight simulator will set the flashlight any time a state with a name ending with `:<flashlight_state>` is entered. This is why the states were called \"off:off\" and \"on:on\". The state name was \"off\" and it also turned the flashlight off \":off\". We could have used different names, as long as the colon part at the end is preserved:"
   ]
  },
  {
   "cell_type": "code",
   "execution_count": 14,
   "metadata": {},
   "outputs": [],
   "source": [
    "\n",
    "a_b_fsm = {\n",
    "        # (state, action)    -> state\n",
    "        (\"a:off\", \"turn_on\") : \"b:on\",\n",
    "        (\"b:on\",  \"turn_off\") : \"a:off\",\n",
    "    }\n",
    "fsm_simulate(machine=a_b_fsm, start_state=\"a:off\")\n",
    "%gui xtk"
   ]
  },
  {
   "cell_type": "markdown",
   "metadata": {},
   "source": [
    "You should have states that cover these flashlight functions:\n",
    "\n",
    "* `:off`\n",
    "* `:locked`\n",
    "* `:on`\n",
    "* `:high`\n",
    "* `:strobe`\n",
    "\n",
    "You will almost certainly need some intermediate states as well to make a usable interface.\n",
    "\n",
    "Questions:\n",
    "* Can you reliably get to every output state (low beam, high beam, strobe, off, locked) from any other state?\n",
    "* If you run with the fuzzer do you get to every state?\n",
    "* Does the interface tend to get stuck in certain states?\n",
    "* Can you find a way of modifying the state machine to be easier or quicker to use or explain? (imagine you had to explain how to use it to your parents, over Skype because they were stuck in the dark).\n",
    "* Remember; you will have to execute the state transitions using a single slider, which might be clumsy to use. \n",
    "    * Think about how actions will be triggered. If you have five distinct actions, how would those be reliably sensed? If you only have one, how will you get to all of the states?\n",
    "\n",
    "\n",
    "The example below is a very incomplete and very bad design:"
   ]
  },
  {
   "cell_type": "code",
   "execution_count": 15,
   "metadata": {},
   "outputs": [],
   "source": [
    "## define your state machine by replacing this one (entirely)\n",
    "\n",
    "# this is the worst possible design\n",
    "# for a flashlight\n",
    "flashlight_fsm = { \n",
    "    # (state, action) : new_state\n",
    "    (\"off:off\", \"press_on\") : \"wait\",\n",
    "    (\"wait\", 1.5) : \"mad:strobe\",\n",
    "    (\"mad:strobe\", \"press_off\"): \"wait:off\",\n",
    "    (\"wait:off\", 0.5): \"wait\"\n",
    "}"
   ]
  },
  {
   "cell_type": "code",
   "execution_count": 16,
   "metadata": {},
   "outputs": [
    {
     "name": "stdout",
     "output_type": "stream",
     "text": [
      "WARNING: the following states are never entered by any action.\n",
      "\toff:off\n"
     ]
    }
   ],
   "source": [
    "fuzz_results = fsm_simulate(machine=flashlight_fsm, start_state=\"off:off\", fuzz=100)"
   ]
  },
  {
   "cell_type": "code",
   "execution_count": 17,
   "metadata": {},
   "outputs": [
    {
     "name": "stdout",
     "output_type": "stream",
     "text": [
      "Fuzz testing\n",
      "State dwell times\n",
      "--------------------------------------------------------------------------------\n",
      "off:off              0.0\n",
      "wait                 0.0\n",
      "mad:strobe           0.0\n",
      "wait:off             0.0\n",
      "\n",
      "Action counts\n",
      "--------------------------------------------------------------------------------\n",
      "START                1\n",
      "press_on             1\n",
      "timeout:1.5          33\n",
      "press_off            33\n",
      "timeout:0.5          33\n",
      "\n",
      "State-action count table\n",
      "--------------------------------------------------------------------------------\n",
      "                 START      press_on   timeout:1. press_off  timeout:0. \n",
      "off:off              1          1          0          0          0      \n",
      "wait                 0          0          33         0          0      \n",
      "mad:strobe           0          0          0          33         0      \n",
      "wait:off             0          0          0          0          33     \n"
     ]
    }
   ],
   "source": [
    "print(\"Fuzz testing\")\n",
    "summarise_report(fuzz_results)"
   ]
  },
  {
   "cell_type": "code",
   "execution_count": 21,
   "metadata": {},
   "outputs": [
    {
     "name": "stdout",
     "output_type": "stream",
     "text": [
      "WARNING: the following states are never entered by any action.\n",
      "\toff:off\n"
     ]
    }
   ],
   "source": [
    "results = fsm_simulate(machine=flashlight_fsm, start_state=\"off:off\")\n",
    "%gui xtk"
   ]
  },
  {
   "cell_type": "code",
   "execution_count": 22,
   "metadata": {},
   "outputs": [
    {
     "name": "stdout",
     "output_type": "stream",
     "text": [
      "Manual testing\n",
      "State dwell times\n",
      "--------------------------------------------------------------------------------\n",
      "off:off              6.5\n",
      "wait                 7.5\n",
      "mad:strobe           6.5\n",
      "wait:off             2.0\n",
      "\n",
      "Action counts\n",
      "--------------------------------------------------------------------------------\n",
      "START                1\n",
      "press_on             1\n",
      "timeout:1.50         5\n",
      "press_off            4\n",
      "timeout:0.50         4\n",
      "\n",
      "State-action count table\n",
      "--------------------------------------------------------------------------------\n",
      "                 START      press_on   timeout:1. press_off  timeout:0. \n",
      "off:off              1          1          0          0          0      \n",
      "wait                 0          0          5          0          0      \n",
      "mad:strobe           0          0          0          4          0      \n",
      "wait:off             0          0          0          0          4      \n"
     ]
    }
   ],
   "source": [
    "print(\"Manual testing\")\n",
    "summarise_report(results)"
   ]
  },
  {
   "cell_type": "code",
   "execution_count": null,
   "metadata": {},
   "outputs": [],
   "source": []
  },
  {
   "cell_type": "code",
   "execution_count": null,
   "metadata": {},
   "outputs": [],
   "source": []
  }
 ],
 "metadata": {
  "kernelspec": {
   "display_name": "Python 3",
   "language": "python",
   "name": "python3"
  },
  "language_info": {
   "codemirror_mode": {
    "name": "ipython",
    "version": 3
   },
   "file_extension": ".py",
   "mimetype": "text/x-python",
   "name": "python",
   "nbconvert_exporter": "python",
   "pygments_lexer": "ipython3",
   "version": "3.7.2"
  },
  "toc": {
   "nav_menu": {},
   "number_sections": true,
   "sideBar": true,
   "skip_h1_title": false,
   "toc_cell": false,
   "toc_position": {},
   "toc_section_display": "block",
   "toc_window_display": false
  }
 },
 "nbformat": 4,
 "nbformat_minor": 2
}
