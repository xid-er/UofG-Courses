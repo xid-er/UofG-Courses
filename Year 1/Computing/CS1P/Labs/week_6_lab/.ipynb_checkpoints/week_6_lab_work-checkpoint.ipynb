{
 "cells": [
  {
   "cell_type": "markdown",
   "metadata": {},
   "source": [
    "# Week 7 : Lab \n",
    " ## Data structures: Strings and arrays\n",
    " ##### CS1P - University of Glasgow - John H. Williamson - 2019/2020 - Python 3.x"
   ]
  },
  {
   "cell_type": "code",
   "execution_count": 2,
   "metadata": {},
   "outputs": [],
   "source": [
    "# RUN THIS FIRST\n",
    "from utils.tick import tick"
   ]
  },
  {
   "cell_type": "markdown",
   "metadata": {},
   "source": [
    "## Lab exercise\n",
    "\n",
    "**You must make a reasonble attempt at this exercise to gain a tick for this work**."
   ]
  },
  {
   "cell_type": "markdown",
   "metadata": {},
   "source": [
    "## Purpose of this lab\n",
    "This lab will explore string operations in Python and basic file operations. In particular, it will cover:\n",
    "* Splitting and joining\n",
    "* Character codes\n",
    "* Encryption and decryption.\n",
    "\n",
    "## Before the lab\n",
    "* Complete **at least** the A exercises.\n",
    "\n",
    "## During the lab session\n",
    "* Complete the B exercise. Note that the B exercise is simpler than it seems at first pass. Read the instructions *very carefully* before starting!\n",
    "\n",
    "## A Quick Problems"
   ]
  },
  {
   "cell_type": "markdown",
   "metadata": {},
   "source": [
    "### A.1 Spellcheck\n",
    "* There is a dictionary of (lowercase) words in the file `data/words.txt`. \n",
    "* There is one word per line.\n",
    "* Write a program that asks for a word from the user, and if the word is in the dictionary, prints \"Spelled OK\", otherwise prints \"Misspelled\"\n",
    "* Note: to get the string to work correctly, you must **strip** the newline off of it:\n",
    "\n",
    "        line = line.strip()\n",
    "        \n",
    "will return just the printable text of the line.\n",
    "* Your spell checker should *not* care about the case of the word the user enters.\n"
   ]
  },
  {
   "cell_type": "code",
   "execution_count": 8,
   "metadata": {
    "lines_to_next_cell": 0
   },
   "outputs": [
    {
     "name": "stdout",
     "output_type": "stream",
     "text": [
      "deity\n",
      "Spelled OK\n"
     ]
    }
   ],
   "source": [
    "# Solution goes here\n",
    "with open(\"data/words.txt\") as f:\n",
    "    dic = f.read()\n",
    "def check():\n",
    "    inp = input()\n",
    "    if inp.lower() in dic:\n",
    "        print(\"Spelled OK\")\n",
    "    else:\n",
    "        print(\"Misspelled\")\n",
    "        \n",
    "check()"
   ]
  },
  {
   "cell_type": "markdown",
   "metadata": {},
   "source": []
  },
  {
   "cell_type": "markdown",
   "metadata": {},
   "source": [
    "### A.2 Delimiter exchange\n",
    "The file `data/data.csv` consists of comma separated fields. Your boss wants it separated by space (` `) characters instead. And she wants the columns in the order: first, third, fifth, second, then fourth.\n",
    "\n",
    "Make this change, and write the result to `data_cleaned.csv` in the current folder (BE VERY CAREFUL not to write to `data.csv`, or you'll overwrite the original data -- if that happens open the lab zip file and re-extract the `data.csv` to replace the one you have corrupted).\n",
    "\n",
    "*If you want to know what this data is, you can find the full description [here](https://vincentarelbundock.github.io/Rdatasets/doc/Ecdat/Icecream.html)*\n",
    "\n",
    "Your `data_cleaned.csv` should begin\n",
    "\n",
    "    1 78 41 0.386 0.27\n",
    "    2 79 56 0.374 0.282\n",
    "    \n",
    "and end:\n",
    "\n",
    "    29 91 64 0.437 0.268\n",
    "    30 90 71 0.548 0.26\n",
    "\n",
    "Note: you must format this *exactly* right to pass the test."
   ]
  },
  {
   "cell_type": "code",
   "execution_count": 26,
   "metadata": {},
   "outputs": [],
   "source": [
    "# Solution goes here\n",
    "with open(\"data/data.csv\") as f_in:\n",
    "    with open(\"data_cleaned.csv\", \"w\") as f_out:\n",
    "        data = f_in.readlines()\n",
    "        for i in data:\n",
    "            data_list = i.strip().split(\",\")\n",
    "            print(\" \".join([data_list[0],data_list[2],data_list[4],data_list[1],data_list[3]]), file=f_out)"
   ]
  },
  {
   "cell_type": "code",
   "execution_count": 27,
   "metadata": {},
   "outputs": [
    {
     "name": "stdout",
     "output_type": "stream",
     "text": [
      "49ff928add3399c3eb4faf92fec80377952d2f50\n"
     ]
    },
    {
     "data": {
      "text/html": [
       " \n",
       "        <div class=\"alert alert-box alert-success\">\n",
       "        <h1> <font color=\"green\"> ✓ Correct </font> </h1>\n",
       "        </div>\n",
       "        "
      ],
      "text/plain": [
       "<IPython.core.display.HTML object>"
      ]
     },
     "metadata": {},
     "output_type": "display_data"
    }
   ],
   "source": [
    "## Tests\n",
    "import hashlib\n",
    "with tick():\n",
    "    with open(\"data_cleaned.csv\") as f:\n",
    "        contents = f.read()    \n",
    "    print(hashlib.sha1(contents.encode('ascii')).hexdigest())\n",
    "    assert hashlib.sha1(contents.encode('ascii')).hexdigest() == \"49ff928add3399c3eb4faf92fec80377952d2f50\""
   ]
  },
  {
   "cell_type": "markdown",
   "metadata": {},
   "source": [
    "## A.3 Fix the room descriptions\n",
    "This code is supposed to print out descriptions of connections between rooms in a map of a bizarre fantasty world, using the files `data/rooms.txt` and `data/passages.txt` as a source. However, it does not work correctly. \n",
    "\n",
    "Fix it, so it prints out phrases like:\n",
    "\n",
    "    The wiring closet connects to the boardroom via the track.\n",
    "    The clean room connects to the kitchen via the dumbwaiter.\n",
    "    The clean room connects to the print room via the entryway.\n",
    "    The wiring closet connects to the pool room via the fire pole.\n",
    "    The tearoom connects to the waiting room via the pit.\n",
    "    The tearoom connects to the workshop via the path.\n",
    "    The pool room connects to the conference room via the hallway.\n",
    "    The panic room connects to the classroom via the trapdoor.\n",
    "    The study connects to the equipment room via the hatch.\n",
    "    The assembly room connects to the salon via the fire pole.\n"
   ]
  },
  {
   "cell_type": "code",
   "execution_count": 24,
   "metadata": {},
   "outputs": [],
   "source": [
    "import random\n",
    "random.seed(2019)\n",
    "\n",
    "rooms = []\n",
    "passages = rooms # empty list\n",
    "\n",
    "with open(\"data/rooms.txt\") as f:\n",
    "    for line in f:        \n",
    "        rooms.append(f)\n",
    "        with open(\"data/passages.txt\") as f2:\n",
    "            for passage in f:        \n",
    "                passages.append(line)                \n",
    "        \n",
    "for i in range(10):    \n",
    "    random_room_1 = rooms[random.randint(0, len(rooms))]\n",
    "    random_room_2 = rooms[random.randint(0, len(rooms))]\n",
    "    random_passage = passages[random.randint(0, len(rooms))]\n",
    "    \n",
    "    print(\"The {room} connects to the {room} via the {passage}.\".format(\n",
    "        room=random_room_1, passage=random_passage))\n",
    "        "
   ]
  },
  {
   "cell_type": "code",
   "execution_count": 39,
   "metadata": {},
   "outputs": [
    {
     "name": "stdout",
     "output_type": "stream",
     "text": [
      "The wiring closet connects to the boardroom via the track.\n",
      "The clean room connects to the kitchen via the dumbwaiter.\n",
      "The clean room connects to the print room via the entryway.\n",
      "The wiring closet connects to the pool room via the fire pole.\n",
      "The tearoom connects to the waiting room via the pit.\n",
      "The tearoom connects to the workshop via the path.\n",
      "The pool room connects to the conference room via the hallway.\n",
      "The panic room connects to the classroom via the trapdoor.\n",
      "The study connects to the equipment room via the hatch.\n",
      "The assembly room connects to the salon via the fire pole.\n"
     ]
    }
   ],
   "source": [
    "# Solution goes here\n",
    "import random\n",
    "random.seed(2019)\n",
    "\n",
    "rooms = []\n",
    "passages = [] # empty list\n",
    "\n",
    "with open(\"data/rooms.txt\") as f:\n",
    "    for line in f:        \n",
    "        rooms.append(line.strip())\n",
    "with open(\"data/passages.txt\") as f2:\n",
    "    for passage in f2:        \n",
    "        passages.append(passage.strip())                \n",
    "        \n",
    "for i in range(10):    \n",
    "    random_room_1 = rooms[random.randint(0, len(rooms)-1)]\n",
    "    random_room_2 = rooms[random.randint(0, len(rooms)-1)]\n",
    "    random_passage = passages[random.randint(0, len(passages)-1)]\n",
    "    \n",
    "    print(\"The {room1} connects to the {room2} via the {passage}.\".format(\n",
    "        room1=random_room_1, room2=random_room_2, passage=random_passage))\n",
    "    \n",
    "# print(rooms)\n",
    "# print(passages)"
   ]
  },
  {
   "cell_type": "markdown",
   "metadata": {},
   "source": [
    "### A.3 Matching lines in a file\n",
    "* Write a program which checks each line of text in a file to see if it begins with a given string.\n",
    "* You can use `long_string.startswith(\"pattern\")` to see if `pattern` occurs at the start of `long_string`.\n",
    "* If the line contains the string, print it out.\n",
    "\n",
    "Apply your program to the file `data/romeo_juliet.txt` looking for the pattern `\"  Rom.\"` (note there are two spaces at the start!) and writing the line to `romeos_lines.txt`. This will only copy the *first* of Romeo's lines in any passage.\n",
    "\n",
    "Repeat this process to copy Juliet's (first) lines to `juliets_lines.txt`.\n",
    "\n",
    "*Note that we did a very similar example in the lecture notes!*\n",
    "\n",
    "**Optional extension (slightly hard):**\n",
    "Make the code copy *all* of Romeo's (or Juliet's) lines, not just the first line in any block of dialogue. You will need to look at `romeo_juliet.txt` to see how you could find this from the structure of the file."
   ]
  },
  {
   "cell_type": "code",
   "execution_count": 43,
   "metadata": {
    "lines_to_next_cell": 2
   },
   "outputs": [],
   "source": [
    "# Solution goes here\n",
    "def print_role(l, start, f):\n",
    "    reading = False\n",
    "    with open(f, \"w\") as file:\n",
    "        for i in l:\n",
    "            if i.startswith(start):\n",
    "                print(i, file=file)\n",
    "                reading = True\n",
    "            elif i.startswith(\"   \") and reading:\n",
    "                print(i, file=file)\n",
    "            else:\n",
    "                reading = False\n",
    "\n",
    "with open(\"data/romeo_juliet.txt\") as r:\n",
    "    lines = r.readlines()\n",
    "    print_role(lines, \"  Rom.\", \"romeos_lines.txt\")\n",
    "    print_role(lines, \"  Jul.\", \"juliets_lines.txt\")"
   ]
  },
  {
   "cell_type": "markdown",
   "metadata": {},
   "source": [
    "### A.4 A Wedding invitation\n",
    "\n",
    "Write a function to **return a string** with a complete wedding invitation like this:\n",
    "\n",
    "\n",
    "    *~*~*~*~*~*~*~*~*~*~*~*~*~*~*~*~*~*~*~*~*~*~*~*~*~*~*~*~*~*~\n",
    "                 The future Mr & Mrs <couple_name>               \n",
    "\n",
    "                               invite                           \n",
    "\n",
    "                               <name>                           \n",
    "\n",
    "                      to attend a ceremony at                   \n",
    "\n",
    "    <location>                                           <date>\n",
    "    *~*~*~*~*~*~*~*~*~*~*~*~*~*~*~*~*~*~*~*~*~*~*~*~*~*~*~*~*~*~      \n",
    "\n",
    "\n",
    "\n",
    "The `couple_name`, `name`, `date` and `place` should be parameters to the function.\n",
    "\n",
    "* The invitation should be exactly `n` columns wide, where `n` is passed in as another parameter. \n",
    "* `n` should default to 80 columns. You may assume `n` will be even.\n",
    "\n",
    "* The decorative edges should run across the entire width of the invitation.\n",
    "\n",
    "* All lines should be centered in this `n` column space\n",
    "* *except* the `place` and `date`, which should have the `place` left aligned and the `date` right aligned, with `place` taking up 5/8ths of the width, and `date` taking up 3/8th of the width (e.g. 50 chars and 30 chars, if the width is set to 80 characters). \n",
    "* Widths of `place` and `date` should be rounded down to integers.\n",
    "* Don't worry about truncating strings if they are too long.\n",
    "\n"
   ]
  },
  {
   "cell_type": "code",
   "execution_count": 80,
   "metadata": {},
   "outputs": [],
   "source": [
    "# Solution goes here\n",
    "def wedding_invite(couple_name, name, date, place, n=80):\n",
    "    decor = \"*~\"*(int(n/2))\n",
    "    couple = \"The future Mr & Mrs {couplename}\".format(couplename=couple_name).center(n)\n",
    "    \n",
    "    # Truncation\n",
    "    if len(date) > n*3//8:\n",
    "        date = date[:n*3//8]\n",
    "    if len(place) > n*5//8:\n",
    "        place = place[:n*5//8]\n",
    "        \n",
    "    info = place.ljust(0) + date.rjust(n-len(date)-3)\n",
    "    \n",
    "    return \"\\n\\n\".join([decor,\n",
    "                        couple, \n",
    "                        \"invite\".center(n),\n",
    "                        name.center(n),\n",
    "                        \"to attend a ceremony at\".center(n),\n",
    "                        info,\n",
    "                        decor])"
   ]
  },
  {
   "cell_type": "code",
   "execution_count": 81,
   "metadata": {},
   "outputs": [
    {
     "name": "stdout",
     "output_type": "stream",
     "text": [
      "*~*~*~*~*~*~*~*~*~*~*~*~*~*~*~*~*~*~*~*~*~*~*~*~*~*~*~*~*~*~*~*~*~*~*~*~*~*~*~*~\n",
      "\n",
      "                           The future Mr & Mrs Python                           \n",
      "\n",
      "                                     invite                                     \n",
      "\n",
      "                                Lord van Rossum                                 \n",
      "\n",
      "                            to attend a ceremony at                             \n",
      "\n",
      "Las Vegas, NV, USA                                               7th of February\n",
      "\n",
      "*~*~*~*~*~*~*~*~*~*~*~*~*~*~*~*~*~*~*~*~*~*~*~*~*~*~*~*~*~*~*~*~*~*~*~*~*~*~*~*~\n",
      "\n",
      "*~*~*~*~*~*~*~*~*~*~*~*~*~*~*~*~*~*~*~*~*~*~*~*~*~*~*~*~*~*~\n",
      "\n",
      "                 The future Mr & Mrs Python                 \n",
      "\n",
      "                           invite                           \n",
      "\n",
      "                 01234567890123456789XXXXX                  \n",
      "\n",
      "                  to attend a ceremony at                   \n",
      "\n",
      "Las Vegas, NV, USA                           7th of February\n",
      "\n",
      "*~*~*~*~*~*~*~*~*~*~*~*~*~*~*~*~*~*~*~*~*~*~*~*~*~*~*~*~*~*~\n"
     ]
    }
   ],
   "source": [
    "## Tests\n",
    "print(wedding_invite(\"Python\", \"Lord van Rossum\", \n",
    "               \"7th of February\", \"Las Vegas, NV, USA\"))\n",
    "print()\n",
    "print(wedding_invite(\"Python\", \n",
    "               \"01234567890123456789XXXXX\", \n",
    "               \"7th of February\", \n",
    "               \"Las Vegas, NV, USA\", n=60))"
   ]
  },
  {
   "cell_type": "markdown",
   "metadata": {},
   "source": [
    "The second result should appear as:\n",
    "       \n",
    "    *~*~*~*~*~*~*~*~*~*~*~*~*~*~*~*~*~*~*~*~*~*~*~*~*~*~*~*~*~*~\n",
    "                     The future Mr & Mrs Python                  \n",
    "\n",
    "                               invite                           \n",
    "\n",
    "                     01234567890123456789XXXXX                  \n",
    "\n",
    "                      to attend a ceremony at                   \n",
    "\n",
    "    Las Vegas, NV, USA                          7th of February\n",
    "    *~*~*~*~*~*~*~*~*~*~*~*~*~*~*~*~*~*~*~*~*~*~*~*~*~*~*~*~*~*~\n",
    "\n",
    "\n",
    "### A.5 Fragment search\n",
    "Write a function `find_all(sub, search)` which returns a list of the *indices* of the first character of *every* occurrence of the string `sub` inside the longer string `search`. Do not use regular expressions for this question.\n",
    "\n",
    "For example, `find_all(\"cat\", \"the cat sat on the mat\")` should find one match at index 4, and thus return the list `[4]`.\n",
    "\n",
    "`find_all(\"cat\", \"cat cat cat\")` should find three matches `[0,4,8]`.\n",
    "\n",
    "Note that you will need to use the `.find(string, start_index)` form of `str.find` to solve this problem."
   ]
  },
  {
   "cell_type": "code",
   "execution_count": 104,
   "metadata": {},
   "outputs": [
    {
     "name": "stdout",
     "output_type": "stream",
     "text": [
      "[4]\n",
      "[4, 19, 30]\n"
     ]
    },
    {
     "data": {
      "text/plain": [
       "[4, 19, 30]"
      ]
     },
     "execution_count": 104,
     "metadata": {},
     "output_type": "execute_result"
    }
   ],
   "source": [
    "# Solution goes here\n",
    "def find_all(sub, search):\n",
    "    res = []\n",
    "    if search.find(sub) == -1:\n",
    "        return res\n",
    "    else:\n",
    "        #ind = search.find(sub)\n",
    "        for start_index in range(len(search)-1):\n",
    "            ind = search.find(sub, start_index)\n",
    "            if ind not in res and ind != -1:\n",
    "                res.append(ind)\n",
    "        print(res)\n",
    "        return res\n",
    "find_all(\"cat\", \"the cat sat on the mat\")\n",
    "find_all(\"cat\", \"the cat sat on the cat on the cat\")"
   ]
  },
  {
   "cell_type": "code",
   "execution_count": 105,
   "metadata": {
    "lines_to_next_cell": 2
   },
   "outputs": [
    {
     "name": "stdout",
     "output_type": "stream",
     "text": [
      "[4]\n",
      "[4, 19, 30]\n",
      "[5, 9, 20]\n",
      "All OK!\n"
     ]
    }
   ],
   "source": [
    "## Tests\n",
    "assert(find_all(\"cat\", \"the cat sat on the mat\")==[4])\n",
    "assert(find_all(\"cat\", \"the cat sat on the cat on the cat\")==[4,19,30])\n",
    "assert(find_all(\"cat\", \"the dog sat on the mat\")==[])\n",
    "assert(find_all(\"a\", \"the cat sat on the mat\")==[5,9,20])\n",
    "print(\"All OK!\")"
   ]
  },
  {
   "cell_type": "markdown",
   "metadata": {},
   "source": [
    "## A.6 rot13\n",
    "\n",
    "A very common \"code\" for hiding (but not really encrypting) plain text is called [`rot13`](https://en.wikipedia.org/wiki/ROT13), a kind of Caesar cipher. This is where letters in text are \"rotated by 13 places\". That is the letters are replaced with substitutions like this:\n",
    "\n",
    "    abcdefghijklmnopqrstuvwxyz\n",
    "               |\n",
    "               v\n",
    "    nopqrstuvwxyzabcdefghijklm\n",
    "\n",
    "This is sometimes used to hide spoilers in forum posts, for example. `rot13` has the advantage that applying the same operation again reverses the \"encryption\". That is `rot13(rot13(x)) == x`. \n",
    "\n",
    "Write a function that implements `rot13(x)`. This should:\n",
    "\n",
    "* rotate *letters* and *only* letters by 13 places, as given by the rule above\n",
    "* maintain all other characters as they are\n",
    "* preserve the case of characters"
   ]
  },
  {
   "cell_type": "code",
   "execution_count": 152,
   "metadata": {},
   "outputs": [],
   "source": [
    "# Solution goes here\n",
    "def rot13(s):\n",
    "    temp = []\n",
    "    for char in s:\n",
    "        if char.isalpha():\n",
    "            if char.isupper():\n",
    "                start = 65\n",
    "            else:\n",
    "                start = 97\n",
    "            #temp.append(chr( start + abs(26-(ord(char)-start+13)) ))\n",
    "            temp.append(chr( start + (ord(char)-start+13)%26))\n",
    "        else:\n",
    "            temp.append(char)\n",
    "    res = \"\".join(temp)\n",
    "    return res"
   ]
  },
  {
   "cell_type": "code",
   "execution_count": 153,
   "metadata": {},
   "outputs": [
    {
     "data": {
      "text/html": [
       " \n",
       "        <div class=\"alert alert-box alert-success\">\n",
       "        <h1> <font color=\"green\"> ✓ Correct </font> </h1>\n",
       "        </div>\n",
       "        "
      ],
      "text/plain": [
       "<IPython.core.display.HTML object>"
      ]
     },
     "metadata": {},
     "output_type": "display_data"
    },
    {
     "name": "stdout",
     "output_type": "stream",
     "text": [
      "the coDE is Clear and blacK And white is Really reaD or wrIte in thiS screen formAt. Right or lEft, stoP or start, Light or brIght, whiChever you choose, A choice Now musT be made.\n"
     ]
    }
   ],
   "source": [
    "## Tests\n",
    "with tick():\n",
    "    assert rot13('a') == 'n'\n",
    "    assert rot13('abcdefghijklmnopqrstuvwxyz') == 'nopqrstuvwxyzabcdefghijklm'\n",
    "    assert rot13('abcdefghijklmnopqrstuvwxyz') == 'nopqrstuvwxyzabcdefghijklm'\n",
    "    assert rot13('ABCDEFGHIJKLMNOPQRSTUVWXYZ') == 'NOPQRSTUVWXYZABCDEFGHIJKLM'\n",
    "    assert rot13(rot13('abcdefghijklmnopqrstuvwxyz')) == 'abcdefghijklmnopqrstuvwxyz'\n",
    "    assert rot13('ab123AB.%$') == 'no123NO.%$'\n",
    "    assert rot13('baBaBBABAbaZamana141') == 'onOnOONONonMnznan141'\n",
    "    \n",
    "print(rot13('gur pbQR vf Pyrne naq oynpX Naq juvgr vf Ernyyl ernQ be jeVgr va guvF fperra sbezNg. Evtug be yRsg, fgbC be fgneg, Yvtug be oeVtug, juvPurire lbh pubbfr, N pubvpr Abj zhfG or znqr.'))"
   ]
  },
  {
   "cell_type": "markdown",
   "metadata": {},
   "source": [
    "--------\n",
    "\n",
    "## B. Code-breaking\n",
    "<img src=\"imgs/turing.png\" width=\"300px\">\n",
    "\n",
    "*Image: Alan Turing, public domain*\n",
    "\n",
    "In World War 2, Alan Turing (\"the father of computing\") was instrumental in breaking the Enigma code used by the German forces, using some of the very first electronic computers. The intelligence gained from these intercepts arguably changed the outcome of the war. \n",
    "\n",
    "<img src=\"imgs/enigma.jpg\" width=\"400px\">\n",
    "\n",
    "*Enigma encryption machine / public domain*\n",
    "\n",
    "In this exercise, you have to break a \"cleverly\" hidden code, using the string facilities of Python. The code is vastly simpler than the Enigma machine, but will still require some effort to untangle!"
   ]
  },
  {
   "cell_type": "markdown",
   "metadata": {},
   "source": [
    "### B.1 Matching knitting patterns\n",
    "Enemy agents have begun communicating through newspaper articles on **knitting.** Knitting patterns are completely incomprehensible to ordinary people, so this has so far gone unnoticed.\n",
    "\n",
    "<img src=\"imgs/knitting.jpg\" width=\"80%\">\n",
    "\n",
    "*Image credit: Manisha B. via flickr.com CC-BY-ND 2.0*\n",
    "\n",
    "Each knitting pattern has a bunch of **knitting codes** in it, telling the reader how to make certain stitches. There are lots of codes, but the most common are:\n",
    "\n",
    "* `k<n>` knit n stitches\n",
    "* `p<n>` purl n stitches (knit with loops the \"other\" way)\n",
    "\n",
    "So `p4 k3 p14` means `purl 4 knit 2 purl 13`. \n",
    "\n",
    "Knitting patterns look like this:\n",
    "\n",
    "    k2, pm, yo, k1 (central st), yo, pm, k2 (7 sts)\n",
    "    k2, sm, yo, k1, yo, k1 (central st), yo, k1, yo, sm, k2 (11 sts)\n",
    "    k2, sm, yo, k2, yo, k1, yo, k1 (central st), yo,\n",
    "    k1, yo, k2, yo, sm k2 (17 sts)\n",
    "    k2, sm, yo, k1, yo, knit to central st, yo, k1\n",
    "    (central st), yo, knit to 1 st from marker, yo, k1, yo,\n",
    "    sm, k2 (23 sts)\n",
    "\n",
    "*This is honestly a real knitting pattern. No, I don't understand it either.*\n",
    "\n",
    "### Binary\n",
    "The agents are encoding the strings to be sent in the knit/purl instructions. They are using a **binary** encoding, where each digit of a number is represented as 0 or 1. For example, the integer 12 is\n",
    "\n",
    "    0001100\n",
    "\n",
    "in binary. We know that the agents are using **7 binary digits per letter** they send. \n",
    "\n",
    "The reason they are using 7 bits because there are 128 ASCII chracters, and there 128 different 7 bit binary codes. In other words, it appears they are encoding ASCII characters in the knitting instructions.\n",
    "\n",
    "#### Decoding binary\n",
    "It is easy to convert binary strings to \"ordinary\" integers in Python:"
   ]
  },
  {
   "cell_type": "code",
   "execution_count": 154,
   "metadata": {},
   "outputs": [
    {
     "name": "stdout",
     "output_type": "stream",
     "text": [
      "12\n"
     ]
    }
   ],
   "source": [
    "# base=2 means \"interpret as binary\"\n",
    "print(int(\"0001100\", base=2))"
   ]
  },
  {
   "cell_type": "markdown",
   "metadata": {},
   "source": [
    "#### Stitch codes\n",
    "The hidden code is embedded in the knitting patterns: a **knit** stitch means 1 and a **purl** stitch means 0. The number of stitches (the repeat count) gives the repeat count of the digit.\n",
    "\n",
    "So `k4 = knit 4 = 1111`. This means that the knitting pattern line:\n",
    "\n",
    "    k1 p2 k1 p1 psso yo k1 f9 p1 sm\n",
    "    \n",
    "has stitch codes (we ignore all the other parts):\n",
    "\n",
    "    k1 p2 k1 p1 k1 p1\n",
    "    \n",
    "and is therefore really the binary number:    \n",
    "       \n",
    "    1001010\n",
    "    \n",
    "which is the decimal number\n",
    "\n",
    "    74\n",
    "    \n",
    "and is thus the ASCII character (converting to an integer, and then to a character)\n",
    "\n",
    "    'J'    \n",
    "\n",
    "(because `ord('J')` = 74 = 1001010 in binary)\n",
    "\n",
    "* note that **we have to ignore everything** that is not a knit or purl instruction (like `psso` or `f9`). We just look at the `k<n>` and `p<n>` instructions. \n",
    "* Repeat counts are only ever one digit long (you will never see `p12` or `k21` in the data)"
   ]
  },
  {
   "cell_type": "code",
   "execution_count": 155,
   "metadata": {},
   "outputs": [
    {
     "name": "stdout",
     "output_type": "stream",
     "text": [
      "74\n",
      "0b1001010\n"
     ]
    }
   ],
   "source": [
    "# verify that this is correct\n",
    "print(ord('J'))\n",
    "print(bin(ord('J')))"
   ]
  },
  {
   "cell_type": "markdown",
   "metadata": {},
   "source": [
    "## Task\n",
    "\n",
    "* The knitting patterns snipped out of dozens of newspapers are in the file `data/suspicious_knitting.txt`. There is lots of junk in between the knitting patterns, because the newspapers have not been clipped very neatly.\n",
    "* Read this file in and store it in a string. Beware, it is long...\n",
    "* Find every knit and purl instruction and **only** those instructions.\n",
    "* Extract the number of knits and purls (i.e. the number following the `k` or the `p`), as well as the type of stitch (i.e. is it a purl or a knit).\n",
    "* Convert these instructions into a very (very) long string of 0s and 1s. \n",
    "* Print the first 16 and last 16 digits of the binary string out. Your string should begin: `1010100100100010` and it should end with: `1110110101001100`\n",
    "\n",
    "* If you want, you can print the whole binary string out, but it will be very long. *After printing the binary string and checking it, you may want to clear the output from the menu (Cell/Current Output/Clear) to make it easier to scroll around.*"
   ]
  },
  {
   "cell_type": "code",
   "execution_count": 7,
   "metadata": {},
   "outputs": [
    {
     "name": "stdout",
     "output_type": "stream",
     "text": [
      "1010100100100010 1110110101001100\n"
     ]
    }
   ],
   "source": [
    "# Solution goes here\n",
    "with open(\"data/suspicious_knitting.txt\") as f:\n",
    "    junk = f.read()\n",
    "\n",
    "enc_list = []\n",
    "for i in range(len(junk)-1):\n",
    "    if junk[i+1].isdigit():\n",
    "        if junk[i] == 'p':\n",
    "            enc_list.append('0'*int(junk[i+1]))\n",
    "        elif junk[i] == 'k':\n",
    "            enc_list.append('1'*int(junk[i+1]))\n",
    "enc = ''.join(enc_list)\n",
    "print(enc[:16], enc[-16:])"
   ]
  },
  {
   "cell_type": "code",
   "execution_count": 6,
   "metadata": {},
   "outputs": [
    {
     "name": "stdout",
     "output_type": "stream",
     "text": [
      "60466\n",
      "1010100100100010 1110110101001100\n"
     ]
    }
   ],
   "source": [
    "import re\n",
    "all_binary = []\n",
    "with open(\"data/suspicious_knitting.txt\") as f:\n",
    "    all_knitting = f.read()\n",
    "    \n",
    "    for pattern in re.findall(\"(p|k)([0-9]+)\", all_knitting):\n",
    "        # we get the whole match, the stitch type and the count\n",
    "        stitch, count = pattern        \n",
    "        \n",
    "        # if it's a k, it's a sequence of 1s\n",
    "        if stitch==\"k\":\n",
    "            # note: must convert the count to an integer\n",
    "            all_binary.append(\"1\"*int(count))\n",
    "        else:\n",
    "            # otherwise it is a sequence of 0s\n",
    "            all_binary.append(\"0\"*int(count))\n",
    "            \n",
    "# join together the list, efficiently        \n",
    "binary = \"\".join(all_binary)\n",
    "print(len(binary))\n",
    "print(binary[:16], binary[-16:])"
   ]
  },
  {
   "cell_type": "markdown",
   "metadata": {},
   "source": [
    "### B.2 Converting to characters\n",
    "Now we have the raw binary code as big string of 0 and 1. We need to turn this into text.\n",
    "\n",
    "* Split the binary sequence into 7 character chunks\n",
    "* Convert each chunk into an integer (see above)\n",
    "* Convert that integer into a character, treating the integer as an ASCII character code.\n",
    "* Join all of these characters into a string and print it.\n",
    "* All of the characters should be uppercase letters. If they are not, you have done something wrong.\n",
    "* If your solution begins `THEXMUNITIONSXFACTORYXREPORTEDXDAMAGED` then you have decoded correctly.\n",
    "* The start of the string will be readable, but will soon become junk...\n"
   ]
  },
  {
   "cell_type": "code",
   "execution_count": 53,
   "metadata": {},
   "outputs": [
    {
     "name": "stdout",
     "output_type": "stream",
     "text": [
      "THEXMUNITIONSXFACTORYXREPORTEDXDAMAGEDXINXBOMBINGXRAIDXSTOPXKEEPXLOWXPROFILEXSTOPXURGENTXMESSAGESXCOMPROMISEDXSWITCHXTOXENCRYPTEDXURGENTXSTOPASJHXBLDZBLVZJXWZBHDFFVMYHSJYDMBJDOSUBGJDKBFSPWBHDMJSHJBAYJXBSRWMJBDZSMRWBGJDKBSNDYOBJXWBDJXWZBHDMJSHJBSJBSIIBHDGJGBGJDKBSHJYNSJWBDKWZSJYDMBEIVWBGKDDMBGJDKBZWKDZJBDMBJXWBKDIYHWBGJSJYDMBGJDKBSHJYNSJWBDKWZSJYDMBMDZJXADDOGBGJDKBZWKDZJBDMBUDVZBGJSJVGBGJDKBSBESJJIWGXYKBGWWMBOWKSZJYMRBLZDFBOWWKBXSZEDVZBGJDKBMWBJBFWWJYMRBSJBCICCBTVIVBJDMYRXJBJXWBKSZPBVMOWZBJXWBDSPBGJDKBPWWKBIDABKZDLYIWBGJDKBOYGZWRSZOBISGJBFWGGSRWBGJDKBYMNWGJYRSJWBZVFDVZGBDLBGJZYPWGBGJDKBPWWKBIDABKZDLYIWBGJDKBVMPMDAMBNWGGWIBYGBODHPWOBSJBOWWKBXSZEDVZBGJDKBJXWBODRBJZSYMWZBFSUBEWBODVEIWBSRWMJBWBWZHYGWBHSVJYDMBGJDKBDKWZSJYDMBMDZJXADDOGBXSGBEWWMBGVHHWGGLVIBGJDKBMWBJBFWWJYMRBSJBPZCCBTVIVBJDFDZZDABSJBJXWBDIOBIYDMBGJDKBODBMDJBFSPWBHDMJSHJBVMJYIBJXWBVGVSIBOSUBGJDKBODBMDJBFSPWBHDMJSHJBVMJYIBJDMYRXJBGJDKBHDIIWHJBJXWBODHVFWMJGBLZDFBJXWBVMYNWZGYJUBSZHXYNWGBJXYZOBLIDDZBGJDKBSHJYNSJWBDKWZSJYDMBGWSIYDMBGJDKBDEGWZNWBJXWBZYNWZGYOWBGJDKBSNDYOBSBFSMBAYJXBSBOSZPBEIVWBGVYJBSMOBSBRZWUBEWSZOBSJBSIIBHDGJGBGJDKBSHJYNSJWBDKWZSJYDMBGWSIYDMBGJDKBPWWKBIDABKZDLYIWBGJDKBSHJYNSJWBDKWZSJYDMBFPVIJZSBGJDKBZSYIASUBWSGJBZWKDZJWOBOSFSRWOBYMBEDFEYMRBZSYOBGJDKBDEGWZNWBJXWBZWLYMWZUBGJDKBDKWZSJYDMBFYMHWFWSJBXSGBEWWMBVMGVHHWGGLVIBGJDKBFSPWBHDMJSHJBAYJXBJXWBHDFFSMOWZBGJDKBDEGWZNWBJXWBKDIYHWBGJSJYDMBGJDKBPWWKBIDABKZDLYIWBGJDKBKZDHWWOBAYJXBGSEDJSRWBDLBJXWBKDAWZBGJSJYDMBGJDKBOYGZWRSZOBISGJBFWGGSRWBGJDKBMWBJBFWWJYMRBSJBISFBJDFDZZDABVMOWZBJXWBIYEZSZUBSZHXBGJDKBZWKDZJBDMBJXWBKDAWZBGJSJYDMBGJDKBVGWBZSOYDBHXSMMWIBDMWBJADBDXBFXTBGJDKBASJHXBLDZBLVZJXWZBHDFFVMYHSJYDMBJDOSUBGJDKBDKWZSJYDMBGWSIYDMBXSGBEWWMBGVHHWGGLVIBGJDKBYMNWGJYRSJWBZVFDVZGBDLBKDIYJYHSIBVKXWSNSIBGJDKBSHJYNSJWBDKWZSJYDMBFYMHWFWSJBGJDKBVGWBZSOYDBHXSMMWIBGWNWMBMYMWBGYBBFXTBGJDKBDEGWZNWBJXWBKDIYHWBGJSJYDMBGJDKBJXWBIDSOYMRBUSZOBZWKDZJWOBOSFSRWOBYMBEDFEYMRBZSYOBGJDKBYMNWGJYRSJWBZVFDVZGBDLBGJZYPWGBGJDKBODBMDJBFSPWBHDMJSHJBVMJYIBJVWGOSUBGJDKBZWKDZJBDMBUDVZBGJSJVGBGJDKBZWKDZJBDMBJXWBFVMYJYDMGBLSHJDZUBGJDKBKZDHWWOBAYJXBGSEDJSRWBDLBHYJUBXSIIBGJDKBFSPWBHDMJSHJBAYJXBSRWMJBDZSMRWBGJDKBWBKWHJBEDFEYMRBZSYOBEWLDZWBGVMOSUBGJDKBFSPWBHDMJSHJBAYJXBHSKJSYMBZDIIDHPBGJDKBHDIIWHJBJXWBODHVFWMJGBLZDFBJXWBXDIWBYMBJXWBDSPBJZWWBGJDKBSHJYNSJWBDKWZSJYDMBFPVIJZSBGJDKBZWKDZJBDMBUDVZBGJSJVGBGJDKBDEJSYMBZSOYDBLZDFBHSKJSYMBZDIIDHPBGJDKBODBMDJBFSPWBHDMJSHJBVMJYIBJDMYRXJBGJDKBDEGWZNWBJXWBZWLYMWZUBGJDKBDEGWZNWBJXWBZYNWZGYOWBGJDKBDEGWZNWBZSYIASUBWSGJBGJDKBMWBJBFWWJYMRBSJBJXWBVGVSIBJYFWBJDFDZZDABVMOWZBJXWBIYEZSZUBSZHXBGJDKBASJHXBLDZBLVZJXWZBHDFFVMYHSJYDMBJDOSUBGJDKBGFSIIBGXYKBYGBODHPWOBSJBZWOBESUBGJDKBKZDHWWOBAYJXBGSEDJSRWBDLBJXWBIDSOYMRBUSZOBGJDKBKZDHWWOBAYJXBGSEDJSRWBDLBJXWBKDIYHWBGJSJYDMBGJDKBWBKWHJBEDFEYMRBZSYOBMWBJBAWWPBGJDKBESJJIWGXYKBYGBODHPWOBSJBDIOBQVSUBGJDKBHDIIWHJBJXWBODHVFWMJGBLZDFBJXWBYMMWZBHYZHIWBGJDKBASJHXBLDZBLVZJXWZBHDFFVMYHSJYDMBJDOSUBGJDKBDEGWZNWBJXWBKDIYHWBGJSJYDMBGJDKBPWWKBIDABKZDLYIWBGJDKBDEJSYMBGDMSZBVMYJBLZDFBJXWBJVMMWIGBGJDKBSHJYNSJWBDKWZSJYDMBEIVWBGKDDMBGJDKBVGWBZSOYDBHXSMMWIBGWNWMBMYMWBGYBBFXTBGJDKBFSPWBHDMJSHJBAYJXBJXWBODRBJZSYMWZBGJDKBDEGWZNWBJXWBKDIYHWBGJSJYDMBGJDKBISZRWBGXYKBYGBODHPWOBSJBZWOBESUBGJDKBKZDHWWOBAYJXBGSEDJSRWBDLBJXWBIDSOYMRBUSZOBGJDKBASJHXBLDZBLVZJXWZBHDFFVMYHSJYDMBJDOSUBGJDKBASJHXBLDZBLVZJXWZBHDFFVMYHSJYDMBJDOSUBGJDKBJXWBZYNWZGYOWBZWKDZJWOBOSFSRWOBYMBEDFEYMRBZSYOBGJDKBYMNWGJYRSJWBZVFDVZGBDLBYMNSGYDMBKSZJYWGBGJDKBMWBJBFWWJYMRBSJBZKFBEWLDZWBGVMOSUBVMOWZBJXWBIYEZSZUBSZHXBGJDKBJXWBHWMJZSIBZSYIASUBGJSJYDMBZWKDZJWOBOSFSRWOBYMBEDFEYMRBZSYOBGJDKBMWBJBFWWJYMRBSJBJXWBVGVSIBJYFWBJXWBVGVSIBOSUBJZSYMBGJSJYDMLBKISJLDZFBJXZWWBGJDKBMWBJBFWWJYMRBSJBZKFBJXWBVGVSIBOSUBJZSYMBGJSJYDMLBKISJLDZFBJXZWWBGJDKBYMNWGJYRSJWBZVFDVZGBDLBXWSNUBEDFEYMRBIDGGWGBGJDKBOYGZWRSZOBISGJBFWGGSRWBGJDKBJXWBKDAWZBGJSJYDMBZWKDZJWOBOSFSRWOBYMBEDFEYMRBZSYOBGJDKBPWWKBIDABKZDLYIWBGJDKBDEJSYMBHDOWBJSKWBLZDFBSRWMJBDZSMRWBGJDKBYMNWGJYRSJWBZVFDVZGBDLBSBMWABGWHZWJBAWSKDMBGJDKBWBKWHJBYMHZWSGWOBKDIYHWBKZWGWMHWBMWBJBAWWPBGJDKBKZDHWWOBAYJXBGSEDJSRWBDLBJXWBFVMYJYDMGBLSHJDZUBGJDKBWBKWHJBLVZJXWZBHDFFVMYHSJYDMBJXWBVGVSIBOSUBGJDKBDEJSYMBZYLIWBLZDFBSJBJXWBDIOBIYDMBGJDKBMWBJBFWWJYMRBSJBJXWBVGVSIBJYFWBJDFDZZDABJZSYMBGJSJYDMLBKISJLDZFBJXZWWBGJDKBMWBJBFWWJYMRBSJBPZCCBTVIVBEWLDZWBGVMOSUBVMOWZBJXWBIYEZSZUBSZHXBGJDKBISZRWBGXYKBYGBODHPWOBSJBZWOBESUBGJDKBOYGZWRSZOBISGJBFWGGSRWBGJDKBZSYIASUBWSGJBZWKDZJWOBOSFSRWOBYMBEDFEYMRBZSYOBGJDKBHDIIWHJBJXWBODHVFWMJGBLZDFBJXWBVMYNWZGYJUBSZHXYNWGBJXYZOBLIDDZBGJDKBKZDHWWOBAYJXBGSEDJSRWBDLBJXWBHWMJZSIBZSYIASUBGJSJYDMBGJDKBHZVYGWZBYGBODHPWOBSJBZWOBESUBGJDKBSBVMPMDAMBNWGGWIBGWWMBOWKSZJYMRBLZDFBZWOBESUBGJDKBZWKDZJBDMBUDVZBGJSJVGBGJDKBSBISZRWBGXYKBGWWMBOWKSZJYMRBLZDFBZWOBESUBGJDKBSNDYOBSBFSMBAYJXBSBOSZPBEIVWBGVYJBSMOBSBRZWUBEWSZOBSJBSIIBHDGJGBGJDKBODBMDJBFSPWBHDMJSHJBVMJYIBJVWGOSUBGJDKBSHJYNSJWBDKWZSJYDMBMDZJXADDOGBGJDKBSNDYOBDVZBZWRVISZBESZBSJBSIIBHDGJGBGJDKBDEJSYMBGDMSZBVMYJBLZDFBJXWBHZDGGZDSOGBGJDKBSNDYOBJXWBKDIYHWBGJSJYDMBSJBSIIBHDGJGBGJDKBODBMDJBFSPWBHDMJSHJBVMJYIBEWLDZWBGVMOSUBGJDKBWBKWHJBYMHZWSGWOBKDIYHWBKZWGWMHWBMWBJBAWWPBGJDKBKZDHWWOBAYJXBGSEDJSRWBDLBJXWBFVMYJYDMGBLSHJDZUBGJDKBVGWBZSOYDBHXSMMWIBWYRXJBWYRXJBGWNWMBFXTBGJDKBVGWBZSOYDBHXSMMWIBWYRXJBWYRXJBGWNWMBFXTBGJDKBHSZZYWZBYGBODHPWOBSJBDIOBQVSUBGJDKBYMNWGJYRSJWBZVFDVZGBDLBSBMWABGWHZWJBAWSKDMBGJDKBASJHXBLDZBLVZJXWZBHDFFVMYHSJYDMBJDOSUBGJDKBYMNWGJYRSJWBZVFDVZGBDLBYMNSGYDMBKSZJYWGBGJDKBSHJYNSJWBDKWZSJYDMBFPVIJZSBGJDKBSBHZVYGWZBGWWMBOWKSZJYMRBLZDFBZWOBESUBGJDKBYMNWGJYRSJWBZVFDVZGBDLBXWSNUBEDFEYMRBIDGGWGBGJDKBZWKDZJBDMBJXWBZWLYMWZUBGJDKBJXWBGHXDDIFSGJWZBFSUBEWBODVEIWBSRWMJBWBWZHYGWBHSVJYDMBGJDKBDEJSYMBSFFVMYJYDMBLZDFBJXWBHDFFSMOWZBGJDKBJXWBWMJWZJSYMWZBFSUBEWBODVEIWBSRWMJBWBWZHYGWBHSVJYDMBGJDKBDEJSYMBEYMDHVISZGBLZDFBJXWBDJXWZBHDMJSHJBGJDKBDKWZSJYDMBGWSIYDMBXSGBEWWMBSEDZJWOBGJDKBDEGWZNWBJXWBHWMJZSIBZSYIASUBGJSJYDMBGJDKBDEGWZNWBZSYIASUBWSGJBGJDKBFSPWBHDMJSHJBAYJXBSRWMJBDZSMRWBGJDKBYMNWGJYRSJWBZVFDVZGBDLBYMNSGYDMBKSZJYWGBGJDKBOYGZWRSZOBISGJBFWGGSRWBGJDKBDEJSYMBGDMSZBVMYJBLZDFBJXWBADDIBJSYIDZBGJDKBJXWBADDIBJSYIDZBFSUBEWBODVEIWBSRWMJBWBWZHYGWBHSVJYDMBGJDKBDEGWZNWBHYJUBXSIIBGJDKBODBMDJBFSPWBHDMJSHJBVMJYIBJXWBVGVSIBOSUBGJDKBKZDHWWOBAYJXBGSEDJSRWBDLBZSYIASUBWSGJBGJDKBDKWZSJYDMBGWSIYDMBXSGBEWWMBSEDZJWOBGJDKBOYGZWRSZOBISGJBFWGGSRWBGJDKBFZBKXYIIYKGBFSUBEWBODVEIWBSRWMJBWBWZHYGWBHSVJYDMBGJDKBWBKWHJBLVZJXWZBHDFFVMYHSJYDMBJVWGOSUBGJDKBZWKDZJBDMBJXWBKDAWZBGJSJYDMBGJDKBVGWBZSOYDBHXSMMWIBDMWBDXBLDVZBFXTBGJDKBYMNWGJYRSJWBZVFDVZGBDLBXWSNUBEDFEYMRBIDGGWGBGJDKBZWKDZJBDMBUDVZBGJSJVGBGJDKBSNDYOBSBFSMBAYJXBSBOSZPBEIVWBGVYJBSMOBSBRZWUBEWSZOBSJBSIIBHDGJGBGJDKBDKWZSJYDMBEIVWBGKDDMBXSGBEWWMBSEDZJWOBGJDKBDEJSYMBGDMSZBVMYJBLZDFBJXWBHZDGGZDSOGBGJDKBDEGWZNWBJXWBKDAWZBGJSJYDMBGJDKBYMNWGJYRSJWBZVFDVZGBDLBLDDOBGXDZJSRWGBGJDKBSNDYOBRDYMRBDVJBSLJWZBOSZPBSJBSIIBHDGJGBGJDKBPWWKBIDABKZDLYIWBGJDKBJXWBKDIYHWBGJSJYDMBZWKDZJWOBOSFSRWOBYMBEDFEYMRBZSYOBGJDKBSNDYOBRDYMRBDVJGYOWBSJBSIIBHDGJGBGJDKBKZDHWWOBAYJXBGSEDJSRWBDLBJXWBIDSOYMRBUSZOBGJDKBZWKDZJBDMBJXWBIDSOYMRBUSZOBGJDKBWBKWHJBLVZJXWZBHDFFVMYHSJYDMBJDMYRXJBGJDKBVMPMDAMBNWGGWIBYGBODHPWOBSJBDIOBQVSUBGJDKBPWWKBIDABKZDLYIWBGJDKBHDIIWHJBJXWBODHVFWMJGBLZDFBJXWBYMMWZBHYZHIWBGJDKBASJHXBLDZBLVZJXWZBHDFFVMYHSJYDMBJDOSUBGJDKBODBMDJBFSPWBHDMJSHJBVMJYIBMWBJBAWWPBGJDKBKZDHWWOBAYJXBGSEDJSRWBDLBJXWBZYNWZGYOWBGJDKBVMPMDAMBNWGGWIBYGBODHPWOBSJBDIOBQVSUBGJDKBSBGFSIIBGXYKBGWWMBOWKSZJYMRBLZDFBOWWKBXSZEDVZBGJDKBOYGZWRSZOBISGJBFWGGSRWBGJDKBOYGZWRSZOBISGJBFWGGSRWBGJDKBODBMDJBFSPWBHDMJSHJBVMJYIBJDFDZZDABGJDKBJXWBWMJWZJSYMWZBFSUBEWBODVEIWBSRWMJBWBWZHYGWBHSVJYDMBGJDKBVGWBZSOYDBHXSMMWIBDMWBJADBDXBFXTBGJDKBSHJYNSJWBDKWZSJYDMBEIVWBGKDDMBGJDKBHDIIWHJBJXWBODHVFWMJGBLZDFBJXWBFYHZDLYHXWBZWSOWZBSJBJXWBIYEZSZUBGJDKBZWKDZJBDMBHYJUBXSIIBGJDKBHDIIWHJBJXWBODHVFWMJGBLZDFBJXWBFYHZDLYHXWBZWSOWZBSJBJXWBIYEZSZUBGJDKBZWKDZJBDMBJXWBFVMYJYDMGBLSHJDZUBGJDKBDEJSYMBEYMDHVISZGBLZDFBJXWBKDIYHWBGJSJYDMBGJDKBOYGZWRSZOBISGJBFWGGSRWBGJDKBJXWBKDAWZBGJSJYDMBZWKDZJWOBOSFSRWOBYMBEDFEYMRBZSYOBGJDKBDEJSYMBGDMSZBVMYJBLZDFBSBFSMBAYJXBSBOSZPBEIVWBGVYJBSMOBSBRZWUBEWSZOBGJDKBZWKDZJBDMBJXWBIDSOYMRBUSZOBGJDKBSHJYNSJWBDKWZSJYDMBMDZJXADDOGBGJDKBSNDYOBJXWBJVMMWIGBSJBSIIBHDGJGBGJDKBDEGWZNWBJXWBKDIYHWBGJSJYDMBGJDKBESJJIWGXYKBYGBODHPWOBSJBDIOBQVSUBGJDKBJXWBZWLYMWZUBZWKDZJWOBOSFSRWOBYMBEDFEYMRBZSYOBGJDKBDEJSYMBZSOYDBLZDFBSRWMJBDZSMRWBGJDKBJXWBHDFFSMOWZBFSUBEWBODVEIWBSRWMJBWBWZHYGWBHSVJYDMBGJDKBOYGZWRSZOBISGJBFWGGSRWBGJDKBKZDHWWOBAYJXBGSEDJSRWBDLBJXWBIDSOYMRBUSZOBGJDKBHDIIWHJBJXWBODHVFWMJGBLZDFBJXWBXDIWBYMBJXWBDSPBJZWWBGJDKBZWKDZJBDMBHYJUBXSIIBGJDKBZWKDZJBDMBUDVZBGJSJVGBGJDKBSBGFSIIBGXYKBGWWMBOWKSZJYMRBLZDFBDIOBQVSUBGJDKBMWBJBFWWJYMRBSJBISFBJDFDZZDABEUBJXWBHSMSIBEZYORWBDMBZWOBGJBGJDKBPWWKBIDABKZDLYIWBGJDKBZWKDZJBDMBUDVZBGJSJVGBGJDKBSEDZJBSEDZJBJXWBWMWFUBXSGBPMYJJWOBJXWBAZDMRBGHSZLBZWKWSJBJXWBWMWFUBXSGBPMYJJWOBJXWBAZDMRBGHSZL\n"
     ]
    }
   ],
   "source": [
    "# Solution goes here\n",
    "text_list = []\n",
    "for i in range(0, len(enc), 7):\n",
    "    text_list.append(chr(int(enc[i:i+7], base=2)))\n",
    "text = ''.join(text_list)\n",
    "print(text)"
   ]
  },
  {
   "cell_type": "markdown",
   "metadata": {},
   "source": [
    "### B.3 Breaking the code\n",
    "The agents started off just hiding the characters as plain binary-encoded ASCII in the knitting patterns. But after some time, they realised that this might be spotted, and applied some *encryption* to the characters. There are 141 characters of unencrypted text at the start of these sequence of messages, as you can verify. After that, the output is jumbled.\n",
    "\n",
    "Unfortunately for them, they used a very weak kind of encryption -- a **substitution cipher** (like `rot13`, but a bit more sophisticated) where each character is replaced by another. The substitution is fixed for the whole series of messages. It is the **key** used to decrypt the messages.\n",
    "\n",
    "For example, imagine the cipher which translates:\n",
    "\n",
    "    ABCDEFGHIJKLMNOPQRSTUVWXYZ\n",
    "               |\n",
    "               |\n",
    "               V\n",
    "    QOFJSPIRUTNLMXWBZEGYKCADVH\n",
    "    \n",
    "Every occurence of A becomes Q, every B becomes O, every C becomes F, and so on.  To decrypt and recover the original message, just apply this operation in reverse: every Q becomes an A, etc.\n",
    "\n",
    "We don't know what the translation table -- the key -- is being used by the enemy agents in this case. We need to apply simple cryptanalysis to figure out the cipher key and recover the text. **You will have to break this code \"for real\"**\n",
    "\n",
    "----\n",
    "\n",
    "### A note on encoding\n",
    "Note that because all the characters are between A-Z, we can convert letters to a number code where A=0, B=1, etc. This makes it easier to apply the translation (hint: consider indexes in a string of replacement codes). Confused? Consider carefully what this code does:\n",
    "    "
   ]
  },
  {
   "cell_type": "code",
   "execution_count": 54,
   "metadata": {},
   "outputs": [
    {
     "name": "stdout",
     "output_type": "stream",
     "text": [
      "D 3 J\n"
     ]
    }
   ],
   "source": [
    "key = \"QOFJSPIRUTNLMXWBZEGYKCADVH\"\n",
    "char = \"D\"\n",
    "char_ix = ord(char) - ord(\"A\")\n",
    "print(char, char_ix, key[char_ix])"
   ]
  },
  {
   "cell_type": "markdown",
   "metadata": {},
   "source": [
    "## Elementary cryptanalysis\n",
    "It is very easy to solve a simple substitution cipher, as long as we have a long enough message to be able to see *regularities* in the use of letters. This is because English has a very distinctive pattern in the use of letters -- there are a lot more Es than Zs, for example. A simple substitution cannot hide this pattern.\n",
    "\n",
    "We know from long term monitoring of the messages before the encryption was turned on that the typical distribution of letter frequencies in the agents' messages (i.e. how often each letter was used) looks like this:\n",
    "<img src=\"imgs/letter_histogram.png\">\n",
    "\n",
    "So X is used more than anything else, then T, then O, then E, and so on.\n",
    "\n",
    "Putting all the letters in order, most frequent first, the ordering was found to be:\n",
    "    \n",
    "       XTOEASRINPDCLHUMGBFYWVKZJQ       \n",
    "\n",
    "(i.e. X is most common, T second most common, Q least common).\n",
    "\n",
    "**From this, we can work out what the substitutions must be, and therefore what the key must be.**\n",
    "\n",
    "1. Work out the frequency of letters in the *encrypted* message portion you extracted from the knitting patterns. **Do not include the unencrypted section at the start (first 141 characters)**.\n",
    "2. Use this information to find a match with the known unencrypted letter frequencies given above (e.g. if Z is the most common letter in the encrypted text, then it must be a replacement for X, if L is the second most common, it must be the replacement for T, and so on.). **Note: this will require some thinking on your part. Write code to do this -- do not solve this part by hand!**\n",
    "3. It seems that X is being used as a replacement for space. After decrypting, replace all the Xs with spaces.\n",
    "4. Likewise, replace STOP with a newline.\n",
    "5. What has the enemy done? (look at the end of the message)"
   ]
  },
  {
   "cell_type": "code",
   "execution_count": 55,
   "metadata": {},
   "outputs": [
    {
     "name": "stdout",
     "output_type": "stream",
     "text": [
      "lalalala\n"
     ]
    }
   ],
   "source": [
    "hi = 'h3h3h3h3'\n",
    "newer = hi\n",
    "norm2 = 'la'\n",
    "key2 = 'h3'\n",
    "for i in range(len(key2)):\n",
    "    newer = newer.replace(key2[i], norm2[i])\n",
    "print(newer)"
   ]
  },
  {
   "cell_type": "code",
   "execution_count": 59,
   "metadata": {
    "lines_to_next_cell": 2
   },
   "outputs": [
    {
     "name": "stdout",
     "output_type": "stream",
     "text": [
      "{'A': 80,\n",
      " 'B': 1447,\n",
      " 'C': 7,\n",
      " 'D': 778,\n",
      " 'E': 131,\n",
      " 'F': 188,\n",
      " 'G': 525,\n",
      " 'H': 230,\n",
      " 'I': 221,\n",
      " 'J': 830,\n",
      " 'K': 342,\n",
      " 'L': 109,\n",
      " 'M': 397,\n",
      " 'N': 70,\n",
      " 'O': 239,\n",
      " 'P': 62,\n",
      " 'Q': 6,\n",
      " 'R': 133,\n",
      " 'S': 569,\n",
      " 'T': 10,\n",
      " 'U': 92,\n",
      " 'V': 191,\n",
      " 'W': 746,\n",
      " 'X': 213,\n",
      " 'Y': 411,\n",
      " 'Z': 469}\n",
      "BJDWSGZYMKOHIXVFRELUANPTCQ\n",
      "THE MUNITIONS FACTORY REPORTED DAMAGED IN BOMBING RAID \n",
      " KEEP LOW PROFILE \n",
      " URGENT MESSAGES COMPROMISED SWITCH TO ENCRYPTED URGENT \n",
      "AATCH FOR FURTHER COMMUNICATION TODAY \n",
      " MAKE CONTACT WITH AGENT ORANGE \n",
      " AVOID THE OTHER CONTACT AT ALL COSTS \n",
      " ACTIVATE OPERATION BLUE SPOON \n",
      " REPORT ON THE POLICE STATION \n",
      " ACTIVATE OPERATION NORTHWOODS \n",
      " REPORT ON YOUR STATUS \n",
      " A BATTLESHIP SEEN DEPARTING FROM DEEP HARBOUR \n",
      " NE T MEETING AT JLJJ ZULU TONIGHT THE PARK UNDER THE OAK \n",
      " KEEP LOW PROFILE \n",
      " DISREGARD LAST MESSAGE \n",
      " INVESTIGATE RUMOURS OF STRIKES \n",
      " KEEP LOW PROFILE \n",
      " UNKNOWN VESSEL IS DOCKED AT DEEP HARBOUR \n",
      " THE DOG TRAINER MAY BE DOUBLE AGENT E ERCISE CAUTION \n",
      " OPERATION NORTHWOODS HAS BEEN SUCCESSFUL \n",
      " NE T MEETING AT KRJJ ZULU TOMORROW AT THE OLD LION \n",
      " DO NOT MAKE CONTACT UNTIL THE USUAL DAY \n",
      " DO NOT MAKE CONTACT UNTIL TONIGHT \n",
      " COLLECT THE DOCUMENTS FROM THE UNIVERSITY ARCHIVES THIRD FLOOR \n",
      " ACTIVATE OPERATION SEALION \n",
      " OBSERVE THE RIVERSIDE \n",
      " AVOID A MAN WITH A DARK BLUE SUIT AND A GREY BEARD AT ALL COSTS \n",
      " ACTIVATE OPERATION SEALION \n",
      " KEEP LOW PROFILE \n",
      " ACTIVATE OPERATION MKULTRA \n",
      " RAILWAY EAST REPORTED DAMAGED IN BOMBING RAID \n",
      " OBSERVE THE REFINERY \n",
      " OPERATION MINCEMEAT HAS BEEN UNSUCCESSFUL \n",
      " MAKE CONTACT WITH THE COMMANDER \n",
      " OBSERVE THE POLICE STATION \n",
      " KEEP LOW PROFILE \n",
      " PROCEED WITH SABOTAGE OF THE POWER STATION \n",
      " DISREGARD LAST MESSAGE \n",
      " NE T MEETING AT LAM TOMORROW UNDER THE LIBRARY ARCH \n",
      " REPORT ON THE POWER STATION \n",
      " USE RADIO CHANNEL ONE TWO OH MHZ \n",
      " WATCH FOR FURTHER COMMUNICATION TODAY \n",
      " OPERATION SEALION HAS BEEN SUCCESSFUL \n",
      " INVESTIGATE RUMOURS OF POLITICAL UPHEAVAL \n",
      " ACTIVATE OPERATION MINCEMEAT \n",
      " USE RADIO CHANNEL SEVEN NINE SI  MHZ \n",
      " OBSERVE THE POLICE STATION \n",
      " THE LOADING YARD REPORTED DAMAGED IN BOMBING RAID \n",
      " INVESTIGATE RUMOURS OF STRIKES \n",
      " DO NOT MAKE CONTACT UNTIL TUESDAY \n",
      " REPORT ON YOUR STATUS \n",
      " REPORT ON THE MUNITIONS FACTORY \n",
      " PROCEED WITH SABOTAGE OF CITY HALL \n",
      " MAKE CONTACT WITH AGENT ORANGE \n",
      " E PECT BOMBING RAID BEFORE SUNDAY \n",
      " MAKE CONTACT WITH CAPTAIN ROLLOCK \n",
      " COLLECT THE DOCUMENTS FROM THE HOLE IN THE OAK TREE \n",
      " ACTIVATE OPERATION MKULTRA \n",
      " REPORT ON YOUR STATUS \n",
      " OBTAIN RADIO FROM CAPTAIN ROLLOCK \n",
      " DO NOT MAKE CONTACT UNTIL TONIGHT \n",
      " OBSERVE THE REFINERY \n",
      " OBSERVE THE RIVERSIDE \n",
      " OBSERVE RAILWAY EAST \n",
      " NE T MEETING AT THE USUAL TIME TOMORROW UNDER THE LIBRARY ARCH \n",
      " WATCH FOR FURTHER COMMUNICATION TODAY \n",
      " SMALL SHIP IS DOCKED AT RED BAY \n",
      " PROCEED WITH SABOTAGE OF THE LOADING YARD \n",
      " PROCEED WITH SABOTAGE OF THE POLICE STATION \n",
      " E PECT BOMBING RAID NE T WEEK \n",
      " BATTLESHIP IS DOCKED AT OLD QUAY \n",
      " COLLECT THE DOCUMENTS FROM THE INNER CIRCLE \n",
      " WATCH FOR FURTHER COMMUNICATION TODAY \n",
      " OBSERVE THE POLICE STATION \n",
      " KEEP LOW PROFILE \n",
      " OBTAIN SONAR UNIT FROM THE TUNNELS \n",
      " ACTIVATE OPERATION BLUE SPOON \n",
      " USE RADIO CHANNEL SEVEN NINE SI  MHZ \n",
      " MAKE CONTACT WITH THE DOG TRAINER \n",
      " OBSERVE THE POLICE STATION \n",
      " LARGE SHIP IS DOCKED AT RED BAY \n",
      " PROCEED WITH SABOTAGE OF THE LOADING YARD \n",
      " WATCH FOR FURTHER COMMUNICATION TODAY \n",
      " WATCH FOR FURTHER COMMUNICATION TODAY \n",
      " THE RIVERSIDE REPORTED DAMAGED IN BOMBING RAID \n",
      " INVESTIGATE RUMOURS OF INVASION PARTIES \n",
      " NE T MEETING AT RPM BEFORE SUNDAY UNDER THE LIBRARY ARCH \n",
      " THE CENTRAL RAILWAY STATION REPORTED DAMAGED IN BOMBING RAID \n",
      " NE T MEETING AT THE USUAL TIME THE USUAL DAY TRAIN STATIONF PLATFORM THREE \n",
      " NE T MEETING AT RPM THE USUAL DAY TRAIN STATIONF PLATFORM THREE \n",
      " INVESTIGATE RUMOURS OF HEAVY BOMBING LOSSES \n",
      " DISREGARD LAST MESSAGE \n",
      " THE POWER STATION REPORTED DAMAGED IN BOMBING RAID \n",
      " KEEP LOW PROFILE \n",
      " OBTAIN CODE TAPE FROM AGENT ORANGE \n",
      " INVESTIGATE RUMOURS OF A NEW SECRET WEAPON \n",
      " E PECT INCREASED POLICE PRESENCE NE T WEEK \n",
      " PROCEED WITH SABOTAGE OF THE MUNITIONS FACTORY \n",
      " E PECT FURTHER COMMUNICATION THE USUAL DAY \n",
      " OBTAIN RIFLE FROM AT THE OLD LION \n",
      " NE T MEETING AT THE USUAL TIME TOMORROW TRAIN STATIONF PLATFORM THREE \n",
      " NE T MEETING AT KRJJ ZULU BEFORE SUNDAY UNDER THE LIBRARY ARCH \n",
      " LARGE SHIP IS DOCKED AT RED BAY \n",
      " DISREGARD LAST MESSAGE \n",
      " RAILWAY EAST REPORTED DAMAGED IN BOMBING RAID \n",
      " COLLECT THE DOCUMENTS FROM THE UNIVERSITY ARCHIVES THIRD FLOOR \n",
      " PROCEED WITH SABOTAGE OF THE CENTRAL RAILWAY STATION \n",
      " CRUISER IS DOCKED AT RED BAY \n",
      " A UNKNOWN VESSEL SEEN DEPARTING FROM RED BAY \n",
      " REPORT ON YOUR STATUS \n",
      " A LARGE SHIP SEEN DEPARTING FROM RED BAY \n",
      " AVOID A MAN WITH A DARK BLUE SUIT AND A GREY BEARD AT ALL COSTS \n",
      " DO NOT MAKE CONTACT UNTIL TUESDAY \n",
      " ACTIVATE OPERATION NORTHWOODS \n",
      " AVOID OUR REGULAR BAR AT ALL COSTS \n",
      " OBTAIN SONAR UNIT FROM THE CROSSROADS \n",
      " AVOID THE POLICE STATION AT ALL COSTS \n",
      " DO NOT MAKE CONTACT UNTIL BEFORE SUNDAY \n",
      " E PECT INCREASED POLICE PRESENCE NE T WEEK \n",
      " PROCEED WITH SABOTAGE OF THE MUNITIONS FACTORY \n",
      " USE RADIO CHANNEL EIGHT EIGHT SEVEN MHZ \n",
      " USE RADIO CHANNEL EIGHT EIGHT SEVEN MHZ \n",
      " CARRIER IS DOCKED AT OLD QUAY \n",
      " INVESTIGATE RUMOURS OF A NEW SECRET WEAPON \n",
      " WATCH FOR FURTHER COMMUNICATION TODAY \n",
      " INVESTIGATE RUMOURS OF INVASION PARTIES \n",
      " ACTIVATE OPERATION MKULTRA \n",
      " A CRUISER SEEN DEPARTING FROM RED BAY \n",
      " INVESTIGATE RUMOURS OF HEAVY BOMBING LOSSES \n",
      " REPORT ON THE REFINERY \n",
      " THE SCHOOLMASTER MAY BE DOUBLE AGENT E ERCISE CAUTION \n",
      " OBTAIN AMMUNITION FROM THE COMMANDER \n",
      " THE ENTERTAINER MAY BE DOUBLE AGENT E ERCISE CAUTION \n",
      " OBTAIN BINOCULARS FROM THE OTHER CONTACT \n",
      " OPERATION SEALION HAS BEEN ABORTED \n",
      " OBSERVE THE CENTRAL RAILWAY STATION \n",
      " OBSERVE RAILWAY EAST \n",
      " MAKE CONTACT WITH AGENT ORANGE \n",
      " INVESTIGATE RUMOURS OF INVASION PARTIES \n",
      " DISREGARD LAST MESSAGE \n",
      " OBTAIN SONAR UNIT FROM THE WOOL TAILOR \n",
      " THE WOOL TAILOR MAY BE DOUBLE AGENT E ERCISE CAUTION \n",
      " OBSERVE CITY HALL \n",
      " DO NOT MAKE CONTACT UNTIL THE USUAL DAY \n",
      " PROCEED WITH SABOTAGE OF RAILWAY EAST \n",
      " OPERATION SEALION HAS BEEN ABORTED \n",
      " DISREGARD LAST MESSAGE \n",
      " MR PHILLIPS MAY BE DOUBLE AGENT E ERCISE CAUTION \n",
      " E PECT FURTHER COMMUNICATION TUESDAY \n",
      " REPORT ON THE POWER STATION \n",
      " USE RADIO CHANNEL ONE OH FOUR MHZ \n",
      " INVESTIGATE RUMOURS OF HEAVY BOMBING LOSSES \n",
      " REPORT ON YOUR STATUS \n",
      " AVOID A MAN WITH A DARK BLUE SUIT AND A GREY BEARD AT ALL COSTS \n",
      " OPERATION BLUE SPOON HAS BEEN ABORTED \n",
      " OBTAIN SONAR UNIT FROM THE CROSSROADS \n",
      " OBSERVE THE POWER STATION \n",
      " INVESTIGATE RUMOURS OF FOOD SHORTAGES \n",
      " AVOID GOING OUT AFTER DARK AT ALL COSTS \n",
      " KEEP LOW PROFILE \n",
      " THE POLICE STATION REPORTED DAMAGED IN BOMBING RAID \n",
      " AVOID GOING OUTSIDE AT ALL COSTS \n",
      " PROCEED WITH SABOTAGE OF THE LOADING YARD \n",
      " REPORT ON THE LOADING YARD \n",
      " E PECT FURTHER COMMUNICATION TONIGHT \n",
      " UNKNOWN VESSEL IS DOCKED AT OLD QUAY \n",
      " KEEP LOW PROFILE \n",
      " COLLECT THE DOCUMENTS FROM THE INNER CIRCLE \n",
      " WATCH FOR FURTHER COMMUNICATION TODAY \n",
      " DO NOT MAKE CONTACT UNTIL NE T WEEK \n",
      " PROCEED WITH SABOTAGE OF THE RIVERSIDE \n",
      " UNKNOWN VESSEL IS DOCKED AT OLD QUAY \n",
      " A SMALL SHIP SEEN DEPARTING FROM DEEP HARBOUR \n",
      " DISREGARD LAST MESSAGE \n",
      " DISREGARD LAST MESSAGE \n",
      " DO NOT MAKE CONTACT UNTIL TOMORROW \n",
      " THE ENTERTAINER MAY BE DOUBLE AGENT E ERCISE CAUTION \n",
      " USE RADIO CHANNEL ONE TWO OH MHZ \n",
      " ACTIVATE OPERATION BLUE SPOON \n",
      " COLLECT THE DOCUMENTS FROM THE MICROFICHE READER AT THE LIBRARY \n",
      " REPORT ON CITY HALL \n",
      " COLLECT THE DOCUMENTS FROM THE MICROFICHE READER AT THE LIBRARY \n",
      " REPORT ON THE MUNITIONS FACTORY \n",
      " OBTAIN BINOCULARS FROM THE POLICE STATION \n",
      " DISREGARD LAST MESSAGE \n",
      " THE POWER STATION REPORTED DAMAGED IN BOMBING RAID \n",
      " OBTAIN SONAR UNIT FROM A MAN WITH A DARK BLUE SUIT AND A GREY BEARD \n",
      " REPORT ON THE LOADING YARD \n",
      " ACTIVATE OPERATION NORTHWOODS \n",
      " AVOID THE TUNNELS AT ALL COSTS \n",
      " OBSERVE THE POLICE STATION \n",
      " BATTLESHIP IS DOCKED AT OLD QUAY \n",
      " THE REFINERY REPORTED DAMAGED IN BOMBING RAID \n",
      " OBTAIN RADIO FROM AGENT ORANGE \n",
      " THE COMMANDER MAY BE DOUBLE AGENT E ERCISE CAUTION \n",
      " DISREGARD LAST MESSAGE \n",
      " PROCEED WITH SABOTAGE OF THE LOADING YARD \n",
      " COLLECT THE DOCUMENTS FROM THE HOLE IN THE OAK TREE \n",
      " REPORT ON CITY HALL \n",
      " REPORT ON YOUR STATUS \n",
      " A SMALL SHIP SEEN DEPARTING FROM OLD QUAY \n",
      " NE T MEETING AT LAM TOMORROW BY THE CANAL BRIDGE ON RED ST \n",
      " KEEP LOW PROFILE \n",
      " REPORT ON YOUR STATUS \n",
      " ABORT ABORT THE ENEMY HAS KNITTED THE WRONG SCARF REPEAT THE ENEMY HAS KNITTED THE WRONG SCARF\n"
     ]
    }
   ],
   "source": [
    "# Solution goes here\n",
    "from pprint import pprint\n",
    "analysis = {}\n",
    "for i in text[142:]:\n",
    "    analysis[i] = analysis.get(i, 0) + 1\n",
    "pprint(analysis)\n",
    "\n",
    "normal = 'XTOEASRINPDCLHUMGBFYWVKZJQ'\n",
    "key = ''\n",
    "for i in sorted(analysis, key=analysis.get, reverse=True):\n",
    "    key += i\n",
    "print(key)\n",
    "\n",
    "decrypt_list = list(text[142:])\n",
    "for i in range(len(decrypt_list)):\n",
    "    ind = key.index(decrypt_list[i])\n",
    "    decrypt_list[i] = normal[ind]\n",
    "    \n",
    "decrypt = text[:142] + ''.join(decrypt_list)\n",
    "decrypt = decrypt.replace('X', ' ')\n",
    "decrypt = decrypt.replace('STOP', '\\n')\n",
    "\n",
    "print(decrypt)"
   ]
  },
  {
   "cell_type": "markdown",
   "metadata": {},
   "source": [
    "-----------\n",
    "\n",
    "## C. Extended problems\n",
    "These *extended* problems are optional for students who are keen to learn more. If you've finished the whole lab and want to explore these ideas in more depth, these problems and resources are intended to help you do that. <div class=\"alert alert-box alert-danger\"> You do not need to attempt any of this section to receive a tick! </div>\n",
    "\n"
   ]
  },
  {
   "cell_type": "markdown",
   "metadata": {},
   "source": [
    "## C.1 Thue\n",
    "*Esoteric languages* are toy programming languages which often investigate the *minimal* set of operations needed to do computations. They are curiosities, but their stripped-down nature can reveal some of the fundamental properties of computing.\n",
    "\n",
    "You can learn more about esoteric languages at [esolangs.org](esolangs.org).\n",
    "\n",
    "`Thue` (pronounced Too-eh) is arguably the simplest possible completely universal programming language. Thue can do any computation at all -- anything Python or Javascript or C can do, so can Thue.\n",
    "\n",
    "You will implement a working Thue interpreter and test it on some programs written in Thue.\n",
    "\n",
    "-----\n",
    "\n",
    "**Thue** has very simple rules. \n",
    "\n",
    "* The data for the program to work one is one long string.\n",
    "* The program is a set of substitutions from one *sub*string to another.\n",
    "* Substitutions are made randomly.\n",
    "\n",
    "Note that Thue will not work unless the substitutions are random!\n",
    "\n",
    "#### To run a Thue program:\n",
    "* Until terminated:\n",
    "*   If no substitution rules can possibly match, terminate.\n",
    "*   Otherwise:\n",
    "    *   Choose a *random* substitution rule from those that can match. \n",
    "    *   Apply it to the data string.\n",
    "\n",
    "Each rule replaces a substring with its replacement. Thue rules are written as:\n",
    "\n",
    "    <lhs>::=<rhs>\n",
    "    \n",
    "meaning `<lhs>` becomes `<rhs>`\n",
    "\n",
    "    A::=alpha\n",
    "    \n",
    "means replace *one* occurence of `A` with `alpha`.\n",
    "\n",
    "If there were two rules\n",
    "\n",
    "    A::=alpha\n",
    "    ph::=f\n",
    "\n",
    "and Thue was run on the initial data string `Alive`, Thue would:\n",
    "\n",
    "* Determine that only the A rule matched, and the data would become `alphalive`\n",
    "* Then, on the next iteration, it would determine that only the `ph` rule matched, and the data would become `alfalive`\n",
    "* Then, no rules match, and execution would halt."
   ]
  },
  {
   "cell_type": "markdown",
   "metadata": {},
   "source": [
    "#### Example program\n",
    "This Thue program will take a binary number surrounded by underscores, and increment it by one:\n",
    "\n",
    "    1_::=1++\n",
    "    0_::=1\n",
    "\n",
    "    01++::=10\n",
    "    11++::=1++0\n",
    "\n",
    "    _0::=_\n",
    "    _1++::=10\n",
    "\n",
    "If run on this data string:\n",
    "\n",
    "    _1111111111_\n",
    "    \n",
    "The output will be:\n",
    "\n",
    "    _10000000000_\n",
    "\n",
    "Thue is **Turing complete**, so *any* program in any language can be written as a Thue program (it might be a bit complicated, though!)."
   ]
  },
  {
   "cell_type": "markdown",
   "metadata": {},
   "source": [
    "## Task\n",
    "Write a Thue interpreter. \n",
    "* It should be able to parse code like the example above. \n",
    "* Additionally, if it encounters a line with just \"::=\" on its own, it should ignore that line, and treat the remaining contents of the file as the data for the program to work on.\n",
    "* Ignore any blank lines.\n",
    "* Only *one* substitution should be performed per iteration. See the documentation for `string.replace()` to work out how to do this.\n",
    "* Test it on the provided Thue files in the `thue/` directory.\n",
    "* Confirm what message `thue/secret.thue` contains."
   ]
  },
  {
   "cell_type": "code",
   "execution_count": null,
   "metadata": {},
   "outputs": [],
   "source": [
    "# Solution goes here"
   ]
  },
  {
   "cell_type": "code",
   "execution_count": null,
   "metadata": {},
   "outputs": [],
   "source": [
    "# you should see _1001110_ if you did this correctly   \n",
    "thue_interpret(\"thue/add_bin.t\")"
   ]
  },
  {
   "cell_type": "markdown",
   "metadata": {},
   "source": [
    "## C.2 A complete(ish) Enigma machine"
   ]
  },
  {
   "cell_type": "markdown",
   "metadata": {},
   "source": [
    "<img src=\"imgs/Enigma_2.jpg\"> \n",
    "\n",
    "*Image credit: By Alessandro Nassiri - Museo della Scienza e della Tecnologia \"Leonardo da Vinci\", CC BY-SA 4.0, https://commons.wikimedia.org/w/index.php?curid=47910919*\n",
    "\n",
    "The German [Enigma](https://en.wikipedia.org/wiki/Enigma_machine) machine that Turing actually broke used a much more complex cipher than simple substitution. Read the Wikipedia article before continuing.\n",
    "\n",
    "It had a series of rotating wheels, each of which implemented a fixed substitution cipher from the 26 character alphabet to another 26 character sequence.  But each time a character was entered, the first wheel rotated; if this first wheel had rotated a full revolution (26 steps) the next wheel rotated, and so on.\n",
    "\n",
    "Each wheel implemented a simple substiution cipher. Each rotation of the wheel shifted this cipher. So the first character might have been translated with a wheel like:\n",
    "\n",
    "\n",
    "    ABCDEFGHIJKLMNOPQRSTUVWXYZ\n",
    "               |\n",
    "               |\n",
    "               V\n",
    "    QOFJSPIRUTNLMXWBZEGYKCADVH\n",
    "    \n",
    "then the next character would be translated with a substitution like:\n",
    "\n",
    "    ABCDEFGHIJKLMNOPQRSTUVWXYZ\n",
    "               |\n",
    "               |\n",
    "               V\n",
    "    OFJSPIRUTNLMXWBZEGYKCADVHQ\n",
    "    \n",
    "and so on.    \n",
    "\n",
    "### Task 1: One moving wheel\n",
    "1. Implement one wheel of an Enigma cipher, using the initial mapping \"QOFJSPIRUTNLMXWBZEGYKCADVH\"\n",
    "2. Encode the string \"HELLO THERE\" (only letters are encoded; everything else is ignored).\n",
    "3. Assume that the wheel rotates **after** the character has been translated by the substitution table.\n",
    "4. The output should be RPXWGVXLHX"
   ]
  },
  {
   "cell_type": "markdown",
   "metadata": {},
   "source": [
    "### Task 2: Three wheels\n",
    "1. Implement all three wheels. Remember that each wheel translates the output of the previous, and the first wheel turns on every character, the second on every 26th, the third on every `26*26=676`th character.\n",
    "2. Use the following substitutions for the wheels:\n",
    "\n",
    "        1. QOFJSPIRUTNLMXWBZEGYKCADVH\n",
    "        2. ZHQYASLFCTRPKUWDVBIMJXGOEN\n",
    "        3. JQBVTIEUXANMYDKPSWLZHGFROC\n",
    "    \n",
    "2. Encode the string \"THE QUICK BROWN FOX JUMPED OVER THE LAZY DOG. THE QUICK BROWN FOX JUMPED OVER THE LAZY DOG\"\n",
    "3. The output should be  `TABTRKAJYGRQIMLNIPXARRHMLDDRZKYYYFUSWICWRJIVDFRLAMHURJTBEENIFXPBUKTTTNWZ`"
   ]
  },
  {
   "cell_type": "markdown",
   "metadata": {},
   "source": [
    "### Task 3: The reflector\n",
    "1. The real Enigma machine had a fixed **reflector** at the end. It subsituted the character one more time, then sent it back through all three wheels again. The reflector did not move. *With this modification encryption and decryption become the same operation. Encrypting an already-encrypted string with the same machine settings decrypts the string.*\n",
    "2. Add the reflector. Use the substituion: \n",
    "\n",
    "        YRUHQSLDPXNGOKMIEBFZCWVJAT\n",
    "\n",
    "for the reflector.\n",
    "3. Remember to send the character through all of the wheels, through the reflector, and back through the wheels in reverse order. The wheels  move after this entire process is complete.\n",
    "4. Note that the wheel substitution on the reverse pass must be the **inverse** code from the forward pass! (i.e. the code that would transform back to the regular alphabet). You will need to work out how to do this. For example, the inverse code for `QOFJSPIRUTNLMXWBZEGYKCADVH` is `WPVXRCSZGDULMKBFAHEJIYONTQ`\n",
    "4. Encrypt (actually decrypt) the string `DIOYJNCSEVISIRXXPAOYGRXGCROIUTV` and check it is English."
   ]
  },
  {
   "cell_type": "markdown",
   "metadata": {
    "lines_to_next_cell": 0
   },
   "source": [
    "### Task 4: Starting positions\n",
    "1. The wheels on the Enigma machine were fixed in terms of the substitution. But the starting position could be set for each wheel (each wheel could be rotated a certain amount before sending started).\n",
    "2. The wheel starting position is given as a set of three characters. \"AAA\" means all three wheels in position 0; \"AAB\" means the last two wheels in zero position and the last (slowest turning) wheel rotated by one step. \"ZZZ\" means all wheels rotated by 25 steps (nb if A=0, then Z=25!).\n",
    "3. Add this capability to your machine.\n",
    "4. Using the substitutions above, and the key \"KEY\", decrypt the following (as one long string): \n",
    "\n",
    "        UJISFBFKPMYMEDRHFPEVXNQJCMETGEA\n",
    "        JAXQYTWPTQGAXCVBQLWXIAGNDIASRJDAKBIFO\n",
    "        YYGEEKZDVUJCMJDUKGDFMKQMXAOBXDDAELPH\n",
    "        XUIOJMJEQZYRZSVNXSHDBQHCQZDJBYHNPVNFJE\n",
    "        FJMAPAHQCPIVYSNJPYDBPDLDCVHRFDFUEVIQSA\n",
    "        ZABEJHVPQTCWDYMFE\n",
    "\n",
    "### Task 5: Steckerbrett\n",
    "If you are **really** interested, you can implement the Steckerbrett (\"plugboard\") as well. Read the Wikipedia article for details. This allows a **remapping** of a certain subset letters to other letters; typically ten letters were remapped using wires. \n",
    "\n",
    "The remapping is applied before any other encoding, and then again applied **inverted** after all other encoding. This preserves the self-decoding property of the Enigma machine.\n",
    "\n",
    "    remap -> encode > unremap\n",
    "    \n",
    "The Steckerbrett remapping should be specified as a list-of-string pairs, specifying the mapping for the \"remap\" stage, like this:\n",
    "\n",
    "        [\"qa\", \"hj\", \"ki\", \"ev\", \"gc\",\n",
    "        \"po\", \"lk\", \"nx\", \"rs\", \"tf\"]\n",
    "        \n",
    "This means that \"q\" is mapped \"a\", \"h\" -> \"j\", \"k\" -> \"i\", etc on the \"remap\" phase, and \"a\" -> \"q\", \"j\" -> \"h\", \"i\" -> \"k\", etc. in the \"unremap\" phase.\n",
    "\n",
    "**Make sure you only apply the character translation once, in a single pass!**\n",
    "\n",
    "Implement the Steckerbrett, and decrypt the following, as one long string. Use the remapping table above for decoding, and the wheel settings as above in Task 4.\n",
    "\n",
    "        KTSCSEHKWWCTGFXTPSQKXRUMQOVKWCRJNOMWMUDGHYBXTVTIJNPGYBITDDKJXYKYPWAEHTYSWNNBQPFIBMHJCMTUCNLBNHENETQDDDVTMEPADYIGUQPJBISFRPAWLSOVYDWTUOMBNOLJAQCNRMJXQQGZRJCPFRSZXMRLIPOGERCXHXXPFTMZYKUBNJSUIJETBUGWVCCKUVXJRAAWXPLCTZEPURWYSFOLGCRNRWCFCNGHUQZXDUIPOLASBUJHCZECZDBSBNNSRXNOIEURTCFCTX\n",
    "\n"
   ]
  },
  {
   "cell_type": "code",
   "execution_count": null,
   "metadata": {},
   "outputs": [],
   "source": [
    "# Solution goes here"
   ]
  },
  {
   "cell_type": "markdown",
   "metadata": {},
   "source": [
    "## C.4 Cheapest route\n",
    "**WARNING: This section is much more challenging than previous C exercises. Attempt at your own risk!**"
   ]
  },
  {
   "cell_type": "markdown",
   "metadata": {},
   "source": [
    "You have to implement an airline ticket search system for UK flights. \n",
    "\n",
    "You have been provided with a list of flight information in a file `data/prices.txt`, in the format (one entry per line)\n",
    "    \n",
    "       <start_airport>, <destination_airport>, <price>, \n",
    "       <duration>, <airline>\n",
    "       \n",
    "For example, a route from Helsinki to Berlin Tegel costing £250 and taking 104 minutes via *Germanwings* appears as:\n",
    "\n",
    "    HEL,TXL,250,104,Germanwings\n",
    "    \n",
    "You also have a file `data/location.txt` which has a list of entries:\n",
    "\n",
    "    <airport_code>, <country>, <latitude>, <longitude>\n",
    "    \n",
    "For example, the entry for Helsinki airport is:\n",
    "\n",
    "    HEL,Finland,60.317222,24.963333\n",
    "    \n",
    "----    \n",
    "This is not a toy example. The data for this exercise is real data, from [OpenFlights](http://www.openflights.org). The format used here is written in a slightly simplified form. The ticket price and flight duration are simulations. Latitude and longitude are the position of the airport on Earth. **Data for every scheduled commercial flight in the world is provided.**"
   ]
  },
  {
   "cell_type": "markdown",
   "metadata": {
    "lines_to_next_cell": 0
   },
   "source": [
    "Write a program that takes two airports as input from the user and prints out the *cheapest route*  to get between them. This could include any number of intermediate airports.  The output should include each intermediate airport and the price of each leg of the journey.\n",
    "\n",
    "For example there is no route at all between LSI and LAX, but you can go LSI->GLA->LHR->LAX. There may be cheaper routes that get you there for less money.\n",
    "\n",
    "### Steps\n",
    "\n",
    "1. Get this working for the UK airports first. Test it for a few airport pairs and verify you are finding valid routes.\n",
    "1. Then, extend it to the whole world.\n",
    "\n",
    "### How?\n",
    "This is a **shortest path** question. \n",
    "\n",
    "We can consider the problem as a **graph**, in the sense of a set of vertices connected together by edges. This is a very powerful way of representing many problems.\n",
    "\n",
    "<img src=\"imgs/dijkstra_animation.gif\">\n",
    "\n",
    "In formal notation, if we consider a graph $G=(V,E)$ to consist of vertices $V=(v_1, v_2, \\dots)$ and edges $E=(e_1, e_2, \\dots)$, where each edge $e_i$ has an associated **weight** $w_i$ and connects to vertices $(v_j, v_k)$, we want to be able to find a route between a vertex $v_a$ and another vertex $v_b$ that minimises the sum of the edge weights we need to traverse to get there. The total weight of a path through the graph from $v_a$ to $v_b$ is given by by the sum of the edge weights in between $\\sum_i w_i$.\n",
    "\n",
    "#### Airports as graphs\n",
    "In our example, the *vertices* of the graph are the *airports*; the *edges* are the *routes*; and the *weights* are the *prices* of the flights between each airport. A path from one airport to another is a path on the graph, and its total cost is the sum of the prices of each leg of the route.\n",
    "\n",
    "### Dijkstra\n",
    "[Dijkstra's algorithm](https://en.wikipedia.org/wiki/Dijkstra%27s_algorithm) lets us *efficiently* compute shortest paths in any general graph. To solve this problem, you will need to implement Dijkstra's algorithm. \n",
    "\n",
    "Look this up on the Web; the Wikipedia page is a good introduction, but there are many other tutorials you can follow. Start with the simplest version of Dijkstra's algorithm and work from there; the first algorithm given in the \"Pseudocode\" section of the Wikipedia page is relatively easy to implement.\n",
    "\n",
    "### Computation time\n",
    "Note: this search will take a second or two to run on the full world data. It should be pretty instantaneous for the UK only data.\n",
    "\n",
    "### Output\n",
    "Your output for a route like LTN->LGW should look like this:\n",
    "\n",
    "    Cheapest route  LTN->EDI->LGW\n",
    "    Total cost: £423\n",
    "\n",
    "    Detailed breakdown:\n",
    "    LTN->EDI £283\n",
    "    EDI->LGW £140\n",
    "\n"
   ]
  },
  {
   "cell_type": "code",
   "execution_count": 1,
   "metadata": {},
   "outputs": [],
   "source": [
    "# Solution goes here"
   ]
  },
  {
   "cell_type": "code",
   "execution_count": 5,
   "metadata": {},
   "outputs": [],
   "source": [
    "# Solution goes here"
   ]
  },
  {
   "cell_type": "code",
   "execution_count": 6,
   "metadata": {},
   "outputs": [],
   "source": [
    "get_route(world_airports, world_routes, 'LHR', 'GLA')"
   ]
  },
  {
   "cell_type": "code",
   "execution_count": 7,
   "metadata": {},
   "outputs": [],
   "source": [
    "get_route(world_airports, world_routes, 'JOS', 'LSI')"
   ]
  },
  {
   "cell_type": "markdown",
   "metadata": {},
   "source": [
    "## C.4 Multi-stop\n",
    "Allow the search to find routes that include any number of specified stops. For example, I could go find a route that goes from EDI->JFK->GLA, including any number of intermediate airports. This is sometimes called an \"open jaw\" ticket (don't ask me why!)."
   ]
  },
  {
   "cell_type": "code",
   "execution_count": 8,
   "metadata": {},
   "outputs": [],
   "source": [
    "# Solution goes here"
   ]
  },
  {
   "cell_type": "code",
   "execution_count": 9,
   "metadata": {},
   "outputs": [],
   "source": [
    "# this is a long trip...        \n",
    "get_openjaw_route(world_airports, world_routes, \n",
    "                  ['GLA', 'JFK', 'EDI', 'JOS', 'YVR', 'LHR'])"
   ]
  }
 ],
 "metadata": {
  "kernelspec": {
   "display_name": "Python 3",
   "language": "python",
   "name": "python3"
  },
  "language_info": {
   "codemirror_mode": {
    "name": "ipython",
    "version": 3
   },
   "file_extension": ".py",
   "mimetype": "text/x-python",
   "name": "python",
   "nbconvert_exporter": "python",
   "pygments_lexer": "ipython3",
   "version": "3.7.3"
  },
  "varInspector": {
   "cols": {
    "lenName": 16,
    "lenType": 16,
    "lenVar": 40
   },
   "kernels_config": {
    "python": {
     "delete_cmd_postfix": "",
     "delete_cmd_prefix": "del ",
     "library": "var_list.py",
     "varRefreshCmd": "print(var_dic_list())"
    },
    "r": {
     "delete_cmd_postfix": ") ",
     "delete_cmd_prefix": "rm(",
     "library": "var_list.r",
     "varRefreshCmd": "cat(var_dic_list()) "
    }
   },
   "types_to_exclude": [
    "module",
    "function",
    "builtin_function_or_method",
    "instance",
    "_Feature"
   ],
   "window_display": false
  }
 },
 "nbformat": 4,
 "nbformat_minor": 2
}
