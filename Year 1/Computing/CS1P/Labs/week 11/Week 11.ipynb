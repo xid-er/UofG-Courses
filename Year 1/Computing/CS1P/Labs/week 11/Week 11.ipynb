{
 "cells": [
  {
   "cell_type": "code",
   "execution_count": 5,
   "metadata": {},
   "outputs": [
    {
     "name": "stdout",
     "output_type": "stream",
     "text": [
      "{'hey': 1, 'you': 2, 'are': 1, 'finally': 1, 'awake': 1}\n"
     ]
    }
   ],
   "source": [
    "def wordFreq(s):\n",
    "    s_list = s.lower().split(\" \")\n",
    "    freq = {}\n",
    "    for i in s_list:\n",
    "        i = ''.join(x for x in i if x.isalpha())\n",
    "        freq[i] = freq.get(i, 0) + 1\n",
    "    return freq\n",
    "\n",
    "print(wordFreq(\"Hey, you! You are finally awake.\"))"
   ]
  },
  {
   "cell_type": "code",
   "execution_count": 3,
   "metadata": {},
   "outputs": [
    {
     "name": "stdout",
     "output_type": "stream",
     "text": [
      "[5, 3, 1, 2]\n",
      "[3, 5, 1, 2]\n",
      "[3, 1, 5, 2]\n",
      "[1, 3, 2, 5]\n",
      "[1, 2, 3, 5]\n"
     ]
    }
   ],
   "source": [
    "def swapSort(l):\n",
    "    for i in range(len(l)):\n",
    "        \n",
    "        print(l)\n",
    "        for j in range(i%2, len(l)-1, 2):\n",
    "            if l[j] > l[j+1]:\n",
    "                l[j], l[j+1] = l[j+1], l[j]\n",
    "    return l\n",
    "\n",
    "print(swapSort([5,3,1,2]))"
   ]
  },
  {
   "cell_type": "code",
   "execution_count": 29,
   "metadata": {},
   "outputs": [
    {
     "name": "stdout",
     "output_type": "stream",
     "text": [
      "[1, 2, 3, 4, 5]\n",
      "[4, 5, 6]\n",
      "[1, 2, 3, 4, 5, 6, 7, 8, 9]\n"
     ]
    }
   ],
   "source": [
    "def modSel(l):\n",
    "    n = len(l)\n",
    "    i = 0\n",
    "    j = n - 1\n",
    "    while(i < j): \n",
    "        minit = l[i] \n",
    "        maxit = l[i] \n",
    "        min_i = i \n",
    "        max_i = i \n",
    "        \n",
    "        for k in range(i, j + 1): \n",
    "            if (l[k] > maxit): \n",
    "                maxit = l[k] \n",
    "                max_i = k \n",
    "            elif (l[k] < minit): \n",
    "                minit = l[k] \n",
    "                min_i = k \n",
    "        \n",
    "        l[i], l[min_i] = l[min_i], l[i]\n",
    "        \n",
    "        if l[min_i] == maxit:\n",
    "            l[j], l[min_i] = l[min_i], l[j]\n",
    "            \n",
    "        else: \n",
    "            l[j], l[max_i] = l[max_i], l[j]\n",
    "  \n",
    "        i += 1\n",
    "        j -= 1\n",
    "        \n",
    "    return l\n",
    "\n",
    "print(modSel([5,4,3,2,1]))\n",
    "print(modSel([6,4,5]))\n",
    "print(modSel([2, 6, 8, 1, 7, 9, 4, 3, 5]))"
   ]
  }
 ],
 "metadata": {
  "kernelspec": {
   "display_name": "Python 3",
   "language": "python",
   "name": "python3"
  },
  "language_info": {
   "codemirror_mode": {
    "name": "ipython",
    "version": 3
   },
   "file_extension": ".py",
   "mimetype": "text/x-python",
   "name": "python",
   "nbconvert_exporter": "python",
   "pygments_lexer": "ipython3",
   "version": "3.7.3"
  }
 },
 "nbformat": 4,
 "nbformat_minor": 2
}
