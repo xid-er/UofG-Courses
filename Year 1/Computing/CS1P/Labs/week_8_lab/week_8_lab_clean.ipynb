{
 "cells": [
  {
   "cell_type": "markdown",
   "metadata": {},
   "source": [
    "# Week 8 : Lab \n",
    " ## Data structures: Numerical arrays\n",
    " ##### CS1P - University of Glasgow - John Williamson - 2018/2019 Python 3.x"
   ]
  },
  {
   "cell_type": "code",
   "execution_count": 1,
   "metadata": {
    "lines_to_next_cell": 0
   },
   "outputs": [],
   "source": [
    "## RUN ME FIRST!\n",
    "from image_audio import * \n",
    "import numpy as np\n",
    "np.set_printoptions(suppress=True)\n",
    "%matplotlib inline\n",
    "print(\"Import worked OK\")"
   ]
  },
  {
   "cell_type": "markdown",
   "metadata": {},
   "source": [
    "\n",
    "\n"
   ]
  },
  {
   "cell_type": "markdown",
   "metadata": {},
   "source": [
    "## Lab exercise\n",
    "**You must make a reasonble attempt at this exercise to gain a tick for this work**.\n",
    "\n",
    "<font color=\"red\"> Remember to save your work frequently! </font>\n",
    "\n"
   ]
  },
  {
   "cell_type": "markdown",
   "metadata": {},
   "source": [
    "## Purpose of this lab\n",
    "This lab will familiarise you with using numerical arrays in Python using Numpy. This includes:\n",
    "* creating arrays\n",
    "* multi-dimensional slicing\n",
    "* joining arrays\n",
    "* array arithmetic and broadcasting\n",
    "* vectorised operations\n",
    "* images as arrays\n",
    "\n"
   ]
  },
  {
   "cell_type": "markdown",
   "metadata": {},
   "source": [
    "## Before the lab\n",
    "* Complete at least the A exercises.\n",
    "\n",
    "\n"
   ]
  },
  {
   "cell_type": "markdown",
   "metadata": {},
   "source": [
    "## During the lab session\n",
    "\n",
    "* Complete the B exercise. \n"
   ]
  },
  {
   "cell_type": "markdown",
   "metadata": {},
   "source": [
    "## A: Quick problems\n",
    "\n",
    "### A.1 Box matrix\n",
    "\n",
    "Write a function `box_matrix(rows, cols)` which creates a new matrix (a 2D NumPy array) with the given number of rows and columns, such that all elements are 0, *except* for the rows and columns at the \"edges\" of the matrix, which should be 1, (a \"hollow\" or \"box\" matrix\").\n",
    "\n",
    "**DO NOT USE ANY FORM OF LOOP**\n",
    "\n",
    "So \n",
    "\n",
    "    box_matrix(2,2) =\n",
    "        array([[ 1.,  1.],\n",
    "               [ 1.,  1.]])\n",
    "        \n",
    "    box_matrix(4,4) =\n",
    "        array([[ 1.,  1.,  1.,  1.],\n",
    "               [ 1.,  0.,  0.,  1.],\n",
    "               [ 1.,  0.,  0.,  1.],\n",
    "               [ 1.,  1.,  1.,  1.]])\n",
    "        \n",
    "    box_matrix(3,6) =\n",
    "        array([[ 1.,  1.,  1.,  1.,  1.,  1.],\n",
    "               [ 1.,  0.,  0.,  0.,  0.,  1.],\n",
    "               [ 1.,  1.,  1.,  1.,  1.,  1.]])\n",
    "        "
   ]
  },
  {
   "cell_type": "code",
   "execution_count": 2,
   "metadata": {},
   "outputs": [],
   "source": [
    "# Solution goes here"
   ]
  },
  {
   "cell_type": "markdown",
   "metadata": {},
   "source": [
    "## A. 2 Tiling\n",
    "`np.tile(a, shape)` will copy `a` multiple times in a grid shape. For example, `np.tile(a, (2,2))` will copy an array twice in columns and twice in rows, joining the result together:"
   ]
  },
  {
   "cell_type": "code",
   "execution_count": 3,
   "metadata": {},
   "outputs": [],
   "source": [
    "a = np.array([[1,0], [0,4]])\n",
    "np.tile(a, (2,2))"
   ]
  },
  {
   "cell_type": "markdown",
   "metadata": {},
   "source": [
    "Using `np.tile` create an array of the numbers `[1,2,3,4]` tiled into 4 columns and 4 rows, so that the resulting output is a 4x16 array of values, like this:\n",
    "\n",
    "    [[1,2,3,4,1,2,3,4,1,2,3,4,1,2,3,4],\n",
    "     [1,2,3,4,1,2,3,4,1,2,3,4,1,2,3,4],\n",
    "     [1,2,3,4,1,2,3,4,1,2,3,4,1,2,3,4],\n",
    "     [1,2,3,4,1,2,3,4,1,2,3,4,1,2,3,4]]\n",
    "\n",
    "Show the result as an image using `show_image(x)`, but divide every element of `x` by 4 before showing it.\n",
    "\n",
    "DO NOT USE ANY FORM OF LOOP."
   ]
  },
  {
   "cell_type": "code",
   "execution_count": 4,
   "metadata": {},
   "outputs": [],
   "source": [
    "# Solution goes here"
   ]
  },
  {
   "cell_type": "markdown",
   "metadata": {},
   "source": [
    "### A.3 Alpha mask\n",
    "An grayscale image consists of a 2D array (matrix) of brightness values.\n",
    "Combining two images together can be done by adding them together and dividing by 2.0, as below."
   ]
  },
  {
   "cell_type": "code",
   "execution_count": 5,
   "metadata": {},
   "outputs": [],
   "source": [
    "parrots = load_image_gray(\"imgs/parrots.png\")\n",
    "plane = load_image_gray(\"imgs/plane.png\")\n",
    "show_image(parrots)\n",
    "show_image(plane)\n",
    "show_image((plane+parrots)/2.0)"
   ]
  },
  {
   "cell_type": "markdown",
   "metadata": {},
   "source": [
    "These are just plain old arrays, and we can do anything we want to the elements"
   ]
  },
  {
   "cell_type": "code",
   "execution_count": 6,
   "metadata": {},
   "outputs": [],
   "source": [
    "show_image(plane*2) # increase contrast\n",
    "show_image(np.abs(plane - parrots)) # show absolute difference of images\n",
    "\n",
    "# the equivalent of Photoshop's \"Darken\"  mode\n",
    "show_image(np.where(plane<parrots, plane, parrots))"
   ]
  },
  {
   "cell_type": "markdown",
   "metadata": {},
   "source": [
    "But to *composite* on image on top of another (e.g. to place an actor filmed in front of a green screen into a CGI background), we need to *selectively* mix to gether images. This is called *alpha masking* (this why the transparency option in some programs is called *alpha*).\n",
    "\n",
    "There is a simple process: you take two images $X$ and $Y$, and a special third image $A$ called the **alpha mask** or sometimes the **matte**. $A$ is a grayscale image; where $A$ is white (elements = 1.0), $X$ shows through. Where $A$ is black (elements = 0.0), $Y$ shows through. Where $A=0.5$, $0.5X+0.5Y$ is mixed together.\n",
    "\n",
    "The general formula for this masking is very simple $$Z = AX + (1-A)Y,$$ where $Z$ is the output image.\n",
    "\n",
    "* An alpha mask is contained in the file `imgs/parrots_alpha.png`\n",
    "* Load it (use `load_image_gray()`) and show it.\n",
    "* Compute the alpha composited image (parrots on background) by implementing the equation above using ndarrays.  This is very simple and should not involve a loop!\n",
    "* Show the composited image.\n",
    "\n",
    "### Optional extension\n",
    "Make this work in colour (use `load_image_colour()` to load a colour image; `show_image()` will still work to show it)\n"
   ]
  },
  {
   "cell_type": "code",
   "execution_count": 7,
   "metadata": {
    "lines_to_next_cell": 0
   },
   "outputs": [],
   "source": [
    "# Solution goes here"
   ]
  },
  {
   "cell_type": "markdown",
   "metadata": {},
   "source": [
    "\n"
   ]
  },
  {
   "cell_type": "markdown",
   "metadata": {},
   "source": [
    "## A.4 Sunspots\n",
    "Astronomers have counted the number of visible **sunpots** on the sun every day since 1749. The code below loads this data (average daily sunspot count over one month intervals) as a Numpy array. It has three columns:\n",
    "\n",
    "    index, year, mean sunspots\n",
    "\n",
    "`year` is in the date in fractional years (e.g. 1800.5 means half way through 1800).\n",
    "\n",
    "You can think of this like an Excel spreadsheet with data in it.\n",
    "\n",
    "The index just increments from 1 upwards, and isn't interesting to us."
   ]
  },
  {
   "cell_type": "code",
   "execution_count": 8,
   "metadata": {},
   "outputs": [],
   "source": [
    "# load the data\n",
    "sunspots = np.loadtxt(\"sunspots.csv\", delimiter=\",\")    \n",
    "print((sunspots.shape, sunspots.dtype))"
   ]
  },
  {
   "cell_type": "code",
   "execution_count": 9,
   "metadata": {},
   "outputs": [],
   "source": [
    "# print the first five rows of this data\n",
    "\n",
    "print(sunspots[:5, :])"
   ]
  },
  {
   "cell_type": "markdown",
   "metadata": {},
   "source": [
    "We can plot the sunspot data directly with `plot`. We will see the characteristic 11 year solar activity cycle."
   ]
  },
  {
   "cell_type": "code",
   "execution_count": 10,
   "metadata": {},
   "outputs": [],
   "source": [
    "# plot second column (time in years) against third (number of sunspots)\n",
    "plt.plot(sunspots[:,1], sunspots[:,2])\n",
    "plt.xlabel(\"Year\")\n",
    "plt.ylabel(\"Avg. daily sunpots\")"
   ]
  },
  {
   "cell_type": "markdown",
   "metadata": {},
   "source": [
    "There are two useful operations in Numpy:\n",
    "* `np.argmin(x)` returns the *index* at which `x` is smallest\n",
    "* `np.argmax(x)` returns the *index* at which `x` is largest"
   ]
  },
  {
   "cell_type": "code",
   "execution_count": 11,
   "metadata": {},
   "outputs": [],
   "source": [
    "x = [0.5, -0.2, 0.9, 1.8]\n",
    "print(np.argmin(x)) \n",
    "print(np.argmax(x))"
   ]
  },
  {
   "cell_type": "code",
   "execution_count": 12,
   "metadata": {},
   "outputs": [],
   "source": [
    "# we can use the numbers returned as indices\n",
    "print(x[np.argmin(x)])\n",
    "print(x[np.argmax(x)])"
   ]
  },
  {
   "cell_type": "markdown",
   "metadata": {},
   "source": [
    "**Without using any loops**, answer the following questions using array operations. You should be able to answer these in a single line of code.\n",
    "1. What is the most number of sunspots seen?\n",
    "1. What is the least number of sunspots seen?\n",
    "1. What is the average (mean) number of sunspots seen each month?\n",
    "1. What is the average number of sunspots for March? *Hint: there are 12 months in the year!*\n",
    "1. In which year were most sunspots seen?"
   ]
  },
  {
   "cell_type": "code",
   "execution_count": 13,
   "metadata": {},
   "outputs": [],
   "source": [
    "# Solution goes here"
   ]
  },
  {
   "cell_type": "markdown",
   "metadata": {},
   "source": [
    "# B: Simulations with arrays\n",
    "\n",
    "You have been hired to demonstrate the artistic and expressive aspects of computer science. You have to build an installation to be displayed in a museum to show off what can be done.\n",
    "\n",
    "You have two animated exhibits to produce:\n",
    "* Firework particle explosion\n",
    "* The Game of Life\n",
    "\n",
    "You will implement this using numerical arrays to perform computations quickly and elegantly.\n",
    "\n",
    "## B.1 Firework displays\n"
   ]
  },
  {
   "cell_type": "markdown",
   "metadata": {},
   "source": [
    "We missed Guy Fawkes day, but we can simulate fireworks using a simple **particle system**. We will use very (*very*) basic physics to simulate how particles (in this case, little bits of fireworks) move around. We will use numerical arrays (NumPy arrays) to compute the movement of a \"whole\" firework at once.\n",
    "\n",
    "The output from your code for this part should look like this:\n",
    "<img src=\"imgs/fireworks.png\">\n",
    "\n",
    "We'll simulate this using a very set of simple equations that apply to a whole set of particles at the same time (i.e. vectorized operations).\n",
    "\n",
    "## Particle system"
   ]
  },
  {
   "cell_type": "markdown",
   "metadata": {},
   "source": [
    "Assume we can model a single firework explosion at a given time as a set of N points in 2D, i.e. an array of N rows of 2 columns (x and y).  \n",
    "\n",
    "    [[x, y]\n",
    "     [x, y]\n",
    "     [x, y]\n",
    "     ...\n",
    "     ]\n",
    "    \n",
    "To simulate a firework exploding, we need to simulate the motion of these points \"bursting out\" from a central position and falling down.\n",
    "\n",
    "Assume we also have some information about the initial velocity  of each particle (i.e. which way it went at the moment of detonation). This is a vector, and has two components, \"dx\" and \"dy\", the rate of movement in each of those two directions.\n",
    "\n",
    "We can write a 2D vector in space at time $t$ as $\\textbf{x_t}=[x,y]$ and a 2D velocity vector as $\\textbf{dx_t} = [dx, dy]$.\n",
    "\n",
    "We can predict where the particle is at time $t$ from where it was in the last time step $t-1$ using the equations:\n",
    "$$\\textbf{x}_{t} = \\textbf{x}_{t_1} + \\textbf{dx}_{t_1}$$\n",
    "$$\\textbf{dx}_{t} = d \\textbf{dx}_{t-1}  - \\textbf{g}$$"
   ]
  },
  {
   "cell_type": "markdown",
   "metadata": {},
   "source": [
    "$d$ is a damping factor (from air resistance). $g$ is the gravitational vector, which accelerates towards the ground.\n",
    "\n",
    "Note that x, g and dx  are vectors (they have $x$ and $y$ components), not just plain numbers!\n",
    "\n",
    "## Random  numbers\n",
    "We can use random numbers to give initial values for the velocities (after all, the particles all spread out in random ways when a firework goes off). The function `np.random.normal(mean, std, shape)` generates *normally distributed* values, centered on `mean` with a \"spread\" given by `std`, in an array of the given `shape`."
   ]
  },
  {
   "cell_type": "code",
   "execution_count": 14,
   "metadata": {},
   "outputs": [],
   "source": [
    "# 4 element vector, centered on 0, spread of 0.1\n",
    "print((np.random.normal(loc=0, scale=0.1, size=(4,))))"
   ]
  },
  {
   "cell_type": "code",
   "execution_count": 15,
   "metadata": {},
   "outputs": [],
   "source": [
    "# 8 element vector, centered on 0, spread of 10\n",
    "print((np.random.normal(loc=0, scale=10, size=(8,))))"
   ]
  },
  {
   "cell_type": "code",
   "execution_count": 16,
   "metadata": {},
   "outputs": [],
   "source": [
    "# 6x6 matrix, centered on 0, spread of 2\n",
    "print((np.random.normal(loc=0, scale=2, size=(6,6))))"
   ]
  },
  {
   "cell_type": "markdown",
   "metadata": {},
   "source": [
    "## Task 1\n",
    "Implement the equations of motion for a single firework.\n",
    "\n",
    "* You should start with all points at the same *position* $\\textbf{x}$ (e.g. all at (0,0)), but with random velocities, using `np.random.normal()`, as above. \n",
    "\n",
    "* Start with 50 particles in the firework. Remember, the positions of every particle should be in *one single array*!\n",
    "\n",
    "* To implement the gravity, remember you can modify a slice of an array (e.g. a column slice).\n",
    "\n",
    "* Run the equations for 50 steps, updating the position and velocity. Each iteration should compute a new array.\n",
    "\n",
    "* Use `plot_array(pts)` defined below to plot the positions *on each timestep*. Use the `s` optional parameter to set the size of the points to `50-i`, where i is the iteration number.\n",
    "\n",
    "* To start, use gravity `g=[0, -0.01]`, damping `d=0.9`. Adjust these as you feel best.\n",
    "\n",
    "* At the end, you should get a single, monochrome firework like this:\n",
    "\n",
    "<img src=\"imgs/mono_firework.png\">"
   ]
  },
  {
   "cell_type": "code",
   "execution_count": 17,
   "metadata": {},
   "outputs": [],
   "source": [
    "def plot_array(pts, c=None, s=8):\n",
    "    \"\"\"Plot pts (must be a Nx2 array) as points. \n",
    "    If c is specified, it must be an Nx4 array of RGBA values, giving\n",
    "    the colour for each point.\"\"\"\n",
    "    plt.gca().set_facecolor('black')\n",
    "    if c is None:\n",
    "        plt.scatter(pts[:,0], pts[:,1], c='r', edgecolor=\"none\", s=s)\n",
    "    else:\n",
    "        plt.scatter(pts[:,0], pts[:,1], c=np.clip(c,0,1), edgecolor=\"none\", s=s)\n",
    "    plt.xlim(-10,10)\n",
    "    plt.ylim(-10,10)\n",
    "    display.display(plt.gcf())\n",
    "    display.clear_output(wait=True)\n",
    "    time.sleep(0.05)\n",
    "\n",
    "# Example: plot 20 random 2D points\n",
    "plot_array(np.random.normal(0,1,(20,2)))"
   ]
  },
  {
   "cell_type": "code",
   "execution_count": 18,
   "metadata": {},
   "outputs": [],
   "source": [
    "# Solution goes here"
   ]
  },
  {
   "cell_type": "markdown",
   "metadata": {},
   "source": [
    "### Task 2\n",
    "* Plot several fireworks, each with a different random starting position.\n",
    "* Start with 5 fireworks.\n",
    "* `plot_array()` can take a second argument, `color`:\n",
    "e.g. `plot_array(x, color)`\n",
    "* The colours given to plot_array must be an Nx4 array (red, green, blue, alpha). The alpha column should initially be set to 1, so that the fireworks don't start out transparent. RGB should be values between 0 and 1.\n",
    "* Choose a random colour for each firework, but with the alpha component set to 1.0. Note that you need to give a colour for each *particle* in the firework. (*hint*: how can `np.tile()` help you?)\n",
    "* Make the colours fade as the simulation runs (i.e. they should get darker or more transparent in future time steps). Think about how the damping changed the velocity."
   ]
  },
  {
   "cell_type": "code",
   "execution_count": 19,
   "metadata": {
    "lines_to_next_cell": 0
   },
   "outputs": [],
   "source": [
    "# Solution goes here"
   ]
  },
  {
   "cell_type": "markdown",
   "metadata": {},
   "source": [
    "\n"
   ]
  },
  {
   "cell_type": "markdown",
   "metadata": {},
   "source": [
    "## B.2 Game of Life\n",
    "The [Game of Life](https://en.wikipedia.org/wiki/Conway%27s_Game_of_Life) is a very famous simulation; a kind of **cellular automaton**. It is not a game in the traditional sense of the word, but a kind of simulation which has many interesting and surprising properties. Given a particular starting patterns, unexpectedly complicated behaviours evolve, including moving objects (\"spaceships\"), repeating patterns (\"oscillators\"), patterns that shoot out spaceships (\"guns\") and many other structures.\n",
    "\n",
    "<img src=\"imgs/billiards.gif\" width=\"40%\">\n",
    "<img src=\"imgs/fencepost.gif\" width=\"40%\">\n",
    "\n",
    "**Oscillating patterns**\n",
    "\n",
    "<img src=\"imgs/slowship.gif\"  width=\"40%\">\n",
    "\n",
    "**A large, slow spaceship**\n",
    "\n",
    "<img src=\"imgs/glidergun.gif\"  width=\"40%\">\n",
    "\n",
    "**A \"glider gun\", shooting out little glider spaceships**\n",
    "\n",
    "<img src=\"imgs/sparktopifuse.gif\"  width=\"40%\">\n",
    "\n",
    "**A \"fuse reaction\"**\n",
    "\n",
    "The Game of Life works by simulating the birth and death of a very simplified model of a 2D grid of \"cells\" according to really simple rules. **All of the behaviours above arise from these rules**. It was invented by the mathematician John H. Conway in 1969\n",
    "\n",
    "<img src=\"imgs/jhc.jpg\">\n",
    "\n",
    "*John H. Conway [Image Credit \"Thane Plambeck\" - \"http://www.flickr.com/photos/thane/20366806/\", CC BY 2.0, https://commons.wikimedia.org/w/index.php?curid=13076802]*\n",
    "\n",
    "The Game of Life assumes that these \"cells\" are represented as a big 2D array (like a giant chessboard), where each element of the array can be 1 (on/alive) or 0 (off/dead). Rules are defined which, given a array of cells in one instant, determine how the cells should evolve in the next instant. \n",
    "\n",
    "[There's more background in this blog post](https://www.howell.io/2016/07/08/exploring-conways-game-of-life/)\n",
    "\n",
    "### Rules\n",
    "* We imagine that we loop over every entry in an array, and at that position look at the 3x3 **neighbourhood** of cells that surrounds that entry. That is every array entry that is one step horizontally, vertically or diagonally away from the point we are considering.\n",
    "\n",
    "In this diagram `a,b,c,d,g,h,i` are all neighbours of `E`\n",
    "\n",
    "    a b c\n",
    "    d E f\n",
    "    g h i"
   ]
  },
  {
   "cell_type": "markdown",
   "metadata": {},
   "source": [
    "* For each cell in the array:\n",
    "    * Check all eight neighbours in a 3x3 grid around the cell\n",
    "    * If cell was already on, and there are exactly 2 neighbours, the cell stays on in the next timestep.\n",
    "    * If there are exactly three neighbours, the cell becomes on in the next timestep, regardless of whether it was on or off before.\n",
    "    * Otherwise, the cell becomes off in the next timestep.\n",
    "\n",
    "The eight neighbours of a cell look like this:\n",
    "\n",
    "<img src=\"imgs/moore.png\" width=\"200px\">"
   ]
  },
  {
   "cell_type": "markdown",
   "metadata": {},
   "source": [
    "### The rule\n",
    "#### Still Lifes\n",
    "The Game of Life rule has very interesting properties. Some arrangements of cells (\"patterns\") are **stable** and never change, like 4 on cells in a 2x2 grid, surrounded by all off cells.\n",
    "\n",
    "    0 0 0 0\n",
    "    0 1 1 0\n",
    "    0 1 1 0\n",
    "    0 0 0 0\n",
    "\n",
    "<img src=\"imgs/block.png\">\n",
    "\n",
    "These are called **still lifes**.\n",
    "\n",
    "#### Oscillators\n",
    "Other patterns continuously oscillate between two states, like 3 cells in a line:"
   ]
  },
  {
   "cell_type": "markdown",
   "metadata": {},
   "source": [
    "    0 0 0 0 0\n",
    "    0 1 1 1 0\n",
    "    0 0 0 0 0\n",
    "    \n",
    "<img src=\"imgs/blinker.gif\">"
   ]
  },
  {
   "cell_type": "markdown",
   "metadata": {},
   "source": [
    "Patterns like these are called **oscillators**\n",
    "\n",
    "#### Spaceships\n",
    "Remarkably, there are discrete equivalents of *waves* in this simulation; patterns which appear to move across empty space.\n",
    "\n",
    "       0 0 0 0 0\n",
    "       0 1 1 1 0\n",
    "       0 1 0 0 0\n",
    "       0 0 1 0 0\n",
    "       0 0 0 0 0"
   ]
  },
  {
   "cell_type": "markdown",
   "metadata": {},
   "source": [
    "<img src=\"imgs/glider.gif\">\n",
    "\n",
    "These are called **spaceships** and are much, much rarer than any of the other patterns we have seen so far.\n",
    "\n",
    "------\n",
    "\n",
    "\n"
   ]
  },
  {
   "cell_type": "markdown",
   "metadata": {},
   "source": [
    "### Task\n",
    "The Game of Life is very easy to represent as a big numerical array, each element of the array corresponding to a cell. Your task is to implement the Game of Life using arrays.\n",
    "#### next_generation()\n",
    "You need to write a function `next_generation(cells)`, which given a numerical array `cells` consisting of 0s and 1s, returns a new array of 0s and 1s obeying the Game of Life rules. \n",
    "\n",
    "You can use `show_image(cells)` to show the output array. Test your function on the  block and blinker examples before going further.\n",
    "\n",
    "Then, write a function `simulate(cells, n)` which will apply `next_generation` `n` times to the `cells`, and show an animation of the process by redrawing the image on each generation."
   ]
  },
  {
   "cell_type": "markdown",
   "metadata": {},
   "source": [
    "You can use `update_image(cells)` to update a drawing without creating a completely new image for each update; this lets you show an *animation* as `simulate()` runs. Note that you **must** call `show_image()` the first time you draw the image (to create a new blank figure canvas), and call `update_image()` to update the figure."
   ]
  },
  {
   "cell_type": "markdown",
   "metadata": {},
   "source": [
    "#### Correct simulation\n",
    "**Note**: to get the simulation correct, you need create a new array and copy the values in. If you try and modify the cells in place, you will get completely incorrect behaviour (unless you are very clever with the array ops!).\n",
    "\n",
    "#### Shape\n",
    "Keep the shape of `cells` the same on each application of `next_generation()`. Note that you will have to do something at the edges of the array, where there aren't a full set of neighbour cells (e.g. what is top left of the the top left cell?). \n",
    "\n",
    "#### Wrapping at the edges\n",
    "A common solution is just to assume that the array \"wraps around\" at the edges (e.g. that the leftmost element is next to the rightmost element). This is very easy to implement using the % operator, which allows you to force a value to lie within a certain range; see the example below to see why:"
   ]
  },
  {
   "cell_type": "code",
   "execution_count": 20,
   "metadata": {},
   "outputs": [],
   "source": [
    "# forwards:\n",
    "for i in range(12):\n",
    "    print(i, i % 5, \" \", end=' ')\n",
    "print()\n",
    "\n",
    "# backwards\n",
    "for i in range(0,-12,-1):\n",
    "    print(i, i % 5, \" \", end=' ')"
   ]
  },
  {
   "cell_type": "markdown",
   "metadata": {},
   "source": [
    "### Test patterns\n",
    "There are some test patterns provided for you. `load_pattern(name, padding)` returns a 2D array with the given pattern, with `padding` 0 (off) cells around it. You can check that this is just a standard Numpy array. \n",
    "The padding argument allows you to get an array with enough room for a pattern to \"grow\".\n",
    "\n",
    "These patterns include:\n",
    "* `block` the 2x2 pattern above, which should not change\n",
    "* `blinker` the 3x1 pattern above, which should switch between vertical and horizontal\n",
    "* `glider` the spaceship above, which should move up and to the right.\n",
    "\n",
    "There are many more."
   ]
  },
  {
   "cell_type": "code",
   "execution_count": 21,
   "metadata": {},
   "outputs": [],
   "source": [
    "import lifeparsers\n",
    "\n",
    "# load the block\n",
    "block = lifeparsers.load_life(\"life/block.l\")\n",
    "show_image(block)\n",
    "\n",
    "# load the blinker\n",
    "blinker = lifeparsers.load_life(\"life/blinker.l\")\n",
    "show_image(blinker)\n",
    "\n",
    "# load the glider (with some extra padding)\n",
    "glider = lifeparsers.load_life(\"life/glider.l\", padding=4)\n",
    "show_image(glider)"
   ]
  },
  {
   "cell_type": "code",
   "execution_count": 22,
   "metadata": {},
   "outputs": [],
   "source": [
    "# Solution goes here"
   ]
  },
  {
   "cell_type": "markdown",
   "metadata": {},
   "source": [
    "##### Question: what does the pattern \"rake.l\" do?\n",
    "If you've implemented `simulate()` correctly, the following will work:"
   ]
  },
  {
   "cell_type": "code",
   "execution_count": 23,
   "metadata": {},
   "outputs": [],
   "source": [
    "rake = lifeparsers.load_life(\"life/rake.l\", padding=20)\n",
    "simulate(rake, 200)"
   ]
  },
  {
   "cell_type": "code",
   "execution_count": 24,
   "metadata": {
    "lines_to_next_cell": 0
   },
   "outputs": [],
   "source": [
    "mystery = np.rot90(lifeparsers.load_life(\"life/schick.l\", padding=30))\n",
    "simulate(mystery, 60)"
   ]
  },
  {
   "cell_type": "markdown",
   "metadata": {},
   "source": [
    "Despite the extremely simple rules, patterns in the Game of Life have an enormous diversity of behavior, with strange and intricate constructions like **puffer trains**, **rakes**, **breeders**, **Herschel tracks** and **guns**. It has been shown to be possible to create patterns which copy themselves (reproduce), although these are extremely complex.\n",
    "\n",
    "It is even possible to implement a complete working computer as a pattern in the Game of Life -- a computer fabricated from cells which can compute anything a \"real world\" computer can (but extraordinarly slowly). "
   ]
  },
  {
   "cell_type": "markdown",
   "metadata": {},
   "source": [
    "# C: Extended problems\n",
    "<div class=\"alert alert-box alert-danger\">\n",
    "    \n",
    "These *extended* problems are optional for students who are keen to learn more. If you've\n",
    "finished the whole lab and want to explore these ideas in more depth, these problems and resources are intended to help you do that. You do not need to attempt any of this section to receive a tick! \n",
    "</div>"
   ]
  },
  {
   "cell_type": "markdown",
   "metadata": {},
   "source": [
    "## C.1 Boids\n",
    "Fair warning: this is a hard problem. It is acheivable, but only attempt it if you are both enthusaistic and very comfortable with the array operations we have seen so far.\n",
    "\n",
    "Extend the fireworks code to implement the *boids* animation algorithm explained at http://www.vergenet.net/~conrad/boids/pseudocode.html\n",
    "(a high level explanation can be read at https://cs.stanford.edu/people/eroberts/courses/soco/projects/2008-09/modeling-natural-systems/boids.html)\n",
    "\n",
    "This models the \"flocking\" behaviour of birds. It is widely used in computer animation. For example, the motion of the famous wildebeest stampede scene in the Lion King was computed with a modified Boids algorithm.\n",
    "\n",
    "Represents your boids as a single Numpy array. Use columns to represent x,y,dx,dy, and any other per-boid values you need.\n",
    "\n",
    "Use the `plot_array` from the fireworks example to plot your results. I recommend calling `plt.clf()` before each `plot_array()`  to clear the drawing each time (otherwise you will run into slowdowns, and you'll have a big trail behind all of your Boids).\n",
    "\n",
    "Start with a simple 2D model of the Boids. You can implement a 3D model as well, but you will need to be able to project it onto 2D to draw it!\n"
   ]
  },
  {
   "cell_type": "markdown",
   "metadata": {},
   "source": [
    "## C.2 Drum sounds\n",
    "1D arrays can be used to represent sounds. In this task, you will implement a digital drum machine using only simple mathematical functions.\n",
    "<img src=\"imgs/tr808.jpg\">\n",
    "\n",
    "*Image credit: By Eriq at Dutch Wikipedia, CC BY-SA 3.0, https://commons.wikimedia.org/w/index.php?curid=38020306*"
   ]
  },
  {
   "cell_type": "markdown",
   "metadata": {},
   "source": [
    "A pure tone is a *sine wave*. A sine wave can be computed by taking the `sin()` of an increasing number (e.g. generated by linspace)"
   ]
  },
  {
   "cell_type": "code",
   "execution_count": 26,
   "metadata": {},
   "outputs": [],
   "source": [
    "# Warning: loud bass!\n",
    "# 10000 = 10000 samples = ~1/4 second of sound (44100 samples/second)\n",
    "tone = np.sin(np.linspace(0,100,10000))\n",
    "play_sound(tone)"
   ]
  },
  {
   "cell_type": "markdown",
   "metadata": {},
   "source": [
    "Different volume can be achieved by scaling the tone, and different pitches by scaling the value *inside* the np.sin()"
   ]
  },
  {
   "cell_type": "code",
   "execution_count": 27,
   "metadata": {},
   "outputs": [],
   "source": [
    "# multiply *outside* the sine (try changing the 0.2)\n",
    "quiet_tone = np.sin(np.linspace(0,100,10000))*0.2\n",
    "play_sound(quiet_tone)"
   ]
  },
  {
   "cell_type": "code",
   "execution_count": 28,
   "metadata": {},
   "outputs": [],
   "source": [
    "# multiply *inside* the sine (try changing the 4)\n",
    "high_tone = np.sin(np.linspace(0,100,10000)*4)\n",
    "play_sound(high_tone) # loud!"
   ]
  },
  {
   "cell_type": "markdown",
   "metadata": {},
   "source": [
    "## Task\n",
    "Work out how to make a kick drum sound. My kick sounds like this:\n",
    "\n",
    "<audio controls=\"controls\">  <source src=\"imgs/kick.wav\"  type=\"audio/wav\">  </audio>\n",
    "\n",
    "A kick drum decreases in pitch and volume over time. *An exponentially decaying function is particularly useful here.*"
   ]
  },
  {
   "cell_type": "code",
   "execution_count": null,
   "metadata": {},
   "outputs": [],
   "source": [
    "# an exponentially decaying function\n",
    "# this can be used to vary volume over time\n",
    "a = np.linspace(0,10,200)\n",
    "plt.plot(a, np.exp(-a))"
   ]
  },
  {
   "cell_type": "markdown",
   "metadata": {},
   "source": [
    "You can distort sounds using `np.tanh()`, as shown below. Use this to improve your drum sound."
   ]
  },
  {
   "cell_type": "code",
   "execution_count": null,
   "metadata": {},
   "outputs": [],
   "source": [
    "tone = np.sin(np.linspace(0,100,10000))\n",
    "# note we scale up the array *inside* the tanh() and then scale it down again\n",
    "play_sound(np.tanh(tone*10)*0.5)"
   ]
  },
  {
   "cell_type": "code",
   "execution_count": null,
   "metadata": {},
   "outputs": [],
   "source": [
    "# Solution goes here"
   ]
  },
  {
   "cell_type": "markdown",
   "metadata": {},
   "source": [
    "## Task 2\n",
    "Now observe that random numbers sound like noise:"
   ]
  },
  {
   "cell_type": "code",
   "execution_count": null,
   "metadata": {},
   "outputs": [],
   "source": [
    "noise = np.random.uniform(-1,1,10000)*0.2\n",
    "play_sound(noise)"
   ]
  },
  {
   "cell_type": "markdown",
   "metadata": {},
   "source": [
    "Implement a hihat drum sound. Create a long and a short hihat.\n",
    "\n",
    "<audio controls=\"controls\">  <source src=\"imgs/hat.wav\" type=\"audio/wav\">  </audio>\n",
    "\n",
    "<audio controls=\"controls\">  <source src=\"imgs/long_hat.wav\" type=\"audio/wav\">  </audio>\n"
   ]
  },
  {
   "cell_type": "code",
   "execution_count": null,
   "metadata": {},
   "outputs": [],
   "source": [
    "# Solution goes here"
   ]
  },
  {
   "cell_type": "code",
   "execution_count": null,
   "metadata": {},
   "outputs": [],
   "source": [
    "# Solution goes here"
   ]
  },
  {
   "cell_type": "markdown",
   "metadata": {},
   "source": [
    "Finally, assemble your sounds into a beat by concatenating together your drum sounds. You will need to pad your sounds with zeros such that they are all the same length if you don't want the timing to be horrible!\n",
    "<audio controls=\"controls\">  <source src=\"imgs/beat.wav\" type=\"audio/wav\">  </audio>\n"
   ]
  },
  {
   "cell_type": "code",
   "execution_count": null,
   "metadata": {
    "lines_to_next_cell": 0
   },
   "outputs": [],
   "source": [
    "# Solution goes here"
   ]
  },
  {
   "cell_type": "markdown",
   "metadata": {},
   "source": []
  }
 ],
 "metadata": {
  "jupytext": {
   "text_representation": {
    "format_version": "1.0"
   }
  },
  "kernelspec": {
   "display_name": "Python 3",
   "language": "python",
   "name": "python3"
  },
  "language_info": {
   "codemirror_mode": {
    "name": "ipython",
    "version": 3
   },
   "file_extension": ".py",
   "mimetype": "text/x-python",
   "name": "python",
   "nbconvert_exporter": "python",
   "pygments_lexer": "ipython3",
   "version": "3.7.1"
  },
  "toc": {
   "base_numbering": 1,
   "nav_menu": {},
   "number_sections": true,
   "sideBar": true,
   "skip_h1_title": false,
   "title_cell": "Table of Contents",
   "title_sidebar": "Contents",
   "toc_cell": false,
   "toc_position": {},
   "toc_section_display": true,
   "toc_window_display": false
  },
  "varInspector": {
   "cols": {
    "lenName": 16,
    "lenType": 16,
    "lenVar": 40
   },
   "kernels_config": {
    "python": {
     "delete_cmd_postfix": "",
     "delete_cmd_prefix": "del ",
     "library": "var_list.py",
     "varRefreshCmd": "print(var_dic_list())"
    },
    "r": {
     "delete_cmd_postfix": ") ",
     "delete_cmd_prefix": "rm(",
     "library": "var_list.r",
     "varRefreshCmd": "cat(var_dic_list()) "
    }
   },
   "types_to_exclude": [
    "module",
    "function",
    "builtin_function_or_method",
    "instance",
    "_Feature"
   ],
   "window_display": false
  }
 },
 "nbformat": 4,
 "nbformat_minor": 2
}
