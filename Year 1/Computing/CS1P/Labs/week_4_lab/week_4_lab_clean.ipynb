{
 "cells": [
  {
   "cell_type": "markdown",
   "metadata": {},
   "source": [
    "# Week 4 : Lab \n",
    " ## Data structures: Lists, sorting and tuples\n",
    " ##### CS1P - University of Glasgow - John H. Williamson - 2019/2020 -- Python 3.x"
   ]
  },
  {
   "cell_type": "markdown",
   "metadata": {},
   "source": [
    "\n",
    "## Lab exercise\n",
    "\n",
    "**You must submit a reasonble attempt at this exercise to gain a tick for this work**.\n",
    "\n",
    "<font color=\"red\"> Remember to save your work frequently! </font>\n"
   ]
  },
  {
   "cell_type": "markdown",
   "metadata": {},
   "source": [
    "\n",
    "## Purpose of this lab\n",
    "\n",
    "This lab will get you up to speed on using lists in Python programs, including joining lists, removing and adding elements, copying lists, sorting and shuffling. You will need to synthesise the ideas from the lecture into some  larger problems.\n",
    "\n"
   ]
  },
  {
   "cell_type": "markdown",
   "metadata": {},
   "source": [
    "## Before the lab\n",
    "* Attempt at least the A exercises.\n",
    "\n",
    "### If you're confused about tuples:\n",
    "* Read the blog article [lists versus tuples](http://nedbatchelder.com/blog/201608/lists_vs_tuples.html) by Ned Batchelder.\n"
   ]
  },
  {
   "cell_type": "code",
   "execution_count": 3,
   "metadata": {},
   "outputs": [],
   "source": [
    "from utils.tick import tick"
   ]
  },
  {
   "cell_type": "markdown",
   "metadata": {},
   "source": [
    "## A: Quick problems\n",
    "These should take around 5 minutes each."
   ]
  },
  {
   "cell_type": "markdown",
   "metadata": {},
   "source": [
    "### A.1 Simple list operations\n",
    "You are given three lists `x,y,z`.\n",
    "\n",
    "Write code that will:\n",
    "* join the lists into one list in the order `z,x,y`, \n",
    "* *then* remove the 3rd element of this new list.\n",
    "* and store the result in a variable `zxy`. \n",
    "* then create a *copy* of `zxy` and call it `zxy_copy`. \n",
    "* Append the string `\"in the sunshine\"` to the end of `zxy_copy`."
   ]
  },
  {
   "cell_type": "code",
   "execution_count": 67,
   "metadata": {},
   "outputs": [],
   "source": [
    "# These are the lists you are given\n",
    "x = [1,2,3]\n",
    "y = [0,0,0]\n",
    "z = [1,9,6,9]"
   ]
  },
  {
   "cell_type": "code",
   "execution_count": 68,
   "metadata": {},
   "outputs": [],
   "source": [
    "# Solution goes here"
   ]
  },
  {
   "cell_type": "code",
   "execution_count": 69,
   "metadata": {},
   "outputs": [],
   "source": [
    "## Test (make sure your variable is called zxy!)\n",
    "with tick():\n",
    "    assert zxy == [1, 9, 9, 1, 2, 3, 0, 0, 0]\n",
    "    assert zxy_copy == [1, 9, 9, 1, 2, 3, 0, 0, 0, \"in the sunshine\"]\n",
    "    assert zxy is not zxy_copy"
   ]
  },
  {
   "cell_type": "markdown",
   "metadata": {},
   "source": [
    "### A.2 Colours\n",
    "**Without using a loop**, using the following definition of **colours**, define variables that compute the following via *list slicing or indexing*:\n",
    "\n",
    "1. `first` The first element of  `colours` (this one is provided for you)\n",
    "1. `last` The last element of `colours`\n",
    "1. `even` Every even element of `colours` (i.e. elements with even indices)\n",
    "1. `odd` Every odd element of `colours`\n",
    "1. `three_six` The third to the sixth element of `colours`, inclusive \n",
    "1. `last_five` The last five elements of colours\n",
    "1. `rev_third` Every third element of the first eight elements of `colours`, in reverse order (starting with the eighth element).\n"
   ]
  },
  {
   "cell_type": "code",
   "execution_count": 71,
   "metadata": {},
   "outputs": [],
   "source": [
    "colours = [\"red\", \"black\", \"orange\", \"yellow\", \n",
    "           \"blue\", \"cyan\", \"green\", \"purple\", \"gray\", \"white\"]"
   ]
  },
  {
   "cell_type": "code",
   "execution_count": 72,
   "metadata": {},
   "outputs": [],
   "source": [
    "first = colours[0]\n",
    "# last = ..."
   ]
  },
  {
   "cell_type": "code",
   "execution_count": 75,
   "metadata": {},
   "outputs": [],
   "source": [
    "# Solution goes here"
   ]
  },
  {
   "cell_type": "code",
   "execution_count": 74,
   "metadata": {},
   "outputs": [],
   "source": [
    "with tick():\n",
    "    assert first == 'red'\n",
    "    assert last == 'white'\n",
    "    assert even == ['red', 'orange', 'blue', 'green', 'gray']\n",
    "    assert odd == ['black', 'yellow', 'cyan', 'purple', 'white']\n",
    "    assert three_six == ['orange', 'yellow', 'blue', 'cyan']\n",
    "    assert last_five == ['cyan', 'green', 'purple', 'gray', 'white']\n",
    "    assert rev_third == ['purple', 'blue', 'black']"
   ]
  },
  {
   "cell_type": "markdown",
   "metadata": {},
   "source": []
  },
  {
   "cell_type": "markdown",
   "metadata": {},
   "source": [
    "### A.3 Joining and removing\n",
    "Write a function `unique_elts()` that takes two lists, and returns a new list with the elements that appeared in *only one of the lists* (i.e. remove items that appeared in both lists).\n",
    "\n",
    "Remember you can do membership tests using `in`."
   ]
  },
  {
   "cell_type": "code",
   "execution_count": 77,
   "metadata": {},
   "outputs": [],
   "source": [
    "# Solution goes here"
   ]
  },
  {
   "cell_type": "code",
   "execution_count": 78,
   "metadata": {},
   "outputs": [],
   "source": [
    "## Tests\n",
    "## If you run this cell, it should print \"All OK\"\n",
    "## Otherwise, you'll see which of the lines caused the problem\n",
    "with tick():\n",
    "    assert unique_elts([1, 2, 3], [2, 3]) == [1]\n",
    "    assert unique_elts([\"five\"], [\"five\"]) == []\n",
    "    assert unique_elts([], [1, 2, 3]) == [1, 2, 3]\n",
    "    assert unique_elts([\"a\", \"b\", \"c\"], [1, 2, 3]) == [\"a\", \"b\", \"c\", 1, 2, 3]"
   ]
  },
  {
   "cell_type": "markdown",
   "metadata": {},
   "source": [
    "### A.4 Nesting\n",
    "Write a function `nest(x,n)` which takes a value `x` and a number `n` and puts the value `x` inside a list, then puts that list inside a list, and so on, up to `n` levels, for any non-negative `n`. Putting one list inside another is called **nesting**.\n",
    "\n",
    "For example:\n",
    "\n",
    "    nest(\"hello\", 0)  = \"hello\"     # n=0 does nothing\n",
    "    nest(\"hello\", 1)  = [\"hello\"]   # n=1 puts it in a list\n",
    "    nest(\"hello\", 4)  = [[[[\"hello\"]]]] # n=4 puts inside a list inside a list inside ...\n",
    "        "
   ]
  },
  {
   "cell_type": "code",
   "execution_count": 79,
   "metadata": {},
   "outputs": [],
   "source": [
    "# Solution goes here"
   ]
  },
  {
   "cell_type": "code",
   "execution_count": 80,
   "metadata": {},
   "outputs": [],
   "source": [
    "## Tests\n",
    "with tick():\n",
    "    assert nest(\"hello\", 0) == \"hello\"\n",
    "    assert nest(\"hello\", 1) == [\"hello\"]\n",
    "    assert nest(\"hello\", 5) == [[[[[\"hello\"]]]]]"
   ]
  },
  {
   "cell_type": "markdown",
   "metadata": {},
   "source": [
    "## A.4 (b)\n",
    "Copy the function above in the cell below, and extend your `nest` function to *also* take *negative* values. If a negative value is provided, the value should be *unnested* one level (you may assume the list contains only one item). If a positive value is provided `nest` should work as before.\n",
    "\n",
    "\n",
    "    nest([[\"hello\"]], -2) = \"hello\" # remove two levels\n",
    "    nest([[\"hello\"]], -1) = [\"hello\"] # remove one level\n",
    "    nest(\"hello\", 0)  = \"hello\"     # n=0 does nothing\n",
    "    nest(\"hello\", 1)  = [\"hello\"]   # n=1 puts it in a list\n",
    "    nest(\"hello\", 4)  = [[[[\"hello\"]]]] # n=4 puts inside a list inside a list inside ...\n"
   ]
  },
  {
   "cell_type": "code",
   "execution_count": 4,
   "metadata": {},
   "outputs": [],
   "source": [
    "# Solution goes here"
   ]
  },
  {
   "cell_type": "code",
   "execution_count": 5,
   "metadata": {},
   "outputs": [],
   "source": [
    "## Tests\n",
    "with tick():\n",
    "    assert nest([[[\"hello\"]]], -3) == \"hello\"\n",
    "    assert nest([[[\"hello\"]]], -1) == [[\"hello\"]]\n",
    "    assert nest([\"hello\"], -1) == \"hello\"\n",
    "    assert nest(\"hello\", 0) == \"hello\"\n",
    "    assert nest(\"hello\", 1) == [\"hello\"]\n",
    "    assert nest(\"hello\", 5) == [[[[[\"hello\"]]]]]"
   ]
  },
  {
   "cell_type": "markdown",
   "metadata": {},
   "source": [
    "### A.5 Adding the length\n",
    "Write a function `add_length(l)` which takes a list `l` and then appends the length of the list as the last element. **Don't use a return statement to return the list**. \n",
    "\n",
    "Think about what being able to change a list **in place** means about transferring values from functions back into the calling code.\n",
    "\n",
    "Check that your function does what you think it does.\n"
   ]
  },
  {
   "cell_type": "code",
   "execution_count": 81,
   "metadata": {},
   "outputs": [],
   "source": [
    "# Solution goes here"
   ]
  },
  {
   "cell_type": "code",
   "execution_count": 82,
   "metadata": {},
   "outputs": [],
   "source": [
    "# this will work.\n",
    "x = [\"a\", \"b\", \"c\"]\n",
    "add_length(x)\n",
    "print(x)\n",
    "\n",
    "# Question: why doesn't this work?\n",
    "print(add_length([1,2,3]))"
   ]
  },
  {
   "cell_type": "code",
   "execution_count": 83,
   "metadata": {},
   "outputs": [],
   "source": [
    "## Tests\n",
    "with tick():\n",
    "    l = [1, 2, 3]\n",
    "    assert add_length(l) == None\n",
    "    assert l == [1, 2, 3, 3]\n",
    "    add_length(l)\n",
    "    assert l == [1, 2, 3, 3, 4]\n",
    "    l = []\n",
    "    add_length(l)\n",
    "    assert l == [0]"
   ]
  },
  {
   "cell_type": "markdown",
   "metadata": {},
   "source": [
    "## A.6 Queues\n",
    "The following code creates four functions that generate fragments of sentences when they are called. However, each time they are called, they may or may not produce another fragment, randomly. \n",
    "\n",
    "An attempt has been made to join these into a coherent sentence by joining strings together but it does not work properly and generates random incomplete fragments, like below:\n",
    "\n",
    "        sank.\n",
    "\n",
    "        expired.\n",
    "        A smooth flopped.\n",
    "        The sank.\n",
    "        A howling froze.\n",
    "        A guarded railed.\n",
    "        A ball\n",
    "        A minister expired.\n",
    "        smooth clown\n",
    "\n",
    "Write a function `assemble_sentence()` that uses **four queues, held inside another list** that will reconstruct sentences in a readable order. Every call to the function should return one completed sentence.\n",
    "\n",
    "The following, incorrect, solution is provided as a basis.\n",
    "\n"
   ]
  },
  {
   "cell_type": "code",
   "execution_count": 117,
   "metadata": {},
   "outputs": [],
   "source": [
    "# Do not modify this code\n",
    "# which creates the sentence generators\n",
    "import random\n",
    "\n",
    "def mk_generator(messages):    \n",
    "    def new_word():        \n",
    "        if random.random()<0.5:\n",
    "            return random.choice(messages)\n",
    "    return new_word\n",
    "    \n",
    "generators = [mk_generator([\"The\", \"A\"]), \n",
    "              mk_generator([\"large\", \"howling\", \"smooth\", \"guarded\", \"monstrous\", \"viable\"]),\n",
    "              mk_generator([\"clown\", \"minister\", \"ball\", \"tooth\", \"wall\", \"cloth\"]),\n",
    "              mk_generator( [\"froze.\", \"sank.\", \"ran.\", \"failed.\", \"flopped.\", \"railed.\", \"expired.\"])]"
   ]
  },
  {
   "cell_type": "code",
   "execution_count": 118,
   "metadata": {},
   "outputs": [],
   "source": [
    "# Correct and modify this code to use four queues\n",
    "# This version doesn't work right. It generates \n",
    "# partial sentence fragments\n",
    "def assemble_sentence(generators):                \n",
    "        result = []        \n",
    "        for i in range(4):\n",
    "            fragment = generators[i]()            \n",
    "            if fragment is not None:\n",
    "                result.append(fragment)\n",
    "                \n",
    "        # joins together the strings in a list\n",
    "        # into one string\n",
    "        return  \" \".join(result)\n",
    "\n",
    "random.seed(2019)\n",
    "for i in range(10):\n",
    "    print(assemble_sentence(generators))"
   ]
  },
  {
   "cell_type": "code",
   "execution_count": 119,
   "metadata": {},
   "outputs": [],
   "source": [
    "# Solution goes here"
   ]
  },
  {
   "cell_type": "code",
   "execution_count": 120,
   "metadata": {},
   "outputs": [],
   "source": [
    "with tick():\n",
    "    for i in range(10):\n",
    "        sentence = assemble_sentence(generators)\n",
    "        assert sentence[0]==sentence[0].upper()\n",
    "        assert sentence[-1]=='.'\n",
    "        assert len(sentence.split())==4\n"
   ]
  },
  {
   "cell_type": "markdown",
   "metadata": {},
   "source": [
    "--------------\n",
    "## B: List Problems\n",
    "These should take 30-45 minutes each.\n",
    "\n",
    "### A slightly dodgy new startup: <font color=\"green\"> myshopfastr.com </font>\n",
    "You're writing an app to help people shop more efficiently in the supermarket (for people who still go to physical shops).\n",
    "There are several bits of functionality to implement: the ability to search for items easily (e.g. `celery` might return `Sainsbury's Organic Celery 100g, ...`) and the ability to show the user results as a list of options:\n",
    "\n",
    "     Name                       Price  Weight Price/100g Aisle\n",
    "     ----------------------------------------------------------\n",
    "     Sainsbury's Organic Celery 100g, £2.99, 100g, £0.30, B3\n",
    "     Sainsbury's Celery 100g, £1.99, 100g, £0.20, A1\n",
    "     Sainsbury's Basic Celery 50g, £0.39, 50g, £0.08, A1\n",
    "     Sainsbury's Extremely Basic Celery, £0.10, 50g, £0.02, A4     \n",
    "     ...\n",
    "     \n",
    "\n",
    "Once you have this working, you also need to convince investors that your design choices are making the app better.     \n",
    "\n",
    "-------------     "
   ]
  },
  {
   "cell_type": "markdown",
   "metadata": {},
   "source": [
    "### B.1: Stopping and stemming\n",
    "Search engines like Google often need to \"clean up\" search queries (the query is the thing you type into a search box) before trying to find terms (words) in documents. The same idea applies to online shopping. Queries might come in like \"I want celery please\". This should be trimmed down to just \"celery\" to do the searching against products.\n",
    "\n",
    "For example `\"what is the fastest python list iterator\"` might be transformed into keywords `[\"python\", \"list\", \"fast\", \"iterator\"]`. In our shopping example, we'd like users who think the computer is a person and type in things like `find me the apples` to be transformed to `[\"apple\"]`, removing the extraneous parts of the search query.\n",
    "\n",
    "There are two parts to this: \n",
    "* **stopword** removal, which removes short, uninformative words like \"the\" and \"and\"; \n",
    "* and **stemming** which removes common endings like \"ing\" and \"s\" to find the basic form of a word. Here we'll \"stem\" by just chopping off any bits of words that match common endings.\n",
    "\n",
    "For this problem, you need to write a bit of code to first remove **stopwords** and then **stem** the remaining words. Try getting the stopword removal working first, then go on to the stemming.\n",
    "\n",
    "Steps:\n",
    "1. Create your *own list* of common stop words (e.g. [\"and\", \"to\", \"the\", ...]). Stuck? You can use some or all of [this list](https://www.ranks.nl/stopwords)\n",
    "2. Create your *own list* of common English endings (e.g. [\"ing\", \"ings\", \"s\", \"er\", \"tion\"]). Can't think of any? [this list](https://www.thoughtco.com/common-suffixes-in-english-1692725) has some you could include (they might not all be suitable).\n",
    "3. Get user input with `input()`.\n",
    "4. Split the input into words. You can use `my_string.split()` to split a string `my_list` up into a list of individual words, splitting by spaces. (see the example below)\n",
    "5. Remove all of the words in the stopwords from the user input.\n",
    "6. For each word, test if the word ends in one of the common endings, and if it does, remove the ending.  (see the example below on how to use `.endswith()`)\n",
    "7. Print out the cleaned up search terms.\n",
    "\n",
    "Note that you can use `.endswith()` on a string to test if the string ends with those characters. You can join a list of strings back together using `join()`, but the syntax is slightly unexpected: see below for how to use it.\n",
    "\n",
    "**Note that the rules to make stemming really work well for English are annoyingly complicated. Don't worry if your simple stemmer doesn't do a very sensible job (e.g. \"Sting\" becomes \"St\"!)**\n",
    "\n",
    "Read the  code examples below to see how to use the string functions mentioned above."
   ]
  },
  {
   "cell_type": "code",
   "execution_count": 19,
   "metadata": {},
   "outputs": [],
   "source": [
    "# an endswith() example\n",
    "# simply returns True if the string ends with the given string\n",
    "# unsuprisingly, there is a .startswith() as well.\n",
    "print(\"running\".endswith(\"ing\"))\n",
    "print(\"running\".endswith(\"tion\"))"
   ]
  },
  {
   "cell_type": "code",
   "execution_count": 20,
   "metadata": {},
   "outputs": [],
   "source": [
    "# how split() can be used to split a string up\n",
    "# you can actually tell split what you want to use a separator \n",
    "# between items (called *tokens*)\n",
    "# if you don't give one, it defaults to spaces\n",
    "print(\"this is a test\".split())"
   ]
  },
  {
   "cell_type": "code",
   "execution_count": 21,
   "metadata": {},
   "outputs": [],
   "source": [
    "# using join()\n",
    "# this joins each word with a space inbetween\n",
    "print(\" \".join([\"one\", \"two\", \"three\"]))"
   ]
  },
  {
   "cell_type": "code",
   "execution_count": 22,
   "metadata": {},
   "outputs": [],
   "source": [
    "# you can use any string to go in between\n",
    "# but note that you call join() as a method of the\n",
    "# the string you want to use as the separator, and pass\n",
    "# the list to join as an argument\n",
    "print(\"<->\".join([\"a\", \"b\", \"c\"]))"
   ]
  },
  {
   "cell_type": "code",
   "execution_count": 23,
   "metadata": {},
   "outputs": [],
   "source": [
    "# Solution goes here"
   ]
  },
  {
   "cell_type": "markdown",
   "metadata": {},
   "source": [
    "## Tests\n",
    "The output you get will depend on what words you included in your `stopwords` list, and what stems you listed in the `stems` list.\n",
    "\n",
    "For example, I'd expect\n",
    "      \n",
    "      where are the cheeses\n",
    "to become\n",
    "      \n",
    "      cheese\n",
    "      \n",
    "and \n",
    "\n",
    "    for shoe polishing \n",
    "to become\n",
    "\n",
    "    shoe polish"
   ]
  },
  {
   "cell_type": "markdown",
   "metadata": {},
   "source": [
    "## Extension (OPTIONAL)\n",
    "\n",
    "Work out how to remove any punctuation and make the search case-insensitive.\n"
   ]
  },
  {
   "cell_type": "markdown",
   "metadata": {},
   "source": [
    "### B.2: Showing and sorting lists\n",
    "For <font color=\"green\"> myshopfastr.com </font>, the app has to display a list of items to the user on their phone. Each item has multiple attributes, like price, weight, calories, and aisle position.\n",
    "\n",
    "Your task is \n",
    "* (a) create the **data structure** which holds this information \n",
    "* (b) be able to present this information flexibly; for example to show the items according to their price, or to order them by aisle to make checking them off as you go quicker.\n",
    "\n",
    "We'll store the information as a **list of lists**: e.g. we might have\n",
    "\n",
    "    product_data = [[\"Sainsbury's Organic Celery\", 2.99, 100, \"A1\"], \n",
    "                    [\"Sainsbury's Organic Peanut Butter\", 2.49, 100, \"C3\"],                    \n",
    "                    ...]\n",
    "\n",
    "*NB: in practice a real system would be likely to use a **database** to store and sort this kind of information, but it would typically be returned to the app code as a list-of-lists or a dictionary (which we haven't seen yet).*\n",
    "\n",
    "#### Using key()\n",
    "You can sort a lists-of-lists just like any other list. What Python will do by default is sort by the first element of the \"internal\" lists. Try this example:"
   ]
  },
  {
   "cell_type": "code",
   "execution_count": 121,
   "metadata": {},
   "outputs": [],
   "source": [
    "to_sort = [[\"b\", \"earth\"],  [\"c\", \"metal\"], \n",
    "           [\"a\", \"fire\"],   [\"d\", \"air\"]]\n",
    "\n",
    "# note that we will sort by the alphabetical order of the \n",
    "# *first* element of the inner list\n",
    "print(sorted(to_sort))"
   ]
  },
  {
   "cell_type": "markdown",
   "metadata": {},
   "source": [
    "## Function arguments\n",
    "But we need to able to sort by different attributes (e.g. by price or by aisle number). Python provides a parameter called `key` to tell `.sort()` or `sorted()` which element of the list to look at.\n",
    "\n",
    "`key` takes a **function parameter** which transforms the element before it is used to check the sort order. The `key` function will be applied to every element of the list in turn, and the result will be used to determine the order of the list returned.\n",
    "\n",
    "For example, we can make Python look at the second element of a list:"
   ]
  },
  {
   "cell_type": "code",
   "execution_count": 122,
   "metadata": {},
   "outputs": [],
   "source": [
    "def first_elt(l):    \n",
    "    return l[0]\n",
    "\n",
    "def second_elt(l):\n",
    "    # remember that [1] means the *second* element.\n",
    "    return l[1]\n",
    "\n",
    "# sort by the first element in each sublist\n",
    "# this is the same as the default behaviour\n",
    "print(sorted(to_sort, key=first_elt))\n",
    "\n",
    "# now will be sorted by the ordering of the second element each sublist\n",
    "print(sorted(to_sort, key=second_elt))\n",
    "\n",
    "## we are passing a *function* as an argument here; this is completely fine in Python\n",
    "## Make sure you understand what is going on before attempting the next part"
   ]
  },
  {
   "cell_type": "markdown",
   "metadata": {},
   "source": [
    "## Lambda: $\\lambda$\n",
    "It is more convenient to write short, one off functions like this *in line*. There is some special syntax for this in Python. For historical reasons, it is called **lambda**. This just means to create a simple, anonymous (unnamed) function, which can appear in an expression.\n",
    "\n",
    "It has the syntax:\n",
    "\n",
    "`lambda <parameters>: <return value>`\n",
    "\n",
    "where `<parameters>` are a list of parameters just like in `def`, and `<return value>` is an expression which will be returned.\n"
   ]
  },
  {
   "cell_type": "code",
   "execution_count": 123,
   "metadata": {},
   "outputs": [],
   "source": [
    "# note: lambda x: means a function taking one parameter, x\n",
    "# the return value is everything after the :\n",
    "adder = lambda x: x+1  \n",
    "print(\"5+1\", adder(5))\n"
   ]
  },
  {
   "cell_type": "code",
   "execution_count": 124,
   "metadata": {},
   "outputs": [],
   "source": [
    "# you can have as many arguments as you wish, in the same way\n",
    "# they would be specified in a def (): statement\n",
    "adder_2 = lambda x, y: x + y\n",
    "print(\"5+10\", adder_2(5, 10))"
   ]
  },
  {
   "cell_type": "code",
   "execution_count": 37,
   "metadata": {},
   "outputs": [],
   "source": [
    "# for example, we can use this to select elements of a list when sorting\n",
    "# now will be sorted by the ordering of the second element each sublist\n",
    "## choose the second element as the key to sort on\n",
    "#\n",
    "# Note: the key is a function (anonymous function), which maps a list x\n",
    "# to the second element of x\n",
    "print(sorted(to_sort, key=lambda x: x[1]))"
   ]
  },
  {
   "cell_type": "markdown",
   "metadata": {},
   "source": [
    "## Task\n",
    "You are given a set of lists of product data (below). \n",
    "\n",
    "1. Calculate a new list `weight_price`, with the price-per-weight for each shopping item.\n",
    "\n",
    "1. Combine all of the lists of product data, including the new `weight_price` list, into a *single* list-of-lists `product_data` as described above.  The `weight_price` for each item should be the **last** item in each sublist (i.e. the last column of data).\n",
    "\n",
    "1. Write a function `sort_shopping(shopping_list, n)` that returns a sorted list of items, which takes a number `n` and sorts the products by that column (e.g. sorting with `n=0` would sort by product name, because the names are the first column).\n",
    "\n",
    "1. Write a function that outputs each entry in the list on a new line, with each  attribute separated with the string `\\t`. This will tabulate the list nicely. \n"
   ]
  },
  {
   "cell_type": "code",
   "execution_count": 27,
   "metadata": {},
   "outputs": [],
   "source": [
    "products = [\n",
    "    \"champagne\",\n",
    "    \"conditioner\",\n",
    "    \"hair wax\",\n",
    "    \"shoe polish\",\n",
    "    \"shower gel\",\n",
    "    \"basic celery\",\n",
    "]\n",
    "prices = [2.99, 2.99, 5.00, 2.99, 4.00, 1.00]\n",
    "aisles = [\"A1\", \"A2\", \"A2\", \"D4\", \"G3\", \"E1\"]\n",
    "weights = [800, 800, 200, 100, 50, 100]"
   ]
  },
  {
   "cell_type": "code",
   "execution_count": 125,
   "metadata": {},
   "outputs": [],
   "source": [
    "# Solution goes here"
   ]
  },
  {
   "cell_type": "code",
   "execution_count": 126,
   "metadata": {},
   "outputs": [],
   "source": [
    "print_shopping(sort_shopping(product_data, 1))"
   ]
  },
  {
   "cell_type": "markdown",
   "metadata": {},
   "source": [
    "## Tests\n",
    "`print_shopping(sort_shopping(product_data, 4))`  should give something like:\n",
    "\n",
    "    champagne\t2.99\tA1\t800\t0.0037375000000000004\t\n",
    "    conditioner\t2.99\tA2\t800\t0.0037375000000000004\t\n",
    "    hair wax\t5.0\t    A2\t200\t0.025\t\n",
    "    shoe polish\t2.99\tD4\t100\t0.029900000000000003\t\n",
    "    basic celery1.0\t    E1\t100\t0.01\t\n",
    "    shower gel\t4.0\t    G3\t50\t0.08\t\n",
    "    \n",
    "sorting by aisle\n",
    "    \n",
    "    \n",
    "`print_shopping(sort_shopping(product_data, 2))` should give something like:\n",
    "\n",
    "    basic celery\t1.0\t    E1\t100\t0.01\t\n",
    "    champagne\t    2.99\tA1\t800\t0.0037375000000000004\t\n",
    "    conditioner\t    2.99\tA2\t800\t0.0037375000000000004\t\n",
    "    shoe polish\t    2.99\tD4\t100\t0.029900000000000003\t\n",
    "    shower gel\t    4.0\t    G3\t50\t0.08\t\n",
    "    hair wax\t    5.0\t    A2\t200\t0.025\t\t\n",
    "    \n",
    "sorting by aisle position.\n",
    "\n",
    "**Optional** fix the formatting so that everything lines up properly, even if the product names are very short or long, and fix the price per weight so that it doesn't have horrible numbers of significant digits.\n",
    "\n"
   ]
  },
  {
   "cell_type": "markdown",
   "metadata": {},
   "source": [
    "### B.3: The bootstrap\n",
    "Now that you're ready to deploy your \"amazing\" app, you've released a few different beta versions to test which sorting option works best as a default. Each user has rated the app with 1-5 stars. You are also the data scientist for the company, so you need to work out which version is better.\n",
    "\n",
    "You have two big lists of the star ratings users gave. You want to know if \"Version A\" with sort-by-prices as default, or \"Version B\" with sort-by-aisle as default is going to be a bigger hit, or if it doesn't make any difference a tall. Those of you who have studied statistics will know specialized **statistical tests** that you can run to measure this. \n",
    "\n",
    "But there are simple tests you can do if you have a computer to do many repetitive calculations. We'll use a simple technique called the **bootstrap test** to see whether the two versions of the app are really different.\n",
    "\n",
    "### Task\n",
    "There are three steps to the bootstrap test:\n",
    "1. Take a list of responses (here, the star ratings), then make a new list by **randomly choosing** elements from the original responses.  Elements from the original list can appear many times in the random list. The new random list must be filled with these random choices up to the same length as the original list.\n",
    "1. Measure some function (called a `statistic`) of the new random list; here we'd like the **average** (arithmetic mean) rating of the app. \n",
    "1. Apply this random new list creation many times, computing the statistic (mean) of each one, and collecting together corresponding a list of the resulting statistics (means)."
   ]
  },
  {
   "cell_type": "markdown",
   "metadata": {
    "collapsed": true
   },
   "source": [
    "#### Coding steps\n",
    "To write your code:\n",
    "1. Write a function `mean(l)` computes the arithmetic mean of a list. This is our `statistic`.\n",
    "2. Write a function `random_draws(l)`, which creates a new list and fills it with random choices from the first list `l`. It should simply choose random elements from the input `l` and stuff them into a new list until the new list is the same size as the old list. The length of the random list should be the same length as the original list `l`. **Note that this is not a shuffle, because elements could appear multiple times in the new random list**. You can use `random.choice(l)` to select a random element from a list `l`. \n",
    "3. Write a function `bootstrap(l, n)` which calls `random_draws()` on the list `l` and then computes the mean of the random list. It should do this `n` times and stores the results of the mean calculations in a list of length `n`. There should therefore be `n` mean calculations involved.\n",
    "\n",
    "#### Tips\n",
    "Remember that to use functions from `random`,  it must be imported with\n",
    "\n",
    "    import random\n",
    "\n",
    "at the start of your solution.\n",
    "\n",
    "Then:\n",
    "    \n",
    "    random.choice(l)  # returns a random element of the list l\n",
    "\n",
    "The code below the solution will run `bootstrap()` on the results for A and B and plot them -- you should be able to see clearly whether there is a difference or not. Try with version C as well (e.g. compare A and C)"
   ]
  },
  {
   "cell_type": "code",
   "execution_count": 38,
   "metadata": {},
   "outputs": [],
   "source": [
    "# Solution goes here"
   ]
  },
  {
   "cell_type": "code",
   "execution_count": 39,
   "metadata": {},
   "outputs": [],
   "source": [
    "## This is the raw data collected from the app. \n",
    "## It's just a list of app ratings\n",
    "# Version A:\n",
    "A = [1, 2, 4, 5, 1, 1, 3, 5, 5, 4, 1, 4, 1, 3, 3, 1, 5, 1, 1, 3, 3, 1, 2, 1, 5, 1, 5, 5, 2, 1, 3, 1, 1, 1, 2, 2, 1, 1, 5, 2, 3, 4, 1, 1, 3, 1, 1, 5, 1, 1, 1, 1, 1, 5, 1, 5, 1, 1, 1, 1, 1, 1, 2, 2, 1, 2, 2, 3, 1, 1, 1, 1, 5, 1, 1, 4, 1, 5, 2, 4, 2, 2, 1, 3, 2, 2, 4, 1, 5, 1, 1, 5, 1, 1, 1, 3, 1, 1, 1, 4, 1, 3, 1, 1, 2, 1, 3, 1, 5, 3, 5, 2, 1, 1, 1, 2, 2, 1, 3, 3, 5, 2, 2, 1, 3, 1, 2, 1, 3, 1, 1, 5, 5, 1, 3, 5, 2, 1, 1, 1, 3, 3, 1, 1, 1, 4, 1, 1, 3, 1]\n",
    "# Version B:\n",
    "B = [5, 1, 1, 5, 5, 1, 4, 5, 5, 5, 1, 1, 5, 4, 5, 2, 1, 4, 2, 1, 1, 5, 5, 1, 5, 2, 1, 4, 2, 4, 1, 2, 1, 1, 5, 3, 3, 3, 4, 1, 1, 1, 1, 2, 4, 5, 1, 5, 5, 3, 4, 1, 5, 1, 4, 5, 1, 4, 1, 5, 1, 5, 2, 5, 5, 5, 1, 1, 1, 4, 3, 1, 1, 4, 5, 5, 5, 1, 1, 1, 5, 5, 5, 5, 1, 5, 1, 4, 1, 1, 1, 5, 4, 3, 1, 5, 2, 5, 1, 3, 4, 1, 1, 1, 3, 1, 1, 5, 5, 1, 2, 1, 5, 5, 5, 5, 5, 5, 5, 5, 5, 1, 1, 4, 5, 1, 5, 1, 3, 4, 4, 1, 1, 5, 4, 5, 1, 5, 5, 2, 5, 5, 4, 5, 5, 1, 3, 1, 3, 2]\n",
    "\n",
    "## We also have data from a version C, which has sort-by-weight as the default\n",
    "C = [5, 1, 5, 1, 3, 1, 4, 2, 4, 5, 1, 1, 4, 1, 1, 1, 4, 4, 2, 1, 1, 1, 2, 1, 2, 3, 2, 1, 1, 1, 1, 1, 5, 1, 1, 1, 5, 5, 5, 1, 2, 3, 2, 4, 1, 1, 3, 3, 1, 1, 2, 1, 1, 5, 2, 3, 1, 3, 3, 2, 1, 2, 2, 1, 1, 5, 3, 1, 1, 3, 1, 1, 5, 1, 1, 1, 3, 4, 2, 1, 1, 1, 1, 3, 2, 1, 1, 1, 1, 1, 3, 4, 2, 4, 1, 1, 5, 1, 4, 3, 5, 1, 1, 1, 5, 1, 5, 4, 1, 1, 5, 1, 1, 1, 1, 5, 2, 4, 1, 1, 3, 1, 1, 5, 1, 3, 2, 1, 2, 1, 1, 3, 1, 1, 1, 1, 1, 3, 5, 5, 1, 1, 4, 1, 5, 3, 1, 1, 3, 2]"
   ]
  },
  {
   "cell_type": "markdown",
   "metadata": {},
   "source": [
    "## Testing your code.\n",
    "The code below will plot the results so you can see if the distribution of the means looks better or worse for the different versions. You need to have implemented `bootstrap()` correctly for this to work."
   ]
  },
  {
   "cell_type": "code",
   "execution_count": 40,
   "metadata": {},
   "outputs": [],
   "source": [
    "## This code just plots a histogram of the values of the results\n",
    "## If the curves overlap a lot, then the difference probably\n",
    "## Note: you don't need to understand this code\n",
    "## It is just to display the results in a clear form\n",
    "\n",
    "import matplotlib.pyplot as plt\n",
    "%matplotlib inline\n",
    "\n",
    "### Plot A versus B\n",
    "\n",
    "## plot histograms\n",
    "plt.figure(figsize=(12,10))\n",
    "plt.hist(bootstrap(A,1000), bins=10)\n",
    "plt.hist(bootstrap(B,1000), bins=10)\n",
    "plt.xlim(1,5)\n",
    "\n",
    "## data scientists always label their graphs!\n",
    "plt.xlabel(\"App star rating\")\n",
    "plt.ylabel(\"Frequency\")\n",
    "plt.legend([\"Version A\", \"Version B\"])\n",
    "\n",
    "### Plot A versus C\n",
    "plt.figure(figsize=(12,10))\n",
    "\n",
    "## plot histograms\n",
    "plt.hist(bootstrap(A,1000), bins=10)\n",
    "plt.hist(bootstrap(C,1000), bins=10)\n",
    "plt.xlim(1,5)\n",
    "\n",
    "## data scientists always label their graphs!\n",
    "plt.xlabel(\"App star rating\")\n",
    "plt.ylabel(\"Frequency\")\n",
    "plt.legend([\"Version A\", \"Version C\"])"
   ]
  },
  {
   "cell_type": "markdown",
   "metadata": {},
   "source": [
    "\n",
    "**If you managed this: Great! Now you have some pretty graphs show the venture capitalists and get another funding round sorted out :)**"
   ]
  },
  {
   "cell_type": "markdown",
   "metadata": {},
   "source": [
    "---------\n",
    "\n",
    "## C: Extended problems (OPTIONAL)\n",
    "These *extended* problems are optional for students who are keen to learn more. If you've finished the whole lab and want to explore these ideas in more depth, these problems and resources are intended to help you do that. \n",
    "\n",
    "## <font color=\"red\"> You do not need to make any attempt at any of this section to receive a tick! </font>\n"
   ]
  },
  {
   "cell_type": "markdown",
   "metadata": {},
   "source": [
    "## Further questions on the bootstrap\n",
    "For problem B.3:\n",
    "\n",
    "* Try plotting the histogram of the  original app ratings (e.g. with `plt.hist(A, bins=10)`). Why is this not very helpful, whereas the bootstrap result is easy to interpret? \n",
    "\n",
    "* What happens if the bootstrap value is very small (e.g. bootstrap(A,2))? \n",
    "* Or very large?"
   ]
  },
  {
   "cell_type": "markdown",
   "metadata": {},
   "source": [
    "## Larger C problems\n",
    "These will take 30-60 minutes each.\n",
    "\n",
    "## C.1 Permuations\n",
    "\n",
    "Using **recursion** write a function that will generate all permutations of a given list, in order, and returns them as a list of lists.\n",
    "\n",
    "For example `permutations([1,2,3])` should generate and return:\n",
    "\n",
    "    [[1,2,3], [1, 3, 2], [2, 1, 3], [2, 3, 1], [3, 1, 2], [3, 2, 1]]\n",
    "    \n",
    "    "
   ]
  },
  {
   "cell_type": "code",
   "execution_count": 214,
   "metadata": {},
   "outputs": [],
   "source": [
    "# Solution goes here"
   ]
  },
  {
   "cell_type": "code",
   "execution_count": 215,
   "metadata": {},
   "outputs": [],
   "source": [
    "with tick():\n",
    "    assert permutations([]) == [[]]\n",
    "    assert permutations([1]) == [[1]]\n",
    "    assert permutations([[]]) == [[[]]]\n",
    "    assert permutations([1, 2]) == [[1, 2], [2, 1]]\n",
    "    assert permutations([1, 2, 3]) == [\n",
    "        [1, 2, 3],\n",
    "        [1, 3, 2],\n",
    "        [2, 1, 3],\n",
    "        [2, 3, 1],\n",
    "        [3, 1, 2],\n",
    "        [3, 2, 1],\n",
    "    ]\n",
    "    assert permutations([3, 2, 1]) == [\n",
    "        [3, 2, 1],\n",
    "        [3, 1, 2],\n",
    "        [2, 3, 1],\n",
    "        [2, 1, 3],\n",
    "        [1, 3, 2],\n",
    "        [1, 2, 3],\n",
    "    ]\n",
    "    assert permutations(\"actg\") == [\n",
    "        [\"a\", \"c\", \"t\", \"g\"],\n",
    "        [\"a\", \"c\", \"g\", \"t\"],\n",
    "        [\"a\", \"t\", \"c\", \"g\"],\n",
    "        [\"a\", \"t\", \"g\", \"c\"],\n",
    "        [\"a\", \"g\", \"c\", \"t\"],\n",
    "        [\"a\", \"g\", \"t\", \"c\"],\n",
    "        [\"c\", \"a\", \"t\", \"g\"],\n",
    "        [\"c\", \"a\", \"g\", \"t\"],\n",
    "        [\"c\", \"t\", \"a\", \"g\"],\n",
    "        [\"c\", \"t\", \"g\", \"a\"],\n",
    "        [\"c\", \"g\", \"a\", \"t\"],\n",
    "        [\"c\", \"g\", \"t\", \"a\"],\n",
    "        [\"t\", \"a\", \"c\", \"g\"],\n",
    "        [\"t\", \"a\", \"g\", \"c\"],\n",
    "        [\"t\", \"c\", \"a\", \"g\"],\n",
    "        [\"t\", \"c\", \"g\", \"a\"],\n",
    "        [\"t\", \"g\", \"a\", \"c\"],\n",
    "        [\"t\", \"g\", \"c\", \"a\"],\n",
    "        [\"g\", \"a\", \"c\", \"t\"],\n",
    "        [\"g\", \"a\", \"t\", \"c\"],\n",
    "        [\"g\", \"c\", \"a\", \"t\"],\n",
    "        [\"g\", \"c\", \"t\", \"a\"],\n",
    "        [\"g\", \"t\", \"a\", \"c\"],\n",
    "        [\"g\", \"t\", \"c\", \"a\"],\n",
    "    ]"
   ]
  },
  {
   "cell_type": "markdown",
   "metadata": {},
   "source": [
    "    \n",
    "\n",
    "### C.2 Function lists\n",
    "You can put anything that you can put in a variable in a Python list. This includes functions. \n",
    "\n",
    "For example, imagine you had to build a little command set to drive a robot. But the robot's remote control unit can only send a numerical code for each function to be executed (e.g. 0=go forward, 1=turn left). \n",
    "\n",
    "If you put functions that did these operations in a list you can just index them and call them:"
   ]
  },
  {
   "cell_type": "code",
   "execution_count": 35,
   "metadata": {},
   "outputs": [],
   "source": [
    "def forward():\n",
    "    print(\"forward\")\n",
    "    \n",
    "def left():\n",
    "    print(\"left\")\n",
    "    \n",
    "def right():    \n",
    "    print(\"right\")\n",
    "    \n",
    "    \n",
    "# note that there is no following () after the functions\n",
    "# so they are not called, but instead a reference to them is put in the list\n",
    "fn_list = [forward, left, right]\n",
    "\n",
    "# this takes the first element of fn_list, then calls it using ()\n",
    "fn_list[0]()\n",
    "\n",
    "fn_list[1]()\n",
    "fn_list[0]()\n",
    "fn_list[0]()\n",
    "fn_list[2]()"
   ]
  },
  {
   "cell_type": "markdown",
   "metadata": {},
   "source": [
    "### Task\n",
    "Write a set of functions for the following commands, for a robot moving in 2D space (x and y) and put them in a list so that we have:\n",
    "\n",
    "    0: move forward by 1 unit, drawing a line from the previous position to the new one\n",
    "    1: turn left; make the new direction 60 degrees left of the previous\n",
    "    2: turn right; make the new direction 60 degrees right of the previous\n",
    "    3: remember; remember where we are and where we are facing;\n",
    "    4: return; return to the last place we remembered and remove it from the remembered list.\n",
    "    \n",
    "To do this, you will need to store where the robot currently is in 2D (hint: a list consisting of an x and y co-ordinate) and what way the robot is facing. Start with the robot facing upwards at position (0,0). Use a vector (dx,dy) to represent the direction the robot faces.\n",
    "\n",
    "You will also need to keep a list of places that have been remembered (and the direction the robot was facing) by command 3, and be able to return to them with command 4. Command 4 should also remove the remembered location from the list of  remembered locations (hint: how could you use `del` to do this?).\n",
    "\n",
    "Write a function `simulate()` to apply these commands to a list of numbers 0-4 and simulate the robot's movement.\n",
    "\n",
    "### Tips\n",
    "\n",
    "The command `line(ox,oy,x,y)` defined below will draw a line from (ox,oy) to (x,y).  The function `rotate()` to rotate a direction vector by a given angle is provided for you.\n",
    "\n",
    "\n",
    "        "
   ]
  },
  {
   "cell_type": "code",
   "execution_count": 127,
   "metadata": {},
   "outputs": [],
   "source": [
    "import math\n",
    "\n",
    "def rotate(dx, dy, angle=60):\n",
    "    \"\"\"Takes a direction dx,dy and returns a new direction (dx_new, dy_new)\n",
    "    which is rotated by the given number of degrees\"\"\"\n",
    "    rad_angle = math.radians(angle)\n",
    "    dx_new = dx  * math.cos(rad_angle) + dy * math.sin(rad_angle)\n",
    "    dy_new = -dx * math.sin(rad_angle) + dy * math.cos(rad_angle)\n",
    "    return dx_new, dy_new"
   ]
  },
  {
   "cell_type": "code",
   "execution_count": 131,
   "metadata": {},
   "outputs": [],
   "source": [
    "import numpy as np\n",
    "import matplotlib as mpl\n",
    "import matplotlib.pyplot as plt\n",
    "%matplotlib inline"
   ]
  },
  {
   "cell_type": "code",
   "execution_count": 132,
   "metadata": {},
   "outputs": [],
   "source": [
    "def line(ox,oy,x,y):    \n",
    "    plt.plot([ox,x], [oy,y], 'k')\n",
    "    plt.plot([ox], [oy], 'ko')\n",
    "    plt.plot([x], [y], 'ro')\n",
    "    plt.xlim(-10,10)\n",
    "    plt.ylim(-10,10)\n",
    "    plt.axis(\"off\")"
   ]
  },
  {
   "cell_type": "code",
   "execution_count": 133,
   "metadata": {},
   "outputs": [],
   "source": [
    "# Solution goes here"
   ]
  },
  {
   "cell_type": "code",
   "execution_count": 134,
   "metadata": {},
   "outputs": [],
   "source": [
    "## Test\n",
    "## should be a kind of bird shape\n",
    "simulate([0,0,0,3,2,0,0,2,0,4,3,1,0,0,1,0,4,0,0])"
   ]
  },
  {
   "cell_type": "code",
   "execution_count": 135,
   "metadata": {},
   "outputs": [],
   "source": [
    "# a hexagon\n",
    "simulate([0,1,0,1,0,1,0,1,0,1,0,1])"
   ]
  },
  {
   "cell_type": "markdown",
   "metadata": {},
   "source": [
    "## C.3 Matrices\n",
    "Matrices are 2D arrays (rectangular arrays) of values and have lots of useful mathematical properties. You can represent these with nested lists:\n",
    "\n",
    "    [[1, 2, 3, 4],\n",
    "     [4, 5, 6, 7],\n",
    "     [0, 0, 0, 1]]\n",
    "     \n",
    "This is a 3x4 matrix  (3 rows, 4 columns). Each row always has the same number of columns. \n",
    "### Task\n",
    "We need to be able to do some basic mathematical operations on these matrices. Your problem is to write these functions. *All functions should return new matrices and not change the ones they are passed.*\n",
    "* `pretty_print(m)` should print out each element of m as a neat matrix. E.g. it should print [[1,2,3], [4,5,6]] as:\n",
    "        1  2  3\n",
    "        4  5  6\n",
    "\n",
    "Note for this that you can use a special formatting syntax to make the numbers line up:\n",
    "\n",
    "       print \"% 5d\" % n\n",
    "   \n",
    "will print an integer number with enough leading spaces to make it 5 characters long. \"% 5d\" means \"substitute [space character fill]  [to 5 characters]  \\<integer\\>\"\n",
    "\n",
    "* `add_scalar(m, a)` should add the number `a` to each element of matrix `m`\n",
    "* `mul_scalar(m, a)` should multiply each element of matrix `m` by the number `a`.\n",
    "* `add_matrix(m1, m2)` should add two matrices together. The matrices **must be the same size** for this to work.\n",
    "* `fill(rows, cols, n)` should create a new matrix with size `rows x cols` and fill each element with the number `n`.\n",
    "* `hstack(m1, m2)` should join matrices m1 and m2, so that m2 is to the *right* of m2. m1 and m2 must have the same number of *rows*. For example:    \n",
    "\n",
    "         [[1 2]     [[0 8 9]\n",
    "         [3 4]]      [9 1 4]]\n",
    "\n",
    "will become:\n",
    "\n",
    "         [[1 2 0 8 9]\n",
    "         [3 4 9 1 4]]\n",
    "         \n",
    "<font color=\"red\"> Note that I've omitted the commas for clarity here, you still need to put them in the code! </font>         \n",
    "\n",
    "* `vstack(m1, m2)` should join matrices m1 and m2, so that m2 is to the *bottom* of m2. m1 and m2 must have the same number of *columns*.\n",
    "\n",
    "* `transpose(m1)` (*trickier*). **Transposing** a matrix means exchanging the rows and columns. For example:\n",
    "  \n",
    "      [[1 2 3]\n",
    "       [4 5 6]\n",
    "       [7 8 9]]\n",
    "    \n",
    "will become:\n",
    "\n",
    "      [[1 4 7]\n",
    "       [2 5 8]\n",
    "       [3 6 9]]\n",
    "\n",
    "* `mul_matrix(m1, m2)` (*trickier*) should add multiply two matrices together using **matrix multiplication**. The matrix multiplication rule is given [here](https://www.mathsisfun.com/algebra/matrix-multiplying.html) if you don't know it.\n",
    "\n",
    "\n",
    "#### Caveats\n",
    "Nested lists aren't a very efficient way to represent or use lists; real matrix use will normally use specialised data structures to do operations extremely quickly."
   ]
  },
  {
   "cell_type": "code",
   "execution_count": 13,
   "metadata": {},
   "outputs": [],
   "source": [
    "# Solution goes here"
   ]
  },
  {
   "cell_type": "code",
   "execution_count": 14,
   "metadata": {},
   "outputs": [],
   "source": [
    "## Tests\n",
    "## All of the following should work correctly\n",
    "a = [[1, 2, 3], [4, 5, 6], [7, 8, 9]]\n",
    "pretty_print(a)\n",
    "pretty_print(add_scalar(a, 1))\n",
    "pretty_print(mul_scalar(a, 2))\n",
    "pretty_print(fill(3, 4, 0))\n",
    "pretty_print(hstack(a, fill(3, 4, 0)))\n",
    "pretty_print(vstack(a, fill(4, 3, 0)))\n",
    "pretty_print(transpose(a))\n",
    "b = [[0, 0, 0, 0], [1, 1, 1, 0], [2, 2, 2, 0]]\n",
    "pretty_print(b)\n",
    "pretty_print(transpose(b))\n",
    "pretty_print(mul_matrix(a, b))\n",
    "pretty_print(mul_matrix(a, [[1, 0, 1]]))"
   ]
  },
  {
   "cell_type": "code",
   "execution_count": null,
   "metadata": {},
   "outputs": [],
   "source": []
  }
 ],
 "metadata": {
  "kernelspec": {
   "display_name": "Python 3",
   "language": "python",
   "name": "python3"
  },
  "language_info": {
   "codemirror_mode": {
    "name": "ipython",
    "version": 3
   },
   "file_extension": ".py",
   "mimetype": "text/x-python",
   "name": "python",
   "nbconvert_exporter": "python",
   "pygments_lexer": "ipython3",
   "version": "3.7.1"
  },
  "toc": {
   "base_numbering": 1,
   "nav_menu": {},
   "number_sections": true,
   "sideBar": true,
   "skip_h1_title": false,
   "title_cell": "Table of Contents",
   "title_sidebar": "Contents",
   "toc_cell": false,
   "toc_position": {},
   "toc_section_display": true,
   "toc_window_display": true
  },
  "varInspector": {
   "cols": {
    "lenName": 16,
    "lenType": 16,
    "lenVar": 40
   },
   "kernels_config": {
    "python": {
     "delete_cmd_postfix": "",
     "delete_cmd_prefix": "del ",
     "library": "var_list.py",
     "varRefreshCmd": "print(var_dic_list())"
    },
    "r": {
     "delete_cmd_postfix": ") ",
     "delete_cmd_prefix": "rm(",
     "library": "var_list.r",
     "varRefreshCmd": "cat(var_dic_list()) "
    }
   },
   "types_to_exclude": [
    "module",
    "function",
    "builtin_function_or_method",
    "instance",
    "_Feature"
   ],
   "window_display": false
  }
 },
 "nbformat": 4,
 "nbformat_minor": 1
}
