{
 "cells": [
  {
   "cell_type": "markdown",
   "metadata": {},
   "source": [
    "# Task 2"
   ]
  },
  {
   "cell_type": "code",
   "execution_count": 12,
   "metadata": {},
   "outputs": [],
   "source": [
    "import tkinter\n",
    "\n",
    "def display():\n",
    "    name = textVar.get()\n",
    "    messageLabel.configure(text=\"Hello \"+name)\n",
    "\n",
    "top = tkinter.Tk()\n",
    "top.title(\"Hijinks\")\n",
    "top.geometry(\"500x500+350+50\")\n",
    "top.configure(bg='white')\n",
    "\n",
    "textVar = tkinter.StringVar(\"\")\n",
    "textEntry = tkinter.Entry(top,textvariable=textVar,width=12)\n",
    "textEntry.grid(row=0,column=0)\n",
    "\n",
    "messageLabel = tkinter.Label(top,text=\"\",width=12, bg='white')\n",
    "messageLabel.grid(row=1,column=0)\n",
    "\n",
    "showButton = tkinter.Button(top,text=\"Show\",command=display, bg='white')\n",
    "showButton.grid(row=1,column=1)\n",
    "\n",
    "quitButton = tkinter.Button(top,text=\"Quit\",command=top.destroy, bg='white')\n",
    "quitButton.grid(row=1,column=2)\n",
    "\n",
    "tkinter.mainloop()"
   ]
  },
  {
   "cell_type": "code",
   "execution_count": 2,
   "metadata": {},
   "outputs": [
    {
     "ename": "AttributeError",
     "evalue": "type object 'Button' has no attribute 'bg'",
     "output_type": "error",
     "traceback": [
      "\u001b[1;31m---------------------------------------------------------------------------\u001b[0m",
      "\u001b[1;31mAttributeError\u001b[0m                            Traceback (most recent call last)",
      "\u001b[1;32m<ipython-input-2-775ba1d0782f>\u001b[0m in \u001b[0;36m<module>\u001b[1;34m\u001b[0m\n\u001b[0;32m      1\u001b[0m \u001b[1;32mimport\u001b[0m \u001b[0mtkinter\u001b[0m \u001b[1;32mas\u001b[0m \u001b[0mtk\u001b[0m\u001b[1;33m\u001b[0m\u001b[1;33m\u001b[0m\u001b[0m\n\u001b[1;32m----> 2\u001b[1;33m \u001b[0mhelp\u001b[0m\u001b[1;33m(\u001b[0m\u001b[0mtk\u001b[0m\u001b[1;33m.\u001b[0m\u001b[0mButton\u001b[0m\u001b[1;33m.\u001b[0m\u001b[0mbg\u001b[0m\u001b[1;33m)\u001b[0m\u001b[1;33m\u001b[0m\u001b[1;33m\u001b[0m\u001b[0m\n\u001b[0m",
      "\u001b[1;31mAttributeError\u001b[0m: type object 'Button' has no attribute 'bg'"
     ]
    }
   ],
   "source": [
    "import tkinter as tk\n",
    "help(tk.Button.bg)"
   ]
  },
  {
   "cell_type": "markdown",
   "metadata": {},
   "source": [
    "# Task 3"
   ]
  },
  {
   "cell_type": "code",
   "execution_count": 70,
   "metadata": {},
   "outputs": [],
   "source": [
    "import tkinter\n",
    "\n",
    "def convert():\n",
    "    amount = textVar.get()\n",
    "    if amount.isnumeric():\n",
    "        amount = float(amount)\n",
    "        frCr = fromCur.get()\n",
    "        rates = {'£-£': 1, '£-€': 1.16, '£-$': 1.28, '£-RM': 5.39}\n",
    "        btnVars = {'£': pndVar.get(), '€': euroVar.get(), '$': dollaVar.get(), 'RM': rngtVar.get()}\n",
    "        msg = \"%.2f is: \\n\" % amount\n",
    "        if frCr == 1:\n",
    "            for key,val in btnVars.items():\n",
    "                if val == 1:\n",
    "                    msg += key + ': %.2f \\n' % (amount * rates['£-'+key])\n",
    "        elif frCr == 2:\n",
    "            for key,val in btnVars.items():\n",
    "                if val == 1 and key == '£':\n",
    "                    msg += key + ': %.2f \\n' % (amount / rates['£-€'])\n",
    "                elif val == 1:\n",
    "                    msg += key + ': %.2f \\n' % (amount / rates['£-€'] * rates['£-'+key])\n",
    "        elif frCr == 3:\n",
    "            for key,val in btnVars.items():\n",
    "                if val == 1 and key == '$':\n",
    "                    msg += key + ': %.2f \\n' % (amount / rates['£-$'])\n",
    "                elif val == 1:\n",
    "                    msg += key + ': %.2f \\n' % (amount / rates['£-$'] * rates['£-'+key])\n",
    "        elif frCr == 4:\n",
    "            for key,val in btnVars.items():\n",
    "                if val == 1 and key == 'RM':\n",
    "                    msg += key + ': %.2f \\n' % (amount / rates['£-RM'])\n",
    "                elif val == 1:\n",
    "                    msg += key + ': %.2f \\n' % (amount / rates['£-RM'] * rates['£-'+key])\n",
    "        else:\n",
    "            msg = 'Please choose a currency to convert'\n",
    "    else:\n",
    "        msg = \"Sorry, that is not a valid number\"\n",
    "    \n",
    "    curLbl.configure(text=msg)\n",
    "\n",
    "top = tkinter.Tk()\n",
    "top.title(\"Currency converter\")\n",
    "top.geometry(\"500x500+350+50\")\n",
    "\n",
    "textVar = tkinter.StringVar(\"\")\n",
    "textEntry = tkinter.Entry(top,textvariable=textVar,width=12)\n",
    "textEntry.grid(row=0,column=0)\n",
    "\n",
    "curLbl = tkinter.Label(top,text=\"\",width=30)\n",
    "curLbl.grid(row=5,column=0)\n",
    "\n",
    "fromCur = tkinter.IntVar(0)\n",
    "pndVar = tkinter.IntVar()\n",
    "euroVar = tkinter.IntVar()\n",
    "dollaVar = tkinter.IntVar()\n",
    "rngtVar = tkinter.IntVar()\n",
    "\n",
    "fromLbl = tkinter.Label(top,text=\"From:\",width=10)\n",
    "fromLbl.grid(row=0,column=1)\n",
    "toLbl = tkinter.Label(top,text=\"To:\",width=10)\n",
    "toLbl.grid(row=0,column=4)\n",
    "\n",
    "pndBtn = tkinter.Radiobutton(top,text=\"£\",\n",
    "                                  variable=fromCur,value=1)\n",
    "pndBtn.grid(row=1,column=1)\n",
    "\n",
    "euroBtn = tkinter.Radiobutton(top,text=\"€\",\n",
    "                                    variable=fromCur,value=2)\n",
    "euroBtn.grid(row=2,column=1)\n",
    "\n",
    "dollaBtn = tkinter.Radiobutton(top,text=\"$\",\n",
    "                                    variable=fromCur,value=3)\n",
    "dollaBtn.grid(row=3,column=1)\n",
    "\n",
    "rngtBtn = tkinter.Radiobutton(top,text=\"RM\",\n",
    "                                    variable=fromCur,value=4)\n",
    "rngtBtn.grid(row=4,column=1)\n",
    "\n",
    "pndBtn2 = tkinter.Checkbutton(top,text=\"£\",variable=pndVar)\n",
    "pndBtn2.grid(row=1,column=4)\n",
    "euroBtn2 = tkinter.Checkbutton(top,text=\"€\",variable=euroVar)\n",
    "euroBtn2.grid(row=2,column=4)\n",
    "dollaBtn2 = tkinter.Checkbutton(top,text=\"$\",variable=dollaVar)\n",
    "dollaBtn2.grid(row=3,column=4)\n",
    "rngtBtn2 = tkinter.Checkbutton(top,text=\"RM\",variable=rngtVar)\n",
    "rngtBtn2.grid(row=4,column=4)\n",
    "\n",
    "cnvtBtn = tkinter.Button(top,text=\"Convert\",command=convert, bg='white')\n",
    "cnvtBtn.grid(row=1,column=0)\n",
    "\n",
    "tkinter.mainloop()"
   ]
  }
 ],
 "metadata": {
  "kernelspec": {
   "display_name": "Python 3",
   "language": "python",
   "name": "python3"
  },
  "language_info": {
   "codemirror_mode": {
    "name": "ipython",
    "version": 3
   },
   "file_extension": ".py",
   "mimetype": "text/x-python",
   "name": "python",
   "nbconvert_exporter": "python",
   "pygments_lexer": "ipython3",
   "version": "3.7.3"
  }
 },
 "nbformat": 4,
 "nbformat_minor": 2
}
