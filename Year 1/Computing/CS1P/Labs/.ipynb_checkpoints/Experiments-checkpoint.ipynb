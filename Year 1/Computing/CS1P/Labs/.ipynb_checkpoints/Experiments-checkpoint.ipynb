{
 "cells": [
  {
   "cell_type": "code",
   "execution_count": 6,
   "metadata": {},
   "outputs": [
    {
     "name": "stdout",
     "output_type": "stream",
     "text": [
      "[2, 3, 4, 5]\n"
     ]
    }
   ],
   "source": [
    "def bubble(l):\n",
    "    for i in range(len(l)-1):\n",
    "        swapped = False\n",
    "        for j in range(len(l)-1-i):\n",
    "            if l[j] > l[j+1]:\n",
    "                l[j], l[j+1] = l[j+1], l[j]\n",
    "                swapped = True\n",
    "        if not swapped:\n",
    "            break\n",
    "    return l\n",
    "\n",
    "print(bubble([5,4,3,2]))"
   ]
  },
  {
   "cell_type": "code",
   "execution_count": 8,
   "metadata": {},
   "outputs": [
    {
     "name": "stdout",
     "output_type": "stream",
     "text": [
      "1\n",
      "2\n",
      "3\n",
      "Swapped!\n",
      "2\n",
      "Swapped!\n",
      "Swapped!\n",
      "Swapped!\n",
      "[5, 3, 2, 4]\n"
     ]
    }
   ],
   "source": [
    "def selec(l):\n",
    "    for i in range(len(l)):\n",
    "        minix = l[i]\n",
    "        minpos = 0\n",
    "        for j in range(i, len(l)):\n",
    "            if l[j] < minix:\n",
    "                minix = l[j]\n",
    "                minpos = j\n",
    "                print(minpos)\n",
    "        l[i], l[minpos] = l[minpos], l[i]\n",
    "        print(\"Swapped!\")\n",
    "    return l\n",
    "\n",
    "print(selec([5,4,3,2]))"
   ]
  },
  {
   "cell_type": "code",
   "execution_count": 1,
   "metadata": {},
   "outputs": [
    {
     "name": "stdout",
     "output_type": "stream",
     "text": [
      "[1, 2, 4, 5]\n"
     ]
    }
   ],
   "source": [
    "def insertSort(l):\n",
    "    for i in range(1, len(l)):\n",
    "        pos = i\n",
    "        j = i\n",
    "        val = l[i]\n",
    "        while pos != 0 and l[pos-1] > val:\n",
    "            l[pos] = l[pos-1]\n",
    "            pos -= 1\n",
    "        l[pos] = val\n",
    "    return l\n",
    "\n",
    "print(insertSort([5,4,2,1]))        "
   ]
  }
 ],
 "metadata": {
  "kernelspec": {
   "display_name": "Python 3",
   "language": "python",
   "name": "python3"
  },
  "language_info": {
   "codemirror_mode": {
    "name": "ipython",
    "version": 3
   },
   "file_extension": ".py",
   "mimetype": "text/x-python",
   "name": "python",
   "nbconvert_exporter": "python",
   "pygments_lexer": "ipython3",
   "version": "3.7.3"
  }
 },
 "nbformat": 4,
 "nbformat_minor": 2
}
