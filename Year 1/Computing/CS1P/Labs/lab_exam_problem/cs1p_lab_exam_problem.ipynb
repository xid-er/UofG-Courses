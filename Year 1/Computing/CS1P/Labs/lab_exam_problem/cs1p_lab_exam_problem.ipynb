{
 "cells": [
  {
   "cell_type": "markdown",
   "metadata": {},
   "source": [
    "## CS1P Lab Exam 1 \n",
    "### Practice problem"
   ]
  },
  {
   "cell_type": "markdown",
   "metadata": {},
   "source": [
    "<div class=\"alert alert-box alert-danger\">\n",
    "    \n",
    "You must not import *any* libraries in this code except those already imported for you. \n",
    "You may only use concepts and programming constructs from the CS1P course.\n",
    "\n",
    "</div>"
   ]
  },
  {
   "cell_type": "code",
   "execution_count": 1,
   "metadata": {},
   "outputs": [],
   "source": [
    "from show_line import show_line, show_many_lines\n",
    "import math, random # only permitted imports"
   ]
  },
  {
   "cell_type": "markdown",
   "metadata": {},
   "source": [
    "## Problem\n",
    "\n",
    "You are asked to make predictions about the weather. You have data recorded as a CSV file. You are asked to load the data, and create a model that will make simple predictions. In this case, you will be asked to fit a line to a collection of measurements.\n",
    "\n",
    "\n",
    "**Marks are only shown to show how the actual exam will be broken down for marking; there are no marks for the practice problem.**"
   ]
  },
  {
   "cell_type": "markdown",
   "metadata": {},
   "source": [
    "## 1. Load the data [12 marks]\n",
    "\n",
    "The data you will load is a measurement of environmental data recorded daily over several months in New York. The data you have is formatted as follows:"
   ]
  },
  {
   "cell_type": "markdown",
   "metadata": {},
   "source": [
    "       day,temp_f\n",
    "    \n",
    "        \n",
    "That is,\n",
    "* each line is a comma-separated pair with a day number and a daily temperature in Farenheit. \n",
    "* All values are positive numbers. \n",
    "* There may be any number of spaces at the start or end of a line, or around delimiters. \n",
    "    \n",
    "The data is in a file `data/ny_data_basic.txt`. There are exactly 80 pairs of measurements in this file."
   ]
  },
  {
   "cell_type": "markdown",
   "metadata": {},
   "source": [
    "You must define two functions:\n",
    "* `parse_line(s)` must parse a string representing *one line* of the file and return the data for that line (i.e. a day number and a temperature).\n",
    "* `load_data(fname)` must take a filename and return all of the data loaded from `fname`.\n",
    "\n",
    "Temperatures should be converted from Farenheit to Celcius using the formula: deg_c = 5/9 * (deg_f-32)\n",
    "\n"
   ]
  },
  {
   "cell_type": "code",
   "execution_count": 2,
   "metadata": {},
   "outputs": [],
   "source": [
    "## Your code here\n",
    "def parse_line(s):\n",
    "    data = s.strip().split(',')\n",
    "    return int(data[0]), float(data[1])\n",
    "\n",
    "def load_data(fname):\n",
    "    with open(fname) as f:\n",
    "        res = []\n",
    "        lines = f.readlines()\n",
    "        for i in lines:\n",
    "            day, deg_f = parse_line(i)\n",
    "            deg_c = 5/9 * (deg_f - 32)\n",
    "            res.append([day, float(\"%.2f\" % deg_c)])\n",
    "        return res"
   ]
  },
  {
   "cell_type": "code",
   "execution_count": 3,
   "metadata": {},
   "outputs": [],
   "source": [
    "# load the data file\n",
    "data = load_data('data/ny_data_basic.txt')"
   ]
  },
  {
   "cell_type": "markdown",
   "metadata": {},
   "source": [
    "## 1.T: Validate the data loading [8 marks]\n",
    "\n",
    "Write tests that will validate that this code works correctly using `assert`. You should, in particular, test `parse_line`. You may assume that the data will always be in the format specified above."
   ]
  },
  {
   "cell_type": "code",
   "execution_count": 4,
   "metadata": {},
   "outputs": [
    {
     "name": "stdout",
     "output_type": "stream",
     "text": [
      "[[1, 19.44], [2, 22.22], [3, 23.33], [4, 16.67], [5, 13.33], [6, 18.89], [7, 18.33], [8, 15.0], [9, 16.11], [10, 20.56], [11, 23.33], [12, 20.56], [13, 18.89], [14, 20.0], [15, 14.44], [16, 17.78], [17, 18.89], [18, 13.89], [19, 20.0], [20, 16.67], [21, 15.0], [22, 22.78], [23, 16.11], [24, 16.11], [25, 13.89], [26, 14.44], [27, 13.89], [28, 19.44], [29, 27.22], [30, 26.11], [31, 24.44], [32, 25.56], [33, 23.33], [34, 19.44], [35, 28.89], [36, 29.44], [37, 26.11], [38, 27.78], [39, 30.56], [40, 32.22], [41, 30.56], [42, 33.89], [43, 33.33], [44, 27.78], [45, 26.67], [46, 26.11], [47, 25.0], [48, 22.22], [49, 18.33], [50, 22.78], [51, 24.44], [52, 25.0], [53, 24.44], [54, 24.44], [55, 24.44], [56, 23.89], [57, 25.56], [58, 22.78], [59, 26.67], [60, 25.0], [61, 28.33], [62, 28.89], [63, 29.44], [64, 27.22], [65, 28.89], [66, 28.33], [67, 28.33], [68, 31.11], [69, 33.33], [70, 33.33], [71, 31.67], [72, 27.78], [73, 22.78], [74, 27.22], [75, 32.78], [76, 26.67], [77, 27.22], [78, 27.78], [79, 28.89], [80, 30.56]]\n"
     ]
    }
   ],
   "source": [
    "assert \"parse_line\" in globals(), \"You did not define parse_line\"\n",
    "assert \"load_data\" in globals(), \"You did not define load_data\"\n",
    "\n",
    "## Your tests here\n",
    "assert parse_line(\"6,   66.0\") == (6, 66.0)\n",
    "assert parse_line(\"6,66.0    \") == (6, 66.0)\n",
    "assert parse_line(\"  6    ,   66.0  \") == (6, 66.0)\n",
    "assert parse_line(\"666,   99999999.0\") == (666, 99999999.0)\n",
    "\n",
    "with open('data/ny_data_basic.txt') as f:\n",
    "    lines = f.readlines()\n",
    "    assert data[0][1] == float( \"%.2f\" % (5/9 * (parse_line(lines[0])[1] - 32)) )\n",
    "print(data)"
   ]
  },
  {
   "cell_type": "markdown",
   "metadata": {},
   "source": [
    "## 2. Fit a line [10 marks]\n",
    "\n",
    "You need to fit a straight line to this data, i.e. find the best straight line that comes close to these pairs of values. \n",
    "\n",
    "The equation of a straight line is: $$y=mx+c$$\n",
    "\n",
    "To fit a line to data, we need two things: \n",
    "1. a function to measure how bad a proposed line fit -- that is the total error for some values for m and c -- is to some data consisting of x,y measurements;\n",
    "1. a procedure for incrementally adjusting m and c so that it is a better fit to some data.\n",
    "\n",
    "### Error\n",
    "The badness of a fit (or *error*) for a choice of `m` and `c` can be measured for any specific data point `x, y` and computing: `error = (y - m * x + c)**2` and the overall error can be computed by summing this across all data points.\n",
    "\n",
    "### Adjustment\n",
    "To adjust the fit, implement the following procedure:\n",
    "* randomly guess an initial value for m and c\n",
    "* then, repeat N times\n",
    "    * adjust m and c by a small random amount\n",
    "    * compute the error with this adjusted guess\n",
    "    * if the result is better (error is smaller)\n",
    "        * make the new adjusted m,c the current best guess\n",
    "\n",
    "An initial random guess for m and c can be produced using `random.uniform(a,b)` which generates a random number between `a` and `b`.  The function `random.gauss(x, s)` returns a random number close to `x` whose range is determined by `s` -- larger `s` makes bigger \"jumps\"."
   ]
  },
  {
   "cell_type": "markdown",
   "metadata": {},
   "source": [
    "* Assume that `m` must be between [-10, 10] and `c` must be between [-100, 100]\n",
    "* Assume that you will adjust estimates of `m` by 0.05 and `c` by 0.5 on each guess\n",
    "    \n",
    "Write a function `fit_line(data, N=10000)` which will fit a line to data, in the format returned by `load_data()`, and return `m` and `c` using `N` update steps. You may wish to break this down into simpler functions.  If your function works, the line fitting error should go down as N increases.\n",
    "\n",
    "**To make sure your results are repeatable, call `random.seed(2019)` at the very start of your `fit_line` function.**\n",
    "\n"
   ]
  },
  {
   "cell_type": "code",
   "execution_count": 5,
   "metadata": {},
   "outputs": [],
   "source": [
    "## Your code here\n",
    "def get_error(data, m, c):\n",
    "    res = 0\n",
    "    for i in data:\n",
    "        x = i[0] # Day\n",
    "        y = i[1] # Temperature (in degrees C)\n",
    "        #print(\"x:\", x, \"y:\", y)\n",
    "        res = res + (y - m * x - c)**2\n",
    "    return res\n",
    "    \n",
    "def fit_line(data, N = 10_000):\n",
    "    random.seed(2019)\n",
    "    m = random.uniform(-10,10)\n",
    "    c = random.uniform(-100,100)\n",
    "    \n",
    "    m_temp = m\n",
    "    c_temp = c\n",
    "    \n",
    "    #print(m,c)\n",
    "    old_err = get_error(data, m, c)\n",
    "    for i in range(N):\n",
    "        m_temp = random.gauss(m, 0.05)\n",
    "        c_temp = random.gauss(c, 0.5)\n",
    "        \n",
    "        new_err = get_error(data, m_temp, c_temp)\n",
    "        #print(\"Old:\", old_err, \"New:\", new_err)\n",
    "        if new_err < old_err:\n",
    "            #print(\"New error!\", new_err)\n",
    "            m = m_temp\n",
    "            c = c_temp\n",
    "            #print(\"m:\", m)\n",
    "            #print(\"c:\", c)\n",
    "            old_err = new_err\n",
    "    return m, c"
   ]
  },
  {
   "cell_type": "code",
   "execution_count": 6,
   "metadata": {},
   "outputs": [
    {
     "data": {
      "image/png": "[encoded data removed]",
      "text/plain": [
       "<Figure size 432x288 with 1 Axes>"
      ]
     },
     "metadata": {
      "needs_background": "light"
     },
     "output_type": "display_data"
    }
   ],
   "source": [
    "# show the line fit perfomance\n",
    "m,c = fit_line(data, N = 10_000)\n",
    "show_line(data, m, c) # this will show your fit"
   ]
  },
  {
   "cell_type": "markdown",
   "metadata": {},
   "source": [
    "## 2.T Validate the line fitting [5 marks]\n",
    "\n",
    " Write tests to validate the functions you have written. Test *all* of the functions you implement!"
   ]
  },
  {
   "cell_type": "code",
   "execution_count": 7,
   "metadata": {},
   "outputs": [
    {
     "name": "stdout",
     "output_type": "stream",
     "text": [
      "(6.6734570467486645, 57.67442908914102)\n"
     ]
    }
   ],
   "source": [
    "## Your tests here\n",
    "print(fit_line([[1,2]], N = 1))"
   ]
  },
  {
   "cell_type": "markdown",
   "metadata": {},
   "source": [
    "## 3. Line fitting variant [8 marks]\n",
    "Write a function `partial_fits(data, N)` which implements the following algorithm. You must implement the following algorithm carefully:\n",
    "\n",
    "* For `i` ranging from 0 up to the number of data points\n",
    "    * Take the first `i` data points *only*;\n",
    "    * Fit a line to those first `i` points using the `fit_line` function you defined above.\n",
    "    * Record the m and c for the line fit to *that subset* in a list\n",
    "* Return a list of *all* `N` fits, i.e. one [m,c] pair for each subset of the data."
   ]
  },
  {
   "cell_type": "code",
   "execution_count": 8,
   "metadata": {},
   "outputs": [],
   "source": [
    "## Your code here\n",
    "def partial_fits(data, N):\n",
    "    res = []\n",
    "    for i in range(len(data)):\n",
    "        m, c = fit_line(data[:i+1])\n",
    "        res.append([m,c])\n",
    "    return res[:N]"
   ]
  },
  {
   "cell_type": "markdown",
   "metadata": {},
   "source": [
    "## 3.T Test the line fitting variant [3 marks]"
   ]
  },
  {
   "cell_type": "code",
   "execution_count": 9,
   "metadata": {},
   "outputs": [],
   "source": [
    "## Your tests here\n"
   ]
  },
  {
   "cell_type": "markdown",
   "metadata": {},
   "source": [
    "## 4. Apply line fitting  [4 marks]\n",
    "Use your `partial_fit` function on the data you loaded in Part 1. The pre-defined function `show_many_lines(data, fits, ranges)` takes two lists and plots a graph given:\n",
    "* `fits` a list of m,c pairs representing a line fit\n",
    "* `ranges` a list of [start, end] ranges representing indices of data that correspond to those fits (i.e. the indices representing the subsets of data used to compute those fits).\n",
    "\n",
    "You should plot a graph that looks like below:\n",
    "<img src=\"partial_fit.png\">"
   ]
  },
  {
   "cell_type": "code",
   "execution_count": 10,
   "metadata": {},
   "outputs": [
    {
     "data": {
      "image/png": "[encoded data removed]",
      "text/plain": [
       "<Figure size 432x288 with 1 Axes>"
      ]
     },
     "metadata": {
      "needs_background": "light"
     },
     "output_type": "display_data"
    }
   ],
   "source": [
    "## Your code here\n",
    "fits = partial_fits(data, len(data))\n",
    "ranges = [[0,i+1] for i in range(len(data))]\n",
    "\n",
    "show_many_lines(data, fits, ranges)"
   ]
  },
  {
   "cell_type": "code",
   "execution_count": null,
   "metadata": {},
   "outputs": [],
   "source": []
  }
 ],
 "metadata": {
  "kernelspec": {
   "display_name": "Python 3",
   "language": "python",
   "name": "python3"
  },
  "language_info": {
   "codemirror_mode": {
    "name": "ipython",
    "version": 3
   },
   "file_extension": ".py",
   "mimetype": "text/x-python",
   "name": "python",
   "nbconvert_exporter": "python",
   "pygments_lexer": "ipython3",
   "version": "3.7.3"
  },
  "varInspector": {
   "cols": {
    "lenName": 16,
    "lenType": 16,
    "lenVar": 40
   },
   "kernels_config": {
    "python": {
     "delete_cmd_postfix": "",
     "delete_cmd_prefix": "del ",
     "library": "var_list.py",
     "varRefreshCmd": "print(var_dic_list())"
    },
    "r": {
     "delete_cmd_postfix": ") ",
     "delete_cmd_prefix": "rm(",
     "library": "var_list.r",
     "varRefreshCmd": "cat(var_dic_list()) "
    }
   },
   "types_to_exclude": [
    "module",
    "function",
    "builtin_function_or_method",
    "instance",
    "_Feature"
   ],
   "window_display": false
  }
 },
 "nbformat": 4,
 "nbformat_minor": 2
}
