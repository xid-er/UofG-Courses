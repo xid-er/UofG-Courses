{
 "cells": [
  {
   "cell_type": "markdown",
   "metadata": {},
   "source": [
    "# Week 3 : Lab \n",
    " ## Abstraction: Functions, parameters, arguments and scope\n",
    " ##### CS1P - University of Glasgow - John H. Williamson - 2017/2018 Python 3.x"
   ]
  },
  {
   "cell_type": "markdown",
   "metadata": {},
   "source": []
  },
  {
   "cell_type": "markdown",
   "metadata": {},
   "source": [
    "\n",
    "## Lab exercise\n",
    "**You must make a reasonble attempt at this exercise to gain a tick for this work**.\n",
    "\n",
    "<font color=\"red\"> Remember to save your work frequently! </font>\n"
   ]
  },
  {
   "cell_type": "code",
   "execution_count": 41,
   "metadata": {},
   "outputs": [],
   "source": [
    "# RUN THIS FIRST!\n",
    "from utils.tick import tick, check_answer"
   ]
  },
  {
   "cell_type": "markdown",
   "metadata": {},
   "source": [
    "\n",
    "## Purpose of this lab\n",
    "This lab will familiarise you with:\n",
    "* Functions\n",
    "* Returning values\n",
    "* Parameterisation and default parameters\n",
    "* Recursion.\n"
   ]
  },
  {
   "cell_type": "markdown",
   "metadata": {},
   "source": [
    "\n",
    "## Before the lab\n",
    "\n",
    "* Attempt at least the A problems.\n",
    "\n",
    "\n"
   ]
  },
  {
   "cell_type": "markdown",
   "metadata": {},
   "source": [
    "## A. Quick Problems\n",
    "### A.1 Bolts\n",
    "<img src=\"imgs/bolts.jpg\">\n",
    "\n",
    "*Photo credit: J Carriage Bolts via flickr.com CC-BY-SA*\n",
    "\n",
    "A certain type of bolt (the thing you screw a nut onto) weighs `(0.1 * radius) ** 2 * length`  grams. \n",
    "\n",
    "You see a very dull report on bolts being coded by a junior programmer like this:\n",
    "\n",
    "    print(\"The radius of an M6 bolt is 6.00mm and has diameter 12.00mm. A 20mm M6 bolt weighs 7.20 grams\")\n",
    "    \n",
    "    print(\"The radius of an M8 bolt is 8.00mm and has diameter 16.00mm. A 20mm M8 bolt weighs 12.80 grams\")\n",
    "    \n",
    "    print(\"The radius of an M6 bolt is 6.00mm and has diameter 12.00mm. A 40mm M6 bolt weighs 14.40 grams\")\n",
    "    \n",
    "  \n",
    "To avoid this copy-and-pasting, write a **function** that *returns* the bolt report as a string given the bolt size (e.g. radius=6 or radius=8) and length (e.g. length=20, length=40). \n",
    "\n",
    "Replicate the report above without the repetition of code and without hardcoding the weights. The format of your result should be *exactly* like this:\n",
    "    \n",
    "    The radius of an M6 bolt is 6.00mm and has diameter 12.00mm. A 20mm M6 bolt weighs 7.20 grams\n",
    "\n",
    "Note: you can format a floating point number with a two digits after the decimal point using \"{x:.2f}\" instead of \"{x}\" as a placeholder for string interpolation:\n"
   ]
  },
  {
   "cell_type": "code",
   "execution_count": 2,
   "metadata": {},
   "outputs": [],
   "source": [
    "# make sure you understand this. Try changing the value before the \"f\"\n",
    "# if you want to see what happens\n",
    "number =  1.23456789\n",
    "print(\"{x}\".format(x=number))\n",
    "print(\"{x:.3f}\".format(x=number))\n",
    "print(\"{x:.2f}\".format(x=number))\n",
    "print(\"{x:.1f}\".format(x=number))\n"
   ]
  },
  {
   "cell_type": "code",
   "execution_count": 3,
   "metadata": {},
   "outputs": [],
   "source": [
    "# you can repeat usages of a placeholder name and put them in any order you wish\n",
    "print(\"{x} is the same as {x} but different from {y}\".format(x=number, y='burgers'))"
   ]
  },
  {
   "cell_type": "code",
   "execution_count": 4,
   "metadata": {},
   "outputs": [],
   "source": [
    "# Solution goes here"
   ]
  },
  {
   "cell_type": "code",
   "execution_count": 40,
   "metadata": {},
   "outputs": [],
   "source": [
    "# this should use your function to print the report\n",
    "print(bolt_report(6, 20))\n",
    "print(bolt_report(8, 20))\n",
    "print(bolt_report(6, 40))"
   ]
  },
  {
   "cell_type": "code",
   "execution_count": 6,
   "metadata": {},
   "outputs": [],
   "source": [
    "with tick():    \n",
    "    assert(bolt_report(6, 20)==\"\"\"The radius of an M6 bolt is 6.00mm and has diameter 12.00mm. A 20mm M6 bolt weighs 7.20 grams\"\"\")\n",
    "    assert(bolt_report(8, 40)==\"\"\"The radius of an M8 bolt is 8.00mm and has diameter 16.00mm. A 40mm M8 bolt weighs 25.60 grams\"\"\")\n",
    "    assert(bolt_report(5,5)==\"\"\"The radius of an M5 bolt is 5.00mm and has diameter 10.00mm. A 5mm M5 bolt weighs 1.25 grams\"\"\")"
   ]
  },
  {
   "cell_type": "markdown",
   "metadata": {},
   "source": [
    "### A.2 Default parameters\n",
    "Write a function `repstr` that takes a positional parameter `n` and an **optional keyword parameter** `char` and **returns** `n` repetitions of `char`, with `char` defaulting to being `#` if not specified."
   ]
  },
  {
   "cell_type": "code",
   "execution_count": 7,
   "metadata": {},
   "outputs": [],
   "source": [
    "# Solution goes here"
   ]
  },
  {
   "cell_type": "code",
   "execution_count": 8,
   "metadata": {},
   "outputs": [],
   "source": [
    "## Tests\n",
    "with tick():\n",
    "    assert (repstr(5) == '#####')\n",
    "    assert (repstr(5, 'O') == 'OOOOO')\n",
    "    assert (repstr(1, char='-') == '-')\n",
    "    assert (repstr(5, char='*') == '*****')\n",
    "    assert (repstr(2, char='--') == '----')\n"
   ]
  },
  {
   "cell_type": "markdown",
   "metadata": {},
   "source": [
    "## A. 3\n",
    "\n",
    " Write three functions:\n",
    "    * `a(s)` \n",
    "    * `b(s)` \n",
    "    * `c(s)` \n",
    "    \n",
    "each of which takes a string, and returns a string with  \"A\", \"B\" or \"C\" prepended to the start, respectively. For example `a(\"hello\")` should return \"Ahello\".\n",
    "\n",
    "Then, write a function `BACA(s)` that uses these functions -- and these functions only -- to prepend the string \"BACA\" to the start of the given string. **Do not use operators or variables inside `BACA()`.**\n",
    "    \n"
   ]
  },
  {
   "cell_type": "code",
   "execution_count": 9,
   "metadata": {},
   "outputs": [],
   "source": [
    "# Solution goes here"
   ]
  },
  {
   "cell_type": "code",
   "execution_count": 10,
   "metadata": {},
   "outputs": [],
   "source": [
    "with tick():\n",
    "    assert a(\"hi\") == \"Ahi\"\n",
    "    assert b(\"hi\") == \"Bhi\"\n",
    "    assert c(\"hi\") == \"Chi\"\n",
    "    assert BACA(\"hi\") == \"BACAhi\"\n",
    "    assert BACA(\"\") == \"BACA\"\n",
    "    assert BACA(\"BACA\") == \"BACABACA\""
   ]
  },
  {
   "cell_type": "markdown",
   "metadata": {},
   "source": [
    "### A.4 Rotate\n",
    "Write a function `rotate(s)` that returns a string with the first character moved to the end. You can get all characters of a string except the first using `my_string[1:]`. You can get the first character of a string using `my_string[0]`. If you're not sure what this means, try using this syntax before trying the rest of the exercise.\n",
    "\n",
    "Then, write a function `all_rotates(s)`, *which calls* `rotate` `len(s)` times, printing each result, updating the string as it goes. The output for `steel` should be:\n",
    "\n",
    "    steel\n",
    "    teels\n",
    "    eelst\n",
    "    elste\n",
    "    lstee\n",
    "    \n",
    "**Do not repeat the code from rotate(s) in your solution to all_rotates()**    \n",
    "    \n",
    "    "
   ]
  },
  {
   "cell_type": "code",
   "execution_count": 11,
   "metadata": {},
   "outputs": [],
   "source": [
    "# Solution goes here"
   ]
  },
  {
   "cell_type": "code",
   "execution_count": 12,
   "metadata": {},
   "outputs": [],
   "source": [
    "with tick():\n",
    "    assert(rotate(\"steel\")==\"teels\")\n",
    "    assert(rotate(\"s\")==\"s\")\n",
    "    assert(rotate(\"laps\")==\"apsl\")\n",
    "    assert(rotate(\"teels\")==\"eelst\")"
   ]
  },
  {
   "cell_type": "markdown",
   "metadata": {},
   "source": [
    "## A.5 Refactor\n",
    "\n",
    "Take the code below, and **refactor** it into a simpler form. This means to rewrite it by rearranging it to make it clearer and shorter. Functions make it easy to do this. Try to eliminate repetition and make clear the intention of the code, without relying so heavily on comments. **The code should explain itself**.\n",
    "\n",
    "Look for repeated operations in the code and see if you can factor them out into functions. Use parameters to make the functions apply to many possible inputs.\n",
    "\n",
    "Spend some time on this problem. There is no right answer, but you should be able to see a neater way of writing this code than is written here. "
   ]
  },
  {
   "cell_type": "code",
   "execution_count": 13,
   "metadata": {},
   "outputs": [],
   "source": [
    "years = 20\n",
    "## Work out how many units of three different kinds of item we can produce, given\n",
    "## that the cost of production increases with inflation,\n",
    "## the cost of staff pay increases over time,\n",
    "## and the income of the company producing the items increases over time\n",
    "\n",
    "growth_rate = 0.005\n",
    "income = 100\n",
    "# compute new income rate\n",
    "# growth rate is per month\n",
    "for i in range(years * 12):\n",
    "    income = income * (1 + growth_rate)\n",
    "\n",
    "unit_cost_1 = 20\n",
    "inflation = 0.03\n",
    "# Compute unit cost for each item, accounting for inflation\n",
    "# inflation is annual\n",
    "for i in range(years):\n",
    "    unit_cost_1 = unit_cost_1 * (1 + inflation)\n",
    "\n",
    "unit_cost_2 = 30\n",
    "for i in range(years):\n",
    "    unit_cost_2 = unit_cost_2 * (1 + inflation)\n",
    "\n",
    "unit_cost_3 = 40\n",
    "for i in range(years):\n",
    "    unit_cost_3 = unit_cost_3 * (1 + inflation)\n",
    "\n",
    "# Compute staff pay costs\n",
    "pay = 10\n",
    "pay_increase = 0.01\n",
    "# pay increases are quarterly\n",
    "for i in range(years * 4):\n",
    "    pay = pay * (1 + pay_increase)\n",
    "\n",
    "units_producable = (income - pay) / unit_cost_1\n",
    "print((\"We can afford to make %d units of unit type 1\" % units_producable))\n",
    "\n",
    "units_producable = (income - pay) / unit_cost_2\n",
    "print((\"We can afford to make %d units of unit type 2\" % units_producable))\n",
    "\n",
    "units_producable = (income - pay) / unit_cost_3\n",
    "print((\"We can afford to make %d units of unit type 3\" % units_producable))"
   ]
  },
  {
   "cell_type": "code",
   "execution_count": 14,
   "metadata": {},
   "outputs": [],
   "source": [
    "# Solution goes here"
   ]
  },
  {
   "cell_type": "markdown",
   "metadata": {},
   "source": [
    "## A. 6\n",
    "\n",
    "This code is supposed to print out the traditional song:\n",
    "    \n",
    "    99 bottles of beer on the wall, 99 bottles of beer.\n",
    "    Take one down, pass it around, 98 bottles of beer on the wall...\n",
    "    98 bottles of beer on the wall, 98 bottles of beer.\n",
    "    Take one down, pass it around, 97 bottles of beer on the wall...\n",
    "    ...\n",
    "    No more bottles of beer on the wall, no more bottles of beer.\n",
    "    There's nothing else to fall, because there's no more bottles of beer on the wall.\n",
    "    \n",
    "The code doesn't work right. Make *minor* changes to fix the function calls to make it work correctly. To make it easier to read (and better for your health), this version just prints starting from nine bottles instead of 99."
   ]
  },
  {
   "cell_type": "code",
   "execution_count": 15,
   "metadata": {},
   "outputs": [],
   "source": [
    "def last_line():\n",
    "    return \"\"\"No more bottles of beer on the wall, no more bottles of beer.\n",
    "There's nothing else to fall, because there's no more bottles of beer on the wall.\"\"\"\n",
    "\n",
    "\n",
    "def beer_line(cur_song=\"\", n=9):    \n",
    "    line = \"{n} bottles of beer on the wall, {n} bottles of beer\\n\".format(n=n)\n",
    "    return  take_line(line, n)\n",
    "    \n",
    "\n",
    "def take_line(cur_song, n):\n",
    "    if n > 0:\n",
    "        n = n - 1\n",
    "        line = \"Take one and pass it around, {n} of beer on the wall...\\n\".format(n=n)\n",
    "        return take_line(cur_song + line, n)\n",
    "    else:\n",
    "        return last_line\n",
    "\n",
    "\n",
    "print(beer_line())"
   ]
  },
  {
   "cell_type": "code",
   "execution_count": 16,
   "metadata": {},
   "outputs": [],
   "source": [
    "# Solution goes here"
   ]
  },
  {
   "cell_type": "markdown",
   "metadata": {},
   "source": [
    "### A.7 Recursive division\n",
    "In the lecture notes last week, you saw this code like this to compute a division:"
   ]
  },
  {
   "cell_type": "code",
   "execution_count": 17,
   "metadata": {},
   "outputs": [],
   "source": [
    "# division by repeated subtraction\n",
    "def divide(num, denom):\n",
    "    result = 0\n",
    "    while num >= 0:\n",
    "        num = num - denom\n",
    "        result += 1\n",
    "    return result - 1, denom + num\n",
    "\n",
    "\n",
    "print(divide(64, 7))"
   ]
  },
  {
   "cell_type": "markdown",
   "metadata": {},
   "source": [
    "    \n",
    "Rewrite this function using **recursion** instead of `while` or `for`. Call it `divide_recursive`. Do not use:\n",
    "* *any* form of division in your solution (e.g. `/` or `//`) or\n",
    "* *any* form of iteration (`while` or `for`). \n",
    "\n",
    "Check that you get the same output as the code above. Make sure your function takes the same parameters and returns the same values as the function above!\n",
    "\n",
    "Remember the golden rule of recursion: **write the base case first**.\n",
    "\n",
    "Note that you only need to deal with the case when both `num` and `denom` are positive integers.\n",
    "\n",
    "The recursive solution should be a function which calls itself *with different arguments*. You may find it helpful to break it into two functions, use multiple return values, and/or to use optional parameters to solve this problem."
   ]
  },
  {
   "cell_type": "code",
   "execution_count": 18,
   "metadata": {},
   "outputs": [],
   "source": [
    "# Solution goes here"
   ]
  },
  {
   "cell_type": "code",
   "execution_count": 19,
   "metadata": {},
   "outputs": [],
   "source": [
    "### Tests\n",
    "assert (divide_recursive(64, 7) == (9, 1))\n",
    "assert (divide_recursive(64, 8) == (8, 0))\n",
    "assert (divide_recursive(100, 8) == (12, 4))\n",
    "print(\"All OK\")"
   ]
  },
  {
   "cell_type": "markdown",
   "metadata": {},
   "source": []
  },
  {
   "cell_type": "markdown",
   "metadata": {},
   "source": [
    "## B. A tattoo parlour\n",
    "You've joined a company opening a new \"digital tattoo\" parlour. \n",
    "\n",
    "<img src=\"imgs/tattoo.jpg\">\n",
    "\n",
    "*Image credit: Blast 707 Photography via flickr.com CC-BY 2.0*\n",
    "\n",
    "As part of this, you've been tasked with developing a range of new customised tattoos for each client. The parlour is a rather dodgy operation and works on a shoestring budget, so you need to be able to knock together complicated-looking tattoo designs with very little effort.\n",
    "\n",
    "You need to build up the tattoo from two parts:\n",
    "* a mandala (a circular design with repeated shapes)\n",
    "* some lettering\n",
    "\n",
    "To make it possible to franchise the business quickly, you have to assume the tattoo artist has no idea what he or she is doing. But the tattooist will be capable drawing simple things like drawing simple shapes or inking individual letters.  You just have to tell the artist how to put these together into a design you can charge money for. \n",
    "\n",
    "When you've finished, you should be able to quickly turn out beautiful tattoos like this:\n",
    "<img src=\"imgs/cheap_tats.png\">"
   ]
  },
  {
   "cell_type": "markdown",
   "metadata": {},
   "source": [
    "## Geometric design\n",
    "\n",
    "There are a few commands you can use to control the tattoo operation. These are the **API** (application programmers interface), which tells you what functions are available. You can create a tattooist with\n",
    "\n",
    "    t = Tattooist() # make a new tattoo artist\n",
    "    \n",
    "And then you can use the following two functions:\n",
    "\n",
    "* `t.get_shape(name)`\n",
    "  \n",
    "      returns a shape that can be drawn, given a name like \"hexagon\"\n",
    "  \n",
    "* `t.draw_shape(shape, angle, distance, rotation, size)`\n",
    "\n",
    "        shape: the shape to draw, as returned from t.get_shape()\n",
    "        angle: angle, in degrees, to draw the shape at\n",
    "        distance: distance, in mm, from the centre to draw the shape at\n",
    "        rotation: rotation of the shape, in degrees\n",
    "        size: size of the shape, in mm\n",
    "\n",
    "The position of the shape to be draw in specified in terms of an **angle** and a **distance** from the center. The **rotation** rotates the shape itself.\n",
    "\n",
    "Note that the size of the space you have to work with is 100mm square."
   ]
  },
  {
   "cell_type": "code",
   "execution_count": 20,
   "metadata": {},
   "outputs": [],
   "source": [
    "## MAKE SURE YOU RUN THIS CELL!\n",
    "%matplotlib inline\n",
    "import tattoo\n",
    "from importlib import reload; reload(tattoo)\n",
    "from tattoo import Tattooist, get_shape, load_font\n",
    "import random"
   ]
  },
  {
   "cell_type": "markdown",
   "metadata": {},
   "source": [
    "For example, the following code draws a single hexagon:"
   ]
  },
  {
   "cell_type": "code",
   "execution_count": 21,
   "metadata": {},
   "outputs": [],
   "source": [
    "t = Tattooist()\n",
    "hexagon = t.get_shape(\"hexagon\")\n",
    "t.draw_shape(hexagon, angle=0, distance=0, rotation=0, size=10)"
   ]
  },
  {
   "cell_type": "markdown",
   "metadata": {},
   "source": [
    "       \n",
    "#### Available shapes        \n",
    "The following shapes are available:"
   ]
  },
  {
   "cell_type": "code",
   "execution_count": 22,
   "metadata": {},
   "outputs": [],
   "source": [
    "shapes = [\n",
    "    \"circle\",\n",
    "    \"dash\",\n",
    "    \"star6\",\n",
    "    \"hexagon\",\n",
    "    \"spike\",\n",
    "    \"star5\",\n",
    "    \"teardrop\",\n",
    "    \"roundhex\",\n",
    "    \"roundstar6\",\n",
    "    \"ellipse\",\n",
    "    \"tribal_1\",\n",
    "    \"tribal_2\",\n",
    "    \"tribal_3\",\n",
    "    \"tribal_4\",\n",
    "    \"bullet\",\n",
    "]\n",
    "\n"
   ]
  },
  {
   "cell_type": "markdown",
   "metadata": {},
   "source": [
    "## B.1 Test-driving the shapes\n",
    "\n",
    "Write a function `demo_shapes()` that shows each of the shapes on the same background.\n",
    "\n",
    "Note: You can iterate over a sequence of strings like this:\n",
    "        "
   ]
  },
  {
   "cell_type": "code",
   "execution_count": 23,
   "metadata": {},
   "outputs": [],
   "source": [
    "strings = [\"a\", \"baby\", \"car\"]\n",
    "for s in strings:\n",
    "    print(s)"
   ]
  },
  {
   "cell_type": "code",
   "execution_count": 24,
   "metadata": {},
   "outputs": [],
   "source": [
    "# Solution goes here"
   ]
  },
  {
   "cell_type": "code",
   "execution_count": 25,
   "metadata": {},
   "outputs": [],
   "source": [
    "# this should draw the shapes\n",
    "demo_shapes()"
   ]
  },
  {
   "cell_type": "markdown",
   "metadata": {},
   "source": [
    "The result should look like this (you might have slight variations in layout -- this is fine):\n",
    "    <img src=\"demo_shapes_result.png\">"
   ]
  },
  {
   "cell_type": "markdown",
   "metadata": {},
   "source": [
    "## B.2 Mandalas"
   ]
  },
  {
   "cell_type": "markdown",
   "metadata": {},
   "source": [
    "\n",
    "A **mandala** is a circular design, which has a number of elements arranged concentrically around the centre.\n",
    "\n",
    "A mandala consists of a number of **rings**. Each ring has a certain radius, with a number of repeated shapes, as well as a *scale* which changes how big the individual shapes are.\n",
    "\n",
    "<img src=\"imgs/mandala.png\" width=\"300px\">\n",
    "\n",
    "This **mandala** uses only ellipses, but varies the number of repetitions and the scale of the ellipses in three different **rings**.\n",
    "\n",
    "A **mandala** is just a set of **rings**, and each **ring** is just a collection of shapes.\n",
    "\n",
    "<img src=\"imgs/mandala_ring.png\" width=\"500px\">\n",
    "\n",
    "### Task: Ring\n",
    "* Write a function `ring()` that can draw a ring, that is a circular collection of shapes. Parameterise it so that you can control the radius of the ring, the number of shapes, the shape to use and its size.\n",
    "\n",
    "*Optional: You might want to make it possible to rotate the individual elements in interesting ways as well...*\n"
   ]
  },
  {
   "cell_type": "code",
   "execution_count": 26,
   "metadata": {},
   "outputs": [],
   "source": [
    "# Solution goes here"
   ]
  },
  {
   "cell_type": "markdown",
   "metadata": {
    "collapsed": true
   },
   "source": [
    "### Task 3: Full mandala\n",
    "Then, write a function which can draw an entire mandala. Decide how to parameterise this function to allow mandalas of different designs to be drawn. **You** have to come up with a set of sensible parameters.\n",
    "\n",
    "You may wish to use random numbers (or another function) to decide how to draw each ring. Remember that you can use \n",
    "\n",
    "    import random\n",
    "    \n",
    "    random.uniform(min, max)\n",
    "    \n",
    "to generate a random number between `min` and `max`. (e.g. `random.uniform(0,1)` will return a value between 0 and 1). \n",
    "\n",
    "Your function should call `ring()`! *DO NOT* repeat the `ring()` code again.\n",
    "\n",
    "Remember to generate a new tattooist using `t=Tattooist()` for your drawing, at the start of the cell."
   ]
  },
  {
   "cell_type": "code",
   "execution_count": 27,
   "metadata": {},
   "outputs": [],
   "source": [
    "# Solution goes here"
   ]
  },
  {
   "cell_type": "markdown",
   "metadata": {},
   "source": [
    "-------------\n",
    "\n",
    "# C Extended problems\n",
    "These *extended* problems are optional for students who are keen to learn more. If you've finished the whole lab and want to explore these ideas in more depth, these problems and resources are intended to help you do that. <font color=\"red\"> You do not need to attempt any of this section to receive a tick! </font>"
   ]
  },
  {
   "cell_type": "markdown",
   "metadata": {},
   "source": [
    "## C.1 Text\n",
    "There is a handy function which provides letters that you can tell the tattooist to draw. \n",
    "\n",
    "You can draw a letter with:\n",
    "\n",
    "    x_shift, y_shift = t.draw_letter(letter, angle, distance, rotation, \n",
    "                                     size, offset_x, offset_y, draw)\n",
    "    \n",
    "This works just like the `draw_shape()` function. But:\n",
    "* it doesn't fill the letters, just outlines them\n",
    "* the `offset_x` and `offset_y` parameters allow you to shift the position of the letters horizontally and vector (e.g. `offset_x=20` means to draw the letter 20mm left of where it would be drawn otherwise).\n",
    "* it **returns** a *relative* shift in the position so that the tattoist can move to the right place to draw the next letter\n",
    "* If `draw` is False, nothing is drawn, but the offset to move is computed. If `draw` is True, the letter is drawn and the offset to move is computed.\n",
    "    \n",
    "There are several **fonts** that can provide different letters to draw.\n",
    "\n",
    "To load a font, use `myfont = load_font(font_name)`, as below. To get the specific letter inside a font, use the syntax `myfont['e']` to get the letter `e`. See below:\n",
    "\n"
   ]
  },
  {
   "cell_type": "code",
   "execution_count": 28,
   "metadata": {},
   "outputs": [],
   "source": [
    "t = Tattooist()\n",
    "futura = load_font(\"futural\") # simple font\n",
    "\n",
    "# read this code carefully, and try adjusting some of the parameters\n",
    "# before moving onwards\n",
    "# draw `Ta`, starting at the centre\n",
    "x,y = t.draw_letter(futura['T'], angle=0, distance=0, rotation=0, \n",
    "                    size=10, offset_x=0, offset_y=0, draw=True)\n",
    "x,y = t.draw_letter(futura['a'], angle=0, distance=0, rotation=0, \n",
    "                    size=10, offset_x=x, offset_y=y, draw=True)\n"
   ]
  },
  {
   "cell_type": "markdown",
   "metadata": {},
   "source": [
    "## Task\n",
    "\n",
    "* Write a function which will draw an entire string onto the tattoo, at a specific angle and distance. Remember you can iterate through the characters of a string using `for`. \n",
    "\n",
    "* Add *optional* parameters to your function to allow the size and rotation of the text to be specified.\n",
    "\n",
    "\n",
    "\n",
    "You can choose from a number of fonts:\n",
    "* **futural** Simple clean font\n",
    "* **scripts** Script font\n",
    "* **timesr** Serif font\n",
    "* **gothicger** Heavy gothic font\n",
    "* **japanese** Japanaese characters\n",
    "\n",
    "(if you look in the `hershey-fonts` directory you can find more font names you can use)."
   ]
  },
  {
   "cell_type": "code",
   "execution_count": 29,
   "metadata": {},
   "outputs": [],
   "source": [
    "# Solution goes here"
   ]
  },
  {
   "cell_type": "markdown",
   "metadata": {},
   "source": [
    "## All together\n",
    "Draw all of the elements at once to generate the final tattoo form. Write a single function `generate_tattoo()` which can generate the whole tattoo. It should take parameters (of your choice) specifying the mandala design, and the position, font and content of the text to be written on. \n",
    "\n",
    "It should be possible to generate a reasonably interesting range of patterns by changing the parameters to `generate_tattoo()`.\n",
    "\n",
    "You may have to fiddle around to get the text in a sensible place. If you want to centre the text, look at the C part for instructions.\n",
    "\n",
    "Think about how you can give control over the design while keeping the number of parameters under control."
   ]
  },
  {
   "cell_type": "code",
   "execution_count": 30,
   "metadata": {},
   "outputs": [],
   "source": [
    "# Solution goes here"
   ]
  },
  {
   "cell_type": "markdown",
   "metadata": {},
   "source": [
    "\n",
    "* The `draw_string()` function you have written does not respect newlines in the text. Modify it so the tattoo text can be split over multiple lines by putting the newlines in the input string.\n",
    "* Allow the text to be centered, with another optional Boolean parameter. *Hint*: The only way to do this is to iterate through the drawing coordinates for a sequence of text, and find out how big the text is going to be, then shift back by half of that before drawing it.\n",
    "* If you really want to push it, make the an option to have text wrap in a circle (e.g. around the outside of the mandala)"
   ]
  },
  {
   "cell_type": "code",
   "execution_count": 31,
   "metadata": {},
   "outputs": [],
   "source": [
    "# Solution goes here"
   ]
  },
  {
   "cell_type": "markdown",
   "metadata": {},
   "source": [
    "# C.2 Variable arguments\n",
    "We know how to pass a fixed number of arguments to a function, and we can make some or all of those optional."
   ]
  },
  {
   "cell_type": "code",
   "execution_count": 32,
   "metadata": {},
   "outputs": [],
   "source": [
    "def fn(a, b=0):\n",
    "    return a + b\n",
    "\n",
    "fn(10, 10) # fine b=10\n",
    "fn(10) # fine b=0"
   ]
  },
  {
   "cell_type": "markdown",
   "metadata": {},
   "source": [
    "But what if we didn't know how many arguments we wanted to send in advance? Python allows **unpacking** to pass a variable number of arguments to a function. The `*` symbol can be used before a parameter name to \"collect up\" all left-over arguments into a list:"
   ]
  },
  {
   "cell_type": "code",
   "execution_count": 33,
   "metadata": {},
   "outputs": [],
   "source": [
    "def print_all(*args):\n",
    "    # args is now a *list* of all the arguments\n",
    "    for arg in args:\n",
    "        print(arg, end=' ')\n",
    "    print()\n",
    "        \n",
    "print_all(1)\n",
    "print_all(1,2,3)\n",
    "print_all(\"variable\", \"argument\")"
   ]
  },
  {
   "cell_type": "markdown",
   "metadata": {},
   "source": [
    "We can have a mix of positional and variable arguments. But note that `*args` must come **after** any fixed positional arguments."
   ]
  },
  {
   "cell_type": "code",
   "execution_count": 34,
   "metadata": {},
   "outputs": [],
   "source": [
    "def print_all_prefix(prefix, *args):\n",
    "    for arg in args:\n",
    "        print(prefix, arg, end=' ') \n",
    "    print()\n",
    "    \n",
    "print_all_prefix(\">\",1)\n",
    "print_all_prefix(\">\",1,2,3)"
   ]
  },
  {
   "cell_type": "markdown",
   "metadata": {},
   "source": [
    "Similarly, we can pass a list or sequence of values to any function by using `*args`. In this case, the `*` appears in the call. The receiver does not need to have specified `*args`; as long as the number of arguments matches the expected number of parameters, everything works fine:"
   ]
  },
  {
   "cell_type": "code",
   "execution_count": 35,
   "metadata": {},
   "outputs": [],
   "source": [
    "def fn_two(a,b):\n",
    "    print((a + b))\n",
    "    \n",
    "fn_two(*[1,2]) # exactly the same as fn(1,2)\n",
    "\n",
    "arg_list = [\"man\", \"glue\", \"gran\"]\n",
    "print_all_prefix(\"super\", *arg_list)"
   ]
  },
  {
   "cell_type": "markdown",
   "metadata": {},
   "source": [
    "## Task\n",
    "Use this knowledge to write three functions (equivalents are built into Python already, but write these yourself):\n",
    "\n",
    "       # returns a list of the given values\n",
    "       map_fn(fn, *args)  transformed by fn\n",
    "       \n",
    "       # just calls fn with args as the parameter list\n",
    "       apply_fn(fn, *args) \n",
    "       \n",
    "       # assuming fn is a function with two arguments,\n",
    "       # repeatedly calls fn on the current value and the\n",
    "       # next value from args until all values are consumed\n",
    "       reduce_fn(fn, *args) "
   ]
  },
  {
   "cell_type": "code",
   "execution_count": 36,
   "metadata": {},
   "outputs": [],
   "source": [
    "# Solution goes here"
   ]
  },
  {
   "cell_type": "code",
   "execution_count": 37,
   "metadata": {},
   "outputs": [],
   "source": [
    "## Tests\n",
    "\n",
    "def make_super(x): \n",
    "    return \"super\"+x\n",
    "\n",
    "def concat(x,y):\n",
    "    return x+y\n",
    "\n",
    "def nth(n, *args):\n",
    "    return [arg[n] for arg in args]\n",
    "\n",
    "\n",
    "assert(map_fn(make_super, \"man\", \"glue\", \"gran\")==[\"superman\", \"superglue\", \"supergran\"])\n",
    "# should return [\"superman\", \"superglue\", \"supergran\"]\n",
    "\n",
    "assert(apply_fn(nth, 1, \"five\", \"six\", \"seven\")==['i','i','e'])\n",
    "# should return [\"i\",\"i\",\"e\"]\n",
    "\n",
    "assert(reduce_fn(concat, \"-==\", \"[-]\", \"==-\")=='-==[-]==-')\n",
    "# should return \"-==[-]==-\""
   ]
  },
  {
   "cell_type": "markdown",
   "metadata": {},
   "source": [
    "## **kwargs\n",
    "If you're interested in reading further, look up how to use `**kwargs` to pass and receive *keyword* arguments to functions using *dictionaries*.\n",
    "\n",
    "`*args` and `**kwargs` are very useful when you need to propagate some parameters from a \"wrapper\" function into code that actually performed the operation."
   ]
  },
  {
   "cell_type": "markdown",
   "metadata": {},
   "source": [
    "# C.3 Mutual recursion\n",
    "We've seen simple recursion, when a function makes a call to itself. But we can have **mutual recursion**, where one function calls another, which calls the first one back, and so on. The data gets passed back and forth via parameters and return values like a ping-pong ball in a table tennis match.\n",
    "\n",
    "## Task\n",
    "The following example can be solved easily with iteration or simple recursion. But try writing in a mutually recusive form.\n",
    "\n",
    "The Collatz sequence is a sequence of values given by the rule, starting from a number *n*:\n",
    "* if n is == 1, stop\n",
    "* otherwise, if n is even, half it\n",
    "* otherwise n = n*3+1\n",
    "\n",
    "Write three functions `collatz()`, `half()` and `tripleadd()` which do the following:\n",
    "* `collatz` if n!=1, prints n and calls either `half()` or `tripleadd()`\n",
    "* `half` halves `n` and calls `collatz()`\n",
    "* `tripleadd` computes `3n+1` and then calls `collatz()`\n",
    "\n",
    "**`collatz()` should not have a return statement in it!**\n",
    "\n"
   ]
  },
  {
   "cell_type": "code",
   "execution_count": 38,
   "metadata": {},
   "outputs": [],
   "source": [
    "# Solution goes here"
   ]
  },
  {
   "cell_type": "markdown",
   "metadata": {},
   "source": [
    "## Extension\n",
    "Plot the number of iterations taken to get to 1 as a function of the starting value *n*. \n",
    "\n",
    "You can check your graph against the one here http://paulbourke.net/fractals/oneness/ (called *oneness* in this context). And consider this xkcd comic: https://xkcd.com/710/ :)"
   ]
  }
 ],
 "metadata": {
  "kernelspec": {
   "display_name": "Python 3",
   "language": "python",
   "name": "python3"
  },
  "language_info": {
   "codemirror_mode": {
    "name": "ipython",
    "version": 3
   },
   "file_extension": ".py",
   "mimetype": "text/x-python",
   "name": "python",
   "nbconvert_exporter": "python",
   "pygments_lexer": "ipython3",
   "version": "3.7.3"
  },
  "toc": {
   "base_numbering": 1,
   "nav_menu": {},
   "number_sections": true,
   "sideBar": true,
   "skip_h1_title": false,
   "title_cell": "Table of Contents",
   "title_sidebar": "Contents",
   "toc_cell": false,
   "toc_position": {},
   "toc_section_display": true,
   "toc_window_display": true
  },
  "varInspector": {
   "cols": {
    "lenName": 16,
    "lenType": 16,
    "lenVar": 40
   },
   "kernels_config": {
    "python": {
     "delete_cmd_postfix": "",
     "delete_cmd_prefix": "del ",
     "library": "var_list.py",
     "varRefreshCmd": "print(var_dic_list())"
    },
    "r": {
     "delete_cmd_postfix": ") ",
     "delete_cmd_prefix": "rm(",
     "library": "var_list.r",
     "varRefreshCmd": "cat(var_dic_list()) "
    }
   },
   "types_to_exclude": [
    "module",
    "function",
    "builtin_function_or_method",
    "instance",
    "_Feature"
   ],
   "window_display": false
  }
 },
 "nbformat": 4,
 "nbformat_minor": 1
}
