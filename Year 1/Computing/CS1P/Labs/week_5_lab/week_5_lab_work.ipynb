{
 "cells": [
  {
   "cell_type": "markdown",
   "metadata": {},
   "source": [
    "# Week 5 : Lab \n",
    " ## Data structures: Dictionaries and classes\n",
    " ##### CS1P - University of Glasgow - John H. Williamson - 2019/2020 - Python 3.x"
   ]
  },
  {
   "cell_type": "markdown",
   "metadata": {},
   "source": []
  },
  {
   "cell_type": "markdown",
   "metadata": {},
   "source": [
    "\n",
    "## Lab exercise\n",
    "\n",
    "**You must make a reasonble attempt at this exercise to gain a tick for this work**.\n",
    "\n",
    "<div class=\"alert alert-box alert-danger\"> Remember to save your work frequently! </div>\n"
   ]
  },
  {
   "cell_type": "markdown",
   "metadata": {},
   "source": []
  },
  {
   "cell_type": "markdown",
   "metadata": {},
   "source": [
    "## Purpose of this lab\n",
    "This lab will exercise your skills in:\n",
    "\n",
    "* iterating over dictionaries\n",
    "* representing data as dictionaries\n",
    "* using dictionaries to package up arguments\n",
    "* writing adventure games\n"
   ]
  },
  {
   "cell_type": "markdown",
   "metadata": {},
   "source": [
    "\n",
    "## Before the lab\n",
    "* Complete at least the A exercises, and start the B part.\n"
   ]
  },
  {
   "cell_type": "markdown",
   "metadata": {},
   "source": [
    "## During the lab session\n",
    "* Complete the B exercise. This is a single, longer exercise this week, and will require some creativity on your part.\n"
   ]
  },
  {
   "cell_type": "markdown",
   "metadata": {},
   "source": [
    "## A. Quick problems"
   ]
  },
  {
   "cell_type": "markdown",
   "metadata": {},
   "source": [
    "## A.1 Key value exchange\n",
    "Write a function `swap_dict()`, which returns a new dictionary with keys and values in a dictionary interchanged. You do not have to deal with repeated keys. For example:\n",
    "\n",
    "    {\"a\":1, \"b\":2}\n",
    "    \n",
    "should become\n",
    "\n",
    "    {1:\"a\", 2:\"b\"}\n"
   ]
  },
  {
   "cell_type": "code",
   "execution_count": 5,
   "metadata": {},
   "outputs": [],
   "source": [
    "# Solution goes here\n",
    "def swap_dict(dic):\n",
    "    temp = {}\n",
    "    for key, value in dic.items():\n",
    "        temp[value] = key\n",
    "    return temp"
   ]
  },
  {
   "cell_type": "code",
   "execution_count": 6,
   "metadata": {},
   "outputs": [
    {
     "data": {
      "text/html": [
       " \n",
       "        <div class=\"alert alert-box alert-success\">\n",
       "        <h1> <font color=\"green\"> ✓ Correct </font> </h1>\n",
       "        </div>\n",
       "        "
      ],
      "text/plain": [
       "<IPython.core.display.HTML object>"
      ]
     },
     "metadata": {},
     "output_type": "display_data"
    },
    {
     "data": {
      "text/html": [
       " \n",
       "        <div class=\"alert alert-box alert-success\">\n",
       "        <h1> <font color=\"green\"> ✓ Correct </font> </h1>\n",
       "        </div>\n",
       "        "
      ],
      "text/plain": [
       "<IPython.core.display.HTML object>"
      ]
     },
     "metadata": {},
     "output_type": "display_data"
    },
    {
     "data": {
      "text/html": [
       " \n",
       "        <div class=\"alert alert-box alert-success\">\n",
       "        <h1> <font color=\"green\"> ✓ Correct </font> </h1>\n",
       "        </div>\n",
       "        "
      ],
      "text/plain": [
       "<IPython.core.display.HTML object>"
      ]
     },
     "metadata": {},
     "output_type": "display_data"
    }
   ],
   "source": [
    "## Tests\n",
    "from utils.tick import tick, check_answer\n",
    "with tick():\n",
    "    assert(swap_dict({\"a\":1, \"b\":2})=={1:\"a\", 2:\"b\"})\n",
    "with tick():\n",
    "    assert(swap_dict({\"a\":1, \"b\":2, \"c\":3})=={1:\"a\", 2:\"b\", 3:\"c\"})\n",
    "\n",
    "fruit = {\"apple\":\"red\", \"lime\":\"green\", \"orange\":\"orange\", \"lemon\":\"yellow\"}\n",
    "with tick():\n",
    "    assert(swap_dict(fruit)=={'orange': 'orange', 'green': 'lime', 'red': 'apple', \n",
    "                          'yellow': 'lemon'})\n"
   ]
  },
  {
   "cell_type": "markdown",
   "metadata": {},
   "source": [
    "## A.2 List to dictionary\n",
    "\n",
    "Write a function `list_to_dict` that will take a `list` and convert it to a dictionary, where the keys are the same as the indices of the original list, and the values are the correspond elements.\n",
    "\n",
    "For example: \n",
    "\n",
    "    d = list_to_dict([\"blue\", \"orange\", \"green\"])\n",
    "    \n",
    "should return a dictionary:\n",
    "\n",
    "        {0 : \"blue\",\n",
    "        1 : \"orange\",\n",
    "        2 : \"green\"}\n",
    "\n"
   ]
  },
  {
   "cell_type": "code",
   "execution_count": 7,
   "metadata": {},
   "outputs": [],
   "source": [
    "# Solution goes here\n",
    "def list_to_dict(l):\n",
    "    temp = {}\n",
    "    for i, el in enumerate(l):\n",
    "        temp[i] = el\n",
    "    return temp"
   ]
  },
  {
   "cell_type": "code",
   "execution_count": 8,
   "metadata": {},
   "outputs": [
    {
     "data": {
      "text/html": [
       " \n",
       "        <div class=\"alert alert-box alert-success\">\n",
       "        <h1> <font color=\"green\"> ✓ Correct </font> </h1>\n",
       "        </div>\n",
       "        "
      ],
      "text/plain": [
       "<IPython.core.display.HTML object>"
      ]
     },
     "metadata": {},
     "output_type": "display_data"
    }
   ],
   "source": [
    "## Tests\n",
    "with tick():\n",
    "    \n",
    "    def test_list(l):        \n",
    "        d =  list_to_dict(l)\n",
    "        assert type(d)==type({})\n",
    "        assert len(d) == len(l)\n",
    "        return d\n",
    "    \n",
    "    d = test_list([\"blue\", \"orange\", \"green\"])\n",
    "    assert d[0]==\"blue\"\n",
    "    assert d[1]==\"orange\"\n",
    "    assert d[2]==\"green\"\n",
    "    \n",
    "    d = test_list([])\n",
    "    d = test_list([\"hey\"])\n",
    "    assert d[0] == \"hey\"\n",
    "\n",
    "    "
   ]
  },
  {
   "cell_type": "markdown",
   "metadata": {},
   "source": [
    "## A.3  Word count\n",
    "Write a function that reads in `sentences.txt` (the file reading code is written for you) and computes the number of times each word appears. \n",
    "\n",
    "* Use `word.lower()` to convert a string `word` to lowercase.\n",
    "* Don't worry about punctuation. \n",
    "* Print out the word count neatly, one word per line.\n",
    "* Sort the words by frequency (most frequent first).\n",
    "* **Don't print words that appear less than 6 times.**\n",
    "\n",
    "Your output should start:\n",
    "\n",
    "    751 the\n",
    "    202 a\n",
    "    132 of\n",
    "    123 to"
   ]
  },
  {
   "cell_type": "code",
   "execution_count": 10,
   "metadata": {},
   "outputs": [
    {
     "ename": "FileNotFoundError",
     "evalue": "[Errno 2] No such file or directory: 'sentences.txt'",
     "output_type": "error",
     "traceback": [
      "\u001b[1;31m---------------------------------------------------------------------------\u001b[0m",
      "\u001b[1;31mFileNotFoundError\u001b[0m                         Traceback (most recent call last)",
      "\u001b[1;32m<ipython-input-10-979f1ccdebe5>\u001b[0m in \u001b[0;36m<module>\u001b[1;34m\u001b[0m\n\u001b[0;32m      1\u001b[0m \u001b[1;31m# open and read a text file\u001b[0m\u001b[1;33m\u001b[0m\u001b[1;33m\u001b[0m\u001b[1;33m\u001b[0m\u001b[0m\n\u001b[1;32m----> 2\u001b[1;33m \u001b[1;32mwith\u001b[0m \u001b[0mopen\u001b[0m\u001b[1;33m(\u001b[0m\u001b[1;34m\"sentences.txt\"\u001b[0m\u001b[1;33m)\u001b[0m \u001b[1;32mas\u001b[0m \u001b[0mf\u001b[0m\u001b[1;33m:\u001b[0m\u001b[1;33m\u001b[0m\u001b[1;33m\u001b[0m\u001b[0m\n\u001b[0m\u001b[0;32m      3\u001b[0m     \u001b[1;31m# get all of the words; words will be a\u001b[0m\u001b[1;33m\u001b[0m\u001b[1;33m\u001b[0m\u001b[1;33m\u001b[0m\u001b[0m\n\u001b[0;32m      4\u001b[0m     \u001b[1;31m# *list* of strings. You can verify this\u001b[0m\u001b[1;33m\u001b[0m\u001b[1;33m\u001b[0m\u001b[1;33m\u001b[0m\u001b[0m\n\u001b[0;32m      5\u001b[0m     \u001b[1;31m# by printing it out\u001b[0m\u001b[1;33m\u001b[0m\u001b[1;33m\u001b[0m\u001b[1;33m\u001b[0m\u001b[0m\n",
      "\u001b[1;31mFileNotFoundError\u001b[0m: [Errno 2] No such file or directory: 'sentences.txt'"
     ]
    }
   ],
   "source": [
    "# open and read a text file\n",
    "with open(\"sentences.txt\") as f:\n",
    "    # get all of the words; words will be a\n",
    "    # *list* of strings. You can verify this\n",
    "    # by printing it out\n",
    "    words = f.read().split()\n",
    "    \n",
    "    print(words)\n",
    "\n"
   ]
  },
  {
   "cell_type": "markdown",
   "metadata": {},
   "source": [
    "\n",
    "## A.4 Pretty print\n",
    "\n",
    "Python's default printing of a dictionary is ugly. **Without using `pprint`** (which formats things quite differently), write a function `pretty_print()` to print a dictionary nicely, so that:\n",
    "\n",
    "    {\"monster\":{\"name\":\"Marilith\", \"alignment\":\"chaotic\", \n",
    "    \"stats\":{\n",
    "        \"hit_points\":20, \"speed\":12, \n",
    "        \"armour\":{\"class\":-6, \"magic\":False}},\n",
    "    \"resists\":[\"fire\", \"poison\", \"boredom\"]}}\n",
    "    \n",
    "is printed out as\n",
    "\n",
    "    monster\n",
    "        name ⇒ Marilith\n",
    "        alignment ⇒ chaotic        \n",
    "        stats\n",
    "            hit_points ⇒ 20\n",
    "            speed ⇒ 12\n",
    "            armour \n",
    "                class ⇒ -6\n",
    "                magic ⇒ False\n",
    "        resists ⇒ fire, poison, boredom\n",
    "        \n",
    "Dictionaries should be printed using the format `key ⇒ value`, one key per line. The order of dictionary items does not matter.\n",
    "\n",
    "Note: you can get the arrow character by copy and pasting from above (it's just a text character).\n",
    "\n",
    "* If a value is a dictionary, print each element of this dictionary on its own line, but indent the line by an extra four spaces, and so on. **Nested dictionaries should be formatted with increasing indentation.**\n",
    "\n",
    "* If a value is a list, print the list as a comma separated list (without square brackets). **Don't worry about dictionaries within lists or lists within lists; just print the element out directly without any special formatting**\n",
    "\n",
    "\n",
    "*Hint 1:* This problem is easy to solve recursively, and trickier otherwise.\n",
    "*Hint 2:* You can check if a value is a dictionary using `type(value)==type({})`; likewise for lists."
   ]
  },
  {
   "cell_type": "code",
   "execution_count": 32,
   "metadata": {},
   "outputs": [],
   "source": [
    "# Solution goes here\n",
    "def pretty_print(dic, index=0):\n",
    "    for key, value in dic.items():\n",
    "        if type(value)==type({}):\n",
    "            print(\"    \"*index+str(key))\n",
    "            pretty_print(value, index+1)\n",
    "        elif type(value)==type([]):\n",
    "            print(\"    \"*index+str(key)+\" ⇒ \", end=\"\")\n",
    "            for i in range(len(value)-1):\n",
    "                print(value[i]+\", \", end=\"\")\n",
    "            print(value[-1])\n",
    "        else:\n",
    "            print(\"    \"*index+str(key)+\" ⇒ \"+str(value))"
   ]
  },
  {
   "cell_type": "code",
   "execution_count": 33,
   "metadata": {},
   "outputs": [
    {
     "name": "stdout",
     "output_type": "stream",
     "text": [
      "monster\n",
      "    name ⇒ Marilith\n",
      "    alignment ⇒ chaotic\n",
      "    stats\n",
      "        hit_points ⇒ 20\n",
      "        speed ⇒ 12\n",
      "        armour\n",
      "            class ⇒ -6\n",
      "            magic ⇒ False\n",
      "    resists ⇒ fire, poison, boredom\n"
     ]
    }
   ],
   "source": [
    "# should look like above            \n",
    "pretty_print(    {\"monster\":{\"name\":\"Marilith\", \"alignment\":\"chaotic\", \n",
    "    \"stats\":{\n",
    "        \"hit_points\":20, \"speed\":12, \n",
    "        \"armour\":{\"class\":-6, \"magic\":False}},\n",
    "    \"resists\":[\"fire\", \"poison\", \"boredom\"]}})"
   ]
  },
  {
   "cell_type": "markdown",
   "metadata": {},
   "source": [
    "## A.5 Alternative case\n",
    "\n",
    "Some other languages have a multiple branch statement, like an `if/elif/else` with many branches. For example, to do certain actions when certain letters are seen:\n",
    "\n",
    "        # not Python!\n",
    "        switch(command)\n",
    "        {\n",
    "            case 'a': activate();\n",
    "            case 'b': block();\n",
    "            case 'c': continuation();\n",
    "            case 'd': die();\n",
    "        }\n",
    "        \n",
    "Dictionaries let us do the same thing. Remember, we can use *functions as values*, including as dictionary values.         \n"
   ]
  },
  {
   "cell_type": "code",
   "execution_count": 1,
   "metadata": {},
   "outputs": [
    {
     "name": "stdout",
     "output_type": "stream",
     "text": [
      "Blocking\n"
     ]
    }
   ],
   "source": [
    "def activate():\n",
    "    print(\"Active\")\n",
    "    \n",
    "def block():\n",
    "    print(\"Blocking\")\n",
    "    \n",
    "def continuation():\n",
    "    print(\"...\")\n",
    "    \n",
    "def die():\n",
    "    print(\"RIP\")\n",
    "\n",
    "## NOTE! no parentheses after the function names\n",
    "## These are not called; they are references to the functions\n",
    "# Map command names to functions\n",
    "actions = {\"a\":activate, \"b\":block, \"c\":continuation, \"d\":die}    \n",
    "\n",
    "# try changing this\n",
    "command = 'b'\n",
    "\n",
    "## Note: index (to find the function) then call (to execute it)\n",
    "actions[command]()"
   ]
  },
  {
   "cell_type": "markdown",
   "metadata": {},
   "source": [
    "### Task\n",
    "Use this knowledge to write a short function `calculate(operation, x,y)` that takes a name of an operation, and two numbers as parameters `x` and `y`. It should then apply a mathematical operation according to this table and return the result:\n",
    "\n",
    "        calculate(\"add\",x,y)   x + y\n",
    "        calculate(\"mul\",x,y)   x * y\n",
    "        calculate(\"div\",x,y)   x / y\n",
    "        calculate(\"sub\",x,y)   x - y\n",
    "        calculate(\"exp\",x,y)   x ** y\n",
    "        \n",
    "Implement this *without* any `if` statements. Note: you can either declare functions (exactly as above), or if you want you can use `lambda` as described last week directly inside a dictionary."
   ]
  },
  {
   "cell_type": "code",
   "execution_count": 2,
   "metadata": {},
   "outputs": [],
   "source": [
    "# Solution goes here\n",
    "def calculate(operation, x, y):\n",
    "    opera = {\"add\": lambda x, y: x+y,\n",
    "             \"mul\": lambda x, y: x*y,\n",
    "             \"div\": lambda x, y: x/y,\n",
    "             \"sub\": lambda x, y: x-y,\n",
    "             \"exp\": lambda x, y: x**y,\n",
    "            }\n",
    "    return opera[operation](x, y)"
   ]
  },
  {
   "cell_type": "code",
   "execution_count": 3,
   "metadata": {},
   "outputs": [
    {
     "data": {
      "text/html": [
       " \n",
       "        <div class=\"alert alert-box alert-success\">\n",
       "        <h1> <font color=\"green\"> ✓ Correct </font> </h1>\n",
       "        </div>\n",
       "        "
      ],
      "text/plain": [
       "<IPython.core.display.HTML object>"
      ]
     },
     "metadata": {},
     "output_type": "display_data"
    },
    {
     "data": {
      "text/html": [
       " \n",
       "        <div class=\"alert alert-box alert-success\">\n",
       "        <h1> <font color=\"green\"> ✓ Correct </font> </h1>\n",
       "        </div>\n",
       "        "
      ],
      "text/plain": [
       "<IPython.core.display.HTML object>"
      ]
     },
     "metadata": {},
     "output_type": "display_data"
    },
    {
     "data": {
      "text/html": [
       " \n",
       "        <div class=\"alert alert-box alert-success\">\n",
       "        <h1> <font color=\"green\"> ✓ Correct </font> </h1>\n",
       "        </div>\n",
       "        "
      ],
      "text/plain": [
       "<IPython.core.display.HTML object>"
      ]
     },
     "metadata": {},
     "output_type": "display_data"
    },
    {
     "data": {
      "text/html": [
       " \n",
       "        <div class=\"alert alert-box alert-success\">\n",
       "        <h1> <font color=\"green\"> ✓ Correct </font> </h1>\n",
       "        </div>\n",
       "        "
      ],
      "text/plain": [
       "<IPython.core.display.HTML object>"
      ]
     },
     "metadata": {},
     "output_type": "display_data"
    },
    {
     "data": {
      "text/html": [
       " \n",
       "        <div class=\"alert alert-box alert-success\">\n",
       "        <h1> <font color=\"green\"> ✓ Correct </font> </h1>\n",
       "        </div>\n",
       "        "
      ],
      "text/plain": [
       "<IPython.core.display.HTML object>"
      ]
     },
     "metadata": {},
     "output_type": "display_data"
    }
   ],
   "source": [
    "## Tests\n",
    "from utils.tick import tick, check_answer\n",
    "\n",
    "check_answer(calculate(\"add\", 4, 5), b'gANLCS4=')\n",
    "check_answer(calculate(\"mul\", 3, -13), b'gANK2f///y4=')\n",
    "check_answer(calculate(\"div\", 9, 501),b'gANHP5JlLHSAxDcu')\n",
    "check_answer(calculate(\"sub\", 3, 8), b'gANK+////y4=')\n",
    "check_answer(calculate(\"exp\", 3, 8), b'gANNoRku')"
   ]
  },
  {
   "cell_type": "markdown",
   "metadata": {},
   "source": [
    "## A.6 Key cycles\n",
    "\n",
    "Write a function `key_cycles(d)` that will return the list of cycles in a dictionary. A **cycle** is defined as a sequence of values, where if we map from an original key to value, the resulting value is a key in the dictionary which can be mapped again, until eventually the original key is found.\n",
    "\n",
    "That is, each key that satisfies `d[...[d[d[d[k]]] == k` for some number of nested `d`s (possibly 1).\n",
    "\n",
    "Examples:\n",
    "\n",
    "    {\"a\":\"a\"}  # cycle of length 1, [[\"a\"]]\n",
    "    {\"a\":\"1\", \"1\":\"2\"}  # no cycles at all\n",
    "    {\"a\": \"b\", \"b\":\"a\", \"c\":\"c\"} # three cycles [[\"a\",\"b\"], [\"b\", \"a\"], [\"c\"]]\n",
    "    {\"a\": \"2\", \"b\":\"a\", \"c\":\"c\"} # one cycle [[\"c\"]]\n",
    "    {\"a\":\"b\", \"b\":\"c\", \"c\":\"a\"} # three cycles [[\"a\", \"b\", \"c\"], [\"b\", \"c\", \"a\"], [\"c\", \"b\", \"a\"]]\n",
    "    \n",
    "    \n"
   ]
  },
  {
   "cell_type": "code",
   "execution_count": 2,
   "metadata": {},
   "outputs": [],
   "source": [
    "# Solution goes here\n",
    "from utils.tick import tick, check_answer\n",
    "def key_cycles(d):\n",
    "    res = []\n",
    "    for key in d:\n",
    "        cycle = []\n",
    "        while d[key] in d:\n",
    "            if key in cycle and key == cycle[0]:\n",
    "                res.append(cycle)\n",
    "                break\n",
    "            elif key in cycle:\n",
    "                break\n",
    "            cycle.append(key)\n",
    "            key = d[key]\n",
    "    print(res)\n",
    "    return res"
   ]
  },
  {
   "cell_type": "code",
   "execution_count": 3,
   "metadata": {},
   "outputs": [
    {
     "name": "stdout",
     "output_type": "stream",
     "text": [
      "[]\n",
      "[['a']]\n",
      "[]\n",
      "[['a', 'b'], ['b', 'a'], ['c']]\n",
      "[['c']]\n",
      "[['a', 'b', 'c'], ['b', 'c', 'a'], ['c', 'a', 'b']]\n",
      "[[1, 2], [2, 1]]\n",
      "[['and', 'the', 'beat', 'goes', 'on'], ['the', 'beat', 'goes', 'on', 'and'], ['beat', 'goes', 'on', 'and', 'the'], ['goes', 'on', 'and', 'the', 'beat'], ['on', 'and', 'the', 'beat', 'goes']]\n"
     ]
    },
    {
     "data": {
      "text/html": [
       " \n",
       "        <div class=\"alert alert-box alert-success\">\n",
       "        <h1> <font color=\"green\"> ✓ Correct </font> </h1>\n",
       "        </div>\n",
       "        "
      ],
      "text/plain": [
       "<IPython.core.display.HTML object>"
      ]
     },
     "metadata": {},
     "output_type": "display_data"
    }
   ],
   "source": [
    "## Tests\n",
    "with tick():\n",
    "    assert key_cycles({}) == []\n",
    "    assert key_cycles({\"a\":\"a\"})\n",
    "    assert key_cycles({\"a\":\"1\", \"1\":\"2\"})==[]\n",
    "    assert key_cycles({\"a\": \"b\", \"b\":\"a\", \"c\":\"c\"})==[[\"a\",\"b\"], [\"b\", \"a\"], [\"c\"]]\n",
    "    assert key_cycles({\"a\": \"2\", \"b\":\"a\", \"c\":\"c\"})==[[\"c\"]]\n",
    "    assert key_cycles({\"a\":\"b\", \"b\":\"c\", \"c\":\"a\"})==[[\"a\", \"b\", \"c\"], [\"b\", \"c\", \"a\"], [\"c\", \"a\", \"b\"]]\n",
    "    assert key_cycles({\"a\": 1, 1: 2, 2:1})==[[1,2], [2,1]]\n",
    "    assert key_cycles({\"and\": \"the\", \"the\": \"beat\", \"beat\":\"goes\", \"goes\":\"on\", \"on\":\"and\"})==[['and', 'the', 'beat', 'goes', 'on'], ['the', 'beat', 'goes', 'on', 'and'], ['beat', 'goes', 'on', 'and', 'the'], ['goes', 'on', 'and', 'the', 'beat'], ['on', 'and', 'the', 'beat', 'goes']]\n",
    "    "
   ]
  },
  {
   "cell_type": "markdown",
   "metadata": {},
   "source": [
    "## B. An adventure game\n",
    "**This problem will require more independent work than previous exercises -- there is less detailed guidance.**\n",
    "\n",
    "**You will have to build a complete working program from scratch, without any support code.**\n",
    "\n",
    "**Each step is small and simple; work on a bit at a time, testing what you have got so far. Do not try and write the whole program in one go.**\n",
    "\n",
    "-----------\n",
    "\n",
    "In the very old days, computers often had no graphics whatsoever (just text) or very limited graphical capabilities. People used to play **text adventure** games, like the famous Zork:\n",
    "\n",
    "\n",
    "    West of House\n",
    "    This is an open field west of a white house,\n",
    "    with a boarded front door.\n",
    "    There is a small mailbox here.\n",
    "    A rubber mat saying 'Welcome to Zork!' lies by the door.\n",
    "\n",
    "    >go north\n",
    "    North of House\n",
    "    You are facing the north side of a white house.  \n",
    "    There is no door here, and all the windows are barred.\n",
    "    \n",
    "    >examine house\n",
    "    The house is a beautiful colonial house \n",
    "    which is painted white.  \n",
    "    It is clear that the owners must have been \n",
    "    extremely wealthy.\n",
    "\n",
    "The user's input is shown after the `>` in this transcript. (You can play [Zork online](http://iplayif.com/?story=http%3A%2F%2Fwww.ifarchive.org%2Fif-archive%2Fgames%2Fzcode%2Fzdungeon.z5))\n",
    "\n",
    "These games take text input from the user (**actions**) and display descriptions of what happens when you perform these actions. "
   ]
  },
  {
   "cell_type": "markdown",
   "metadata": {},
   "source": [
    "### Task\n",
    "Your task is to build a simple adventure game, *defining the game world using dictionaries.*\n",
    "\n",
    "Read the following outline very carefully:\n",
    "### Outline\n",
    "* A game world has **rooms**. Each room has a description and a name.\n",
    "* Rooms are connected to each other by **exits** (north, south, east, west, up, down, etc.).\n",
    "* A room can contain **objects**.\n",
    "* An **object** has a description and a name.\n",
    "* The player has an **inventory** in which you can store **objects** and carry them around.\n",
    "* There are a set of **actions** the player can do.\n",
    "* Each **action** consists of a verb, possibly followed by a noun, separated by a space: \n",
    "\n",
    "    * `look` (verb=look)\n",
    "    * `go north`  (verb=go, noun=north)\n",
    "    * `take dog`  (verb=take, noun=dog)\n",
    "    * `drop dog`  (verb=drop, noun=dog)\n",
    "    * `quit` (verb = quit)\n",
    "----\n",
    "\n",
    "* Note that the elements written in **bold** in the section above should be represented as *dictionaries* in your code. "
   ]
  },
  {
   "cell_type": "markdown",
   "metadata": {},
   "source": [
    "### Actions\n",
    "Your game must support the following actions:\n",
    "* `go [direction]` change the current room to the one connected by the given direction, if that's possible. \n",
    "* `examine [object]` print the description of the object, if it is in the room *or* in your inventory.\n",
    "* `inventory` print the objects you are carrying.\n",
    "* `exits` print the exits from this room (e.g. `north, south, up`).\n",
    "* `take [object]` Take an object from a room, if the object is there.\n",
    "* `drop [object]` Put an object from the players inventory down in a room.\n",
    "* `look` describe the room again.\n",
    "* `quit` stop playing.\n",
    "\n",
    "The description of the room should include all objects lying in it, and *the full description should be printed whenever you enter a room.*\n",
    "\n",
    "You will have to describe your game world using dictionaries. Consider this example world (you can use this to get started):"
   ]
  },
  {
   "cell_type": "code",
   "execution_count": 1,
   "metadata": {},
   "outputs": [],
   "source": [
    "world = {\n",
    "    # these are the rooms in the world\n",
    "    \"rooms\": {\n",
    "        \"dungeon\": {\n",
    "            \"description\": \"You are in a cold dark room with a wooden hatch and a ladder leading up to it.\",\n",
    "            \"exits\": {\n",
    "                # direction : name of room to go to\n",
    "                \"up\": \"guard_room\"\n",
    "            },\n",
    "            \"objects\": {\n",
    "                # name : description\n",
    "                \"carrot\": \"a fresh orange carrot\"\n",
    "            },\n",
    "        },\n",
    "        \"guard_room\": {\n",
    "            \"description\": \"You are in a small stone chamber with a candle burning on an empty desk. The room smells of tallow and straw.\",\n",
    "            \"objects\": {\n",
    "                \"quill\": \"An old-fashioned quill pen\",\n",
    "                \"parchment\": \"An oddly-stained parchment paper.\",\n",
    "            },\n",
    "            \"exits\": {\"down\": \"dungeon\", \"north\": \"stone_corridor\"},\n",
    "        },\n",
    "        \"stone_corridor\": {\n",
    "            \"description\": \"A dank, narrow chamber of coarse rock. Thick veins of nitre run down the walls. This way is blocked.\",\n",
    "            \"objects\": {\"torch\": \"A charred torch\"},\n",
    "            \"exits\": {\"south\": \"guard_room\"},\n",
    "        },\n",
    "    },\n",
    "    # this defines how the game will start off each time\n",
    "    \"start_room\": \"dungeon\",\n",
    "    \"start_inventory\": {\"hood\": \"A worn hood made of coarse, greyish fabric.\"},\n",
    "}"
   ]
  },
  {
   "cell_type": "markdown",
   "metadata": {},
   "source": [
    "Here is a beautiful drawing of this uplifting game world:\n",
    "<img src=\"imgs/world.png\">"
   ]
  },
  {
   "cell_type": "markdown",
   "metadata": {},
   "source": [
    "Starting the game should print something like:\n",
    "\n",
    "    A cold dark room with a wooden hatch and a ladder \n",
    "    leading up to it.\n",
    "    There is a carrot here.\n",
    "        \n",
    "    >\n",
    "    \n",
    "And typing \"go up\" should print:\n",
    "\n",
    "    > go up\n",
    "    A small stone chamber with a candle burning on\n",
    "    an empty desk.\n",
    "    There is a quill and a parchment here.\n",
    "    "
   ]
  },
  {
   "cell_type": "markdown",
   "metadata": {},
   "source": [
    "The game should give responses along these lines:    \n",
    "    \n",
    "    >inventory\n",
    "    You are carrying:\n",
    "    hood\n",
    "    \n",
    "    >examine quill\n",
    "    An old-fashioned quill pen\n",
    "    \n",
    "    >examine hood\n",
    "    A worn hood made of coarse, greyish fabric.\n",
    "    \n",
    "    >take quill\n",
    "    You take the quill\n",
    "    \n",
    "    >take obelisk\n",
    "    I don't see an obelisk here.\n",
    "    \n",
    "    >go down\n",
    "    \n",
    "    A cold dark room with a wooden hatch and a ladder \n",
    "    leading up to it.\n",
    "    There is a carrot here.\n",
    "    \n",
    "    >drop quill\n",
    "    You drop the quill\n",
    "    \n",
    "    >look\n",
    "    A cold dark room with a wooden hatch and a ladder \n",
    "    leading up to it.\n",
    "    There is a carrot and a quill here.    \n",
    "    \n",
    "    >exits\n",
    "    You can go: up\n",
    "    \n",
    "    >quit\n",
    "    Thank you for playing!   "
   ]
  },
  {
   "cell_type": "markdown",
   "metadata": {},
   "source": [
    "## Steps:\n",
    "\n",
    "1. Write a simple function that takes user input\n",
    "2. Split the user input using `split()` to separate words by spaces into a list. For example:"
   ]
  },
  {
   "cell_type": "code",
   "execution_count": 16,
   "metadata": {},
   "outputs": [
    {
     "name": "stdout",
     "output_type": "stream",
     "text": [
      "['my', 'list', 'of', 'words']\n"
     ]
    }
   ],
   "source": [
    "print(\"my list of words\".split())"
   ]
  },
  {
   "cell_type": "markdown",
   "metadata": {},
   "source": [
    "4. Write a function to implement one simple action (e.g. \"look\" or \"go\")\n",
    "5. Each action function should take an argument representing what the noun was, if there was one.\n",
    "6. Map your functions using a dictionary of verb names to functions. Remember that functions are first-class in Python!\n",
    "7. Use the verb name to select the right function.\n",
    "8. Call the function once input is presented, passing the noun as\n",
    "an argument, if needed.\n",
    "9. Then write functions to handle each of the remaining actions (e.g. `def go(direction):...` )"
   ]
  },
  {
   "cell_type": "markdown",
   "metadata": {},
   "source": [
    "### Hints\n",
    "* You should approach issuing commands using the approach used in the `calculate` function of the A part.\n",
    "* There should be a main `game()` function that reads user input and then performs the relevant commands, printing the output as needed. It should loop until the user enters `quit`. **Write this first** then add actions. Use a similar strategy to the calculation example in the A part -- store functions in a dictionary.\n",
    "\n",
    "* Make sure you properly reset the inventory and starting room on each start, and always work on a **fresh, deep copy** of the game world definition, so that taking the carrot (for example) in one game doesn't remove it from the next time you play it.\n",
    "\n",
    "Remember, to deep copy a dictionary:"
   ]
  },
  {
   "cell_type": "code",
   "execution_count": 17,
   "metadata": {},
   "outputs": [],
   "source": [
    "import copy\n",
    "d = {\"a\": {\"b\": 1}}\n",
    "\n",
    "# now deepcopy_d has no references to d\n",
    "deepcopy_d = copy.deepcopy(d)"
   ]
  },
  {
   "cell_type": "markdown",
   "metadata": {},
   "source": [
    "If you manage to get this working, then try making a more complete (or totally different) game world.        "
   ]
  },
  {
   "cell_type": "markdown",
   "metadata": {},
   "source": [
    "To get you started, here is an implementation of the `describe` function, to give you an idea of how these functions could be built up:"
   ]
  },
  {
   "cell_type": "code",
   "execution_count": 25,
   "metadata": {},
   "outputs": [],
   "source": [
    "# verb, no noun, just print out the description\n",
    "# of the room and objects\n",
    "def describe():\n",
    "    room = current_room # assume current_room is a global variable\n",
    "    print(rooms[room][\"description\"])\n",
    "    # print out each object\n",
    "    for obj in rooms[room][\"objects\"]:\n",
    "        print(\"There is a {object} here\".format(object=obj))\n"
   ]
  },
  {
   "cell_type": "code",
   "execution_count": 26,
   "metadata": {},
   "outputs": [
    {
     "name": "stdout",
     "output_type": "stream",
     "text": [
      "You are in a cold dark room with a wooden hatch and a ladder leading up to it.\n",
      "There is a carrot here.\n",
      ">drop life\n",
      "You do not have a life\n",
      ">take carrot\n",
      ">drop carrot\n",
      ">take carrot\n",
      ">look\n",
      "You are in a cold dark room with a wooden hatch and a ladder leading up to it.\n",
      ">inventory\n",
      "You are carrying:\n",
      "carrot\n",
      ">examine carrot\n",
      "a fresh orange carrot\n",
      ">go up\n",
      "You are in a small stone chamber with a candle burning on an empty desk. The room smells of tallow and straw.\n",
      "There is a quill here.\n",
      "There is a parchment here.\n",
      ">examine quill\n",
      "An old-fashioned quill pen\n",
      ">examine parchment\n",
      "An oddly-stained parchment paper.\n",
      ">quit\n",
      "Thanks for playing!\n"
     ]
    }
   ],
   "source": [
    "# Solution goes here\n",
    "import copy\n",
    "\n",
    "def describe(rooms, current_room):\n",
    "    room = current_room # assume current_room is a global variable\n",
    "    print(rooms[room][\"description\"])\n",
    "    # print out each object\n",
    "    for obj in rooms[room][\"objects\"]:\n",
    "        print(\"There is a {object} here.\".format(object=obj))\n",
    "def quit(noun, rooms, inv):\n",
    "    print(\"Thanks for playing!\")\n",
    "    global playing\n",
    "    playing = False\n",
    "def go(noun, rooms, inv):\n",
    "    global current_room\n",
    "    current_room = rooms[current_room][\"exits\"][noun]\n",
    "    describe(rooms, current_room)\n",
    "def examine(noun, rooms, inv):\n",
    "    if noun in inv:\n",
    "        print(inv[noun])\n",
    "    elif noun in rooms[current_room][\"objects\"]:\n",
    "        print(rooms[current_room][\"objects\"][noun])\n",
    "    else:\n",
    "        print(\"There is no\", noun, \"here.\")\n",
    "def inventory(noun, rooms, inv):\n",
    "    print(\"You are carrying:\")\n",
    "    for obj in inv.keys():\n",
    "        print(obj)\n",
    "def exits(noun, rooms, inv):\n",
    "    print(\"You can go:\")\n",
    "    for direc in rooms[current_room][\"exits\"]:\n",
    "        print(direc)\n",
    "def take(noun, rooms, inv):\n",
    "    if noun in rooms[current_room][\"objects\"]:\n",
    "        inv[noun] = rooms[current_room][\"objects\"].pop(noun)\n",
    "    else:\n",
    "        print(\"There is no\", noun, \"here.\")\n",
    "def drop(noun, rooms, inv):\n",
    "    if noun in inv:\n",
    "        rooms[current_room][\"objects\"][noun] = inv.pop(noun)\n",
    "    else:\n",
    "        print(\"You do not have a\", noun)\n",
    "def look(noun, rooms, inv):\n",
    "    describe(rooms, current_room)\n",
    "\n",
    "playing = True\n",
    "rooms = copy.deepcopy(world[\"rooms\"])\n",
    "current_room = copy.deepcopy(world[\"start_room\"])\n",
    "actions = {\"go\": go, \"examine\": examine, \"inventory\": inventory, \"exits\": exits, \"take\": take, \"drop\": drop,\n",
    "              \"look\": look, \"quit\": quit}\n",
    "inventory = {}\n",
    "\n",
    "def game():\n",
    "    describe(rooms, current_room)\n",
    "    \n",
    "    while playing:\n",
    "        print(\">\", end='')\n",
    "        command = input().split()\n",
    "        \n",
    "        if len(command) == 0:\n",
    "            print(\"Please enter a command.\")\n",
    "        elif len(command) > 0:\n",
    "            verb = command[0]\n",
    "            noun = \"\"\n",
    "            if len(command) > 1:\n",
    "                noun = command[1]\n",
    "        \n",
    "            if verb in actions:\n",
    "                actions[verb](noun, rooms, inventory)\n",
    "            else:\n",
    "                print(\"Sorry, did not understand that. The available actions are: go, examine, inventory, exits, take, drop, look, and quit.\")\n",
    "game()"
   ]
  },
  {
   "cell_type": "markdown",
   "metadata": {},
   "source": [
    "## Extended problems\n",
    "These *extended* problems are optional for students who are keen to learn more. If you've finished the whole lab and want to explore these ideas in more depth, these problems and resources are intended to help you do that. <font color=\"red\"> You do not need to attempt any of this section to receive a tick! </font>"
   ]
  },
  {
   "cell_type": "markdown",
   "metadata": {},
   "source": [
    "## C.1 kwargs\n",
    "Python has a clever syntax to allow a dictionary to be used in place of **named** parameters.\n",
    "For example, the code below uses named parameters:"
   ]
  },
  {
   "cell_type": "code",
   "execution_count": 2,
   "metadata": {},
   "outputs": [],
   "source": [
    "def reaction(element_1, element_2, result):\n",
    "    print(\n",
    "        \"{elt1} reacts with {elt2} and {reaction} happens\".format(\n",
    "            elt1=element_1, elt2=element_2, reaction=result\n",
    "        )\n",
    "    )\n",
    "\n",
    "\n",
    "# note the use of = to name arguments\n",
    "reaction(element_1=\"oxygen\", element_2=\"iron\", result=\"rusting\")"
   ]
  },
  {
   "cell_type": "markdown",
   "metadata": {},
   "source": [
    "#### Sending kwargs"
   ]
  },
  {
   "cell_type": "markdown",
   "metadata": {},
   "source": [
    "You can tell Python to use a dictionary to collect up all of the mappings of parameters and arguments, instead of writing them in the call directly. \n",
    "\n",
    "To do this, prefix the dictionary with `**` in the call. This must be the last argument in the function call. And the dictionary had better have the right names for all of the mandatory parameters!"
   ]
  },
  {
   "cell_type": "code",
   "execution_count": 3,
   "metadata": {},
   "outputs": [],
   "source": [
    "dict_params = {\n",
    "    \"element_1\": \"oxygen\",\n",
    "    \"element_2\": \"hydrogen\",\n",
    "    \"result\": \"an explosion + water\",\n",
    "}\n",
    "\n",
    "# now we use the parameter->argument mapping from the given dictionary instead\n",
    "reaction(**dict_params)"
   ]
  },
  {
   "cell_type": "markdown",
   "metadata": {},
   "source": [
    "#### Receiving kwargs\n",
    "We can do the same when receiving parameters. If we have a parameter called `**something` then `something` will become a dictionary which \"soaks up\" any remaining parameters."
   ]
  },
  {
   "cell_type": "code",
   "execution_count": 48,
   "metadata": {},
   "outputs": [],
   "source": [
    "def reaction_kwargs(**kwargs):\n",
    "    # this is a dictionary representation of the\n",
    "    # parameter->argument mapping\n",
    "    print(kwargs)  # print out the dictionary\n",
    "    print(\n",
    "        \"{elt1} reacts with {elt2} and {reaction} happens\".format(\n",
    "            elt1=kwargs[\"element_1\"],\n",
    "            elt2=kwargs[\"element_2\"],\n",
    "            reaction=kwargs[\"result\"],\n",
    "        )\n",
    "    )\n",
    "    # note: speed is just ignored, since we never read it from kwargs\n",
    "\n",
    "\n",
    "reaction_kwargs(\n",
    "    element_1=\"iron\", element_2=\"carbon\", result=\"steel formation\", speed=\"slowly\"\n",
    ")"
   ]
  },
  {
   "cell_type": "markdown",
   "metadata": {},
   "source": [
    "## Task"
   ]
  },
  {
   "cell_type": "markdown",
   "metadata": {
    "collapsed": true
   },
   "source": [
    "Write a function `argument_table()` which can take any number of keyword arguments, and prints out a neat table of the keyword parameters and their arguments (values). A header should show the total number of keyword arguments passed\n",
    "\n",
    "For example `argument_table(x=5, y=7, animal=\"jellyfish\")` should print:\n",
    "\n",
    "    Arguments: 3\n",
    "        x               5\n",
    "        y               5\n",
    "        animal          jellyfish\n",
    "    \n",
    "`argument_table(a=1, b=[1,2,3])` should print:\n",
    "\n",
    "    Arguments: 2\n",
    "        a               1\n",
    "        b               [1,2,3]\n",
    "        \n",
    "If you want to line things up neatly (optional), there is a method `.ljust(n)` which will left justify a string so it is a fixed width:        \n",
    "    "
   ]
  },
  {
   "cell_type": "code",
   "execution_count": 13,
   "metadata": {
    "scrolled": false
   },
   "outputs": [],
   "source": [
    "# no justify\n",
    "print(\"unjustified\", \"other thing\")\n",
    "print(\"looks bad\", \"other column\")\n",
    "print(\"and harder to read\", \"other otter\")\n",
    "print(\"-\" * 80)\n",
    "# justify\n",
    "print(\"justified\".ljust(30), \"other thing\")\n",
    "print(\"looks neater\".ljust(30), \"other column\")\n",
    "print(\"and easier to read\".ljust(30), \"other otter\")"
   ]
  },
  {
   "cell_type": "code",
   "execution_count": 7,
   "metadata": {},
   "outputs": [],
   "source": [
    "# Solution goes here"
   ]
  },
  {
   "cell_type": "code",
   "execution_count": 14,
   "metadata": {
    "scrolled": false
   },
   "outputs": [],
   "source": [
    "## Testing\n",
    "argument_table(x=5, y=7, animal=\"jellyfish\")\n",
    "print()\n",
    "argument_table(a=1, b=[1, 2, 3])\n",
    "print()\n",
    "\n",
    "# using kwargs as to call\n",
    "argument_table(**{\"a\": 1, \"b\": 2, \"c\": 3})"
   ]
  },
  {
   "cell_type": "markdown",
   "metadata": {},
   "source": [
    "The output from above should look like this:\n",
    "    \n",
    "        Arguments: 3\n",
    "            x                              5\n",
    "            y                              7\n",
    "            animal                         jellyfish\n",
    "\n",
    "        Arguments: 2\n",
    "            a                              1\n",
    "            b                              [1, 2, 3]\n",
    "\n",
    "        Arguments: 3\n",
    "            a                              1\n",
    "            b                              2\n",
    "            c                              3\n"
   ]
  },
  {
   "cell_type": "markdown",
   "metadata": {},
   "source": [
    "## C.2 Better adventure game\n",
    "You can't really do anything in the game in B.1 except wander about shuffling objects from room to room. \n",
    "\n",
    "To make it interesting, we need at least a few more things:\n",
    "* **World state**. We should be able to change things in the world (e.g. make a guard angry). \n",
    "* **Use**. We should be able to use objects on other objects with a new **use** action. (e.g. anger the guard by using the carrot on him).\n",
    "* **Fixed objects**. We should be able to mark objects as fixed, so we can't take them, but can do stuff to them (like curtains we can set on fire, but not take with us).\n",
    "* **Dialogue** We can't talk to anyone, which isn't very satisfying.\n",
    "\n",
    "### Fixed objects\n",
    "To solve the fixed object problem, create a dictionary that stores object properties like their \"fixedness\". Then look up the object in the dictionary whenever the user tries to **take** something. If it is fixed, don't move it and print a message (possibly a custom message for each object, like \"The manacles are bolted to the wall\").\n",
    "\n",
    "### World state\n",
    "A traditional way to represent world state is as a set of **flags** (values that can be True or False). For example, we might have:\n",
    "\n",
    "      flags = { \"guard_angry\": False, \n",
    "                \"escaped\": False, \n",
    "                \"tunnel_collapsed\": False }\n",
    "    \n",
    "at the start of a game. \n",
    "\n",
    "### Use\n",
    "We might make the `guard_angry` flag become True if you **use** a `carrot` on the `guard`. You need to add a new **use** command. **use** needs to take **one** or **two** nouns so you can write things like:\n",
    "    \n",
    "    use trapdoor\n",
    "    use matches on curtains\n",
    "\n",
    "There should be a use table to list these, which maps object pairs to functions to call:\n",
    "\n",
    "    use = {\n",
    "            (\"trapdoor\", None) : open_trapdoor,\n",
    "            (\"matches\", \"curtains\"), start_fire\n",
    "          }\n",
    "          \n",
    "The functions should change the world state and print a message describing what has happened. You should also add functionality so that entering or leaving a room can change the world state by calling a function (e.g. if you enter a room, the guard might notice you approaching).  \n",
    "\n",
    "\n",
    "### Dialogue\n",
    "We should be able to talk to characters. We can write dialogue scripts using dictionaries:\n",
    "\n",
    "    guard_dialogue = {\n",
    "        \"greeting\": \"What is it?\"\n",
    "        \"name\": \"My name is Robertson\",\n",
    "        \"job\": \"I am the guard in this prison. Isn't it obvious?\"\n",
    "        \"me\" : \"You look like a prisoner to me!\"\n",
    "        \"bye\" : \"Get back to your cell!\"\n",
    "    }\n",
    "    \n",
    "Then we could have a special mode which is entered into by entering `talk [to] <person>`, which has a prompt that specified who you are talking to and what the conversation options are. The dialogue will remain in effect until you say goodbye to the character with `bye`.\n",
    "\n",
    "The special `greeting` option will be used at the start of dialogue, and the special `bye` option will print the message and end the conversation.\n",
    "\n",
    "    > talk to guard\n",
    "    Guard: What is it?\n",
    "    \n",
    "    Topics: name, job, me, bye\n",
    "    [guard]> name\n",
    "    Guard: My name is Robertson\n",
    "    \n",
    "    Topics: name, job, me, bye\n",
    "    [guard]> job\n",
    "    Guard: I am the guard in this prison. Isn't it obvious?\n",
    "    \n",
    "    Topics: name, job, me, bye\n",
    "    [guard]> bye\n",
    "    Guard: Get back to your cell!\n",
    "    \n",
    "    > look\n",
    "    \n",
    "This can be made more sophisticated by:\n",
    "* allowing conversation options to set/clear flags (e.g. make the guard angry by talking to him) \n",
    "* allowing flags to affect conversation options (e.g. the guard won't talk to you if you have the carrot in your inventory)\n",
    "\n",
    "Hint: if you want to attempt this, imagine a data structure like this:\n",
    "\n",
    "    \"name\": [            \n",
    "                {  \n",
    "                    \"response\":\"My name is Robertson\", \n",
    "                    \"do\": lambda: set_game_flag(\"already_asked_name\", True)                \n",
    "                },\n",
    "                {   \"response\":\"Are you stupid?! I'm *ROBERTSON*. You just asked me that.\", \n",
    "                    \"do\": lambda: set_game_flag(\"guard_angry\", True),\n",
    "                    \"if\": lambda: game_flag[\"already_asked_name\"] \n",
    "                                  and not game_flag[\"guard_angry\"]             \n",
    "                },\n",
    "                {    \"response\": \"Get lost!\",\n",
    "                     \"if\": lambda: game_flag[\"guard_angry\"]\n",
    "                }\n",
    "           ]\n",
    "    }\n",
    "    \n",
    "although there are many other ways to do this.        \n",
    "\n",
    "### Task\n",
    "Implement any or all of these changes, and **adjust the game world to use them.**\n",
    "\n",
    "You should be able to create a world where actions have persistent effects; the flags should for example change the effect of actions, or change the description of rooms.  Opening a window in a room might change the description of light entering it.\n",
    "\n",
    "You may also want to alter the exits available from rooms as a function of the world state; for example, flipping a lever might raise a drawbridge and cut off a possible exit (or lower it and create a new one.)\n",
    "\n",
    "Finally, consider allowing objects to appear when other objects are examined (\"examine binoculars\" -> \"you find a nifty lens!\" -> \"take lens\"). Again, use a dictionary to represent this."
   ]
  }
 ],
 "metadata": {
  "kernelspec": {
   "display_name": "Python 3",
   "language": "python",
   "name": "python3"
  },
  "language_info": {
   "codemirror_mode": {
    "name": "ipython",
    "version": 3
   },
   "file_extension": ".py",
   "mimetype": "text/x-python",
   "name": "python",
   "nbconvert_exporter": "python",
   "pygments_lexer": "ipython3",
   "version": "3.7.3"
  },
  "toc": {
   "base_numbering": 1,
   "nav_menu": {},
   "number_sections": true,
   "sideBar": true,
   "skip_h1_title": false,
   "title_cell": "Table of Contents",
   "title_sidebar": "Contents",
   "toc_cell": false,
   "toc_position": {},
   "toc_section_display": "block",
   "toc_window_display": false
  },
  "varInspector": {
   "cols": {
    "lenName": 16,
    "lenType": 16,
    "lenVar": 40
   },
   "kernels_config": {
    "python": {
     "delete_cmd_postfix": "",
     "delete_cmd_prefix": "del ",
     "library": "var_list.py",
     "varRefreshCmd": "print(var_dic_list())"
    },
    "r": {
     "delete_cmd_postfix": ") ",
     "delete_cmd_prefix": "rm(",
     "library": "var_list.r",
     "varRefreshCmd": "cat(var_dic_list()) "
    }
   },
   "types_to_exclude": [
    "module",
    "function",
    "builtin_function_or_method",
    "instance",
    "_Feature"
   ],
   "window_display": false
  }
 },
 "nbformat": 4,
 "nbformat_minor": 1
}
