{
 "cells": [
  {
   "cell_type": "code",
   "execution_count": 14,
   "metadata": {},
   "outputs": [
    {
     "name": "stdout",
     "output_type": "stream",
     "text": [
      "[1, 2, 3, 4, 5, 6, 7, 8, 9, 10]\n"
     ]
    }
   ],
   "source": [
    "def flatten(a):\n",
    "    res = []\n",
    "    for i in a:\n",
    "        if type(i) != type([]):\n",
    "            res.append(i)\n",
    "        else:\n",
    "            res.extend(flatten(i))\n",
    "    return res\n",
    "            \n",
    "print(flatten([[[1, 2, 3], [4, 5, 6], [7], [8, 9], 10]]))"
   ]
  },
  {
   "cell_type": "code",
   "execution_count": 15,
   "metadata": {},
   "outputs": [
    {
     "name": "stdout",
     "output_type": "stream",
     "text": [
      "True\n",
      "False\n"
     ]
    }
   ],
   "source": [
    "def identical(a,b):\n",
    "    res = False\n",
    "    if len(a)==len(b):\n",
    "        for i in range(len(a)):\n",
    "            a.append(a.pop(0))\n",
    "            if a == b:\n",
    "                res = True\n",
    "    return res\n",
    "\n",
    "print(identical([10, 10, 0, 10], [10, 10, 10, 0]))\n",
    "print(identical([10, 10, 5, 10], [10, 10, 10, 0]))"
   ]
  },
  {
   "cell_type": "code",
   "execution_count": 22,
   "metadata": {},
   "outputs": [
    {
     "name": "stdout",
     "output_type": "stream",
     "text": [
      "([1, 2, 3, 5, 1, 3], [4, 12, 3, 5, 3, 2], [3, 4, 5])\n"
     ]
    }
   ],
   "source": [
    "def chunks(l, size):\n",
    "    res = []\n",
    "    for i in range(0, len(l), size):\n",
    "        res.append(l[0+i:(i+size)])\n",
    "    return tuple(res)\n",
    "\n",
    "print(chunks([1,2,3,5,1,3,4,12,3,5,3,2,3,4,5], 6))"
   ]
  },
  {
   "cell_type": "code",
   "execution_count": 27,
   "metadata": {},
   "outputs": [
    {
     "name": "stdout",
     "output_type": "stream",
     "text": [
      "[('item3', 24.5), ('item2', 15.1), ('item1', 12.2)]\n"
     ]
    }
   ],
   "source": [
    "def sortbyfloat(a):\n",
    "    return sorted(a, key = lambda item: item[1], reverse=True)\n",
    "\n",
    "print(sortbyfloat([('item1', 12.20), ('item2', 15.10), ('item3',\n",
    "24.5)]))"
   ]
  },
  {
   "cell_type": "code",
   "execution_count": 38,
   "metadata": {},
   "outputs": [
    {
     "name": "stdout",
     "output_type": "stream",
     "text": [
      "(2, 4, 6)\n",
      "(2, 1, 4)\n"
     ]
    }
   ],
   "source": [
    "def addbyelement(t1, t2):\n",
    "    return tuple(map(lambda i: i[0] + i[1], zip(t1,t2)))\n",
    "    \n",
    "print(addbyelement((1,2,3), (1,2,3)))\n",
    "print(addbyelement((1,5,1), (1,-4,3)))"
   ]
  },
  {
   "cell_type": "code",
   "execution_count": 39,
   "metadata": {},
   "outputs": [
    {
     "name": "stdout",
     "output_type": "stream",
     "text": [
      "{'apple': 36, 'banana': {'hello': 25, 'world': 16}}\n"
     ]
    }
   ],
   "source": [
    "def myfun(el):\n",
    "    return el**2\n",
    "\n",
    "def applyfunondict(a, myfun):\n",
    "    for key, val in a.items():\n",
    "        if type(val) != type({}):\n",
    "            a[key] = myfun(val)\n",
    "        else:\n",
    "            applyfunondict(val, myfun)\n",
    "    return a\n",
    "\n",
    "print(applyfunondict({'apple': 6, 'banana': {'hello': 5, 'world': 4}}, myfun))"
   ]
  },
  {
   "cell_type": "code",
   "execution_count": 47,
   "metadata": {},
   "outputs": [
    {
     "name": "stdout",
     "output_type": "stream",
     "text": [
      "True\n",
      "False\n"
     ]
    }
   ],
   "source": [
    "# Without using \"==\" or \"cmp()\" at all\n",
    "def comparedicts(dict1, dict2):\n",
    "    same = True\n",
    "    for key, val in dict1.items():\n",
    "        if key not in dict2.keys() or val != dict2[key]:\n",
    "            same = False\n",
    "    for key, val in dict2.items():\n",
    "        if key not in dict1.keys() or val != dict1[key]:\n",
    "            same = False\n",
    "    if len(dict1) != len(dict2):\n",
    "        same = False\n",
    "    return same\n",
    "\n",
    "print(comparedicts({'a': 1, 'b': 2}, {'a': 1, 'b': 2}))\n",
    "print(comparedicts({'a': 1, 'b': 3}, {'a': 1, 'b': 2}))"
   ]
  },
  {
   "cell_type": "code",
   "execution_count": 51,
   "metadata": {},
   "outputs": [
    {
     "name": "stdout",
     "output_type": "stream",
     "text": [
      "{('b', 3), ('b', 2)}\n",
      "set()\n"
     ]
    }
   ],
   "source": [
    "def differences(dict1, dict2):\n",
    "    res = set()\n",
    "    for key, val in dict1.items():\n",
    "        if key not in dict2.keys() or val != dict2[key]:\n",
    "            res.add((key, val))\n",
    "    for key, val in dict2.items():\n",
    "        if key not in dict1.keys() or val != dict1[key]:\n",
    "            res.add((key, val))\n",
    "    return res\n",
    "\n",
    "print(differences({'a': 1, 'b': 3}, {'a': 1, 'b': 2}))\n",
    "print(differences({'a': 1, 'b': 3}, {'a': 1, 'b': 3}))"
   ]
  },
  {
   "cell_type": "markdown",
   "metadata": {},
   "source": [
    "### Concert!"
   ]
  },
  {
   "cell_type": "code",
   "execution_count": 75,
   "metadata": {},
   "outputs": [
    {
     "data": {
      "image/png": "[encoded data removed]",
      "text/plain": [
       "<Figure size 432x288 with 1 Axes>"
      ]
     },
     "metadata": {},
     "output_type": "display_data"
    }
   ],
   "source": [
    "import matplotlib.pyplot as plt\n",
    "\n",
    "def profitTable(maxPrice):\n",
    "    print(\"Price\\t\\tIncome\\t\\tProfit\")\n",
    "    print(\"-----\\t\\t------\\t\\t------\")\n",
    "    cost = 8000\n",
    "    price = 1.0\n",
    "    while price < maxPrice:\n",
    "        print(\"£ {0}\\t\\t\".format(price), end='')\n",
    "        sales = 2500 - 80 * price\n",
    "        income = sales*price\n",
    "        print(income,\"\\t\\t\", end='')\n",
    "        profit = income - cost\n",
    "        print(profit)\n",
    "        price += 0.5\n",
    "    \n",
    "def profitList(maxPrice):\n",
    "    profits = []\n",
    "    prices = []\n",
    "    cost = 8000\n",
    "    price = 1\n",
    "    while price <= float(maxPrice):\n",
    "        sales = 2500 - 80 * price\n",
    "        income = sales*price\n",
    "        profit = income - cost\n",
    "        prices.append(price)\n",
    "        profits.append(profit)\n",
    "        price += 0.5\n",
    "    return prices, profits\n",
    "\n",
    "def profitPlot(maxPrice):\n",
    "    plt.xkcd()\n",
    "    prices, profits = profitList(maxPrice)\n",
    "    plt.plot(prices, profits)\n",
    "    plt.title(\"Profits depending on price of concert\")\n",
    "    plt.xlabel(\"price\")\n",
    "    plt.ylabel(\"profit\")\n",
    "\n",
    "# profitTable(30)\n",
    "\n",
    "profitPlot(30)"
   ]
  }
 ],
 "metadata": {
  "kernelspec": {
   "display_name": "Python 3",
   "language": "python",
   "name": "python3"
  },
  "language_info": {
   "codemirror_mode": {
    "name": "ipython",
    "version": 3
   },
   "file_extension": ".py",
   "mimetype": "text/x-python",
   "name": "python",
   "nbconvert_exporter": "python",
   "pygments_lexer": "ipython3",
   "version": "3.7.3"
  }
 },
 "nbformat": 4,
 "nbformat_minor": 2
}
