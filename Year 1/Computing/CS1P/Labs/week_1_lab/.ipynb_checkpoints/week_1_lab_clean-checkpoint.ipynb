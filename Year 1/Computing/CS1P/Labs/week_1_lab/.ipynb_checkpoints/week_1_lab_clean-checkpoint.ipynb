{
 "cells": [
  {
   "cell_type": "markdown",
   "metadata": {},
   "source": [
    "# Week 1 : Lab \n",
    " ## Elements: Statements, expressions, variables and types\n",
    " ##### CS1P - University of Glasgow - John Williamson - 2019/2020 - Python 3.x"
   ]
  },
  {
   "cell_type": "markdown",
   "metadata": {},
   "source": [
    "#### <font color=\"red\"> Before you start: click on the cell below and press SHIFT-ENTER to run it! </font>"
   ]
  },
  {
   "cell_type": "code",
   "execution_count": 1,
   "metadata": {},
   "outputs": [
    {
     "data": {
      "text/html": [
       "<h1> Ready to go </h1>"
      ],
      "text/plain": [
       "<IPython.core.display.HTML object>"
      ]
     },
     "execution_count": 1,
     "metadata": {},
     "output_type": "execute_result"
    }
   ],
   "source": [
    "#### MAKE SURE YOU RUN THIS CELL #####\n",
    "import IPython\n",
    "import math\n",
    "from utils.tick import tick\n",
    "import utils.tick\n",
    "from utils.tick import check_answer, _get_check\n",
    "\n",
    "HTML = IPython.display.HTML\n",
    "HTML(\"<h1> Ready to go </h1>\")"
   ]
  },
  {
   "cell_type": "markdown",
   "metadata": {},
   "source": []
  },
  {
   "cell_type": "markdown",
   "metadata": {},
   "source": [
    "\n",
    "## Lab exercise\n",
    "**You must make a reasonable attempt at this exercise to gain a tick for this lab**.\n",
    "\n",
    "<font color=\"red\"> Remember to save your work frequently and make backups! </font>\n"
   ]
  },
  {
   "cell_type": "markdown",
   "metadata": {},
   "source": [
    "\n",
    "## Purpose of this lab\n",
    "This lab will get you up to speed in:\n",
    "\n",
    "* reading tracebacks and fixing simple errors\n",
    "* writing expressions\n",
    "* working with variables and types\n",
    "* breaking code into meaningful chunks\n",
    "\n"
   ]
  },
  {
   "cell_type": "markdown",
   "metadata": {},
   "source": [
    "## Before the lab\n",
    "* Read Chapter 2 of \"Think Like a Computer Scientist\".\n",
    "* Attempt at least the A exercises *before coming to the lab*. \n",
    "* Even if you don't have access to a machine, work out the solutions on paper. Ask your tutor if you have any questions.\n",
    "\n"
   ]
  },
  {
   "cell_type": "markdown",
   "metadata": {},
   "source": [
    "## Introduction\n",
    "We'll use the **if** statement in this lab. In Python we can write **if** statements like this:\n",
    "\n",
    "    if x==5:\n",
    "         print(\"x is 5\")\n",
    "    else:\n",
    "         print(\"x is not 5\")\n",
    "     \n",
    "Note that the `if` and `else` finish with a colon, and the following code inside is all **indented** (spaced to the right). Everything which is indented is executed if the condition (x==5, in this example) is True.\n",
    "\n",
    "You must get this spacing right, or the code will not do what you expect! \n",
    "\n",
    "The `else` is optional, so you can write things like:\n",
    "\n",
    "    if x==5:\n",
    "        print(\"x is 5\")\n",
    "\n",
    "Which will only print a message if x is 5 and do nothing otherwise.\n",
    "\n",
    "Run the examples below to get a feeling for what is happening. Try modifying them if you want:"
   ]
  },
  {
   "cell_type": "code",
   "execution_count": 2,
   "metadata": {},
   "outputs": [
    {
     "name": "stdout",
     "output_type": "stream",
     "text": [
      "The light is on\n",
      "light = on\n"
     ]
    }
   ],
   "source": [
    "on = True # a Boolean-valued variable\n",
    "if on:\n",
    "    # note that everything with the *same* indent from the left\n",
    "    # is collected together into one \"block\" of code\n",
    "    print(\"The light is on\")\n",
    "    print(\"light = on\")\n",
    "else:\n",
    "    print(\"The light is off\")\n",
    "    print(\"light = off\")"
   ]
  },
  {
   "cell_type": "code",
   "execution_count": 3,
   "metadata": {},
   "outputs": [
    {
     "name": "stdout",
     "output_type": "stream",
     "text": [
      "X is 5\n"
     ]
    }
   ],
   "source": [
    "x = 5\n",
    "\n",
    "# no else statement is required\n",
    "if x == 5:\n",
    "    print(\"X is 5\")"
   ]
  },
  {
   "cell_type": "code",
   "execution_count": 12,
   "metadata": {},
   "outputs": [],
   "source": [
    "## when you run this cell *you will get an error*\n",
    "## This code is not valid -- the lines must be indented correctly\n",
    "if x==5:\n",
    "    print(\"x==5\") # wrong! the print must have spaces in front"
   ]
  },
  {
   "cell_type": "code",
   "execution_count": 15,
   "metadata": {},
   "outputs": [],
   "source": [
    "## when you run this cell *you will get an error*\n",
    "## This code is not valid -- all of the lines must be indented correctly\n",
    "if x==5:\n",
    "    print(\"x==5\") # ok\n",
    "    print(\"x==3\") # wrong! each line must have the *same* indentation\n",
    "\n",
    "# notice that the notebook warns you that this code \n",
    "# is wrong by highlighting it in red"
   ]
  },
  {
   "cell_type": "markdown",
   "metadata": {},
   "source": [
    "## Tracebacks\n",
    "One of the most important things to be able to do is to read tracebacks -- the error messages that are produced when code goes wrong. If you can understand these, then you will be much more comfortable debugging problems.\n",
    "\n",
    "For example, run the cell below:"
   ]
  },
  {
   "cell_type": "code",
   "execution_count": 8,
   "metadata": {},
   "outputs": [
    {
     "name": "stdout",
     "output_type": "stream",
     "text": [
      "10\n"
     ]
    }
   ],
   "source": [
    "y = 10\n",
    "x = 9\n",
    "if x>y:\n",
    "    print(x)\n",
    "else:\n",
    "    print(y)"
   ]
  },
  {
   "cell_type": "markdown",
   "metadata": {},
   "source": [
    "You will see output like this:\n",
    "    \n",
    "    -----------------------------------------------------------\n",
    "    TypeError               Traceback (most recent call last)\n",
    "    <ipython-input-31-360e364dc661> in <module>\n",
    "          1 y = 10\n",
    "          2 x = \"nine\"\n",
    "    ----> 3 if x>y:\n",
    "          4     print(x)\n",
    "          5 else:\n",
    "\n",
    "    TypeError: '>' not supported between instances of 'str' and 'int'\n",
    "    \n",
    "The numbers at the left are line numbers (press `ESC-L` in a cell to turn on/off line numbers) . The arrow \"--->\" indicates where in the code the problem occured. The message at the very bottom indicates what the problem is; in this case `TypeError: '>' not supported between instances of 'str' and 'int'`. \n",
    "\n",
    "## Intro: Fixing problems\n",
    "Given this information, fix the problem above, then fix the following examples using the traceback to guide you. This will involve concepts we haven't covered; but you should still try to work out what the code might be trying to do and fix the problems.\n",
    "\n"
   ]
  },
  {
   "cell_type": "code",
   "execution_count": 8,
   "metadata": {},
   "outputs": [],
   "source": [
    "## Problem 1.\n",
    "x_position = 0\n",
    "y_position = 10\n",
    "print(x_position, y_postion)"
   ]
  },
  {
   "cell_type": "code",
   "execution_count": 9,
   "metadata": {},
   "outputs": [],
   "source": [
    "# Solution goes here"
   ]
  },
  {
   "cell_type": "code",
   "execution_count": 10,
   "metadata": {},
   "outputs": [],
   "source": [
    "## Problem 2.\n",
    "forward = \"{url}/fwd\"\n",
    "return = \"{url}/ret\" \n",
    "enter = \"{url}/enter\""
   ]
  },
  {
   "cell_type": "code",
   "execution_count": 35,
   "metadata": {},
   "outputs": [],
   "source": [
    "# Solution goes here"
   ]
  },
  {
   "cell_type": "code",
   "execution_count": 15,
   "metadata": {},
   "outputs": [],
   "source": [
    "## Problem 3.\n",
    "def add(a,b):\n",
    "    return a + b\n",
    "\n",
    "add(4)(5) # add 4 and 5"
   ]
  },
  {
   "cell_type": "code",
   "execution_count": 14,
   "metadata": {},
   "outputs": [],
   "source": [
    "# Solution goes here"
   ]
  },
  {
   "cell_type": "code",
   "execution_count": 16,
   "metadata": {},
   "outputs": [],
   "source": [
    "## Problem 4. \n",
    "import mth\n",
    "print(math.sqrt(5))"
   ]
  },
  {
   "cell_type": "code",
   "execution_count": null,
   "metadata": {},
   "outputs": [],
   "source": [
    "# Solution goes here"
   ]
  },
  {
   "cell_type": "markdown",
   "metadata": {},
   "source": [
    "## A: Quick problems\n",
    "These should take around 5-10 minutes each."
   ]
  },
  {
   "cell_type": "markdown",
   "metadata": {},
   "source": [
    "## A.1 Pizza\n",
    "Write a short piece of code that computes the total number of people that will go hungry given the following definition. Store the value in the variable `hungry_people` and print it out using `print`.\n",
    "\n",
    "Comment your solution."
   ]
  },
  {
   "cell_type": "code",
   "execution_count": 15,
   "metadata": {},
   "outputs": [],
   "source": [
    "# Number of standard slices we get per inch diameter of pizza\n",
    "pizza_slices_per_inch = 0.75\n",
    "\n",
    "# Number of standard slices each person needs to eat to be not hungry\n",
    "pizza_slices_per_person = 3  # everyone is very greedy\n",
    "\n",
    "# number of people waiting for pizza\n",
    "people = 14\n",
    "\n",
    "# two pizzas arrive\n",
    "\n",
    "# size (in inches diameter) of first pizza that arrived\n",
    "pizza_1 = 16\n",
    "\n",
    "# size of second pizza that arrived\n",
    "pizza_2 = 24"
   ]
  },
  {
   "cell_type": "code",
   "execution_count": 16,
   "metadata": {},
   "outputs": [],
   "source": [
    "# Solution goes here"
   ]
  },
  {
   "cell_type": "code",
   "execution_count": 17,
   "metadata": {},
   "outputs": [],
   "source": [
    "## Tests\n",
    "## Running this cell will test if your solution was correct.\n",
    "## If you see an error when you run this cell, adjust the solution above.\n",
    "## Here, the answer is obvious, but it is the way you solved it that is important!\n",
    "with tick():\n",
    "    assert(hungry_people==4)"
   ]
  },
  {
   "cell_type": "markdown",
   "metadata": {},
   "source": [
    "## A.2 Inspecting types\n",
    "\n",
    "### Reflection\n",
    "Python supports **reflection**, which just means investigating properties of values at run-time. For example, we can see what type a value has using `type()`.\n",
    "\n",
    "\n",
    "Print out the type of each of the following values. Use the `type()` function to do it like this:"
   ]
  },
  {
   "cell_type": "code",
   "execution_count": 18,
   "metadata": {},
   "outputs": [],
   "source": [
    "print(\"5\", type(5))"
   ]
  },
  {
   "cell_type": "markdown",
   "metadata": {},
   "source": [
    "Print the type of the following values:\n",
    "\n",
    "    5\n",
    "    5.0\n",
    "    True\n",
    "    \"hello\"\n",
    "    'hello'\n",
    "    [1,2,3]\n",
    "    (4,5,6)\n",
    "    len\n",
    "    {\"topping\":\"pepperoni\"}\n",
    "    7 + 9\n",
    "    \"six\" + \"seven\"\n",
    "    None\n",
    "\n",
    "\n",
    "Make sure you understand what Python is printing -- why does 5 print something different from 5.0? What is type of an expression like 7+9?\n",
    "\n",
    "**Hint: you can use either \" or ' to start and end a string literal, as long as they match**"
   ]
  },
  {
   "cell_type": "code",
   "execution_count": 19,
   "metadata": {},
   "outputs": [],
   "source": [
    "# Solution goes here"
   ]
  },
  {
   "cell_type": "markdown",
   "metadata": {},
   "source": [
    "## A.3 Precedence\n",
    "The following expressions give the wrong answers because the operator precedence is wrong. Fix them so they do what the comments say they do. You will need to use parentheses and possibly rearrange the expression.\n"
   ]
  },
  {
   "cell_type": "code",
   "execution_count": 17,
   "metadata": {},
   "outputs": [],
   "source": [
    "# Square of half of the total_views\n",
    "total_views = 32\n",
    "sqr_views = total_views / 2 ** 2\n",
    "\n",
    "\n",
    "## ok is True if either the cat is here, or the door is open,\n",
    "# and the cat is fed\n",
    "cat_here = True\n",
    "door_open = False\n",
    "cat_fed = False\n",
    "ok = cat_here or door_open and cat_fed\n",
    "\n",
    "\n",
    "# number of pieces of gravel in a dump truck is length*width*depth\n",
    "# minus the volume of the cab\n",
    "# divided by the average size of a piece of gravel\n",
    "# NB: this should be a positive quantity!\n",
    "length = 20\n",
    "width = 4\n",
    "depth = 11\n",
    "avg_gravel_size = 0.0000005\n",
    "cab_volume = 64\n",
    "gravel_count = length * width * (depth - cab_volume) / avg_gravel_size"
   ]
  },
  {
   "cell_type": "code",
   "execution_count": 18,
   "metadata": {},
   "outputs": [],
   "source": [
    "print(\"Square half views\", sqr_views)\n",
    "print(\"Cat OK?\", ok)\n",
    "print(\"Average pieces of gravel per dump truck\", gravel_count)"
   ]
  },
  {
   "cell_type": "code",
   "execution_count": 19,
   "metadata": {},
   "outputs": [],
   "source": [
    "# Solution goes here"
   ]
  },
  {
   "cell_type": "code",
   "execution_count": 20,
   "metadata": {},
   "outputs": [],
   "source": [
    "check_answer(sqr_views, b'\\x80\\x03G@p\\x00\\x00\\x00\\x00\\x00\\x00.')\n",
    "check_answer(ok, b'\\x80\\x03\\x89.')\n",
    "check_answer(gravel_count, b'\\x80\\x03GA\\xd8Q\\x96\\x00\\x00\\x00\\x00.')\n",
    "    "
   ]
  },
  {
   "cell_type": "markdown",
   "metadata": {},
   "source": [
    "### A.4 Card counting\n",
    "<img src=\"imgs/cards.png\" width=\"400px\">\n",
    "\n",
    "One of the nice things about Python is that it has **bignums** -- integers can represent any size of number without any problems. \n",
    "\n",
    "For example `2 ** (32 ** 2)` is a very large number indeed ($2^{(32^2)}$)-- but Python can compute it just fine:"
   ]
  },
  {
   "cell_type": "code",
   "execution_count": 21,
   "metadata": {},
   "outputs": [],
   "source": [
    "print(2 ** (32 ** 2))"
   ]
  },
  {
   "cell_type": "markdown",
   "metadata": {},
   "source": [
    "There are `52! = 52 * 51 * 50 ... * 2 * 1` ways to shuffle a deck of cards. ! means **factorial**. We can get a factorial function in Python from the `math` module (a **module** is just a collection of Python values and functions):"
   ]
  },
  {
   "cell_type": "code",
   "execution_count": 22,
   "metadata": {},
   "outputs": [],
   "source": [
    "import math\n",
    "print(math.factorial(20))"
   ]
  },
  {
   "cell_type": "markdown",
   "metadata": {},
   "source": [
    "### Card counting\n",
    "Problem:\n",
    "* There are 52! ways to shuffle a deck of cards.\n",
    "* There are `60 * 60 * 24 * 365` seconds in a year. *Yes, I know this does not account for leap years...*\n",
    "* If a computer ran through 1 trillion  ($10^{12}$) orderings per second, how many years would it take to run through each possible ordering?\n",
    "\n",
    "* Store the answer in a variable `shuffle_years`\n",
    "\n",
    "**Note: use // to get integer division for this problem. For example 7 // 2 = 3. If you write 7/3 you'll get 3.50, which we don't want here.**\n"
   ]
  },
  {
   "cell_type": "code",
   "execution_count": 23,
   "metadata": {},
   "outputs": [],
   "source": [
    "# Solution goes here"
   ]
  },
  {
   "cell_type": "code",
   "execution_count": 24,
   "metadata": {},
   "outputs": [],
   "source": [
    "print(\"It will take\", shuffle_years, \"years\")\n",
    "check_answer(shuffle_years, b'\\x80\\x03\\x8a\\x15\\xf0\\x18\\xbbw\\xb3\\xf0r\\xbaw\\x8b\\xb4=kY\\xca\\xf1\\x82+\\x01\\xc0\\x01.')"
   ]
  },
  {
   "cell_type": "markdown",
   "metadata": {},
   "source": [
    "Now imagine we have two decks of cards. This is 104 cards total.\n",
    "\n",
    "There are roughly `10 ** 80` particles (protons, neutrons, electrons) in the universe. If each of these was a computer in its own right, still running at $10^{12}$ shuffles/second, how long would it take to go through all the orderings of both decks? \n",
    "\n",
    "Store the result in `double_shuffle_years`."
   ]
  },
  {
   "cell_type": "code",
   "execution_count": 25,
   "metadata": {},
   "outputs": [],
   "source": [
    "# Solution goes here"
   ]
  },
  {
   "cell_type": "code",
   "execution_count": 26,
   "metadata": {},
   "outputs": [],
   "source": [
    "print(\"It will take\", double_shuffle_years, \"years\")\n",
    "check_answer(double_shuffle_years, b'\\x80\\x03\\x8a\\x1c\\x13\\x85\\x83\\xa6\\xa7\\xf7\\x96\\xdaL\\x1e\\x948\\xf2\\x92%\\x9a\\\\)\\xcd\\xb5\\xab8\\xef[T\\xb6\\x02\\x1f.')\n"
   ]
  },
  {
   "cell_type": "markdown",
   "metadata": {},
   "source": [
    "## B. A NASA engineer\n",
    "<img src=\"imgs/lunar.jpg\" width=\"400px\">\n",
    "\n",
    "\n",
    "## B.1 Moon landing\n",
    "\n",
    "<img src=\"imgs/margaret_hamilton.jpeg\">\n",
    "\n",
    "\n",
    "*Margaret Hamilton, the software engineer who led the software development for the Apollo landing missions* \n",
    "\n",
    "You are a NASA engineer, and have to land a lunar module on the Moon. \n",
    "To do this, you need to fire your rockets at the right time. \n",
    "\n",
    "\n",
    "Your technical director gives you requirements for the flight:\n",
    "1. The lander can survive a maximum landing speed of just 0.25 m/s without being damaged.\n",
    "1. Your thrusters can only be on or off: fuel is going being fed to them or it is not.\n",
    "\n",
    "Unfortunately, you skipped all your space landing classes and have no idea how to work out how to do this. Helpfully, a friendly control engineer has worked out how to do solve the problem *without doing any complicated calculations*:\n",
    "\n",
    "1. If your speed of descent > sqrt(distance to the surface) **plus your target landing velocity** (see above), turn your thrusters on. Otherwise, turn them off.\n",
    "\n",
    "Implement this rule. You can use the `math.sqrt()` function to compute the square root of a number. Remember to import `math` as in `A.4`.\n",
    "\n"
   ]
  },
  {
   "cell_type": "code",
   "execution_count": 27,
   "metadata": {},
   "outputs": [],
   "source": [
    "# This code will run the lunar launch simulator\n",
    "# Let the code run until it stops\n",
    "# You should see a window showing you the progress of the lander\n",
    "import utils.lunar as lunar\n",
    "\n",
    "\n",
    "## Modify this function\n",
    "def rocket_fn(distance_to_surface, velocity):\n",
    "    thrust = False\n",
    "    ## put your code here\n",
    "    ## it must set thrust to True if the thruster is to be engaged\n",
    "    return thrust\n",
    "\n",
    "lander = lunar.simulate(rocket_fn)\n",
    "%gui xtk"
   ]
  },
  {
   "cell_type": "code",
   "execution_count": 29,
   "metadata": {},
   "outputs": [],
   "source": [
    "print(lander) # see the details of the lander after the simulation"
   ]
  },
  {
   "cell_type": "markdown",
   "metadata": {},
   "source": [
    "### B.1.1 Optional extension \n",
    "Change the firing calculation to be more fuel or time efficient, if you can."
   ]
  },
  {
   "cell_type": "markdown",
   "metadata": {},
   "source": [
    "## B.2 Writing a report\n",
    "\n",
    "<img src=\"imgs/punch_card.jpg\" width=\"400px\">\n",
    "Your techinical director was impressed with your landing. Now you have to write a program to generate reports on what happened during the landing.  Thankfully, we don't have to use punched paper cards anymore -- we can format our data for display in the web browser.\n",
    "\n",
    "The landing program returns  some information about the landing process. These are stored in the variable `lander` that is returned *after* you have run the simulation. For example, you can try:"
   ]
  },
  {
   "cell_type": "code",
   "execution_count": 28,
   "metadata": {},
   "outputs": [],
   "source": [
    "print(lander.fuel)"
   ]
  },
  {
   "cell_type": "markdown",
   "metadata": {},
   "source": [
    "to see how much fuel was left at landing.\n",
    "The variables you get from the lander are:\n",
    "\n",
    "* `lander.fuel` remaining fuel\n",
    "* `lander.max_speed` maximum speed of lander\n",
    "* `lander.velocity` the final landing speed\n",
    "* `lander.oxygen` the remaining oxygen on board\n",
    "* `lander.time` the descent time\n",
    "* `lander.launch_name` the launch name \n",
    "* `lander.module_name` the module name.\n",
    "\n",
    "## Formatting strings\n",
    "You can insert a number or a string inside another string using `.format()` to insert values into placeholders."
   ]
  },
  {
   "cell_type": "code",
   "execution_count": 28,
   "metadata": {},
   "outputs": [],
   "source": [
    "## Note: the {squid} is the placeholder where the number goes\n",
    "## the \".format()\" bit afterwards specifies values that must match the names used\n",
    "print(\n",
    "    \"A squid has {squid} legs and an octopus has {octopus} legs\".format(\n",
    "        squid=10, octopus=8\n",
    "    )\n",
    ")\n",
    "\n",
    "## The same thing works for strings\n",
    "print(\"{name} is in the {location}.\".format(name=\"Gordon\", location=\"test chamber\"))\n",
    "\n",
    "## You can mix them freely\n",
    "print(\n",
    "    \"Did you know that {thing} melts at {temperature} degrees C?\".format(\n",
    "        thing=\"sugar\", temperature=186\n",
    "    )\n",
    ")"
   ]
  },
  {
   "cell_type": "code",
   "execution_count": 59,
   "metadata": {},
   "outputs": [],
   "source": [
    "## This works for a floating point number\n",
    "print(\"The square root of 2 is {sqrt2}\".format(sqrt2=math.sqrt(2)))\n",
    "\n",
    "## You can restrict the number of decimal places using {number:.2f} format, where 2 means \"2 decimal places\"\n",
    "\n",
    "print(\"The square root of 2 is {sqrt2:.2f}\".format(sqrt2=math.sqrt(2)))\n",
    "\n",
    "# or 5 decimal places\n",
    "print(\"The square root of 2 is {sqrt2:.5f}\".format(sqrt2=math.sqrt(2)))\n",
    "\n",
    "# or none\n",
    "print(\"The square root of 2 is {sqrt2:.0f}\".format(sqrt2=math.sqrt(2)))"
   ]
  },
  {
   "cell_type": "markdown",
   "metadata": {},
   "source": [
    "### Writing out HTML and long strings\n",
    "You need to write this out as a nice report. You can print out formatted HTML in the notebook using HTML(), as shown below.\n",
    "**If you get an error here, make sure you have run the first cell in the notebook!**"
   ]
  },
  {
   "cell_type": "code",
   "execution_count": 55,
   "metadata": {},
   "outputs": [],
   "source": [
    "HTML(\"<center> <i> Centered and italic </i> </center>\")"
   ]
  },
  {
   "cell_type": "markdown",
   "metadata": {},
   "source": [
    "### Multi-line strings\n",
    "HTML() expects a string. In Python, you can write strings that go across multiple lines by using **three double quotes** \"\"\" like this:"
   ]
  },
  {
   "cell_type": "code",
   "execution_count": 56,
   "metadata": {},
   "outputs": [],
   "source": [
    "multi_line = \"\"\"\n",
    "This is a valid\n",
    "string, even though\n",
    "it is on multiple\n",
    "lines.\n",
    "\"\"\"\n",
    "print(multi_line)"
   ]
  },
  {
   "cell_type": "code",
   "execution_count": 57,
   "metadata": {},
   "outputs": [],
   "source": [
    "## Using HTML with a multiline string\n",
    "HTML(\"\"\"\n",
    "<h1> <font color=\"red\"> Big and red! </font> </H1>\n",
    "\"\"\")"
   ]
  },
  {
   "cell_type": "markdown",
   "metadata": {},
   "source": [
    "Note that the HTML() line **must be the last line in the cell**. You can't include multiple HTML() lines in one cell.\n",
    "\n",
    "## Task\n",
    "Using the string formatting commands write a report out which includes all of the relevant details about the launch. Use HTML to layout the information nicely (if you don't know any HTML, look up some simple HTML formatting on Google)."
   ]
  },
  {
   "cell_type": "code",
   "execution_count": 66,
   "metadata": {},
   "outputs": [],
   "source": [
    "# Solution goes here"
   ]
  },
  {
   "cell_type": "markdown",
   "metadata": {},
   "source": [
    "## B.3 Investing wisely\n",
    "Despite your excellent performance so far, unfortunately NASA has had its funding cut and will be firing you shortly.  Write a short Python program that will tell you if you have enough money to invest to retire comfortably.\n",
    "\n",
    "It should ask the user to provide:\n",
    "1. Their name.\n",
    "2. Their age.\n",
    "3. How much money per year they want to have as income, per year after retiring, in pounds.\n",
    "4. How much money they are going to invest, right now, as a lump sum.\n",
    "5. The interest rate on the investment, in percent per year.\n",
    "\n",
    "\n",
    "And should print a polite message giving you a realistic view of your retirement prospects, comparing what they *will* get to what they would like (as specified in step 3). For example, the program might print:\n",
    "\n",
    "    \"John, you can comfortably retire with a pension of more than £100 per year! \n",
    "    In fact, you'll be rich -- you will get £150000 per year!\"\n",
    "    \n",
    "or\n",
    "\n",
    "    \"Sorry, John, you will not be able to afford a pension of £100 per year at the moment :( \n",
    "    You will only get £3.50 per year. You can't even afford soup. \"\n",
    "\n",
    "You can assume that:\n",
    "\n",
    "1. People retire at 68.\n",
    "1. People die at 95.\n",
    "1. The value of an investment after `n` years at a rate of `p` percent per year is given by `(1+p/100.0) ** n` times the original investment.\n",
    "1. Investments cease to increase in value when people retire.\n",
    "1. Income is the value of the investment at retirement age, divided by lifespan.\n",
    "\n",
    "*(obviously, real investment calculations are much more complicated: interests rates change, income accrues over time, people die at different ages, etc.)*\n",
    "\n",
    "## Hints\n",
    "\n",
    "* Remember that `input()` gives you a string which you need to convert.\n",
    "* If Python seems to crash, it is probably waiting for input. You can restart the notebook, by going to the menu `Kernel/Restart` and rerunning the cell. It will take a moment.\n",
    "\n"
   ]
  },
  {
   "cell_type": "code",
   "execution_count": 29,
   "metadata": {},
   "outputs": [],
   "source": [
    "# Solution goes here"
   ]
  },
  {
   "cell_type": "markdown",
   "metadata": {},
   "source": [
    "## C Extended exercises\n",
    "It is **not** necessary to attempt or even look at these exercises. They are intended for students who want a greater challenge.\n",
    "\n",
    "**Warning: this particular C exercises uses many advanced concepts we have not and will not cover. This is for students who are experienced in programming and want to explore operators further. You will need to do your own research if you look at this. Proceed at your own risk!**\n",
    "\n",
    "Python allows us to define types and change what operators *do*. This is how + can do a different thing to a pair of strings than to a pair of numbers. Let's first see all operators that Python supports:"
   ]
  },
  {
   "cell_type": "markdown",
   "metadata": {},
   "source": [
    "\n",
    "These are all the valid operators in Python, in order of precedence:\n",
    "\n",
    "    lambda                  Lambda expression\n",
    "    or                      Boolean OR\n",
    "    and                     Boolean AND\n",
    "    not x                   Boolean NOT\n",
    "    in, not in              Membership tests\n",
    "    is, is not              Identity tests\n",
    "    <, <=, >, >=, !=, ==    Comparisons\n",
    "    |                       Bitwise OR\n",
    "    ^                       Bitwise XOR\n",
    "    &                       Bitwise AND\n",
    "    <<, >>                  Bitwise Shifts\n",
    "    +, -                    Addition and subtraction\n",
    "    *, /, %                 Multiplication, Division and Remainder\n",
    "    +x, -x                  Positive, Negative\n",
    "    ~x                      Bitwise NOT\n",
    "    **                      Exponentiation\n",
    "    x.attribute             Attribute reference\n",
    "    x[index]                Indexing\n",
    "    x[index:index]          Slicing\n",
    "    f(arguments ...)        Function call\n",
    "    (expressions, ...)      Binding or tuple display\n",
    "    [expressions, ...]      List display\n",
    "    {key:datum, ...}        Dictionary display\n",
    "    \n",
    "    \n",
    "Many of these you will not have seen before, but the key arithmetic operators are in the middle of the table. "
   ]
  },
  {
   "cell_type": "markdown",
   "metadata": {},
   "source": [
    "Every operator is equivalent to a **function**. These are provided by the `operator` module. "
   ]
  },
  {
   "cell_type": "code",
   "execution_count": 152,
   "metadata": {},
   "outputs": [],
   "source": [
    "import operator\n",
    "\n",
    "print(2 + 5)\n",
    "\n",
    "print(operator.add(2, 5))  # exactly the same"
   ]
  },
  {
   "cell_type": "code",
   "execution_count": 153,
   "metadata": {},
   "outputs": [],
   "source": [
    "print(140 & 63)\n",
    "\n",
    "print(operator.and_(140, 63))  # also the same"
   ]
  },
  {
   "cell_type": "markdown",
   "metadata": {},
   "source": [
    "This table maps all of the operators that can be redefined to function names inside `operator`.\n",
    "\n",
    "| Operation             | Syntax            | Function                                 |\n",
    "|-----------------------|-------------------|------------------------------------------|\n",
    "| Addition              | a + b             | add(a, b)                                |\n",
    "| Concatenation         | seq1 + seq2       | concat(seq1, seq2)                       |\n",
    "| Containment Test      | obj in seq        | contains(seq, obj)                       |\n",
    "| Division              | a / b             | div(a, b) (without __future__.division)  |\n",
    "| Division              | a / b             | truediv(a, b) (with __future__.division) |\n",
    "| Division              | a // b            | floordiv(a, b)                           |\n",
    "| Bitwise And           | a & b             | and_(a, b)                               |\n",
    "| Bitwise Exclusive Or  | a ^ b             | xor(a, b)                                |\n",
    "| Bitwise Inversion     | ~ a               | invert(a)                                |\n",
    "| Bitwise Or            | a | b             | or_(a, b)                                |\n",
    "| Exponentiation        | a ** b            | pow(a, b)                                |\n",
    "| Identity              | a is b            | is_(a, b)                                |\n",
    "| Identity              | a is not b        | is_not(a, b)                             |\n",
    "| Indexed Assignment    | obj[k] = v        | setitem(obj, k, v)                       |\n",
    "| Indexed Deletion      | del obj[k]        | delitem(obj, k)                          |\n",
    "| Indexing              | obj[k]            | getitem(obj, k)                          |\n",
    "| Left Shift            | a << b            | lshift(a, b)                             |\n",
    "| Modulo                | a % b             | mod(a, b)                                |\n",
    "| Multiplication        | a * b             | mul(a, b)                                |\n",
    "| Negation (Arithmetic) | - a               | neg(a)                                   |\n",
    "| Negation (Logical)    | not a             | not_(a)                                  |\n",
    "| Positive              | + a               | pos(a)                                   |\n",
    "| Right Shift           | a >> b            | rshift(a, b)                             |\n",
    "| Sequence Repetition   | seq * i           | repeat(seq, i)                           |\n",
    "| Slice Assignment      | seq[i:j] = values | setitem(seq, slice(i, j), values)        |\n",
    "| Slice Deletion        | del seq[i:j]      | delitem(seq, slice(i, j))                |\n",
    "| Slicing               | seq[i:j]          | getitem(seq, slice(i, j))                |\n",
    "| String Formatting     | s % obj           | mod(s, obj)                              |\n",
    "| Subtraction           | a - b             | sub(a, b)                                |\n",
    "| Truth Test            | obj               | truth(obj)                               |\n",
    "| Ordering              | a < b             | lt(a, b)                                 |\n",
    "| Ordering              | a <= b            | le(a, b)                                 |\n",
    "| Equality              | a == b            | eq(a, b)                                 |\n",
    "| Difference            | a != b            | ne(a, b)                                 |\n",
    "| Ordering              | a >= b            | ge(a, b)                                 |\n",
    "| Ordering              | a > b             | gt(a, b)                                 |"
   ]
  },
  {
   "cell_type": "markdown",
   "metadata": {},
   "source": [
    "We can define new kinds of types in Python. We won't use this in CS1P, but it lets us play with operators. Here's how it works:"
   ]
  },
  {
   "cell_type": "code",
   "execution_count": 112,
   "metadata": {},
   "outputs": [],
   "source": [
    "#  we define new types with `class` and give them names\n",
    "# we can specify what kind of behaviour this type starts off with using the existing type in ()\n",
    "#\n",
    "class BadNumber(int):  # this will be a kind of int\n",
    "\n",
    "    # Every operator is written as a \"dunder\" method -- with double underscores on each side\n",
    "    # So add is written __add__\n",
    "    # add is binary, so it takes two arguments: this value and the one to add to\n",
    "    def __add__(self, other):\n",
    "        # Note: We CANNOT say self+other, because that would just call this again\n",
    "        # instead, we force this number to pretend it is an integer, and then\n",
    "        # do the operation. We also must make sure that the result is converted\n",
    "        # *back* into a BadNumber so the type stays BadNumber\n",
    "        return BadNumber(int(self) - other)\n",
    "\n",
    "    def __sub__(self, other):\n",
    "        return int(self) + other  # replace subtraction with addition"
   ]
  },
  {
   "cell_type": "code",
   "execution_count": 113,
   "metadata": {},
   "outputs": [],
   "source": [
    "bad_5 = BadNumber(5)\n",
    "print(bad_5) # looks like a number..."
   ]
  },
  {
   "cell_type": "code",
   "execution_count": 115,
   "metadata": {},
   "outputs": [],
   "source": [
    "print(bad_5+1+2) # uh oh"
   ]
  },
  {
   "cell_type": "markdown",
   "metadata": {},
   "source": [
    "This might seem useless. But there are many number systems we could implement by redefining operators. One simple one is modular arithmetic.\n",
    "\n",
    "In modular arithmetic, values are computed modulo some fixed number. For example, `10 + 3 mod 12 = 1`. and `99+4 mod 100=3`. Your task is to define a modular arithmetic type, which always computes results modulo a fixed modulus.\n",
    "\n",
    "Start by creating a type for 24 hour clock arithmetic. This class should be called `Mod24`. Add enough operators that the function below works"
   ]
  },
  {
   "cell_type": "code",
   "execution_count": 116,
   "metadata": {},
   "outputs": [],
   "source": [
    "# Solution goes here"
   ]
  },
  {
   "cell_type": "code",
   "execution_count": 126,
   "metadata": {},
   "outputs": [],
   "source": [
    "assert (Mod24(10 // 2) + 24 * 5) ** 8 == 1"
   ]
  },
  {
   "cell_type": "markdown",
   "metadata": {},
   "source": [
    "For an even more advanced approach, work out how to create a `ModN` type that can have the modulus set when the class is created.  For example `ModN(8, 13)` would create a new number representing `8 mod 13` and any further operations would remain modulo 13.\n",
    "\n",
    "You will need to do so some research to work out how to do this. Hint: you need to use the `__new__` function."
   ]
  },
  {
   "cell_type": "code",
   "execution_count": 147,
   "metadata": {},
   "outputs": [],
   "source": [
    "# Solution goes here"
   ]
  },
  {
   "cell_type": "code",
   "execution_count": 150,
   "metadata": {},
   "outputs": [],
   "source": [
    "assert(ModN(10,13)*5+4==2)"
   ]
  }
 ],
 "metadata": {
  "celltoolbar": "Visualize",
  "kernelspec": {
   "display_name": "Python 3",
   "language": "python",
   "name": "python3"
  },
  "language_info": {
   "codemirror_mode": {
    "name": "ipython",
    "version": 3
   },
   "file_extension": ".py",
   "mimetype": "text/x-python",
   "name": "python",
   "nbconvert_exporter": "python",
   "pygments_lexer": "ipython3",
   "version": "3.7.3"
  },
  "varInspector": {
   "cols": {
    "lenName": 16,
    "lenType": 16,
    "lenVar": 40
   },
   "kernels_config": {
    "python": {
     "delete_cmd_postfix": "",
     "delete_cmd_prefix": "del ",
     "library": "var_list.py",
     "varRefreshCmd": "print(var_dic_list())"
    },
    "r": {
     "delete_cmd_postfix": ") ",
     "delete_cmd_prefix": "rm(",
     "library": "var_list.r",
     "varRefreshCmd": "cat(var_dic_list()) "
    }
   },
   "types_to_exclude": [
    "module",
    "function",
    "builtin_function_or_method",
    "instance",
    "_Feature"
   ],
   "window_display": false
  }
 },
 "nbformat": 4,
 "nbformat_minor": 1
}
