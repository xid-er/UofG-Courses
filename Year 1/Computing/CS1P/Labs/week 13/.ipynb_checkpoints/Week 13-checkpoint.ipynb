{
 "cells": [
  {
   "cell_type": "code",
   "execution_count": 3,
   "metadata": {},
   "outputs": [
    {
     "name": "stdout",
     "output_type": "stream",
     "text": [
      "[-31, 0, 1, 2, 4, 65, 83, 99, 782]\n"
     ]
    }
   ],
   "source": [
    "def quickSort(mylist):\n",
    "    if len(mylist) <= 1:\n",
    "        return mylist \n",
    "    else:\n",
    "        pivot = mylist[0]\n",
    "        less = [i for i in mylist if i < pivot]\n",
    "        more = [i for i in mylist if i > pivot]\n",
    "        pivotList = [i for i in mylist if i == pivot]\n",
    "        \n",
    "        less = quickSort(less)\n",
    "        more = quickSort(more)\n",
    "        return less + pivotList + more\n",
    "\n",
    "a = [4, 65, 2, -31, 0, 99, 83, 782, 1]\n",
    "print(quickSort(a))"
   ]
  },
  {
   "cell_type": "code",
   "execution_count": 17,
   "metadata": {},
   "outputs": [
    {
     "name": "stdout",
     "output_type": "stream",
     "text": [
      "mid: 0\n",
      "mid: 1\n",
      "position of 2 is 1\n"
     ]
    }
   ],
   "source": [
    "def binary_rec(l, el, start = 0, end = -1, default = \"404: Element not found\"):\n",
    "    mid = (start + end) // 2\n",
    "    print(\"mid:\", mid)\n",
    "    if el == l[mid]:\n",
    "        return \"position of \" + str(el) + \" is \" + str(mid)\n",
    "    elif end == start:\n",
    "        return default\n",
    "    else:\n",
    "        if el < l[mid]:\n",
    "            return binary_rec(l, el, end = mid - 1)\n",
    "        elif el > l[mid]:\n",
    "            return binary_rec(l, el, start = mid + 1, end = end)\n",
    "            \n",
    "mylist = [1,2]\n",
    "print(binary_rec(mylist, 2, end = len(mylist)-1))"
   ]
  },
  {
   "cell_type": "code",
   "execution_count": 18,
   "metadata": {},
   "outputs": [
    {
     "name": "stdout",
     "output_type": "stream",
     "text": [
      "First occurrence = 3\n",
      "Last occurrence = 5\n"
     ]
    }
   ],
   "source": [
    "def first_and_last(l, inp):\n",
    "    found_first = False\n",
    "    found_last = False\n",
    "    if inp not in l:\n",
    "        print(\"404: Element not found\")\n",
    "    else:\n",
    "        while not found_first and not found_last:\n",
    "            for pos, elt in enumerate(l):\n",
    "                if elt == inp and not found_first:\n",
    "                    first = pos\n",
    "                    found_first = True\n",
    "                if elt != inp and found_first and not found_last:\n",
    "                    last = pos - 1\n",
    "                    found_last = True\n",
    "        if not found_last:\n",
    "            last = first\n",
    "        print(\"First occurrence =\", first)\n",
    "        print(\"Last occurrence =\", last)\n",
    "    \n",
    "first_and_last([1, 3, 6, 7, 7, 7 ,88, 103, 426], 7)"
   ]
  },
  {
   "cell_type": "code",
   "execution_count": 1,
   "metadata": {},
   "outputs": [
    {
     "name": "stdout",
     "output_type": "stream",
     "text": [
      "First occurrence: 3\n",
      "Last occurrence: 5\n"
     ]
    },
    {
     "data": {
      "text/plain": [
       "4"
      ]
     },
     "execution_count": 1,
     "metadata": {},
     "output_type": "execute_result"
    }
   ],
   "source": [
    "def fal_binary(data, key):\n",
    "    lower = 0\n",
    "    upper = len(data) - 1\n",
    "    length = upper - lower + 1\n",
    "    while length > 1:\n",
    "        midpoint = lower + length // 2\n",
    "        if key < data[midpoint]:\n",
    "            upper = midpoint - 1\n",
    "        elif key > data[midpoint]:\n",
    "            lower = midpoint\n",
    "        else:\n",
    "            found_first = False\n",
    "            found_last = False\n",
    "            last = midpoint\n",
    "            first = midpoint\n",
    "            while not found_first and not found_last:\n",
    "                first -= 1\n",
    "                if first == 0:\n",
    "                    print(\"First occurrence:\", 0)\n",
    "                elif (data[first] != key and not found_first):\n",
    "                    first += 1\n",
    "                    print(\"First occurrence:\", first)\n",
    "                    found_first = True\n",
    "                last += 1\n",
    "                if last == len(data) - 1:\n",
    "                    print(\"Last occurrence:\", last)\n",
    "                elif (data[last] != key and not found_last):\n",
    "                    last -= 1\n",
    "                    print(\"Last occurrence:\", last)\n",
    "                    found_last = True\n",
    "            return midpoint\n",
    "        length = upper - lower + 1\n",
    "    if key == data[lower]:\n",
    "        return lower\n",
    "    else:\n",
    "        return default\n",
    "    \n",
    "fal_binary([1, 3, 6, 7, 7, 7 ,88, 103, 426], 7)"
   ]
  },
  {
   "cell_type": "code",
   "execution_count": 15,
   "metadata": {},
   "outputs": [
    {
     "name": "stdout",
     "output_type": "stream",
     "text": [
      "0\n"
     ]
    }
   ],
   "source": [
    "def binary(data, key, default = \"404: Element not found\"):\n",
    "    lower = 0\n",
    "    upper = len(data) - 1\n",
    "    length = upper - lower + 1\n",
    "    while length > 1:\n",
    "        midpoint = lower + length // 2\n",
    "        if key < data[midpoint]:\n",
    "            upper = midpoint - 1\n",
    "        elif key > data[midpoint]:\n",
    "            lower = midpoint\n",
    "        else:\n",
    "            return midpoint\n",
    "        length = upper - lower + 1\n",
    "    if key == data[lower]:\n",
    "        return lower\n",
    "    else:\n",
    "        return default\n",
    "    \n",
    "print(binary([1,2,3,4,5,6,7,8], 1))"
   ]
  }
 ],
 "metadata": {
  "kernelspec": {
   "display_name": "Python 3",
   "language": "python",
   "name": "python3"
  },
  "language_info": {
   "codemirror_mode": {
    "name": "ipython",
    "version": 3
   },
   "file_extension": ".py",
   "mimetype": "text/x-python",
   "name": "python",
   "nbconvert_exporter": "python",
   "pygments_lexer": "ipython3",
   "version": "3.7.3"
  }
 },
 "nbformat": 4,
 "nbformat_minor": 2
}
