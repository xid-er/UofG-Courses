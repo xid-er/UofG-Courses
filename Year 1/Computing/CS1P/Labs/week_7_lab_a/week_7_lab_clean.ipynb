{
 "cells": [
  {
   "cell_type": "markdown",
   "metadata": {},
   "source": [
    "# Week 7 : Lab A\n",
    " ## Test, log, debug and optimize\n",
    " ##### CS1P - University of Glasgow - John H. Williamson - 2019/2020 -- Python 3.x"
   ]
  },
  {
   "cell_type": "markdown",
   "metadata": {},
   "source": [
    "## Lab exercise\n",
    "\n",
    "**You must submit a reasonble attempt at this exercise to gain a tick for this work**.\n",
    "\n",
    "**Note that Part B is in a separate Moodle download.**\n",
    "\n",
    "<div class=\"alert alert-box alert-danger\"> \n",
    "Remember to save your work frequently! </div>"
   ]
  },
  {
   "cell_type": "markdown",
   "metadata": {},
   "source": [
    "## Purpose of this lab\n",
    "\n",
    "This lab will get you up to speed on:\n",
    "* reading and writing simple logs\n",
    "* writing tests with `assert`\n",
    "* profiling and optimising code\n",
    "* using the `ipdb` debugger"
   ]
  },
  {
   "cell_type": "markdown",
   "metadata": {},
   "source": [
    "## Before the lab\n",
    "* Attempt at least the A exercises.\n",
    "\n"
   ]
  },
  {
   "cell_type": "code",
   "execution_count": 19,
   "metadata": {},
   "outputs": [],
   "source": [
    "## RUN THIS CELL FIRST!\n",
    "%load_ext autoreload\n",
    "%autoreload 2\n",
    "\n",
    "from utils.tick import tick\n",
    "from utils.test_utils import should_pass, should_fail\n",
    "from utils.test_utils import reset_tracking, track, verify_track\n",
    "from utils.complexity import time_complexity            \n",
    "from IPython.core.debugger import set_trace\n",
    "print(\"All loaded OK\")"
   ]
  },
  {
   "cell_type": "markdown",
   "metadata": {},
   "source": [
    "## A.1 Assertions\n",
    "\n",
    "Write a function `test_list(l)` which uses `assert` to check if a list `l` satisfies all of these constraints:\n",
    "\n",
    "* the list is non-empty\n",
    "* the list contains only strings\n",
    "* every string is nonempty\n",
    "* every string has only lower case letters in it\n",
    "* every string is unique\n",
    "* the length of the list is even\n"
   ]
  },
  {
   "cell_type": "code",
   "execution_count": 2,
   "metadata": {},
   "outputs": [],
   "source": [
    "# Solution goes here"
   ]
  },
  {
   "cell_type": "code",
   "execution_count": 3,
   "metadata": {},
   "outputs": [],
   "source": [
    "## Tests\n",
    "with tick():\n",
    "    should_fail(test_list, [])\n",
    "    should_fail(test_list, [\"\"])\n",
    "    should_fail(test_list, [\"a\"])\n",
    "    should_fail(test_list, [1, \"a\"])\n",
    "    should_fail(test_list, [1, 2])\n",
    "    should_fail(test_list, [\"a\", \"b\", \"c\"])\n",
    "    should_fail(test_list, [\"alpha\", \"\"])\n",
    "    should_fail(test_list, [\"a\", \"b\", \"c\", \"a\"])\n",
    "    should_fail(test_list, [\"a\", \"a\"])\n",
    "    should_fail(test_list, [\"a\", \"b\", \"3\", \".\"])\n",
    "    should_fail(test_list, [\"A\", \"B\", \"C\", \"D\"])\n",
    "    should_fail(test_list, [\"alpha\", \"Bravo\", \"charlIe\", \"delta\"])\n",
    "    should_fail(test_list, [\"a\", \"b\", \"c\", \"\"])\n",
    "\n",
    "with tick():\n",
    "    should_pass(test_list, [\"a\", \"b\"])\n",
    "    should_pass(test_list, [\"alpha\", \"bravo\"])\n",
    "    should_pass(test_list, [\"alpha\", \"bravo\", \"charlie\", \"d\"])\n",
    "    should_pass(test_list, [\"ale\", \"base\", \"cheap\", \"liqour\"])\n",
    "    should_pass(test_list, [\"ale\", \"base\", \"cheap\", \"liqour\", \"twenty\", \"thirty\"])\n"
   ]
  },
  {
   "cell_type": "markdown",
   "metadata": {},
   "source": [
    "## A.2 Time complexity\n",
    "\n",
    "The function below runs in constant time -- it doesn't depend on the value of `n` and takes the same each time it is called regardless. The `time_complexity()` call shows this as a graph, and gives scores, which should show the time complexity is most likely to be constant (it will have the highest score printed)."
   ]
  },
  {
   "cell_type": "code",
   "execution_count": 20,
   "metadata": {},
   "outputs": [],
   "source": [
    "def constant_time(n):\n",
    "    i = n \n",
    "    return i\n",
    "\n",
    "\n",
    "# number=30: run the function 30 times and average the result\n",
    "# ns= range(1, 1000, 50): set n to values from 1 to 1000, stepping by 50 each time\n",
    "# reps=50: repeat the whole experiment 50 times\n",
    "time_complexity(constant_time, ns=range(5, 1000, 50), number=30, reps=50);"
   ]
  },
  {
   "cell_type": "markdown",
   "metadata": {},
   "source": [
    "**Task** Using **nested loops** write functions which take a parameter `n` and  do computations which will run in:\n",
    "\n",
    "* `linear_time(n)` which runs in O(N) linear time\n",
    "* `quadratic_time(n)` which runs in O(N^2) quadratic time\n",
    "* `cubic_time(n)` which runs in O(N^3) cubic time\n",
    "\n",
    "Plot graphs for each, using `time_complexity`. Use `number=20`, `ns=range(5, 100, 5)`, `reps=15`\n"
   ]
  },
  {
   "cell_type": "code",
   "execution_count": 21,
   "metadata": {},
   "outputs": [],
   "source": [
    "# Solution goes here"
   ]
  },
  {
   "cell_type": "code",
   "execution_count": 6,
   "metadata": {},
   "outputs": [],
   "source": [
    "## Tests\n",
    "with tick():\n",
    "    _, _, scores = time_complexity(linear_time, ns=range(5, 100, 3), number=5, plot=False, reps=40);\n",
    "    assert scores[\"linear\"]>0.2 \n",
    "\n",
    "with tick():\n",
    "    _, _, scores = time_complexity(quadratic_time, ns=range(5, 100, 3), number=5, plot=False, reps=40);\n",
    "    assert scores[\"quadratic\"]>0.5\n",
    "\n",
    "with tick():    \n",
    "    _, _, scores = time_complexity(cubic_time, ns=range(5, 100, 3), number=5, plot=False, reps=40);\n",
    "    assert scores[\"cubic\"]>0.5\n",
    "\n"
   ]
  },
  {
   "cell_type": "markdown",
   "metadata": {},
   "source": [
    "## A.2B (OPTIONAL EXTENSION) \n",
    "\n",
    "Write a function that runs in O(N log N) time, and plot the time complexity graph. (hint: how long does `x.sorted()` take for a list of `n` *random* items x?)"
   ]
  },
  {
   "cell_type": "code",
   "execution_count": 22,
   "metadata": {},
   "outputs": [],
   "source": [
    "# Solution goes here"
   ]
  },
  {
   "cell_type": "markdown",
   "metadata": {},
   "source": [
    "# A.3 Visualise recursion with logging\n",
    "\n",
    "Many people find it hard to visualise what is going on in recursion. Use the *principles of logging* to add `print` statements that make a trace of what happens when the recursive function below is called. \n",
    "\n",
    "Try and print out the results nicely; you might want to add additional parameters to the function to make logging nicer.\n"
   ]
  },
  {
   "cell_type": "code",
   "execution_count": 8,
   "metadata": {},
   "outputs": [],
   "source": [
    "## This function returns the ordered permutations of a sequence\n",
    "\n",
    "def permutations(l, perm=[]):\n",
    "    if len(l) == 0: \n",
    "        return [perm]\n",
    "    \n",
    "    results = []\n",
    "    for i in range(len(l)):        \n",
    "        results += permutations(l[:i] + l[i+1:], perm + [l[i]])\n",
    "    return results\n",
    "\n",
    "permutations(\"abc\")"
   ]
  },
  {
   "cell_type": "code",
   "execution_count": 9,
   "metadata": {},
   "outputs": [],
   "source": [
    "# Solution goes here"
   ]
  },
  {
   "cell_type": "markdown",
   "metadata": {},
   "source": [
    "## A.4 Test driven development\n",
    "\n",
    "\n",
    "<img src=\"imgs/palette.jpg\" width=\"100%\">\n",
    "*Image: \"DSC_8226\" by huguet92 is licensed under CC BY-NC-ND 2.0* \n",
    "\n",
    "The code below is supposed to do something with colours. The `hexify_colour` function doesn't work and you don't know exactly what the code is supposed to do. It was written by a junior developer and has a lot of issues, even though it looks basically correct.  \n",
    "\n",
    "But you do have tests which check what the results *should* be. Using these tests:\n",
    "\n",
    "* work out what the code should be doing\n",
    "* fix it so it does the right thing\n"
   ]
  },
  {
   "cell_type": "code",
   "execution_count": 10,
   "metadata": {},
   "outputs": [],
   "source": [
    "def hexify_color(r,g=None,b=None):        \n",
    "    r_int = int(r*255)\n",
    "    g_int = int(g*255)\n",
    "    b_int = int(b*255)    \n",
    "    s = \"#{r:03x}{b:02x}{g:02x}\".format(r=r_int, g=g_int, b=b_int)    \n",
    "    print(s)    "
   ]
  },
  {
   "cell_type": "code",
   "execution_count": 11,
   "metadata": {},
   "outputs": [],
   "source": [
    "## Tests\n",
    "with tick():\n",
    "    assert hexify_color(0.0, 0.0, 0.0) == '#000000'\n",
    "    assert hexify_color(0.5, 0.5, 0.5) == '#7f7f7f'\n",
    "    assert hexify_color(1.0, 1.0, 1.0) == '#ffffff'\n",
    "    assert hexify_color(1.0, 0.0, 0.0) == '#ff0000'\n",
    "    assert hexify_color(0.0, 1.0, 0.0) == '#00ff00'\n",
    "    assert hexify_color(0.0, 0.0, 1.0) == '#0000ff'\n",
    "    assert hexify_color(1.0) == '#ffffff'\n",
    "    assert hexify_color(0.0) == '#000000'\n",
    "    assert hexify_color(-1.0, 0.0, 1.0) == '#0000ff'\n",
    "    assert hexify_color(-1.0, 0.0, 10.0) == '#0000ff'\n",
    "    assert hexify_color(10.0, 10.0, 10.0) == '#ffffff'\n",
    "\n",
    "    assert hexify_color(-1.0) == '#000000'\n",
    "    assert hexify_color(0.5) == '#7f7f7f'\n",
    "\n",
    "    should_fail(hexify_color, 0.5, 0.5)\n",
    "    should_fail(hexify_color, 0.5, 0.5)"
   ]
  },
  {
   "cell_type": "code",
   "execution_count": 12,
   "metadata": {},
   "outputs": [],
   "source": [
    "# Solution goes here"
   ]
  },
  {
   "cell_type": "markdown",
   "metadata": {},
   "source": [
    "## A.4 Basic ipdb\n",
    "\n",
    "\n",
    "The code below is a solution to Lab 3, A.4. Practice tracing through this code using the `ipdb` debugger. You should watch the video tutorial on ipdb (Week 7's video) before attempting this part.\n",
    "\n",
    "Here's a quick reference to `ipdb` commands:\n",
    "\n",
    "\n",
    "### Basic debugger commands\n",
    "\n",
    "The `ipdb` debugger can either take single letter commands or the full text. \n",
    "\n",
    "* `s` **step** execute the next line, and *enter* any function that is called\n",
    "* `n` **next** execute the next line, and *skip* over any function that is called\n",
    "* `c` **continue** resume running until the next breakpoint is hit\n",
    "* **return** continue until the end of the current function\n",
    "* `r` **run** restart the program\n",
    "* `l` **list** print out the code corresponding to the current execution point\n",
    "* `u`/`d` **up/down** in the call stack\n",
    "* `p` **print** print out a value (e.g. `p my_list` to print out the current value of `my_list`)\n",
    "* `a` **args** print out the arguments that were used in the call to the current function\n",
    "* `q` **quit** **YOU MUST QUIT THE DEBUGGER BEFORE ANY OTHER CODE WILL RUN!**\n",
    "* `b` **breakpoint** <line_number> set a new breakpoint on the given line number (e.g. `b 20`)\n",
    "\n",
    "\n",
    "You can pre-insert **breakpoints** where the debugger will stop and wait for input by writing `set_trace()` in the code.\n",
    "\n",
    "\n",
    "---\n",
    "\n",
    "### Instructions\n",
    "\n",
    "1. Before you start: Click on the cell, and press `ESC-L` to enable line numbers\n",
    "\n",
    "1. Add a breakpoint using `set_trace()` at the very start of `all_rotates`\n",
    "1. Run the cell; `ipdb` will start.\n",
    "1. You can use `help` at any time to get a list of commands inside the debugger\n",
    "1. Print out the argument to `all_rotates`\n",
    "1. Use `list` to see where you are in the code\n",
    "1. Step into the for loop\n",
    "1. Step *into* `rotate()` in the first iteration\n",
    "1. Use `up` to see where the call to `rotate` came from\n",
    "1. Use `down` to go back into `rotate`\n",
    "1. Then, in the next iteration, skip over the call to rotate (hint: use `next`)\n",
    "1. Then, set a breakpoint *in the debugger* at the second `for` loop\n",
    "1. Continue to that breakpoint\n",
    "1. Check the value of `rotates` is what you expect\n",
    "1. Continue execution to the end of the cell\n",
    "1. **Quit the debugger** using `quit`\n"
   ]
  },
  {
   "cell_type": "code",
   "execution_count": null,
   "metadata": {},
   "outputs": [],
   "source": [
    "def rotate(s):\n",
    "    rotated = s[1:] + s[0]\n",
    "    return rotated\n",
    "\n",
    "def all_rotates(s):\n",
    "    rotates = []\n",
    "    for i in range(len(s)):\n",
    "        rotates.append(s)\n",
    "        s = rotate(s)\n",
    "        \n",
    "    for rotated in rotates:\n",
    "        print(rotated)\n",
    "    \n",
    "                  \n",
    "all_rotates(\"steel\")"
   ]
  },
  {
   "cell_type": "code",
   "execution_count": null,
   "metadata": {
    "lines_to_next_cell": 2
   },
   "outputs": [],
   "source": [
    "# Solution goes here"
   ]
  },
  {
   "cell_type": "markdown",
   "metadata": {},
   "source": [
    "## A.5 Reading logs\n",
    "\n",
    "The code below is supposed to take a string then convert it to [Morse code](https://en.wikipedia.org/wiki/Morse_code). It does this by reading a file containing a Morse code table. There are several bugs, but there are logging messages provided to help you understand what is going on. Use the log messages which are generated to work out what the problems are with this code is and fix the code so it works as described above, and passes the tests. **Do not use the debugger, or add additional logging statements to the code**.\n",
    "\n",
    "<img src=\"imgs/morse_key.jpg\" width=\"30%\">\n",
    "\n",
    "<center>    \n",
    "<i> A Morse key, from the days when keyboards had just the one key. Image: by Brad Wilmot CC-NC-ND </i>\n",
    "</center>"
   ]
  },
  {
   "cell_type": "code",
   "execution_count": 13,
   "metadata": {},
   "outputs": [],
   "source": [
    "def read_table(fname):\n",
    "    morse_table = {}\n",
    "    for letter in \"ABCDEFGHIJKLMNOPQRSTUVWXYZ\":\n",
    "        morse_table[letter] = \"\"\n",
    "    print(\"{n} blank entries in the Morse table\".format(n=len(morse_table)))\n",
    "    fname = \"morse.txt\"\n",
    "    print(\"Reading morse table from file '{fname}'\".format(fname=fname))\n",
    "    with open(fname) as f:\n",
    "        for line in f:\n",
    "            letter, code = line.split(\" \")\n",
    "            morse_table = {letter: code}\n",
    "            print(\"Mapping {letter} to {code}\".format(letter=letter, code=code))\n",
    "\n",
    "    print(\"{n} entries in Morse table after loading\".format(n=len(morse_table)))\n",
    "    print()\n",
    "    return morse_table\n",
    "\n",
    "\n",
    "def convert_to_morse(s):\n",
    "    print()\n",
    "    morse_table = read_table(\"data/morse.txt\")\n",
    "    output = []\n",
    "    for ch in s:\n",
    "        upper_ch = ch.upper()\n",
    "        if upper_ch in morse_table:\n",
    "            print(\"Converting {ch} to {code}\".format(ch=ch, code=morse_table[upper_ch]))\n",
    "            output.append(morse_table[ch.upper()])\n",
    "        else:\n",
    "            output.append(\"   \")\n",
    "        output.append(\" \")\n",
    "    result = \"\".join(s)\n",
    "    print(\"Conversion result is {result}\".format(result=result))\n",
    "    return result"
   ]
  },
  {
   "cell_type": "code",
   "execution_count": null,
   "metadata": {},
   "outputs": [],
   "source": [
    "# Solution goes here"
   ]
  },
  {
   "cell_type": "code",
   "execution_count": 14,
   "metadata": {},
   "outputs": [],
   "source": [
    "with tick():\n",
    "    assert convert_to_morse('sos')=='... --- ...'\n",
    "    assert convert_to_morse('hello there')=='.... . .-.. .-.. ---     - .... . .-. .'\n",
    "    assert convert_to_morse('sphinx of black quartz judge my vow') == '... .--. .... .. -. -..-     --- ..-.     -... .-.. .- -.-. -.-     --.- ..- .- .-. - --..     .--- ..- -.. --. .     -- -.--     ...- --- .--'"
   ]
  },
  {
   "cell_type": "markdown",
   "metadata": {},
   "source": [
    "<div class=\"alert alert-box alert-danger\">\n",
    "    \n",
    "# Part B is an a separate file -- download from Moodle when available\n",
    "</div>"
   ]
  },
  {
   "cell_type": "code",
   "execution_count": null,
   "metadata": {},
   "outputs": [],
   "source": []
  }
 ],
 "metadata": {
  "kernelspec": {
   "display_name": "Python 3",
   "language": "python",
   "name": "python3"
  },
  "language_info": {
   "codemirror_mode": {
    "name": "ipython",
    "version": 3
   },
   "file_extension": ".py",
   "mimetype": "text/x-python",
   "name": "python",
   "nbconvert_exporter": "python",
   "pygments_lexer": "ipython3",
   "version": "3.7.1"
  },
  "varInspector": {
   "cols": {
    "lenName": 16,
    "lenType": 16,
    "lenVar": 40
   },
   "kernels_config": {
    "python": {
     "delete_cmd_postfix": "",
     "delete_cmd_prefix": "del ",
     "library": "var_list.py",
     "varRefreshCmd": "print(var_dic_list())"
    },
    "r": {
     "delete_cmd_postfix": ") ",
     "delete_cmd_prefix": "rm(",
     "library": "var_list.r",
     "varRefreshCmd": "cat(var_dic_list()) "
    }
   },
   "types_to_exclude": [
    "module",
    "function",
    "builtin_function_or_method",
    "instance",
    "_Feature"
   ],
   "window_display": false
  }
 },
 "nbformat": 4,
 "nbformat_minor": 2
}
