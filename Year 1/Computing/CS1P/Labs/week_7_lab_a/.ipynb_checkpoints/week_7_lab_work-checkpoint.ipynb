{
 "cells": [
  {
   "cell_type": "markdown",
   "metadata": {},
   "source": [
    "# Week 7 : Lab A\n",
    " ## Test, log, debug and optimize\n",
    " ##### CS1P - University of Glasgow - John H. Williamson - 2019/2020 -- Python 3.x"
   ]
  },
  {
   "cell_type": "markdown",
   "metadata": {},
   "source": [
    "## Lab exercise\n",
    "\n",
    "**You must submit a reasonble attempt at this exercise to gain a tick for this work**.\n",
    "\n",
    "**Note that Part B is in a separate Moodle download.**\n",
    "\n",
    "<div class=\"alert alert-box alert-danger\"> \n",
    "Remember to save your work frequently! </div>"
   ]
  },
  {
   "cell_type": "markdown",
   "metadata": {},
   "source": [
    "## Purpose of this lab\n",
    "\n",
    "This lab will get you up to speed on:\n",
    "* reading and writing simple logs\n",
    "* writing tests with `assert`\n",
    "* profiling and optimising code\n",
    "* using the `ipdb` debugger"
   ]
  },
  {
   "cell_type": "markdown",
   "metadata": {},
   "source": [
    "## Before the lab\n",
    "* Attempt at least the A exercises.\n",
    "\n"
   ]
  },
  {
   "cell_type": "code",
   "execution_count": 1,
   "metadata": {},
   "outputs": [
    {
     "name": "stdout",
     "output_type": "stream",
     "text": [
      "All loaded OK\n"
     ]
    }
   ],
   "source": [
    "## RUN THIS CELL FIRST!\n",
    "%load_ext autoreload\n",
    "%autoreload 2\n",
    "\n",
    "from utils.tick import tick\n",
    "from utils.test_utils import should_pass, should_fail\n",
    "from utils.test_utils import reset_tracking, track, verify_track\n",
    "from utils.complexity import time_complexity            \n",
    "from IPython.core.debugger import set_trace\n",
    "print(\"All loaded OK\")"
   ]
  },
  {
   "cell_type": "markdown",
   "metadata": {},
   "source": [
    "## A.1 Assertions\n",
    "\n",
    "Write a function `test_list(l)` which uses `assert` to check if a list `l` satisfies all of these constraints:\n",
    "\n",
    "* the list is non-empty\n",
    "* the list contains only strings\n",
    "* every string is nonempty\n",
    "* every string has only lower case letters in it\n",
    "* every string is unique\n",
    "* the length of the list is even\n"
   ]
  },
  {
   "cell_type": "code",
   "execution_count": 8,
   "metadata": {},
   "outputs": [],
   "source": [
    "# Solution goes here\n",
    "def test_list(l):\n",
    "    assert l != []\n",
    "    assert len(l) == len(set(l))\n",
    "    assert len(l)%2 == 0\n",
    "    \n",
    "    for i in l:\n",
    "        assert type(i) == type(\"\")\n",
    "        assert i != \"\"\n",
    "        assert i == i.lower()\n",
    "        assert i.isalpha()\n",
    "        "
   ]
  },
  {
   "cell_type": "code",
   "execution_count": 9,
   "metadata": {},
   "outputs": [
    {
     "data": {
      "text/html": [
       " \n",
       "        <div class=\"alert alert-box alert-success\">\n",
       "        <h1> <font color=\"green\"> ✓ Correct </font> </h1>\n",
       "        </div>\n",
       "        "
      ],
      "text/plain": [
       "<IPython.core.display.HTML object>"
      ]
     },
     "metadata": {},
     "output_type": "display_data"
    },
    {
     "data": {
      "text/html": [
       " \n",
       "        <div class=\"alert alert-box alert-success\">\n",
       "        <h1> <font color=\"green\"> ✓ Correct </font> </h1>\n",
       "        </div>\n",
       "        "
      ],
      "text/plain": [
       "<IPython.core.display.HTML object>"
      ]
     },
     "metadata": {},
     "output_type": "display_data"
    }
   ],
   "source": [
    "## Tests\n",
    "with tick():\n",
    "    should_fail(test_list, [])\n",
    "    should_fail(test_list, [\"\"])\n",
    "    should_fail(test_list, [\"a\"])\n",
    "    should_fail(test_list, [1, \"a\"])\n",
    "    should_fail(test_list, [1, 2])\n",
    "    should_fail(test_list, [\"a\", \"b\", \"c\"])\n",
    "    should_fail(test_list, [\"alpha\", \"\"])\n",
    "    should_fail(test_list, [\"a\", \"b\", \"c\", \"a\"])\n",
    "    should_fail(test_list, [\"a\", \"a\"])\n",
    "    should_fail(test_list, [\"a\", \"b\", \"3\", \".\"])\n",
    "    should_fail(test_list, [\"A\", \"B\", \"C\", \"D\"])\n",
    "    should_fail(test_list, [\"alpha\", \"Bravo\", \"charlIe\", \"delta\"])\n",
    "    should_fail(test_list, [\"a\", \"b\", \"c\", \"\"])\n",
    "\n",
    "with tick():\n",
    "    should_pass(test_list, [\"a\", \"b\"])\n",
    "    should_pass(test_list, [\"alpha\", \"bravo\"])\n",
    "    should_pass(test_list, [\"alpha\", \"bravo\", \"charlie\", \"d\"])\n",
    "    should_pass(test_list, [\"ale\", \"base\", \"cheap\", \"liqour\"])\n",
    "    should_pass(test_list, [\"ale\", \"base\", \"cheap\", \"liqour\", \"twenty\", \"thirty\"])\n"
   ]
  },
  {
   "cell_type": "markdown",
   "metadata": {},
   "source": [
    "## A.2 Time complexity\n",
    "\n",
    "The function below runs in constant time -- it doesn't depend on the value of `n` and takes the same each time it is called regardless. The `time_complexity()` call shows this as a graph, and gives scores, which should show the time complexity is most likely to be constant (it will have the highest score printed)."
   ]
  },
  {
   "cell_type": "code",
   "execution_count": 10,
   "metadata": {},
   "outputs": [
    {
     "name": "stderr",
     "output_type": "stream",
     "text": [
      "C:\\Users\\karli\\OneDrive\\Documents\\Python projects\\Labs\\week_7_lab_a\\utils\\complexity.py:21: RuntimeWarning: overflow encountered in square\n",
      "  return np.sum((x*fn(ns) - ts)**2)\n",
      "C:\\Users\\karli\\Anaconda3\\lib\\site-packages\\scipy\\optimize\\optimize.py:1933: RuntimeWarning: invalid value encountered in double_scalars\n",
      "  tmp1 = (x - w) * (fx - fv)\n",
      "C:\\Users\\karli\\Anaconda3\\lib\\site-packages\\scipy\\optimize\\optimize.py:1934: RuntimeWarning: invalid value encountered in double_scalars\n",
      "  tmp2 = (x - v) * (fx - fw)\n"
     ]
    },
    {
     "name": "stdout",
     "output_type": "stream",
     "text": [
      "\n",
      "Scores for constant_time\n",
      "  constant     93.4%\n",
      "  log           2.6%\n",
      "  linear        1.0%\n",
      "  nlogn         1.0%\n",
      "  quadratic     0.8%\n",
      "  cubic         0.7%\n",
      "  exp           0.5%\n",
      "  factorial     0.0%\n"
     ]
    },
    {
     "data": {
      "image/png": "[encoded data removed]",
      "text/plain": [
       "<Figure size 864x288 with 1 Axes>"
      ]
     },
     "metadata": {
      "needs_background": "light"
     },
     "output_type": "display_data"
    }
   ],
   "source": [
    "def constant_time(n):\n",
    "    i = n \n",
    "    return i\n",
    "\n",
    "\n",
    "# number=30: run the function 30 times and average the result\n",
    "# ns= range(1, 1000, 50): set n to values from 1 to 1000, stepping by 50 each time\n",
    "# reps=50: repeat the whole experiment 50 times\n",
    "time_complexity(constant_time, ns=range(5, 1000, 50), number=30, reps=50);"
   ]
  },
  {
   "cell_type": "markdown",
   "metadata": {},
   "source": [
    "**Task** Using **nested loops** write functions which take a parameter `n` and  do computations which will run in:\n",
    "\n",
    "* `linear_time(n)` which runs in O(N) linear time\n",
    "* `quadratic_time(n)` which runs in O(N^2) quadratic time\n",
    "* `cubic_time(n)` which runs in O(N^3) cubic time\n",
    "\n",
    "Plot graphs for each, using `time_complexity`. Use `number=20`, `ns=range(5, 100, 5)`, `reps=15`\n"
   ]
  },
  {
   "cell_type": "code",
   "execution_count": 17,
   "metadata": {},
   "outputs": [
    {
     "name": "stdout",
     "output_type": "stream",
     "text": [
      "\n",
      "Scores for quadratic_time\n",
      "  quadratic    24.1%\n",
      "  nlogn        19.1%\n",
      "  cubic        18.7%\n",
      "  linear       16.2%\n",
      "  log           9.3%\n",
      "  constant      7.6%\n",
      "  exp           5.0%\n",
      "  factorial     0.0%\n"
     ]
    },
    {
     "data": {
      "image/png": "[encoded data removed]",
      "text/plain": [
       "<Figure size 864x288 with 1 Axes>"
      ]
     },
     "metadata": {
      "needs_background": "light"
     },
     "output_type": "display_data"
    }
   ],
   "source": [
    "# Solution goes here\n",
    "def linear_time(n):\n",
    "    total = 0\n",
    "    for i in range(n):\n",
    "        total += i\n",
    "    return total\n",
    "\n",
    "#time_complexity(linear_time, ns=range(5, 100, 5), number=20, reps=15)\n",
    "\n",
    "def quadratic_time(n):\n",
    "    total = 0\n",
    "    for i in range(n):\n",
    "        for j in range(n):\n",
    "            total += i\n",
    "    return total\n",
    "\n",
    "time_complexity(quadratic_time, ns=range(5, 100, 5), number=20, reps=15)\n",
    "\n",
    "def cubic_time(n):\n",
    "    total = 0\n",
    "    for i in range(n):\n",
    "        for j in range(n):\n",
    "            for k in range(n):\n",
    "                total += i\n",
    "    return total\n",
    "\n",
    "#time_complexity(cubic_time, ns=range(5, 100, 5), number=20, reps=15)"
   ]
  },
  {
   "cell_type": "code",
   "execution_count": 15,
   "metadata": {},
   "outputs": [
    {
     "name": "stderr",
     "output_type": "stream",
     "text": [
      "C:\\Users\\karli\\Anaconda3\\lib\\site-packages\\scipy\\optimize\\optimize.py:1934: RuntimeWarning: overflow encountered in double_scalars\n",
      "  tmp2 = (x - v) * (fx - fw)\n",
      "C:\\Users\\karli\\Anaconda3\\lib\\site-packages\\scipy\\optimize\\optimize.py:1933: RuntimeWarning: overflow encountered in double_scalars\n",
      "  tmp1 = (x - w) * (fx - fv)\n",
      "C:\\Users\\karli\\Anaconda3\\lib\\site-packages\\scipy\\optimize\\optimize.py:1936: RuntimeWarning: overflow encountered in double_scalars\n",
      "  tmp2 = 2.0 * (tmp2 - tmp1)\n",
      "C:\\Users\\karli\\Anaconda3\\lib\\site-packages\\scipy\\optimize\\optimize.py:1944: RuntimeWarning: overflow encountered in double_scalars\n",
      "  (numpy.abs(p) < numpy.abs(0.5 * tmp2 * dx_temp))):\n"
     ]
    },
    {
     "data": {
      "text/html": [
       " \n",
       "        <div class=\"alert alert-box alert-success\">\n",
       "        <h1> <font color=\"green\"> ✓ Correct </font> </h1>\n",
       "        </div>\n",
       "        "
      ],
      "text/plain": [
       "<IPython.core.display.HTML object>"
      ]
     },
     "metadata": {},
     "output_type": "display_data"
    },
    {
     "data": {
      "text/html": [
       "\n",
       "        <div class=\"alert alert-box alert-success\">                        \n",
       "        <hr style=\"height:10px;border:none;color:#f00;background-color:#f00;\" /><h1> <font color=\"red\"> ✘ Problem: test failed  </font> </h1>        \n",
       "        </div>\n",
       "        "
      ],
      "text/plain": [
       "<IPython.core.display.HTML object>"
      ]
     },
     "metadata": {},
     "output_type": "display_data"
    },
    {
     "ename": "AssertionError",
     "evalue": "",
     "output_type": "error",
     "traceback": [
      "\u001b[1;31m---------------------------------------------------------------------------\u001b[0m",
      "\u001b[1;31mAssertionError\u001b[0m                            Traceback (most recent call last)",
      "\u001b[1;32m<ipython-input-15-44b8e76eaa17>\u001b[0m in \u001b[0;36m<module>\u001b[1;34m\u001b[0m\n\u001b[0;32m      6\u001b[0m \u001b[1;32mwith\u001b[0m \u001b[0mtick\u001b[0m\u001b[1;33m(\u001b[0m\u001b[1;33m)\u001b[0m\u001b[1;33m:\u001b[0m\u001b[1;33m\u001b[0m\u001b[1;33m\u001b[0m\u001b[0m\n\u001b[0;32m      7\u001b[0m     \u001b[0m_\u001b[0m\u001b[1;33m,\u001b[0m \u001b[0m_\u001b[0m\u001b[1;33m,\u001b[0m \u001b[0mscores\u001b[0m \u001b[1;33m=\u001b[0m \u001b[0mtime_complexity\u001b[0m\u001b[1;33m(\u001b[0m\u001b[0mquadratic_time\u001b[0m\u001b[1;33m,\u001b[0m \u001b[0mns\u001b[0m\u001b[1;33m=\u001b[0m\u001b[0mrange\u001b[0m\u001b[1;33m(\u001b[0m\u001b[1;36m5\u001b[0m\u001b[1;33m,\u001b[0m \u001b[1;36m100\u001b[0m\u001b[1;33m,\u001b[0m \u001b[1;36m3\u001b[0m\u001b[1;33m)\u001b[0m\u001b[1;33m,\u001b[0m \u001b[0mnumber\u001b[0m\u001b[1;33m=\u001b[0m\u001b[1;36m5\u001b[0m\u001b[1;33m,\u001b[0m \u001b[0mplot\u001b[0m\u001b[1;33m=\u001b[0m\u001b[1;32mFalse\u001b[0m\u001b[1;33m,\u001b[0m \u001b[0mreps\u001b[0m\u001b[1;33m=\u001b[0m\u001b[1;36m40\u001b[0m\u001b[1;33m)\u001b[0m\u001b[1;33m;\u001b[0m\u001b[1;33m\u001b[0m\u001b[1;33m\u001b[0m\u001b[0m\n\u001b[1;32m----> 8\u001b[1;33m     \u001b[1;32massert\u001b[0m \u001b[0mscores\u001b[0m\u001b[1;33m[\u001b[0m\u001b[1;34m\"quadratic\"\u001b[0m\u001b[1;33m]\u001b[0m\u001b[1;33m>\u001b[0m\u001b[1;36m0.5\u001b[0m\u001b[1;33m\u001b[0m\u001b[1;33m\u001b[0m\u001b[0m\n\u001b[0m\u001b[0;32m      9\u001b[0m \u001b[1;33m\u001b[0m\u001b[0m\n\u001b[0;32m     10\u001b[0m \u001b[1;32mwith\u001b[0m \u001b[0mtick\u001b[0m\u001b[1;33m(\u001b[0m\u001b[1;33m)\u001b[0m\u001b[1;33m:\u001b[0m\u001b[1;33m\u001b[0m\u001b[1;33m\u001b[0m\u001b[0m\n",
      "\u001b[1;31mAssertionError\u001b[0m: "
     ]
    }
   ],
   "source": [
    "## Tests\n",
    "with tick():\n",
    "    _, _, scores = time_complexity(linear_time, ns=range(5, 100, 3), number=5, plot=False, reps=40);\n",
    "    assert scores[\"linear\"]>0.2 \n",
    "\n",
    "with tick():\n",
    "    _, _, scores = time_complexity(quadratic_time, ns=range(5, 100, 3), number=5, plot=False, reps=40);\n",
    "    assert scores[\"quadratic\"]>0.5\n",
    "\n",
    "with tick():    \n",
    "    _, _, scores = time_complexity(cubic_time, ns=range(5, 100, 3), number=5, plot=False, reps=40);\n",
    "    assert scores[\"cubic\"]>0.5\n",
    "\n"
   ]
  },
  {
   "cell_type": "markdown",
   "metadata": {},
   "source": [
    "## A.2B (OPTIONAL EXTENSION) \n",
    "\n",
    "Write a function that runs in O(N log N) time, and plot the time complexity graph. (hint: how long does `x.sorted()` take for a list of `n` *random* items x?)"
   ]
  },
  {
   "cell_type": "code",
   "execution_count": 24,
   "metadata": {},
   "outputs": [
    {
     "name": "stdout",
     "output_type": "stream",
     "text": [
      "\n",
      "Scores for nlog_time\n",
      "  nlogn        32.0%\n",
      "  quadratic    26.2%\n",
      "  linear       17.7%\n",
      "  cubic        10.5%\n",
      "  log           6.2%\n",
      "  constant      4.6%\n",
      "  exp           2.7%\n",
      "  factorial     0.0%\n"
     ]
    },
    {
     "data": {
      "text/plain": [
       "(array([ 5, 10, 15, 20, 25, 30, 35, 40, 45, 50, 55, 60, 65, 70, 75, 80, 85,\n",
       "        90, 95]),\n",
       " array([ 0.90556025,  1.7199877 ,  2.56959932,  3.50534492,  4.50472968,\n",
       "         5.51699608,  6.62847035,  7.93739906,  9.3557256 , 10.64946551,\n",
       "        12.37464431, 14.24036761, 16.36237791, 18.28520341, 20.35395678,\n",
       "        23.71683458, 25.16919172, 27.57132969, 30.67426747]),\n",
       " {'nlogn': 0.32007297897979486,\n",
       "  'quadratic': 0.2620782707799888,\n",
       "  'linear': 0.1772183894291537,\n",
       "  'cubic': 0.10498585631934157,\n",
       "  'log': 0.06210376737519738,\n",
       "  'constant': 0.04647053093143416,\n",
       "  'exp': 0.027070206185089478,\n",
       "  'factorial': 2.5558693912064834e-134})"
      ]
     },
     "execution_count": 24,
     "metadata": {},
     "output_type": "execute_result"
    },
    {
     "data": {
      "image/png": "[encoded data removed]",
      "text/plain": [
       "<Figure size 864x288 with 1 Axes>"
      ]
     },
     "metadata": {
      "needs_background": "light"
     },
     "output_type": "display_data"
    }
   ],
   "source": [
    "# Solution goes here\n",
    "import random\n",
    "def nlog_time(n):\n",
    "    x = []\n",
    "    for i in range(n):\n",
    "        temp = random.randint(0,500)\n",
    "        x.append(temp)\n",
    "        sorted(x)\n",
    "    return x\n",
    "\n",
    "time_complexity(nlog_time, ns=range(5, 100, 5), number=20, reps=15)"
   ]
  },
  {
   "cell_type": "markdown",
   "metadata": {},
   "source": [
    "# A.3 Visualise recursion with logging\n",
    "\n",
    "Many people find it hard to visualise what is going on in recursion. Use the *principles of logging* to add `print` statements that make a trace of what happens when the recursive function below is called. \n",
    "\n",
    "Try and print out the results nicely; you might want to add additional parameters to the function to make logging nicer.\n"
   ]
  },
  {
   "cell_type": "code",
   "execution_count": 25,
   "metadata": {},
   "outputs": [
    {
     "data": {
      "text/plain": [
       "[['a', 'b', 'c'],\n",
       " ['a', 'c', 'b'],\n",
       " ['b', 'a', 'c'],\n",
       " ['b', 'c', 'a'],\n",
       " ['c', 'a', 'b'],\n",
       " ['c', 'b', 'a']]"
      ]
     },
     "execution_count": 25,
     "metadata": {},
     "output_type": "execute_result"
    }
   ],
   "source": [
    "## This function returns the ordered permutations of a sequence\n",
    "\n",
    "def permutations(l, perm=[]):\n",
    "    if len(l) == 0:\n",
    "        return [perm]\n",
    "    \n",
    "    results = []\n",
    "    for i in range(len(l)):        \n",
    "        results += permutations(l[:i] + l[i+1:], perm + [l[i]])\n",
    "    return results\n",
    "\n",
    "permutations(\"abc\")"
   ]
  },
  {
   "cell_type": "code",
   "execution_count": 29,
   "metadata": {},
   "outputs": [
    {
     "name": "stdout",
     "output_type": "stream",
     "text": [
      "Arguments:\n",
      "string: abc\n",
      "permutation: []\n",
      "   |Arguments:\n",
      "   |string: bc\n",
      "   |permutation: ['a']\n",
      "   |   |Arguments:\n",
      "   |   |string: c\n",
      "   |   |permutation: ['a', 'b']\n",
      "   |   |   |Arguments:\n",
      "   |   |   |string: \n",
      "   |   |   |permutation: ['a', 'b', 'c']\n",
      "   |   |   |Base case achieved\n",
      "   |   |Resulting permutation: [['a', 'b', 'c']]\n",
      "   |   |Arguments:\n",
      "   |   |string: b\n",
      "   |   |permutation: ['a', 'c']\n",
      "   |   |   |Arguments:\n",
      "   |   |   |string: \n",
      "   |   |   |permutation: ['a', 'c', 'b']\n",
      "   |   |   |Base case achieved\n",
      "   |   |Resulting permutation: [['a', 'c', 'b']]\n",
      "   |Resulting permutation: [['a', 'b', 'c'], ['a', 'c', 'b']]\n",
      "   |Arguments:\n",
      "   |string: ac\n",
      "   |permutation: ['b']\n",
      "   |   |Arguments:\n",
      "   |   |string: c\n",
      "   |   |permutation: ['b', 'a']\n",
      "   |   |   |Arguments:\n",
      "   |   |   |string: \n",
      "   |   |   |permutation: ['b', 'a', 'c']\n",
      "   |   |   |Base case achieved\n",
      "   |   |Resulting permutation: [['b', 'a', 'c']]\n",
      "   |   |Arguments:\n",
      "   |   |string: a\n",
      "   |   |permutation: ['b', 'c']\n",
      "   |   |   |Arguments:\n",
      "   |   |   |string: \n",
      "   |   |   |permutation: ['b', 'c', 'a']\n",
      "   |   |   |Base case achieved\n",
      "   |   |Resulting permutation: [['b', 'c', 'a']]\n",
      "   |Resulting permutation: [['b', 'a', 'c'], ['b', 'c', 'a']]\n",
      "   |Arguments:\n",
      "   |string: ab\n",
      "   |permutation: ['c']\n",
      "   |   |Arguments:\n",
      "   |   |string: b\n",
      "   |   |permutation: ['c', 'a']\n",
      "   |   |   |Arguments:\n",
      "   |   |   |string: \n",
      "   |   |   |permutation: ['c', 'a', 'b']\n",
      "   |   |   |Base case achieved\n",
      "   |   |Resulting permutation: [['c', 'a', 'b']]\n",
      "   |   |Arguments:\n",
      "   |   |string: a\n",
      "   |   |permutation: ['c', 'b']\n",
      "   |   |   |Arguments:\n",
      "   |   |   |string: \n",
      "   |   |   |permutation: ['c', 'b', 'a']\n",
      "   |   |   |Base case achieved\n",
      "   |   |Resulting permutation: [['c', 'b', 'a']]\n",
      "   |Resulting permutation: [['c', 'a', 'b'], ['c', 'b', 'a']]\n",
      "Resulting permutation: [['a', 'b', 'c'], ['a', 'c', 'b'], ['b', 'a', 'c'], ['b', 'c', 'a'], ['c', 'a', 'b'], ['c', 'b', 'a']]\n"
     ]
    },
    {
     "data": {
      "text/plain": [
       "[['a', 'b', 'c'],\n",
       " ['a', 'c', 'b'],\n",
       " ['b', 'a', 'c'],\n",
       " ['b', 'c', 'a'],\n",
       " ['c', 'a', 'b'],\n",
       " ['c', 'b', 'a']]"
      ]
     },
     "execution_count": 29,
     "metadata": {},
     "output_type": "execute_result"
    }
   ],
   "source": [
    "# Solution goes here\n",
    "def permutations(l, perm=[], index=0):\n",
    "    indent = \"   |\"\n",
    "    print(indent*index + \"Arguments:\")\n",
    "    print(indent*index + \"string:\", l)\n",
    "    print(indent*index + \"permutation:\", perm)\n",
    "    \n",
    "    if len(l) == 0:\n",
    "        print(indent*index + \"Base case achieved\")\n",
    "        return [perm]\n",
    "    \n",
    "    results = []\n",
    "    for i in range(len(l)):        \n",
    "        results += permutations(l[:i] + l[i+1:], perm + [l[i]], index+1)\n",
    "    print(indent*index + \"Resulting permutation:\", results)\n",
    "    return results\n",
    "\n",
    "permutations(\"abc\")"
   ]
  },
  {
   "cell_type": "markdown",
   "metadata": {},
   "source": [
    "## A.4 Test driven development\n",
    "\n",
    "\n",
    "<img src=\"imgs/palette.jpg\" width=\"100%\">\n",
    "*Image: \"DSC_8226\" by huguet92 is licensed under CC BY-NC-ND 2.0* \n",
    "\n",
    "The code below is supposed to do something with colours. The `hexify_colour` function doesn't work and you don't know exactly what the code is supposed to do. It was written by a junior developer and has a lot of issues, even though it looks basically correct.  \n",
    "\n",
    "But you do have tests which check what the results *should* be. Using these tests:\n",
    "\n",
    "* work out what the code should be doing\n",
    "* fix it so it does the right thing\n"
   ]
  },
  {
   "cell_type": "code",
   "execution_count": 30,
   "metadata": {},
   "outputs": [],
   "source": [
    "def hexify_color(r,g=None,b=None):        \n",
    "    r_int = int(r*255)\n",
    "    g_int = int(g*255)\n",
    "    b_int = int(b*255)    \n",
    "    s = \"#{r:03x}{b:02x}{g:02x}\".format(r=r_int, g=g_int, b=b_int)    \n",
    "    print(s)    "
   ]
  },
  {
   "cell_type": "code",
   "execution_count": 64,
   "metadata": {},
   "outputs": [
    {
     "data": {
      "text/html": [
       " \n",
       "        <div class=\"alert alert-box alert-success\">\n",
       "        <h1> <font color=\"green\"> ✓ Correct </font> </h1>\n",
       "        </div>\n",
       "        "
      ],
      "text/plain": [
       "<IPython.core.display.HTML object>"
      ]
     },
     "metadata": {},
     "output_type": "display_data"
    }
   ],
   "source": [
    "## Tests\n",
    "with tick():\n",
    "    assert hexify_color(0.0, 0.0, 0.0) == '#000000'\n",
    "    assert hexify_color(0.5, 0.5, 0.5) == '#7f7f7f'\n",
    "    assert hexify_color(1.0, 1.0, 1.0) == '#ffffff'\n",
    "    assert hexify_color(1.0, 0.0, 0.0) == '#ff0000'\n",
    "    assert hexify_color(0.0, 1.0, 0.0) == '#00ff00'\n",
    "    assert hexify_color(0.0, 0.0, 1.0) == '#0000ff'\n",
    "    assert hexify_color(1.0) == '#ffffff'\n",
    "    assert hexify_color(0.0) == '#000000'\n",
    "    assert hexify_color(-1.0, 0.0, 1.0) == '#0000ff'\n",
    "    assert hexify_color(-1.0, 0.0, 10.0) == '#0000ff'\n",
    "    assert hexify_color(10.0, 10.0, 10.0) == '#ffffff'\n",
    "\n",
    "    assert hexify_color(-1.0) == '#000000'\n",
    "    assert hexify_color(0.5) == '#7f7f7f'\n",
    "\n",
    "    should_fail(hexify_color, 0.5, 0.5)\n",
    "    should_fail(hexify_color, 0.5, 0.5)"
   ]
  },
  {
   "cell_type": "code",
   "execution_count": 65,
   "metadata": {},
   "outputs": [],
   "source": [
    "# Solution goes here\n",
    "def hexify_color(r,g=None,b=None):\n",
    "    assert not (g != None and b == None)\n",
    "    if r < 0:\n",
    "        r_int = 0\n",
    "    elif r > 1:\n",
    "        r_int = 255\n",
    "    else:\n",
    "        r_int = int(r*255)\n",
    "    \n",
    "    if g == None:\n",
    "        g_int = r_int\n",
    "    elif g > 1:\n",
    "        g_int = 255\n",
    "    else:\n",
    "        g_int = int(g*255)\n",
    "    if b == None:\n",
    "        b_int = r_int\n",
    "    elif b > 1:\n",
    "        b_int = 255\n",
    "    else:\n",
    "        b_int = int(b*255)\n",
    "    \n",
    "    s = \"#{r:02x}{g:02x}{b:02x}\".format(r=r_int, g=g_int, b=b_int)    \n",
    "    return s\n"
   ]
  },
  {
   "cell_type": "markdown",
   "metadata": {},
   "source": [
    "## A.4 Basic ipdb\n",
    "\n",
    "\n",
    "The code below is a solution to Lab 3, A.4. Practice tracing through this code using the `ipdb` debugger. You should watch the video tutorial on ipdb (Week 7's video) before attempting this part.\n",
    "\n",
    "Here's a quick reference to `ipdb` commands:\n",
    "\n",
    "\n",
    "### Basic debugger commands\n",
    "\n",
    "The `ipdb` debugger can either take single letter commands or the full text. \n",
    "\n",
    "* `s` **step** execute the next line, and *enter* any function that is called\n",
    "* `n` **next** execute the next line, and *skip* over any function that is called\n",
    "* `c` **continue** resume running until the next breakpoint is hit\n",
    "* **return** continue until the end of the current function\n",
    "* `r` **run** restart the program\n",
    "* `l` **list** print out the code corresponding to the current execution point\n",
    "* `u`/`d` **up/down** in the call stack\n",
    "* `p` **print** print out a value (e.g. `p my_list` to print out the current value of `my_list`)\n",
    "* `a` **args** print out the arguments that were used in the call to the current function\n",
    "* `q` **quit** **YOU MUST QUIT THE DEBUGGER BEFORE ANY OTHER CODE WILL RUN!**\n",
    "* `b` **breakpoint** <line_number> set a new breakpoint on the given line number (e.g. `b 20`)\n",
    "\n",
    "\n",
    "You can pre-insert **breakpoints** where the debugger will stop and wait for input by writing `set_trace()` in the code.\n",
    "\n",
    "\n",
    "---\n",
    "\n",
    "### Instructions\n",
    "\n",
    "1. Before you start: Click on the cell, and press `ESC-L` to enable line numbers\n",
    "\n",
    "1. Add a breakpoint using `set_trace()` at the very start of `all_rotates`\n",
    "1. Run the cell; `ipdb` will start.\n",
    "1. You can use `help` at any time to get a list of commands inside the debugger\n",
    "1. Print out the argument to `all_rotates`\n",
    "1. Use `list` to see where you are in the code\n",
    "1. Step into the for loop\n",
    "1. Step *into* `rotate()` in the first iteration\n",
    "1. Use `up` to see where the call to `rotate` came from\n",
    "1. Use `down` to go back into `rotate`\n",
    "1. Then, in the next iteration, skip over the call to rotate (hint: use `next`)\n",
    "1. Then, set a breakpoint *in the debugger* at the second `for` loop\n",
    "1. Continue to that breakpoint\n",
    "1. Check the value of `rotates` is what you expect\n",
    "1. Continue execution to the end of the cell\n",
    "1. **Quit the debugger** using `quit`\n"
   ]
  },
  {
   "cell_type": "code",
   "execution_count": 66,
   "metadata": {},
   "outputs": [
    {
     "name": "stdout",
     "output_type": "stream",
     "text": [
      "> \u001b[1;32m<ipython-input-66-4432e27b8270>\u001b[0m(7)\u001b[0;36mall_rotates\u001b[1;34m()\u001b[0m\n",
      "\u001b[1;32m      5 \u001b[1;33m\u001b[1;32mdef\u001b[0m \u001b[0mall_rotates\u001b[0m\u001b[1;33m(\u001b[0m\u001b[0ms\u001b[0m\u001b[1;33m)\u001b[0m\u001b[1;33m:\u001b[0m\u001b[1;33m\u001b[0m\u001b[1;33m\u001b[0m\u001b[0m\n",
      "\u001b[0m\u001b[1;32m      6 \u001b[1;33m    \u001b[0mset_trace\u001b[0m\u001b[1;33m(\u001b[0m\u001b[1;33m)\u001b[0m\u001b[1;33m\u001b[0m\u001b[1;33m\u001b[0m\u001b[0m\n",
      "\u001b[0m\u001b[1;32m----> 7 \u001b[1;33m    \u001b[0mrotates\u001b[0m \u001b[1;33m=\u001b[0m \u001b[1;33m[\u001b[0m\u001b[1;33m]\u001b[0m\u001b[1;33m\u001b[0m\u001b[1;33m\u001b[0m\u001b[0m\n",
      "\u001b[0m\u001b[1;32m      8 \u001b[1;33m    \u001b[1;32mfor\u001b[0m \u001b[0mi\u001b[0m \u001b[1;32min\u001b[0m \u001b[0mrange\u001b[0m\u001b[1;33m(\u001b[0m\u001b[0mlen\u001b[0m\u001b[1;33m(\u001b[0m\u001b[0ms\u001b[0m\u001b[1;33m)\u001b[0m\u001b[1;33m)\u001b[0m\u001b[1;33m:\u001b[0m\u001b[1;33m\u001b[0m\u001b[1;33m\u001b[0m\u001b[0m\n",
      "\u001b[0m\u001b[1;32m      9 \u001b[1;33m        \u001b[0mrotates\u001b[0m\u001b[1;33m.\u001b[0m\u001b[0mappend\u001b[0m\u001b[1;33m(\u001b[0m\u001b[0ms\u001b[0m\u001b[1;33m)\u001b[0m\u001b[1;33m\u001b[0m\u001b[1;33m\u001b[0m\u001b[0m\n",
      "\u001b[0m\n",
      "ipdb> p s\n",
      "'steel'\n",
      "ipdb> list\n",
      "\u001b[0;32m      2 \u001b[0m    \u001b[0mrotated\u001b[0m \u001b[1;33m=\u001b[0m \u001b[0ms\u001b[0m\u001b[1;33m[\u001b[0m\u001b[1;36m1\u001b[0m\u001b[1;33m:\u001b[0m\u001b[1;33m]\u001b[0m \u001b[1;33m+\u001b[0m \u001b[0ms\u001b[0m\u001b[1;33m[\u001b[0m\u001b[1;36m0\u001b[0m\u001b[1;33m]\u001b[0m\u001b[1;33m\u001b[0m\u001b[1;33m\u001b[0m\u001b[0m\n",
      "\u001b[0;32m      3 \u001b[0m    \u001b[1;32mreturn\u001b[0m \u001b[0mrotated\u001b[0m\u001b[1;33m\u001b[0m\u001b[1;33m\u001b[0m\u001b[0m\n",
      "\u001b[0;32m      4 \u001b[0m\u001b[1;33m\u001b[0m\u001b[0m\n",
      "\u001b[0;32m      5 \u001b[0m\u001b[1;32mdef\u001b[0m \u001b[0mall_rotates\u001b[0m\u001b[1;33m(\u001b[0m\u001b[0ms\u001b[0m\u001b[1;33m)\u001b[0m\u001b[1;33m:\u001b[0m\u001b[1;33m\u001b[0m\u001b[1;33m\u001b[0m\u001b[0m\n",
      "\u001b[0;32m      6 \u001b[0m    \u001b[0mset_trace\u001b[0m\u001b[1;33m(\u001b[0m\u001b[1;33m)\u001b[0m\u001b[1;33m\u001b[0m\u001b[1;33m\u001b[0m\u001b[0m\n",
      "\u001b[1;32m----> 7 \u001b[1;33m    \u001b[0mrotates\u001b[0m \u001b[1;33m=\u001b[0m \u001b[1;33m[\u001b[0m\u001b[1;33m]\u001b[0m\u001b[1;33m\u001b[0m\u001b[1;33m\u001b[0m\u001b[0m\n",
      "\u001b[0m\u001b[0;32m      8 \u001b[0m    \u001b[1;32mfor\u001b[0m \u001b[0mi\u001b[0m \u001b[1;32min\u001b[0m \u001b[0mrange\u001b[0m\u001b[1;33m(\u001b[0m\u001b[0mlen\u001b[0m\u001b[1;33m(\u001b[0m\u001b[0ms\u001b[0m\u001b[1;33m)\u001b[0m\u001b[1;33m)\u001b[0m\u001b[1;33m:\u001b[0m\u001b[1;33m\u001b[0m\u001b[1;33m\u001b[0m\u001b[0m\n",
      "\u001b[0;32m      9 \u001b[0m        \u001b[0mrotates\u001b[0m\u001b[1;33m.\u001b[0m\u001b[0mappend\u001b[0m\u001b[1;33m(\u001b[0m\u001b[0ms\u001b[0m\u001b[1;33m)\u001b[0m\u001b[1;33m\u001b[0m\u001b[1;33m\u001b[0m\u001b[0m\n",
      "\u001b[0;32m     10 \u001b[0m        \u001b[0ms\u001b[0m \u001b[1;33m=\u001b[0m \u001b[0mrotate\u001b[0m\u001b[1;33m(\u001b[0m\u001b[0ms\u001b[0m\u001b[1;33m)\u001b[0m\u001b[1;33m\u001b[0m\u001b[1;33m\u001b[0m\u001b[0m\n",
      "\u001b[0;32m     11 \u001b[0m\u001b[1;33m\u001b[0m\u001b[0m\n",
      "\u001b[0;32m     12 \u001b[0m    \u001b[1;32mfor\u001b[0m \u001b[0mrotated\u001b[0m \u001b[1;32min\u001b[0m \u001b[0mrotates\u001b[0m\u001b[1;33m:\u001b[0m\u001b[1;33m\u001b[0m\u001b[1;33m\u001b[0m\u001b[0m\n",
      "\n",
      "ipdb> q\n"
     ]
    },
    {
     "ename": "BdbQuit",
     "evalue": "",
     "output_type": "error",
     "traceback": [
      "\u001b[1;31m---------------------------------------------------------------------------\u001b[0m",
      "\u001b[1;31mBdbQuit\u001b[0m                                   Traceback (most recent call last)",
      "\u001b[1;32m<ipython-input-66-4432e27b8270>\u001b[0m in \u001b[0;36m<module>\u001b[1;34m\u001b[0m\n\u001b[0;32m     14\u001b[0m \u001b[1;33m\u001b[0m\u001b[0m\n\u001b[0;32m     15\u001b[0m \u001b[1;33m\u001b[0m\u001b[0m\n\u001b[1;32m---> 16\u001b[1;33m \u001b[0mall_rotates\u001b[0m\u001b[1;33m(\u001b[0m\u001b[1;34m\"steel\"\u001b[0m\u001b[1;33m)\u001b[0m\u001b[1;33m\u001b[0m\u001b[1;33m\u001b[0m\u001b[0m\n\u001b[0m",
      "\u001b[1;32m<ipython-input-66-4432e27b8270>\u001b[0m in \u001b[0;36mall_rotates\u001b[1;34m(s)\u001b[0m\n\u001b[0;32m      5\u001b[0m \u001b[1;32mdef\u001b[0m \u001b[0mall_rotates\u001b[0m\u001b[1;33m(\u001b[0m\u001b[0ms\u001b[0m\u001b[1;33m)\u001b[0m\u001b[1;33m:\u001b[0m\u001b[1;33m\u001b[0m\u001b[1;33m\u001b[0m\u001b[0m\n\u001b[0;32m      6\u001b[0m     \u001b[0mset_trace\u001b[0m\u001b[1;33m(\u001b[0m\u001b[1;33m)\u001b[0m\u001b[1;33m\u001b[0m\u001b[1;33m\u001b[0m\u001b[0m\n\u001b[1;32m----> 7\u001b[1;33m     \u001b[0mrotates\u001b[0m \u001b[1;33m=\u001b[0m \u001b[1;33m[\u001b[0m\u001b[1;33m]\u001b[0m\u001b[1;33m\u001b[0m\u001b[1;33m\u001b[0m\u001b[0m\n\u001b[0m\u001b[0;32m      8\u001b[0m     \u001b[1;32mfor\u001b[0m \u001b[0mi\u001b[0m \u001b[1;32min\u001b[0m \u001b[0mrange\u001b[0m\u001b[1;33m(\u001b[0m\u001b[0mlen\u001b[0m\u001b[1;33m(\u001b[0m\u001b[0ms\u001b[0m\u001b[1;33m)\u001b[0m\u001b[1;33m)\u001b[0m\u001b[1;33m:\u001b[0m\u001b[1;33m\u001b[0m\u001b[1;33m\u001b[0m\u001b[0m\n\u001b[0;32m      9\u001b[0m         \u001b[0mrotates\u001b[0m\u001b[1;33m.\u001b[0m\u001b[0mappend\u001b[0m\u001b[1;33m(\u001b[0m\u001b[0ms\u001b[0m\u001b[1;33m)\u001b[0m\u001b[1;33m\u001b[0m\u001b[1;33m\u001b[0m\u001b[0m\n",
      "\u001b[1;32m<ipython-input-66-4432e27b8270>\u001b[0m in \u001b[0;36mall_rotates\u001b[1;34m(s)\u001b[0m\n\u001b[0;32m      5\u001b[0m \u001b[1;32mdef\u001b[0m \u001b[0mall_rotates\u001b[0m\u001b[1;33m(\u001b[0m\u001b[0ms\u001b[0m\u001b[1;33m)\u001b[0m\u001b[1;33m:\u001b[0m\u001b[1;33m\u001b[0m\u001b[1;33m\u001b[0m\u001b[0m\n\u001b[0;32m      6\u001b[0m     \u001b[0mset_trace\u001b[0m\u001b[1;33m(\u001b[0m\u001b[1;33m)\u001b[0m\u001b[1;33m\u001b[0m\u001b[1;33m\u001b[0m\u001b[0m\n\u001b[1;32m----> 7\u001b[1;33m     \u001b[0mrotates\u001b[0m \u001b[1;33m=\u001b[0m \u001b[1;33m[\u001b[0m\u001b[1;33m]\u001b[0m\u001b[1;33m\u001b[0m\u001b[1;33m\u001b[0m\u001b[0m\n\u001b[0m\u001b[0;32m      8\u001b[0m     \u001b[1;32mfor\u001b[0m \u001b[0mi\u001b[0m \u001b[1;32min\u001b[0m \u001b[0mrange\u001b[0m\u001b[1;33m(\u001b[0m\u001b[0mlen\u001b[0m\u001b[1;33m(\u001b[0m\u001b[0ms\u001b[0m\u001b[1;33m)\u001b[0m\u001b[1;33m)\u001b[0m\u001b[1;33m:\u001b[0m\u001b[1;33m\u001b[0m\u001b[1;33m\u001b[0m\u001b[0m\n\u001b[0;32m      9\u001b[0m         \u001b[0mrotates\u001b[0m\u001b[1;33m.\u001b[0m\u001b[0mappend\u001b[0m\u001b[1;33m(\u001b[0m\u001b[0ms\u001b[0m\u001b[1;33m)\u001b[0m\u001b[1;33m\u001b[0m\u001b[1;33m\u001b[0m\u001b[0m\n",
      "\u001b[1;32m~\\Anaconda3\\lib\\bdb.py\u001b[0m in \u001b[0;36mtrace_dispatch\u001b[1;34m(self, frame, event, arg)\u001b[0m\n\u001b[0;32m     86\u001b[0m             \u001b[1;32mreturn\u001b[0m \u001b[1;31m# None\u001b[0m\u001b[1;33m\u001b[0m\u001b[1;33m\u001b[0m\u001b[0m\n\u001b[0;32m     87\u001b[0m         \u001b[1;32mif\u001b[0m \u001b[0mevent\u001b[0m \u001b[1;33m==\u001b[0m \u001b[1;34m'line'\u001b[0m\u001b[1;33m:\u001b[0m\u001b[1;33m\u001b[0m\u001b[1;33m\u001b[0m\u001b[0m\n\u001b[1;32m---> 88\u001b[1;33m             \u001b[1;32mreturn\u001b[0m \u001b[0mself\u001b[0m\u001b[1;33m.\u001b[0m\u001b[0mdispatch_line\u001b[0m\u001b[1;33m(\u001b[0m\u001b[0mframe\u001b[0m\u001b[1;33m)\u001b[0m\u001b[1;33m\u001b[0m\u001b[1;33m\u001b[0m\u001b[0m\n\u001b[0m\u001b[0;32m     89\u001b[0m         \u001b[1;32mif\u001b[0m \u001b[0mevent\u001b[0m \u001b[1;33m==\u001b[0m \u001b[1;34m'call'\u001b[0m\u001b[1;33m:\u001b[0m\u001b[1;33m\u001b[0m\u001b[1;33m\u001b[0m\u001b[0m\n\u001b[0;32m     90\u001b[0m             \u001b[1;32mreturn\u001b[0m \u001b[0mself\u001b[0m\u001b[1;33m.\u001b[0m\u001b[0mdispatch_call\u001b[0m\u001b[1;33m(\u001b[0m\u001b[0mframe\u001b[0m\u001b[1;33m,\u001b[0m \u001b[0marg\u001b[0m\u001b[1;33m)\u001b[0m\u001b[1;33m\u001b[0m\u001b[1;33m\u001b[0m\u001b[0m\n",
      "\u001b[1;32m~\\Anaconda3\\lib\\bdb.py\u001b[0m in \u001b[0;36mdispatch_line\u001b[1;34m(self, frame)\u001b[0m\n\u001b[0;32m    111\u001b[0m         \u001b[1;32mif\u001b[0m \u001b[0mself\u001b[0m\u001b[1;33m.\u001b[0m\u001b[0mstop_here\u001b[0m\u001b[1;33m(\u001b[0m\u001b[0mframe\u001b[0m\u001b[1;33m)\u001b[0m \u001b[1;32mor\u001b[0m \u001b[0mself\u001b[0m\u001b[1;33m.\u001b[0m\u001b[0mbreak_here\u001b[0m\u001b[1;33m(\u001b[0m\u001b[0mframe\u001b[0m\u001b[1;33m)\u001b[0m\u001b[1;33m:\u001b[0m\u001b[1;33m\u001b[0m\u001b[1;33m\u001b[0m\u001b[0m\n\u001b[0;32m    112\u001b[0m             \u001b[0mself\u001b[0m\u001b[1;33m.\u001b[0m\u001b[0muser_line\u001b[0m\u001b[1;33m(\u001b[0m\u001b[0mframe\u001b[0m\u001b[1;33m)\u001b[0m\u001b[1;33m\u001b[0m\u001b[1;33m\u001b[0m\u001b[0m\n\u001b[1;32m--> 113\u001b[1;33m             \u001b[1;32mif\u001b[0m \u001b[0mself\u001b[0m\u001b[1;33m.\u001b[0m\u001b[0mquitting\u001b[0m\u001b[1;33m:\u001b[0m \u001b[1;32mraise\u001b[0m \u001b[0mBdbQuit\u001b[0m\u001b[1;33m\u001b[0m\u001b[1;33m\u001b[0m\u001b[0m\n\u001b[0m\u001b[0;32m    114\u001b[0m         \u001b[1;32mreturn\u001b[0m \u001b[0mself\u001b[0m\u001b[1;33m.\u001b[0m\u001b[0mtrace_dispatch\u001b[0m\u001b[1;33m\u001b[0m\u001b[1;33m\u001b[0m\u001b[0m\n\u001b[0;32m    115\u001b[0m \u001b[1;33m\u001b[0m\u001b[0m\n",
      "\u001b[1;31mBdbQuit\u001b[0m: "
     ]
    }
   ],
   "source": [
    "def rotate(s):\n",
    "    rotated = s[1:] + s[0]\n",
    "    return rotated\n",
    "\n",
    "def all_rotates(s):\n",
    "    rotates = []\n",
    "    for i in range(len(s)):\n",
    "        rotates.append(s)\n",
    "        s = rotate(s)\n",
    "        \n",
    "    for rotated in rotates:\n",
    "        print(rotated)\n",
    "    \n",
    "                  \n",
    "all_rotates(\"steel\")"
   ]
  },
  {
   "cell_type": "code",
   "execution_count": 67,
   "metadata": {
    "lines_to_next_cell": 2
   },
   "outputs": [
    {
     "name": "stdout",
     "output_type": "stream",
     "text": [
      "> \u001b[1;32m<ipython-input-67-83c6cf7217ab>\u001b[0m(8)\u001b[0;36mall_rotates\u001b[1;34m()\u001b[0m\n",
      "\u001b[1;32m      6 \u001b[1;33m\u001b[1;32mdef\u001b[0m \u001b[0mall_rotates\u001b[0m\u001b[1;33m(\u001b[0m\u001b[0ms\u001b[0m\u001b[1;33m)\u001b[0m\u001b[1;33m:\u001b[0m\u001b[1;33m\u001b[0m\u001b[1;33m\u001b[0m\u001b[0m\n",
      "\u001b[0m\u001b[1;32m      7 \u001b[1;33m    \u001b[0mset_trace\u001b[0m\u001b[1;33m(\u001b[0m\u001b[1;33m)\u001b[0m\u001b[1;33m\u001b[0m\u001b[1;33m\u001b[0m\u001b[0m\n",
      "\u001b[0m\u001b[1;32m----> 8 \u001b[1;33m    \u001b[0mrotates\u001b[0m \u001b[1;33m=\u001b[0m \u001b[1;33m[\u001b[0m\u001b[1;33m]\u001b[0m\u001b[1;33m\u001b[0m\u001b[1;33m\u001b[0m\u001b[0m\n",
      "\u001b[0m\u001b[1;32m      9 \u001b[1;33m    \u001b[1;32mfor\u001b[0m \u001b[0mi\u001b[0m \u001b[1;32min\u001b[0m \u001b[0mrange\u001b[0m\u001b[1;33m(\u001b[0m\u001b[0mlen\u001b[0m\u001b[1;33m(\u001b[0m\u001b[0ms\u001b[0m\u001b[1;33m)\u001b[0m\u001b[1;33m)\u001b[0m\u001b[1;33m:\u001b[0m\u001b[1;33m\u001b[0m\u001b[1;33m\u001b[0m\u001b[0m\n",
      "\u001b[0m\u001b[1;32m     10 \u001b[1;33m        \u001b[0mrotates\u001b[0m\u001b[1;33m.\u001b[0m\u001b[0mappend\u001b[0m\u001b[1;33m(\u001b[0m\u001b[0ms\u001b[0m\u001b[1;33m)\u001b[0m\u001b[1;33m\u001b[0m\u001b[1;33m\u001b[0m\u001b[0m\n",
      "\u001b[0m\n",
      "ipdb> p s\n",
      "'steel'\n",
      "ipdb> list\n",
      "\u001b[0;32m      3 \u001b[0m    \u001b[0mrotated\u001b[0m \u001b[1;33m=\u001b[0m \u001b[0ms\u001b[0m\u001b[1;33m[\u001b[0m\u001b[1;36m1\u001b[0m\u001b[1;33m:\u001b[0m\u001b[1;33m]\u001b[0m \u001b[1;33m+\u001b[0m \u001b[0ms\u001b[0m\u001b[1;33m[\u001b[0m\u001b[1;36m0\u001b[0m\u001b[1;33m]\u001b[0m\u001b[1;33m\u001b[0m\u001b[1;33m\u001b[0m\u001b[0m\n",
      "\u001b[0;32m      4 \u001b[0m    \u001b[1;32mreturn\u001b[0m \u001b[0mrotated\u001b[0m\u001b[1;33m\u001b[0m\u001b[1;33m\u001b[0m\u001b[0m\n",
      "\u001b[0;32m      5 \u001b[0m\u001b[1;33m\u001b[0m\u001b[0m\n",
      "\u001b[0;32m      6 \u001b[0m\u001b[1;32mdef\u001b[0m \u001b[0mall_rotates\u001b[0m\u001b[1;33m(\u001b[0m\u001b[0ms\u001b[0m\u001b[1;33m)\u001b[0m\u001b[1;33m:\u001b[0m\u001b[1;33m\u001b[0m\u001b[1;33m\u001b[0m\u001b[0m\n",
      "\u001b[0;32m      7 \u001b[0m    \u001b[0mset_trace\u001b[0m\u001b[1;33m(\u001b[0m\u001b[1;33m)\u001b[0m\u001b[1;33m\u001b[0m\u001b[1;33m\u001b[0m\u001b[0m\n",
      "\u001b[1;32m----> 8 \u001b[1;33m    \u001b[0mrotates\u001b[0m \u001b[1;33m=\u001b[0m \u001b[1;33m[\u001b[0m\u001b[1;33m]\u001b[0m\u001b[1;33m\u001b[0m\u001b[1;33m\u001b[0m\u001b[0m\n",
      "\u001b[0m\u001b[0;32m      9 \u001b[0m    \u001b[1;32mfor\u001b[0m \u001b[0mi\u001b[0m \u001b[1;32min\u001b[0m \u001b[0mrange\u001b[0m\u001b[1;33m(\u001b[0m\u001b[0mlen\u001b[0m\u001b[1;33m(\u001b[0m\u001b[0ms\u001b[0m\u001b[1;33m)\u001b[0m\u001b[1;33m)\u001b[0m\u001b[1;33m:\u001b[0m\u001b[1;33m\u001b[0m\u001b[1;33m\u001b[0m\u001b[0m\n",
      "\u001b[0;32m     10 \u001b[0m        \u001b[0mrotates\u001b[0m\u001b[1;33m.\u001b[0m\u001b[0mappend\u001b[0m\u001b[1;33m(\u001b[0m\u001b[0ms\u001b[0m\u001b[1;33m)\u001b[0m\u001b[1;33m\u001b[0m\u001b[1;33m\u001b[0m\u001b[0m\n",
      "\u001b[0;32m     11 \u001b[0m        \u001b[0ms\u001b[0m \u001b[1;33m=\u001b[0m \u001b[0mrotate\u001b[0m\u001b[1;33m(\u001b[0m\u001b[0ms\u001b[0m\u001b[1;33m)\u001b[0m\u001b[1;33m\u001b[0m\u001b[1;33m\u001b[0m\u001b[0m\n",
      "\u001b[0;32m     12 \u001b[0m\u001b[1;33m\u001b[0m\u001b[0m\n",
      "\u001b[0;32m     13 \u001b[0m    \u001b[1;32mfor\u001b[0m \u001b[0mrotated\u001b[0m \u001b[1;32min\u001b[0m \u001b[0mrotates\u001b[0m\u001b[1;33m:\u001b[0m\u001b[1;33m\u001b[0m\u001b[1;33m\u001b[0m\u001b[0m\n",
      "\n",
      "ipdb> n\n",
      "> \u001b[1;32m<ipython-input-67-83c6cf7217ab>\u001b[0m(9)\u001b[0;36mall_rotates\u001b[1;34m()\u001b[0m\n",
      "\u001b[1;32m      7 \u001b[1;33m    \u001b[0mset_trace\u001b[0m\u001b[1;33m(\u001b[0m\u001b[1;33m)\u001b[0m\u001b[1;33m\u001b[0m\u001b[1;33m\u001b[0m\u001b[0m\n",
      "\u001b[0m\u001b[1;32m      8 \u001b[1;33m    \u001b[0mrotates\u001b[0m \u001b[1;33m=\u001b[0m \u001b[1;33m[\u001b[0m\u001b[1;33m]\u001b[0m\u001b[1;33m\u001b[0m\u001b[1;33m\u001b[0m\u001b[0m\n",
      "\u001b[0m\u001b[1;32m----> 9 \u001b[1;33m    \u001b[1;32mfor\u001b[0m \u001b[0mi\u001b[0m \u001b[1;32min\u001b[0m \u001b[0mrange\u001b[0m\u001b[1;33m(\u001b[0m\u001b[0mlen\u001b[0m\u001b[1;33m(\u001b[0m\u001b[0ms\u001b[0m\u001b[1;33m)\u001b[0m\u001b[1;33m)\u001b[0m\u001b[1;33m:\u001b[0m\u001b[1;33m\u001b[0m\u001b[1;33m\u001b[0m\u001b[0m\n",
      "\u001b[0m\u001b[1;32m     10 \u001b[1;33m        \u001b[0mrotates\u001b[0m\u001b[1;33m.\u001b[0m\u001b[0mappend\u001b[0m\u001b[1;33m(\u001b[0m\u001b[0ms\u001b[0m\u001b[1;33m)\u001b[0m\u001b[1;33m\u001b[0m\u001b[1;33m\u001b[0m\u001b[0m\n",
      "\u001b[0m\u001b[1;32m     11 \u001b[1;33m        \u001b[0ms\u001b[0m \u001b[1;33m=\u001b[0m \u001b[0mrotate\u001b[0m\u001b[1;33m(\u001b[0m\u001b[0ms\u001b[0m\u001b[1;33m)\u001b[0m\u001b[1;33m\u001b[0m\u001b[1;33m\u001b[0m\u001b[0m\n",
      "\u001b[0m\n",
      "ipdb> n\n",
      "> \u001b[1;32m<ipython-input-67-83c6cf7217ab>\u001b[0m(10)\u001b[0;36mall_rotates\u001b[1;34m()\u001b[0m\n",
      "\u001b[1;32m      8 \u001b[1;33m    \u001b[0mrotates\u001b[0m \u001b[1;33m=\u001b[0m \u001b[1;33m[\u001b[0m\u001b[1;33m]\u001b[0m\u001b[1;33m\u001b[0m\u001b[1;33m\u001b[0m\u001b[0m\n",
      "\u001b[0m\u001b[1;32m      9 \u001b[1;33m    \u001b[1;32mfor\u001b[0m \u001b[0mi\u001b[0m \u001b[1;32min\u001b[0m \u001b[0mrange\u001b[0m\u001b[1;33m(\u001b[0m\u001b[0mlen\u001b[0m\u001b[1;33m(\u001b[0m\u001b[0ms\u001b[0m\u001b[1;33m)\u001b[0m\u001b[1;33m)\u001b[0m\u001b[1;33m:\u001b[0m\u001b[1;33m\u001b[0m\u001b[1;33m\u001b[0m\u001b[0m\n",
      "\u001b[0m\u001b[1;32m---> 10 \u001b[1;33m        \u001b[0mrotates\u001b[0m\u001b[1;33m.\u001b[0m\u001b[0mappend\u001b[0m\u001b[1;33m(\u001b[0m\u001b[0ms\u001b[0m\u001b[1;33m)\u001b[0m\u001b[1;33m\u001b[0m\u001b[1;33m\u001b[0m\u001b[0m\n",
      "\u001b[0m\u001b[1;32m     11 \u001b[1;33m        \u001b[0ms\u001b[0m \u001b[1;33m=\u001b[0m \u001b[0mrotate\u001b[0m\u001b[1;33m(\u001b[0m\u001b[0ms\u001b[0m\u001b[1;33m)\u001b[0m\u001b[1;33m\u001b[0m\u001b[1;33m\u001b[0m\u001b[0m\n",
      "\u001b[0m\u001b[1;32m     12 \u001b[1;33m\u001b[1;33m\u001b[0m\u001b[0m\n",
      "\u001b[0m\n",
      "ipdb> n\n",
      "> \u001b[1;32m<ipython-input-67-83c6cf7217ab>\u001b[0m(11)\u001b[0;36mall_rotates\u001b[1;34m()\u001b[0m\n",
      "\u001b[1;32m      9 \u001b[1;33m    \u001b[1;32mfor\u001b[0m \u001b[0mi\u001b[0m \u001b[1;32min\u001b[0m \u001b[0mrange\u001b[0m\u001b[1;33m(\u001b[0m\u001b[0mlen\u001b[0m\u001b[1;33m(\u001b[0m\u001b[0ms\u001b[0m\u001b[1;33m)\u001b[0m\u001b[1;33m)\u001b[0m\u001b[1;33m:\u001b[0m\u001b[1;33m\u001b[0m\u001b[1;33m\u001b[0m\u001b[0m\n",
      "\u001b[0m\u001b[1;32m     10 \u001b[1;33m        \u001b[0mrotates\u001b[0m\u001b[1;33m.\u001b[0m\u001b[0mappend\u001b[0m\u001b[1;33m(\u001b[0m\u001b[0ms\u001b[0m\u001b[1;33m)\u001b[0m\u001b[1;33m\u001b[0m\u001b[1;33m\u001b[0m\u001b[0m\n",
      "\u001b[0m\u001b[1;32m---> 11 \u001b[1;33m        \u001b[0ms\u001b[0m \u001b[1;33m=\u001b[0m \u001b[0mrotate\u001b[0m\u001b[1;33m(\u001b[0m\u001b[0ms\u001b[0m\u001b[1;33m)\u001b[0m\u001b[1;33m\u001b[0m\u001b[1;33m\u001b[0m\u001b[0m\n",
      "\u001b[0m\u001b[1;32m     12 \u001b[1;33m\u001b[1;33m\u001b[0m\u001b[0m\n",
      "\u001b[0m\u001b[1;32m     13 \u001b[1;33m    \u001b[1;32mfor\u001b[0m \u001b[0mrotated\u001b[0m \u001b[1;32min\u001b[0m \u001b[0mrotates\u001b[0m\u001b[1;33m:\u001b[0m\u001b[1;33m\u001b[0m\u001b[1;33m\u001b[0m\u001b[0m\n",
      "\u001b[0m\n",
      "ipdb> s\n",
      "--Call--\n",
      "> \u001b[1;32m<ipython-input-67-83c6cf7217ab>\u001b[0m(2)\u001b[0;36mrotate\u001b[1;34m()\u001b[0m\n",
      "\u001b[1;32m      1 \u001b[1;33m\u001b[1;31m# Solution goes here\u001b[0m\u001b[1;33m\u001b[0m\u001b[1;33m\u001b[0m\u001b[1;33m\u001b[0m\u001b[0m\n",
      "\u001b[0m\u001b[1;32m----> 2 \u001b[1;33m\u001b[1;32mdef\u001b[0m \u001b[0mrotate\u001b[0m\u001b[1;33m(\u001b[0m\u001b[0ms\u001b[0m\u001b[1;33m)\u001b[0m\u001b[1;33m:\u001b[0m\u001b[1;33m\u001b[0m\u001b[1;33m\u001b[0m\u001b[0m\n",
      "\u001b[0m\u001b[1;32m      3 \u001b[1;33m    \u001b[0mrotated\u001b[0m \u001b[1;33m=\u001b[0m \u001b[0ms\u001b[0m\u001b[1;33m[\u001b[0m\u001b[1;36m1\u001b[0m\u001b[1;33m:\u001b[0m\u001b[1;33m]\u001b[0m \u001b[1;33m+\u001b[0m \u001b[0ms\u001b[0m\u001b[1;33m[\u001b[0m\u001b[1;36m0\u001b[0m\u001b[1;33m]\u001b[0m\u001b[1;33m\u001b[0m\u001b[1;33m\u001b[0m\u001b[0m\n",
      "\u001b[0m\u001b[1;32m      4 \u001b[1;33m    \u001b[1;32mreturn\u001b[0m \u001b[0mrotated\u001b[0m\u001b[1;33m\u001b[0m\u001b[1;33m\u001b[0m\u001b[0m\n",
      "\u001b[0m\u001b[1;32m      5 \u001b[1;33m\u001b[1;33m\u001b[0m\u001b[0m\n",
      "\u001b[0m\n",
      "ipdb> u\n",
      "> \u001b[1;32m<ipython-input-67-83c6cf7217ab>\u001b[0m(11)\u001b[0;36mall_rotates\u001b[1;34m()\u001b[0m\n",
      "\u001b[1;32m      9 \u001b[1;33m    \u001b[1;32mfor\u001b[0m \u001b[0mi\u001b[0m \u001b[1;32min\u001b[0m \u001b[0mrange\u001b[0m\u001b[1;33m(\u001b[0m\u001b[0mlen\u001b[0m\u001b[1;33m(\u001b[0m\u001b[0ms\u001b[0m\u001b[1;33m)\u001b[0m\u001b[1;33m)\u001b[0m\u001b[1;33m:\u001b[0m\u001b[1;33m\u001b[0m\u001b[1;33m\u001b[0m\u001b[0m\n",
      "\u001b[0m\u001b[1;32m     10 \u001b[1;33m        \u001b[0mrotates\u001b[0m\u001b[1;33m.\u001b[0m\u001b[0mappend\u001b[0m\u001b[1;33m(\u001b[0m\u001b[0ms\u001b[0m\u001b[1;33m)\u001b[0m\u001b[1;33m\u001b[0m\u001b[1;33m\u001b[0m\u001b[0m\n",
      "\u001b[0m\u001b[1;32m---> 11 \u001b[1;33m        \u001b[0ms\u001b[0m \u001b[1;33m=\u001b[0m \u001b[0mrotate\u001b[0m\u001b[1;33m(\u001b[0m\u001b[0ms\u001b[0m\u001b[1;33m)\u001b[0m\u001b[1;33m\u001b[0m\u001b[1;33m\u001b[0m\u001b[0m\n",
      "\u001b[0m\u001b[1;32m     12 \u001b[1;33m\u001b[1;33m\u001b[0m\u001b[0m\n",
      "\u001b[0m\u001b[1;32m     13 \u001b[1;33m    \u001b[1;32mfor\u001b[0m \u001b[0mrotated\u001b[0m \u001b[1;32min\u001b[0m \u001b[0mrotates\u001b[0m\u001b[1;33m:\u001b[0m\u001b[1;33m\u001b[0m\u001b[1;33m\u001b[0m\u001b[0m\n",
      "\u001b[0m\n",
      "ipdb> d\n",
      "> \u001b[1;32m<ipython-input-67-83c6cf7217ab>\u001b[0m(2)\u001b[0;36mrotate\u001b[1;34m()\u001b[0m\n",
      "\u001b[1;32m      1 \u001b[1;33m\u001b[1;31m# Solution goes here\u001b[0m\u001b[1;33m\u001b[0m\u001b[1;33m\u001b[0m\u001b[1;33m\u001b[0m\u001b[0m\n",
      "\u001b[0m\u001b[1;32m----> 2 \u001b[1;33m\u001b[1;32mdef\u001b[0m \u001b[0mrotate\u001b[0m\u001b[1;33m(\u001b[0m\u001b[0ms\u001b[0m\u001b[1;33m)\u001b[0m\u001b[1;33m:\u001b[0m\u001b[1;33m\u001b[0m\u001b[1;33m\u001b[0m\u001b[0m\n",
      "\u001b[0m\u001b[1;32m      3 \u001b[1;33m    \u001b[0mrotated\u001b[0m \u001b[1;33m=\u001b[0m \u001b[0ms\u001b[0m\u001b[1;33m[\u001b[0m\u001b[1;36m1\u001b[0m\u001b[1;33m:\u001b[0m\u001b[1;33m]\u001b[0m \u001b[1;33m+\u001b[0m \u001b[0ms\u001b[0m\u001b[1;33m[\u001b[0m\u001b[1;36m0\u001b[0m\u001b[1;33m]\u001b[0m\u001b[1;33m\u001b[0m\u001b[1;33m\u001b[0m\u001b[0m\n",
      "\u001b[0m\u001b[1;32m      4 \u001b[1;33m    \u001b[1;32mreturn\u001b[0m \u001b[0mrotated\u001b[0m\u001b[1;33m\u001b[0m\u001b[1;33m\u001b[0m\u001b[0m\n",
      "\u001b[0m\u001b[1;32m      5 \u001b[1;33m\u001b[1;33m\u001b[0m\u001b[0m\n",
      "\u001b[0m\n",
      "ipdb> n\n",
      "> \u001b[1;32m<ipython-input-67-83c6cf7217ab>\u001b[0m(3)\u001b[0;36mrotate\u001b[1;34m()\u001b[0m\n",
      "\u001b[1;32m      1 \u001b[1;33m\u001b[1;31m# Solution goes here\u001b[0m\u001b[1;33m\u001b[0m\u001b[1;33m\u001b[0m\u001b[1;33m\u001b[0m\u001b[0m\n",
      "\u001b[0m\u001b[1;32m      2 \u001b[1;33m\u001b[1;32mdef\u001b[0m \u001b[0mrotate\u001b[0m\u001b[1;33m(\u001b[0m\u001b[0ms\u001b[0m\u001b[1;33m)\u001b[0m\u001b[1;33m:\u001b[0m\u001b[1;33m\u001b[0m\u001b[1;33m\u001b[0m\u001b[0m\n",
      "\u001b[0m\u001b[1;32m----> 3 \u001b[1;33m    \u001b[0mrotated\u001b[0m \u001b[1;33m=\u001b[0m \u001b[0ms\u001b[0m\u001b[1;33m[\u001b[0m\u001b[1;36m1\u001b[0m\u001b[1;33m:\u001b[0m\u001b[1;33m]\u001b[0m \u001b[1;33m+\u001b[0m \u001b[0ms\u001b[0m\u001b[1;33m[\u001b[0m\u001b[1;36m0\u001b[0m\u001b[1;33m]\u001b[0m\u001b[1;33m\u001b[0m\u001b[1;33m\u001b[0m\u001b[0m\n",
      "\u001b[0m\u001b[1;32m      4 \u001b[1;33m    \u001b[1;32mreturn\u001b[0m \u001b[0mrotated\u001b[0m\u001b[1;33m\u001b[0m\u001b[1;33m\u001b[0m\u001b[0m\n",
      "\u001b[0m\u001b[1;32m      5 \u001b[1;33m\u001b[1;33m\u001b[0m\u001b[0m\n",
      "\u001b[0m\n",
      "ipdb> n\n",
      "> \u001b[1;32m<ipython-input-67-83c6cf7217ab>\u001b[0m(4)\u001b[0;36mrotate\u001b[1;34m()\u001b[0m\n",
      "\u001b[1;32m      2 \u001b[1;33m\u001b[1;32mdef\u001b[0m \u001b[0mrotate\u001b[0m\u001b[1;33m(\u001b[0m\u001b[0ms\u001b[0m\u001b[1;33m)\u001b[0m\u001b[1;33m:\u001b[0m\u001b[1;33m\u001b[0m\u001b[1;33m\u001b[0m\u001b[0m\n",
      "\u001b[0m\u001b[1;32m      3 \u001b[1;33m    \u001b[0mrotated\u001b[0m \u001b[1;33m=\u001b[0m \u001b[0ms\u001b[0m\u001b[1;33m[\u001b[0m\u001b[1;36m1\u001b[0m\u001b[1;33m:\u001b[0m\u001b[1;33m]\u001b[0m \u001b[1;33m+\u001b[0m \u001b[0ms\u001b[0m\u001b[1;33m[\u001b[0m\u001b[1;36m0\u001b[0m\u001b[1;33m]\u001b[0m\u001b[1;33m\u001b[0m\u001b[1;33m\u001b[0m\u001b[0m\n",
      "\u001b[0m\u001b[1;32m----> 4 \u001b[1;33m    \u001b[1;32mreturn\u001b[0m \u001b[0mrotated\u001b[0m\u001b[1;33m\u001b[0m\u001b[1;33m\u001b[0m\u001b[0m\n",
      "\u001b[0m\u001b[1;32m      5 \u001b[1;33m\u001b[1;33m\u001b[0m\u001b[0m\n",
      "\u001b[0m\u001b[1;32m      6 \u001b[1;33m\u001b[1;32mdef\u001b[0m \u001b[0mall_rotates\u001b[0m\u001b[1;33m(\u001b[0m\u001b[0ms\u001b[0m\u001b[1;33m)\u001b[0m\u001b[1;33m:\u001b[0m\u001b[1;33m\u001b[0m\u001b[1;33m\u001b[0m\u001b[0m\n",
      "\u001b[0m\n",
      "ipdb> n\n",
      "--Return--\n",
      "'teels'\n",
      "> \u001b[1;32m<ipython-input-67-83c6cf7217ab>\u001b[0m(4)\u001b[0;36mrotate\u001b[1;34m()\u001b[0m\n",
      "\u001b[1;32m      2 \u001b[1;33m\u001b[1;32mdef\u001b[0m \u001b[0mrotate\u001b[0m\u001b[1;33m(\u001b[0m\u001b[0ms\u001b[0m\u001b[1;33m)\u001b[0m\u001b[1;33m:\u001b[0m\u001b[1;33m\u001b[0m\u001b[1;33m\u001b[0m\u001b[0m\n",
      "\u001b[0m\u001b[1;32m      3 \u001b[1;33m    \u001b[0mrotated\u001b[0m \u001b[1;33m=\u001b[0m \u001b[0ms\u001b[0m\u001b[1;33m[\u001b[0m\u001b[1;36m1\u001b[0m\u001b[1;33m:\u001b[0m\u001b[1;33m]\u001b[0m \u001b[1;33m+\u001b[0m \u001b[0ms\u001b[0m\u001b[1;33m[\u001b[0m\u001b[1;36m0\u001b[0m\u001b[1;33m]\u001b[0m\u001b[1;33m\u001b[0m\u001b[1;33m\u001b[0m\u001b[0m\n",
      "\u001b[0m\u001b[1;32m----> 4 \u001b[1;33m    \u001b[1;32mreturn\u001b[0m \u001b[0mrotated\u001b[0m\u001b[1;33m\u001b[0m\u001b[1;33m\u001b[0m\u001b[0m\n",
      "\u001b[0m\u001b[1;32m      5 \u001b[1;33m\u001b[1;33m\u001b[0m\u001b[0m\n",
      "\u001b[0m\u001b[1;32m      6 \u001b[1;33m\u001b[1;32mdef\u001b[0m \u001b[0mall_rotates\u001b[0m\u001b[1;33m(\u001b[0m\u001b[0ms\u001b[0m\u001b[1;33m)\u001b[0m\u001b[1;33m:\u001b[0m\u001b[1;33m\u001b[0m\u001b[1;33m\u001b[0m\u001b[0m\n",
      "\u001b[0m\n",
      "ipdb> n\n",
      "> \u001b[1;32m<ipython-input-67-83c6cf7217ab>\u001b[0m(9)\u001b[0;36mall_rotates\u001b[1;34m()\u001b[0m\n",
      "\u001b[1;32m      7 \u001b[1;33m    \u001b[0mset_trace\u001b[0m\u001b[1;33m(\u001b[0m\u001b[1;33m)\u001b[0m\u001b[1;33m\u001b[0m\u001b[1;33m\u001b[0m\u001b[0m\n",
      "\u001b[0m\u001b[1;32m      8 \u001b[1;33m    \u001b[0mrotates\u001b[0m \u001b[1;33m=\u001b[0m \u001b[1;33m[\u001b[0m\u001b[1;33m]\u001b[0m\u001b[1;33m\u001b[0m\u001b[1;33m\u001b[0m\u001b[0m\n",
      "\u001b[0m\u001b[1;32m----> 9 \u001b[1;33m    \u001b[1;32mfor\u001b[0m \u001b[0mi\u001b[0m \u001b[1;32min\u001b[0m \u001b[0mrange\u001b[0m\u001b[1;33m(\u001b[0m\u001b[0mlen\u001b[0m\u001b[1;33m(\u001b[0m\u001b[0ms\u001b[0m\u001b[1;33m)\u001b[0m\u001b[1;33m)\u001b[0m\u001b[1;33m:\u001b[0m\u001b[1;33m\u001b[0m\u001b[1;33m\u001b[0m\u001b[0m\n",
      "\u001b[0m\u001b[1;32m     10 \u001b[1;33m        \u001b[0mrotates\u001b[0m\u001b[1;33m.\u001b[0m\u001b[0mappend\u001b[0m\u001b[1;33m(\u001b[0m\u001b[0ms\u001b[0m\u001b[1;33m)\u001b[0m\u001b[1;33m\u001b[0m\u001b[1;33m\u001b[0m\u001b[0m\n",
      "\u001b[0m\u001b[1;32m     11 \u001b[1;33m        \u001b[0ms\u001b[0m \u001b[1;33m=\u001b[0m \u001b[0mrotate\u001b[0m\u001b[1;33m(\u001b[0m\u001b[0ms\u001b[0m\u001b[1;33m)\u001b[0m\u001b[1;33m\u001b[0m\u001b[1;33m\u001b[0m\u001b[0m\n",
      "\u001b[0m\n"
     ]
    },
    {
     "name": "stdout",
     "output_type": "stream",
     "text": [
      "ipdb> n\n",
      "> \u001b[1;32m<ipython-input-67-83c6cf7217ab>\u001b[0m(10)\u001b[0;36mall_rotates\u001b[1;34m()\u001b[0m\n",
      "\u001b[1;32m      8 \u001b[1;33m    \u001b[0mrotates\u001b[0m \u001b[1;33m=\u001b[0m \u001b[1;33m[\u001b[0m\u001b[1;33m]\u001b[0m\u001b[1;33m\u001b[0m\u001b[1;33m\u001b[0m\u001b[0m\n",
      "\u001b[0m\u001b[1;32m      9 \u001b[1;33m    \u001b[1;32mfor\u001b[0m \u001b[0mi\u001b[0m \u001b[1;32min\u001b[0m \u001b[0mrange\u001b[0m\u001b[1;33m(\u001b[0m\u001b[0mlen\u001b[0m\u001b[1;33m(\u001b[0m\u001b[0ms\u001b[0m\u001b[1;33m)\u001b[0m\u001b[1;33m)\u001b[0m\u001b[1;33m:\u001b[0m\u001b[1;33m\u001b[0m\u001b[1;33m\u001b[0m\u001b[0m\n",
      "\u001b[0m\u001b[1;32m---> 10 \u001b[1;33m        \u001b[0mrotates\u001b[0m\u001b[1;33m.\u001b[0m\u001b[0mappend\u001b[0m\u001b[1;33m(\u001b[0m\u001b[0ms\u001b[0m\u001b[1;33m)\u001b[0m\u001b[1;33m\u001b[0m\u001b[1;33m\u001b[0m\u001b[0m\n",
      "\u001b[0m\u001b[1;32m     11 \u001b[1;33m        \u001b[0ms\u001b[0m \u001b[1;33m=\u001b[0m \u001b[0mrotate\u001b[0m\u001b[1;33m(\u001b[0m\u001b[0ms\u001b[0m\u001b[1;33m)\u001b[0m\u001b[1;33m\u001b[0m\u001b[1;33m\u001b[0m\u001b[0m\n",
      "\u001b[0m\u001b[1;32m     12 \u001b[1;33m\u001b[1;33m\u001b[0m\u001b[0m\n",
      "\u001b[0m\n",
      "ipdb> n\n",
      "> \u001b[1;32m<ipython-input-67-83c6cf7217ab>\u001b[0m(11)\u001b[0;36mall_rotates\u001b[1;34m()\u001b[0m\n",
      "\u001b[1;32m      9 \u001b[1;33m    \u001b[1;32mfor\u001b[0m \u001b[0mi\u001b[0m \u001b[1;32min\u001b[0m \u001b[0mrange\u001b[0m\u001b[1;33m(\u001b[0m\u001b[0mlen\u001b[0m\u001b[1;33m(\u001b[0m\u001b[0ms\u001b[0m\u001b[1;33m)\u001b[0m\u001b[1;33m)\u001b[0m\u001b[1;33m:\u001b[0m\u001b[1;33m\u001b[0m\u001b[1;33m\u001b[0m\u001b[0m\n",
      "\u001b[0m\u001b[1;32m     10 \u001b[1;33m        \u001b[0mrotates\u001b[0m\u001b[1;33m.\u001b[0m\u001b[0mappend\u001b[0m\u001b[1;33m(\u001b[0m\u001b[0ms\u001b[0m\u001b[1;33m)\u001b[0m\u001b[1;33m\u001b[0m\u001b[1;33m\u001b[0m\u001b[0m\n",
      "\u001b[0m\u001b[1;32m---> 11 \u001b[1;33m        \u001b[0ms\u001b[0m \u001b[1;33m=\u001b[0m \u001b[0mrotate\u001b[0m\u001b[1;33m(\u001b[0m\u001b[0ms\u001b[0m\u001b[1;33m)\u001b[0m\u001b[1;33m\u001b[0m\u001b[1;33m\u001b[0m\u001b[0m\n",
      "\u001b[0m\u001b[1;32m     12 \u001b[1;33m\u001b[1;33m\u001b[0m\u001b[0m\n",
      "\u001b[0m\u001b[1;32m     13 \u001b[1;33m    \u001b[1;32mfor\u001b[0m \u001b[0mrotated\u001b[0m \u001b[1;32min\u001b[0m \u001b[0mrotates\u001b[0m\u001b[1;33m:\u001b[0m\u001b[1;33m\u001b[0m\u001b[1;33m\u001b[0m\u001b[0m\n",
      "\u001b[0m\n",
      "ipdb> n\n",
      "> \u001b[1;32m<ipython-input-67-83c6cf7217ab>\u001b[0m(9)\u001b[0;36mall_rotates\u001b[1;34m()\u001b[0m\n",
      "\u001b[1;32m      7 \u001b[1;33m    \u001b[0mset_trace\u001b[0m\u001b[1;33m(\u001b[0m\u001b[1;33m)\u001b[0m\u001b[1;33m\u001b[0m\u001b[1;33m\u001b[0m\u001b[0m\n",
      "\u001b[0m\u001b[1;32m      8 \u001b[1;33m    \u001b[0mrotates\u001b[0m \u001b[1;33m=\u001b[0m \u001b[1;33m[\u001b[0m\u001b[1;33m]\u001b[0m\u001b[1;33m\u001b[0m\u001b[1;33m\u001b[0m\u001b[0m\n",
      "\u001b[0m\u001b[1;32m----> 9 \u001b[1;33m    \u001b[1;32mfor\u001b[0m \u001b[0mi\u001b[0m \u001b[1;32min\u001b[0m \u001b[0mrange\u001b[0m\u001b[1;33m(\u001b[0m\u001b[0mlen\u001b[0m\u001b[1;33m(\u001b[0m\u001b[0ms\u001b[0m\u001b[1;33m)\u001b[0m\u001b[1;33m)\u001b[0m\u001b[1;33m:\u001b[0m\u001b[1;33m\u001b[0m\u001b[1;33m\u001b[0m\u001b[0m\n",
      "\u001b[0m\u001b[1;32m     10 \u001b[1;33m        \u001b[0mrotates\u001b[0m\u001b[1;33m.\u001b[0m\u001b[0mappend\u001b[0m\u001b[1;33m(\u001b[0m\u001b[0ms\u001b[0m\u001b[1;33m)\u001b[0m\u001b[1;33m\u001b[0m\u001b[1;33m\u001b[0m\u001b[0m\n",
      "\u001b[0m\u001b[1;32m     11 \u001b[1;33m        \u001b[0ms\u001b[0m \u001b[1;33m=\u001b[0m \u001b[0mrotate\u001b[0m\u001b[1;33m(\u001b[0m\u001b[0ms\u001b[0m\u001b[1;33m)\u001b[0m\u001b[1;33m\u001b[0m\u001b[1;33m\u001b[0m\u001b[0m\n",
      "\u001b[0m\n",
      "ipdb> n\n",
      "> \u001b[1;32m<ipython-input-67-83c6cf7217ab>\u001b[0m(10)\u001b[0;36mall_rotates\u001b[1;34m()\u001b[0m\n",
      "\u001b[1;32m      8 \u001b[1;33m    \u001b[0mrotates\u001b[0m \u001b[1;33m=\u001b[0m \u001b[1;33m[\u001b[0m\u001b[1;33m]\u001b[0m\u001b[1;33m\u001b[0m\u001b[1;33m\u001b[0m\u001b[0m\n",
      "\u001b[0m\u001b[1;32m      9 \u001b[1;33m    \u001b[1;32mfor\u001b[0m \u001b[0mi\u001b[0m \u001b[1;32min\u001b[0m \u001b[0mrange\u001b[0m\u001b[1;33m(\u001b[0m\u001b[0mlen\u001b[0m\u001b[1;33m(\u001b[0m\u001b[0ms\u001b[0m\u001b[1;33m)\u001b[0m\u001b[1;33m)\u001b[0m\u001b[1;33m:\u001b[0m\u001b[1;33m\u001b[0m\u001b[1;33m\u001b[0m\u001b[0m\n",
      "\u001b[0m\u001b[1;32m---> 10 \u001b[1;33m        \u001b[0mrotates\u001b[0m\u001b[1;33m.\u001b[0m\u001b[0mappend\u001b[0m\u001b[1;33m(\u001b[0m\u001b[0ms\u001b[0m\u001b[1;33m)\u001b[0m\u001b[1;33m\u001b[0m\u001b[1;33m\u001b[0m\u001b[0m\n",
      "\u001b[0m\u001b[1;32m     11 \u001b[1;33m        \u001b[0ms\u001b[0m \u001b[1;33m=\u001b[0m \u001b[0mrotate\u001b[0m\u001b[1;33m(\u001b[0m\u001b[0ms\u001b[0m\u001b[1;33m)\u001b[0m\u001b[1;33m\u001b[0m\u001b[1;33m\u001b[0m\u001b[0m\n",
      "\u001b[0m\u001b[1;32m     12 \u001b[1;33m\u001b[1;33m\u001b[0m\u001b[0m\n",
      "\u001b[0m\n",
      "ipdb> b 13\n",
      "Breakpoint 1 at <ipython-input-67-83c6cf7217ab>:13\n",
      "ipdb> c\n",
      "> \u001b[1;32m<ipython-input-67-83c6cf7217ab>\u001b[0m(13)\u001b[0;36mall_rotates\u001b[1;34m()\u001b[0m\n",
      "\u001b[1;32m     11 \u001b[1;33m        \u001b[0ms\u001b[0m \u001b[1;33m=\u001b[0m \u001b[0mrotate\u001b[0m\u001b[1;33m(\u001b[0m\u001b[0ms\u001b[0m\u001b[1;33m)\u001b[0m\u001b[1;33m\u001b[0m\u001b[1;33m\u001b[0m\u001b[0m\n",
      "\u001b[0m\u001b[1;32m     12 \u001b[1;33m\u001b[1;33m\u001b[0m\u001b[0m\n",
      "\u001b[0m\u001b[1;31m1\u001b[1;32m--> 13 \u001b[1;33m    \u001b[1;32mfor\u001b[0m \u001b[0mrotated\u001b[0m \u001b[1;32min\u001b[0m \u001b[0mrotates\u001b[0m\u001b[1;33m:\u001b[0m\u001b[1;33m\u001b[0m\u001b[1;33m\u001b[0m\u001b[0m\n",
      "\u001b[0m\u001b[1;32m     14 \u001b[1;33m        \u001b[0mprint\u001b[0m\u001b[1;33m(\u001b[0m\u001b[0mrotated\u001b[0m\u001b[1;33m)\u001b[0m\u001b[1;33m\u001b[0m\u001b[1;33m\u001b[0m\u001b[0m\n",
      "\u001b[0m\u001b[1;32m     15 \u001b[1;33m\u001b[1;33m\u001b[0m\u001b[0m\n",
      "\u001b[0m\n",
      "ipdb> c\n",
      "steel\n",
      "> \u001b[1;32m<ipython-input-67-83c6cf7217ab>\u001b[0m(13)\u001b[0;36mall_rotates\u001b[1;34m()\u001b[0m\n",
      "\u001b[1;32m     11 \u001b[1;33m        \u001b[0ms\u001b[0m \u001b[1;33m=\u001b[0m \u001b[0mrotate\u001b[0m\u001b[1;33m(\u001b[0m\u001b[0ms\u001b[0m\u001b[1;33m)\u001b[0m\u001b[1;33m\u001b[0m\u001b[1;33m\u001b[0m\u001b[0m\n",
      "\u001b[0m\u001b[1;32m     12 \u001b[1;33m\u001b[1;33m\u001b[0m\u001b[0m\n",
      "\u001b[0m\u001b[1;31m1\u001b[1;32m--> 13 \u001b[1;33m    \u001b[1;32mfor\u001b[0m \u001b[0mrotated\u001b[0m \u001b[1;32min\u001b[0m \u001b[0mrotates\u001b[0m\u001b[1;33m:\u001b[0m\u001b[1;33m\u001b[0m\u001b[1;33m\u001b[0m\u001b[0m\n",
      "\u001b[0m\u001b[1;32m     14 \u001b[1;33m        \u001b[0mprint\u001b[0m\u001b[1;33m(\u001b[0m\u001b[0mrotated\u001b[0m\u001b[1;33m)\u001b[0m\u001b[1;33m\u001b[0m\u001b[1;33m\u001b[0m\u001b[0m\n",
      "\u001b[0m\u001b[1;32m     15 \u001b[1;33m\u001b[1;33m\u001b[0m\u001b[0m\n",
      "\u001b[0m\n",
      "ipdb> b 17\n",
      "Breakpoint 2 at <ipython-input-67-83c6cf7217ab>:17\n",
      "ipdb> c\n",
      "teels\n",
      "> \u001b[1;32m<ipython-input-67-83c6cf7217ab>\u001b[0m(13)\u001b[0;36mall_rotates\u001b[1;34m()\u001b[0m\n",
      "\u001b[1;32m     11 \u001b[1;33m        \u001b[0ms\u001b[0m \u001b[1;33m=\u001b[0m \u001b[0mrotate\u001b[0m\u001b[1;33m(\u001b[0m\u001b[0ms\u001b[0m\u001b[1;33m)\u001b[0m\u001b[1;33m\u001b[0m\u001b[1;33m\u001b[0m\u001b[0m\n",
      "\u001b[0m\u001b[1;32m     12 \u001b[1;33m\u001b[1;33m\u001b[0m\u001b[0m\n",
      "\u001b[0m\u001b[1;31m1\u001b[1;32m--> 13 \u001b[1;33m    \u001b[1;32mfor\u001b[0m \u001b[0mrotated\u001b[0m \u001b[1;32min\u001b[0m \u001b[0mrotates\u001b[0m\u001b[1;33m:\u001b[0m\u001b[1;33m\u001b[0m\u001b[1;33m\u001b[0m\u001b[0m\n",
      "\u001b[0m\u001b[1;32m     14 \u001b[1;33m        \u001b[0mprint\u001b[0m\u001b[1;33m(\u001b[0m\u001b[0mrotated\u001b[0m\u001b[1;33m)\u001b[0m\u001b[1;33m\u001b[0m\u001b[1;33m\u001b[0m\u001b[0m\n",
      "\u001b[0m\u001b[1;32m     15 \u001b[1;33m\u001b[1;33m\u001b[0m\u001b[0m\n",
      "\u001b[0m\n",
      "ipdb> c\n",
      "eelst\n",
      "> \u001b[1;32m<ipython-input-67-83c6cf7217ab>\u001b[0m(13)\u001b[0;36mall_rotates\u001b[1;34m()\u001b[0m\n",
      "\u001b[1;32m     11 \u001b[1;33m        \u001b[0ms\u001b[0m \u001b[1;33m=\u001b[0m \u001b[0mrotate\u001b[0m\u001b[1;33m(\u001b[0m\u001b[0ms\u001b[0m\u001b[1;33m)\u001b[0m\u001b[1;33m\u001b[0m\u001b[1;33m\u001b[0m\u001b[0m\n",
      "\u001b[0m\u001b[1;32m     12 \u001b[1;33m\u001b[1;33m\u001b[0m\u001b[0m\n",
      "\u001b[0m\u001b[1;31m1\u001b[1;32m--> 13 \u001b[1;33m    \u001b[1;32mfor\u001b[0m \u001b[0mrotated\u001b[0m \u001b[1;32min\u001b[0m \u001b[0mrotates\u001b[0m\u001b[1;33m:\u001b[0m\u001b[1;33m\u001b[0m\u001b[1;33m\u001b[0m\u001b[0m\n",
      "\u001b[0m\u001b[1;32m     14 \u001b[1;33m        \u001b[0mprint\u001b[0m\u001b[1;33m(\u001b[0m\u001b[0mrotated\u001b[0m\u001b[1;33m)\u001b[0m\u001b[1;33m\u001b[0m\u001b[1;33m\u001b[0m\u001b[0m\n",
      "\u001b[0m\u001b[1;32m     15 \u001b[1;33m\u001b[1;33m\u001b[0m\u001b[0m\n",
      "\u001b[0m\n",
      "ipdb> c 2\n",
      "elste\n",
      "> \u001b[1;32m<ipython-input-67-83c6cf7217ab>\u001b[0m(13)\u001b[0;36mall_rotates\u001b[1;34m()\u001b[0m\n",
      "\u001b[1;32m     11 \u001b[1;33m        \u001b[0ms\u001b[0m \u001b[1;33m=\u001b[0m \u001b[0mrotate\u001b[0m\u001b[1;33m(\u001b[0m\u001b[0ms\u001b[0m\u001b[1;33m)\u001b[0m\u001b[1;33m\u001b[0m\u001b[1;33m\u001b[0m\u001b[0m\n",
      "\u001b[0m\u001b[1;32m     12 \u001b[1;33m\u001b[1;33m\u001b[0m\u001b[0m\n",
      "\u001b[0m\u001b[1;31m1\u001b[1;32m--> 13 \u001b[1;33m    \u001b[1;32mfor\u001b[0m \u001b[0mrotated\u001b[0m \u001b[1;32min\u001b[0m \u001b[0mrotates\u001b[0m\u001b[1;33m:\u001b[0m\u001b[1;33m\u001b[0m\u001b[1;33m\u001b[0m\u001b[0m\n",
      "\u001b[0m\u001b[1;32m     14 \u001b[1;33m        \u001b[0mprint\u001b[0m\u001b[1;33m(\u001b[0m\u001b[0mrotated\u001b[0m\u001b[1;33m)\u001b[0m\u001b[1;33m\u001b[0m\u001b[1;33m\u001b[0m\u001b[0m\n",
      "\u001b[0m\u001b[1;32m     15 \u001b[1;33m\u001b[1;33m\u001b[0m\u001b[0m\n",
      "\u001b[0m\n",
      "ipdb> n\n",
      "> \u001b[1;32m<ipython-input-67-83c6cf7217ab>\u001b[0m(14)\u001b[0;36mall_rotates\u001b[1;34m()\u001b[0m\n",
      "\u001b[1;32m     12 \u001b[1;33m\u001b[1;33m\u001b[0m\u001b[0m\n",
      "\u001b[0m\u001b[1;31m1\u001b[1;32m    13 \u001b[1;33m    \u001b[1;32mfor\u001b[0m \u001b[0mrotated\u001b[0m \u001b[1;32min\u001b[0m \u001b[0mrotates\u001b[0m\u001b[1;33m:\u001b[0m\u001b[1;33m\u001b[0m\u001b[1;33m\u001b[0m\u001b[0m\n",
      "\u001b[0m\u001b[1;32m---> 14 \u001b[1;33m        \u001b[0mprint\u001b[0m\u001b[1;33m(\u001b[0m\u001b[0mrotated\u001b[0m\u001b[1;33m)\u001b[0m\u001b[1;33m\u001b[0m\u001b[1;33m\u001b[0m\u001b[0m\n",
      "\u001b[0m\u001b[1;32m     15 \u001b[1;33m\u001b[1;33m\u001b[0m\u001b[0m\n",
      "\u001b[0m\u001b[1;32m     16 \u001b[1;33m\u001b[1;33m\u001b[0m\u001b[0m\n",
      "\u001b[0m\n",
      "ipdb> n\n",
      "lstee\n",
      "> \u001b[1;32m<ipython-input-67-83c6cf7217ab>\u001b[0m(13)\u001b[0;36mall_rotates\u001b[1;34m()\u001b[0m\n",
      "\u001b[1;32m     11 \u001b[1;33m        \u001b[0ms\u001b[0m \u001b[1;33m=\u001b[0m \u001b[0mrotate\u001b[0m\u001b[1;33m(\u001b[0m\u001b[0ms\u001b[0m\u001b[1;33m)\u001b[0m\u001b[1;33m\u001b[0m\u001b[1;33m\u001b[0m\u001b[0m\n",
      "\u001b[0m\u001b[1;32m     12 \u001b[1;33m\u001b[1;33m\u001b[0m\u001b[0m\n",
      "\u001b[0m\u001b[1;31m1\u001b[1;32m--> 13 \u001b[1;33m    \u001b[1;32mfor\u001b[0m \u001b[0mrotated\u001b[0m \u001b[1;32min\u001b[0m \u001b[0mrotates\u001b[0m\u001b[1;33m:\u001b[0m\u001b[1;33m\u001b[0m\u001b[1;33m\u001b[0m\u001b[0m\n",
      "\u001b[0m\u001b[1;32m     14 \u001b[1;33m        \u001b[0mprint\u001b[0m\u001b[1;33m(\u001b[0m\u001b[0mrotated\u001b[0m\u001b[1;33m)\u001b[0m\u001b[1;33m\u001b[0m\u001b[1;33m\u001b[0m\u001b[0m\n",
      "\u001b[0m\u001b[1;32m     15 \u001b[1;33m\u001b[1;33m\u001b[0m\u001b[0m\n",
      "\u001b[0m\n",
      "ipdb> cl 2\n",
      "Deleted breakpoint 2 at <ipython-input-67-83c6cf7217ab>:17\n",
      "ipdb> cl 1\n",
      "Deleted breakpoint 1 at <ipython-input-67-83c6cf7217ab>:13\n",
      "ipdb> b 17\n",
      "Breakpoint 3 at <ipython-input-67-83c6cf7217ab>:17\n",
      "ipdb> c\n"
     ]
    }
   ],
   "source": [
    "# Solution goes here\n",
    "def rotate(s):\n",
    "    rotated = s[1:] + s[0]\n",
    "    return rotated\n",
    "\n",
    "def all_rotates(s):\n",
    "    set_trace()\n",
    "    rotates = []\n",
    "    for i in range(len(s)):\n",
    "        rotates.append(s)\n",
    "        s = rotate(s)\n",
    "        \n",
    "    for rotated in rotates:\n",
    "        print(rotated)\n",
    "    \n",
    "                  \n",
    "all_rotates(\"steel\")"
   ]
  },
  {
   "cell_type": "markdown",
   "metadata": {},
   "source": [
    "## A.5 Reading logs\n",
    "\n",
    "The code below is supposed to take a string then convert it to [Morse code](https://en.wikipedia.org/wiki/Morse_code). It does this by reading a file containing a Morse code table. There are several bugs, but there are logging messages provided to help you understand what is going on. Use the log messages which are generated to work out what the problems are with this code is and fix the code so it works as described above, and passes the tests. **Do not use the debugger, or add additional logging statements to the code**.\n",
    "\n",
    "<img src=\"imgs/morse_key.jpg\" width=\"30%\">\n",
    "\n",
    "<center>    \n",
    "<i> A Morse key, from the days when keyboards had just the one key. Image: by Brad Wilmot CC-NC-ND </i>\n",
    "</center>"
   ]
  },
  {
   "cell_type": "code",
   "execution_count": 13,
   "metadata": {},
   "outputs": [],
   "source": [
    "def read_table(fname):\n",
    "    morse_table = {}\n",
    "    for letter in \"ABCDEFGHIJKLMNOPQRSTUVWXYZ\":\n",
    "        morse_table[letter] = \"\"\n",
    "    print(\"{n} blank entries in the Morse table\".format(n=len(morse_table)))\n",
    "    fname = \"morse.txt\"\n",
    "    print(\"Reading morse table from file '{fname}'\".format(fname=fname))\n",
    "    with open(fname) as f:\n",
    "        for line in f:\n",
    "            letter, code = line.split(\" \")\n",
    "            morse_table = {letter: code}\n",
    "            print(\"Mapping {letter} to {code}\".format(letter=letter, code=code))\n",
    "\n",
    "    print(\"{n} entries in Morse table after loading\".format(n=len(morse_table)))\n",
    "    print()\n",
    "    return morse_table\n",
    "\n",
    "\n",
    "def convert_to_morse(s):\n",
    "    print()\n",
    "    morse_table = read_table(\"data/morse.txt\")\n",
    "    output = []\n",
    "    for ch in s:\n",
    "        upper_ch = ch.upper()\n",
    "        if upper_ch in morse_table:\n",
    "            print(\"Converting {ch} to {code}\".format(ch=ch, code=morse_table[upper_ch]))\n",
    "            output.append(morse_table[ch.upper()])\n",
    "        else:\n",
    "            output.append(\"   \")\n",
    "        output.append(\" \")\n",
    "    result = \"\".join(s)\n",
    "    print(\"Conversion result is {result}\".format(result=result))\n",
    "    return result"
   ]
  },
  {
   "cell_type": "code",
   "execution_count": 97,
   "metadata": {},
   "outputs": [],
   "source": [
    "# Solution goes here\n",
    "def read_table(fname):\n",
    "    morse_table = {}\n",
    "    for letter in \"ABCDEFGHIJKLMNOPQRSTUVWXYZ\":\n",
    "        morse_table[letter] = \"\"\n",
    "    print(\"{n} blank entries in the Morse table\".format(n=len(morse_table)))\n",
    "    print(\"Reading morse table from file '{fname}'\".format(fname=fname))\n",
    "    with open(fname) as f:\n",
    "        for line in f:\n",
    "            letter, code = line.strip().split(\" \")\n",
    "            morse_table[letter.upper()] = code\n",
    "            print(\"Mapping {letter} to {code}\".format(letter=letter.upper(), code=code))\n",
    "\n",
    "    print(\"{n} entries in Morse table after loading\".format(n=len(morse_table)))\n",
    "    print()\n",
    "    return morse_table\n",
    "\n",
    "\n",
    "def convert_to_morse(s):\n",
    "    print()\n",
    "    morse_table = read_table(\"data/morse.txt\")\n",
    "    output = []\n",
    "    for ch in s:\n",
    "        upper_ch = ch.upper()\n",
    "        if upper_ch in morse_table:\n",
    "            print(\"Converting {ch} to {code}\".format(ch=ch, code=morse_table[upper_ch]))\n",
    "            output.append(morse_table[ch.upper()])\n",
    "        else:\n",
    "            output.append(\"   \")\n",
    "        \n",
    "    result = \" \".join(output)\n",
    "    print(\"Conversion result is {result}\".format(result=result))\n",
    "    return result"
   ]
  },
  {
   "cell_type": "code",
   "execution_count": 98,
   "metadata": {},
   "outputs": [
    {
     "name": "stdout",
     "output_type": "stream",
     "text": [
      "\n",
      "26 blank entries in the Morse table\n",
      "Reading morse table from file 'data/morse.txt'\n",
      "Mapping A to .-\n",
      "Mapping B to -...\n",
      "Mapping C to -.-.\n",
      "Mapping D to -..\n",
      "Mapping E to .\n",
      "Mapping F to ..-.\n",
      "Mapping G to --.\n",
      "Mapping H to ....\n",
      "Mapping I to ..\n",
      "Mapping J to .---\n",
      "Mapping K to -.-\n",
      "Mapping L to .-..\n",
      "Mapping M to --\n",
      "Mapping N to -.\n",
      "Mapping O to ---\n",
      "Mapping P to .--.\n",
      "Mapping Q to --.-\n",
      "Mapping R to .-.\n",
      "Mapping S to ...\n",
      "Mapping T to -\n",
      "Mapping U to ..-\n",
      "Mapping V to ...-\n",
      "Mapping W to .--\n",
      "Mapping X to -..-\n",
      "Mapping Y to -.--\n",
      "Mapping Z to --..\n",
      "26 entries in Morse table after loading\n",
      "\n",
      "Converting s to ...\n",
      "Converting o to ---\n",
      "Converting s to ...\n",
      "Conversion result is ... --- ...\n",
      "\n",
      "26 blank entries in the Morse table\n",
      "Reading morse table from file 'data/morse.txt'\n",
      "Mapping A to .-\n",
      "Mapping B to -...\n",
      "Mapping C to -.-.\n",
      "Mapping D to -..\n",
      "Mapping E to .\n",
      "Mapping F to ..-.\n",
      "Mapping G to --.\n",
      "Mapping H to ....\n",
      "Mapping I to ..\n",
      "Mapping J to .---\n",
      "Mapping K to -.-\n",
      "Mapping L to .-..\n",
      "Mapping M to --\n",
      "Mapping N to -.\n",
      "Mapping O to ---\n",
      "Mapping P to .--.\n",
      "Mapping Q to --.-\n",
      "Mapping R to .-.\n",
      "Mapping S to ...\n",
      "Mapping T to -\n",
      "Mapping U to ..-\n",
      "Mapping V to ...-\n",
      "Mapping W to .--\n",
      "Mapping X to -..-\n",
      "Mapping Y to -.--\n",
      "Mapping Z to --..\n",
      "26 entries in Morse table after loading\n",
      "\n",
      "Converting h to ....\n",
      "Converting e to .\n",
      "Converting l to .-..\n",
      "Converting l to .-..\n",
      "Converting o to ---\n",
      "Converting t to -\n",
      "Converting h to ....\n",
      "Converting e to .\n",
      "Converting r to .-.\n",
      "Converting e to .\n",
      "Conversion result is .... . .-.. .-.. ---     - .... . .-. .\n",
      "\n",
      "26 blank entries in the Morse table\n",
      "Reading morse table from file 'data/morse.txt'\n",
      "Mapping A to .-\n",
      "Mapping B to -...\n",
      "Mapping C to -.-.\n",
      "Mapping D to -..\n",
      "Mapping E to .\n",
      "Mapping F to ..-.\n",
      "Mapping G to --.\n",
      "Mapping H to ....\n",
      "Mapping I to ..\n",
      "Mapping J to .---\n",
      "Mapping K to -.-\n",
      "Mapping L to .-..\n",
      "Mapping M to --\n",
      "Mapping N to -.\n",
      "Mapping O to ---\n",
      "Mapping P to .--.\n",
      "Mapping Q to --.-\n",
      "Mapping R to .-.\n",
      "Mapping S to ...\n",
      "Mapping T to -\n",
      "Mapping U to ..-\n",
      "Mapping V to ...-\n",
      "Mapping W to .--\n",
      "Mapping X to -..-\n",
      "Mapping Y to -.--\n",
      "Mapping Z to --..\n",
      "26 entries in Morse table after loading\n",
      "\n",
      "Converting s to ...\n",
      "Converting p to .--.\n",
      "Converting h to ....\n",
      "Converting i to ..\n",
      "Converting n to -.\n",
      "Converting x to -..-\n",
      "Converting o to ---\n",
      "Converting f to ..-.\n",
      "Converting b to -...\n",
      "Converting l to .-..\n",
      "Converting a to .-\n",
      "Converting c to -.-.\n",
      "Converting k to -.-\n",
      "Converting q to --.-\n",
      "Converting u to ..-\n",
      "Converting a to .-\n",
      "Converting r to .-.\n",
      "Converting t to -\n",
      "Converting z to --..\n",
      "Converting j to .---\n",
      "Converting u to ..-\n",
      "Converting d to -..\n",
      "Converting g to --.\n",
      "Converting e to .\n",
      "Converting m to --\n",
      "Converting y to -.--\n",
      "Converting v to ...-\n",
      "Converting o to ---\n",
      "Converting w to .--\n",
      "Conversion result is ... .--. .... .. -. -..-     --- ..-.     -... .-.. .- -.-. -.-     --.- ..- .- .-. - --..     .--- ..- -.. --. .     -- -.--     ...- --- .--\n"
     ]
    },
    {
     "data": {
      "text/html": [
       " \n",
       "        <div class=\"alert alert-box alert-success\">\n",
       "        <h1> <font color=\"green\"> ✓ Correct </font> </h1>\n",
       "        </div>\n",
       "        "
      ],
      "text/plain": [
       "<IPython.core.display.HTML object>"
      ]
     },
     "metadata": {},
     "output_type": "display_data"
    }
   ],
   "source": [
    "with tick():\n",
    "    assert convert_to_morse('sos')=='... --- ...'\n",
    "    assert convert_to_morse('hello there')=='.... . .-.. .-.. ---     - .... . .-. .'\n",
    "    assert convert_to_morse('sphinx of black quartz judge my vow') == '... .--. .... .. -. -..-     --- ..-.     -... .-.. .- -.-. -.-     --.- ..- .- .-. - --..     .--- ..- -.. --. .     -- -.--     ...- --- .--'"
   ]
  },
  {
   "cell_type": "markdown",
   "metadata": {},
   "source": [
    "<div class=\"alert alert-box alert-danger\">\n",
    "    \n",
    "# Part B is an a separate file -- download from Moodle when available\n",
    "</div>"
   ]
  }
 ],
 "metadata": {
  "kernelspec": {
   "display_name": "Python 3",
   "language": "python",
   "name": "python3"
  },
  "language_info": {
   "codemirror_mode": {
    "name": "ipython",
    "version": 3
   },
   "file_extension": ".py",
   "mimetype": "text/x-python",
   "name": "python",
   "nbconvert_exporter": "python",
   "pygments_lexer": "ipython3",
   "version": "3.7.3"
  },
  "varInspector": {
   "cols": {
    "lenName": 16,
    "lenType": 16,
    "lenVar": 40
   },
   "kernels_config": {
    "python": {
     "delete_cmd_postfix": "",
     "delete_cmd_prefix": "del ",
     "library": "var_list.py",
     "varRefreshCmd": "print(var_dic_list())"
    },
    "r": {
     "delete_cmd_postfix": ") ",
     "delete_cmd_prefix": "rm(",
     "library": "var_list.r",
     "varRefreshCmd": "cat(var_dic_list()) "
    }
   },
   "types_to_exclude": [
    "module",
    "function",
    "builtin_function_or_method",
    "instance",
    "_Feature"
   ],
   "window_display": false
  }
 },
 "nbformat": 4,
 "nbformat_minor": 2
}
