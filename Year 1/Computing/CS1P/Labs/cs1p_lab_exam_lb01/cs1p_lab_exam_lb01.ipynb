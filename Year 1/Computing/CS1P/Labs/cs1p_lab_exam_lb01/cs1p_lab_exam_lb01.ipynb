{
 "cells": [
  {
   "cell_type": "markdown",
   "metadata": {},
   "source": [
    "## CS1P Lab Exam 1 \n",
    "### Exam problem"
   ]
  },
  {
   "cell_type": "markdown",
   "metadata": {},
   "source": [
    "<div class=\"alert alert-box alert-danger\">\n",
    "    \n",
    "You must not import *any* libraries in this code except those already imported for you. \n",
    "You may only use concepts and programming constructs from the CS1P course.\n",
    "\n",
    "</div>"
   ]
  },
  {
   "cell_type": "code",
   "execution_count": 1,
   "metadata": {},
   "outputs": [],
   "source": [
    "# these are the only permitted imports\n",
    "from show_curve import show_curve, show_many_curves\n",
    "import math, random "
   ]
  },
  {
   "cell_type": "markdown",
   "metadata": {},
   "source": [
    "## Problem\n",
    "\n",
    "You are asked to make predictions about the weather. You have data recorded in text file (or text files). You are asked to load the data, and create a model that will make simple predictions. \n",
    "\n",
    "\n"
   ]
  },
  {
   "cell_type": "markdown",
   "metadata": {},
   "source": [
    "## 1. Load the data [12 marks]\n",
    "\n",
    "\n",
    "The data you will load is a measurement of environmental data recorded daily over several months in New York. \n",
    "\n",
    "This data includes both an air temperature $T_a$ (in Farenheit) and a wind speed $v$ (in MPH). There is a standard formula to convert data in these units to **wind chill index** (the subjective sensation of temperature) $T_{wc}$:\n",
    "\n",
    "$$ T_{\\mathrm {wc} }=35.74+0.6215T_{\\mathrm {a} }-35.75v^{0.16}+0.4275T_{\\mathrm {a} }v^{0.16}$$\n",
    "\n",
    "* A temperature of 0F and a wind speed of 0 MPH has wind chill exactly 35.74\n",
    "* A temperature of -50F and a wind speed of 90 MPH has wind chill between -100 and -200\n",
    "* At -50F, *any* increase in wind speed decreases the wind chill index\n",
    "\n",
    "The following code implements a function to compute this *but it is incorrectly implemented*. Correct it **and** test that your version works correctly.\n"
   ]
  },
  {
   "cell_type": "code",
   "execution_count": 88,
   "metadata": {},
   "outputs": [],
   "source": [
    "def wind_chill(t_a, v):\n",
    "    v_pow = v ** 0.16\n",
    "    t_w_c = 35.74 + 0.6215 * t_a - 35.75 * v_pow + 0.4275 * t_a * v_pow\n",
    "    return t_w_c\n",
    "\n",
    "assert wind_chill(0,0) == 35.74\n",
    "\n",
    "inter = wind_chill(-50,90)\n",
    "assert inter <= -100 and inter >= -200\n",
    "\n",
    "for i in range(100):\n",
    "    speed = random.randint(0,10)\n",
    "    add = random.randint(0,10)\n",
    "    assert wind_chill(-50, speed) >= wind_chill(-50, speed + add)"
   ]
  },
  {
   "cell_type": "markdown",
   "metadata": {},
   "source": [
    "To complete part 1, you need to load the data (below), and apply the corrected code that computes the wind_chill to return a sequence of `[day_number, wind_chill]` pairs.\n",
    "\n",
    "### Data loading\n",
    "---"
   ]
  },
  {
   "cell_type": "markdown",
   "metadata": {
    "tags": [
     "data_instruction"
    ]
   },
   "source": [
    "The data you will load is a measurement of environmental data recorded daily over several months in New York. The data you have is formatted as *roughly* as follows:\n",
    "\n",
    "    day;wind;temp\n",
    "    day;wind;temp\n",
    "    day;wind;temp\n",
    "              \n",
    "and so on.\n",
    "         \n",
    "That is,\n",
    "\n",
    "* each line is a delimiter separated set of three numeric values. \n",
    "* these are day, wind speed and temperature\n",
    "\n",
    "**However**; the delimiters are not consistently `;`. Any line might instead use  `,` (comma) `/` (slash) or ` ` space as delimter. Each line always uses the same *delimiters* throughout. The temperatures are given in Rankine (R).\n",
    "\n",
    "    Farenheit = Rankine - 459.67\n",
    "    \n",
    "Unfortunately, the columns for `wind` and `temp` are also randomly swapped around on each row. However, `temp` is always greater than 200 and `wind` is always less than 200.\n",
    "\n",
    "The data is in a file `data/ny_data_delim.txt`. The data starts:\n",
    "\n",
    "    1;30.2;492.67\n",
    "    2 487.67 29.0\n",
    "    3;19.8;485.67\n",
    "    4/22.0/497.67\n",
    "    5/503.67/16.4\n",
    "    6;15.2;493.67\n",
    "    7 494.67 27.8\n",
    "    8/17.4/500.67\n",
    "    \n",
    "The first row tells you that the temperature on day 1 was 492.67 Rankine and the wind speed was 30.2 MPH. On Day 2, the temperature was 487.67 Rankine and the wind speed was 29.0 MPH. Day is *always* the first value and is always a positive integer. You must convert Rankine to Farenheit before computing wind chill.\n",
    "\n"
   ]
  },
  {
   "cell_type": "markdown",
   "metadata": {},
   "source": [
    "* There are exactly 153 sets of measurements in this data.\n",
    "* The wind speed is never negative.\n",
    "* The air temperature is never > 60 degrees Farenheit and the wind chill index is never > 50.\n",
    "* The day numbers are positive and have no fractional part.\n",
    "* The first day has windchill *approximately* 18.915\n",
    "* The last day has windchill *approximately* 19.437"
   ]
  },
  {
   "cell_type": "markdown",
   "metadata": {},
   "source": [
    "You need to load the data, using the *relevant* parts of it, apply this formula to return a sequence of `[day_number, wind_chill]` pairs. These should be returned in order, with the smallest `day_number` first.\n",
    "\n",
    "You must define:\n",
    "* `load_data(fname)` must take a filename and return all of the data loaded from `fname`.\n",
    "* `parse_line(s)` that must parse *one line* of the file.\n",
    "\n",
    "You may define other helper functions as needed."
   ]
  },
  {
   "cell_type": "code",
   "execution_count": 95,
   "metadata": {
    "tags": [
     "data_code"
    ]
   },
   "outputs": [],
   "source": [
    "## Your code here\n",
    "def parse_line(s):\n",
    "    if '/' in s:\n",
    "        dpoint = s.split('/')\n",
    "    elif ';' in s:\n",
    "        dpoint = s.split(';')\n",
    "    elif ',' in s:\n",
    "        dpoint = s.split(',')\n",
    "    elif ' ' in s:\n",
    "        dpoint = s.split(' ')\n",
    "    day = int(dpoint[0])\n",
    "    dpoint[2] = dpoint[2].strip()\n",
    "    point1 = float(dpoint[1].strip())\n",
    "    point2 = float(dpoint[2].strip())\n",
    "    temp_f = float(max(point1, point2)) - 459.67\n",
    "    wind_v = float(min(point1, point2))\n",
    "    assert wind_v > 0\n",
    "    assert temp_f <= 60\n",
    "    chill = wind_chill(temp_f, wind_v)\n",
    "    #print(day, temp_f, wind_v, chill)\n",
    "    return day, chill\n",
    "\n",
    "\n",
    "\n",
    "def load_data(fname):\n",
    "    with open(fname) as f:\n",
    "        lines = f.readlines()\n",
    "    #print(lines)\n",
    "    seq = []\n",
    "    for i in lines:\n",
    "        day, chill = parse_line(i)\n",
    "        seq.append([day, chill])\n",
    "    return seq"
   ]
  },
  {
   "cell_type": "markdown",
   "metadata": {},
   "source": [
    "## 1.T: Validate the data loading [8 marks]\n",
    "\n",
    "Write tests that will validate that this code works correctly using `assert`.  You may assume that the data will always be in the format specified above."
   ]
  },
  {
   "cell_type": "code",
   "execution_count": 96,
   "metadata": {
    "tags": [
     "data_test"
    ]
   },
   "outputs": [
    {
     "name": "stdout",
     "output_type": "stream",
     "text": [
      "[[1, 18.915154942706604], [2, 12.385626838457355], [3, 12.178107606652375], [4, 27.372940582055623], [5, 36.58340367300052], [6, 24.081257195419756], [7, 22.10503689525429], [8, 32.441165407235005], [9, 35.45852290216325], [10, 16.708029707804368], [11, 9.1803714388883], [12, 17.209906929116375], [13, 21.009859454443305], [14, 19.129046649219916], [15, 33.436347182330906], [16, 24.72792208411446], [17, 22.34087716662223], [18, 38.14539857894074], [19, 19.43788508823212], [20, 26.587912419265024], [21, 30.607057629328736], [22, 16.591009253351057], [23, 27.927627489286262], [24, 28.927431494048346], [25, 36.687140481568704], [26, 34.339183209639145], [27, 32.698465059584024], [28, 21.02356630113701], [29, 4.847645918758397], [30, 1.8125601961646485], [31, 6.684533879616097], [32, 4.564763536042054], [33, 10.511331579010196], [34, 23.706242593871274], [35, -3.184516293756495], [36, -4.879999041995308], [37, 6.905976967851602], [38, -0.20638898115968196], [39, -8.536180650755629], [40, -7.756128072837331], [41, -5.6897906422089495], [42, -14.083241023478863], [43, -13.937572181845297], [44, -1.1562653089604193], [45, 5.210740791702129], [46, 4.890283349555707], [47, 9.97660892586809], [48, 23.952930513605168], [49, 22.353991440454408], [50, 12.825338843379207], [51, 8.15959349398694], [52, 4.819731786398208], [53, 4.372651852939235], [54, 5.471329488759906], [55, 6.1870334035030545], [56, 8.323059194232023], [57, 4.260491550006687], [58, 12.162251255617445], [59, 3.5677741005851296], [60, 9.97660892586809], [61, -2.5104545237022027], [62, -5.789505102381426], [63, -4.5286482797676015], [64, 0.847879664276805], [65, -2.1268174613073008], [66, -4.183804740541236], [67, -0.7983259543993508], [68, -10.834848766781969], [69, -15.689792470174432], [70, -16.01894122170125], [71, -10.9819187670702], [72, -0.832243651407861], [73, 14.647914369194798], [74, 4.847645918758397], [75, -7.9747615990158485], [76, 5.615654067627741], [77, -0.35931045553535235], [78, 0.15427797072591787], [79, -4.7513795333356885], [80, -9.458971142751942], [81, -3.0447721442677906], [82, 9.1803714388883], [83, 1.1333260888615513], [84, 0.9227556026439672], [85, -6.229250838857785], [86, -5.218832953185762], [87, -0.832243651407861], [88, -4.005340143082222], [89, -9.622960871171255], [90, -6.905045079373364], [91, -2.828171391676525], [92, 0.847879664276805], [93, -0.35931045553535235], [94, 3.914053905248185], [95, -1.4692134957775753], [96, -7.173368951552254], [97, -5.54608718347442], [98, -9.701024300141883], [99, -12.75072797851664], [100, -10.519476060288783], [101, -11.989779026894645], [102, -14.32476162003266], [103, -4.36728139323837], [104, -4.36728139323837], [105, 0.9227556026439672], [106, 2.4730411588827863], [107, 4.890283349555707], [108, 6.825374240110097], [109, 2.08512855218852], [110, 6.684533879616097], [111, 5.844131580140406], [112, 5.491154986233262], [113, 10.500241929356264], [114, 15.938237269418664], [115, 10.867316699481439], [116, 3.812756228904016], [117, -1.9362893245014607], [118, -6.573022167927537], [119, -10.532325400819438], [120, -20.302115031478223], [121, -20.504975843669882], [122, -21.158998938593808], [123, -18.42439570438412], [124, -13.987427447569152], [125, -16.338359262902056], [126, -18.873935505006596], [127, -17.97685363954286], [128, -8.264002975272305], [129, 1.5850166558383219], [130, 3.1871485663245025], [131, 5.491154986233262], [132, 9.829606100864261], [133, 11.851046649031431], [134, 4.847645918758397], [135, 11.773845539858833], [136, 4.819731786398208], [137, 15.143572128496068], [138, 15.47035734132038], [139, 3.7291246420747832], [140, 22.067670315603433], [141, 8.15959349398694], [142, 18.833347525001635], [143, -1.1562653089604193], [144, 25.286016678361783], [145, 14.289199524387808], [146, 1.488497224602753], [147, 17.4991282711248], [148, 29.151091270987088], [149, 14.631618235701819], [150, 8.661674801801693], [151, 12.067268568747071], [152, 6.968869979490247], [153, 19.43788508823212]]\n",
      "18.915154942706604\n"
     ]
    },
    {
     "ename": "AssertionError",
     "evalue": "",
     "output_type": "error",
     "traceback": [
      "\u001b[1;31m---------------------------------------------------------------------------\u001b[0m",
      "\u001b[1;31mAssertionError\u001b[0m                            Traceback (most recent call last)",
      "\u001b[1;32m<ipython-input-96-9dc58a307729>\u001b[0m in \u001b[0;36m<module>\u001b[1;34m\u001b[0m\n\u001b[0;32m     17\u001b[0m \u001b[1;33m\u001b[0m\u001b[0m\n\u001b[0;32m     18\u001b[0m \u001b[1;32massert\u001b[0m \u001b[0mround\u001b[0m\u001b[1;33m(\u001b[0m\u001b[0mdata\u001b[0m\u001b[1;33m[\u001b[0m\u001b[1;36m0\u001b[0m\u001b[1;33m]\u001b[0m\u001b[1;33m[\u001b[0m\u001b[1;36m1\u001b[0m\u001b[1;33m]\u001b[0m\u001b[1;33m,\u001b[0m \u001b[1;36m3\u001b[0m\u001b[1;33m)\u001b[0m \u001b[1;33m==\u001b[0m \u001b[1;36m18.915\u001b[0m\u001b[1;33m\u001b[0m\u001b[1;33m\u001b[0m\u001b[0m\n\u001b[1;32m---> 19\u001b[1;33m \u001b[1;32massert\u001b[0m \u001b[0mround\u001b[0m\u001b[1;33m(\u001b[0m\u001b[0mdata\u001b[0m\u001b[1;33m[\u001b[0m\u001b[1;33m-\u001b[0m\u001b[1;36m1\u001b[0m\u001b[1;33m]\u001b[0m\u001b[1;33m[\u001b[0m\u001b[1;36m1\u001b[0m\u001b[1;33m]\u001b[0m\u001b[1;33m,\u001b[0m \u001b[1;36m3\u001b[0m\u001b[1;33m)\u001b[0m \u001b[1;33m==\u001b[0m \u001b[1;36m19.437\u001b[0m\u001b[1;33m\u001b[0m\u001b[1;33m\u001b[0m\u001b[0m\n\u001b[0m",
      "\u001b[1;31mAssertionError\u001b[0m: "
     ]
    }
   ],
   "source": [
    "assert \"load_data\" in globals(), \"You did not define load_data\"\n",
    "assert \"parse_line\" in globals(), \"You did not define parse_line\"\n",
    "\n",
    "## Your tests here\n",
    "\n",
    "data = load_data('data/ny_data_delim.txt')\n",
    "assert len(data) == 153\n",
    "print(data)\n",
    "\n",
    "for i in data:\n",
    "    day = i[0]\n",
    "    chill = i[1]\n",
    "    assert type(day) == type(1)\n",
    "    assert chill <= 50\n",
    "\n",
    "print(data[0][1])\n",
    "    \n",
    "assert round(data[0][1], 3) == 18.915\n",
    "assert round(data[-1][1], 3) == 19.437"
   ]
  },
  {
   "cell_type": "markdown",
   "metadata": {},
   "source": [
    "## 2. Fit a curve [10 marks]"
   ]
  },
  {
   "cell_type": "markdown",
   "metadata": {
    "tags": [
     "curve_description"
    ]
   },
   "source": [
    "You need to fit a split line curve to this data, i.e. find the curve that comes close to these pairs of values. \n",
    "\n",
    "The equation of a split line curve (a curve with different gradients on each side of a point $x_t$) is: $$y=\\begin{cases}\n",
    "m_1(x - x_t) + c  & \\text{if}\\  x<x_t\\\\\n",
    "m_2(x - x_t) + c  & \\text{if}\\ x\\geq x_t\\\\\n",
    "\\end{cases}$$\n",
    "\n",
    "There are parameters `m1`, `m2`, `c`, `xt`  which we can pack into a  list `[m1,m2,c,xt]`."
   ]
  },
  {
   "cell_type": "markdown",
   "metadata": {},
   "source": [
    "### Curve function\n",
    "Define a function `curve_fn(parameters, x)` that evaluates the curve given a *list of parameters defining the curve shape* (as described above), and an input point `x`. That is, `curve_fn` returns the value `y` given `parameters` and `x`."
   ]
  },
  {
   "cell_type": "code",
   "execution_count": 42,
   "metadata": {
    "tags": [
     "curve_fn"
    ]
   },
   "outputs": [],
   "source": [
    "## Your solution here\n",
    "def curve_fn(parameters, x):\n",
    "    m1 = parameters[0]\n",
    "    m2 = parameters[1]\n",
    "    c = parameters[2]\n",
    "    xt = parameters[3]\n",
    "    if x < xt:\n",
    "        y = m1 * (x - xt) + c\n",
    "    else:\n",
    "        y = m2 * (x - xt) + c\n",
    "    return y"
   ]
  },
  {
   "cell_type": "markdown",
   "metadata": {},
   "source": [
    "### Fitting\n",
    "To fit this curve we need: \n",
    "1. a function to measure how bad a proposed curve fit -- that is the total error for some parameters -- is to some data consisting of x,y measurements;\n",
    "1. a procedure for incrementally adjusting `parameters` so that it is a better fit to some data."
   ]
  },
  {
   "cell_type": "markdown",
   "metadata": {},
   "source": [
    "### Error\n",
    "The badness of a fit (or *error*) for a choice of `parameters` can be measured for any specific data point `x, y` and computing: `error = (y - curve_fn(parameters, x))**2` and the overall error can be computed by summing this across all data points."
   ]
  },
  {
   "cell_type": "markdown",
   "metadata": {},
   "source": [
    "### Adjustment\n",
    "To adjust the fit, implement the following the same procedure as the practice problem, with the modified error computation defined above:\n",
    "* randomly guess an initial value for `parameters`\n",
    "* then, repeat N times\n",
    "    * adjust each element of `parameters` by a small random amount\n",
    "    * compute the error over all data points with this adjusted guess\n",
    "    * if the result is better than the previous best guess (error is smaller)\n",
    "        * make the new adjusted parameters the current best guess \n",
    "        * otherwise, reject (i.e. undo) the small random change to parameters\n",
    "\n",
    "An initial random guess can be produced using `random.uniform(a,b)` which generates a random number between `a` and `b`.  The function `random.gauss(x, s)` returns a random number close to `x` whose range is determined by `s` -- larger `s` makes bigger \"jumps\"."
   ]
  },
  {
   "cell_type": "markdown",
   "metadata": {
    "tags": [
     "curve_bounds"
    ]
   },
   "source": [
    "* **initial range** assume that `m1` and `m2` must start between [-10, 10], `c` must start between `[-50,50]`, and `xt` must be between `[0,365]`.\n",
    "\n",
    "* **guess step** assume that you will adjust estimates of `m1` and `m2` by 0.1; `c` by 0.5; and `xt` by 1.0.\n",
    "    "
   ]
  },
  {
   "cell_type": "markdown",
   "metadata": {},
   "source": [
    "    \n",
    "Write a function `fit_curve(curve_fn, initial_range, guess_step, data, N=10000)` which will fit a curve to data, **taking `curve_fn`** as a parameter, along with the `initial_range` and `guess_step` as lists defined using the settings given above; and `data` in the format returned by `load_data()`, and return the parameters for the fit using `N` update steps.  \n",
    "\n",
    "* If your function works, the error should go down as N increases. \n",
    "* You may wish to separately implement an error function. The computed error is always 0 or positive.\n",
    "* The return value should be a list of parameters the same size as `curve_fn()` expects\n",
    "\n",
    "**Do not call random.seed() in your fit_curve().**"
   ]
  },
  {
   "cell_type": "code",
   "execution_count": null,
   "metadata": {},
   "outputs": [],
   "source": []
  },
  {
   "cell_type": "code",
   "execution_count": 97,
   "metadata": {},
   "outputs": [],
   "source": [
    "## Your code here\n",
    "def get_error(fn, data, parameters):\n",
    "    error = 0\n",
    "    for i in data:\n",
    "        x = i[0] # Day\n",
    "        y = i[1] # Wind chill\n",
    "        error = (y - fn(parameters, x))**2\n",
    "    return error\n",
    "    \n",
    "def fit_curve(curve_fn, initial_range, guess_step, data, N = 10_000):\n",
    "    par_n = len(initial_range)\n",
    "    parameters = []\n",
    "    \n",
    "    for i in range(par_n):\n",
    "        parameters.append(random.uniform(initial_range[i][0], initial_range[i][1]))\n",
    "    \n",
    "    old_err = get_error(curve_fn, data, parameters)\n",
    "    \n",
    "    for i in range(N):\n",
    "        \n",
    "        parameters_temp = []\n",
    "        for i in range(par_n):\n",
    "            parameters_temp.append(random.gauss(parameters[i], guess_step[i]))\n",
    "        \n",
    "        new_err = get_error(curve_fn, data, parameters_temp)\n",
    "\n",
    "        if new_err < old_err:\n",
    "\n",
    "            parameters = parameters_temp.copy()\n",
    "            old_err = new_err\n",
    "            \n",
    "    return parameters"
   ]
  },
  {
   "cell_type": "code",
   "execution_count": 98,
   "metadata": {},
   "outputs": [
    {
     "data": {
      "image/png": "[encoded data removed]",
      "text/plain": [
       "<Figure size 432x288 with 1 Axes>"
      ]
     },
     "metadata": {
      "needs_background": "light"
     },
     "output_type": "display_data"
    }
   ],
   "source": [
    "## To test your fit looks OK, fit the parameters, then call:\n",
    "initial_range = [[-10, 10], [-10, 10], [-50,50], [0,365]]\n",
    "guess_step = [0.1, 0.1, 0.5, 1.0]\n",
    "data = load_data('data/ny_data_delim.txt')\n",
    "parameters = fit_curve(curve_fn, initial_range, guess_step, data, N = 10_000)\n",
    "\n",
    "show_curve(curve_fn, parameters, data)"
   ]
  },
  {
   "cell_type": "markdown",
   "metadata": {},
   "source": [
    "## 2.T Validate the curve fitting [5 marks]\n",
    "\n",
    " Write tests to validate the functions you have written. You should test that the computed error gets smaller if N increases (this will only happen if you test large enough N). Call `random.seed(2019)` at the start of your tests to make sure results are consistent."
   ]
  },
  {
   "cell_type": "code",
   "execution_count": 7,
   "metadata": {},
   "outputs": [],
   "source": [
    "random.seed(2019)"
   ]
  },
  {
   "cell_type": "code",
   "execution_count": 68,
   "metadata": {
    "tags": [
     "curve_tests"
    ]
   },
   "outputs": [],
   "source": [
    "## Your tests here\n",
    "random.seed(2019)\n",
    "\n",
    "parameters_bad = fit_curve(curve_fn, initial_range, guess_step, data, N = 10)\n",
    "for i in range(len(parameters_bad)):\n",
    "    assert parameters_bad[i] <= initial_range[i][1] and parameters_bad[i] >= initial_range[i][0]\n",
    "\n",
    "parameters_good = fit_curve(curve_fn, initial_range, guess_step, data, N = 10_000)\n",
    "\n",
    "assert get_error(curve_fn, data, parameters_bad) > get_error(curve_fn, data, parameters_good)"
   ]
  },
  {
   "cell_type": "markdown",
   "metadata": {},
   "source": [
    "## 3. Curve fitting variant [8 marks]"
   ]
  },
  {
   "cell_type": "markdown",
   "metadata": {},
   "source": [
    "In the following part, you *may* find the following functions to be useful:\n",
    "    \n",
    "* `random.choice(l)` returns a random element of a sequence `l`\n",
    "* `random.shuffle(l)` shuffles (randomly reorders) a list *in-place* (i.e. mutates the list; and returns `None`)\n",
    "* `random.randint(a,b)` returns a random number between `a` and `b`"
   ]
  },
  {
   "cell_type": "markdown",
   "metadata": {},
   "source": [
    "Write a helper function `fit_fn(data, N)` which fits a curve to the data **using the `curve_fn`, and a fixed `initial_range`, and `guess_step` defined given the information above** to a given set of `data` and an iteration count `N` and returns the fitted `parameters`."
   ]
  },
  {
   "cell_type": "code",
   "execution_count": 75,
   "metadata": {},
   "outputs": [],
   "source": [
    "## Your solution here\n",
    "def fit_fn(data, N):\n",
    "    parameters = fit_curve(curve_fn, initial_range, guess_step, data, N)\n",
    "    return parameters"
   ]
  },
  {
   "cell_type": "markdown",
   "metadata": {},
   "source": [
    "Then, write a function `variant_fits` which takes `fit_fn` *as an argument* and implements the following algorithm. You must implement the following algorithm carefully and match the function call signature defined below:"
   ]
  },
  {
   "cell_type": "markdown",
   "metadata": {
    "tags": [
     "variant_instruction"
    ]
   },
   "source": [
    "\n",
    "Take as inputs (i.e. parameters):\n",
    "* `n` (an integer >0)\n",
    "\n",
    "* for `n` iterations\n",
    "    * fit a curve to all data points **excluding exactly one randomly chosen data point** \n",
    "        * (the excluded data point should be different on each iteration)\n",
    "    \n",
    "\n",
    "Your function should have the call signature: `def variant_fits(fit_fn, data, n, N)`\n",
    "\n",
    "* you should always get a number of fits = n"
   ]
  },
  {
   "cell_type": "code",
   "execution_count": 92,
   "metadata": {
    "tags": [
     "variant_code"
    ]
   },
   "outputs": [
    {
     "name": "stdout",
     "output_type": "stream",
     "text": [
      "Help on method_descriptor:\n",
      "\n",
      "remove(self, value, /)\n",
      "    Remove first occurrence of value.\n",
      "    \n",
      "    Raises ValueError if the value is not present.\n",
      "\n"
     ]
    }
   ],
   "source": [
    "## Your code here\n",
    "def variant_fits(fit_fn, data, n, N):\n",
    "    fits = []\n",
    "    data_temp = data.copy()\n",
    "    random.shuffle(data_temp)\n",
    "    \n",
    "    for i in range(n):\n",
    "        data_temp = data_temp.remove(random.choice(data_temp))\n",
    "        parameters = fit_fn(data, N)\n",
    "        fits.append(parameters)\n",
    "        \n",
    "    return fits"
   ]
  },
  {
   "cell_type": "markdown",
   "metadata": {},
   "source": [
    "## 3.T Test the curve fitting variant [3 marks]"
   ]
  },
  {
   "cell_type": "code",
   "execution_count": 84,
   "metadata": {
    "tags": [
     "variant_test"
    ]
   },
   "outputs": [],
   "source": [
    "## Your tests here\n",
    "test = variant_fits(fit_fn, data, n = 10, N = 10)\n",
    "assert len(test) == 10\n",
    "assert type(test) == type([])\n",
    "assert len(test[0]) == 4\n",
    "for i in test:\n",
    "    assert type(i[0]) == type(0.0)\n",
    "    assert type(i[1]) == type(0.0)\n",
    "    assert type(i[2]) == type(0.0)\n",
    "    assert type(i[3]) == type(0.0)"
   ]
  },
  {
   "cell_type": "markdown",
   "metadata": {
    "tags": [
     "variant_apply"
    ]
   },
   "source": [
    "## 4. Apply variant curve fitting  [4 marks]\n",
    "Use the function defined in part 3 on the data you loaded in Part 1. The pre-defined function `show_many_curves(curve_fn, data, fits)` takes:\n",
    "\n",
    "* `curve_fn` a function that computes a curve given one element of `fits`\n",
    "* `data` the data points\n",
    "* `fits` a list of parameters lists representing a curve fit\n",
    "\n",
    "\n",
    "Set `n=100`\n",
    "\n",
    "The result should be lots of overlaid distinct curve segments across the whole dataset, which have some random variation but still fit the data reasonably well."
   ]
  },
  {
   "cell_type": "code",
   "execution_count": 85,
   "metadata": {
    "tags": [
     "variant_apply_code"
    ]
   },
   "outputs": [
    {
     "name": "stdout",
     "output_type": "stream",
     "text": [
      "['1;30.2;492.67\\n', '2 487.67 29.0\\n', '3;19.8;485.67\\n', '4/22.0/497.67\\n', '5/503.67/16.4\\n', '6;15.2;493.67\\n', '7 494.67 27.8\\n', '8/17.4/500.67\\n', '9/498.67/4.799999999999997\\n', '10/27.8/490.67\\n', '11 31.2 485.67\\n', '12,25.6,490.67\\n', '13/493.67/26.6\\n', '14,23.2,491.67\\n', '15,501.67,18.6\\n', '16,495.67,22.0\\n', '17 493.67 21.0\\n', '18 8.200000000000003 502.67\\n', '19/22.0/491.67\\n', '20;25.6;497.67\\n', '21/25.6/500.67\\n', '22;11.799999999999997;486.67\\n', '23,25.6,498.67\\n', '24;498.67;21.0\\n', '25;502.67;11.799999999999997\\n', '26/501.67/15.2\\n', '27/502.67/29.0\\n', '28,21.0,492.67\\n', '29 478.67 15.2\\n', '30;33.6;480.67\\n', '31 483.67 30.2\\n', '32;481.67;27.8\\n', '33;25.6;485.67\\n', '34 492.67 12.799999999999997\\n', '35 475.67 26.6\\n', '36/474.67/27.8\\n', '37/480.67/16.4\\n', '38/477.67/25.6\\n', '39;31.2;472.67\\n', '40;469.67;17.4\\n', '41/472.67/22.0\\n', '42/23.2/466.67\\n', '43/26.6/467.67\\n', '44/477.67/29.0\\n', '45,479.67,17.4\\n', '46,480.67,22.0\\n', '47;482.67;15.2\\n', '48/487.67/3.6000000000000014\\n', '49,494.67,26.6\\n', '50,22.0,486.67\\n', '51 483.67 24.4\\n', '52,32.4,482.67\\n', '53/41.6/483.67\\n', '54 35.8 483.67\\n', '55,483.67,32.4\\n', '56/484.67/29.0\\n', '57/29.0/481.67\\n', '58,486.67,24.4\\n', '59/479.67/22.0\\n', '60;482.67;15.2\\n', '61;476.67;29.0\\n', '62,36.8,475.67\\n', '63 474.67 26.6\\n', '64,478.67,26.6\\n', '65/475.67/23.2\\n', '66,476.67,35.8\\n', '67;23.2;476.67\\n', '68/471.67/34.8\\n', '69/467.67/32.4\\n', '70,33.6,467.67\\n', '71/30.2/470.67\\n', '72,477.67,27.8\\n', '73 16.4 486.67\\n', '74;478.67;15.2\\n', '75;468.67;15.2\\n', '76,16.4,479.67\\n', '77;478.67;31.2\\n', '78,477.67,24.4\\n', '79/32.4/475.67\\n', '80 472.67 34.8\\n', '81/474.67/22.0\\n', '82,485.67,31.2\\n', '83,478.67,25.6\\n', '84/477.67/22.0\\n', '85,473.67,27.8\\n', '86,474.67,29.0\\n', '87,27.8,477.67\\n', '88 21.0 473.67\\n', '89 30.2 471.67\\n', '90/30.2/473.67\\n', '91/30.2/476.67\\n', '92 26.6 478.67\\n', '93/31.2/478.67\\n', '94/478.67/17.4\\n', '95/30.2/477.67\\n', '96;31.2;473.67\\n', '97 30.2 474.67\\n', '98,472.67,35.8\\n', '99;470.67;37.0\\n', '100/469.67/24.4\\n', '101,29.0,469.67\\n', '102 467.67 27.8\\n', '103,473.67,22.0\\n', '104,473.67,22.0\\n', '105,477.67,22.0\\n', '106;479.67;25.6\\n', '107 22.0 480.67\\n', '108 482.67 24.4\\n', '109,480.67,32.4\\n', '110,30.2,483.67\\n', '111 481.67 23.2\\n', '112;481.67;24.4\\n', '113,14.0,482.67\\n', '114 487.67 16.4\\n', '115/484.67/19.8\\n', '116/25.6/480.67\\n', '117;38.2;478.67\\n', '118/29.0/473.67\\n', '119/471.67/33.6\\n', '120,25.6,462.67\\n', '121,465.67,40.4\\n', '122/463.67/32.4\\n', '123 32.4 465.67\\n', '124,31.2,468.67\\n', '125 467.67 34.8\\n', '126;466.67;39.4\\n', '127 466.67 35.8\\n', '128/472.67/30.2\\n', '129 14.0 475.67\\n', '130,23.2,479.67\\n', '131;481.67;24.4\\n', '132 484.67 23.2\\n', '133,486.67,25.6\\n', '134;15.2;478.67\\n', '135,483.67,14.0\\n', '136 482.67 32.4\\n', '137 488.67 23.2\\n', '138;22.0;488.67\\n', '139,481.67,31.2\\n', '140;17.4;492.67\\n', '141;24.4;483.67\\n', '142,24.4,491.67\\n', '143;29.0;477.67\\n', '144 19.8 495.67\\n', '145/26.6/488.67\\n', '146 478.67 24.4\\n', '147/24.4/490.67\\n', '148,11.799999999999997,496.67\\n', '149;489.67;31.2\\n', '150;18.6;482.67\\n', '151,484.67,16.4\\n', '152 483.67 29.0\\n', '153;491.67;22.0\\n']\n"
     ]
    },
    {
     "ename": "IndexError",
     "evalue": "list assignment index out of range",
     "output_type": "error",
     "traceback": [
      "\u001b[1;31m---------------------------------------------------------------------------\u001b[0m",
      "\u001b[1;31mIndexError\u001b[0m                                Traceback (most recent call last)",
      "\u001b[1;32m<ipython-input-85-6c524077b748>\u001b[0m in \u001b[0;36m<module>\u001b[1;34m\u001b[0m\n\u001b[0;32m      1\u001b[0m \u001b[1;31m## Your code here\u001b[0m\u001b[1;33m\u001b[0m\u001b[1;33m\u001b[0m\u001b[1;33m\u001b[0m\u001b[0m\n\u001b[0;32m      2\u001b[0m \u001b[0mdata\u001b[0m \u001b[1;33m=\u001b[0m \u001b[0mload_data\u001b[0m\u001b[1;33m(\u001b[0m\u001b[1;34m'data/ny_data_delim.txt'\u001b[0m\u001b[1;33m)\u001b[0m\u001b[1;33m\u001b[0m\u001b[1;33m\u001b[0m\u001b[0m\n\u001b[1;32m----> 3\u001b[1;33m \u001b[0mfits\u001b[0m \u001b[1;33m=\u001b[0m \u001b[0mvariant_fits\u001b[0m\u001b[1;33m(\u001b[0m\u001b[0mfit_fn\u001b[0m\u001b[1;33m,\u001b[0m \u001b[0mdata\u001b[0m\u001b[1;33m,\u001b[0m \u001b[0mn\u001b[0m \u001b[1;33m=\u001b[0m \u001b[1;36m100\u001b[0m\u001b[1;33m,\u001b[0m \u001b[0mN\u001b[0m \u001b[1;33m=\u001b[0m \u001b[1;36m10_000\u001b[0m\u001b[1;33m)\u001b[0m\u001b[1;33m\u001b[0m\u001b[1;33m\u001b[0m\u001b[0m\n\u001b[0m\u001b[0;32m      4\u001b[0m \u001b[0mshow_many_curves\u001b[0m\u001b[1;33m(\u001b[0m\u001b[0mcurve_fn\u001b[0m\u001b[1;33m,\u001b[0m \u001b[0mdata\u001b[0m\u001b[1;33m,\u001b[0m \u001b[0mfits\u001b[0m\u001b[1;33m)\u001b[0m\u001b[1;33m\u001b[0m\u001b[1;33m\u001b[0m\u001b[0m\n",
      "\u001b[1;32m<ipython-input-80-ed9a19d4f135>\u001b[0m in \u001b[0;36mvariant_fits\u001b[1;34m(fit_fn, data, n, N)\u001b[0m\n\u001b[0;32m     10\u001b[0m     \u001b[1;32mfor\u001b[0m \u001b[0mi\u001b[0m \u001b[1;32min\u001b[0m \u001b[0mrange\u001b[0m\u001b[1;33m(\u001b[0m\u001b[0mn\u001b[0m\u001b[1;33m)\u001b[0m\u001b[1;33m:\u001b[0m\u001b[1;33m\u001b[0m\u001b[1;33m\u001b[0m\u001b[0m\n\u001b[0;32m     11\u001b[0m         \u001b[0mdata_temp\u001b[0m \u001b[1;33m=\u001b[0m \u001b[0mdata\u001b[0m\u001b[1;33m.\u001b[0m\u001b[0mcopy\u001b[0m\u001b[1;33m(\u001b[0m\u001b[1;33m)\u001b[0m\u001b[1;33m\u001b[0m\u001b[1;33m\u001b[0m\u001b[0m\n\u001b[1;32m---> 12\u001b[1;33m         \u001b[1;32mdel\u001b[0m \u001b[0mdata_temp\u001b[0m\u001b[1;33m[\u001b[0m\u001b[0mexcluded\u001b[0m\u001b[1;33m[\u001b[0m\u001b[0mi\u001b[0m\u001b[1;33m]\u001b[0m \u001b[1;33m+\u001b[0m \u001b[1;36m1\u001b[0m\u001b[1;33m]\u001b[0m\u001b[1;33m\u001b[0m\u001b[1;33m\u001b[0m\u001b[0m\n\u001b[0m\u001b[0;32m     13\u001b[0m         \u001b[0mparameters\u001b[0m \u001b[1;33m=\u001b[0m \u001b[0mfit_fn\u001b[0m\u001b[1;33m(\u001b[0m\u001b[0mdata\u001b[0m\u001b[1;33m,\u001b[0m \u001b[0mN\u001b[0m\u001b[1;33m)\u001b[0m\u001b[1;33m\u001b[0m\u001b[1;33m\u001b[0m\u001b[0m\n\u001b[0;32m     14\u001b[0m         \u001b[0mfits\u001b[0m\u001b[1;33m.\u001b[0m\u001b[0mappend\u001b[0m\u001b[1;33m(\u001b[0m\u001b[0mparameters\u001b[0m\u001b[1;33m)\u001b[0m\u001b[1;33m\u001b[0m\u001b[1;33m\u001b[0m\u001b[0m\n",
      "\u001b[1;31mIndexError\u001b[0m: list assignment index out of range"
     ]
    }
   ],
   "source": [
    "## Your code here\n",
    "data = load_data('data/ny_data_delim.txt')\n",
    "fits = variant_fits(fit_fn, data, n = 100, N = 10_000)\n",
    "show_many_curves(curve_fn, data, fits)"
   ]
  },
  {
   "cell_type": "markdown",
   "metadata": {},
   "source": [
    "<div class=\"alert alert-box alert-danger\">\n",
    "\n",
    "### REMEMBER TO SUBMIT THIS NOTEBOOK ON MOODLE BEFORE LEAVING THE EXAM. \n",
    "Submit *only* the `.ipynb` file\n",
    "</div>"
   ]
  },
  {
   "cell_type": "markdown",
   "metadata": {},
   "source": [
    "---\n",
    "**variant** 1 **master** cs1p_lab_exam_template.ipynb **variants** exam_data_delim.ipynb exam_curve_split.ipynb exam_variant_jackknife.ipynb **date** Sun Dec  1 12:34:08 2019 "
   ]
  }
 ],
 "metadata": {
  "kernelspec": {
   "display_name": "Python 3",
   "language": "python",
   "name": "python3"
  },
  "language_info": {
   "codemirror_mode": {
    "name": "ipython",
    "version": 3
   },
   "file_extension": ".py",
   "mimetype": "text/x-python",
   "name": "python",
   "nbconvert_exporter": "python",
   "pygments_lexer": "ipython3",
   "version": "3.7.3"
  }
 },
 "nbformat": 4,
 "nbformat_minor": 2
}
