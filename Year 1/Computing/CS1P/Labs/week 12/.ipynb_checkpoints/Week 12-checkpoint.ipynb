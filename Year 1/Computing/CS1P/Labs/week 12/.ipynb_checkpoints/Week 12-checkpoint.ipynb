{
 "cells": [
  {
   "cell_type": "code",
   "execution_count": 15,
   "metadata": {},
   "outputs": [
    {
     "name": "stdout",
     "output_type": "stream",
     "text": [
      "[[1, 'a'], [2, 'b'], [3, 'c']]\n",
      "[] join [] --->[]\n",
      "['mux'] join [1] --->[['mux', 1]]\n",
      "([3, 4, 5], [1, 2, 3])\n"
     ]
    }
   ],
   "source": [
    "def join(l1, l2):\n",
    "    return list(zip(l1, l2))\n",
    "def join2(l1, l2):\n",
    "    return [[l1[i], l2[i]] for i in range(len(l1))]\n",
    "\n",
    "print(join2([1,2,3] , [\"a\",\"b\",\"c\"]))\n",
    "\n",
    "# Tests:\n",
    "print('[] join [] --->{test}'.format(test = join2([],[])))\n",
    "print('[\\'mux\\'] join [1] --->{test}'.format(test = join2(['mux'],[1])))\n",
    "\n",
    "def split(l):\n",
    "    l1 = []\n",
    "    l2 = []\n",
    "    for i in l:\n",
    "        l1.append(i[0])\n",
    "        l2.append(i[1])\n",
    "    return l1, l2\n",
    "print(split([[3,1],[4,2],[5,3]]))"
   ]
  },
  {
   "cell_type": "code",
   "execution_count": 16,
   "metadata": {},
   "outputs": [
    {
     "name": "stdout",
     "output_type": "stream",
     "text": [
      "2.56 µs ± 244 ns per loop (mean ± std. dev. of 7 runs, 100000 loops each)\n"
     ]
    }
   ],
   "source": [
    "def split(l):\n",
    "    l1 = []\n",
    "    l2 = []\n",
    "    for i in l:\n",
    "        l1.append(i[0])\n",
    "        l2.append(i[1])\n",
    "    return l1, l2\n",
    "split([[3,1],[4,2],[5,3]])"
   ]
  },
  {
   "cell_type": "code",
   "execution_count": 26,
   "metadata": {},
   "outputs": [
    {
     "name": "stdout",
     "output_type": "stream",
     "text": [
      "[5, 7, 8, 10, 11]\n",
      "[1, 2, 3, 4, 5, 6, 7, 8, 9]\n",
      "[1, 2, 3, 5, 8, 10, 11]\n",
      "[1, 2, 3, 5, 8, 10]\n"
     ]
    }
   ],
   "source": [
    "def shakerSort(l):\n",
    "    for i in range(len(l)//2):\n",
    "        for j in range(len(l)-1):\n",
    "            if l[j] > l[j+1]:\n",
    "                l[j], l[j+1] = l[j+1], l[j]\n",
    "        for k in range(len(l)-2, 0, -1):\n",
    "            if l[k] > l[k+1]:\n",
    "                l[k], l[k+1] = l[k+1], l[k]\n",
    "    return l\n",
    "\n",
    "print(shakerSort([7,5,11,10,8]))\n",
    "mylist1 = [2, 6, 8, 1, 7, 9, 4, 3, 5]\n",
    "mylist2 = [10, 11, 3, 2, 5, 8, 1]\n",
    "mylist3 = [10, 3, 2, 5, 8, 1]\n",
    "print(shakerSort(mylist1))\n",
    "print(shakerSort(mylist2))\n",
    "print(shakerSort(mylist3))"
   ]
  },
  {
   "cell_type": "code",
   "execution_count": 27,
   "metadata": {},
   "outputs": [
    {
     "name": "stdout",
     "output_type": "stream",
     "text": [
      "[1, 2, 3, 4, 5, 6, 7, 8, 9]\n",
      "[1, 2, 3, 5, 8, 10, 11]\n",
      "[1, 2, 3, 5, 8, 10]\n"
     ]
    }
   ],
   "source": [
    "def oddEvenSort(l):\n",
    "    swapped = True\n",
    "    while swapped:\n",
    "        swapped = False\n",
    "        for i in range(1, len(l)-1):\n",
    "            if l[i] > l[i+1]:\n",
    "                l[i], l[i+1] = l[i+1], l[i]\n",
    "                swapped = True\n",
    "        for j in range(len(l)-1):\n",
    "            if l[j] > l[j+1]:\n",
    "                l[j], l[j+1] = l[j+1], l[j]\n",
    "                swapped = True\n",
    "    return l\n",
    "mylist1 = [2, 6, 8, 1, 7, 9, 4, 3, 5]\n",
    "mylist2 = [10, 11, 3, 2, 5, 8, 1]\n",
    "mylist3 = [10, 3, 2, 5, 8, 1]\n",
    "print(oddEvenSort(mylist1))\n",
    "print(oddEvenSort(mylist2))\n",
    "print(oddEvenSort(mylist3))"
   ]
  }
 ],
 "metadata": {
  "kernelspec": {
   "display_name": "Python 3",
   "language": "python",
   "name": "python3"
  },
  "language_info": {
   "codemirror_mode": {
    "name": "ipython",
    "version": 3
   },
   "file_extension": ".py",
   "mimetype": "text/x-python",
   "name": "python",
   "nbconvert_exporter": "python",
   "pygments_lexer": "ipython3",
   "version": "3.7.3"
  }
 },
 "nbformat": 4,
 "nbformat_minor": 2
}
